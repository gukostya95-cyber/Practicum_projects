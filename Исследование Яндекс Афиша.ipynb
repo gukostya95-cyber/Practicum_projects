{
 "cells": [
  {
   "cell_type": "markdown",
   "metadata": {
    "id": "LMuaGIE3lGcr"
   },
   "source": [
    "# Проект: Исследовательский анализ данных и проверка гипотез"
   ]
  },
  {
   "cell_type": "markdown",
   "metadata": {},
   "source": [
    "- Автор: Гуреев Константин Викторович"
   ]
  },
  {
   "cell_type": "markdown",
   "metadata": {},
   "source": [
    "Для цели проекта нужно решить следующие задачи:\n",
    "- Шаг 1: Загрузка данных и знакомство с ними;\n",
    "- Шаг 2: Предобработка данных и подготовка их к исследованию;\n",
    "- Шаг 3: Исследовательский анализ данных;\n",
    "- Шаг 4: Статистический анализ данных;\n",
    "- Шаг 5: Общий вывод и рекомендации."
   ]
  },
  {
   "cell_type": "markdown",
   "metadata": {},
   "source": [
    "# Шаг 1: Загрузка данных и знакомство с ними. "
   ]
  },
  {
   "cell_type": "code",
   "execution_count": 1,
   "metadata": {},
   "outputs": [],
   "source": [
    "# загрузим необходимые библиотеки для работы\n",
    "import pandas as pd\n",
    "import numpy as np\n",
    "import matplotlib.pyplot as plt\n",
    "import seaborn as sns\n",
    "from scipy.stats import ttest_ind"
   ]
  },
  {
   "cell_type": "code",
   "execution_count": 2,
   "metadata": {},
   "outputs": [],
   "source": [
    "# загрузим наши таблицы\n",
    "orders_df = pd.read_csv('https://code.s3.yandex.net/datasets/final_tickets_orders_df.csv')\n",
    "events_df = pd.read_csv('https://code.s3.yandex.net/datasets/final_tickets_events_df.csv')\n",
    "tenge_df = pd.read_csv('https://code.s3.yandex.net/datasets/final_tickets_tenge_df.csv')"
   ]
  },
  {
   "cell_type": "code",
   "execution_count": 3,
   "metadata": {},
   "outputs": [
    {
     "name": "stdout",
     "output_type": "stream",
     "text": [
      "<class 'pandas.core.frame.DataFrame'>\n",
      "RangeIndex: 290849 entries, 0 to 290848\n",
      "Data columns (total 14 columns):\n",
      " #   Column                 Non-Null Count   Dtype  \n",
      "---  ------                 --------------   -----  \n",
      " 0   order_id               290849 non-null  int64  \n",
      " 1   user_id                290849 non-null  object \n",
      " 2   created_dt_msk         290849 non-null  object \n",
      " 3   created_ts_msk         290849 non-null  object \n",
      " 4   event_id               290849 non-null  int64  \n",
      " 5   cinema_circuit         290849 non-null  object \n",
      " 6   age_limit              290849 non-null  int64  \n",
      " 7   currency_code          290849 non-null  object \n",
      " 8   device_type_canonical  290849 non-null  object \n",
      " 9   revenue                290849 non-null  float64\n",
      " 10  service_name           290849 non-null  object \n",
      " 11  tickets_count          290849 non-null  int64  \n",
      " 12  total                  290849 non-null  float64\n",
      " 13  days_since_prev        268909 non-null  float64\n",
      "dtypes: float64(3), int64(4), object(7)\n",
      "memory usage: 31.1+ MB\n"
     ]
    },
    {
     "data": {
      "text/html": [
       "<div>\n",
       "<style scoped>\n",
       "    .dataframe tbody tr th:only-of-type {\n",
       "        vertical-align: middle;\n",
       "    }\n",
       "\n",
       "    .dataframe tbody tr th {\n",
       "        vertical-align: top;\n",
       "    }\n",
       "\n",
       "    .dataframe thead th {\n",
       "        text-align: right;\n",
       "    }\n",
       "</style>\n",
       "<table border=\"1\" class=\"dataframe\">\n",
       "  <thead>\n",
       "    <tr style=\"text-align: right;\">\n",
       "      <th></th>\n",
       "      <th>order_id</th>\n",
       "      <th>user_id</th>\n",
       "      <th>created_dt_msk</th>\n",
       "      <th>created_ts_msk</th>\n",
       "      <th>event_id</th>\n",
       "      <th>cinema_circuit</th>\n",
       "      <th>age_limit</th>\n",
       "      <th>currency_code</th>\n",
       "      <th>device_type_canonical</th>\n",
       "      <th>revenue</th>\n",
       "      <th>service_name</th>\n",
       "      <th>tickets_count</th>\n",
       "      <th>total</th>\n",
       "      <th>days_since_prev</th>\n",
       "    </tr>\n",
       "  </thead>\n",
       "  <tbody>\n",
       "    <tr>\n",
       "      <th>0</th>\n",
       "      <td>4359165</td>\n",
       "      <td>0002849b70a3ce2</td>\n",
       "      <td>2024-08-20</td>\n",
       "      <td>2024-08-20 16:08:03</td>\n",
       "      <td>169230</td>\n",
       "      <td>нет</td>\n",
       "      <td>16</td>\n",
       "      <td>rub</td>\n",
       "      <td>mobile</td>\n",
       "      <td>1521.94</td>\n",
       "      <td>Край билетов</td>\n",
       "      <td>4</td>\n",
       "      <td>10870.99</td>\n",
       "      <td>NaN</td>\n",
       "    </tr>\n",
       "    <tr>\n",
       "      <th>1</th>\n",
       "      <td>7965605</td>\n",
       "      <td>0005ca5e93f2cf4</td>\n",
       "      <td>2024-07-23</td>\n",
       "      <td>2024-07-23 18:36:24</td>\n",
       "      <td>237325</td>\n",
       "      <td>нет</td>\n",
       "      <td>0</td>\n",
       "      <td>rub</td>\n",
       "      <td>mobile</td>\n",
       "      <td>289.45</td>\n",
       "      <td>Мой билет</td>\n",
       "      <td>2</td>\n",
       "      <td>2067.51</td>\n",
       "      <td>NaN</td>\n",
       "    </tr>\n",
       "    <tr>\n",
       "      <th>2</th>\n",
       "      <td>7292370</td>\n",
       "      <td>0005ca5e93f2cf4</td>\n",
       "      <td>2024-10-06</td>\n",
       "      <td>2024-10-06 13:56:02</td>\n",
       "      <td>578454</td>\n",
       "      <td>нет</td>\n",
       "      <td>0</td>\n",
       "      <td>rub</td>\n",
       "      <td>mobile</td>\n",
       "      <td>1258.57</td>\n",
       "      <td>За билетом!</td>\n",
       "      <td>4</td>\n",
       "      <td>13984.16</td>\n",
       "      <td>75.0</td>\n",
       "    </tr>\n",
       "    <tr>\n",
       "      <th>3</th>\n",
       "      <td>1139875</td>\n",
       "      <td>000898990054619</td>\n",
       "      <td>2024-07-13</td>\n",
       "      <td>2024-07-13 19:40:48</td>\n",
       "      <td>387271</td>\n",
       "      <td>нет</td>\n",
       "      <td>0</td>\n",
       "      <td>rub</td>\n",
       "      <td>mobile</td>\n",
       "      <td>8.49</td>\n",
       "      <td>Лови билет!</td>\n",
       "      <td>2</td>\n",
       "      <td>212.28</td>\n",
       "      <td>NaN</td>\n",
       "    </tr>\n",
       "    <tr>\n",
       "      <th>4</th>\n",
       "      <td>972400</td>\n",
       "      <td>000898990054619</td>\n",
       "      <td>2024-10-04</td>\n",
       "      <td>2024-10-04 22:33:15</td>\n",
       "      <td>509453</td>\n",
       "      <td>нет</td>\n",
       "      <td>18</td>\n",
       "      <td>rub</td>\n",
       "      <td>mobile</td>\n",
       "      <td>1390.41</td>\n",
       "      <td>Билеты без проблем</td>\n",
       "      <td>3</td>\n",
       "      <td>10695.43</td>\n",
       "      <td>83.0</td>\n",
       "    </tr>\n",
       "  </tbody>\n",
       "</table>\n",
       "</div>"
      ],
      "text/plain": [
       "   order_id          user_id created_dt_msk       created_ts_msk  event_id  \\\n",
       "0   4359165  0002849b70a3ce2     2024-08-20  2024-08-20 16:08:03    169230   \n",
       "1   7965605  0005ca5e93f2cf4     2024-07-23  2024-07-23 18:36:24    237325   \n",
       "2   7292370  0005ca5e93f2cf4     2024-10-06  2024-10-06 13:56:02    578454   \n",
       "3   1139875  000898990054619     2024-07-13  2024-07-13 19:40:48    387271   \n",
       "4    972400  000898990054619     2024-10-04  2024-10-04 22:33:15    509453   \n",
       "\n",
       "  cinema_circuit  age_limit currency_code device_type_canonical  revenue  \\\n",
       "0            нет         16           rub                mobile  1521.94   \n",
       "1            нет          0           rub                mobile   289.45   \n",
       "2            нет          0           rub                mobile  1258.57   \n",
       "3            нет          0           rub                mobile     8.49   \n",
       "4            нет         18           rub                mobile  1390.41   \n",
       "\n",
       "         service_name  tickets_count     total  days_since_prev  \n",
       "0        Край билетов              4  10870.99              NaN  \n",
       "1           Мой билет              2   2067.51              NaN  \n",
       "2         За билетом!              4  13984.16             75.0  \n",
       "3         Лови билет!              2    212.28              NaN  \n",
       "4  Билеты без проблем              3  10695.43             83.0  "
      ]
     },
     "execution_count": 3,
     "metadata": {},
     "output_type": "execute_result"
    }
   ],
   "source": [
    "# Изучим данные методом info а также первые строки таблиц\n",
    "orders_df.info()\n",
    "orders_df.head()"
   ]
  },
  {
   "cell_type": "code",
   "execution_count": 4,
   "metadata": {},
   "outputs": [
    {
     "name": "stdout",
     "output_type": "stream",
     "text": [
      "<class 'pandas.core.frame.DataFrame'>\n",
      "RangeIndex: 22427 entries, 0 to 22426\n",
      "Data columns (total 11 columns):\n",
      " #   Column                  Non-Null Count  Dtype \n",
      "---  ------                  --------------  ----- \n",
      " 0   event_id                22427 non-null  int64 \n",
      " 1   event_name              22427 non-null  object\n",
      " 2   event_type_description  22427 non-null  object\n",
      " 3   event_type_main         22427 non-null  object\n",
      " 4   organizers              22427 non-null  object\n",
      " 5   region_name             22427 non-null  object\n",
      " 6   city_name               22427 non-null  object\n",
      " 7   city_id                 22427 non-null  int64 \n",
      " 8   venue_id                22427 non-null  int64 \n",
      " 9   venue_name              22427 non-null  object\n",
      " 10  venue_address           22427 non-null  object\n",
      "dtypes: int64(3), object(8)\n",
      "memory usage: 1.9+ MB\n"
     ]
    },
    {
     "data": {
      "text/html": [
       "<div>\n",
       "<style scoped>\n",
       "    .dataframe tbody tr th:only-of-type {\n",
       "        vertical-align: middle;\n",
       "    }\n",
       "\n",
       "    .dataframe tbody tr th {\n",
       "        vertical-align: top;\n",
       "    }\n",
       "\n",
       "    .dataframe thead th {\n",
       "        text-align: right;\n",
       "    }\n",
       "</style>\n",
       "<table border=\"1\" class=\"dataframe\">\n",
       "  <thead>\n",
       "    <tr style=\"text-align: right;\">\n",
       "      <th></th>\n",
       "      <th>event_id</th>\n",
       "      <th>event_name</th>\n",
       "      <th>event_type_description</th>\n",
       "      <th>event_type_main</th>\n",
       "      <th>organizers</th>\n",
       "      <th>region_name</th>\n",
       "      <th>city_name</th>\n",
       "      <th>city_id</th>\n",
       "      <th>venue_id</th>\n",
       "      <th>venue_name</th>\n",
       "      <th>venue_address</th>\n",
       "    </tr>\n",
       "  </thead>\n",
       "  <tbody>\n",
       "    <tr>\n",
       "      <th>0</th>\n",
       "      <td>4436</td>\n",
       "      <td>e4f26fba-da77-4c61-928a-6c3e434d793f</td>\n",
       "      <td>спектакль</td>\n",
       "      <td>театр</td>\n",
       "      <td>№4893</td>\n",
       "      <td>Североярская область</td>\n",
       "      <td>Озёрск</td>\n",
       "      <td>2</td>\n",
       "      <td>1600</td>\n",
       "      <td>Кладбище искусств \"Проблема\" и партнеры</td>\n",
       "      <td>наб. Загородная, д. 785</td>\n",
       "    </tr>\n",
       "    <tr>\n",
       "      <th>1</th>\n",
       "      <td>5785</td>\n",
       "      <td>5cc08a60-fdea-4186-9bb2-bffc3603fb77</td>\n",
       "      <td>спектакль</td>\n",
       "      <td>театр</td>\n",
       "      <td>№1931</td>\n",
       "      <td>Светополянский округ</td>\n",
       "      <td>Глиноград</td>\n",
       "      <td>54</td>\n",
       "      <td>2196</td>\n",
       "      <td>Лекции по искусству \"Свет\" Групп</td>\n",
       "      <td>ул. Ягодная, д. 942</td>\n",
       "    </tr>\n",
       "    <tr>\n",
       "      <th>2</th>\n",
       "      <td>8817</td>\n",
       "      <td>8e379a89-3a10-4811-ba06-ec22ebebe989</td>\n",
       "      <td>спектакль</td>\n",
       "      <td>театр</td>\n",
       "      <td>№4896</td>\n",
       "      <td>Североярская область</td>\n",
       "      <td>Озёрск</td>\n",
       "      <td>2</td>\n",
       "      <td>4043</td>\n",
       "      <td>Кинокомитет \"Золотая\" Инк</td>\n",
       "      <td>ш. Коммуны, д. 92 стр. 6</td>\n",
       "    </tr>\n",
       "    <tr>\n",
       "      <th>3</th>\n",
       "      <td>8849</td>\n",
       "      <td>682e3129-6a32-4952-9d8a-ef7f60d4c247</td>\n",
       "      <td>спектакль</td>\n",
       "      <td>театр</td>\n",
       "      <td>№4960</td>\n",
       "      <td>Каменевский регион</td>\n",
       "      <td>Глиногорск</td>\n",
       "      <td>213</td>\n",
       "      <td>1987</td>\n",
       "      <td>Выставка ремесел \"Свет\" Лтд</td>\n",
       "      <td>пер. Набережный, д. 35</td>\n",
       "    </tr>\n",
       "    <tr>\n",
       "      <th>4</th>\n",
       "      <td>8850</td>\n",
       "      <td>d6e99176-c77f-4af0-9222-07c571f6c624</td>\n",
       "      <td>спектакль</td>\n",
       "      <td>театр</td>\n",
       "      <td>№4770</td>\n",
       "      <td>Лесодальний край</td>\n",
       "      <td>Родниковец</td>\n",
       "      <td>55</td>\n",
       "      <td>4230</td>\n",
       "      <td>Фестивальный проект \"Листья\" Групп</td>\n",
       "      <td>пер. Проезжий, д. 9</td>\n",
       "    </tr>\n",
       "  </tbody>\n",
       "</table>\n",
       "</div>"
      ],
      "text/plain": [
       "   event_id                            event_name event_type_description  \\\n",
       "0      4436  e4f26fba-da77-4c61-928a-6c3e434d793f              спектакль   \n",
       "1      5785  5cc08a60-fdea-4186-9bb2-bffc3603fb77              спектакль   \n",
       "2      8817  8e379a89-3a10-4811-ba06-ec22ebebe989              спектакль   \n",
       "3      8849  682e3129-6a32-4952-9d8a-ef7f60d4c247              спектакль   \n",
       "4      8850  d6e99176-c77f-4af0-9222-07c571f6c624              спектакль   \n",
       "\n",
       "  event_type_main organizers           region_name   city_name  city_id  \\\n",
       "0           театр      №4893  Североярская область      Озёрск        2   \n",
       "1           театр      №1931  Светополянский округ   Глиноград       54   \n",
       "2           театр      №4896  Североярская область      Озёрск        2   \n",
       "3           театр      №4960    Каменевский регион  Глиногорск      213   \n",
       "4           театр      №4770      Лесодальний край  Родниковец       55   \n",
       "\n",
       "   venue_id                               venue_name             venue_address  \n",
       "0      1600  Кладбище искусств \"Проблема\" и партнеры   наб. Загородная, д. 785  \n",
       "1      2196         Лекции по искусству \"Свет\" Групп       ул. Ягодная, д. 942  \n",
       "2      4043                Кинокомитет \"Золотая\" Инк  ш. Коммуны, д. 92 стр. 6  \n",
       "3      1987              Выставка ремесел \"Свет\" Лтд    пер. Набережный, д. 35  \n",
       "4      4230       Фестивальный проект \"Листья\" Групп       пер. Проезжий, д. 9  "
      ]
     },
     "execution_count": 4,
     "metadata": {},
     "output_type": "execute_result"
    }
   ],
   "source": [
    "events_df.info()\n",
    "events_df.head()"
   ]
  },
  {
   "cell_type": "code",
   "execution_count": 5,
   "metadata": {},
   "outputs": [
    {
     "name": "stdout",
     "output_type": "stream",
     "text": [
      "<class 'pandas.core.frame.DataFrame'>\n",
      "RangeIndex: 357 entries, 0 to 356\n",
      "Data columns (total 4 columns):\n",
      " #   Column   Non-Null Count  Dtype  \n",
      "---  ------   --------------  -----  \n",
      " 0   data     357 non-null    object \n",
      " 1   nominal  357 non-null    int64  \n",
      " 2   curs     357 non-null    float64\n",
      " 3   cdx      357 non-null    object \n",
      "dtypes: float64(1), int64(1), object(2)\n",
      "memory usage: 11.3+ KB\n"
     ]
    },
    {
     "data": {
      "text/html": [
       "<div>\n",
       "<style scoped>\n",
       "    .dataframe tbody tr th:only-of-type {\n",
       "        vertical-align: middle;\n",
       "    }\n",
       "\n",
       "    .dataframe tbody tr th {\n",
       "        vertical-align: top;\n",
       "    }\n",
       "\n",
       "    .dataframe thead th {\n",
       "        text-align: right;\n",
       "    }\n",
       "</style>\n",
       "<table border=\"1\" class=\"dataframe\">\n",
       "  <thead>\n",
       "    <tr style=\"text-align: right;\">\n",
       "      <th></th>\n",
       "      <th>data</th>\n",
       "      <th>nominal</th>\n",
       "      <th>curs</th>\n",
       "      <th>cdx</th>\n",
       "    </tr>\n",
       "  </thead>\n",
       "  <tbody>\n",
       "    <tr>\n",
       "      <th>0</th>\n",
       "      <td>2024-01-10</td>\n",
       "      <td>100</td>\n",
       "      <td>19.9391</td>\n",
       "      <td>kzt</td>\n",
       "    </tr>\n",
       "    <tr>\n",
       "      <th>1</th>\n",
       "      <td>2024-01-11</td>\n",
       "      <td>100</td>\n",
       "      <td>19.7255</td>\n",
       "      <td>kzt</td>\n",
       "    </tr>\n",
       "    <tr>\n",
       "      <th>2</th>\n",
       "      <td>2024-01-12</td>\n",
       "      <td>100</td>\n",
       "      <td>19.5839</td>\n",
       "      <td>kzt</td>\n",
       "    </tr>\n",
       "    <tr>\n",
       "      <th>3</th>\n",
       "      <td>2024-01-13</td>\n",
       "      <td>100</td>\n",
       "      <td>19.4501</td>\n",
       "      <td>kzt</td>\n",
       "    </tr>\n",
       "    <tr>\n",
       "      <th>4</th>\n",
       "      <td>2024-01-14</td>\n",
       "      <td>100</td>\n",
       "      <td>19.4501</td>\n",
       "      <td>kzt</td>\n",
       "    </tr>\n",
       "  </tbody>\n",
       "</table>\n",
       "</div>"
      ],
      "text/plain": [
       "         data  nominal     curs  cdx\n",
       "0  2024-01-10      100  19.9391  kzt\n",
       "1  2024-01-11      100  19.7255  kzt\n",
       "2  2024-01-12      100  19.5839  kzt\n",
       "3  2024-01-13      100  19.4501  kzt\n",
       "4  2024-01-14      100  19.4501  kzt"
      ]
     },
     "execution_count": 5,
     "metadata": {},
     "output_type": "execute_result"
    }
   ],
   "source": [
    "tenge_df.info()\n",
    "tenge_df.head()"
   ]
  },
  {
   "cell_type": "markdown",
   "metadata": {},
   "source": [
    "`orders_df` содержит 290849 строк и 11 столбцов. Столбцы хранят информацию в следующих форматах:`float64` - 3, `int64` - 4, `object` - 7. Пропуски есть в столбце `days_since_prev`, что говорит о том, что пользователь делал покупку билетов впервые.\n",
    "\n",
    "`events_df` содержит 22427 строк и 11 столбцов. Столбцы хранят информацию в следующих форматах: `int64` - 3, `object` - 8.\n",
    "\n",
    "`tenge_df` содержит 357 строк и 4 столбцов. Столбцы хранят информацию в следующих форматах:`float64` - 1, `int64` - 1, `object` - 2."
   ]
  },
  {
   "cell_type": "markdown",
   "metadata": {},
   "source": [
    "# Шаг 2:  Предобработка данных и подготовка их к исследованию"
   ]
  },
  {
   "cell_type": "code",
   "execution_count": 6,
   "metadata": {},
   "outputs": [],
   "source": [
    "# для удобства обработки объединим данные в единый датафрейм\n",
    "# Объединяем orders_df и events_df по event_id\n",
    "merged_df = pd.merge(orders_df, events_df, on='event_id', how='inner')\n",
    "\n",
    "# Добавляем данные из tenge_df\n",
    "final_df = pd.merge(merged_df, tenge_df, left_on='created_dt_msk', right_on='data', how='left')\n"
   ]
  },
  {
   "cell_type": "code",
   "execution_count": 7,
   "metadata": {},
   "outputs": [
    {
     "name": "stdout",
     "output_type": "stream",
     "text": [
      "<class 'pandas.core.frame.DataFrame'>\n",
      "Int64Index: 290611 entries, 0 to 290610\n",
      "Data columns (total 28 columns):\n",
      " #   Column                  Non-Null Count   Dtype  \n",
      "---  ------                  --------------   -----  \n",
      " 0   order_id                290611 non-null  int64  \n",
      " 1   user_id                 290611 non-null  object \n",
      " 2   created_dt_msk          290611 non-null  object \n",
      " 3   created_ts_msk          290611 non-null  object \n",
      " 4   event_id                290611 non-null  int64  \n",
      " 5   cinema_circuit          290611 non-null  object \n",
      " 6   age_limit               290611 non-null  int64  \n",
      " 7   currency_code           290611 non-null  object \n",
      " 8   device_type_canonical   290611 non-null  object \n",
      " 9   revenue                 290611 non-null  float64\n",
      " 10  service_name            290611 non-null  object \n",
      " 11  tickets_count           290611 non-null  int64  \n",
      " 12  total                   290611 non-null  float64\n",
      " 13  days_since_prev         268698 non-null  float64\n",
      " 14  event_name              290611 non-null  object \n",
      " 15  event_type_description  290611 non-null  object \n",
      " 16  event_type_main         290611 non-null  object \n",
      " 17  organizers              290611 non-null  object \n",
      " 18  region_name             290611 non-null  object \n",
      " 19  city_name               290611 non-null  object \n",
      " 20  city_id                 290611 non-null  int64  \n",
      " 21  venue_id                290611 non-null  int64  \n",
      " 22  venue_name              290611 non-null  object \n",
      " 23  venue_address           290611 non-null  object \n",
      " 24  data                    290611 non-null  object \n",
      " 25  nominal                 290611 non-null  int64  \n",
      " 26  curs                    290611 non-null  float64\n",
      " 27  cdx                     290611 non-null  object \n",
      "dtypes: float64(4), int64(7), object(17)\n",
      "memory usage: 64.3+ MB\n"
     ]
    }
   ],
   "source": [
    "# посмотрим результат\n",
    "final_df.info()"
   ]
  },
  {
   "cell_type": "code",
   "execution_count": 8,
   "metadata": {},
   "outputs": [
    {
     "name": "stdout",
     "output_type": "stream",
     "text": [
      "Анализ категориальных переменных:\n",
      "\n",
      "Распределение по валюте:\n",
      "rub    285542\n",
      "kzt      5069\n",
      "Name: currency_code, dtype: int64\n",
      "\n",
      "Распределение по типу устройства:\n",
      "mobile     232490\n",
      "desktop     58121\n",
      "Name: device_type_canonical, dtype: int64\n",
      "\n",
      "Распределение по сети кинотеатров:\n",
      "нет           289213\n",
      "Другое          1261\n",
      "КиноСити         122\n",
      "Москино            7\n",
      "Киномакс           7\n",
      "ЦентрФильм         1\n",
      "Name: cinema_circuit, dtype: int64\n",
      "\n",
      "Распределение по билетному оператору:\n",
      "Билеты без проблем        63519\n",
      "Лови билет!               41124\n",
      "Билеты в руки             40343\n",
      "Мой билет                 34839\n",
      "Облачко                   26642\n",
      "Лучшие билеты             17774\n",
      "Весь в билетах            16849\n",
      "Прачечная                 10273\n",
      "Край билетов               6207\n",
      "Тебе билет!                5228\n",
      "Яблоко                     5039\n",
      "Дом культуры               4502\n",
      "За билетом!                2865\n",
      "Городской дом культуры     2733\n",
      "Show_ticket                2200\n",
      "Мир касс                   2167\n",
      "Быстробилет                2003\n",
      "Выступления.ру             1616\n",
      "Восьмёрка                  1118\n",
      "Crazy ticket!               790\n",
      "Росбилет                    539\n",
      "Шоу начинается!             499\n",
      "Быстрый кассир              381\n",
      "Радио ticket                376\n",
      "Телебилет                   321\n",
      "КарандашРУ                  133\n",
      "Реестр                      125\n",
      "Билет по телефону            85\n",
      "Вперёд!                      80\n",
      "Дырокол                      74\n",
      "Кино билет                   67\n",
      "Цвет и билет                 61\n",
      "Тех билет                    22\n",
      "Лимоны                        8\n",
      "Зе Бест!                      5\n",
      "Билеты в интернете            4\n",
      "Name: service_name, dtype: int64\n"
     ]
    }
   ],
   "source": [
    "# Анализ категориальных переменных \n",
    "print(\"Анализ категориальных переменных:\")\n",
    "\n",
    "# Анализ валюты\n",
    "print(\"\\nРаспределение по валюте:\")\n",
    "print(final_df['currency_code'].value_counts(dropna=False))\n",
    "\n",
    "# Анализ устройства\n",
    "print(\"\\nРаспределение по типу устройства:\")\n",
    "print(final_df['device_type_canonical'].value_counts(dropna=False))\n",
    "\n",
    "# Анализ сети кинотеатров\n",
    "print(\"\\nРаспределение по сети кинотеатров:\")\n",
    "print(final_df['cinema_circuit'].value_counts(dropna=False))\n",
    "\n",
    "# Анализ сервиса\n",
    "print(\"\\nРаспределение по билетному оператору:\")\n",
    "print(final_df['service_name'].value_counts(dropna=False))"
   ]
  },
  {
   "cell_type": "code",
   "execution_count": 9,
   "metadata": {
    "scrolled": true
   },
   "outputs": [
    {
     "name": "stdout",
     "output_type": "stream",
     "text": [
      "\n",
      "Распределение по типу мероприятия:\n",
      "концерты    115276\n",
      "театр        67321\n",
      "другое       65867\n",
      "спорт        21911\n",
      "стендап      13393\n",
      "выставки      4854\n",
      "ёлки          1989\n",
      "Name: event_type_main, dtype: int64\n",
      "\n",
      "Распределение по возрастным ограничениям\n",
      "16    78556\n",
      "12    62474\n",
      "0     61487\n",
      "6     52161\n",
      "18    35933\n",
      "Name: age_limit, dtype: int64\n",
      "\n",
      "Распределение по описаниям мероприятий\n",
      "концерт                   112049\n",
      "событие                    58605\n",
      "спектакль                  50592\n",
      "шоу                        13626\n",
      "спорт                      12837\n",
      "мюзикл                      9919\n",
      "спортивное мероприятие      9074\n",
      "балет                       5998\n",
      "выставка                    5876\n",
      "цирковое шоу                5327\n",
      "фестиваль                   4273\n",
      "опера                       1314\n",
      "ёлка                         945\n",
      "музыкальный спектакль        140\n",
      "кукольный спектакль           13\n",
      "экскурсия                      8\n",
      "оперетта                       7\n",
      "подарок                        4\n",
      "снегурочка                     3\n",
      "рок-мюзикл                     1\n",
      "Name: event_type_description, dtype: int64\n"
     ]
    }
   ],
   "source": [
    "# Анализ типов мероприятий\n",
    "print(\"\\nРаспределение по типу мероприятия:\")\n",
    "print(final_df['event_type_main'].value_counts(dropna=False))\n",
    "# Анализ возрастных ограничений\n",
    "print(\"\\nРаспределение по возрастным ограничениям\")\n",
    "print(final_df['age_limit'].value_counts(dropna=False))\n",
    "# Анализ описаний мероприятий \n",
    "print(\"\\nРаспределение по описаниям мероприятий\")\n",
    "print(final_df['event_type_description'].value_counts(dropna=False))"
   ]
  },
  {
   "cell_type": "code",
   "execution_count": 10,
   "metadata": {
    "scrolled": true
   },
   "outputs": [
    {
     "data": {
      "image/png": "[encoded data removed]",
      "text/plain": [
       "<Figure size 1008x720 with 3 Axes>"
      ]
     },
     "metadata": {
      "needs_background": "light"
     },
     "output_type": "display_data"
    }
   ],
   "source": [
    "# Визуализация распределения категориальных переменных\n",
    "plt.figure(figsize=(14, 10))\n",
    "\n",
    "plt.subplot(2, 2, 1)\n",
    "sns.countplot(y=final_df['event_type_main'])\n",
    "plt.title('Распределение типов меропирятий')\n",
    "\n",
    "plt.subplot(2, 2, 2)\n",
    "sns.countplot(y=final_df['age_limit'])\n",
    "plt.title('Распределение по возрастным ограничениям')\n",
    "\n",
    "plt.subplot(2, 2, 3)\n",
    "sns.countplot(y=final_df['event_type_description'])\n",
    "plt.title('Распределение по описаниям мероприятий')\n",
    "\n",
    "plt.tight_layout()\n",
    "plt.show()"
   ]
  },
  {
   "cell_type": "code",
   "execution_count": 11,
   "metadata": {},
   "outputs": [
    {
     "data": {
      "image/png": "[encoded data removed]",
      "text/plain": [
       "<Figure size 1008x720 with 4 Axes>"
      ]
     },
     "metadata": {
      "needs_background": "light"
     },
     "output_type": "display_data"
    }
   ],
   "source": [
    "plt.figure(figsize=(14, 10))\n",
    "\n",
    "plt.subplot(2, 2, 1)\n",
    "sns.countplot(y=final_df['currency_code'])\n",
    "plt.title('Распределение валют')\n",
    "\n",
    "plt.subplot(2, 2, 2)\n",
    "sns.countplot(y=final_df['device_type_canonical'])\n",
    "plt.title('Распределение по устройствам')\n",
    "\n",
    "plt.subplot(2, 2, 3)\n",
    "sns.countplot(y=final_df['cinema_circuit'])\n",
    "plt.title('Распределение по кинотеатрам')\n",
    "\n",
    "plt.subplot(2, 2, 4)\n",
    "sns.countplot(y=final_df['service_name'])\n",
    "plt.title('Распределение по сервисам')\n",
    "\n",
    "plt.tight_layout()\n",
    "plt.show()"
   ]
  },
  {
   "cell_type": "markdown",
   "metadata": {},
   "source": [
    "`сinema_circuit` - в большенстве случаев имеет значение \"нет\" что говорит о не применимости данного критерия. Т. к. данный столбец несет малую ценность для дальнейшего анализа удалим его.\n",
    "\n",
    "В столбцах `currency_code`, `device_type_canonical`, `service_name`, `event_type_main`, `age_limit`, `event_type_description` аномалий не обнаружено\n",
    "\n"
   ]
  },
  {
   "cell_type": "code",
   "execution_count": 12,
   "metadata": {},
   "outputs": [],
   "source": [
    "# Удаляем столбец cinema_circuit\n",
    "final_df = final_df.drop(columns=['cinema_circuit'])\n"
   ]
  },
  {
   "cell_type": "code",
   "execution_count": 13,
   "metadata": {},
   "outputs": [
    {
     "name": "stdout",
     "output_type": "stream",
     "text": [
      "Список оставшихся столбцов после удаления:\n",
      "Index(['order_id', 'user_id', 'created_dt_msk', 'created_ts_msk', 'event_id',\n",
      "       'age_limit', 'currency_code', 'device_type_canonical', 'revenue',\n",
      "       'service_name', 'tickets_count', 'total', 'days_since_prev',\n",
      "       'event_name', 'event_type_description', 'event_type_main', 'organizers',\n",
      "       'region_name', 'city_name', 'city_id', 'venue_id', 'venue_name',\n",
      "       'venue_address', 'data', 'nominal', 'curs', 'cdx'],\n",
      "      dtype='object')\n"
     ]
    }
   ],
   "source": [
    "# Проверяем результат\n",
    "print(\"Список оставшихся столбцов после удаления:\")\n",
    "print(final_df.columns)"
   ]
  },
  {
   "cell_type": "code",
   "execution_count": 14,
   "metadata": {},
   "outputs": [],
   "source": [
    "# Анализ количественных переменных\n",
    "# Разделение по валюте\n",
    "df_rub = final_df[final_df['currency_code'] == 'rub'].copy()\n",
    "df_kzt = final_df[final_df['currency_code'] == 'kzt'].copy()"
   ]
  },
  {
   "cell_type": "code",
   "execution_count": 15,
   "metadata": {
    "scrolled": true
   },
   "outputs": [
    {
     "name": "stdout",
     "output_type": "stream",
     "text": [
      "\n",
      "Статистическая сводка выручки в рублях:\n",
      "count    285542.000000\n",
      "mean        548.013929\n",
      "std         871.750181\n",
      "min         -90.760000\n",
      "25%         114.170000\n",
      "50%         346.630000\n",
      "75%         793.320000\n",
      "max       81174.540000\n",
      "Name: revenue, dtype: float64\n",
      "\n",
      "Статистическая сводка выручки в тенге:\n",
      "count     5069.000000\n",
      "mean      4995.206767\n",
      "std       4916.752776\n",
      "min          0.000000\n",
      "25%        518.100000\n",
      "50%       3698.830000\n",
      "75%       7397.660000\n",
      "max      26425.860000\n",
      "Name: revenue, dtype: float64\n"
     ]
    }
   ],
   "source": [
    "# Анализ выручки\n",
    "print(\"\\nСтатистическая сводка выручки в рублях:\")\n",
    "print(df_rub['revenue'].describe())\n",
    "\n",
    "print(\"\\nСтатистическая сводка выручки в тенге:\")\n",
    "print(df_kzt['revenue'].describe())"
   ]
  },
  {
   "cell_type": "code",
   "execution_count": 16,
   "metadata": {},
   "outputs": [
    {
     "data": {
      "image/png": "[encoded data removed]",
      "text/plain": [
       "<Figure size 1008x432 with 2 Axes>"
      ]
     },
     "metadata": {
      "needs_background": "light"
     },
     "output_type": "display_data"
    }
   ],
   "source": [
    "# Визуализация распределения выручки\n",
    "plt.figure(figsize=(14, 6))\n",
    "\n",
    "plt.subplot(1, 2, 1)\n",
    "sns.histplot(df_rub['revenue'], kde=True)\n",
    "plt.title('Распределение выручки в рублях')\n",
    "plt.xlabel('Выручка')\n",
    "\n",
    "plt.subplot(1, 2, 2)\n",
    "sns.histplot(df_kzt['revenue'], kde=True)\n",
    "plt.title('Распределение выручки в тенге')\n",
    "plt.xlabel('Выручка')\n",
    "\n",
    "plt.show()"
   ]
  },
  {
   "cell_type": "code",
   "execution_count": 17,
   "metadata": {},
   "outputs": [
    {
     "name": "stdout",
     "output_type": "stream",
     "text": [
      "\n",
      "Статистическая сводка количества билетов:\n",
      "count    290611.000000\n",
      "mean          2.754311\n",
      "std           1.170620\n",
      "min           1.000000\n",
      "25%           2.000000\n",
      "50%           3.000000\n",
      "75%           4.000000\n",
      "max          57.000000\n",
      "Name: tickets_count, dtype: float64\n"
     ]
    },
    {
     "data": {
      "image/png": "[encoded data removed]",
      "text/plain": [
       "<Figure size 720x432 with 1 Axes>"
      ]
     },
     "metadata": {
      "needs_background": "light"
     },
     "output_type": "display_data"
    }
   ],
   "source": [
    "# Анализ количества билетов\n",
    "print(\"\\nСтатистическая сводка количества билетов:\")\n",
    "print(final_df['tickets_count'].describe())\n",
    "\n",
    "# Визуализация распределения количества билетов\n",
    "plt.figure(figsize=(10, 6))\n",
    "sns.histplot(final_df['tickets_count'], kde=True)\n",
    "plt.title('Распределение количества билетов')\n",
    "plt.xlabel('Количество билетов')\n",
    "plt.show()"
   ]
  },
  {
   "cell_type": "code",
   "execution_count": 18,
   "metadata": {},
   "outputs": [
    {
     "data": {
      "image/png": "[encoded data removed]",
      "text/plain": [
       "<Figure size 1008x432 with 2 Axes>"
      ]
     },
     "metadata": {
      "needs_background": "light"
     },
     "output_type": "display_data"
    }
   ],
   "source": [
    "# Проверка на выбросы\n",
    "plt.figure(figsize=(14, 6))\n",
    "\n",
    "plt.subplot(1, 2, 1)\n",
    "sns.boxplot(y=df_rub['revenue'])\n",
    "plt.title('Выбросы в выручке (рубли)')\n",
    "\n",
    "plt.subplot(1, 2, 2)\n",
    "sns.boxplot(y=df_kzt['revenue'])\n",
    "plt.title('Выбросы в выручке (тенге)')\n",
    "\n",
    "plt.show()"
   ]
  },
  {
   "cell_type": "markdown",
   "metadata": {},
   "source": [
    "| Показатель          | Рубль           | Тенге            |\n",
    "|---------------------|-----------------|------------------|\n",
    "| **Количество**      | 285 542         | 5 069            |\n",
    "| **Среднее**         | 548.01 руб.     | 4 995.21 тенге   |\n",
    "| **Стандартное откл.**| 871.75 руб.     | 4 916.75 тенге   |\n",
    "| **Минимум**         | -90.76 руб.     | 0 тенге          |\n",
    "| **Медиана**         | 346.63 руб.     | 3 698.83 тенге   |\n",
    "| **Максимум**        | 81 174.54 руб.  | 26 425.86 тенге  |\n",
    "\n",
    "\n",
    "В обоих случаях распределение выручки имеет правостороннюю асимметрию\n",
    "\n",
    "Значительный разброс значений относительно среднего.\n",
    "Применим обработку выбросов с учетом как верхних, так и нижних границ."
   ]
  },
  {
   "cell_type": "code",
   "execution_count": 19,
   "metadata": {},
   "outputs": [],
   "source": [
    "# Расчет процентилей для каждой валюты\n",
    "rub_99_percentile = final_df[final_df['currency_code'] == 'rub']['revenue'].quantile(0.99)\n",
    "rub_1_percentile = final_df[final_df['currency_code'] == 'rub']['revenue'].quantile(0.01)\n",
    "\n",
    "kzt_99_percentile = final_df[final_df['currency_code'] == 'kzt']['revenue'].quantile(0.99)\n",
    "kzt_1_percentile = final_df[final_df['currency_code'] == 'kzt']['revenue'].quantile(0.01)\n",
    "\n",
    "# Создание копий датафреймов\n",
    "df_rub = final_df[final_df['currency_code'] == 'rub'].copy()\n",
    "df_kzt = final_df[final_df['currency_code'] == 'kzt'].copy()\n",
    "\n",
    "# Обработка выбросов с учетом нижней и верхней границы\n",
    "df_rub['revenue'] = df_rub['revenue'].clip(\n",
    "    lower=rub_1_percentile,\n",
    "    upper=rub_99_percentile\n",
    ")\n",
    "\n",
    "df_kzt['revenue'] = df_kzt['revenue'].clip(\n",
    "    lower=kzt_1_percentile,\n",
    "    upper=kzt_99_percentile\n",
    ")"
   ]
  },
  {
   "cell_type": "code",
   "execution_count": 20,
   "metadata": {},
   "outputs": [
    {
     "name": "stdout",
     "output_type": "stream",
     "text": [
      "Статистика после обработки выбросов:\n",
      "                  count         mean          std    min     25%      50%  \\\n",
      "currency_code                                                               \n",
      "kzt              5069.0  4966.740665  4825.207309  90.27  518.10  3698.83   \n",
      "rub            285542.0   531.011828   538.212793   0.00  114.17   346.63   \n",
      "\n",
      "                   75%       max  \n",
      "currency_code                     \n",
      "kzt            7397.66  17617.24  \n",
      "rub             793.32   2570.80  \n"
     ]
    }
   ],
   "source": [
    "# Объединение обработанных датафреймов\n",
    "final_df_cleaned = pd.concat([df_rub, df_kzt], ignore_index=True)\n",
    "\n",
    "# Проверка результатов\n",
    "print(\"Статистика после обработки выбросов:\")\n",
    "print(final_df_cleaned.groupby('currency_code')['revenue'].describe())"
   ]
  },
  {
   "cell_type": "code",
   "execution_count": 21,
   "metadata": {},
   "outputs": [
    {
     "data": {
      "image/png": "[encoded data removed]",
      "text/plain": [
       "<Figure size 864x432 with 2 Axes>"
      ]
     },
     "metadata": {
      "needs_background": "light"
     },
     "output_type": "display_data"
    }
   ],
   "source": [
    "# Дополнительная проверка на выбросы\n",
    "plt.figure(figsize=(12, 6))\n",
    "\n",
    "plt.subplot(1, 2, 1)\n",
    "sns.boxplot(y=final_df_cleaned[final_df_cleaned['currency_code'] == 'rub']['revenue'])\n",
    "plt.title('Выручка в рублях после обработки')\n",
    "\n",
    "plt.subplot(1, 2, 2)\n",
    "sns.boxplot(y=final_df_cleaned[final_df_cleaned['currency_code'] == 'kzt']['revenue'])\n",
    "plt.title('Выручка в тенге после обработки')\n",
    "\n",
    "plt.show()"
   ]
  },
  {
   "cell_type": "markdown",
   "metadata": {},
   "source": [
    "| Показатель           | Рубль (до)      | Рубль (после)   | Тенге (до)      | Тенге (после)   |\n",
    "|---------------------|-----------------|-----------------|-----------------|-----------------|\n",
    "| **Количество**      | 285 542         | 285 542         | 5 069           | 5 069           |\n",
    "| **Среднее**         | 548.01 руб.     | 531.01 руб.     | 4 995.21 тенге  | 4 966.74 тенге  |\n",
    "| **Стандартное откл.**| 871.75 руб.     | 538.21 руб.     | 4 916.75 тенге  | 4 825.21 тенге  |\n",
    "| **Минимум**         | -90.76 руб.     | 0.00 руб.       | 0.00 тенге      | 90.27 тенге     |\n",
    "| **25%**             | 114.17 руб.     | 114.17 руб.     | 518.10 тенге    | 518.10 тенге    |\n",
    "| **Медиана**         | 346.63 руб.     | 346.63 руб.     | 3 698.83 тенге  | 3 698.83 тенге  |\n",
    "| **75%**             | 793.32 руб.     | 793.32 руб.     | 7 397.66 тенге  | 7 397.66 тенге  |\n",
    "| **Максимум**        | 81 174.54 руб.  | 2 570.80 руб.   | 26 425.86 тенге | 17 617.24 тенге |\n",
    "\n",
    "**Изменения после обработки:**\n",
    "\n",
    "**Рубль:**\n",
    "* Среднее снизилось на 17 руб.\n",
    "* Std уменьшился на 333.54 руб.\n",
    "* Исчезли отрицательные значения\n",
    "* Максимум уменьшился на 78 603.74 руб.\n",
    "\n",
    "**Тенге:**\n",
    "* Среднее снизилось на 28.47 тенге\n",
    "* Std уменьшился на 91.54 тенге\n",
    "* Минимум увеличился на 90.27 тенге\n",
    "* Максимум уменьшился на 8 808.62 тенге\n"
   ]
  },
  {
   "cell_type": "code",
   "execution_count": 22,
   "metadata": {},
   "outputs": [
    {
     "name": "stdout",
     "output_type": "stream",
     "text": [
      "Количество явных дубликатов: 0\n",
      "Empty DataFrame\n",
      "Columns: [order_id, user_id, created_dt_msk, created_ts_msk, event_id, age_limit, currency_code, device_type_canonical, revenue, service_name, tickets_count, total, days_since_prev, event_name, event_type_description, event_type_main, organizers, region_name, city_name, city_id, venue_id, venue_name, venue_address, data, nominal, curs, cdx]\n",
      "Index: []\n",
      "\n",
      "[0 rows x 27 columns]\n"
     ]
    }
   ],
   "source": [
    "# проверим явные и не явные дубликаты в данных\n",
    "# Проверка явных дубликатов\n",
    "print(\"Количество явных дубликатов:\", final_df_cleaned.duplicated().sum())\n",
    "\n",
    "# Просмотр дублирующихся строк\n",
    "duplicates = final_df_cleaned[final_df_cleaned.duplicated(keep=False)]\n",
    "print(duplicates.head())"
   ]
  },
  {
   "cell_type": "code",
   "execution_count": 23,
   "metadata": {},
   "outputs": [
    {
     "name": "stdout",
     "output_type": "stream",
     "text": [
      "Количество потенциальных дубликатов: 58\n"
     ]
    }
   ],
   "source": [
    "# Определяем список столбцов для проверки дубликатов (исключаем order_id)\n",
    "check_columns = [\n",
    "    'user_id', 'created_dt_msk', 'created_ts_msk', 'event_id',\n",
    "    'age_limit', 'currency_code', 'device_type_canonical',\n",
    "    'revenue', 'service_name', 'tickets_count', 'total',\n",
    "    'days_since_prev', 'event_name', 'event_type_description',\n",
    "    'event_type_main', 'organizers', 'region_name', 'city_name',\n",
    "    'city_id', 'venue_id', 'venue_name', 'venue_address',\n",
    "    'data', 'nominal', 'curs', 'cdx'\n",
    "]\n",
    "\n",
    "# Находим дубликаты по выбранным столбцам\n",
    "duplicates = final_df_cleaned.duplicated(subset=check_columns, keep=False)\n",
    "\n",
    "# Создаем датафрейм с дубликатами\n",
    "duplicate_records = final_df_cleaned[duplicates]\n",
    "\n",
    "# Анализируем результаты\n",
    "print(f\"Количество потенциальных дубликатов: {len(duplicate_records)}\")"
   ]
  },
  {
   "cell_type": "code",
   "execution_count": 24,
   "metadata": {},
   "outputs": [
    {
     "name": "stdout",
     "output_type": "stream",
     "text": [
      "Примеры дублирующихся записей:\n",
      "               user_id       created_ts_msk  event_id  tickets_count  revenue  \\\n",
      "3838   a0384c26d91e09e  2024-08-24 00:07:14    534657              2   679.21   \n",
      "3839   a0384c26d91e09e  2024-08-24 00:07:14    534657              2   679.21   \n",
      "8912   c7a762e320f0def  2024-06-19 11:07:59    538926              3     0.00   \n",
      "8915   c7a762e320f0def  2024-06-19 11:07:59    538926              3     0.00   \n",
      "46350  7eb4fc207ecc10f  2024-08-23 14:08:19    298035              1   126.84   \n",
      "46353  7eb4fc207ecc10f  2024-08-23 14:08:19    298035              1   126.84   \n",
      "46357  7eb4fc207ecc10f  2024-08-23 14:08:19    298035              1   126.84   \n",
      "76715  8d6c1ff89fac35f  2024-10-31 22:28:57    589624              1    41.83   \n",
      "76771  8d6c1ff89fac35f  2024-10-31 22:28:57    589624              1    41.83   \n",
      "97961  cbe06d8837e87fb  2024-10-01 11:20:05    574431              4   155.99   \n",
      "\n",
      "                                              venue_name  \n",
      "3838                      Школа фотографии \"Золотое\" Инк  \n",
      "3839                      Школа фотографии \"Золотое\" Инк  \n",
      "8912              Креативное пространство \"Вдох\" Лимитед  \n",
      "8915              Креативное пространство \"Вдох\" Лимитед  \n",
      "46350  Клуб исторических реконструкций \"Логос\" и парт...  \n",
      "46353  Клуб исторических реконструкций \"Логос\" и парт...  \n",
      "46357  Клуб исторических реконструкций \"Логос\" и парт...  \n",
      "76715                  Картинная галерея \"Светлячок\" Лтд  \n",
      "76771                  Картинная галерея \"Светлячок\" Лтд  \n",
      "97961           Студия дизайна \"Платформа\" Инкорпорэйтед  \n"
     ]
    }
   ],
   "source": [
    "# Выводим подробную информацию о дубликатах\n",
    "if not duplicate_records.empty:\n",
    "    print(\"Примеры дублирующихся записей:\")\n",
    "    print(duplicate_records[['user_id', 'created_ts_msk', 'event_id', \n",
    "                            'tickets_count', 'revenue', 'venue_name']].head(10))\n",
    "    \n",
    "else:\n",
    "    print(\"Дубликаты не найдены\")"
   ]
  },
  {
   "cell_type": "markdown",
   "metadata": {},
   "source": [
    "**Выводы по анализу**\n",
    "Мы обнаружили 58 потенциальных неявных дубликатов(без учета order_id) исходя из одинаковых сумм и временных меток в данном случае данные записи можно считать технической ошибкой при оформлении заказа.\n",
    "\n",
    "Удалим данные дублирующие строки."
   ]
  },
  {
   "cell_type": "code",
   "execution_count": 25,
   "metadata": {},
   "outputs": [
    {
     "name": "stdout",
     "output_type": "stream",
     "text": [
      "Удалено дубликатов: 30\n"
     ]
    }
   ],
   "source": [
    "# Сохраняем исходную длину датафрейма\n",
    "original_length = len(final_df_cleaned)\n",
    "# Удаляем дубликаты, сохраняя первое вхождение\n",
    "final_df_cleaned = final_df_cleaned.drop_duplicates(\n",
    "    subset=check_columns, \n",
    "    keep='first'\n",
    ")\n",
    "\n",
    "# Подсчитываем количество удаленных записей\n",
    "removed_duplicates = original_length - len(final_df_cleaned)\n",
    "\n",
    "print(f\"Удалено дубликатов: {removed_duplicates}\")"
   ]
  },
  {
   "cell_type": "code",
   "execution_count": 26,
   "metadata": {},
   "outputs": [
    {
     "name": "stdout",
     "output_type": "stream",
     "text": [
      "<class 'pandas.core.frame.DataFrame'>\n",
      "Int64Index: 290581 entries, 0 to 290610\n",
      "Data columns (total 27 columns):\n",
      " #   Column                  Non-Null Count   Dtype  \n",
      "---  ------                  --------------   -----  \n",
      " 0   order_id                290581 non-null  int64  \n",
      " 1   user_id                 290581 non-null  object \n",
      " 2   created_dt_msk          290581 non-null  object \n",
      " 3   created_ts_msk          290581 non-null  object \n",
      " 4   event_id                290581 non-null  int64  \n",
      " 5   age_limit               290581 non-null  int64  \n",
      " 6   currency_code           290581 non-null  object \n",
      " 7   device_type_canonical   290581 non-null  object \n",
      " 8   revenue                 290581 non-null  float64\n",
      " 9   service_name            290581 non-null  object \n",
      " 10  tickets_count           290581 non-null  int64  \n",
      " 11  total                   290581 non-null  float64\n",
      " 12  days_since_prev         268668 non-null  float64\n",
      " 13  event_name              290581 non-null  object \n",
      " 14  event_type_description  290581 non-null  object \n",
      " 15  event_type_main         290581 non-null  object \n",
      " 16  organizers              290581 non-null  object \n",
      " 17  region_name             290581 non-null  object \n",
      " 18  city_name               290581 non-null  object \n",
      " 19  city_id                 290581 non-null  int64  \n",
      " 20  venue_id                290581 non-null  int64  \n",
      " 21  venue_name              290581 non-null  object \n",
      " 22  venue_address           290581 non-null  object \n",
      " 23  data                    290581 non-null  object \n",
      " 24  nominal                 290581 non-null  int64  \n",
      " 25  curs                    290581 non-null  float64\n",
      " 26  cdx                     290581 non-null  object \n",
      "dtypes: float64(4), int64(7), object(16)\n",
      "memory usage: 62.1+ MB\n"
     ]
    }
   ],
   "source": [
    "# проверим результат\n",
    "final_df_cleaned.info()"
   ]
  },
  {
   "cell_type": "code",
   "execution_count": 27,
   "metadata": {},
   "outputs": [],
   "source": [
    "# Проведем преобразование данных с датой и временем\n",
    "final_df_cleaned['created_dt_msk'] = pd.to_datetime(final_df_cleaned['created_dt_msk'])\n",
    "final_df_cleaned['created_ts_msk'] = pd.to_datetime(final_df_cleaned['created_ts_msk'])"
   ]
  },
  {
   "cell_type": "code",
   "execution_count": 28,
   "metadata": {},
   "outputs": [],
   "source": [
    "# Преобразование оставшихся int64 в int32 для экономии памяти\n",
    "int_cols = [\n",
    "    'order_id',\n",
    "    'event_id',\n",
    "    'age_limit',\n",
    "    'tickets_count',\n",
    "    'city_id',\n",
    "    'venue_id',\n",
    "    'nominal'\n",
    "]\n",
    "final_df_cleaned[int_cols] = final_df_cleaned[int_cols].astype('int32')"
   ]
  },
  {
   "cell_type": "code",
   "execution_count": 29,
   "metadata": {},
   "outputs": [
    {
     "name": "stdout",
     "output_type": "stream",
     "text": [
      "<class 'pandas.core.frame.DataFrame'>\n",
      "Int64Index: 290581 entries, 0 to 290610\n",
      "Data columns (total 27 columns):\n",
      " #   Column                  Non-Null Count   Dtype         \n",
      "---  ------                  --------------   -----         \n",
      " 0   order_id                290581 non-null  int32         \n",
      " 1   user_id                 290581 non-null  object        \n",
      " 2   created_dt_msk          290581 non-null  datetime64[ns]\n",
      " 3   created_ts_msk          290581 non-null  datetime64[ns]\n",
      " 4   event_id                290581 non-null  int32         \n",
      " 5   age_limit               290581 non-null  int32         \n",
      " 6   currency_code           290581 non-null  object        \n",
      " 7   device_type_canonical   290581 non-null  object        \n",
      " 8   revenue                 290581 non-null  float64       \n",
      " 9   service_name            290581 non-null  object        \n",
      " 10  tickets_count           290581 non-null  int32         \n",
      " 11  total                   290581 non-null  float64       \n",
      " 12  days_since_prev         268668 non-null  float64       \n",
      " 13  event_name              290581 non-null  object        \n",
      " 14  event_type_description  290581 non-null  object        \n",
      " 15  event_type_main         290581 non-null  object        \n",
      " 16  organizers              290581 non-null  object        \n",
      " 17  region_name             290581 non-null  object        \n",
      " 18  city_name               290581 non-null  object        \n",
      " 19  city_id                 290581 non-null  int32         \n",
      " 20  venue_id                290581 non-null  int32         \n",
      " 21  venue_name              290581 non-null  object        \n",
      " 22  venue_address           290581 non-null  object        \n",
      " 23  data                    290581 non-null  object        \n",
      " 24  nominal                 290581 non-null  int32         \n",
      " 25  curs                    290581 non-null  float64       \n",
      " 26  cdx                     290581 non-null  object        \n",
      "dtypes: datetime64[ns](2), float64(4), int32(7), object(14)\n",
      "memory usage: 450.8 MB\n",
      "None\n"
     ]
    }
   ],
   "source": [
    "# Проверка результатов\n",
    "print(final_df_cleaned.info(memory_usage='deep'))"
   ]
  },
  {
   "cell_type": "code",
   "execution_count": 30,
   "metadata": {},
   "outputs": [],
   "source": [
    "# Создаем новый столбец revenue_rub с учетом курса за 100 тенге\n",
    "final_df_cleaned['revenue_rub'] = final_df_cleaned.apply(\n",
    "    lambda row: \n",
    "        row['revenue'] * (row['curs'] / 100)  # корректируем курс для 1 тенге\n",
    "        if row['currency_code'] == 'kzt' \n",
    "        else row['revenue'],\n",
    "    axis=1\n",
    ")"
   ]
  },
  {
   "cell_type": "code",
   "execution_count": 31,
   "metadata": {},
   "outputs": [],
   "source": [
    "# Создаем новый столбец с выручкой на один билет\n",
    "final_df_cleaned['one_ticket_revenue_rub'] = final_df_cleaned['revenue_rub'] / final_df_cleaned['tickets_count']"
   ]
  },
  {
   "cell_type": "code",
   "execution_count": 32,
   "metadata": {},
   "outputs": [
    {
     "name": "stdout",
     "output_type": "stream",
     "text": [
      "  created_dt_msk  month season\n",
      "0     2024-08-20      8   лето\n",
      "1     2024-07-23      7   лето\n",
      "2     2024-07-23      7   лето\n",
      "3     2024-07-23      7   лето\n",
      "4     2024-07-23      7   лето\n",
      "осень    170160\n",
      "лето     120421\n",
      "Name: season, dtype: int64\n"
     ]
    }
   ],
   "source": [
    "# Создаем столбец с месяцем\n",
    "final_df_cleaned['month'] = final_df_cleaned['created_dt_msk'].dt.month\n",
    "\n",
    "# Создаем словарь для определения сезона\n",
    "season_map = {\n",
    "    12: 'зима', 1: 'зима', 2: 'зима',  # декабрь-февраль\n",
    "    3: 'весна', 4: 'весна', 5: 'весна',  # март-май\n",
    "    6: 'лето', 7: 'лето', 8: 'лето',  # июнь-август\n",
    "    9: 'осень', 10: 'осень', 11: 'осень'  # сентябрь-ноябрь\n",
    "}\n",
    "\n",
    "# Создаем столбец с сезоном\n",
    "final_df_cleaned['season'] = final_df_cleaned['month'].map(season_map)\n",
    "\n",
    "# Проверяем результаты\n",
    "print(final_df_cleaned[['created_dt_msk', 'month', 'season']].head())\n",
    "\n",
    "# Проверяем распределение по сезонам\n",
    "print(final_df_cleaned['season'].value_counts())\n"
   ]
  },
  {
   "cell_type": "markdown",
   "metadata": {},
   "source": [
    "**Мы провели предобработку данных:**\n",
    "- объединили все данные в единый датафрейм для удобства анализа.\n",
    "- провели проверк столбцов с категориальными переменными: `сinema_circuit` - в большенстве случаев имеет значение \"нет\" что говорит о не применимости данного критерия. Т. к. данный столбец несет малую ценность для дальнейшего анализа мы его удалили.\n",
    "- В столбцах `currency_code`, `device_type_canonical`, `service_name`, `event_type_main`, `age_limit`, `event_type_description` аномалий не обнаружено\n",
    "- провели проверку количественных переменных на предмет выбросом:\n",
    "| Показатель          | Рубль           | Тенге            |\n",
    "|---------------------|-----------------|------------------|\n",
    "| **Количество**      | 285 542         | 5 069            |\n",
    "| **Среднее**         | 548.01 руб.     | 4 995.21 тенге   |\n",
    "| **Стандартное откл.**| 871.75 руб.     | 4 916.75 тенге   |\n",
    "| **Минимум**         | -90.76 руб.     | 0 тенге          |\n",
    "| **Медиана**         | 346.63 руб.     | 3 698.83 тенге   |\n",
    "| **Максимум**        | 81 174.54 руб.  | 26 425.86 тенге  |\n",
    "\n",
    "\n",
    "В обоих случаях распределение выручки имеет правостороннюю асимметрию\n",
    "\n",
    "Значительный разброс значений относительно среднего.\n",
    "**Изменения после обработки:**\n",
    "\n",
    "**Рубль:**\n",
    "* Среднее снизилось на 17 руб.\n",
    "* Std уменьшился на 333.54 руб.\n",
    "* Исчезли отрицательные значения\n",
    "* Максимум уменьшился на 78 603.74 руб.\n",
    "\n",
    "**Тенге:**\n",
    "* Среднее снизилось на 28.47 тенге\n",
    "* Std уменьшился на 91.54 тенге\n",
    "* Минимум увеличился на 90.27 тенге\n",
    "* Максимум уменьшился на 8 808.62 тенге\n",
    "- Явных дубликатов в данных обнаружено не было\n",
    "- Было удалено 30 неявных дубликатов(при анализе было выявлено что данные записи были результатом технической ошибки при оформлении заказов)\n",
    "- Провели столбцы с датой и временем в подходящий форормат, а также оптимизировали разрядность для столбцов содержащих целочисленные значения.\n",
    "\n",
    "**Для дальнешего анализа были созданы следующие столбцы:**\n",
    "- `revenue_rub` - содержит выручку из столбца `revenue` переведенную из тенге по курсу 2024 года.\n",
    "- `month` - содержит номер месяца оформления заказа.\n",
    "- `season` - содержит информацию о сезонности."
   ]
  },
  {
   "cell_type": "markdown",
   "metadata": {},
   "source": [
    "# Шаг 3: Исследовательский анализ данных"
   ]
  },
  {
   "cell_type": "markdown",
   "metadata": {},
   "source": [
    "## 3.1. Анализ распределения заказов по сегментам и их сезонные изменения"
   ]
  },
  {
   "cell_type": "code",
   "execution_count": 33,
   "metadata": {},
   "outputs": [
    {
     "data": {
      "image/png": "[encoded data removed]",
      "text/plain": [
       "<Figure size 1008x504 with 1 Axes>"
      ]
     },
     "metadata": {
      "needs_background": "light"
     },
     "output_type": "display_data"
    }
   ],
   "source": [
    "# Группируем данные и сортируем по месяцам\n",
    "monthly_analysis = final_df_cleaned.groupby(['month']).agg(\n",
    "    order_count=('order_id', 'nunique'),\n",
    "    revenue=('revenue_rub', 'sum')\n",
    ").reset_index()\n",
    "\n",
    "# Сортируем результат по месяцу\n",
    "monthly_analysis = monthly_analysis.sort_values(by='month')\n",
    "\n",
    "# Создаем график\n",
    "plt.figure(figsize=(14, 7))\n",
    "sns.lineplot(\n",
    "    data=monthly_analysis,\n",
    "    x='month',\n",
    "    y='order_count',\n",
    "    marker='o'  # Добавляем маркеры для лучшей визуализации\n",
    ")\n",
    "\n",
    "# Улучшаем оформление графика\n",
    "plt.title('Динамика заказов по месяцам')\n",
    "plt.xlabel('Номер Месяца')\n",
    "plt.ylabel('Количество заказов')\n",
    "plt.xticks(range(6, 13))  # Устанавливаем все месяцы на оси X\n",
    "plt.grid(True)\n",
    "plt.tight_layout()  # Корректируем расположение элементов\n",
    "plt.show()"
   ]
  },
  {
   "cell_type": "markdown",
   "metadata": {},
   "source": [
    "На данном графике мы наблюдаем увеличение числа заказов с июня по ноябрь(резкий скачок начинается с августа).\n",
    "Осенью наблюдается наибольший объем заказов, что подтверждает сезонный рост активности."
   ]
  },
  {
   "cell_type": "code",
   "execution_count": 34,
   "metadata": {},
   "outputs": [
    {
     "name": "stdout",
     "output_type": "stream",
     "text": [
      "   season event_type_main  order_count\n",
      "9   осень        концерты     0.374553\n",
      "12  осень           театр     0.253315\n",
      "8   осень          другое     0.195622\n",
      "10  осень           спорт     0.111031\n",
      "11  осень         стендап     0.041091\n",
      "7   осень        выставки     0.014322\n",
      "13  осень            ёлки     0.010067\n",
      "2    лето        концерты     0.427982\n",
      "1    лето          другое     0.270451\n",
      "5    лето           театр     0.201036\n",
      "4    лето         стендап     0.053155\n",
      "3    лето           спорт     0.025021\n",
      "0    лето        выставки     0.020063\n",
      "6    лето            ёлки     0.002292\n"
     ]
    },
    {
     "data": {
      "image/png": "[encoded data removed]",
      "text/plain": [
       "<Figure size 864x432 with 1 Axes>"
      ]
     },
     "metadata": {
      "needs_background": "light"
     },
     "output_type": "display_data"
    }
   ],
   "source": [
    "# Подготовка данных для анализа типов мероприятий\n",
    "event_type_analysis = final_df_cleaned.groupby(['season', 'event_type_main']).agg(\n",
    "    order_count=('order_id', 'nunique')\n",
    ").groupby('season').apply(lambda x: x / x.sum()).reset_index()\n",
    "print(event_type_analysis.sort_values(by=['season', 'order_count'],ascending = False))\n",
    "# Визуализация\n",
    "plt.figure(figsize=(12, 6))\n",
    "sns.barplot(\n",
    "    data=event_type_analysis,\n",
    "    x='event_type_main',\n",
    "    y='order_count',\n",
    "    hue='season',\n",
    "    ci=None\n",
    ")\n",
    "plt.title('Распределение заказов по типам мероприятий')\n",
    "plt.ylabel('Доля заказов')\n",
    "plt.xlabel('Тип мероприятия')\n",
    "plt.xticks(rotation=45)\n",
    "plt.ylim(0, 1)\n",
    "plt.legend(title='Сезон')\n",
    "plt.tight_layout()\n",
    "plt.show()"
   ]
  },
  {
   "cell_type": "markdown",
   "metadata": {},
   "source": [
    "Концерты остаются самым популярным типом мероприятий в оба сезона:\n",
    "\n",
    "Лето: 42.79%\n",
    "\n",
    "Осень: 37.45%\n",
    "\n",
    "Летний период:\n",
    "Более высокая доля концертов (42.79% против 37.45%)\n",
    "\n",
    "Осенний период: Рост популярности театра (25.33% против 20.11%)."
   ]
  },
  {
   "cell_type": "code",
   "execution_count": 35,
   "metadata": {},
   "outputs": [
    {
     "name": "stdout",
     "output_type": "stream",
     "text": [
      "  season device_type_canonical  order_count\n",
      "3  осень                mobile     0.796180\n",
      "2  осень               desktop     0.203820\n",
      "1   лето                mobile     0.805433\n",
      "0   лето               desktop     0.194567\n"
     ]
    },
    {
     "data": {
      "image/png": "[encoded data removed]",
      "text/plain": [
       "<Figure size 864x432 with 1 Axes>"
      ]
     },
     "metadata": {
      "needs_background": "light"
     },
     "output_type": "display_data"
    }
   ],
   "source": [
    "# Подготовка данных для анализа устройств\n",
    "device_analysis = final_df_cleaned.groupby(['season', 'device_type_canonical']).agg(\n",
    "    order_count=('order_id', 'nunique')\n",
    ").groupby('season').apply(lambda x: x / x.sum()).reset_index()\n",
    "print(device_analysis.sort_values(by=['season', 'order_count'],ascending = False))\n",
    "# Визуализация\n",
    "plt.figure(figsize=(12, 6))\n",
    "sns.barplot(\n",
    "    data=device_analysis,\n",
    "    x='device_type_canonical',\n",
    "    y='order_count',\n",
    "    hue='season',\n",
    "    ci=None\n",
    ")\n",
    "plt.title('Распределение заказов по устройствам')\n",
    "plt.ylabel('Доля заказов')\n",
    "plt.xlabel('Тип устройства')\n",
    "plt.xticks(rotation=45)\n",
    "plt.ylim(0, 1)\n",
    "plt.legend(title='Сезон')\n",
    "plt.tight_layout()\n",
    "plt.show()"
   ]
  },
  {
   "cell_type": "markdown",
   "metadata": {},
   "source": [
    "Мобильные устройства доминируют в обоих сезонах:\n",
    "\n",
    "Лето: 80.54% заказов через мобильные устройства\n",
    "\n",
    "Осень: 79.62% заказов через мобильные устройства"
   ]
  },
  {
   "cell_type": "code",
   "execution_count": 36,
   "metadata": {},
   "outputs": [
    {
     "name": "stdout",
     "output_type": "stream",
     "text": [
      "  season  age_limit  order_count\n",
      "8  осень         16     0.261771\n",
      "5  осень          0     0.234285\n",
      "7  осень         12     0.221339\n",
      "6  осень          6     0.177427\n",
      "9  осень         18     0.105177\n",
      "3   лето         16     0.282434\n",
      "2   лето         12     0.205994\n",
      "1   лето          6     0.182385\n",
      "0   лето          0     0.179462\n",
      "4   лето         18     0.149725\n"
     ]
    },
    {
     "data": {
      "image/png": "[encoded data removed]",
      "text/plain": [
       "<Figure size 864x432 with 1 Axes>"
      ]
     },
     "metadata": {
      "needs_background": "light"
     },
     "output_type": "display_data"
    }
   ],
   "source": [
    "# Подготовка данных для анализа возрастных категорий\n",
    "age_analysis = final_df_cleaned.groupby(['season', 'age_limit']).agg(\n",
    "    order_count=('order_id', 'nunique')\n",
    ").groupby('season').apply(lambda x: x / x.sum()).reset_index()\n",
    "print(age_analysis.sort_values(by=['season', 'order_count'],ascending = False))\n",
    "# Визуализация\n",
    "plt.figure(figsize=(12, 6))\n",
    "sns.barplot(\n",
    "    data=age_analysis,\n",
    "    x='age_limit',\n",
    "    y='order_count',\n",
    "    hue='season',\n",
    "    ci=None\n",
    ")\n",
    "plt.title('Распределение заказов по возрастным категориям')\n",
    "plt.ylabel('Доля заказов')\n",
    "plt.xlabel('Возрастной рейтинг')\n",
    "plt.ylim(0, 1)\n",
    "plt.legend(title='Сезон')\n",
    "plt.tight_layout()\n",
    "plt.show()"
   ]
  },
  {
   "cell_type": "markdown",
   "metadata": {},
   "source": [
    "Категория 16+ остается самой популярной в оба сезона\n",
    "\n",
    "12+ и 0+ показывают близкие доли\n",
    "\n",
    "Сезонные изменения:\n",
    "\n",
    "Осенний рост интереса к контенту 0+\n",
    "\n",
    "Снижение интереса к категории 18+ осенью\n",
    "\n",
    "Относительная стабильность остальных категорий"
   ]
  },
  {
   "cell_type": "code",
   "execution_count": 37,
   "metadata": {},
   "outputs": [
    {
     "name": "stdout",
     "output_type": "stream",
     "text": [
      "Средние цены по сезонам:\n",
      "season             лето   осень  change_%\n",
      "event_type_main                          \n",
      "выставки          86.42   90.94      5.22\n",
      "другое            80.54   76.99     -4.41\n",
      "концерты         310.16  274.54    -11.49\n",
      "спорт             52.57   50.46     -4.01\n",
      "стендап          221.71  237.00      6.89\n",
      "театр            219.76  180.57    -17.84\n",
      "ёлки             274.70  233.37    -15.05\n"
     ]
    },
    {
     "data": {
      "image/png": "[encoded data removed]",
      "text/plain": [
       "<Figure size 1008x576 with 2 Axes>"
      ]
     },
     "metadata": {
      "needs_background": "light"
     },
     "output_type": "display_data"
    }
   ],
   "source": [
    "# Рассчитаем среднюю выручку на билет по сезонам и типам мероприятий\n",
    "avg_ticket_price = final_df_cleaned.groupby(['season', 'event_type_main']).agg(\n",
    "    avg_price=('one_ticket_revenue_rub', 'mean')\n",
    ").reset_index()\n",
    "\n",
    "# Рассчитаем относительное изменение\n",
    "price_change = pd.pivot_table(\n",
    "    avg_ticket_price,\n",
    "    values='avg_price',\n",
    "    index='event_type_main',\n",
    "    columns='season'\n",
    ")\n",
    "\n",
    "price_change['change_%'] = (price_change['осень'] - price_change['лето']) / price_change['лето'] * 100\n",
    "# Выводим численные результаты\n",
    "print(\"Средние цены по сезонам:\")\n",
    "print(price_change.round(2))\n",
    "# Визуализация\n",
    "plt.figure(figsize=(14, 8))\n",
    "\n",
    "# График средних цен\n",
    "plt.subplot(1, 2, 1)\n",
    "sns.barplot(\n",
    "    data=avg_ticket_price,\n",
    "    x='avg_price',\n",
    "    y='event_type_main',\n",
    "    hue='season',\n",
    "    ci=None\n",
    ")\n",
    "plt.title('Средняя цена билета по типам мероприятий')\n",
    "plt.xlabel('Цена билета (руб.)')\n",
    "plt.legend(title='Сезон')\n",
    "\n",
    "# График относительного изменения\n",
    "plt.subplot(1, 2, 2)\n",
    "sns.barplot(\n",
    "    x=price_change['change_%'],\n",
    "    y=price_change.index,\n",
    "    palette='coolwarm'\n",
    ")\n",
    "plt.title('Относительное изменение цен (осень/лето)')\n",
    "plt.xlabel('Изменение в процентах (%)')\n",
    "plt.axvline(x=0, color='gray', linestyle='--')\n",
    "\n",
    "plt.tight_layout()\n",
    "plt.show()"
   ]
  },
  {
   "cell_type": "markdown",
   "metadata": {},
   "source": [
    "**Ценовая динамика:**\n",
    "\n",
    "Общее снижение цен на билеты в большинстве категорий (5 из 7)\n",
    "\n",
    "Среднее падение цен составило около 10%\n",
    "\n",
    "Положительная динамика только в двух категориях: стендап и выставки\n",
    "\n",
    "Изменения по категориям\n",
    "Значительное снижение цен:\n",
    "\n",
    "Театральные мероприятия: падение на 17.84%\n",
    "\n",
    "Концертные мероприятия: снижение на 11.49%\n",
    "\n",
    "Новогодние ёлки: уменьшение на 15.05%\n",
    "\n",
    "Незначительное изменение:\n",
    "\n",
    "Спортивные мероприятия: снижение на 4.02%\n",
    "\n",
    "Категория «Другое»: падение на 4.40%\n",
    "\n",
    "Рост цен:\n",
    "\n",
    "Стендап-шоу: увеличение на 6.89%\n",
    "\n",
    "Выставки: рост на 5.26%"
   ]
  },
  {
   "cell_type": "markdown",
   "metadata": {},
   "source": [
    "## 3.2. Осенняя активность пользователей"
   ]
  },
  {
   "cell_type": "code",
   "execution_count": 38,
   "metadata": {},
   "outputs": [],
   "source": [
    "# Подготовим данные только за осень 2024\n",
    "fall_data = final_df_cleaned[final_df_cleaned['season'] == 'осень']\n",
    "\n",
    "# Создадим сводную таблицу по дням\n",
    "daily_metrics = fall_data.groupby('created_dt_msk').agg(\n",
    "    orders_count=('order_id', 'nunique'),\n",
    "    users_count=('user_id', 'nunique'),\n",
    "    total_revenue=('revenue_rub', 'sum')\n",
    ").reset_index()\n",
    "\n",
    "# Добавим дополнительные метрики\n",
    "daily_metrics['avg_orders_per_user'] = daily_metrics['orders_count'] / daily_metrics['users_count']\n",
    "daily_metrics['avg_ticket_price'] = daily_metrics['total_revenue'] / daily_metrics['orders_count']\n",
    "daily_metrics['day_of_week'] = daily_metrics['created_dt_msk'].dt.day_name()"
   ]
  },
  {
   "cell_type": "code",
   "execution_count": 39,
   "metadata": {},
   "outputs": [
    {
     "data": {
      "image/png": "[encoded data removed]",
      "text/plain": [
       "<Figure size 1152x576 with 1 Axes>"
      ]
     },
     "metadata": {
      "needs_background": "light"
     },
     "output_type": "display_data"
    },
    {
     "name": "stdout",
     "output_type": "stream",
     "text": [
      "\n",
      "Таблица показателей по дням:\n",
      "   created_dt_msk  orders_count  users_count\n",
      "30     2024-10-01          7310         1105\n",
      "60     2024-10-31          5991         1282\n",
      "2      2024-09-03          5124          783\n",
      "54     2024-10-25          4585         1227\n",
      "44     2024-10-15          3934         1108\n",
      "..            ...           ...          ...\n",
      "21     2024-09-22          1849          788\n",
      "3      2024-09-04          1784          688\n",
      "7      2024-09-08          1724          720\n",
      "1      2024-09-02          1391          580\n",
      "0      2024-09-01          1348          569\n",
      "\n",
      "[61 rows x 3 columns]\n"
     ]
    }
   ],
   "source": [
    "plt.figure(figsize=(16, 8))\n",
    "plt.plot(daily_metrics['created_dt_msk'], daily_metrics['orders_count'], label='Заказы', marker='o')\n",
    "plt.plot(daily_metrics['created_dt_msk'], daily_metrics['users_count'], label='DAU', marker='o')\n",
    "plt.title('Динамика заказов и активных пользователей')\n",
    "plt.xlabel('Дата')\n",
    "plt.ylabel('Количество')\n",
    "plt.legend()\n",
    "plt.grid()\n",
    "plt.tight_layout()\n",
    "plt.show()\n",
    "# Выводим таблицу с данными\n",
    "print(\"\\nТаблица показателей по дням:\")\n",
    "print(daily_metrics[['created_dt_msk', 'orders_count', 'users_count']].round(0).sort_values(by='orders_count', ascending=False))"
   ]
  },
  {
   "cell_type": "code",
   "execution_count": 40,
   "metadata": {},
   "outputs": [
    {
     "data": {
      "image/png": "[encoded data removed]",
      "text/plain": [
       "<Figure size 1152x576 with 1 Axes>"
      ]
     },
     "metadata": {
      "needs_background": "light"
     },
     "output_type": "display_data"
    },
    {
     "name": "stdout",
     "output_type": "stream",
     "text": [
      "\n",
      "Таблица показателей по дням:\n",
      "   created_dt_msk  avg_orders_per_user\n",
      "30     2024-10-01                 6.62\n",
      "2      2024-09-03                 6.54\n",
      "60     2024-10-31                 4.67\n",
      "54     2024-10-25                 3.74\n",
      "44     2024-10-15                 3.55\n",
      "..            ...                  ...\n",
      "5      2024-09-06                 2.47\n",
      "1      2024-09-02                 2.40\n",
      "7      2024-09-08                 2.39\n",
      "0      2024-09-01                 2.37\n",
      "21     2024-09-22                 2.35\n",
      "\n",
      "[61 rows x 2 columns]\n"
     ]
    }
   ],
   "source": [
    "# среднее число заказов на пользователя\n",
    "plt.figure(figsize=(16, 8))\n",
    "plt.plot(daily_metrics['created_dt_msk'], daily_metrics['avg_orders_per_user'], marker='o')\n",
    "plt.title('Среднее число заказов на пользователя')\n",
    "plt.xlabel('Дата')\n",
    "plt.ylabel('Среднее количество заказов')\n",
    "plt.grid()\n",
    "plt.tight_layout()\n",
    "plt.show()\n",
    "# Выводим таблицу с данными\n",
    "print(\"\\nТаблица показателей по дням:\")\n",
    "print(daily_metrics[['created_dt_msk', 'avg_orders_per_user']].round(2).sort_values(by='avg_orders_per_user', ascending=False))"
   ]
  },
  {
   "cell_type": "code",
   "execution_count": 41,
   "metadata": {},
   "outputs": [
    {
     "data": {
      "image/png": "[encoded data removed]",
      "text/plain": [
       "<Figure size 1152x576 with 1 Axes>"
      ]
     },
     "metadata": {
      "needs_background": "light"
     },
     "output_type": "display_data"
    },
    {
     "name": "stdout",
     "output_type": "stream",
     "text": [
      "\n",
      "Таблица показателей по дням:\n",
      "   created_dt_msk  avg_ticket_price\n",
      "49     2024-10-20            595.38\n",
      "35     2024-10-06            587.44\n",
      "41     2024-10-12            587.29\n",
      "40     2024-10-11            583.21\n",
      "42     2024-10-13            582.13\n",
      "..            ...               ...\n",
      "8      2024-09-09            441.82\n",
      "44     2024-10-15            434.93\n",
      "60     2024-10-31            399.40\n",
      "30     2024-10-01            275.98\n",
      "2      2024-09-03            231.19\n",
      "\n",
      "[61 rows x 2 columns]\n"
     ]
    }
   ],
   "source": [
    "# Средняя стоимость одного билета\n",
    "plt.figure(figsize=(16, 8))\n",
    "plt.plot(daily_metrics['created_dt_msk'], daily_metrics['avg_ticket_price'], marker='o')\n",
    "plt.title('Средняя стоимость билета')\n",
    "plt.xlabel('Дата')\n",
    "plt.ylabel('Средняя цена (руб.)')\n",
    "plt.grid()\n",
    "plt.tight_layout()\n",
    "plt.show()\n",
    "print(\"\\nТаблица показателей по дням:\")\n",
    "print(daily_metrics[['created_dt_msk', 'avg_ticket_price']].round(2).sort_values(by='avg_ticket_price', ascending=False))"
   ]
  },
  {
   "cell_type": "code",
   "execution_count": 42,
   "metadata": {},
   "outputs": [
    {
     "data": {
      "image/png": "[encoded data removed]",
      "text/plain": [
       "<Figure size 1152x576 with 1 Axes>"
      ]
     },
     "metadata": {
      "needs_background": "light"
     },
     "output_type": "display_data"
    },
    {
     "name": "stdout",
     "output_type": "stream",
     "text": [
      "Сводная статистика по дням недели:\n",
      "  day_of_week_ru  avg_orders  avg_users  avg_orders_per_user\n",
      "5        Вторник     3526.22     939.89                 3.73\n",
      "0        Пятница     3136.00    1029.38                 3.01\n",
      "4        Четверг     3043.44     968.11                 3.07\n",
      "2        Суббота     2692.62     967.00                 2.77\n",
      "6          Среда     2568.67     931.00                 2.76\n",
      "1    Понедельник     2411.89     859.22                 2.79\n",
      "3    Воскресенье     2175.44     827.44                 2.61\n"
     ]
    }
   ],
   "source": [
    "# Группируем по дням недели\n",
    "weekday_metrics = daily_metrics.groupby('day_of_week').agg(\n",
    "avg_orders=('orders_count', 'mean'),\n",
    "avg_users=('users_count', 'mean'),\n",
    "avg_orders_per_user=('avg_orders_per_user', 'mean')\n",
    ").reset_index()\n",
    "# Создадим словарь для перевода дней недели\n",
    "days_translation = {\n",
    "    'Monday': 'Понедельник',\n",
    "    'Tuesday': 'Вторник',\n",
    "    'Wednesday': 'Среда',\n",
    "    'Thursday': 'Четверг',\n",
    "    'Friday': 'Пятница',\n",
    "    'Saturday': 'Суббота',\n",
    "    'Sunday': 'Воскресенье'\n",
    "}\n",
    "\n",
    "# Переведем дни недели в датафрейме\n",
    "weekday_metrics['day_of_week_ru'] = weekday_metrics['day_of_week'].map(days_translation)\n",
    "\n",
    "# Визуализация недельной цикличности\n",
    "plt.figure(figsize=(16, 8))\n",
    "sns.barplot(\n",
    "    data=weekday_metrics,\n",
    "    x='day_of_week_ru',\n",
    "    y='avg_orders',\n",
    "    order=['Понедельник', 'Вторник', 'Среда', 'Четверг', 'Пятница', 'Суббота', 'Воскресенье']\n",
    ")\n",
    "plt.title('Средняя активность по дням недели')\n",
    "plt.xlabel('День недели')\n",
    "plt.ylabel('Среднее количество заказов')\n",
    "plt.xticks(rotation=45)\n",
    "plt.grid(True, linestyle='--', alpha=0.7)\n",
    "plt.tight_layout()\n",
    "plt.show()\n",
    "\n",
    "# Выведем сводную статистику с русскими названиями дней\n",
    "print(\"Сводная статистика по дням недели:\")\n",
    "print(weekday_metrics[['day_of_week_ru', 'avg_orders', 'avg_users', 'avg_orders_per_user']].round(2).sort_values(by='avg_orders', ascending=False))"
   ]
  },
  {
   "cell_type": "markdown",
   "metadata": {},
   "source": [
    "Общая активность:\n",
    "- Максимальное количество заказов зафиксировано 1 октября 2024 (7310 заказов)\n",
    "- Минимальная активность наблюдается в начале сентября (1348 заказов 1 сентября)\n",
    "- Средний показатель заказов варьируется от 1300 до 7300 в день\n",
    "- Наивысшая активность пользователей 1 октября: 6.62 заказа на пользователя\n",
    "- Средний показатель в сентябре-октябре колеблется от 2.35 до 6.62 заказов на пользователя\n",
    "- Снижение активности к концу октября до 4.67 заказов на пользователя\n",
    "На основе проведенного анализа можно сделать вывод:\n",
    "- Наблюдается заметный рост активности к октябрю\n",
    "- пик приходится на начало октября"
   ]
  },
  {
   "cell_type": "markdown",
   "metadata": {},
   "source": [
    "По недельной активности можно сделать следующие выводы:\n",
    "- Вторник показывает наивысшую активность: 3526.56 заказов в среднем 3.73 заказа на пользователя\n",
    "- Пятница занимает второе место: 3136.12 заказов 3.01 заказа на пользователя\n",
    "- Воскресенье демонстрирует наименьшую активность: 2175.44 заказов 2.61 заказа на пользователя\n",
    "- Среда также показывает невысокие показатели: 2569.11 заказов 2.76 заказа на пользователя\n",
    "На основе анализа наблюдается: \n",
    "- Рост активности к середине недели, падение в выходные дни\n",
    "- Вторник — самый активный день\n",
    "\n",
    "Т.е. большинство пользователей начинают планировать посетить мероприятия в начале недели."
   ]
  },
  {
   "cell_type": "markdown",
   "metadata": {},
   "source": [
    "## 3.3. Популярные события и партнёры"
   ]
  },
  {
   "cell_type": "code",
   "execution_count": 43,
   "metadata": {},
   "outputs": [
    {
     "name": "stdout",
     "output_type": "stream",
     "text": [
      "                region_name  unique_events  total_orders  total_revenue  \\\n",
      "23       Каменевский регион           3946         47514    30741104.29   \n",
      "59     Североярская область           2622         20897    10992697.99   \n",
      "75      Широковская область            803          8739     4289528.14   \n",
      "56     Светополянский округ            764          4840     2144228.14   \n",
      "51      Речиновская область            529          3576     1769197.49   \n",
      "60     Серебринская область            456          4477     1588426.77   \n",
      "76      Яблоневская область            432          4223     2005227.04   \n",
      "67     Тепляковская область            420          2487      775245.52   \n",
      "11     Горицветская область            406          3235     1127273.28   \n",
      "63  Солнечноземская область            403          4232      873088.31   \n",
      "\n",
      "    event_share  order_share  \n",
      "23     0.247802     0.279231  \n",
      "59     0.164657     0.122808  \n",
      "75     0.050427     0.051358  \n",
      "56     0.047978     0.028444  \n",
      "51     0.033220     0.021016  \n",
      "60     0.028636     0.026311  \n",
      "76     0.027129     0.024818  \n",
      "67     0.026375     0.014616  \n",
      "11     0.025496     0.019012  \n",
      "63     0.025308     0.024871  \n"
     ]
    }
   ],
   "source": [
    "# Анализ регионов\n",
    "# воспользуемся таблицей fall_data для анализа осенней активности\n",
    "region_analysis = fall_data.groupby('region_name').agg(\n",
    "    unique_events=('event_id', 'nunique'),\n",
    "    total_orders=('order_id', 'nunique'),\n",
    "    total_revenue=('revenue_rub', 'sum')\n",
    ").reset_index()\n",
    "# Округление выручки до 2 знаков после запятой\n",
    "region_analysis['total_revenue'] = region_analysis['total_revenue'].round(2)\n",
    "# Добавляем доли\n",
    "region_analysis['event_share'] = region_analysis['unique_events'] / region_analysis['unique_events'].sum()\n",
    "region_analysis['order_share'] = region_analysis['total_orders'] / region_analysis['total_orders'].sum()\n",
    "\n",
    "# Сортировка по количеству мероприятий\n",
    "region_analysis = region_analysis.sort_values(by='unique_events', ascending=False)\n",
    "print(region_analysis.head(10))"
   ]
  },
  {
   "cell_type": "code",
   "execution_count": 44,
   "metadata": {},
   "outputs": [
    {
     "data": {
      "image/png": "[encoded data removed]",
      "text/plain": [
       "<Figure size 1152x864 with 2 Axes>"
      ]
     },
     "metadata": {
      "needs_background": "light"
     },
     "output_type": "display_data"
    }
   ],
   "source": [
    "# Визуализация\n",
    "plt.figure(figsize=(16, 12))\n",
    "\n",
    "# График по регионам\n",
    "plt.subplot(2, 2, 1)\n",
    "sns.barplot(\n",
    "    data=region_analysis.head(10),\n",
    "    x='unique_events',\n",
    "    y='region_name',\n",
    "    palette='viridis'\n",
    ")\n",
    "plt.title('Количество уникальных мероприятий по регионам')\n",
    "plt.xlabel('Количество мероприятий')\n",
    "\n",
    "plt.subplot(2, 2, 2)\n",
    "sns.barplot(\n",
    "    data=region_analysis.head(10),\n",
    "    x='total_orders',\n",
    "    y='region_name',\n",
    "    palette='viridis'\n",
    ")\n",
    "plt.title('Количество заказов по регионам')\n",
    "plt.xlabel('Количество заказов')\n",
    "plt.tight_layout()\n",
    "plt.show()"
   ]
  },
  {
   "cell_type": "code",
   "execution_count": 45,
   "metadata": {},
   "outputs": [
    {
     "name": "stdout",
     "output_type": "stream",
     "text": [
      "          service_name  unique_events  total_orders  total_revenue  \\\n",
      "3   Билеты без проблем           2855         32788    13157279.55   \n",
      "24           Мой билет           1012         19679    11526859.32   \n",
      "25             Облачко           1413         15616    10965822.09   \n",
      "21         Лови билет!           3626         25871    10579916.20   \n",
      "8       Весь в билетах            608          9642     9932279.46   \n",
      "5        Билеты в руки           2472         25758     7690963.57   \n",
      "19        Край билетов            194          3062     3185474.54   \n",
      "34              Яблоко            538          3496     2822460.71   \n",
      "26           Прачечная            728          5831     2633146.87   \n",
      "30         Тебе билет!            859          3779     2215030.04   \n",
      "\n",
      "    event_share  order_share  revenue_share  \n",
      "3      0.164544     0.192689       0.153307  \n",
      "24     0.058325     0.115650       0.134310  \n",
      "25     0.081436     0.091772       0.127773  \n",
      "21     0.208979     0.152039       0.123276  \n",
      "8      0.035041     0.056664       0.115730  \n",
      "5      0.142470     0.151375       0.089614  \n",
      "19     0.011181     0.017995       0.037117  \n",
      "34     0.031007     0.020545       0.032887  \n",
      "26     0.041957     0.034268       0.030681  \n",
      "30     0.049507     0.022209       0.025809  \n"
     ]
    }
   ],
   "source": [
    "# Анализ партнеров (используем service_name)\n",
    "# Также проведем анализ осенней активности\n",
    "partner_analysis = fall_data.groupby('service_name').agg(\n",
    "    unique_events=('event_id', 'nunique'),\n",
    "    total_orders=('order_id', 'nunique'),\n",
    "    total_revenue=('revenue_rub', 'sum')\n",
    ").reset_index()\n",
    "partner_analysis['total_revenue'] = partner_analysis['total_revenue'].round(2)\n",
    "# Добавляем доли\n",
    "partner_analysis['event_share'] = partner_analysis['unique_events'] / partner_analysis['unique_events'].sum()\n",
    "partner_analysis['order_share'] = partner_analysis['total_orders'] / partner_analysis['total_orders'].sum()\n",
    "partner_analysis['revenue_share'] = partner_analysis['total_revenue'] / partner_analysis['total_revenue'].sum()\n",
    "\n",
    "# Сортировка по выручке\n",
    "partner_analysis = partner_analysis.sort_values(by='total_revenue', ascending=False)\n",
    "print(partner_analysis.head(10))"
   ]
  },
  {
   "cell_type": "code",
   "execution_count": 46,
   "metadata": {},
   "outputs": [
    {
     "data": {
      "image/png": "[encoded data removed]",
      "text/plain": [
       "<Figure size 1152x864 with 2 Axes>"
      ]
     },
     "metadata": {
      "needs_background": "light"
     },
     "output_type": "display_data"
    }
   ],
   "source": [
    "# Визуализация\n",
    "plt.figure(figsize=(16, 12))\n",
    "# График по партнерам\n",
    "plt.subplot(2, 2, 3)\n",
    "sns.barplot(\n",
    "    data=partner_analysis.head(10),\n",
    "    x='total_revenue',\n",
    "    y='service_name',\n",
    "    palette='magma'\n",
    ")\n",
    "plt.title('Выручка по партнерам')\n",
    "plt.xlabel('Выручка (руб.)')\n",
    "\n",
    "plt.subplot(2, 2, 4)\n",
    "sns.barplot(\n",
    "    data=partner_analysis.head(10),\n",
    "    x='total_orders',\n",
    "    y='service_name',\n",
    "    palette='magma'\n",
    ")\n",
    "plt.title('Количество заказов по партнерам')\n",
    "plt.xlabel('Количество заказов')\n",
    "\n",
    "plt.tight_layout()\n",
    "plt.show()"
   ]
  },
  {
   "cell_type": "markdown",
   "metadata": {},
   "source": [
    "Каменевский регион доминирует по всем показателям:\n",
    "- 24.8% всех уникальных мероприятий\n",
    "- 27.9% всех заказов\n",
    "- 30.7 млн руб. выручки\n",
    "Наибольшее количество уникальных событий в Каменевском регионе (3946)\n",
    "\n",
    "Второе место — Североярская область (2622)\n",
    "\n",
    "Остальные регионы значительно отстают\n",
    "\n",
    "Топ-2 региона обеспечивают более 41% всех мероприятий\n",
    "\n",
    "Каменевский регион практически более чем в 1.5 раза опережает ближайшего конкурента"
   ]
  },
  {
   "cell_type": "markdown",
   "metadata": {},
   "source": [
    "«Билеты без проблем»:\n",
    "- 16.4% всех мероприятий\n",
    "- 19.2% всех заказов\n",
    "- 13.1 млн руб. выручки\n",
    "- Доля в общей выручке: 15.3%\n",
    "\n",
    " «Мой билет»:\n",
    "- 5.8% всех мероприятий\n",
    "- 11.6% заказов\n",
    "- 11.5 млн руб. выручки\n",
    "- Доля в общей выручке: 13.4%\n",
    "\n",
    "Облачко:\n",
    "- 8.1% мероприятий\n",
    "- 9.1% заказов\n",
    "- 10.9 млн руб. выручки\n",
    "- Доля в общей выручке: 12.8%\n",
    "\n",
    "\n",
    "\n",
    "«Билеты без проблем» и «Мой билет» — основные источники выручки\n",
    "\n",
    "«Лови билет!» — лидер по количеству мероприятий(20.9%)"
   ]
  },
  {
   "cell_type": "markdown",
   "metadata": {},
   "source": [
    "# Шаг 4: Статистический анализ данных"
   ]
  },
  {
   "cell_type": "markdown",
   "metadata": {},
   "source": [
    "Нам необходимо проверить две гипотезы:\n",
    "- Среднее количество заказов на одного пользователя мобильного приложения выше по сравнению с пользователями стационарных устройств.\n",
    "- Среднее время между заказами пользователей мобильных приложений выше по сравнению с пользователями стационарных устройств.\n",
    "\n",
    "Цели исследования:\n",
    "\n",
    "Необходимо сравнить средние значения между двумя группами\n",
    "\n",
    "Требуется определить статистическую значимость различий"
   ]
  },
  {
   "cell_type": "code",
   "execution_count": 47,
   "metadata": {},
   "outputs": [],
   "source": [
    "# Фильтрация данных по осеннему периоду\n",
    "fall_data = final_df_cleaned[final_df_cleaned['season'] == 'осень']\n",
    "\n",
    "# Разделение данных по устройствам\n",
    "mobile_data = fall_data[fall_data['device_type_canonical'] == 'mobile']\n",
    "desktop_data = fall_data[fall_data['device_type_canonical'] == 'desktop']"
   ]
  },
  {
   "cell_type": "markdown",
   "metadata": {},
   "source": [
    "Мы будем проводить одностороний t-тест т.к.:\n",
    "\n",
    "- В обоих случаях мы сравниваем количественные показатели (количество заказов и время между заказами)\n",
    "- Данные представлены в виде непрерывных числовых значений\n",
    "- Мы имеем дело с независимыми выборками (мобильные и десктопные пользователи)\n",
    "- Группы не пересекаются между собой\n",
    "- Уровень значимости примем 0.05\n",
    "\n",
    "**Сформулируем первую гипотизу:**\n",
    "- H0: Среднее количество заказов на пользователя мобильных устройств ≤ стационарных устройств\n",
    "- H1: Среднее количество заказов на пользователя мобильных устройств > стационарных устройств"
   ]
  },
  {
   "cell_type": "code",
   "execution_count": 48,
   "metadata": {
    "scrolled": false
   },
   "outputs": [
    {
     "data": {
      "text/plain": [
       "'Проверка размеров выборок:'"
      ]
     },
     "metadata": {},
     "output_type": "display_data"
    },
    {
     "data": {
      "text/plain": [
       "'Мобильные 14239'"
      ]
     },
     "metadata": {},
     "output_type": "display_data"
    },
    {
     "data": {
      "text/plain": [
       "'Стационарные 4906'"
      ]
     },
     "metadata": {},
     "output_type": "display_data"
    },
    {
     "data": {
      "text/plain": [
       "'Разница 65.55%'"
      ]
     },
     "metadata": {},
     "output_type": "display_data"
    },
    {
     "data": {
      "text/plain": [
       "'Проверка на выбросы:'"
      ]
     },
     "metadata": {},
     "output_type": "display_data"
    },
    {
     "name": "stdout",
     "output_type": "stream",
     "text": [
      "Мобильные данные: count    14239.000000\n",
      "mean         9.514573\n",
      "std         68.480080\n",
      "min          1.000000\n",
      "25%          1.000000\n",
      "50%          2.000000\n",
      "75%          5.000000\n",
      "max       4365.000000\n",
      "Name: order_id, dtype: float64\n",
      "Десктопные данные: count    4906.000000\n",
      "mean        7.069303\n",
      "std        36.174169\n",
      "min         1.000000\n",
      "25%         1.000000\n",
      "50%         2.000000\n",
      "75%         4.000000\n",
      "max      1510.000000\n",
      "Name: order_id, dtype: float64\n"
     ]
    }
   ],
   "source": [
    "# Подготовка данных для тестирования\n",
    "mobile_group = mobile_data.groupby('user_id')['order_id'].nunique()\n",
    "desktop_group = desktop_data.groupby('user_id')['order_id'].nunique()\n",
    "# Проверка размеров выборок\n",
    "mobile_size = len(mobile_group)\n",
    "desktop_size = len(desktop_group)\n",
    "size_ratio = abs(mobile_size - desktop_size) / max(mobile_size, desktop_size)\n",
    "display('Проверка размеров выборок:')\n",
    "display(f'Мобильные {mobile_size}')\n",
    "display(f'Стационарные {desktop_size}')\n",
    "display(f'Разница {size_ratio*100:.2f}%')\n",
    "# Проверка на выбросы\n",
    "display(\"Проверка на выбросы:\")\n",
    "print(f\"Мобильные данные: {mobile_group.describe()}\")\n",
    "print(f\"Десктопные данные: {desktop_group.describe()}\")"
   ]
  },
  {
   "cell_type": "markdown",
   "metadata": {},
   "source": [
    "При подготовке данных для проведения теста мы наблюдаем наличие выбросов(для их устранения мы отфильтруем данные по 99 квантилю).\n",
    "\n",
    "Так же наши выборки имеют разный размер(Разница 65.55%) при тестировании будем применять поправку Уэлча.  "
   ]
  },
  {
   "cell_type": "code",
   "execution_count": 49,
   "metadata": {},
   "outputs": [
    {
     "name": "stdout",
     "output_type": "stream",
     "text": [
      "Мобильные данные: count    14094.000000\n",
      "mean         5.198028\n",
      "std         10.485241\n",
      "min          1.000000\n",
      "25%          1.000000\n",
      "50%          2.000000\n",
      "75%          4.000000\n",
      "max        114.000000\n",
      "Name: order_id, dtype: float64\n",
      "Десктопные данные: count    4856.000000\n",
      "mean        4.485379\n",
      "std         9.396002\n",
      "min         1.000000\n",
      "25%         1.000000\n",
      "50%         2.000000\n",
      "75%         4.000000\n",
      "max       102.000000\n",
      "Name: order_id, dtype: float64\n"
     ]
    }
   ],
   "source": [
    "# Очищаем данные от выбросов\n",
    "mobile_clean = mobile_group[mobile_group < mobile_group.quantile(0.99)]\n",
    "desktop_clean = desktop_group[desktop_group < desktop_group.quantile(0.99)]\n",
    "#Проверим результат\n",
    "print(f\"Мобильные данные: {mobile_clean.describe()}\")\n",
    "print(f\"Десктопные данные: {desktop_clean.describe()}\")"
   ]
  },
  {
   "cell_type": "code",
   "execution_count": 50,
   "metadata": {},
   "outputs": [
    {
     "name": "stdout",
     "output_type": "stream",
     "text": [
      "Результаты t-теста для гипотезы о количестве заказов:\n",
      "Среднее количество заказов на мобильного пользователя: 5.20\n",
      "Среднее количество заказов на десктопного пользователя: 4.49\n",
      "\n",
      "T-статистика: 4.4213\n",
      "P-значение: 0.0000\n",
      "\n",
      "Гипотеза подтверждена: мобильные пользователи делают статистически значимо больше заказов\n"
     ]
    }
   ],
   "source": [
    "# Расчет средних значений\n",
    "mobile_avg_orders = mobile_clean.mean()\n",
    "desktop_avg_orders = desktop_clean.mean()\n",
    "# после подготоки данных проведем t-тест\n",
    "t_stat, p_value = ttest_ind(\n",
    "    mobile_clean,\n",
    "    desktop_clean,\n",
    "    alternative='greater', # проводим правосторонний тест (мобильных устройств > стационарных устройств)\n",
    "    equal_var=False  # поправка Уэлча\n",
    ")\n",
    "# Выводим результаты\n",
    "print(\"Результаты t-теста для гипотезы о количестве заказов:\")\n",
    "print(f\"Среднее количество заказов на мобильного пользователя: {mobile_avg_orders:.2f}\")\n",
    "print(f\"Среднее количество заказов на десктопного пользователя: {desktop_avg_orders:.2f}\")\n",
    "print(f\"\\nT-статистика: {t_stat:.4f}\")\n",
    "print(f\"P-значение: {p_value:.4f}\")\n",
    "\n",
    "# Интерпретация результатов\n",
    "if p_value < 0.05:\n",
    "    print(\"\\nГипотеза подтверждена: мобильные пользователи делают статистически значимо больше заказов\")\n",
    "else:\n",
    "    print(\"\\nГипотеза не подтверждена: нет статистически значимых различий в количестве заказов\")"
   ]
  },
  {
   "cell_type": "markdown",
   "metadata": {},
   "source": [
    "Мобильные пользователи более активны в совершении заказов.\n",
    "\n",
    "Существует значимая разница в покупательском поведении."
   ]
  },
  {
   "cell_type": "markdown",
   "metadata": {},
   "source": [
    "Сформулируем вторую  гипотезу:\n",
    "- H0: Среднее время между заказами мобильных пользователей ≤ стационарных\n",
    "- H1: Среднее время между заказами мобильных пользователей > стационарных\n",
    "\n",
    "Т.к. нам известно о разном размере выборок при тестировании так же применим поправку Уэлча."
   ]
  },
  {
   "cell_type": "code",
   "execution_count": 51,
   "metadata": {},
   "outputs": [],
   "source": [
    "# Шаг 2: Удаление пропусков в исходных данных\n",
    "mobile_data_clean = mobile_data.dropna(subset=['days_since_prev'])\n",
    "desktop_data_clean = desktop_data.dropna(subset=['days_since_prev'])\n",
    "# Расчет времени\n",
    "mobile_time = mobile_data_clean.groupby('user_id')['days_since_prev'].mean()\n",
    "desktop_time = desktop_data_clean.groupby('user_id')['days_since_prev'].mean()"
   ]
  },
  {
   "cell_type": "code",
   "execution_count": 52,
   "metadata": {},
   "outputs": [
    {
     "name": "stdout",
     "output_type": "stream",
     "text": [
      "\n",
      "Результаты t-теста для гипотезы о времени между заказами:\n",
      "Среднее время между заказами для мобильных пользователей: 20.65 дней\n",
      "Среднее время между заказами для десктопных пользователей: 14.96 дней\n",
      "\n",
      "T-статистика: 12.1947\n",
      "P-значение: 0.0000\n",
      "\n",
      "Гипотеза подтверждена: время между заказами у мобильных пользователей статистически значимо больше\n",
      "\n",
      "Дополнительные метрики:\n",
      "Разница средних: 5.69 дней\n",
      "Процентное различие: 38.07%\n"
     ]
    }
   ],
   "source": [
    "# Проведение t-теста\n",
    "t_stat_time, p_value_time = ttest_ind(\n",
    "    mobile_time,\n",
    "    desktop_time,\n",
    "    alternative='greater', # проводим правосторонний тест(время между заказами мобильных пользователей > стационарных)\n",
    "    equal_var=False  # поправка Уэлча\n",
    ")\n",
    "# Рассчитываем средние значения для наглядности\n",
    "avg_mobile_time = mobile_time.mean()\n",
    "avg_desktop_time = desktop_time.mean()\n",
    "\n",
    "# Выводим результаты\n",
    "print(\"\\nРезультаты t-теста для гипотезы о времени между заказами:\")\n",
    "print(f\"Среднее время между заказами для мобильных пользователей: {avg_mobile_time:.2f} дней\")\n",
    "print(f\"Среднее время между заказами для десктопных пользователей: {avg_desktop_time:.2f} дней\")\n",
    "print(f\"\\nT-статистика: {t_stat_time:.4f}\")\n",
    "print(f\"P-значение: {p_value_time:.4f}\")\n",
    "\n",
    "# Интерпретация результатов\n",
    "if p_value_time < 0.05:\n",
    "    print(\"\\nГипотеза подтверждена: время между заказами у мобильных пользователей статистически значимо больше\")\n",
    "else:\n",
    "    print(\"\\nГипотеза не подтверждена: нет статистически значимых различий во времени между заказами\")\n",
    "\n",
    "# Дополнительные метрики\n",
    "print(\"\\nДополнительные метрики:\")\n",
    "print(f\"Разница средних: {avg_mobile_time - avg_desktop_time:.2f} дней\")\n",
    "print(f\"Процентное различие: {(avg_mobile_time - avg_desktop_time)/avg_desktop_time*100:.2f}%\")"
   ]
  },
  {
   "cell_type": "markdown",
   "metadata": {},
   "source": [
    "Мобильные пользователи имеют более длительные паузы между заказами."
   ]
  },
  {
   "cell_type": "markdown",
   "metadata": {},
   "source": [
    "# Шаг 5: Общий вывод и рекомендации"
   ]
  },
  {
   "cell_type": "markdown",
   "metadata": {},
   "source": [
    "### Общая информация\n",
    "\n",
    "Мы работали с данными о бронировании билетов на сервисе Яндекс Афиша\n",
    "\n",
    "**Период исследования:** 1 июня — 30 октября 2024 года\n",
    "\n",
    "---\n",
    "\n",
    "### 1. Популярность типов мероприятий\n",
    "\n",
    "#### Сезонные тренды\n",
    "* **Концерты** сохраняют лидерство:\n",
    "  * Лето: **42.79%**\n",
    "  * Осень: **37.45%**\n",
    "* **Театральные постановки** показали рост:\n",
    "  * Осень: **25.33%** (+5.22 п.п. к лету)\n",
    "  * Лето: **20.11%**\n",
    "\n",
    "---\n",
    "\n",
    "### 2. Цены на билеты\n",
    "\n",
    "* **Общее снижение цен** в 5 из 7 категорий (~10%)\n",
    "* **Рост цен** зафиксирован в:\n",
    "  * Стендап-шоу\n",
    "  * Выставки\n",
    "\n",
    "---\n",
    "\n",
    "### 3. Региональный анализ\n",
    "\n",
    "#### Лидеры по показателям\n",
    "* **Каменевский регион:**\n",
    "  * **24.8%** всех мероприятий\n",
    "  * **27.9%** всех заказов\n",
    "  * **30.7 млн руб.** выручки\n",
    "  * **3946** уникальных события\n",
    "\n",
    "* **Североярская область:**\n",
    "  * **2662** уникальных событий\n",
    "  * **16%** всех мероприятий\n",
    "\n",
    "* **Топ-2 региона:**\n",
    "  * Обеспечивают **41%** всех мероприятий\n",
    "  * Каменевский регион более чем в 1.5 раза опережает конкурента\n",
    "\n",
    "---\n",
    "\n",
    "### 4. Анализ билетных партнеров\n",
    "\n",
    "#### Ключевые партнеры\n",
    "* **«Билеты без проблем»:**\n",
    "  * **16.4%** мероприятий\n",
    "  * **19.2%** заказов\n",
    "  * **13. млн руб.** выручки\n",
    "  * **15.3** общей выручки\n",
    "\n",
    "* **«Мой билет\n",
    "  * **5.8%** мероприятий (лидер)\n",
    "  * **11.6%** заказов\n",
    "  * **11.5 млн руб.** выручки\n",
    "  * **13.2%** общей выручки\n",
    "\n",
    "* **«Облачко»:**\n",
    "  * **8.1%** мероприятий\n",
    "  * **9.1%** заказов\n",
    "  * **10.9 млн руб.** выручки\n",
    "  * **12.8%** общей выручки\n",
    "\n",
    "---\n",
    "\n",
    "### 5. Результаты тестирования гипотез\n",
    "\n",
    "#### Подтвержденные выводы:\n",
    "* **Мобильные пользователи:**\n",
    "  * Более активны в заказах (**5.2** против **4.49**)\n",
    "  * Имеют больший интервал между заказами (**38.07%** разница)\n",
    "\n",
    "---\n",
    "\n",
    "### Рекомендации\n",
    "* Развивать сотрудничество с партнерами «Билеты без проблем» и «Мой билет»\n",
    "* Отслеживать ценовую динамику по категориям\n",
    "* Оптимизировать мобильное приложение с учетом поведенческих особенностей пользователей\n"
   ]
  }
 ],
 "metadata": {
  "ExecuteTimeLog": [
   {
    "duration": 435,
    "start_time": "2025-08-20T10:25:59.621Z"
   },
   {
    "duration": 73,
    "start_time": "2025-08-20T10:30:03.992Z"
   },
   {
    "duration": 2067,
    "start_time": "2025-08-20T10:30:22.688Z"
   },
   {
    "duration": 113,
    "start_time": "2025-08-20T10:32:16.854Z"
   },
   {
    "duration": 21,
    "start_time": "2025-08-20T10:32:48.557Z"
   },
   {
    "duration": 12,
    "start_time": "2025-08-20T10:32:50.060Z"
   },
   {
    "duration": 133,
    "start_time": "2025-08-20T10:34:23.396Z"
   },
   {
    "duration": 32,
    "start_time": "2025-08-20T10:34:58.521Z"
   },
   {
    "duration": 17,
    "start_time": "2025-08-20T10:35:16.970Z"
   },
   {
    "duration": 386,
    "start_time": "2025-08-20T11:35:59.047Z"
   },
   {
    "duration": 240,
    "start_time": "2025-08-20T11:36:35.118Z"
   },
   {
    "duration": 377,
    "start_time": "2025-08-20T11:42:53.597Z"
   },
   {
    "duration": 2103,
    "start_time": "2025-08-20T11:42:53.976Z"
   },
   {
    "duration": 123,
    "start_time": "2025-08-20T11:42:56.080Z"
   },
   {
    "duration": 28,
    "start_time": "2025-08-20T11:42:56.205Z"
   },
   {
    "duration": 34,
    "start_time": "2025-08-20T11:42:56.236Z"
   },
   {
    "duration": 620,
    "start_time": "2025-08-20T11:42:56.272Z"
   },
   {
    "duration": 278,
    "start_time": "2025-08-20T11:42:56.894Z"
   },
   {
    "duration": 1528,
    "start_time": "2025-08-20T11:53:27.500Z"
   },
   {
    "duration": 1901,
    "start_time": "2025-08-20T11:53:29.030Z"
   },
   {
    "duration": 145,
    "start_time": "2025-08-20T11:53:30.933Z"
   },
   {
    "duration": 34,
    "start_time": "2025-08-20T11:53:31.080Z"
   },
   {
    "duration": 161,
    "start_time": "2025-08-20T11:53:31.117Z"
   },
   {
    "duration": 638,
    "start_time": "2025-08-20T11:53:31.281Z"
   },
   {
    "duration": 282,
    "start_time": "2025-08-20T11:53:31.920Z"
   },
   {
    "duration": 12,
    "start_time": "2025-08-20T11:53:32.204Z"
   },
   {
    "duration": 1745,
    "start_time": "2025-08-20T11:53:32.218Z"
   },
   {
    "duration": 11415,
    "start_time": "2025-08-20T11:53:33.965Z"
   },
   {
    "duration": 336,
    "start_time": "2025-08-20T11:53:45.382Z"
   },
   {
    "duration": 1271,
    "start_time": "2025-08-20T11:58:22.643Z"
   },
   {
    "duration": 1590,
    "start_time": "2025-08-20T11:58:23.916Z"
   },
   {
    "duration": 127,
    "start_time": "2025-08-20T11:58:25.508Z"
   },
   {
    "duration": 37,
    "start_time": "2025-08-20T11:58:25.637Z"
   },
   {
    "duration": 21,
    "start_time": "2025-08-20T11:58:25.677Z"
   },
   {
    "duration": 632,
    "start_time": "2025-08-20T11:58:25.700Z"
   },
   {
    "duration": 311,
    "start_time": "2025-08-20T11:58:26.334Z"
   },
   {
    "duration": 135,
    "start_time": "2025-08-20T11:58:59.419Z"
   },
   {
    "duration": 87,
    "start_time": "2025-08-20T12:00:54.169Z"
   },
   {
    "duration": 138,
    "start_time": "2025-08-20T12:01:45.752Z"
   },
   {
    "duration": 169,
    "start_time": "2025-08-20T12:02:24.055Z"
   },
   {
    "duration": 137,
    "start_time": "2025-08-20T12:04:30.629Z"
   },
   {
    "duration": 274,
    "start_time": "2025-08-20T12:26:00.644Z"
   },
   {
    "duration": 4,
    "start_time": "2025-08-20T12:26:03.475Z"
   },
   {
    "duration": 281,
    "start_time": "2025-08-20T12:26:25.803Z"
   },
   {
    "duration": 1401,
    "start_time": "2025-08-20T12:28:34.946Z"
   },
   {
    "duration": 2120,
    "start_time": "2025-08-20T12:28:36.349Z"
   },
   {
    "duration": 141,
    "start_time": "2025-08-20T12:28:38.475Z"
   },
   {
    "duration": 51,
    "start_time": "2025-08-20T12:28:38.619Z"
   },
   {
    "duration": 19,
    "start_time": "2025-08-20T12:28:38.672Z"
   },
   {
    "duration": 638,
    "start_time": "2025-08-20T12:28:38.693Z"
   },
   {
    "duration": 295,
    "start_time": "2025-08-20T12:28:39.333Z"
   },
   {
    "duration": 152,
    "start_time": "2025-08-20T12:28:39.630Z"
   },
   {
    "duration": 1915,
    "start_time": "2025-08-20T12:28:39.783Z"
   },
   {
    "duration": 291,
    "start_time": "2025-08-20T12:28:41.700Z"
   },
   {
    "duration": 4,
    "start_time": "2025-08-20T12:28:41.993Z"
   },
   {
    "duration": 128,
    "start_time": "2025-08-20T12:29:37.322Z"
   },
   {
    "duration": 7767,
    "start_time": "2025-08-20T12:30:22.209Z"
   },
   {
    "duration": 3240,
    "start_time": "2025-08-20T12:33:34.277Z"
   },
   {
    "duration": 2869,
    "start_time": "2025-08-20T12:34:14.277Z"
   },
   {
    "duration": 253,
    "start_time": "2025-08-20T12:36:37.658Z"
   },
   {
    "duration": 148,
    "start_time": "2025-08-20T12:40:39.205Z"
   },
   {
    "duration": 39,
    "start_time": "2025-08-20T12:40:56.078Z"
   },
   {
    "duration": 46,
    "start_time": "2025-08-20T12:41:28.341Z"
   },
   {
    "duration": 1305,
    "start_time": "2025-08-20T12:44:45.142Z"
   },
   {
    "duration": 2015,
    "start_time": "2025-08-20T12:44:46.450Z"
   },
   {
    "duration": 142,
    "start_time": "2025-08-20T12:44:48.467Z"
   },
   {
    "duration": 45,
    "start_time": "2025-08-20T12:44:48.611Z"
   },
   {
    "duration": 18,
    "start_time": "2025-08-20T12:44:48.658Z"
   },
   {
    "duration": 625,
    "start_time": "2025-08-20T12:44:48.678Z"
   },
   {
    "duration": 309,
    "start_time": "2025-08-20T12:44:49.305Z"
   },
   {
    "duration": 127,
    "start_time": "2025-08-20T12:44:49.616Z"
   },
   {
    "duration": 1840,
    "start_time": "2025-08-20T12:44:49.745Z"
   },
   {
    "duration": 285,
    "start_time": "2025-08-20T12:44:51.587Z"
   },
   {
    "duration": 4,
    "start_time": "2025-08-20T12:44:51.874Z"
   },
   {
    "duration": 181,
    "start_time": "2025-08-20T12:44:51.880Z"
   },
   {
    "duration": 7634,
    "start_time": "2025-08-20T12:44:52.063Z"
   },
   {
    "duration": 3225,
    "start_time": "2025-08-20T12:44:59.700Z"
   },
   {
    "duration": 278,
    "start_time": "2025-08-20T12:45:02.927Z"
   },
   {
    "duration": 17,
    "start_time": "2025-08-20T12:45:03.208Z"
   },
   {
    "duration": 279,
    "start_time": "2025-08-20T12:45:03.227Z"
   },
   {
    "duration": 141,
    "start_time": "2025-08-20T12:45:53.880Z"
   },
   {
    "duration": 220,
    "start_time": "2025-08-20T12:46:05.048Z"
   },
   {
    "duration": 1329,
    "start_time": "2025-08-20T12:57:46.082Z"
   },
   {
    "duration": 2419,
    "start_time": "2025-08-20T12:57:47.413Z"
   },
   {
    "duration": 130,
    "start_time": "2025-08-20T12:57:49.834Z"
   },
   {
    "duration": 30,
    "start_time": "2025-08-20T12:57:49.966Z"
   },
   {
    "duration": 25,
    "start_time": "2025-08-20T12:57:49.999Z"
   },
   {
    "duration": 616,
    "start_time": "2025-08-20T12:57:50.026Z"
   },
   {
    "duration": 304,
    "start_time": "2025-08-20T12:57:50.644Z"
   },
   {
    "duration": 136,
    "start_time": "2025-08-20T12:57:50.955Z"
   },
   {
    "duration": 1843,
    "start_time": "2025-08-20T12:57:51.092Z"
   },
   {
    "duration": 300,
    "start_time": "2025-08-20T12:57:52.937Z"
   },
   {
    "duration": 4,
    "start_time": "2025-08-20T12:57:53.239Z"
   },
   {
    "duration": 202,
    "start_time": "2025-08-20T12:57:53.245Z"
   },
   {
    "duration": 7618,
    "start_time": "2025-08-20T12:57:53.449Z"
   },
   {
    "duration": 3280,
    "start_time": "2025-08-20T12:58:01.071Z"
   },
   {
    "duration": 275,
    "start_time": "2025-08-20T12:58:04.352Z"
   },
   {
    "duration": 155,
    "start_time": "2025-08-20T12:58:04.630Z"
   },
   {
    "duration": 155,
    "start_time": "2025-08-20T12:58:04.788Z"
   },
   {
    "duration": 303,
    "start_time": "2025-08-20T12:58:04.945Z"
   },
   {
    "duration": 12,
    "start_time": "2025-08-20T13:00:30.680Z"
   },
   {
    "duration": 102,
    "start_time": "2025-08-20T13:00:35.424Z"
   },
   {
    "duration": 223,
    "start_time": "2025-08-20T13:00:40.504Z"
   },
   {
    "duration": 163,
    "start_time": "2025-08-20T13:25:44.428Z"
   },
   {
    "duration": 197,
    "start_time": "2025-08-20T13:29:36.783Z"
   },
   {
    "duration": 197,
    "start_time": "2025-08-20T13:30:02.318Z"
   },
   {
    "duration": 1229,
    "start_time": "2025-08-20T13:32:48.184Z"
   },
   {
    "duration": 2047,
    "start_time": "2025-08-20T13:32:49.416Z"
   },
   {
    "duration": 134,
    "start_time": "2025-08-20T13:32:51.467Z"
   },
   {
    "duration": 31,
    "start_time": "2025-08-20T13:32:51.604Z"
   },
   {
    "duration": 34,
    "start_time": "2025-08-20T13:32:51.636Z"
   },
   {
    "duration": 615,
    "start_time": "2025-08-20T13:32:51.672Z"
   },
   {
    "duration": 282,
    "start_time": "2025-08-20T13:32:52.288Z"
   },
   {
    "duration": 138,
    "start_time": "2025-08-20T13:32:52.572Z"
   },
   {
    "duration": 1792,
    "start_time": "2025-08-20T13:32:52.712Z"
   },
   {
    "duration": 283,
    "start_time": "2025-08-20T13:32:54.506Z"
   },
   {
    "duration": 5,
    "start_time": "2025-08-20T13:32:54.790Z"
   },
   {
    "duration": 165,
    "start_time": "2025-08-20T13:32:54.796Z"
   },
   {
    "duration": 7499,
    "start_time": "2025-08-20T13:32:54.964Z"
   },
   {
    "duration": 3101,
    "start_time": "2025-08-20T13:33:02.465Z"
   },
   {
    "duration": 248,
    "start_time": "2025-08-20T13:33:05.568Z"
   },
   {
    "duration": 12,
    "start_time": "2025-08-20T13:33:05.818Z"
   },
   {
    "duration": 127,
    "start_time": "2025-08-20T13:33:05.832Z"
   },
   {
    "duration": 220,
    "start_time": "2025-08-20T13:33:05.962Z"
   },
   {
    "duration": 259,
    "start_time": "2025-08-20T13:33:44.753Z"
   },
   {
    "duration": 178,
    "start_time": "2025-08-20T13:34:11.825Z"
   },
   {
    "duration": 1268,
    "start_time": "2025-08-20T13:36:32.240Z"
   },
   {
    "duration": 2124,
    "start_time": "2025-08-20T13:36:33.510Z"
   },
   {
    "duration": 126,
    "start_time": "2025-08-20T13:36:35.636Z"
   },
   {
    "duration": 29,
    "start_time": "2025-08-20T13:36:35.763Z"
   },
   {
    "duration": 17,
    "start_time": "2025-08-20T13:36:35.795Z"
   },
   {
    "duration": 695,
    "start_time": "2025-08-20T13:36:35.813Z"
   },
   {
    "duration": 277,
    "start_time": "2025-08-20T13:36:36.510Z"
   },
   {
    "duration": 136,
    "start_time": "2025-08-20T13:36:36.789Z"
   },
   {
    "duration": 1805,
    "start_time": "2025-08-20T13:36:36.927Z"
   },
   {
    "duration": 277,
    "start_time": "2025-08-20T13:36:38.733Z"
   },
   {
    "duration": 4,
    "start_time": "2025-08-20T13:36:39.011Z"
   },
   {
    "duration": 147,
    "start_time": "2025-08-20T13:36:39.017Z"
   },
   {
    "duration": 7203,
    "start_time": "2025-08-20T13:36:39.165Z"
   },
   {
    "duration": 3095,
    "start_time": "2025-08-20T13:36:46.372Z"
   },
   {
    "duration": 254,
    "start_time": "2025-08-20T13:36:49.469Z"
   },
   {
    "duration": 123,
    "start_time": "2025-08-20T13:36:49.725Z"
   },
   {
    "duration": 105,
    "start_time": "2025-08-20T13:36:49.855Z"
   },
   {
    "duration": 226,
    "start_time": "2025-08-20T13:36:49.962Z"
   },
   {
    "duration": 1252,
    "start_time": "2025-08-20T13:59:23.166Z"
   },
   {
    "duration": 1958,
    "start_time": "2025-08-20T13:59:24.420Z"
   },
   {
    "duration": 144,
    "start_time": "2025-08-20T13:59:26.381Z"
   },
   {
    "duration": 38,
    "start_time": "2025-08-20T13:59:26.527Z"
   },
   {
    "duration": 17,
    "start_time": "2025-08-20T13:59:26.568Z"
   },
   {
    "duration": 641,
    "start_time": "2025-08-20T13:59:26.587Z"
   },
   {
    "duration": 284,
    "start_time": "2025-08-20T13:59:27.229Z"
   },
   {
    "duration": 139,
    "start_time": "2025-08-20T13:59:27.515Z"
   },
   {
    "duration": 1862,
    "start_time": "2025-08-20T13:59:27.656Z"
   },
   {
    "duration": 287,
    "start_time": "2025-08-20T13:59:29.520Z"
   },
   {
    "duration": 4,
    "start_time": "2025-08-20T13:59:29.809Z"
   },
   {
    "duration": 151,
    "start_time": "2025-08-20T13:59:29.815Z"
   },
   {
    "duration": 7523,
    "start_time": "2025-08-20T13:59:29.968Z"
   },
   {
    "duration": 3150,
    "start_time": "2025-08-20T13:59:37.494Z"
   },
   {
    "duration": 299,
    "start_time": "2025-08-20T13:59:40.654Z"
   },
   {
    "duration": 490,
    "start_time": "2025-08-20T13:59:40.955Z"
   },
   {
    "duration": 223,
    "start_time": "2025-08-20T14:00:03.529Z"
   },
   {
    "duration": 546,
    "start_time": "2025-08-20T14:00:33.833Z"
   },
   {
    "duration": 1499,
    "start_time": "2025-08-21T10:50:16.741Z"
   },
   {
    "duration": 1862,
    "start_time": "2025-08-21T10:50:18.242Z"
   },
   {
    "duration": 131,
    "start_time": "2025-08-21T10:50:20.105Z"
   },
   {
    "duration": 35,
    "start_time": "2025-08-21T10:50:20.238Z"
   },
   {
    "duration": 35,
    "start_time": "2025-08-21T10:50:20.275Z"
   },
   {
    "duration": 602,
    "start_time": "2025-08-21T10:50:20.312Z"
   },
   {
    "duration": 295,
    "start_time": "2025-08-21T10:50:20.916Z"
   },
   {
    "duration": 140,
    "start_time": "2025-08-21T10:50:21.212Z"
   },
   {
    "duration": 1898,
    "start_time": "2025-08-21T10:50:21.362Z"
   },
   {
    "duration": 273,
    "start_time": "2025-08-21T10:50:23.264Z"
   },
   {
    "duration": 18,
    "start_time": "2025-08-21T10:50:23.538Z"
   },
   {
    "duration": 131,
    "start_time": "2025-08-21T10:50:23.561Z"
   },
   {
    "duration": 7755,
    "start_time": "2025-08-21T10:50:23.693Z"
   },
   {
    "duration": 3317,
    "start_time": "2025-08-21T10:50:31.460Z"
   },
   {
    "duration": 295,
    "start_time": "2025-08-21T10:50:34.780Z"
   },
   {
    "duration": 535,
    "start_time": "2025-08-21T10:50:35.078Z"
   },
   {
    "duration": 227,
    "start_time": "2025-08-21T10:50:35.615Z"
   },
   {
    "duration": 562,
    "start_time": "2025-08-21T10:50:35.849Z"
   },
   {
    "duration": 1382,
    "start_time": "2025-08-21T10:53:51.930Z"
   },
   {
    "duration": 211,
    "start_time": "2025-08-21T10:56:08.065Z"
   },
   {
    "duration": 74,
    "start_time": "2025-08-21T10:58:41.837Z"
   },
   {
    "duration": 300,
    "start_time": "2025-08-21T11:03:30.833Z"
   },
   {
    "duration": 305,
    "start_time": "2025-08-21T11:06:53.675Z"
   },
   {
    "duration": 32,
    "start_time": "2025-08-21T11:08:11.195Z"
   },
   {
    "duration": 680,
    "start_time": "2025-08-21T11:08:22.115Z"
   },
   {
    "duration": 5509,
    "start_time": "2025-08-21T11:21:21.917Z"
   },
   {
    "duration": 20,
    "start_time": "2025-08-21T11:22:52.428Z"
   },
   {
    "duration": 25,
    "start_time": "2025-08-21T11:24:26.986Z"
   },
   {
    "duration": 14,
    "start_time": "2025-08-21T11:25:14.016Z"
   },
   {
    "duration": 84,
    "start_time": "2025-08-21T11:28:54.940Z"
   },
   {
    "duration": 83,
    "start_time": "2025-08-21T11:29:07.036Z"
   },
   {
    "duration": 5,
    "start_time": "2025-08-21T11:30:35.883Z"
   },
   {
    "duration": 231,
    "start_time": "2025-08-21T11:32:03.274Z"
   },
   {
    "duration": 1356,
    "start_time": "2025-08-21T11:50:08.246Z"
   },
   {
    "duration": 1856,
    "start_time": "2025-08-21T11:50:09.605Z"
   },
   {
    "duration": 150,
    "start_time": "2025-08-21T11:50:11.468Z"
   },
   {
    "duration": 61,
    "start_time": "2025-08-21T11:50:11.620Z"
   },
   {
    "duration": 18,
    "start_time": "2025-08-21T11:50:11.684Z"
   },
   {
    "duration": 657,
    "start_time": "2025-08-21T11:50:11.703Z"
   },
   {
    "duration": 347,
    "start_time": "2025-08-21T11:50:12.361Z"
   },
   {
    "duration": 171,
    "start_time": "2025-08-21T11:50:12.710Z"
   },
   {
    "duration": 2036,
    "start_time": "2025-08-21T11:50:12.883Z"
   },
   {
    "duration": 313,
    "start_time": "2025-08-21T11:50:14.921Z"
   },
   {
    "duration": 4,
    "start_time": "2025-08-21T11:50:15.237Z"
   },
   {
    "duration": 177,
    "start_time": "2025-08-21T11:50:15.243Z"
   },
   {
    "duration": 8364,
    "start_time": "2025-08-21T11:50:15.422Z"
   },
   {
    "duration": 3524,
    "start_time": "2025-08-21T11:50:23.791Z"
   },
   {
    "duration": 294,
    "start_time": "2025-08-21T11:50:27.317Z"
   },
   {
    "duration": 524,
    "start_time": "2025-08-21T11:50:27.613Z"
   },
   {
    "duration": 245,
    "start_time": "2025-08-21T11:50:28.140Z"
   },
   {
    "duration": 621,
    "start_time": "2025-08-21T11:50:28.387Z"
   },
   {
    "duration": 1584,
    "start_time": "2025-08-21T11:50:29.011Z"
   },
   {
    "duration": 223,
    "start_time": "2025-08-21T11:50:30.597Z"
   },
   {
    "duration": 91,
    "start_time": "2025-08-21T11:50:30.822Z"
   },
   {
    "duration": 366,
    "start_time": "2025-08-21T11:50:30.915Z"
   },
   {
    "duration": 33,
    "start_time": "2025-08-21T11:50:31.284Z"
   },
   {
    "duration": 762,
    "start_time": "2025-08-21T11:50:31.320Z"
   },
   {
    "duration": 5609,
    "start_time": "2025-08-21T11:50:32.084Z"
   },
   {
    "duration": 5,
    "start_time": "2025-08-21T11:50:37.695Z"
   },
   {
    "duration": 286,
    "start_time": "2025-08-21T11:50:37.702Z"
   },
   {
    "duration": 350,
    "start_time": "2025-08-21T12:02:56.162Z"
   },
   {
    "duration": 278,
    "start_time": "2025-08-21T12:06:52.483Z"
   },
   {
    "duration": 404,
    "start_time": "2025-08-21T12:08:53.730Z"
   },
   {
    "duration": 230,
    "start_time": "2025-08-21T12:09:53.248Z"
   },
   {
    "duration": 348,
    "start_time": "2025-08-21T12:10:29.775Z"
   },
   {
    "duration": 305,
    "start_time": "2025-08-21T12:11:34.397Z"
   },
   {
    "duration": 320,
    "start_time": "2025-08-21T12:13:03.132Z"
   },
   {
    "duration": 358,
    "start_time": "2025-08-21T12:19:43.959Z"
   },
   {
    "duration": 74,
    "start_time": "2025-08-21T12:21:15.914Z"
   },
   {
    "duration": 313,
    "start_time": "2025-08-21T12:21:46.410Z"
   },
   {
    "duration": 314,
    "start_time": "2025-08-21T12:22:37.840Z"
   },
   {
    "duration": 87,
    "start_time": "2025-08-21T12:24:12.080Z"
   },
   {
    "duration": 1327,
    "start_time": "2025-08-21T12:24:32.217Z"
   },
   {
    "duration": 2025,
    "start_time": "2025-08-21T12:24:33.547Z"
   },
   {
    "duration": 148,
    "start_time": "2025-08-21T12:24:35.577Z"
   },
   {
    "duration": 47,
    "start_time": "2025-08-21T12:24:35.728Z"
   },
   {
    "duration": 23,
    "start_time": "2025-08-21T12:24:35.778Z"
   },
   {
    "duration": 672,
    "start_time": "2025-08-21T12:24:35.803Z"
   },
   {
    "duration": 349,
    "start_time": "2025-08-21T12:24:36.480Z"
   },
   {
    "duration": 179,
    "start_time": "2025-08-21T12:24:36.831Z"
   },
   {
    "duration": 2082,
    "start_time": "2025-08-21T12:24:37.012Z"
   },
   {
    "duration": 301,
    "start_time": "2025-08-21T12:24:39.096Z"
   },
   {
    "duration": 4,
    "start_time": "2025-08-21T12:24:39.399Z"
   },
   {
    "duration": 159,
    "start_time": "2025-08-21T12:24:39.405Z"
   },
   {
    "duration": 8352,
    "start_time": "2025-08-21T12:24:39.572Z"
   },
   {
    "duration": 3535,
    "start_time": "2025-08-21T12:24:47.927Z"
   },
   {
    "duration": 294,
    "start_time": "2025-08-21T12:24:51.468Z"
   },
   {
    "duration": 531,
    "start_time": "2025-08-21T12:24:51.771Z"
   },
   {
    "duration": 250,
    "start_time": "2025-08-21T12:24:52.305Z"
   },
   {
    "duration": 577,
    "start_time": "2025-08-21T12:24:52.559Z"
   },
   {
    "duration": 1515,
    "start_time": "2025-08-21T12:24:53.138Z"
   },
   {
    "duration": 215,
    "start_time": "2025-08-21T12:24:54.655Z"
   },
   {
    "duration": 89,
    "start_time": "2025-08-21T12:24:54.878Z"
   },
   {
    "duration": 328,
    "start_time": "2025-08-21T12:24:54.975Z"
   },
   {
    "duration": 48,
    "start_time": "2025-08-21T12:24:55.305Z"
   },
   {
    "duration": 728,
    "start_time": "2025-08-21T12:24:55.355Z"
   },
   {
    "duration": 6042,
    "start_time": "2025-08-21T12:24:56.085Z"
   },
   {
    "duration": 5,
    "start_time": "2025-08-21T12:25:02.129Z"
   },
   {
    "duration": 279,
    "start_time": "2025-08-21T12:25:02.136Z"
   },
   {
    "duration": 92,
    "start_time": "2025-08-21T12:25:02.418Z"
   },
   {
    "duration": 0,
    "start_time": "2025-08-21T12:25:02.512Z"
   },
   {
    "duration": 0,
    "start_time": "2025-08-21T12:25:02.514Z"
   },
   {
    "duration": 0,
    "start_time": "2025-08-21T12:25:02.516Z"
   },
   {
    "duration": 98,
    "start_time": "2025-08-21T12:25:29.663Z"
   },
   {
    "duration": 93,
    "start_time": "2025-08-21T12:26:22.988Z"
   },
   {
    "duration": 559,
    "start_time": "2025-08-21T12:29:06.237Z"
   },
   {
    "duration": 495,
    "start_time": "2025-08-21T12:29:38.243Z"
   },
   {
    "duration": 471,
    "start_time": "2025-08-21T12:29:54.132Z"
   },
   {
    "duration": 416,
    "start_time": "2025-08-21T12:30:08.203Z"
   },
   {
    "duration": 415,
    "start_time": "2025-08-21T12:30:59.683Z"
   },
   {
    "duration": 383,
    "start_time": "2025-08-21T12:33:57.582Z"
   },
   {
    "duration": 297,
    "start_time": "2025-08-21T12:34:07.286Z"
   },
   {
    "duration": 318,
    "start_time": "2025-08-21T12:34:13.295Z"
   },
   {
    "duration": 1426,
    "start_time": "2025-08-21T12:35:37.642Z"
   },
   {
    "duration": 2809,
    "start_time": "2025-08-21T12:35:39.071Z"
   },
   {
    "duration": 142,
    "start_time": "2025-08-21T12:35:41.882Z"
   },
   {
    "duration": 52,
    "start_time": "2025-08-21T12:35:42.026Z"
   },
   {
    "duration": 26,
    "start_time": "2025-08-21T12:35:42.082Z"
   },
   {
    "duration": 692,
    "start_time": "2025-08-21T12:35:42.110Z"
   },
   {
    "duration": 337,
    "start_time": "2025-08-21T12:35:42.804Z"
   },
   {
    "duration": 176,
    "start_time": "2025-08-21T12:35:43.149Z"
   },
   {
    "duration": 1969,
    "start_time": "2025-08-21T12:35:43.327Z"
   },
   {
    "duration": 290,
    "start_time": "2025-08-21T12:35:45.299Z"
   },
   {
    "duration": 5,
    "start_time": "2025-08-21T12:35:45.591Z"
   },
   {
    "duration": 169,
    "start_time": "2025-08-21T12:35:45.598Z"
   },
   {
    "duration": 8196,
    "start_time": "2025-08-21T12:35:45.772Z"
   },
   {
    "duration": 3611,
    "start_time": "2025-08-21T12:35:53.972Z"
   },
   {
    "duration": 303,
    "start_time": "2025-08-21T12:35:57.586Z"
   },
   {
    "duration": 546,
    "start_time": "2025-08-21T12:35:57.892Z"
   },
   {
    "duration": 252,
    "start_time": "2025-08-21T12:35:58.440Z"
   },
   {
    "duration": 597,
    "start_time": "2025-08-21T12:35:58.695Z"
   },
   {
    "duration": 1473,
    "start_time": "2025-08-21T12:35:59.294Z"
   },
   {
    "duration": 222,
    "start_time": "2025-08-21T12:36:00.771Z"
   },
   {
    "duration": 97,
    "start_time": "2025-08-21T12:36:00.995Z"
   },
   {
    "duration": 318,
    "start_time": "2025-08-21T12:36:01.094Z"
   },
   {
    "duration": 43,
    "start_time": "2025-08-21T12:36:01.414Z"
   },
   {
    "duration": 705,
    "start_time": "2025-08-21T12:36:01.459Z"
   },
   {
    "duration": 5851,
    "start_time": "2025-08-21T12:36:02.170Z"
   },
   {
    "duration": 5,
    "start_time": "2025-08-21T12:36:08.023Z"
   },
   {
    "duration": 269,
    "start_time": "2025-08-21T12:36:08.030Z"
   },
   {
    "duration": 496,
    "start_time": "2025-08-21T12:36:08.302Z"
   },
   {
    "duration": 162,
    "start_time": "2025-08-21T12:37:52.218Z"
   },
   {
    "duration": 1019,
    "start_time": "2025-08-21T12:41:06.991Z"
   },
   {
    "duration": 541,
    "start_time": "2025-08-21T12:43:01.540Z"
   },
   {
    "duration": 393,
    "start_time": "2025-08-21T12:43:14.971Z"
   },
   {
    "duration": 446,
    "start_time": "2025-08-21T12:43:27.827Z"
   },
   {
    "duration": 498,
    "start_time": "2025-08-21T12:44:32.498Z"
   },
   {
    "duration": 461,
    "start_time": "2025-08-21T12:45:52.060Z"
   },
   {
    "duration": 144,
    "start_time": "2025-08-21T12:46:16.479Z"
   },
   {
    "duration": 506,
    "start_time": "2025-08-21T12:46:36.679Z"
   },
   {
    "duration": 437,
    "start_time": "2025-08-21T12:50:31.618Z"
   },
   {
    "duration": 456,
    "start_time": "2025-08-21T12:59:45.280Z"
   },
   {
    "duration": 446,
    "start_time": "2025-08-21T13:01:25.493Z"
   },
   {
    "duration": 17,
    "start_time": "2025-08-21T13:09:07.917Z"
   },
   {
    "duration": 696,
    "start_time": "2025-08-21T13:09:47.300Z"
   },
   {
    "duration": 666,
    "start_time": "2025-08-21T13:12:43.660Z"
   },
   {
    "duration": 761,
    "start_time": "2025-08-21T13:13:24.336Z"
   },
   {
    "duration": 1320,
    "start_time": "2025-08-22T06:47:04.360Z"
   },
   {
    "duration": 1785,
    "start_time": "2025-08-22T06:47:05.682Z"
   },
   {
    "duration": 154,
    "start_time": "2025-08-22T06:47:07.469Z"
   },
   {
    "duration": 37,
    "start_time": "2025-08-22T06:47:07.625Z"
   },
   {
    "duration": 16,
    "start_time": "2025-08-22T06:47:07.664Z"
   },
   {
    "duration": 581,
    "start_time": "2025-08-22T06:47:07.682Z"
   },
   {
    "duration": 246,
    "start_time": "2025-08-22T06:47:08.265Z"
   },
   {
    "duration": 112,
    "start_time": "2025-08-22T06:47:08.512Z"
   },
   {
    "duration": 1624,
    "start_time": "2025-08-22T06:47:08.626Z"
   },
   {
    "duration": 260,
    "start_time": "2025-08-22T06:47:10.252Z"
   },
   {
    "duration": 4,
    "start_time": "2025-08-22T06:47:10.513Z"
   },
   {
    "duration": 131,
    "start_time": "2025-08-22T06:47:10.519Z"
   },
   {
    "duration": 7640,
    "start_time": "2025-08-22T06:47:10.652Z"
   },
   {
    "duration": 2791,
    "start_time": "2025-08-22T06:47:18.295Z"
   },
   {
    "duration": 242,
    "start_time": "2025-08-22T06:47:21.089Z"
   },
   {
    "duration": 451,
    "start_time": "2025-08-22T06:47:21.338Z"
   },
   {
    "duration": 215,
    "start_time": "2025-08-22T06:47:21.792Z"
   },
   {
    "duration": 498,
    "start_time": "2025-08-22T06:47:22.009Z"
   },
   {
    "duration": 1213,
    "start_time": "2025-08-22T06:47:22.509Z"
   },
   {
    "duration": 168,
    "start_time": "2025-08-22T06:47:23.724Z"
   },
   {
    "duration": 71,
    "start_time": "2025-08-22T06:47:23.894Z"
   },
   {
    "duration": 275,
    "start_time": "2025-08-22T06:47:23.967Z"
   },
   {
    "duration": 25,
    "start_time": "2025-08-22T06:47:24.244Z"
   },
   {
    "duration": 551,
    "start_time": "2025-08-22T06:47:24.271Z"
   },
   {
    "duration": 4461,
    "start_time": "2025-08-22T06:47:24.823Z"
   },
   {
    "duration": 4,
    "start_time": "2025-08-22T06:47:29.286Z"
   },
   {
    "duration": 240,
    "start_time": "2025-08-22T06:47:29.292Z"
   },
   {
    "duration": 379,
    "start_time": "2025-08-22T06:47:29.534Z"
   },
   {
    "duration": 412,
    "start_time": "2025-08-22T06:47:29.915Z"
   },
   {
    "duration": 364,
    "start_time": "2025-08-22T06:47:30.328Z"
   },
   {
    "duration": 402,
    "start_time": "2025-08-22T06:47:30.693Z"
   },
   {
    "duration": 650,
    "start_time": "2025-08-22T06:47:31.097Z"
   },
   {
    "duration": 134,
    "start_time": "2025-08-22T06:53:48.415Z"
   },
   {
    "duration": 138,
    "start_time": "2025-08-22T06:55:30.757Z"
   },
   {
    "duration": 469,
    "start_time": "2025-08-22T06:56:14.444Z"
   },
   {
    "duration": 378,
    "start_time": "2025-08-22T06:59:02.417Z"
   },
   {
    "duration": 418,
    "start_time": "2025-08-22T07:00:23.879Z"
   },
   {
    "duration": 363,
    "start_time": "2025-08-22T07:03:40.403Z"
   },
   {
    "duration": 375,
    "start_time": "2025-08-22T07:04:26.275Z"
   },
   {
    "duration": 362,
    "start_time": "2025-08-22T07:05:40.920Z"
   },
   {
    "duration": 221,
    "start_time": "2025-08-22T07:10:05.653Z"
   },
   {
    "duration": 314,
    "start_time": "2025-08-22T07:10:44.564Z"
   },
   {
    "duration": 357,
    "start_time": "2025-08-22T07:12:20.490Z"
   },
   {
    "duration": 103,
    "start_time": "2025-08-22T07:20:31.833Z"
   },
   {
    "duration": 359,
    "start_time": "2025-08-22T07:20:39.696Z"
   },
   {
    "duration": 105,
    "start_time": "2025-08-22T07:34:02.714Z"
   },
   {
    "duration": 166,
    "start_time": "2025-08-22T07:34:59.368Z"
   },
   {
    "duration": 176,
    "start_time": "2025-08-22T07:35:56.279Z"
   },
   {
    "duration": 496,
    "start_time": "2025-08-22T07:36:27.158Z"
   },
   {
    "duration": 89,
    "start_time": "2025-08-22T07:36:56.895Z"
   },
   {
    "duration": 82,
    "start_time": "2025-08-22T07:37:51.805Z"
   },
   {
    "duration": 461,
    "start_time": "2025-08-22T07:38:00.103Z"
   },
   {
    "duration": 1389,
    "start_time": "2025-08-22T07:53:45.788Z"
   },
   {
    "duration": 4,
    "start_time": "2025-08-22T07:58:43.707Z"
   },
   {
    "duration": 103,
    "start_time": "2025-08-22T07:58:48.469Z"
   },
   {
    "duration": 68,
    "start_time": "2025-08-22T08:03:25.728Z"
   },
   {
    "duration": 1219,
    "start_time": "2025-08-22T08:03:35.332Z"
   },
   {
    "duration": 1966,
    "start_time": "2025-08-22T08:03:36.553Z"
   },
   {
    "duration": 122,
    "start_time": "2025-08-22T08:03:38.520Z"
   },
   {
    "duration": 32,
    "start_time": "2025-08-22T08:03:38.644Z"
   },
   {
    "duration": 15,
    "start_time": "2025-08-22T08:03:38.678Z"
   },
   {
    "duration": 587,
    "start_time": "2025-08-22T08:03:38.695Z"
   },
   {
    "duration": 257,
    "start_time": "2025-08-22T08:03:39.283Z"
   },
   {
    "duration": 121,
    "start_time": "2025-08-22T08:03:39.542Z"
   },
   {
    "duration": 1663,
    "start_time": "2025-08-22T08:03:39.664Z"
   },
   {
    "duration": 271,
    "start_time": "2025-08-22T08:03:41.329Z"
   },
   {
    "duration": 4,
    "start_time": "2025-08-22T08:03:41.602Z"
   },
   {
    "duration": 158,
    "start_time": "2025-08-22T08:03:41.607Z"
   },
   {
    "duration": 6648,
    "start_time": "2025-08-22T08:03:41.766Z"
   },
   {
    "duration": 2805,
    "start_time": "2025-08-22T08:03:48.417Z"
   },
   {
    "duration": 226,
    "start_time": "2025-08-22T08:03:51.224Z"
   },
   {
    "duration": 452,
    "start_time": "2025-08-22T08:03:51.452Z"
   },
   {
    "duration": 200,
    "start_time": "2025-08-22T08:03:51.905Z"
   },
   {
    "duration": 551,
    "start_time": "2025-08-22T08:03:52.107Z"
   },
   {
    "duration": 1214,
    "start_time": "2025-08-22T08:03:52.660Z"
   },
   {
    "duration": 172,
    "start_time": "2025-08-22T08:03:53.876Z"
   },
   {
    "duration": 67,
    "start_time": "2025-08-22T08:03:54.050Z"
   },
   {
    "duration": 279,
    "start_time": "2025-08-22T08:03:54.138Z"
   },
   {
    "duration": 41,
    "start_time": "2025-08-22T08:03:54.418Z"
   },
   {
    "duration": 537,
    "start_time": "2025-08-22T08:03:54.461Z"
   },
   {
    "duration": 4395,
    "start_time": "2025-08-22T08:03:55.001Z"
   },
   {
    "duration": 4,
    "start_time": "2025-08-22T08:03:59.398Z"
   },
   {
    "duration": 228,
    "start_time": "2025-08-22T08:03:59.404Z"
   },
   {
    "duration": 382,
    "start_time": "2025-08-22T08:03:59.634Z"
   },
   {
    "duration": 402,
    "start_time": "2025-08-22T08:04:00.018Z"
   },
   {
    "duration": 376,
    "start_time": "2025-08-22T08:04:00.422Z"
   },
   {
    "duration": 422,
    "start_time": "2025-08-22T08:04:00.800Z"
   },
   {
    "duration": 613,
    "start_time": "2025-08-22T08:04:01.224Z"
   },
   {
    "duration": 142,
    "start_time": "2025-08-22T08:04:01.839Z"
   },
   {
    "duration": 473,
    "start_time": "2025-08-22T08:04:01.983Z"
   },
   {
    "duration": 346,
    "start_time": "2025-08-22T08:04:02.458Z"
   },
   {
    "duration": 386,
    "start_time": "2025-08-22T08:04:02.807Z"
   },
   {
    "duration": 112,
    "start_time": "2025-08-22T08:04:03.195Z"
   },
   {
    "duration": 0,
    "start_time": "2025-08-22T08:04:03.308Z"
   },
   {
    "duration": 0,
    "start_time": "2025-08-22T08:04:03.310Z"
   },
   {
    "duration": 0,
    "start_time": "2025-08-22T08:04:03.311Z"
   },
   {
    "duration": 0,
    "start_time": "2025-08-22T08:04:03.312Z"
   },
   {
    "duration": 0,
    "start_time": "2025-08-22T08:04:03.313Z"
   },
   {
    "duration": 0,
    "start_time": "2025-08-22T08:04:03.314Z"
   },
   {
    "duration": 22,
    "start_time": "2025-08-22T08:06:26.100Z"
   },
   {
    "duration": 17,
    "start_time": "2025-08-22T08:07:18.852Z"
   },
   {
    "duration": 479,
    "start_time": "2025-08-22T08:08:49.138Z"
   },
   {
    "duration": 448,
    "start_time": "2025-08-22T08:09:30.209Z"
   },
   {
    "duration": 6,
    "start_time": "2025-08-22T08:11:13.127Z"
   },
   {
    "duration": 12,
    "start_time": "2025-08-22T08:11:21.527Z"
   },
   {
    "duration": 17,
    "start_time": "2025-08-22T08:12:59.860Z"
   },
   {
    "duration": 22,
    "start_time": "2025-08-22T08:14:54.676Z"
   },
   {
    "duration": 363,
    "start_time": "2025-08-22T08:15:16.107Z"
   },
   {
    "duration": 98,
    "start_time": "2025-08-22T08:15:42.961Z"
   },
   {
    "duration": 133,
    "start_time": "2025-08-22T08:16:24.745Z"
   },
   {
    "duration": 352,
    "start_time": "2025-08-22T08:16:31.113Z"
   },
   {
    "duration": 370,
    "start_time": "2025-08-22T08:17:05.240Z"
   },
   {
    "duration": 1172,
    "start_time": "2025-08-22T08:17:20.695Z"
   },
   {
    "duration": 1744,
    "start_time": "2025-08-22T08:17:21.869Z"
   },
   {
    "duration": 120,
    "start_time": "2025-08-22T08:17:23.615Z"
   },
   {
    "duration": 27,
    "start_time": "2025-08-22T08:17:23.736Z"
   },
   {
    "duration": 47,
    "start_time": "2025-08-22T08:17:23.765Z"
   },
   {
    "duration": 577,
    "start_time": "2025-08-22T08:17:23.814Z"
   },
   {
    "duration": 255,
    "start_time": "2025-08-22T08:17:24.393Z"
   },
   {
    "duration": 121,
    "start_time": "2025-08-22T08:17:24.650Z"
   },
   {
    "duration": 1640,
    "start_time": "2025-08-22T08:17:24.772Z"
   },
   {
    "duration": 270,
    "start_time": "2025-08-22T08:17:26.413Z"
   },
   {
    "duration": 4,
    "start_time": "2025-08-22T08:17:26.685Z"
   },
   {
    "duration": 131,
    "start_time": "2025-08-22T08:17:26.691Z"
   },
   {
    "duration": 6623,
    "start_time": "2025-08-22T08:17:26.824Z"
   },
   {
    "duration": 2839,
    "start_time": "2025-08-22T08:17:33.450Z"
   },
   {
    "duration": 236,
    "start_time": "2025-08-22T08:17:36.291Z"
   },
   {
    "duration": 459,
    "start_time": "2025-08-22T08:17:36.529Z"
   },
   {
    "duration": 209,
    "start_time": "2025-08-22T08:17:36.990Z"
   },
   {
    "duration": 538,
    "start_time": "2025-08-22T08:17:37.201Z"
   },
   {
    "duration": 1182,
    "start_time": "2025-08-22T08:17:37.741Z"
   },
   {
    "duration": 170,
    "start_time": "2025-08-22T08:17:38.925Z"
   },
   {
    "duration": 74,
    "start_time": "2025-08-22T08:17:39.097Z"
   },
   {
    "duration": 287,
    "start_time": "2025-08-22T08:17:39.173Z"
   },
   {
    "duration": 29,
    "start_time": "2025-08-22T08:17:39.462Z"
   },
   {
    "duration": 547,
    "start_time": "2025-08-22T08:17:39.493Z"
   },
   {
    "duration": 4710,
    "start_time": "2025-08-22T08:17:40.041Z"
   },
   {
    "duration": 5,
    "start_time": "2025-08-22T08:17:44.753Z"
   },
   {
    "duration": 240,
    "start_time": "2025-08-22T08:17:44.759Z"
   },
   {
    "duration": 397,
    "start_time": "2025-08-22T08:17:45.000Z"
   },
   {
    "duration": 427,
    "start_time": "2025-08-22T08:17:45.399Z"
   },
   {
    "duration": 373,
    "start_time": "2025-08-22T08:17:45.828Z"
   },
   {
    "duration": 419,
    "start_time": "2025-08-22T08:17:46.204Z"
   },
   {
    "duration": 618,
    "start_time": "2025-08-22T08:17:46.625Z"
   },
   {
    "duration": 149,
    "start_time": "2025-08-22T08:17:47.245Z"
   },
   {
    "duration": 508,
    "start_time": "2025-08-22T08:17:47.396Z"
   },
   {
    "duration": 369,
    "start_time": "2025-08-22T08:17:47.906Z"
   },
   {
    "duration": 412,
    "start_time": "2025-08-22T08:17:48.277Z"
   },
   {
    "duration": 400,
    "start_time": "2025-08-22T08:17:48.691Z"
   },
   {
    "duration": 106,
    "start_time": "2025-08-22T08:17:49.093Z"
   },
   {
    "duration": 532,
    "start_time": "2025-08-22T08:17:49.200Z"
   },
   {
    "duration": 86,
    "start_time": "2025-08-22T08:17:49.734Z"
   },
   {
    "duration": 485,
    "start_time": "2025-08-22T08:17:49.838Z"
   },
   {
    "duration": 125,
    "start_time": "2025-08-22T08:17:50.325Z"
   },
   {
    "duration": 170,
    "start_time": "2025-08-22T08:17:50.452Z"
   },
   {
    "duration": 98,
    "start_time": "2025-08-22T08:19:22.174Z"
   },
   {
    "duration": 3767,
    "start_time": "2025-08-22T08:21:34.620Z"
   },
   {
    "duration": 3705,
    "start_time": "2025-08-22T08:23:30.466Z"
   },
   {
    "duration": 1237,
    "start_time": "2025-08-22T08:58:49.541Z"
   },
   {
    "duration": 1919,
    "start_time": "2025-08-22T08:58:50.780Z"
   },
   {
    "duration": 121,
    "start_time": "2025-08-22T08:58:52.701Z"
   },
   {
    "duration": 36,
    "start_time": "2025-08-22T08:58:52.823Z"
   },
   {
    "duration": 16,
    "start_time": "2025-08-22T08:58:52.861Z"
   },
   {
    "duration": 619,
    "start_time": "2025-08-22T08:58:52.878Z"
   },
   {
    "duration": 280,
    "start_time": "2025-08-22T08:58:53.499Z"
   },
   {
    "duration": 134,
    "start_time": "2025-08-22T08:58:53.781Z"
   },
   {
    "duration": 1748,
    "start_time": "2025-08-22T08:58:53.917Z"
   },
   {
    "duration": 297,
    "start_time": "2025-08-22T08:58:55.667Z"
   },
   {
    "duration": 5,
    "start_time": "2025-08-22T08:58:55.965Z"
   },
   {
    "duration": 139,
    "start_time": "2025-08-22T08:58:55.972Z"
   },
   {
    "duration": 7174,
    "start_time": "2025-08-22T08:58:56.113Z"
   },
   {
    "duration": 3001,
    "start_time": "2025-08-22T08:59:03.289Z"
   },
   {
    "duration": 238,
    "start_time": "2025-08-22T08:59:06.292Z"
   },
   {
    "duration": 494,
    "start_time": "2025-08-22T08:59:06.532Z"
   },
   {
    "duration": 226,
    "start_time": "2025-08-22T08:59:07.027Z"
   },
   {
    "duration": 577,
    "start_time": "2025-08-22T08:59:07.255Z"
   },
   {
    "duration": 1279,
    "start_time": "2025-08-22T08:59:07.834Z"
   },
   {
    "duration": 179,
    "start_time": "2025-08-22T08:59:09.115Z"
   },
   {
    "duration": 85,
    "start_time": "2025-08-22T08:59:09.296Z"
   },
   {
    "duration": 315,
    "start_time": "2025-08-22T08:59:09.383Z"
   },
   {
    "duration": 31,
    "start_time": "2025-08-22T08:59:09.700Z"
   },
   {
    "duration": 599,
    "start_time": "2025-08-22T08:59:09.733Z"
   },
   {
    "duration": 4977,
    "start_time": "2025-08-22T08:59:10.333Z"
   },
   {
    "duration": 5,
    "start_time": "2025-08-22T08:59:15.312Z"
   },
   {
    "duration": 275,
    "start_time": "2025-08-22T08:59:15.318Z"
   },
   {
    "duration": 371,
    "start_time": "2025-08-22T08:59:15.595Z"
   },
   {
    "duration": 449,
    "start_time": "2025-08-22T08:59:15.967Z"
   },
   {
    "duration": 392,
    "start_time": "2025-08-22T08:59:16.418Z"
   },
   {
    "duration": 415,
    "start_time": "2025-08-22T08:59:16.811Z"
   },
   {
    "duration": 655,
    "start_time": "2025-08-22T08:59:17.227Z"
   },
   {
    "duration": 148,
    "start_time": "2025-08-22T08:59:17.884Z"
   },
   {
    "duration": 500,
    "start_time": "2025-08-22T08:59:18.034Z"
   },
   {
    "duration": 350,
    "start_time": "2025-08-22T08:59:18.540Z"
   },
   {
    "duration": 416,
    "start_time": "2025-08-22T08:59:18.892Z"
   },
   {
    "duration": 373,
    "start_time": "2025-08-22T08:59:19.310Z"
   },
   {
    "duration": 109,
    "start_time": "2025-08-22T08:59:19.685Z"
   },
   {
    "duration": 500,
    "start_time": "2025-08-22T08:59:19.796Z"
   },
   {
    "duration": 111,
    "start_time": "2025-08-22T08:59:20.298Z"
   },
   {
    "duration": 547,
    "start_time": "2025-08-22T08:59:20.413Z"
   },
   {
    "duration": 153,
    "start_time": "2025-08-22T08:59:20.962Z"
   },
   {
    "duration": 130,
    "start_time": "2025-08-22T08:59:21.117Z"
   },
   {
    "duration": 4270,
    "start_time": "2025-08-22T08:59:21.250Z"
   },
   {
    "duration": 1370,
    "start_time": "2025-08-23T08:18:46.024Z"
   },
   {
    "duration": 2132,
    "start_time": "2025-08-23T08:18:49.292Z"
   },
   {
    "duration": 110,
    "start_time": "2025-08-23T08:18:53.745Z"
   },
   {
    "duration": 26,
    "start_time": "2025-08-23T08:18:55.544Z"
   },
   {
    "duration": 16,
    "start_time": "2025-08-23T08:18:56.690Z"
   },
   {
    "duration": 531,
    "start_time": "2025-08-23T08:19:01.042Z"
   },
   {
    "duration": 236,
    "start_time": "2025-08-23T08:19:03.377Z"
   },
   {
    "duration": 109,
    "start_time": "2025-08-23T08:19:12.340Z"
   },
   {
    "duration": 77,
    "start_time": "2025-08-23T08:41:50.595Z"
   },
   {
    "duration": 1661,
    "start_time": "2025-08-23T08:43:13.259Z"
   },
   {
    "duration": 1052,
    "start_time": "2025-08-23T08:45:21.041Z"
   },
   {
    "duration": 1570,
    "start_time": "2025-08-23T08:48:45.449Z"
   },
   {
    "duration": 258,
    "start_time": "2025-08-23T08:52:02.617Z"
   },
   {
    "duration": 184,
    "start_time": "2025-08-23T08:53:00.240Z"
   },
   {
    "duration": 24,
    "start_time": "2025-08-23T08:53:07.246Z"
   },
   {
    "duration": 6641,
    "start_time": "2025-08-23T08:53:10.125Z"
   },
   {
    "duration": 2754,
    "start_time": "2025-08-23T08:53:16.772Z"
   },
   {
    "duration": 347,
    "start_time": "2025-08-23T08:53:19.528Z"
   },
   {
    "duration": 223,
    "start_time": "2025-08-23T08:53:25.150Z"
   },
   {
    "duration": 433,
    "start_time": "2025-08-23T08:53:37.260Z"
   },
   {
    "duration": 190,
    "start_time": "2025-08-23T08:53:38.677Z"
   },
   {
    "duration": 524,
    "start_time": "2025-08-23T08:53:42.518Z"
   },
   {
    "duration": 1217,
    "start_time": "2025-08-23T08:54:14.577Z"
   },
   {
    "duration": 553,
    "start_time": "2025-08-23T08:57:54.586Z"
   },
   {
    "duration": 23,
    "start_time": "2025-08-23T08:58:53.574Z"
   },
   {
    "duration": 8,
    "start_time": "2025-08-23T09:00:18.912Z"
   },
   {
    "duration": 7,
    "start_time": "2025-08-23T09:02:21.814Z"
   },
   {
    "duration": 556,
    "start_time": "2025-08-23T09:04:48.743Z"
   },
   {
    "duration": 558,
    "start_time": "2025-08-23T09:06:14.702Z"
   },
   {
    "duration": 617,
    "start_time": "2025-08-23T09:06:32.883Z"
   },
   {
    "duration": 609,
    "start_time": "2025-08-23T09:14:25.507Z"
   },
   {
    "duration": 598,
    "start_time": "2025-08-23T09:14:59.380Z"
   },
   {
    "duration": 603,
    "start_time": "2025-08-23T09:19:40.215Z"
   },
   {
    "duration": 1264,
    "start_time": "2025-08-23T09:23:12.818Z"
   },
   {
    "duration": 1772,
    "start_time": "2025-08-23T09:23:16.262Z"
   },
   {
    "duration": 119,
    "start_time": "2025-08-23T09:23:20.247Z"
   },
   {
    "duration": 27,
    "start_time": "2025-08-23T09:23:21.843Z"
   },
   {
    "duration": 17,
    "start_time": "2025-08-23T09:23:23.013Z"
   },
   {
    "duration": 574,
    "start_time": "2025-08-23T09:23:26.100Z"
   },
   {
    "duration": 245,
    "start_time": "2025-08-23T09:23:28.334Z"
   },
   {
    "duration": 113,
    "start_time": "2025-08-23T09:23:31.424Z"
   },
   {
    "duration": 65,
    "start_time": "2025-08-23T09:23:33.743Z"
   },
   {
    "duration": 1144,
    "start_time": "2025-08-23T09:23:39.389Z"
   },
   {
    "duration": 1645,
    "start_time": "2025-08-23T09:23:43.004Z"
   },
   {
    "duration": 250,
    "start_time": "2025-08-23T09:23:54.388Z"
   },
   {
    "duration": 4,
    "start_time": "2025-08-23T09:24:04.226Z"
   },
   {
    "duration": 183,
    "start_time": "2025-08-23T09:24:05.812Z"
   },
   {
    "duration": 23,
    "start_time": "2025-08-23T09:24:08.870Z"
   },
   {
    "duration": 6689,
    "start_time": "2025-08-23T09:24:11.098Z"
   },
   {
    "duration": 2905,
    "start_time": "2025-08-23T09:24:17.790Z"
   },
   {
    "duration": 236,
    "start_time": "2025-08-23T09:24:20.697Z"
   },
   {
    "duration": 437,
    "start_time": "2025-08-23T09:24:23.775Z"
   },
   {
    "duration": 198,
    "start_time": "2025-08-23T09:24:25.718Z"
   },
   {
    "duration": 513,
    "start_time": "2025-08-23T09:24:27.675Z"
   },
   {
    "duration": 1203,
    "start_time": "2025-08-23T09:24:32.463Z"
   },
   {
    "duration": 561,
    "start_time": "2025-08-23T09:24:36.654Z"
   },
   {
    "duration": 8,
    "start_time": "2025-08-23T09:24:46.996Z"
   },
   {
    "duration": 711,
    "start_time": "2025-08-23T09:25:12.845Z"
   },
   {
    "duration": 235,
    "start_time": "2025-08-23T09:29:25.000Z"
   },
   {
    "duration": 545,
    "start_time": "2025-08-23T09:33:45.098Z"
   },
   {
    "duration": 579,
    "start_time": "2025-08-23T09:34:09.616Z"
   },
   {
    "duration": 1164,
    "start_time": "2025-08-23T09:35:00.528Z"
   },
   {
    "duration": 2177,
    "start_time": "2025-08-23T09:35:02.880Z"
   },
   {
    "duration": 119,
    "start_time": "2025-08-23T09:35:05.356Z"
   },
   {
    "duration": 30,
    "start_time": "2025-08-23T09:35:06.095Z"
   },
   {
    "duration": 16,
    "start_time": "2025-08-23T09:35:06.767Z"
   },
   {
    "duration": 582,
    "start_time": "2025-08-23T09:35:09.110Z"
   },
   {
    "duration": 248,
    "start_time": "2025-08-23T09:35:10.514Z"
   },
   {
    "duration": 110,
    "start_time": "2025-08-23T09:35:11.789Z"
   },
   {
    "duration": 56,
    "start_time": "2025-08-23T09:35:13.667Z"
   },
   {
    "duration": 1067,
    "start_time": "2025-08-23T09:35:14.853Z"
   },
   {
    "duration": 1618,
    "start_time": "2025-08-23T09:35:15.922Z"
   },
   {
    "duration": 256,
    "start_time": "2025-08-23T09:35:20.775Z"
   },
   {
    "duration": 4,
    "start_time": "2025-08-23T09:35:29.002Z"
   },
   {
    "duration": 193,
    "start_time": "2025-08-23T09:35:30.789Z"
   },
   {
    "duration": 23,
    "start_time": "2025-08-23T09:35:32.536Z"
   },
   {
    "duration": 6684,
    "start_time": "2025-08-23T09:35:33.790Z"
   },
   {
    "duration": 2943,
    "start_time": "2025-08-23T09:35:40.476Z"
   },
   {
    "duration": 238,
    "start_time": "2025-08-23T09:35:43.420Z"
   },
   {
    "duration": 451,
    "start_time": "2025-08-23T09:35:43.660Z"
   },
   {
    "duration": 201,
    "start_time": "2025-08-23T09:35:44.113Z"
   },
   {
    "duration": 500,
    "start_time": "2025-08-23T09:35:44.316Z"
   },
   {
    "duration": 1229,
    "start_time": "2025-08-23T09:35:46.953Z"
   },
   {
    "duration": 590,
    "start_time": "2025-08-23T09:35:51.927Z"
   },
   {
    "duration": 8,
    "start_time": "2025-08-23T09:37:23.998Z"
   },
   {
    "duration": 623,
    "start_time": "2025-08-23T09:40:09.718Z"
   },
   {
    "duration": 229,
    "start_time": "2025-08-23T09:40:17.707Z"
   },
   {
    "duration": 220,
    "start_time": "2025-08-23T09:42:43.457Z"
   },
   {
    "duration": 31,
    "start_time": "2025-08-23T09:42:45.696Z"
   },
   {
    "duration": 502,
    "start_time": "2025-08-23T09:42:48.704Z"
   },
   {
    "duration": 4426,
    "start_time": "2025-08-23T09:42:51.717Z"
   },
   {
    "duration": 4,
    "start_time": "2025-08-23T09:42:57.165Z"
   },
   {
    "duration": 211,
    "start_time": "2025-08-23T09:42:59.161Z"
   },
   {
    "duration": 359,
    "start_time": "2025-08-23T09:46:09.233Z"
   },
   {
    "duration": 436,
    "start_time": "2025-08-23T09:46:18.589Z"
   },
   {
    "duration": 384,
    "start_time": "2025-08-23T09:46:42.450Z"
   },
   {
    "duration": 353,
    "start_time": "2025-08-23T09:47:00.201Z"
   },
   {
    "duration": 597,
    "start_time": "2025-08-23T09:47:14.640Z"
   },
   {
    "duration": 125,
    "start_time": "2025-08-23T09:47:35.482Z"
   },
   {
    "duration": 457,
    "start_time": "2025-08-23T09:47:37.033Z"
   },
   {
    "duration": 342,
    "start_time": "2025-08-23T09:47:41.068Z"
   },
   {
    "duration": 339,
    "start_time": "2025-08-23T09:47:44.977Z"
   },
   {
    "duration": 345,
    "start_time": "2025-08-23T09:48:01.565Z"
   },
   {
    "duration": 54,
    "start_time": "2025-08-23T09:51:36.825Z"
   },
   {
    "duration": 2,
    "start_time": "2025-08-23T09:55:46.868Z"
   },
   {
    "duration": 55,
    "start_time": "2025-08-23T09:58:51.120Z"
   },
   {
    "duration": 483,
    "start_time": "2025-08-23T09:59:19.769Z"
   },
   {
    "duration": 53,
    "start_time": "2025-08-23T10:00:45.083Z"
   },
   {
    "duration": 481,
    "start_time": "2025-08-23T10:00:58.760Z"
   },
   {
    "duration": 104,
    "start_time": "2025-08-23T10:31:22.071Z"
   },
   {
    "duration": 108,
    "start_time": "2025-08-23T10:31:26.857Z"
   },
   {
    "duration": 102,
    "start_time": "2025-08-23T10:31:28.503Z"
   },
   {
    "duration": 5,
    "start_time": "2025-08-23T10:31:30.972Z"
   },
   {
    "duration": 34,
    "start_time": "2025-08-23T10:31:38.553Z"
   },
   {
    "duration": 8,
    "start_time": "2025-08-23T10:31:41.448Z"
   },
   {
    "duration": 1211,
    "start_time": "2025-08-23T10:32:24.876Z"
   },
   {
    "duration": 2022,
    "start_time": "2025-08-23T10:32:26.089Z"
   },
   {
    "duration": 108,
    "start_time": "2025-08-23T10:32:28.113Z"
   },
   {
    "duration": 25,
    "start_time": "2025-08-23T10:32:28.222Z"
   },
   {
    "duration": 31,
    "start_time": "2025-08-23T10:32:28.248Z"
   },
   {
    "duration": 560,
    "start_time": "2025-08-23T10:32:28.280Z"
   },
   {
    "duration": 239,
    "start_time": "2025-08-23T10:32:28.842Z"
   },
   {
    "duration": 117,
    "start_time": "2025-08-23T10:32:29.082Z"
   },
   {
    "duration": 52,
    "start_time": "2025-08-23T10:32:29.201Z"
   },
   {
    "duration": 1039,
    "start_time": "2025-08-23T10:32:29.272Z"
   },
   {
    "duration": 1563,
    "start_time": "2025-08-23T10:32:30.312Z"
   },
   {
    "duration": 267,
    "start_time": "2025-08-23T10:32:31.877Z"
   },
   {
    "duration": 4,
    "start_time": "2025-08-23T10:32:32.146Z"
   },
   {
    "duration": 208,
    "start_time": "2025-08-23T10:32:32.151Z"
   },
   {
    "duration": 30,
    "start_time": "2025-08-23T10:32:32.361Z"
   },
   {
    "duration": 6530,
    "start_time": "2025-08-23T10:32:32.393Z"
   },
   {
    "duration": 2726,
    "start_time": "2025-08-23T10:32:38.924Z"
   },
   {
    "duration": 232,
    "start_time": "2025-08-23T10:32:41.652Z"
   },
   {
    "duration": 470,
    "start_time": "2025-08-23T10:32:41.885Z"
   },
   {
    "duration": 203,
    "start_time": "2025-08-23T10:32:42.357Z"
   },
   {
    "duration": 505,
    "start_time": "2025-08-23T10:32:42.561Z"
   },
   {
    "duration": 1161,
    "start_time": "2025-08-23T10:32:43.070Z"
   },
   {
    "duration": 561,
    "start_time": "2025-08-23T10:32:44.233Z"
   },
   {
    "duration": 8,
    "start_time": "2025-08-23T10:32:44.796Z"
   },
   {
    "duration": 641,
    "start_time": "2025-08-23T10:32:44.806Z"
   },
   {
    "duration": 236,
    "start_time": "2025-08-23T10:32:45.449Z"
   },
   {
    "duration": 229,
    "start_time": "2025-08-23T10:32:45.687Z"
   },
   {
    "duration": 25,
    "start_time": "2025-08-23T10:32:45.920Z"
   },
   {
    "duration": 536,
    "start_time": "2025-08-23T10:32:45.947Z"
   },
   {
    "duration": 4407,
    "start_time": "2025-08-23T10:32:46.485Z"
   },
   {
    "duration": 5,
    "start_time": "2025-08-23T10:32:50.893Z"
   },
   {
    "duration": 222,
    "start_time": "2025-08-23T10:32:50.899Z"
   },
   {
    "duration": 358,
    "start_time": "2025-08-23T10:32:51.123Z"
   },
   {
    "duration": 420,
    "start_time": "2025-08-23T10:32:51.483Z"
   },
   {
    "duration": 348,
    "start_time": "2025-08-23T10:32:51.904Z"
   },
   {
    "duration": 391,
    "start_time": "2025-08-23T10:32:52.254Z"
   },
   {
    "duration": 615,
    "start_time": "2025-08-23T10:32:52.646Z"
   },
   {
    "duration": 144,
    "start_time": "2025-08-23T10:32:53.263Z"
   },
   {
    "duration": 453,
    "start_time": "2025-08-23T10:32:53.408Z"
   },
   {
    "duration": 341,
    "start_time": "2025-08-23T10:32:53.863Z"
   },
   {
    "duration": 389,
    "start_time": "2025-08-23T10:32:54.206Z"
   },
   {
    "duration": 383,
    "start_time": "2025-08-23T10:32:54.597Z"
   },
   {
    "duration": 59,
    "start_time": "2025-08-23T10:32:54.982Z"
   },
   {
    "duration": 511,
    "start_time": "2025-08-23T10:32:55.043Z"
   },
   {
    "duration": 61,
    "start_time": "2025-08-23T10:32:55.556Z"
   },
   {
    "duration": 481,
    "start_time": "2025-08-23T10:32:55.619Z"
   },
   {
    "duration": 129,
    "start_time": "2025-08-23T10:32:56.101Z"
   },
   {
    "duration": 113,
    "start_time": "2025-08-23T10:32:56.231Z"
   },
   {
    "duration": 5,
    "start_time": "2025-08-23T10:32:56.346Z"
   },
   {
    "duration": 78,
    "start_time": "2025-08-23T10:32:56.353Z"
   },
   {
    "duration": 8,
    "start_time": "2025-08-23T10:32:56.433Z"
   },
   {
    "duration": 38,
    "start_time": "2025-08-23T10:35:57.822Z"
   },
   {
    "duration": 9,
    "start_time": "2025-08-23T10:35:59.510Z"
   },
   {
    "duration": 40,
    "start_time": "2025-08-23T10:39:08.718Z"
   },
   {
    "duration": 9,
    "start_time": "2025-08-23T10:39:10.329Z"
   },
   {
    "duration": 1205,
    "start_time": "2025-08-23T10:39:27.800Z"
   },
   {
    "duration": 2044,
    "start_time": "2025-08-23T10:39:29.007Z"
   },
   {
    "duration": 108,
    "start_time": "2025-08-23T10:39:31.053Z"
   },
   {
    "duration": 26,
    "start_time": "2025-08-23T10:39:31.170Z"
   },
   {
    "duration": 16,
    "start_time": "2025-08-23T10:39:31.198Z"
   },
   {
    "duration": 572,
    "start_time": "2025-08-23T10:39:31.216Z"
   },
   {
    "duration": 245,
    "start_time": "2025-08-23T10:39:31.790Z"
   },
   {
    "duration": 115,
    "start_time": "2025-08-23T10:39:32.036Z"
   },
   {
    "duration": 67,
    "start_time": "2025-08-23T10:39:32.152Z"
   },
   {
    "duration": 1090,
    "start_time": "2025-08-23T10:39:32.223Z"
   },
   {
    "duration": 1541,
    "start_time": "2025-08-23T10:39:33.315Z"
   },
   {
    "duration": 266,
    "start_time": "2025-08-23T10:39:34.857Z"
   },
   {
    "duration": 3,
    "start_time": "2025-08-23T10:39:35.125Z"
   },
   {
    "duration": 196,
    "start_time": "2025-08-23T10:39:35.130Z"
   },
   {
    "duration": 22,
    "start_time": "2025-08-23T10:39:35.328Z"
   },
   {
    "duration": 6683,
    "start_time": "2025-08-23T10:39:35.351Z"
   },
   {
    "duration": 2753,
    "start_time": "2025-08-23T10:39:42.036Z"
   },
   {
    "duration": 218,
    "start_time": "2025-08-23T10:39:44.790Z"
   },
   {
    "duration": 453,
    "start_time": "2025-08-23T10:39:45.010Z"
   },
   {
    "duration": 207,
    "start_time": "2025-08-23T10:39:45.464Z"
   },
   {
    "duration": 508,
    "start_time": "2025-08-23T10:39:45.673Z"
   },
   {
    "duration": 1194,
    "start_time": "2025-08-23T10:39:46.183Z"
   },
   {
    "duration": 550,
    "start_time": "2025-08-23T10:39:47.379Z"
   },
   {
    "duration": 9,
    "start_time": "2025-08-23T10:39:47.930Z"
   },
   {
    "duration": 632,
    "start_time": "2025-08-23T10:39:47.940Z"
   },
   {
    "duration": 224,
    "start_time": "2025-08-23T10:39:48.573Z"
   },
   {
    "duration": 234,
    "start_time": "2025-08-23T10:39:48.798Z"
   },
   {
    "duration": 36,
    "start_time": "2025-08-23T10:39:49.035Z"
   },
   {
    "duration": 535,
    "start_time": "2025-08-23T10:39:49.073Z"
   },
   {
    "duration": 4448,
    "start_time": "2025-08-23T10:39:49.610Z"
   },
   {
    "duration": 5,
    "start_time": "2025-08-23T10:39:54.060Z"
   },
   {
    "duration": 223,
    "start_time": "2025-08-23T10:39:54.067Z"
   },
   {
    "duration": 364,
    "start_time": "2025-08-23T10:39:54.292Z"
   },
   {
    "duration": 401,
    "start_time": "2025-08-23T10:39:54.658Z"
   },
   {
    "duration": 365,
    "start_time": "2025-08-23T10:39:55.060Z"
   },
   {
    "duration": 390,
    "start_time": "2025-08-23T10:39:55.427Z"
   },
   {
    "duration": 557,
    "start_time": "2025-08-23T10:39:55.819Z"
   },
   {
    "duration": 143,
    "start_time": "2025-08-23T10:39:56.377Z"
   },
   {
    "duration": 493,
    "start_time": "2025-08-23T10:39:56.521Z"
   },
   {
    "duration": 365,
    "start_time": "2025-08-23T10:39:57.057Z"
   },
   {
    "duration": 376,
    "start_time": "2025-08-23T10:39:57.423Z"
   },
   {
    "duration": 402,
    "start_time": "2025-08-23T10:39:57.800Z"
   },
   {
    "duration": 69,
    "start_time": "2025-08-23T10:39:58.204Z"
   },
   {
    "duration": 498,
    "start_time": "2025-08-23T10:39:58.275Z"
   },
   {
    "duration": 56,
    "start_time": "2025-08-23T10:39:58.774Z"
   },
   {
    "duration": 467,
    "start_time": "2025-08-23T10:39:58.832Z"
   },
   {
    "duration": 123,
    "start_time": "2025-08-23T10:39:59.301Z"
   },
   {
    "duration": 116,
    "start_time": "2025-08-23T10:39:59.426Z"
   },
   {
    "duration": 4,
    "start_time": "2025-08-23T10:39:59.544Z"
   },
   {
    "duration": 107,
    "start_time": "2025-08-23T10:39:59.550Z"
   },
   {
    "duration": 0,
    "start_time": "2025-08-23T10:39:59.658Z"
   },
   {
    "duration": 10,
    "start_time": "2025-08-23T10:41:01.052Z"
   },
   {
    "duration": 40,
    "start_time": "2025-08-23T10:41:08.705Z"
   },
   {
    "duration": 8,
    "start_time": "2025-08-23T10:41:10.719Z"
   },
   {
    "duration": 42,
    "start_time": "2025-08-23T10:42:22.123Z"
   },
   {
    "duration": 42,
    "start_time": "2025-08-23T10:43:02.091Z"
   },
   {
    "duration": 74,
    "start_time": "2025-08-23T10:45:42.053Z"
   },
   {
    "duration": 7,
    "start_time": "2025-08-23T10:45:44.104Z"
   },
   {
    "duration": 1186,
    "start_time": "2025-08-23T10:46:12.191Z"
   },
   {
    "duration": 2288,
    "start_time": "2025-08-23T10:46:13.379Z"
   },
   {
    "duration": 110,
    "start_time": "2025-08-23T10:46:15.669Z"
   },
   {
    "duration": 26,
    "start_time": "2025-08-23T10:46:15.781Z"
   },
   {
    "duration": 16,
    "start_time": "2025-08-23T10:46:15.808Z"
   },
   {
    "duration": 594,
    "start_time": "2025-08-23T10:46:15.826Z"
   },
   {
    "duration": 243,
    "start_time": "2025-08-23T10:46:16.421Z"
   },
   {
    "duration": 118,
    "start_time": "2025-08-23T10:46:16.666Z"
   },
   {
    "duration": 53,
    "start_time": "2025-08-23T10:46:16.785Z"
   },
   {
    "duration": 1071,
    "start_time": "2025-08-23T10:46:16.841Z"
   },
   {
    "duration": 1610,
    "start_time": "2025-08-23T10:46:17.913Z"
   },
   {
    "duration": 262,
    "start_time": "2025-08-23T10:46:19.525Z"
   },
   {
    "duration": 3,
    "start_time": "2025-08-23T10:46:19.789Z"
   },
   {
    "duration": 204,
    "start_time": "2025-08-23T10:46:19.794Z"
   },
   {
    "duration": 21,
    "start_time": "2025-08-23T10:46:20.000Z"
   },
   {
    "duration": 6537,
    "start_time": "2025-08-23T10:46:20.023Z"
   },
   {
    "duration": 2739,
    "start_time": "2025-08-23T10:46:26.561Z"
   },
   {
    "duration": 230,
    "start_time": "2025-08-23T10:46:29.302Z"
   },
   {
    "duration": 453,
    "start_time": "2025-08-23T10:46:29.533Z"
   },
   {
    "duration": 200,
    "start_time": "2025-08-23T10:46:29.988Z"
   },
   {
    "duration": 522,
    "start_time": "2025-08-23T10:46:30.190Z"
   },
   {
    "duration": 1204,
    "start_time": "2025-08-23T10:46:30.714Z"
   },
   {
    "duration": 588,
    "start_time": "2025-08-23T10:46:31.919Z"
   },
   {
    "duration": 9,
    "start_time": "2025-08-23T10:46:32.509Z"
   },
   {
    "duration": 629,
    "start_time": "2025-08-23T10:46:32.519Z"
   },
   {
    "duration": 227,
    "start_time": "2025-08-23T10:46:33.150Z"
   },
   {
    "duration": 233,
    "start_time": "2025-08-23T10:46:33.378Z"
   },
   {
    "duration": 31,
    "start_time": "2025-08-23T10:46:33.614Z"
   },
   {
    "duration": 511,
    "start_time": "2025-08-23T10:46:33.647Z"
   },
   {
    "duration": 4418,
    "start_time": "2025-08-23T10:46:34.159Z"
   },
   {
    "duration": 4,
    "start_time": "2025-08-23T10:46:38.579Z"
   },
   {
    "duration": 215,
    "start_time": "2025-08-23T10:46:38.585Z"
   },
   {
    "duration": 356,
    "start_time": "2025-08-23T10:46:38.801Z"
   },
   {
    "duration": 395,
    "start_time": "2025-08-23T10:46:39.158Z"
   },
   {
    "duration": 366,
    "start_time": "2025-08-23T10:46:39.555Z"
   },
   {
    "duration": 385,
    "start_time": "2025-08-23T10:46:39.923Z"
   },
   {
    "duration": 547,
    "start_time": "2025-08-23T10:46:40.309Z"
   },
   {
    "duration": 144,
    "start_time": "2025-08-23T10:46:40.857Z"
   },
   {
    "duration": 450,
    "start_time": "2025-08-23T10:46:41.003Z"
   },
   {
    "duration": 337,
    "start_time": "2025-08-23T10:46:41.455Z"
   },
   {
    "duration": 352,
    "start_time": "2025-08-23T10:46:41.793Z"
   },
   {
    "duration": 368,
    "start_time": "2025-08-23T10:46:42.147Z"
   },
   {
    "duration": 66,
    "start_time": "2025-08-23T10:46:42.517Z"
   },
   {
    "duration": 486,
    "start_time": "2025-08-23T10:46:42.585Z"
   },
   {
    "duration": 55,
    "start_time": "2025-08-23T10:46:43.073Z"
   },
   {
    "duration": 492,
    "start_time": "2025-08-23T10:46:43.129Z"
   },
   {
    "duration": 113,
    "start_time": "2025-08-23T10:46:43.623Z"
   },
   {
    "duration": 112,
    "start_time": "2025-08-23T10:46:43.738Z"
   },
   {
    "duration": 5,
    "start_time": "2025-08-23T10:46:43.852Z"
   },
   {
    "duration": 80,
    "start_time": "2025-08-23T10:46:43.858Z"
   },
   {
    "duration": 8,
    "start_time": "2025-08-23T10:46:43.940Z"
   },
   {
    "duration": 1193,
    "start_time": "2025-08-23T11:14:38.845Z"
   },
   {
    "duration": 14380,
    "start_time": "2025-08-23T11:14:40.041Z"
   },
   {
    "duration": 111,
    "start_time": "2025-08-23T11:14:54.423Z"
   },
   {
    "duration": 36,
    "start_time": "2025-08-23T11:14:54.536Z"
   },
   {
    "duration": 17,
    "start_time": "2025-08-23T11:14:54.573Z"
   },
   {
    "duration": 574,
    "start_time": "2025-08-23T11:14:54.592Z"
   },
   {
    "duration": 241,
    "start_time": "2025-08-23T11:14:55.168Z"
   },
   {
    "duration": 122,
    "start_time": "2025-08-23T11:14:55.411Z"
   },
   {
    "duration": 62,
    "start_time": "2025-08-23T11:14:55.535Z"
   },
   {
    "duration": 1122,
    "start_time": "2025-08-23T11:14:55.600Z"
   },
   {
    "duration": 1579,
    "start_time": "2025-08-23T11:14:56.723Z"
   },
   {
    "duration": 268,
    "start_time": "2025-08-23T11:14:58.304Z"
   },
   {
    "duration": 4,
    "start_time": "2025-08-23T11:14:58.574Z"
   },
   {
    "duration": 196,
    "start_time": "2025-08-23T11:14:58.580Z"
   },
   {
    "duration": 21,
    "start_time": "2025-08-23T11:14:58.778Z"
   },
   {
    "duration": 6693,
    "start_time": "2025-08-23T11:14:58.800Z"
   },
   {
    "duration": 2854,
    "start_time": "2025-08-23T11:15:05.494Z"
   },
   {
    "duration": 237,
    "start_time": "2025-08-23T11:15:08.350Z"
   },
   {
    "duration": 456,
    "start_time": "2025-08-23T11:15:08.589Z"
   },
   {
    "duration": 211,
    "start_time": "2025-08-23T11:15:09.047Z"
   },
   {
    "duration": 520,
    "start_time": "2025-08-23T11:15:09.259Z"
   },
   {
    "duration": 1202,
    "start_time": "2025-08-23T11:15:09.781Z"
   },
   {
    "duration": 574,
    "start_time": "2025-08-23T11:15:10.985Z"
   },
   {
    "duration": 17,
    "start_time": "2025-08-23T11:15:11.561Z"
   },
   {
    "duration": 632,
    "start_time": "2025-08-23T11:15:11.580Z"
   },
   {
    "duration": 251,
    "start_time": "2025-08-23T11:15:12.215Z"
   },
   {
    "duration": 239,
    "start_time": "2025-08-23T11:15:12.471Z"
   },
   {
    "duration": 32,
    "start_time": "2025-08-23T11:15:12.714Z"
   },
   {
    "duration": 523,
    "start_time": "2025-08-23T11:15:12.748Z"
   },
   {
    "duration": 4423,
    "start_time": "2025-08-23T11:15:13.272Z"
   },
   {
    "duration": 5,
    "start_time": "2025-08-23T11:15:17.697Z"
   },
   {
    "duration": 237,
    "start_time": "2025-08-23T11:15:17.704Z"
   },
   {
    "duration": 364,
    "start_time": "2025-08-23T11:15:17.943Z"
   },
   {
    "duration": 433,
    "start_time": "2025-08-23T11:15:18.308Z"
   },
   {
    "duration": 374,
    "start_time": "2025-08-23T11:15:18.743Z"
   },
   {
    "duration": 410,
    "start_time": "2025-08-23T11:15:19.119Z"
   },
   {
    "duration": 629,
    "start_time": "2025-08-23T11:15:19.531Z"
   },
   {
    "duration": 138,
    "start_time": "2025-08-23T11:15:20.162Z"
   },
   {
    "duration": 499,
    "start_time": "2025-08-23T11:15:20.302Z"
   },
   {
    "duration": 375,
    "start_time": "2025-08-23T11:15:20.803Z"
   },
   {
    "duration": 347,
    "start_time": "2025-08-23T11:15:21.180Z"
   },
   {
    "duration": 364,
    "start_time": "2025-08-23T11:15:21.528Z"
   },
   {
    "duration": 60,
    "start_time": "2025-08-23T11:15:21.893Z"
   },
   {
    "duration": 509,
    "start_time": "2025-08-23T11:15:21.955Z"
   },
   {
    "duration": 56,
    "start_time": "2025-08-23T11:15:22.466Z"
   },
   {
    "duration": 515,
    "start_time": "2025-08-23T11:15:22.524Z"
   },
   {
    "duration": 119,
    "start_time": "2025-08-23T11:15:23.041Z"
   },
   {
    "duration": 118,
    "start_time": "2025-08-23T11:15:23.162Z"
   },
   {
    "duration": 6,
    "start_time": "2025-08-23T11:15:23.281Z"
   },
   {
    "duration": 74,
    "start_time": "2025-08-23T11:15:23.288Z"
   },
   {
    "duration": 0,
    "start_time": "2025-08-23T11:15:23.363Z"
   },
   {
    "duration": 71,
    "start_time": "2025-08-23T11:15:36.493Z"
   },
   {
    "duration": 8,
    "start_time": "2025-08-23T11:15:39.495Z"
   },
   {
    "duration": 1207,
    "start_time": "2025-08-23T11:21:09.817Z"
   },
   {
    "duration": 2061,
    "start_time": "2025-08-23T11:21:11.026Z"
   },
   {
    "duration": 112,
    "start_time": "2025-08-23T11:21:13.089Z"
   },
   {
    "duration": 26,
    "start_time": "2025-08-23T11:21:13.203Z"
   },
   {
    "duration": 87,
    "start_time": "2025-08-23T11:21:13.231Z"
   },
   {
    "duration": 548,
    "start_time": "2025-08-23T11:21:13.320Z"
   },
   {
    "duration": 254,
    "start_time": "2025-08-23T11:21:13.871Z"
   },
   {
    "duration": 116,
    "start_time": "2025-08-23T11:21:14.127Z"
   },
   {
    "duration": 58,
    "start_time": "2025-08-23T11:21:14.245Z"
   },
   {
    "duration": 1110,
    "start_time": "2025-08-23T11:21:14.306Z"
   },
   {
    "duration": 1608,
    "start_time": "2025-08-23T11:21:15.418Z"
   },
   {
    "duration": 269,
    "start_time": "2025-08-23T11:21:17.027Z"
   },
   {
    "duration": 4,
    "start_time": "2025-08-23T11:21:17.297Z"
   },
   {
    "duration": 200,
    "start_time": "2025-08-23T11:21:17.303Z"
   },
   {
    "duration": 22,
    "start_time": "2025-08-23T11:21:17.504Z"
   },
   {
    "duration": 6715,
    "start_time": "2025-08-23T11:21:17.527Z"
   },
   {
    "duration": 2847,
    "start_time": "2025-08-23T11:21:24.244Z"
   },
   {
    "duration": 230,
    "start_time": "2025-08-23T11:21:27.092Z"
   },
   {
    "duration": 459,
    "start_time": "2025-08-23T11:21:27.324Z"
   },
   {
    "duration": 201,
    "start_time": "2025-08-23T11:21:27.785Z"
   },
   {
    "duration": 492,
    "start_time": "2025-08-23T11:21:27.988Z"
   },
   {
    "duration": 1233,
    "start_time": "2025-08-23T11:21:28.482Z"
   },
   {
    "duration": 659,
    "start_time": "2025-08-23T11:21:29.716Z"
   },
   {
    "duration": 8,
    "start_time": "2025-08-23T11:21:30.376Z"
   },
   {
    "duration": 670,
    "start_time": "2025-08-23T11:21:30.386Z"
   },
   {
    "duration": 228,
    "start_time": "2025-08-23T11:21:31.057Z"
   },
   {
    "duration": 238,
    "start_time": "2025-08-23T11:21:31.286Z"
   },
   {
    "duration": 26,
    "start_time": "2025-08-23T11:21:31.527Z"
   },
   {
    "duration": 574,
    "start_time": "2025-08-23T11:21:31.555Z"
   },
   {
    "duration": 4466,
    "start_time": "2025-08-23T11:21:32.130Z"
   },
   {
    "duration": 4,
    "start_time": "2025-08-23T11:21:36.598Z"
   },
   {
    "duration": 226,
    "start_time": "2025-08-23T11:21:36.603Z"
   },
   {
    "duration": 433,
    "start_time": "2025-08-23T11:21:36.831Z"
   },
   {
    "duration": 417,
    "start_time": "2025-08-23T11:21:37.265Z"
   },
   {
    "duration": 341,
    "start_time": "2025-08-23T11:21:37.684Z"
   },
   {
    "duration": 398,
    "start_time": "2025-08-23T11:21:38.027Z"
   },
   {
    "duration": 580,
    "start_time": "2025-08-23T11:21:38.428Z"
   },
   {
    "duration": 141,
    "start_time": "2025-08-23T11:21:39.010Z"
   },
   {
    "duration": 487,
    "start_time": "2025-08-23T11:21:39.153Z"
   },
   {
    "duration": 354,
    "start_time": "2025-08-23T11:21:39.643Z"
   },
   {
    "duration": 374,
    "start_time": "2025-08-23T11:21:39.998Z"
   },
   {
    "duration": 350,
    "start_time": "2025-08-23T11:21:40.373Z"
   },
   {
    "duration": 73,
    "start_time": "2025-08-23T11:21:40.725Z"
   },
   {
    "duration": 478,
    "start_time": "2025-08-23T11:21:40.800Z"
   },
   {
    "duration": 59,
    "start_time": "2025-08-23T11:21:41.280Z"
   },
   {
    "duration": 506,
    "start_time": "2025-08-23T11:21:41.340Z"
   },
   {
    "duration": 126,
    "start_time": "2025-08-23T11:21:41.848Z"
   },
   {
    "duration": 120,
    "start_time": "2025-08-23T11:21:41.976Z"
   },
   {
    "duration": 6,
    "start_time": "2025-08-23T11:21:42.098Z"
   },
   {
    "duration": 85,
    "start_time": "2025-08-23T11:21:42.106Z"
   },
   {
    "duration": 9,
    "start_time": "2025-08-23T11:21:42.193Z"
   },
   {
    "duration": 1491,
    "start_time": "2025-08-24T10:08:43.127Z"
   },
   {
    "duration": 2100,
    "start_time": "2025-08-24T10:08:44.620Z"
   },
   {
    "duration": 129,
    "start_time": "2025-08-24T10:08:46.722Z"
   },
   {
    "duration": 30,
    "start_time": "2025-08-24T10:08:46.853Z"
   },
   {
    "duration": 18,
    "start_time": "2025-08-24T10:08:46.885Z"
   },
   {
    "duration": 625,
    "start_time": "2025-08-24T10:08:46.905Z"
   },
   {
    "duration": 276,
    "start_time": "2025-08-24T10:08:47.532Z"
   },
   {
    "duration": 128,
    "start_time": "2025-08-24T10:08:47.810Z"
   },
   {
    "duration": 60,
    "start_time": "2025-08-24T10:08:47.949Z"
   },
   {
    "duration": 1282,
    "start_time": "2025-08-24T10:08:48.012Z"
   },
   {
    "duration": 1694,
    "start_time": "2025-08-24T10:08:49.295Z"
   },
   {
    "duration": 269,
    "start_time": "2025-08-24T10:08:50.991Z"
   },
   {
    "duration": 4,
    "start_time": "2025-08-24T10:08:51.262Z"
   },
   {
    "duration": 203,
    "start_time": "2025-08-24T10:08:51.267Z"
   },
   {
    "duration": 24,
    "start_time": "2025-08-24T10:08:51.472Z"
   },
   {
    "duration": 7360,
    "start_time": "2025-08-24T10:08:51.498Z"
   },
   {
    "duration": 3060,
    "start_time": "2025-08-24T10:08:58.860Z"
   },
   {
    "duration": 256,
    "start_time": "2025-08-24T10:09:01.922Z"
   },
   {
    "duration": 473,
    "start_time": "2025-08-24T10:09:02.180Z"
   },
   {
    "duration": 218,
    "start_time": "2025-08-24T10:09:02.655Z"
   },
   {
    "duration": 540,
    "start_time": "2025-08-24T10:09:02.874Z"
   },
   {
    "duration": 1281,
    "start_time": "2025-08-24T10:09:03.415Z"
   },
   {
    "duration": 792,
    "start_time": "2025-08-24T10:09:04.698Z"
   },
   {
    "duration": 8,
    "start_time": "2025-08-24T10:09:05.492Z"
   },
   {
    "duration": 684,
    "start_time": "2025-08-24T10:09:05.501Z"
   },
   {
    "duration": 256,
    "start_time": "2025-08-24T10:09:06.187Z"
   },
   {
    "duration": 266,
    "start_time": "2025-08-24T10:09:06.449Z"
   },
   {
    "duration": 31,
    "start_time": "2025-08-24T10:09:06.720Z"
   },
   {
    "duration": 620,
    "start_time": "2025-08-24T10:09:06.753Z"
   },
   {
    "duration": 4779,
    "start_time": "2025-08-24T10:09:07.375Z"
   },
   {
    "duration": 6,
    "start_time": "2025-08-24T10:09:12.156Z"
   },
   {
    "duration": 236,
    "start_time": "2025-08-24T10:09:12.164Z"
   },
   {
    "duration": 418,
    "start_time": "2025-08-24T10:09:12.402Z"
   },
   {
    "duration": 435,
    "start_time": "2025-08-24T10:09:12.822Z"
   },
   {
    "duration": 363,
    "start_time": "2025-08-24T10:09:13.259Z"
   },
   {
    "duration": 427,
    "start_time": "2025-08-24T10:09:13.625Z"
   },
   {
    "duration": 619,
    "start_time": "2025-08-24T10:09:14.053Z"
   },
   {
    "duration": 136,
    "start_time": "2025-08-24T10:09:14.674Z"
   },
   {
    "duration": 551,
    "start_time": "2025-08-24T10:09:14.812Z"
   },
   {
    "duration": 365,
    "start_time": "2025-08-24T10:09:15.365Z"
   },
   {
    "duration": 388,
    "start_time": "2025-08-24T10:09:15.731Z"
   },
   {
    "duration": 433,
    "start_time": "2025-08-24T10:09:16.120Z"
   },
   {
    "duration": 69,
    "start_time": "2025-08-24T10:09:16.555Z"
   },
   {
    "duration": 545,
    "start_time": "2025-08-24T10:09:16.626Z"
   },
   {
    "duration": 63,
    "start_time": "2025-08-24T10:09:17.173Z"
   },
   {
    "duration": 524,
    "start_time": "2025-08-24T10:09:17.250Z"
   },
   {
    "duration": 112,
    "start_time": "2025-08-24T10:09:17.776Z"
   },
   {
    "duration": 170,
    "start_time": "2025-08-24T10:09:17.890Z"
   },
   {
    "duration": 0,
    "start_time": "2025-08-24T10:09:18.062Z"
   },
   {
    "duration": 0,
    "start_time": "2025-08-24T10:09:18.063Z"
   },
   {
    "duration": 0,
    "start_time": "2025-08-24T10:09:18.065Z"
   },
   {
    "duration": 124,
    "start_time": "2025-08-24T10:10:34.400Z"
   },
   {
    "duration": 126,
    "start_time": "2025-08-24T10:10:59.178Z"
   },
   {
    "duration": 122,
    "start_time": "2025-08-24T10:11:27.009Z"
   },
   {
    "duration": 118,
    "start_time": "2025-08-24T10:12:03.780Z"
   },
   {
    "duration": 117,
    "start_time": "2025-08-24T10:14:39.021Z"
   },
   {
    "duration": 121,
    "start_time": "2025-08-24T10:14:48.830Z"
   },
   {
    "duration": 122,
    "start_time": "2025-08-24T10:15:07.165Z"
   },
   {
    "duration": 117,
    "start_time": "2025-08-24T10:15:25.308Z"
   },
   {
    "duration": 126,
    "start_time": "2025-08-24T10:16:18.470Z"
   },
   {
    "duration": 16,
    "start_time": "2025-08-24T10:30:06.871Z"
   },
   {
    "duration": 17,
    "start_time": "2025-08-24T10:30:39.434Z"
   },
   {
    "duration": 17,
    "start_time": "2025-08-24T10:31:00.131Z"
   },
   {
    "duration": 17,
    "start_time": "2025-08-24T10:31:09.000Z"
   },
   {
    "duration": 14,
    "start_time": "2025-08-24T10:31:26.370Z"
   },
   {
    "duration": 8,
    "start_time": "2025-08-24T10:37:01.881Z"
   },
   {
    "duration": 1267,
    "start_time": "2025-08-24T10:39:09.464Z"
   },
   {
    "duration": 1729,
    "start_time": "2025-08-24T10:39:10.733Z"
   },
   {
    "duration": 121,
    "start_time": "2025-08-24T10:39:12.463Z"
   },
   {
    "duration": 28,
    "start_time": "2025-08-24T10:39:12.586Z"
   },
   {
    "duration": 37,
    "start_time": "2025-08-24T10:39:12.616Z"
   },
   {
    "duration": 573,
    "start_time": "2025-08-24T10:39:12.655Z"
   },
   {
    "duration": 271,
    "start_time": "2025-08-24T10:39:13.229Z"
   },
   {
    "duration": 131,
    "start_time": "2025-08-24T10:39:13.502Z"
   },
   {
    "duration": 64,
    "start_time": "2025-08-24T10:39:13.636Z"
   },
   {
    "duration": 1189,
    "start_time": "2025-08-24T10:39:13.704Z"
   },
   {
    "duration": 1817,
    "start_time": "2025-08-24T10:39:14.895Z"
   },
   {
    "duration": 272,
    "start_time": "2025-08-24T10:39:16.714Z"
   },
   {
    "duration": 4,
    "start_time": "2025-08-24T10:39:16.988Z"
   },
   {
    "duration": 227,
    "start_time": "2025-08-24T10:39:16.995Z"
   },
   {
    "duration": 29,
    "start_time": "2025-08-24T10:39:17.224Z"
   },
   {
    "duration": 7172,
    "start_time": "2025-08-24T10:39:17.255Z"
   },
   {
    "duration": 3035,
    "start_time": "2025-08-24T10:39:24.429Z"
   },
   {
    "duration": 253,
    "start_time": "2025-08-24T10:39:27.466Z"
   },
   {
    "duration": 466,
    "start_time": "2025-08-24T10:39:27.721Z"
   },
   {
    "duration": 218,
    "start_time": "2025-08-24T10:39:28.188Z"
   },
   {
    "duration": 531,
    "start_time": "2025-08-24T10:39:28.408Z"
   },
   {
    "duration": 1289,
    "start_time": "2025-08-24T10:39:28.949Z"
   },
   {
    "duration": 633,
    "start_time": "2025-08-24T10:39:30.240Z"
   },
   {
    "duration": 8,
    "start_time": "2025-08-24T10:39:30.875Z"
   },
   {
    "duration": 688,
    "start_time": "2025-08-24T10:39:30.885Z"
   },
   {
    "duration": 276,
    "start_time": "2025-08-24T10:39:31.575Z"
   },
   {
    "duration": 248,
    "start_time": "2025-08-24T10:39:31.853Z"
   },
   {
    "duration": 29,
    "start_time": "2025-08-24T10:39:32.105Z"
   },
   {
    "duration": 597,
    "start_time": "2025-08-24T10:39:32.135Z"
   },
   {
    "duration": 4988,
    "start_time": "2025-08-24T10:39:32.734Z"
   },
   {
    "duration": 5,
    "start_time": "2025-08-24T10:39:37.723Z"
   },
   {
    "duration": 259,
    "start_time": "2025-08-24T10:39:37.730Z"
   },
   {
    "duration": 403,
    "start_time": "2025-08-24T10:39:37.991Z"
   },
   {
    "duration": 476,
    "start_time": "2025-08-24T10:39:38.396Z"
   },
   {
    "duration": 358,
    "start_time": "2025-08-24T10:39:38.874Z"
   },
   {
    "duration": 423,
    "start_time": "2025-08-24T10:39:39.234Z"
   },
   {
    "duration": 619,
    "start_time": "2025-08-24T10:39:39.659Z"
   },
   {
    "duration": 154,
    "start_time": "2025-08-24T10:39:40.281Z"
   },
   {
    "duration": 527,
    "start_time": "2025-08-24T10:39:40.436Z"
   },
   {
    "duration": 364,
    "start_time": "2025-08-24T10:39:40.964Z"
   },
   {
    "duration": 389,
    "start_time": "2025-08-24T10:39:41.330Z"
   },
   {
    "duration": 382,
    "start_time": "2025-08-24T10:39:41.720Z"
   },
   {
    "duration": 78,
    "start_time": "2025-08-24T10:39:42.104Z"
   },
   {
    "duration": 524,
    "start_time": "2025-08-24T10:39:42.184Z"
   },
   {
    "duration": 71,
    "start_time": "2025-08-24T10:39:42.709Z"
   },
   {
    "duration": 495,
    "start_time": "2025-08-24T10:39:42.782Z"
   },
   {
    "duration": 124,
    "start_time": "2025-08-24T10:39:43.278Z"
   },
   {
    "duration": 84,
    "start_time": "2025-08-24T10:39:43.404Z"
   },
   {
    "duration": 13,
    "start_time": "2025-08-24T10:39:43.490Z"
   },
   {
    "duration": 17,
    "start_time": "2025-08-24T10:39:43.505Z"
   },
   {
    "duration": 99,
    "start_time": "2025-08-24T10:39:43.524Z"
   },
   {
    "duration": 9,
    "start_time": "2025-08-24T10:39:43.625Z"
   },
   {
    "duration": 221,
    "start_time": "2025-08-24T10:43:22.255Z"
   },
   {
    "duration": 232,
    "start_time": "2025-08-24T10:44:17.935Z"
   },
   {
    "duration": 1339,
    "start_time": "2025-08-24T10:44:31.565Z"
   },
   {
    "duration": 2224,
    "start_time": "2025-08-24T10:44:32.906Z"
   },
   {
    "duration": 153,
    "start_time": "2025-08-24T10:44:35.132Z"
   },
   {
    "duration": 28,
    "start_time": "2025-08-24T10:44:35.287Z"
   },
   {
    "duration": 86,
    "start_time": "2025-08-24T10:44:35.317Z"
   },
   {
    "duration": 582,
    "start_time": "2025-08-24T10:44:35.405Z"
   },
   {
    "duration": 273,
    "start_time": "2025-08-24T10:44:35.989Z"
   },
   {
    "duration": 139,
    "start_time": "2025-08-24T10:44:36.264Z"
   },
   {
    "duration": 73,
    "start_time": "2025-08-24T10:44:36.405Z"
   },
   {
    "duration": 1222,
    "start_time": "2025-08-24T10:44:36.481Z"
   },
   {
    "duration": 1766,
    "start_time": "2025-08-24T10:44:37.705Z"
   },
   {
    "duration": 278,
    "start_time": "2025-08-24T10:44:39.472Z"
   },
   {
    "duration": 3,
    "start_time": "2025-08-24T10:44:39.752Z"
   },
   {
    "duration": 220,
    "start_time": "2025-08-24T10:44:39.757Z"
   },
   {
    "duration": 23,
    "start_time": "2025-08-24T10:44:39.979Z"
   },
   {
    "duration": 7305,
    "start_time": "2025-08-24T10:44:40.004Z"
   },
   {
    "duration": 3000,
    "start_time": "2025-08-24T10:44:47.311Z"
   },
   {
    "duration": 255,
    "start_time": "2025-08-24T10:44:50.313Z"
   },
   {
    "duration": 470,
    "start_time": "2025-08-24T10:44:50.569Z"
   },
   {
    "duration": 209,
    "start_time": "2025-08-24T10:44:51.041Z"
   },
   {
    "duration": 548,
    "start_time": "2025-08-24T10:44:51.251Z"
   },
   {
    "duration": 1336,
    "start_time": "2025-08-24T10:44:51.801Z"
   },
   {
    "duration": 617,
    "start_time": "2025-08-24T10:44:53.139Z"
   },
   {
    "duration": 9,
    "start_time": "2025-08-24T10:44:53.758Z"
   },
   {
    "duration": 697,
    "start_time": "2025-08-24T10:44:53.768Z"
   },
   {
    "duration": 254,
    "start_time": "2025-08-24T10:44:54.467Z"
   },
   {
    "duration": 290,
    "start_time": "2025-08-24T10:44:54.723Z"
   },
   {
    "duration": 36,
    "start_time": "2025-08-24T10:44:55.017Z"
   },
   {
    "duration": 594,
    "start_time": "2025-08-24T10:44:55.055Z"
   },
   {
    "duration": 5131,
    "start_time": "2025-08-24T10:44:55.651Z"
   },
   {
    "duration": 5,
    "start_time": "2025-08-24T10:45:00.784Z"
   },
   {
    "duration": 263,
    "start_time": "2025-08-24T10:45:00.791Z"
   },
   {
    "duration": 397,
    "start_time": "2025-08-24T10:45:01.055Z"
   },
   {
    "duration": 476,
    "start_time": "2025-08-24T10:45:01.454Z"
   },
   {
    "duration": 386,
    "start_time": "2025-08-24T10:45:01.931Z"
   },
   {
    "duration": 419,
    "start_time": "2025-08-24T10:45:02.320Z"
   },
   {
    "duration": 664,
    "start_time": "2025-08-24T10:45:02.750Z"
   },
   {
    "duration": 145,
    "start_time": "2025-08-24T10:45:03.416Z"
   },
   {
    "duration": 516,
    "start_time": "2025-08-24T10:45:03.563Z"
   },
   {
    "duration": 388,
    "start_time": "2025-08-24T10:45:04.081Z"
   },
   {
    "duration": 431,
    "start_time": "2025-08-24T10:45:04.472Z"
   },
   {
    "duration": 402,
    "start_time": "2025-08-24T10:45:04.905Z"
   },
   {
    "duration": 75,
    "start_time": "2025-08-24T10:45:05.309Z"
   },
   {
    "duration": 514,
    "start_time": "2025-08-24T10:45:05.386Z"
   },
   {
    "duration": 77,
    "start_time": "2025-08-24T10:45:05.902Z"
   },
   {
    "duration": 489,
    "start_time": "2025-08-24T10:45:05.981Z"
   },
   {
    "duration": 140,
    "start_time": "2025-08-24T10:45:06.472Z"
   },
   {
    "duration": 86,
    "start_time": "2025-08-24T10:45:06.613Z"
   },
   {
    "duration": 14,
    "start_time": "2025-08-24T10:45:06.700Z"
   },
   {
    "duration": 35,
    "start_time": "2025-08-24T10:45:06.716Z"
   },
   {
    "duration": 236,
    "start_time": "2025-08-24T10:45:06.753Z"
   },
   {
    "duration": 9,
    "start_time": "2025-08-24T10:45:06.991Z"
   },
   {
    "duration": 76,
    "start_time": "2025-08-24T10:46:56.744Z"
   },
   {
    "duration": 1234,
    "start_time": "2025-08-24T10:49:07.767Z"
   },
   {
    "duration": 2029,
    "start_time": "2025-08-24T10:49:09.003Z"
   },
   {
    "duration": 125,
    "start_time": "2025-08-24T10:49:11.034Z"
   },
   {
    "duration": 31,
    "start_time": "2025-08-24T10:49:11.162Z"
   },
   {
    "duration": 18,
    "start_time": "2025-08-24T10:49:11.195Z"
   },
   {
    "duration": 618,
    "start_time": "2025-08-24T10:49:11.216Z"
   },
   {
    "duration": 283,
    "start_time": "2025-08-24T10:49:11.836Z"
   },
   {
    "duration": 132,
    "start_time": "2025-08-24T10:49:12.121Z"
   },
   {
    "duration": 60,
    "start_time": "2025-08-24T10:49:12.255Z"
   },
   {
    "duration": 1225,
    "start_time": "2025-08-24T10:49:12.318Z"
   },
   {
    "duration": 1760,
    "start_time": "2025-08-24T10:49:13.549Z"
   },
   {
    "duration": 270,
    "start_time": "2025-08-24T10:49:15.311Z"
   },
   {
    "duration": 4,
    "start_time": "2025-08-24T10:49:15.582Z"
   },
   {
    "duration": 209,
    "start_time": "2025-08-24T10:49:15.588Z"
   },
   {
    "duration": 25,
    "start_time": "2025-08-24T10:49:15.798Z"
   },
   {
    "duration": 7304,
    "start_time": "2025-08-24T10:49:15.825Z"
   },
   {
    "duration": 3081,
    "start_time": "2025-08-24T10:49:23.131Z"
   },
   {
    "duration": 260,
    "start_time": "2025-08-24T10:49:26.214Z"
   },
   {
    "duration": 486,
    "start_time": "2025-08-24T10:49:26.476Z"
   },
   {
    "duration": 215,
    "start_time": "2025-08-24T10:49:26.963Z"
   },
   {
    "duration": 544,
    "start_time": "2025-08-24T10:49:27.179Z"
   },
   {
    "duration": 1325,
    "start_time": "2025-08-24T10:49:27.725Z"
   },
   {
    "duration": 623,
    "start_time": "2025-08-24T10:49:29.052Z"
   },
   {
    "duration": 9,
    "start_time": "2025-08-24T10:49:29.677Z"
   },
   {
    "duration": 688,
    "start_time": "2025-08-24T10:49:29.688Z"
   },
   {
    "duration": 264,
    "start_time": "2025-08-24T10:49:30.378Z"
   },
   {
    "duration": 248,
    "start_time": "2025-08-24T10:49:30.649Z"
   },
   {
    "duration": 27,
    "start_time": "2025-08-24T10:49:30.901Z"
   },
   {
    "duration": 589,
    "start_time": "2025-08-24T10:49:30.930Z"
   },
   {
    "duration": 4904,
    "start_time": "2025-08-24T10:49:31.521Z"
   },
   {
    "duration": 5,
    "start_time": "2025-08-24T10:49:36.427Z"
   },
   {
    "duration": 247,
    "start_time": "2025-08-24T10:49:36.433Z"
   },
   {
    "duration": 396,
    "start_time": "2025-08-24T10:49:36.682Z"
   },
   {
    "duration": 456,
    "start_time": "2025-08-24T10:49:37.080Z"
   },
   {
    "duration": 393,
    "start_time": "2025-08-24T10:49:37.538Z"
   },
   {
    "duration": 434,
    "start_time": "2025-08-24T10:49:37.933Z"
   },
   {
    "duration": 614,
    "start_time": "2025-08-24T10:49:38.368Z"
   },
   {
    "duration": 156,
    "start_time": "2025-08-24T10:49:38.984Z"
   },
   {
    "duration": 513,
    "start_time": "2025-08-24T10:49:39.142Z"
   },
   {
    "duration": 356,
    "start_time": "2025-08-24T10:49:39.657Z"
   },
   {
    "duration": 399,
    "start_time": "2025-08-24T10:49:40.015Z"
   },
   {
    "duration": 384,
    "start_time": "2025-08-24T10:49:40.416Z"
   },
   {
    "duration": 78,
    "start_time": "2025-08-24T10:49:40.801Z"
   },
   {
    "duration": 526,
    "start_time": "2025-08-24T10:49:40.881Z"
   },
   {
    "duration": 70,
    "start_time": "2025-08-24T10:49:41.409Z"
   },
   {
    "duration": 497,
    "start_time": "2025-08-24T10:49:41.481Z"
   },
   {
    "duration": 130,
    "start_time": "2025-08-24T10:49:41.980Z"
   },
   {
    "duration": 92,
    "start_time": "2025-08-24T10:49:42.112Z"
   },
   {
    "duration": 14,
    "start_time": "2025-08-24T10:49:42.206Z"
   },
   {
    "duration": 30,
    "start_time": "2025-08-24T10:49:42.222Z"
   },
   {
    "duration": 76,
    "start_time": "2025-08-24T10:49:42.254Z"
   },
   {
    "duration": 10,
    "start_time": "2025-08-24T10:49:42.349Z"
   },
   {
    "duration": 1492,
    "start_time": "2025-09-06T07:04:49.140Z"
   },
   {
    "duration": 1796,
    "start_time": "2025-09-06T07:04:50.634Z"
   },
   {
    "duration": 122,
    "start_time": "2025-09-06T07:04:52.432Z"
   },
   {
    "duration": 28,
    "start_time": "2025-09-06T07:04:52.559Z"
   },
   {
    "duration": 19,
    "start_time": "2025-09-06T07:04:52.589Z"
   },
   {
    "duration": 600,
    "start_time": "2025-09-06T07:04:52.610Z"
   },
   {
    "duration": 279,
    "start_time": "2025-09-06T07:04:53.212Z"
   },
   {
    "duration": 135,
    "start_time": "2025-09-06T07:04:53.493Z"
   },
   {
    "duration": 62,
    "start_time": "2025-09-06T07:04:53.629Z"
   },
   {
    "duration": 1206,
    "start_time": "2025-09-06T07:04:53.694Z"
   },
   {
    "duration": 1737,
    "start_time": "2025-09-06T07:04:54.901Z"
   },
   {
    "duration": 280,
    "start_time": "2025-09-06T07:04:56.640Z"
   },
   {
    "duration": 5,
    "start_time": "2025-09-06T07:04:56.922Z"
   },
   {
    "duration": 224,
    "start_time": "2025-09-06T07:04:56.928Z"
   },
   {
    "duration": 24,
    "start_time": "2025-09-06T07:04:57.154Z"
   },
   {
    "duration": 7270,
    "start_time": "2025-09-06T07:04:57.179Z"
   },
   {
    "duration": 3141,
    "start_time": "2025-09-06T07:05:04.451Z"
   },
   {
    "duration": 269,
    "start_time": "2025-09-06T07:05:07.594Z"
   },
   {
    "duration": 473,
    "start_time": "2025-09-06T07:05:07.865Z"
   },
   {
    "duration": 220,
    "start_time": "2025-09-06T07:05:08.340Z"
   },
   {
    "duration": 591,
    "start_time": "2025-09-06T07:05:08.562Z"
   },
   {
    "duration": 1364,
    "start_time": "2025-09-06T07:05:09.155Z"
   },
   {
    "duration": 624,
    "start_time": "2025-09-06T07:05:10.521Z"
   },
   {
    "duration": 18,
    "start_time": "2025-09-06T07:05:11.148Z"
   },
   {
    "duration": 681,
    "start_time": "2025-09-06T07:05:11.168Z"
   },
   {
    "duration": 263,
    "start_time": "2025-09-06T07:05:11.851Z"
   },
   {
    "duration": 261,
    "start_time": "2025-09-06T07:05:12.116Z"
   },
   {
    "duration": 27,
    "start_time": "2025-09-06T07:05:12.381Z"
   },
   {
    "duration": 587,
    "start_time": "2025-09-06T07:05:12.410Z"
   },
   {
    "duration": 5242,
    "start_time": "2025-09-06T07:05:12.999Z"
   },
   {
    "duration": 5,
    "start_time": "2025-09-06T07:05:18.244Z"
   },
   {
    "duration": 239,
    "start_time": "2025-09-06T07:05:18.250Z"
   },
   {
    "duration": 408,
    "start_time": "2025-09-06T07:05:18.491Z"
   },
   {
    "duration": 490,
    "start_time": "2025-09-06T07:05:18.900Z"
   },
   {
    "duration": 390,
    "start_time": "2025-09-06T07:05:19.392Z"
   },
   {
    "duration": 415,
    "start_time": "2025-09-06T07:05:19.784Z"
   },
   {
    "duration": 599,
    "start_time": "2025-09-06T07:05:20.200Z"
   },
   {
    "duration": 157,
    "start_time": "2025-09-06T07:05:20.801Z"
   },
   {
    "duration": 492,
    "start_time": "2025-09-06T07:05:20.961Z"
   },
   {
    "duration": 367,
    "start_time": "2025-09-06T07:05:21.455Z"
   },
   {
    "duration": 401,
    "start_time": "2025-09-06T07:05:21.824Z"
   },
   {
    "duration": 393,
    "start_time": "2025-09-06T07:05:22.226Z"
   },
   {
    "duration": 79,
    "start_time": "2025-09-06T07:05:22.621Z"
   },
   {
    "duration": 537,
    "start_time": "2025-09-06T07:05:22.702Z"
   },
   {
    "duration": 67,
    "start_time": "2025-09-06T07:05:23.241Z"
   },
   {
    "duration": 512,
    "start_time": "2025-09-06T07:05:23.309Z"
   },
   {
    "duration": 127,
    "start_time": "2025-09-06T07:05:23.822Z"
   },
   {
    "duration": 79,
    "start_time": "2025-09-06T07:05:23.951Z"
   },
   {
    "duration": 34,
    "start_time": "2025-09-06T07:05:24.032Z"
   },
   {
    "duration": 8,
    "start_time": "2025-09-06T07:05:24.068Z"
   },
   {
    "duration": 91,
    "start_time": "2025-09-06T07:05:24.077Z"
   },
   {
    "duration": 9,
    "start_time": "2025-09-06T07:05:24.170Z"
   },
   {
    "duration": 1427,
    "start_time": "2025-09-06T08:23:53.570Z"
   },
   {
    "duration": 1968,
    "start_time": "2025-09-06T08:23:54.999Z"
   },
   {
    "duration": 133,
    "start_time": "2025-09-06T08:23:56.969Z"
   },
   {
    "duration": 31,
    "start_time": "2025-09-06T08:23:57.104Z"
   },
   {
    "duration": 82,
    "start_time": "2025-09-06T08:23:57.137Z"
   },
   {
    "duration": 583,
    "start_time": "2025-09-06T08:23:57.221Z"
   },
   {
    "duration": 274,
    "start_time": "2025-09-06T08:23:57.806Z"
   },
   {
    "duration": 130,
    "start_time": "2025-09-06T08:23:58.082Z"
   },
   {
    "duration": 69,
    "start_time": "2025-09-06T08:23:58.214Z"
   },
   {
    "duration": 1199,
    "start_time": "2025-09-06T08:23:58.285Z"
   },
   {
    "duration": 1720,
    "start_time": "2025-09-06T08:23:59.486Z"
   },
   {
    "duration": 283,
    "start_time": "2025-09-06T08:24:01.208Z"
   },
   {
    "duration": 4,
    "start_time": "2025-09-06T08:24:01.494Z"
   },
   {
    "duration": 261,
    "start_time": "2025-09-06T08:24:01.500Z"
   },
   {
    "duration": 28,
    "start_time": "2025-09-06T08:24:01.763Z"
   },
   {
    "duration": 7382,
    "start_time": "2025-09-06T08:24:01.794Z"
   },
   {
    "duration": 3101,
    "start_time": "2025-09-06T08:24:09.178Z"
   },
   {
    "duration": 262,
    "start_time": "2025-09-06T08:24:12.281Z"
   },
   {
    "duration": 475,
    "start_time": "2025-09-06T08:24:12.545Z"
   },
   {
    "duration": 224,
    "start_time": "2025-09-06T08:24:13.022Z"
   },
   {
    "duration": 529,
    "start_time": "2025-09-06T08:24:13.248Z"
   },
   {
    "duration": 1296,
    "start_time": "2025-09-06T08:24:13.779Z"
   },
   {
    "duration": 641,
    "start_time": "2025-09-06T08:24:15.077Z"
   },
   {
    "duration": 11,
    "start_time": "2025-09-06T08:24:15.720Z"
   },
   {
    "duration": 746,
    "start_time": "2025-09-06T08:24:15.734Z"
   },
   {
    "duration": 264,
    "start_time": "2025-09-06T08:24:16.482Z"
   },
   {
    "duration": 253,
    "start_time": "2025-09-06T08:24:16.749Z"
   },
   {
    "duration": 31,
    "start_time": "2025-09-06T08:24:17.007Z"
   },
   {
    "duration": 572,
    "start_time": "2025-09-06T08:24:17.040Z"
   },
   {
    "duration": 4904,
    "start_time": "2025-09-06T08:24:17.615Z"
   },
   {
    "duration": 5,
    "start_time": "2025-09-06T08:24:22.521Z"
   },
   {
    "duration": 240,
    "start_time": "2025-09-06T08:24:22.528Z"
   },
   {
    "duration": 402,
    "start_time": "2025-09-06T08:24:22.770Z"
   },
   {
    "duration": 456,
    "start_time": "2025-09-06T08:24:23.174Z"
   },
   {
    "duration": 394,
    "start_time": "2025-09-06T08:24:23.632Z"
   },
   {
    "duration": 440,
    "start_time": "2025-09-06T08:24:24.028Z"
   },
   {
    "duration": 692,
    "start_time": "2025-09-06T08:24:24.470Z"
   },
   {
    "duration": 152,
    "start_time": "2025-09-06T08:24:25.164Z"
   },
   {
    "duration": 536,
    "start_time": "2025-09-06T08:24:25.319Z"
   },
   {
    "duration": 363,
    "start_time": "2025-09-06T08:24:25.861Z"
   },
   {
    "duration": 399,
    "start_time": "2025-09-06T08:24:26.226Z"
   },
   {
    "duration": 403,
    "start_time": "2025-09-06T08:24:26.627Z"
   },
   {
    "duration": 70,
    "start_time": "2025-09-06T08:24:27.032Z"
   },
   {
    "duration": 549,
    "start_time": "2025-09-06T08:24:27.104Z"
   },
   {
    "duration": 67,
    "start_time": "2025-09-06T08:24:27.655Z"
   },
   {
    "duration": 541,
    "start_time": "2025-09-06T08:24:27.723Z"
   },
   {
    "duration": 130,
    "start_time": "2025-09-06T08:24:28.267Z"
   },
   {
    "duration": 89,
    "start_time": "2025-09-06T08:24:28.398Z"
   },
   {
    "duration": 16,
    "start_time": "2025-09-06T08:24:28.489Z"
   },
   {
    "duration": 8,
    "start_time": "2025-09-06T08:24:28.507Z"
   },
   {
    "duration": 112,
    "start_time": "2025-09-06T08:24:28.517Z"
   },
   {
    "duration": 8,
    "start_time": "2025-09-06T08:24:28.631Z"
   }
  ],
  "colab": {
   "provenance": []
  },
  "kernelspec": {
   "display_name": "Python 3 (ipykernel)",
   "language": "python",
   "name": "python3"
  },
  "language_info": {
   "codemirror_mode": {
    "name": "ipython",
    "version": 3
   },
   "file_extension": ".py",
   "mimetype": "text/x-python",
   "name": "python",
   "nbconvert_exporter": "python",
   "pygments_lexer": "ipython3",
   "version": "3.9.5"
  },
  "toc": {
   "base_numbering": 1,
   "nav_menu": {},
   "number_sections": true,
   "sideBar": true,
   "skip_h1_title": true,
   "title_cell": "Table of Contents",
   "title_sidebar": "Contents",
   "toc_cell": false,
   "toc_position": {},
   "toc_section_display": true,
   "toc_window_display": false
  }
 },
 "nbformat": 4,
 "nbformat_minor": 1
}
