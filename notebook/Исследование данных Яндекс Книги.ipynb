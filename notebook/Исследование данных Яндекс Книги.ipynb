{
 "cells": [
  {
   "cell_type": "markdown",
   "id": "_E41Wr5fqnFT",
   "metadata": {
    "id": "_E41Wr5fqnFT"
   },
   "source": [
    "# Часть 1. Проверка гипотезы в Python и составление аналитической записки"
   ]
  },
  {
   "cell_type": "markdown",
   "id": "e06910dd",
   "metadata": {
    "id": "e06910dd"
   },
   "source": [
    "\n",
    "\n",
    "- Автор: Гуреев Конcтантин Викторович"
   ]
  },
  {
   "cell_type": "markdown",
   "id": "4149134c",
   "metadata": {
    "id": "4149134c"
   },
   "source": [
    "## Цели и задачи проекта\n",
    "\n",
    "<font color='#777778'>Наша цель провести А/В тестирование чтобы ответить на вопрос - пользователи из Санкт-Петербурга проводят в среднем больше времени за чтением и прослушиванием книг в приложении, чем пользователи из Москвы?\n",
    " \n",
    "    Наши задачи:\n",
    "- Проверить наличие дубликатов в идентификаторах пользователей\n",
    "- Сравнить размеры групп, их статистики и распределение.\n",
    "- Написать вывод на основе результатов теста.</font>"
   ]
  },
  {
   "cell_type": "markdown",
   "id": "4fecaf95",
   "metadata": {
    "id": "4fecaf95"
   },
   "source": [
    "## Содержимое проекта\n",
    "\n",
    "<font color='#777778'>Проект содержит следующие шаги:\n",
    "- Проверка наличие дубликатов в идентификаторах пользователей\n",
    "- Сравнение размеров групп и их статистики.\n",
    "- Проверка гипотезы.\n",
    "- Подготовка аналитической записки.</font>\n",
    "\n",
    "---"
   ]
  },
  {
   "cell_type": "markdown",
   "id": "6f7d21d6",
   "metadata": {
    "id": "6f7d21d6"
   },
   "source": [
    "## 1. Загрузка данных и знакомство с ними"
   ]
  },
  {
   "cell_type": "code",
   "execution_count": 1,
   "id": "05faf34b",
   "metadata": {
    "id": "05faf34b"
   },
   "outputs": [],
   "source": [
    "# загрузим необходимые библиотеки\n",
    "import pandas as pd\n",
    "import numpy as np\n",
    "from scipy import stats\n",
    "from statsmodels.stats.power import NormalIndPower\n",
    "from statsmodels.stats.proportion import proportion_effectsize\n",
    "from scipy.stats import ttest_ind\n",
    "from statsmodels.stats.proportion import proportions_ztest\n",
    "from scipy.stats import norm"
   ]
  },
  {
   "cell_type": "code",
   "execution_count": 2,
   "id": "ce87c1db",
   "metadata": {
    "id": "ce87c1db"
   },
   "outputs": [
    {
     "data": {
      "text/html": [
       "<div>\n",
       "<style scoped>\n",
       "    .dataframe tbody tr th:only-of-type {\n",
       "        vertical-align: middle;\n",
       "    }\n",
       "\n",
       "    .dataframe tbody tr th {\n",
       "        vertical-align: top;\n",
       "    }\n",
       "\n",
       "    .dataframe thead th {\n",
       "        text-align: right;\n",
       "    }\n",
       "</style>\n",
       "<table border=\"1\" class=\"dataframe\">\n",
       "  <thead>\n",
       "    <tr style=\"text-align: right;\">\n",
       "      <th></th>\n",
       "      <th>Unnamed: 0</th>\n",
       "      <th>city</th>\n",
       "      <th>puid</th>\n",
       "      <th>hours</th>\n",
       "    </tr>\n",
       "  </thead>\n",
       "  <tbody>\n",
       "    <tr>\n",
       "      <th>0</th>\n",
       "      <td>0</td>\n",
       "      <td>Москва</td>\n",
       "      <td>9668</td>\n",
       "      <td>26.167776</td>\n",
       "    </tr>\n",
       "    <tr>\n",
       "      <th>1</th>\n",
       "      <td>1</td>\n",
       "      <td>Москва</td>\n",
       "      <td>16598</td>\n",
       "      <td>82.111217</td>\n",
       "    </tr>\n",
       "    <tr>\n",
       "      <th>2</th>\n",
       "      <td>2</td>\n",
       "      <td>Москва</td>\n",
       "      <td>80401</td>\n",
       "      <td>4.656906</td>\n",
       "    </tr>\n",
       "    <tr>\n",
       "      <th>3</th>\n",
       "      <td>3</td>\n",
       "      <td>Москва</td>\n",
       "      <td>140205</td>\n",
       "      <td>1.840556</td>\n",
       "    </tr>\n",
       "    <tr>\n",
       "      <th>4</th>\n",
       "      <td>4</td>\n",
       "      <td>Москва</td>\n",
       "      <td>248755</td>\n",
       "      <td>151.326434</td>\n",
       "    </tr>\n",
       "  </tbody>\n",
       "</table>\n",
       "</div>"
      ],
      "text/plain": [
       "   Unnamed: 0    city    puid       hours\n",
       "0           0  Москва    9668   26.167776\n",
       "1           1  Москва   16598   82.111217\n",
       "2           2  Москва   80401    4.656906\n",
       "3           3  Москва  140205    1.840556\n",
       "4           4  Москва  248755  151.326434"
      ]
     },
     "execution_count": 2,
     "metadata": {},
     "output_type": "execute_result"
    }
   ],
   "source": [
    "# Ознакомимся с данными\n",
    "user_df.head()"
   ]
  },
  {
   "cell_type": "code",
   "execution_count": 3,
   "id": "1f958ae2",
   "metadata": {},
   "outputs": [
    {
     "data": {
      "text/plain": [
       "'Всего уникальных пользователей: 8540'"
      ]
     },
     "metadata": {},
     "output_type": "display_data"
    },
    {
     "data": {
      "text/plain": [
       "'Всего записей в таблице: 8784'"
      ]
     },
     "metadata": {},
     "output_type": "display_data"
    },
    {
     "data": {
      "text/plain": [
       "'Записей с дубликатами: 488'"
      ]
     },
     "metadata": {},
     "output_type": "display_data"
    },
    {
     "data": {
      "text/plain": [
       "'число строк после удаления дубликатов 8540'"
      ]
     },
     "metadata": {},
     "output_type": "display_data"
    }
   ],
   "source": [
    "# Проверяем есть ли дубликаты\n",
    "# Находим все строки, где puid повторяется\n",
    "duplicates = user_df[user_df.duplicated(subset=['puid'], keep=False)]\n",
    "#  Считаем количество уникальных пользователей\n",
    "unique_users = user_df['puid'].nunique()\n",
    "display(f\"Всего уникальных пользователей: {unique_users}\")\n",
    "\n",
    "# Считаем общее количество записей\n",
    "total_records = len(user_df)\n",
    "display(f\"Всего записей в таблице: {total_records}\")\n",
    "\n",
    "# Считаем количество записей с дубликатами\n",
    "duplicate_count = len(duplicates)\n",
    "display(f\"Записей с дубликатами: {duplicate_count}\")\n",
    "\n",
    "# Оставляем только первую встречу puid\n",
    "df_clean = user_df.drop_duplicates(subset=['puid'], keep='first')\n",
    "# число строк после удаления дубликатов\n",
    "display(f'число строк после удаления дубликатов {len(df_clean)}')"
   ]
  },
  {
   "cell_type": "code",
   "execution_count": 4,
   "id": "f68a7419",
   "metadata": {
    "id": "f68a7419"
   },
   "outputs": [
    {
     "data": {
      "text/plain": [
       "'Количество пользователей по городам:'"
      ]
     },
     "metadata": {},
     "output_type": "display_data"
    },
    {
     "data": {
      "text/plain": [
       "Москва             6234\n",
       "Санкт-Петербург    2550\n",
       "Name: city, dtype: int64"
      ]
     },
     "metadata": {},
     "output_type": "display_data"
    }
   ],
   "source": [
    "# Подсчитаем количество пользователей по городам\n",
    "city_counts = user_df['city'].value_counts()\n",
    "display(\"Количество пользователей по городам:\")\n",
    "display(city_counts)"
   ]
  },
  {
   "cell_type": "code",
   "execution_count": 5,
   "id": "cdfcf31c",
   "metadata": {},
   "outputs": [
    {
     "data": {
      "text/plain": [
       "'Статистика по городам:'"
      ]
     },
     "metadata": {},
     "output_type": "display_data"
    },
    {
     "data": {
      "text/html": [
       "<div>\n",
       "<style scoped>\n",
       "    .dataframe tbody tr th:only-of-type {\n",
       "        vertical-align: middle;\n",
       "    }\n",
       "\n",
       "    .dataframe tbody tr th {\n",
       "        vertical-align: top;\n",
       "    }\n",
       "\n",
       "    .dataframe thead tr th {\n",
       "        text-align: left;\n",
       "    }\n",
       "\n",
       "    .dataframe thead tr:last-of-type th {\n",
       "        text-align: right;\n",
       "    }\n",
       "</style>\n",
       "<table border=\"1\" class=\"dataframe\">\n",
       "  <thead>\n",
       "    <tr>\n",
       "      <th></th>\n",
       "      <th>puid</th>\n",
       "      <th colspan=\"4\" halign=\"left\">hours</th>\n",
       "    </tr>\n",
       "    <tr>\n",
       "      <th></th>\n",
       "      <th>nunique</th>\n",
       "      <th>mean</th>\n",
       "      <th>sum</th>\n",
       "      <th>median</th>\n",
       "      <th>std</th>\n",
       "    </tr>\n",
       "    <tr>\n",
       "      <th>city</th>\n",
       "      <th></th>\n",
       "      <th></th>\n",
       "      <th></th>\n",
       "      <th></th>\n",
       "      <th></th>\n",
       "    </tr>\n",
       "  </thead>\n",
       "  <tbody>\n",
       "    <tr>\n",
       "      <th>Москва</th>\n",
       "      <td>6234</td>\n",
       "      <td>10.881092</td>\n",
       "      <td>67832.727924</td>\n",
       "      <td>0.924498</td>\n",
       "      <td>36.851683</td>\n",
       "    </tr>\n",
       "    <tr>\n",
       "      <th>Санкт-Петербург</th>\n",
       "      <td>2550</td>\n",
       "      <td>11.592691</td>\n",
       "      <td>29561.361481</td>\n",
       "      <td>0.984781</td>\n",
       "      <td>39.704993</td>\n",
       "    </tr>\n",
       "  </tbody>\n",
       "</table>\n",
       "</div>"
      ],
      "text/plain": [
       "                   puid      hours                                   \n",
       "                nunique       mean           sum    median        std\n",
       "city                                                                 \n",
       "Москва             6234  10.881092  67832.727924  0.924498  36.851683\n",
       "Санкт-Петербург    2550  11.592691  29561.361481  0.984781  39.704993"
      ]
     },
     "metadata": {},
     "output_type": "display_data"
    }
   ],
   "source": [
    "# Статистика по городам\n",
    "display(\"Статистика по городам:\")\n",
    "city_stats = user_df.groupby('city').agg({\n",
    "    'puid': 'nunique',  # Уникальные пользователи\n",
    "    'hours': ['mean', 'sum', 'median', 'std']  # Статистика по часам\n",
    "})\n",
    "display(city_stats)"
   ]
  },
  {
   "cell_type": "code",
   "execution_count": 6,
   "id": "1aad4135",
   "metadata": {},
   "outputs": [
    {
     "data": {
      "text/plain": [
       "'Процентное соотношение пользователей по городам:'"
      ]
     },
     "metadata": {},
     "output_type": "display_data"
    },
    {
     "data": {
      "text/plain": [
       "Москва             70.969945\n",
       "Санкт-Петербург    29.030055\n",
       "Name: city, dtype: float64"
      ]
     },
     "metadata": {},
     "output_type": "display_data"
    }
   ],
   "source": [
    "# Процентное соотношение пользователей по городам\n",
    "city_percentage = city_counts / city_counts.sum() * 100\n",
    "display(\"Процентное соотношение пользователей по городам:\")\n",
    "display(city_percentage)"
   ]
  },
  {
   "cell_type": "markdown",
   "id": "b65ae62a",
   "metadata": {},
   "source": [
    "В связи с разным размером групп будем пользоваться тестом Уэлча."
   ]
  },
  {
   "cell_type": "code",
   "execution_count": 7,
   "id": "1dcf7016",
   "metadata": {},
   "outputs": [
    {
     "data": {
      "text/plain": [
       "0"
      ]
     },
     "execution_count": 7,
     "metadata": {},
     "output_type": "execute_result"
    }
   ],
   "source": [
    "user_df.duplicated().sum()"
   ]
  },
  {
   "cell_type": "markdown",
   "id": "956e82e2",
   "metadata": {
    "id": "956e82e2"
   },
   "source": [
    "## 2. Проверка гипотезы в Python\n",
    "\n",
    "Гипотеза звучит так: пользователи из Санкт-Петербурга проводят в среднем больше времени за чтением и прослушиванием книг в приложении, чем пользователи из Москвы. Попробуйте статистически это доказать, используя одностороннюю проверку гипотезы с двумя выборками:\n",
    "\n",
    "- Нулевая гипотеза H₀: Средняя активность пользователей в часах в двух группах (Москва и Санкт-Петербург) не различается.\n",
    "\n",
    "- Альтернативная гипотеза H₁: Средняя активность пользователей в Санкт-Петербурге больше, и это различие статистически значимо."
   ]
  },
  {
   "cell_type": "code",
   "execution_count": 8,
   "id": "67956690",
   "metadata": {
    "id": "67956690"
   },
   "outputs": [
    {
     "name": "stdout",
     "output_type": "stream",
     "text": [
      "Статистика по Санкт-Петербургу:\n",
      "Размер выборки: 2550\n",
      "Среднее время: 11.59 часов\n",
      "Стандартное отклонение: 39.70 часов\n",
      "\n",
      "Статистика по Москве:\n",
      "Размер выборки: 6234\n",
      "Среднее время: 10.88 часов\n",
      "Стандартное отклонение: 36.85 часов\n",
      "\n",
      "Результаты t-теста:\n",
      "t-статистика: 0.7782\n",
      "p-значение: 0.2182\n",
      "Нет достаточных доказательств для отвержения H0.\n"
     ]
    }
   ],
   "source": [
    "# Разделяем данные по городам\n",
    "spb_data = user_df[user_df['city'] == 'Санкт-Петербург']['hours']\n",
    "msk_data = user_df[user_df['city'] == 'Москва']['hours']\n",
    "\n",
    "# Базовая статистика\n",
    "print(\"Статистика по Санкт-Петербургу:\")\n",
    "print(f\"Размер выборки: {len(spb_data)}\")\n",
    "print(f\"Среднее время: {spb_data.mean():.2f} часов\")\n",
    "print(f\"Стандартное отклонение: {spb_data.std():.2f} часов\\n\")\n",
    "\n",
    "print(\"Статистика по Москве:\")\n",
    "print(f\"Размер выборки: {len(msk_data)}\")\n",
    "print(f\"Среднее время: {msk_data.mean():.2f} часов\")\n",
    "print(f\"Стандартное отклонение: {msk_data.std():.2f} часов\\n\")\n",
    "\n",
    "# Выполняем t-тест\n",
    "# Поскольку выборки разного размера, используем Welch-тест\n",
    "t_stat, p_value = stats.ttest_ind(\n",
    "    spb_data, \n",
    "    msk_data, \n",
    "    equal_var=False,  # Welch-тест\n",
    "    alternative='greater'  # Односторонний тест\n",
    ")\n",
    "\n",
    "print(\"Результаты t-теста:\")\n",
    "print(f\"t-статистика: {t_stat:.4f}\")\n",
    "print(f\"p-значение: {p_value:.4f}\")\n",
    "\n",
    "# Делаем вывод\n",
    "alpha = 0.05  # Уровень значимости\n",
    "if p_value < alpha:\n",
    "    print(\"Гипотеза H0 отвергается. Есть статистически значимые доказательства того, что среднее время активности пользователей в Санкт-Петербурге больше, чем в Москве.\")\n",
    "else:\n",
    "    print(\"Нет достаточных доказательств для отвержения H0.\")"
   ]
  },
  {
   "cell_type": "markdown",
   "id": "6953e84c",
   "metadata": {
    "id": "6953e84c"
   },
   "source": [
    "## 3. Аналитическая записка\n",
    "По результатам анализа данных подготовьте аналитическую записку, в которой опишете:\n",
    "\n",
    "- Выбранный тип t-теста и уровень статистической значимости.\n",
    "\n",
    "- Результат теста, или p-value.\n",
    "\n",
    "- Вывод на основе полученного p-value, то есть интерпретацию результатов.\n",
    "\n",
    "- Одну или две возможные причины, объясняющие полученные результаты.\n",
    "\n"
   ]
  },
  {
   "cell_type": "markdown",
   "id": "33a9e963",
   "metadata": {},
   "source": [
    "\n",
    "1. Тип статистического теста: односторонний t-тест Уэлча (Welch’s t-test) для независимых выборок с неравными дисперсиями.\n",
    "\n",
    "Уровень статистической значимости: α = 0.05\n",
    "\n",
    "2. Результаты статистического анализа\n",
    "\n",
    "Гипотезы исследования:\n",
    "- H0: Среднее время активности пользователей в Санкт-Петербурге не превышает среднее время в Москве (μСПб ≤ μМосква)\n",
    "- H1: Среднее время активности пользователей в Санкт-Петербурге статистически значимо превышает время в Москве (μСПб > μМосква)\n",
    "\n",
    "Статистические показатели:\n",
    "- t-статистика: 0.7782\n",
    "- p-значение: 0.2182\n",
    "\n",
    "3. Интерпретация результатов\n",
    "\n",
    "На основании полученного p-значения (0.2182 > 0.05) нет достаточных статистических доказательств для отвержения нулевой гипотезы. Это означает, что:\n",
    "- Различия в среднем времени активности между городами статистически незначимы\n",
    "- Нельзя утверждать, что пользователи из Санкт-Петербурга проводят больше времени в приложении, чем пользователи из Москвы\n",
    "\n",
    "4. Возможные объяснения результатов\n",
    "\n",
    "Размер выборки и дисперсия:\n",
    "\n",
    "Большая дисперсия в обеих выборках (39.70 и 36.85 часов) может маскировать реальные различия\n",
    "\n",
    "Малый размер и перекос в размерах групп может привести к искаженнуму результату статистического теста."
   ]
  },
  {
   "cell_type": "markdown",
   "id": "hc1d6jVISegz",
   "metadata": {
    "id": "hc1d6jVISegz"
   },
   "source": [
    "----"
   ]
  },
  {
   "cell_type": "markdown",
   "id": "NqOUIYhbrIfC",
   "metadata": {
    "id": "NqOUIYhbrIfC"
   },
   "source": [
    "# Часть 2. Анализ результатов A/B-тестирования"
   ]
  },
  {
   "cell_type": "markdown",
   "id": "tDwMKFNGsClr",
   "metadata": {
    "id": "tDwMKFNGsClr"
   },
   "source": [
    "Теперь вам нужно проанализировать другие данные. Представьте, что к вам обратились представители интернет-магазина BitMotion Kit, в котором продаются геймифицированные товары для тех, кто ведёт здоровый образ жизни. У него есть своя целевая аудитория, даже появились хиты продаж: эспандер со счётчиком и напоминанием, так и подстольный велотренажёр с Bluetooth.\n",
    "\n",
    "В будущем компания хочет расширить ассортимент товаров. Но перед этим нужно решить одну проблему. Интерфейс онлайн-магазина слишком сложен для пользователей — об этом говорят отзывы.\n",
    "\n",
    "Чтобы привлечь новых клиентов и увеличить число продаж, владельцы магазина разработали новую версию сайта и протестировали его на части пользователей. По задумке, это решение доказуемо повысит количество пользователей, которые совершат покупку.\n",
    "\n",
    "Ваша задача — провести оценку результатов A/B-теста. В вашем распоряжении:\n",
    "\n",
    "* данные о действиях пользователей и распределении их на группы,\n",
    "\n",
    "* техническое задание.\n",
    "\n",
    "Оцените корректность проведения теста и проанализируйте его результаты."
   ]
  },
  {
   "cell_type": "markdown",
   "id": "UNXAAyF5r9Rk",
   "metadata": {
    "id": "UNXAAyF5r9Rk"
   },
   "source": [
    "## 1. Опишите цели исследования.\n",
    "\n"
   ]
  },
  {
   "cell_type": "markdown",
   "id": "kHx-51yES8bd",
   "metadata": {
    "id": "kHx-51yES8bd"
   },
   "source": [
    "- Провести оценку результатов A/B-теста.\n",
    "- Оценить корректность проведения теста и проанализировать его результаты."
   ]
  },
  {
   "cell_type": "markdown",
   "id": "_CZryx2OsH-s",
   "metadata": {
    "id": "_CZryx2OsH-s"
   },
   "source": [
    "## 2. Загрузите данные, оцените их целостность.\n"
   ]
  },
  {
   "cell_type": "markdown",
   "id": "CnzA-efasUrk",
   "metadata": {
    "id": "CnzA-efasUrk"
   },
   "source": [
    "## 3. По таблице `ab_test_participants` оцените корректность проведения теста:\n",
    "\n",
    "   3\\.1 Выделите пользователей, участвующих в тесте, и проверьте:\n",
    "\n",
    "   - соответствие требованиям технического задания,\n",
    "\n",
    "   - равномерность распределения пользователей по группам теста,\n",
    "\n",
    "   - отсутствие пересечений с конкурирующим тестом (нет пользователей, участвующих одновременно в двух тестовых группах)."
   ]
  },
  {
   "cell_type": "code",
   "execution_count": 10,
   "id": "aNa3zHrKslEN",
   "metadata": {
    "id": "aNa3zHrKslEN"
   },
   "outputs": [],
   "source": [
    "# Фильтруем только нужный тест\n",
    "test_name = 'interface_eu_test'\n",
    "test_df = participants[participants['ab_test'] == test_name]"
   ]
  },
  {
   "cell_type": "code",
   "execution_count": 11,
   "id": "560fd128",
   "metadata": {},
   "outputs": [
    {
     "name": "stdout",
     "output_type": "stream",
     "text": [
      "Проверка соответствия техническому заданию:\n",
      "✓ Группы соответствуют ТЗ (A и B присутствуют)\n"
     ]
    }
   ],
   "source": [
    "# 1. Проверка соответствия ТЗ\n",
    "print(\"Проверка соответствия техническому заданию:\")\n",
    "# Проверка наличия только нужных групп\n",
    "valid_groups = test_df['group'].unique()\n",
    "required_groups = ['A', 'B']\n",
    "if set(valid_groups) == set(required_groups):\n",
    "    print(\"✓ Группы соответствуют ТЗ (A и B присутствуют)\")\n",
    "else:\n",
    "    print(\"❌ Ошибка: обнаружены недопустимые группы\")"
   ]
  },
  {
   "cell_type": "code",
   "execution_count": 12,
   "id": "307a4715",
   "metadata": {},
   "outputs": [
    {
     "name": "stdout",
     "output_type": "stream",
     "text": [
      "\n",
      "Распределение пользователей по группам:\n",
      "  group  user_id\n",
      "0     A     5383\n",
      "1     B     5467\n",
      "\n",
      "Разница в количестве пользователей между группами: 84\n",
      "Общее количество участников теста: 10850\n"
     ]
    }
   ],
   "source": [
    "# 2. Проверка равномерности распределения\n",
    "group_distribution = test_df.groupby('group').agg({\n",
    "    'user_id': 'nunique'\n",
    "}).reset_index()\n",
    "print(\"\\nРаспределение пользователей по группам:\")\n",
    "print(group_distribution)\n",
    "# Расчет разницы в количестве пользователей\n",
    "group_counts = group_distribution.set_index('group')['user_id']\n",
    "difference = abs(group_counts['A'] - group_counts['B'])\n",
    "total_users = group_counts.sum()\n",
    "print(f\"\\nРазница в количестве пользователей между группами: {difference}\")\n",
    "print(f\"Общее количество участников теста: {total_users}\")"
   ]
  },
  {
   "cell_type": "code",
   "execution_count": 13,
   "id": "90b8ccbf",
   "metadata": {},
   "outputs": [
    {
     "name": "stdout",
     "output_type": "stream",
     "text": [
      "\n",
      "✓ Пересечений между группами A и B нет\n",
      "\n",
      "✓ Пересечений с тестовыми группами других тестов нет\n"
     ]
    }
   ],
   "source": [
    "# 3. Проверка на пересечения с другими тестами\n",
    "# Создаем набор всех user_id в текущем тесте\n",
    "test_users = set(test_df['user_id'])\n",
    "# Разделяем пользователей по группам A и B\n",
    "group_a_users = set(test_df[test_df['group'] == 'A']['user_id'])\n",
    "group_b_users = set(test_df[test_df['group'] == 'B']['user_id'])\n",
    "\n",
    "# Проверяем пересечения между группами A и B\n",
    "ab_overlap = group_a_users.intersection(group_b_users)\n",
    "\n",
    "if ab_overlap:\n",
    "    print(\"\\n❌ Обнаружены пересечения между группами A и B!\")\n",
    "    print(f\"Количество пересекающихся пользователей: {len(ab_overlap)}\")\n",
    "    print(\"Список пересекающихся пользователей:\")\n",
    "    print(test_df[test_df['user_id'].isin(ab_overlap)]['user_id'].unique())\n",
    "else:\n",
    "    print(\"\\n✓ Пересечений между группами A и B нет\")\n",
    "# Получаем всех пользователей, которые находятся в тестовых группах других тестов\n",
    "other_tests = test_df[(test_df['ab_test'] == 'recommender_system_test') & (test_df['group'] == 'B')]\n",
    "\n",
    "# Находим пересечения именно с тестовыми группами других тестов\n",
    "overlapping_test_users = set(other_tests['user_id'])\n",
    "\n",
    "# Проверяем пересечения\n",
    "if test_users.intersection(overlapping_test_users):\n",
    "    print(\"\\n❌ Обнаружены пересечения с тестовыми группами других тестов!\")\n",
    "    print(f\"Количество пересекающихся пользователей: {len(test_users.intersection(overlapping_test_users))}\")\n",
    "    \n",
    "    # Дополнительно выведем список пересекающихся пользователей\n",
    "    print(\"\\nСписок пересекающихся пользователей:\")\n",
    "    print(test_df[test_df['user_id'].isin(overlapping_test_users)]['user_id'].unique())\n",
    "else:\n",
    "    print(\"\\n✓ Пересечений с тестовыми группами других тестов нет\")"
   ]
  },
  {
   "cell_type": "code",
   "execution_count": 14,
   "id": "b58d00de",
   "metadata": {},
   "outputs": [
    {
     "name": "stdout",
     "output_type": "stream",
     "text": [
      "\n",
      "✓ Дубликатов user_id не обнаружено\n"
     ]
    }
   ],
   "source": [
    "# 4. Проверка на дубликаты\n",
    "duplicates = test_df.duplicated(subset='user_id', keep=False)\n",
    "if duplicates.any():\n",
    "    print(\"\\n❌ Обнаружены дублирующиеся user_id\")\n",
    "    print(f\"Количество дубликатов: {duplicates.sum()}\")\n",
    "else:\n",
    "    print(\"\\n✓ Дубликатов user_id не обнаружено\")"
   ]
  },
  {
   "cell_type": "code",
   "execution_count": 15,
   "id": "57d7cc90",
   "metadata": {
    "scrolled": true
   },
   "outputs": [
    {
     "name": "stdout",
     "output_type": "stream",
     "text": [
      "\n",
      "Результаты проверки соответствия ТЗ:\n",
      "✓ Тест полностью соответствует техническому заданию\n"
     ]
    }
   ],
   "source": [
    "# Итоговый вывод\n",
    "print(\"\\nРезультаты проверки соответствия ТЗ:\")\n",
    "if (set(valid_groups) == set(required_groups) and \n",
    "    not duplicates.any() and \n",
    "    not test_users.intersection(overlapping_test_users)):\n",
    "    print(\"✓ Тест полностью соответствует техническому заданию\")\n",
    "else:\n",
    "    print(\"❌ Тест не соответствует техническому заданию\")"
   ]
  },
  {
   "cell_type": "markdown",
   "id": "GjulgSrlsqUU",
   "metadata": {
    "id": "GjulgSrlsqUU"
   },
   "source": [
    "3\\.2 Проанализируйте данные о пользовательской активности по таблице `ab_test_events`:\n",
    "\n",
    "- оставьте только события, связанные с участвующими в изучаемом тесте пользователями;"
   ]
  },
  {
   "cell_type": "code",
   "execution_count": 16,
   "id": "QMt0Ybo_swDK",
   "metadata": {
    "id": "QMt0Ybo_swDK"
   },
   "outputs": [],
   "source": [
    "# Фильтруем только нужных участников для нашего теста\n",
    "test_users = participants[\n",
    "    (participants['ab_test'] == test_name)\n",
    "]['user_id'].unique()"
   ]
  },
  {
   "cell_type": "code",
   "execution_count": 17,
   "id": "4ae86146",
   "metadata": {},
   "outputs": [],
   "source": [
    "# Фильтруем таблицу с событиями и оставляем только информацию с пользователями учавствующими с тесте\n",
    "filtered_events = events[events['user_id'].isin(test_users)]\n"
   ]
  },
  {
   "cell_type": "code",
   "execution_count": 18,
   "id": "3b23b7da",
   "metadata": {},
   "outputs": [
    {
     "name": "stdout",
     "output_type": "stream",
     "text": [
      "<class 'pandas.core.frame.DataFrame'>\n",
      "Int64Index: 79715 entries, 64672 to 780371\n",
      "Data columns (total 4 columns):\n",
      " #   Column      Non-Null Count  Dtype         \n",
      "---  ------      --------------  -----         \n",
      " 0   user_id     79715 non-null  object        \n",
      " 1   event_dt    79715 non-null  datetime64[ns]\n",
      " 2   event_name  79715 non-null  object        \n",
      " 3   details     21075 non-null  object        \n",
      "dtypes: datetime64[ns](1), object(3)\n",
      "memory usage: 3.0+ MB\n"
     ]
    }
   ],
   "source": [
    "# Изучим результат\n",
    "filtered_events.info()"
   ]
  },
  {
   "cell_type": "code",
   "execution_count": 19,
   "id": "35d244bc",
   "metadata": {},
   "outputs": [
    {
     "data": {
      "text/html": [
       "<div>\n",
       "<style scoped>\n",
       "    .dataframe tbody tr th:only-of-type {\n",
       "        vertical-align: middle;\n",
       "    }\n",
       "\n",
       "    .dataframe tbody tr th {\n",
       "        vertical-align: top;\n",
       "    }\n",
       "\n",
       "    .dataframe thead th {\n",
       "        text-align: right;\n",
       "    }\n",
       "</style>\n",
       "<table border=\"1\" class=\"dataframe\">\n",
       "  <thead>\n",
       "    <tr style=\"text-align: right;\">\n",
       "      <th></th>\n",
       "      <th>user_id</th>\n",
       "      <th>event_dt</th>\n",
       "      <th>event_name</th>\n",
       "      <th>details</th>\n",
       "    </tr>\n",
       "  </thead>\n",
       "  <tbody>\n",
       "    <tr>\n",
       "      <th>64672</th>\n",
       "      <td>5F506CEBEDC05D30</td>\n",
       "      <td>2020-12-06 14:10:01</td>\n",
       "      <td>registration</td>\n",
       "      <td>0.0</td>\n",
       "    </tr>\n",
       "    <tr>\n",
       "      <th>64946</th>\n",
       "      <td>51278A006E918D97</td>\n",
       "      <td>2020-12-06 14:37:25</td>\n",
       "      <td>registration</td>\n",
       "      <td>-3.8</td>\n",
       "    </tr>\n",
       "    <tr>\n",
       "      <th>66585</th>\n",
       "      <td>A0C1E8EFAD874D8B</td>\n",
       "      <td>2020-12-06 17:20:22</td>\n",
       "      <td>registration</td>\n",
       "      <td>-3.32</td>\n",
       "    </tr>\n",
       "    <tr>\n",
       "      <th>67873</th>\n",
       "      <td>275A8D6254ACF530</td>\n",
       "      <td>2020-12-06 19:36:54</td>\n",
       "      <td>registration</td>\n",
       "      <td>-0.48</td>\n",
       "    </tr>\n",
       "    <tr>\n",
       "      <th>67930</th>\n",
       "      <td>0B704EB2DC7FCA4B</td>\n",
       "      <td>2020-12-06 19:42:20</td>\n",
       "      <td>registration</td>\n",
       "      <td>0.0</td>\n",
       "    </tr>\n",
       "  </tbody>\n",
       "</table>\n",
       "</div>"
      ],
      "text/plain": [
       "                user_id            event_dt    event_name details\n",
       "64672  5F506CEBEDC05D30 2020-12-06 14:10:01  registration     0.0\n",
       "64946  51278A006E918D97 2020-12-06 14:37:25  registration    -3.8\n",
       "66585  A0C1E8EFAD874D8B 2020-12-06 17:20:22  registration   -3.32\n",
       "67873  275A8D6254ACF530 2020-12-06 19:36:54  registration   -0.48\n",
       "67930  0B704EB2DC7FCA4B 2020-12-06 19:42:20  registration     0.0"
      ]
     },
     "execution_count": 19,
     "metadata": {},
     "output_type": "execute_result"
    }
   ],
   "source": [
    "filtered_events.head()"
   ]
  },
  {
   "cell_type": "markdown",
   "id": "fBZ4DC2xswZJ",
   "metadata": {
    "id": "fBZ4DC2xswZJ"
   },
   "source": [
    "- определите горизонт анализа: рассчитайте время (лайфтайм) совершения события пользователем после регистрации и оставьте только те события, которые были выполнены в течение первых семи дней с момента регистрации;"
   ]
  },
  {
   "cell_type": "code",
   "execution_count": 20,
   "id": "sES4-dKts0Yb",
   "metadata": {
    "id": "sES4-dKts0Yb"
   },
   "outputs": [],
   "source": [
    "# Выделяем события регистрации\n",
    "registration_events = filtered_events[filtered_events['event_name'] == 'registration']\n",
    "\n",
    "# Создаем словарь времени регистрации\n",
    "registration_times = registration_events.groupby('user_id')['event_dt'].min().reset_index()\n",
    "registration_times.rename(columns={'event_dt': 'registration_dt'}, inplace=True)\n",
    "\n",
    "# Выделяем события покупки\n",
    "purchase_events = filtered_events[filtered_events['event_name'] == 'purchase']\n"
   ]
  },
  {
   "cell_type": "code",
   "execution_count": 21,
   "id": "595b0be0",
   "metadata": {},
   "outputs": [],
   "source": [
    "# Объединяем с временем регистрации\n",
    "purchase_with_registration = pd.merge(\n",
    " purchase_events,\n",
    " registration_times,\n",
    " on='user_id'\n",
    ")\n",
    "\n",
    "# Рассчитываем время с момента регистрации\n",
    "purchase_with_registration['days_since_registration'] = (\n",
    " purchase_with_registration['event_dt'] - \n",
    " purchase_with_registration['registration_dt']\n",
    ").dt.days"
   ]
  },
  {
   "cell_type": "code",
   "execution_count": 22,
   "id": "9eb1a670",
   "metadata": {},
   "outputs": [
    {
     "name": "stdout",
     "output_type": "stream",
     "text": [
      "Статистика покупок за 7 дней:\n",
      "<class 'pandas.core.frame.DataFrame'>\n",
      "Int64Index: 6623 entries, 0 to 10171\n",
      "Data columns (total 6 columns):\n",
      " #   Column                   Non-Null Count  Dtype         \n",
      "---  ------                   --------------  -----         \n",
      " 0   user_id                  6623 non-null   object        \n",
      " 1   event_dt                 6623 non-null   datetime64[ns]\n",
      " 2   event_name               6623 non-null   object        \n",
      " 3   details                  6623 non-null   object        \n",
      " 4   registration_dt          6623 non-null   datetime64[ns]\n",
      " 5   days_since_registration  6623 non-null   int64         \n",
      "dtypes: datetime64[ns](2), int64(1), object(3)\n",
      "memory usage: 362.2+ KB\n",
      "None\n",
      "\n",
      "Распределение покупок по дням с момента регистрации:\n",
      "days_since_registration\n",
      "0     870\n",
      "1    1033\n",
      "2    1120\n",
      "3    1046\n",
      "4     963\n",
      "5     895\n",
      "6     696\n",
      "dtype: int64\n",
      "\n",
      "Конверсия в покупку за 7 дней: 28.39%\n"
     ]
    }
   ],
   "source": [
    "# Оставляем только покупки в течение 7 дней после регистрации\n",
    "valid_purchases = purchase_with_registration[purchase_with_registration['days_since_registration'] < 7]\n",
    "\n",
    "# Базовая статистика по покупкам\n",
    "print(\"Статистика покупок за 7 дней:\")\n",
    "print(valid_purchases.info())\n",
    "\n",
    "# Распределение покупок по дням\n",
    "purchase_day_distribution = valid_purchases.groupby('days_since_registration').size()\n",
    "print(\"\\nРаспределение покупок по дням с момента регистрации:\")\n",
    "print(purchase_day_distribution)\n",
    "\n",
    "# Конверсия по дням\n",
    "total_registered = len(registration_times)\n",
    "purchased_users = valid_purchases['user_id'].nunique()\n",
    "conversion_rate = purchased_users / total_registered * 100\n",
    "\n",
    "print(f\"\\nКонверсия в покупку за 7 дней: {conversion_rate:.2f}%\")"
   ]
  },
  {
   "cell_type": "markdown",
   "id": "7cf1df48",
   "metadata": {},
   "source": [
    "Оцените достаточность выборки для получения статистически значимых результатов A/B-теста. Заданные параметры:\n",
    "\n",
    "- базовый показатель конверсии — 30%,\n",
    "\n",
    "- мощность теста — 80%,\n",
    "\n",
    "- достоверность теста — 95%."
   ]
  },
  {
   "cell_type": "code",
   "execution_count": 23,
   "id": "7d97b466",
   "metadata": {},
   "outputs": [
    {
     "name": "stdout",
     "output_type": "stream",
     "text": [
      "Параметры теста:\n",
      "  Базовый показатель конверсии: 30.0%\n",
      "  Минимальный детектируемый эффект: 3.0%\n",
      "  Мощность теста: 80.0%\n",
      "  Достоверность: 95.0%\n"
     ]
    }
   ],
   "source": [
    "# Задаем параметры теста\n",
    "base_conversion = 0.3  # базовый показатель конверсии\n",
    "effect_size = 0.03     # минимальный детектируемый эффект (3 процентных пункта)\n",
    "power = 0.8            # мощность теста (80%)\n",
    "alpha = 0.05           # уровень значимости (95% достоверность)\n",
    "\n",
    "# Рассчитываем необходимый размер выборки\n",
    "# Используем формулу для пропорций\n",
    "effect = proportion_effectsize(prop1=base_conversion, \n",
    "                                  prop2=base_conversion + effect_size)\n",
    "\n",
    "analysis = NormalIndPower()\n",
    "result = analysis.solve_power(effect_size=effect, \n",
    "                             power=power, \n",
    "                             alpha=alpha, \n",
    "                             ratio=1,  # равные группы\n",
    "                             alternative='two-sided')\n",
    "\n",
    "# Рассчитываем общее количество наблюдений\n",
    "n_per_group = int(np.ceil(result))  # округляем в большую сторону\n",
    "total_sample_size = n_per_group * 2  # умножаем на 2, так как две группы\n",
    "\n",
    "print(f\"Параметры теста:\")\n",
    "print(f\"  Базовый показатель конверсии: {base_conversion*100}%\")\n",
    "print(f\"  Минимальный детектируемый эффект: {effect_size*100}%\")\n",
    "print(f\"  Мощность теста: {power*100}%\")\n",
    "print(f\"  Достоверность: {(1-alpha)*100}%\")"
   ]
  },
  {
   "cell_type": "markdown",
   "id": "SadyUDgZs0t3",
   "metadata": {
    "id": "SadyUDgZs0t3"
   },
   "source": [
    "- рассчитайте для каждой группы количество посетителей, сделавших покупку, и общее количество посетителей."
   ]
  },
  {
   "cell_type": "code",
   "execution_count": 24,
   "id": "7ph853Xks4sy",
   "metadata": {
    "id": "7ph853Xks4sy"
   },
   "outputs": [
    {
     "name": "stdout",
     "output_type": "stream",
     "text": [
      "Необходимый размер выборки для каждой группы: 3762\n",
      "Общий необходимый размер выборки: 7524\n"
     ]
    }
   ],
   "source": [
    "print(f\"Необходимый размер выборки для каждой группы: {n_per_group}\")\n",
    "print(f\"Общий необходимый размер выборки: {total_sample_size}\")"
   ]
  },
  {
   "cell_type": "markdown",
   "id": "sh1JpGvAs5E3",
   "metadata": {
    "id": "sh1JpGvAs5E3"
   },
   "source": [
    "- сделайте предварительный общий вывод об изменении пользовательской активности в тестовой группе по сравнению с контрольной."
   ]
  },
  {
   "cell_type": "code",
   "execution_count": 25,
   "id": "hHTHPkJYs8mE",
   "metadata": {
    "id": "hHTHPkJYs8mE"
   },
   "outputs": [],
   "source": [
    "# Добавляем информацию о группах к событиям\n",
    "valid_purchases = pd.merge(\n",
    "    valid_purchases,\n",
    "    participants[['user_id', 'group']],\n",
    "    on='user_id')\n",
    "# Получаем всех зарегистрированных пользователей по группам\n",
    "registered_u = registration_times.merge(\n",
    "    participants[['user_id', 'group']],\n",
    "    on='user_id'\n",
    ")\n",
    "\n",
    "# зарегистрированных в каждой группе\n",
    "registered_a = registered_u[registered_u['group'] == 'A']\n",
    "registered_b = registered_u[registered_u['group'] == 'B']"
   ]
  },
  {
   "cell_type": "code",
   "execution_count": 26,
   "id": "4e226c03",
   "metadata": {},
   "outputs": [],
   "source": [
    "# Разделяем на группы совершивших покупку\n",
    "group_a = valid_purchases[valid_purchases['group'] == 'A']\n",
    "group_b = valid_purchases[valid_purchases['group'] == 'B']"
   ]
  },
  {
   "cell_type": "code",
   "execution_count": 27,
   "id": "506498c2",
   "metadata": {},
   "outputs": [],
   "source": [
    "# Метрики для групп\n",
    "def calculate_metrics(group, registered):\n",
    "    metrics = {\n",
    "        'unique_users': registered['user_id'].nunique(),\n",
    "        'purchases': group['user_id'].nunique(),\n",
    "        'conversion': group['user_id'].nunique() / registered['user_id'].nunique(),\n",
    "        'avg_days_to_purchase': group['days_since_registration'].mean(),\n",
    "        'purchases_per_user': len(group) / group['user_id'].nunique()\n",
    "    }\n",
    "    return pd.Series(metrics)\n",
    "\n",
    "metrics_a = calculate_metrics(group_a, registered_a)\n",
    "metrics_b = calculate_metrics(group_b, registered_b)"
   ]
  },
  {
   "cell_type": "code",
   "execution_count": 28,
   "id": "178ff3ad",
   "metadata": {
    "scrolled": true
   },
   "outputs": [
    {
     "name": "stdout",
     "output_type": "stream",
     "text": [
      "Сравнение метрик по группам:\n",
      "                          Group A      Group B  Difference  \\\n",
      "unique_users          5723.000000  5573.000000 -150.000000   \n",
      "purchases             1579.000000  1626.000000   47.000000   \n",
      "conversion               0.275904     0.291764    0.015860   \n",
      "avg_days_to_purchase     2.770407     2.919748    0.149342   \n",
      "purchases_per_user       2.071564     2.345018    0.273454   \n",
      "\n",
      "                      Relative Change (%)  Difference (pp)  \n",
      "unique_users                    -2.621003    -15000.000000  \n",
      "purchases                        2.976567      4700.000000  \n",
      "conversion                       5.748232         1.585962  \n",
      "avg_days_to_purchase             5.390603        14.934163  \n",
      "purchases_per_user              13.200371        27.345417  \n",
      "\n",
      "Разница в конверсии в процентных пунктах: 1.59 п.п.\n"
     ]
    }
   ],
   "source": [
    "# Рассчитываем разницу в процентных пунктах для конверсии\n",
    "conversion_diff_pp = (metrics_b['conversion'] - metrics_a['conversion']) * 100\n",
    "\n",
    "# Сравнение метрик\n",
    "comparison = pd.DataFrame({\n",
    "    'Group A': metrics_a,\n",
    "    'Group B': metrics_b,\n",
    "    'Difference': metrics_b - metrics_a,\n",
    "    'Relative Change (%)': (metrics_b - metrics_a) / metrics_a * 100,\n",
    "    'Difference (pp)': (metrics_b - metrics_a) * 100  # Добавляем колонку с разницей в п.п.\n",
    "})\n",
    "\n",
    "print(\"Сравнение метрик по группам:\")\n",
    "print(comparison)\n",
    "\n",
    "# Отдельно выводим разницу в процентных пунктах для конверсии\n",
    "print(f\"\\nРазница в конверсии в процентных пунктах: {conversion_diff_pp:.2f} п.п.\")"
   ]
  },
  {
   "cell_type": "markdown",
   "id": "IKZ1Oo3Ws919",
   "metadata": {
    "id": "IKZ1Oo3Ws919"
   },
   "source": [
    "## 4. Проведите оценку результатов A/B-тестирования:"
   ]
  },
  {
   "cell_type": "markdown",
   "id": "dcUdBSmvtC-E",
   "metadata": {
    "id": "dcUdBSmvtC-E"
   },
   "source": [
    "- Проверьте изменение конверсии подходящим статистическим тестом, учитывая все этапы проверки гипотез."
   ]
  },
  {
   "cell_type": "markdown",
   "id": "f23f78bd",
   "metadata": {},
   "source": []
  },
  {
   "cell_type": "code",
   "execution_count": 29,
   "id": "l_KOziBQtL3t",
   "metadata": {
    "id": "l_KOziBQtL3t"
   },
   "outputs": [
    {
     "name": "stdout",
     "output_type": "stream",
     "text": [
      "Проверка данных:\n",
      "Зарегистрировано в группе A: 5723\n",
      "Покупок в группе A: 1579\n",
      "Зарегистрировано в группе B: 5573\n",
      "Покупок в группе B: 1626\n"
     ]
    }
   ],
   "source": [
    "# Получаем всех зарегистрированных пользователей по группам\n",
    "registered_users = registration_times.merge(\n",
    "    participants[['user_id', 'group']],\n",
    "    on='user_id'\n",
    ")\n",
    "\n",
    "# Считаем количество уникальных зарегистрированных в каждой группе\n",
    "total_registered_a = registered_users[registered_users['group'] == 'A']['user_id'].nunique()\n",
    "total_registered_b = registered_users[registered_users['group'] == 'B']['user_id'].nunique()\n",
    "\n",
    "# Считаем количество совершивших покупку\n",
    "converted_a = group_a['user_id'].nunique()\n",
    "converted_b = group_b['user_id'].nunique()\n",
    "\n",
    "\n",
    "# Рассчитываем конверсию\n",
    "conversion_a = converted_a / total_registered_a\n",
    "conversion_b = converted_b / total_registered_b\n",
    "\n",
    "print(\"Проверка данных:\")\n",
    "print(f\"Зарегистрировано в группе A: {total_registered_a}\")\n",
    "print(f\"Покупок в группе A: {converted_a}\")\n",
    "print(f\"Зарегистрировано в группе B: {total_registered_b}\")\n",
    "print(f\"Покупок в группе B: {converted_b}\")\n",
    "\n"
   ]
  },
  {
   "cell_type": "markdown",
   "id": "6c8512cb",
   "metadata": {},
   "source": [
    "Формулируем гипотезы:\n",
    "- H0: конверсия в группе B не выше, чем в группе A на 3 п.п.\n",
    "- H1: конверсия в группе B выше, чем в группе A минимум на 3 п.п.\n"
   ]
  },
  {
   "cell_type": "code",
   "execution_count": 30,
   "id": "242c12a6",
   "metadata": {},
   "outputs": [
    {
     "name": "stdout",
     "output_type": "stream",
     "text": [
      "\n",
      "Результаты теста:\n",
      "Z-статистика: -5.4055\n",
      "P-значение: 0.9999999676819358\n",
      "\n",
      "Статистически значимых различий не обнаружено\n",
      "\n",
      "Итоговая конверсия:\n",
      "Группа A: 27.59%\n",
      "Группа B: 29.18%\n",
      "Разница: 1.59%\n"
     ]
    }
   ],
   "source": [
    "# Собираем данные для теста\n",
    "count = np.array([converted_a, converted_b])\n",
    "nobs = np.array([total_registered_a, total_registered_b])\n",
    "\n",
    "try:\n",
    "    # Проводим z-тест\n",
    "    z_stat, p_value = proportions_ztest(\n",
    "        count=count,\n",
    "        nobs=nobs,\n",
    "        value=0.03,  # ожидаемое минимальное увеличение 3 п.п.\n",
    "        alternative='larger'\n",
    "    )\n",
    "    \n",
    "    print(\"\\nРезультаты теста:\")\n",
    "    print(f\"Z-статистика: {z_stat:.4f}\")\n",
    "    print(f\"P-значение: {p_value:}\")\n",
    "    \n",
    "    # Делаем выводы\n",
    "    if p_value < 0.05 and (conversion_b - conversion_a) >= 0.03:\n",
    "        print(\"\\nГипотеза подтверждена!\")\n",
    "        print(f\"Конверсия в группе B выше на {(conversion_b - conversion_a)*100:.2f}%\")\n",
    "    elif p_value < 0.05:\n",
    "        print(\"\\nОбнаружены статистически значимые различия\")\n",
    "        print(f\"Но эффект меньше ожидаемого: {(conversion_b - conversion_a)*100:.2f}%\")\n",
    "    else:\n",
    "        print(\"\\nСтатистически значимых различий не обнаружено\")\n",
    "        \n",
    "except Exception as e:\n",
    "    print(f\"Ошибка при проведении теста: {e}\")\n",
    "\n",
    "# Итоговая статистика\n",
    "print(\"\\nИтоговая конверсия:\")\n",
    "print(f\"Группа A: {conversion_a:.2%}\")\n",
    "print(f\"Группа B: {conversion_b:.2%}\")\n",
    "print(f\"Разница: {conversion_b - conversion_a:.2%}\")"
   ]
  },
  {
   "cell_type": "markdown",
   "id": "9jkyKOjgtGoc",
   "metadata": {
    "id": "9jkyKOjgtGoc"
   },
   "source": [
    "- Опишите выводы по проведённой оценке результатов A/B-тестирования. Что можно сказать про результаты A/B-тестирования? Был ли достигнут ожидаемый эффект в изменении конверсии?"
   ]
  },
  {
   "cell_type": "markdown",
   "id": "npoPPSKytKvR",
   "metadata": {
    "id": "npoPPSKytKvR"
   },
   "source": [
    "- Z-статистика =  -5.4055 (отрицательное значение указывает на то, что группа B группа B не показала существенно лучших результатов)\n",
    "\n",
    "Вывод: статистически значимых различий между группами не обнаружено\n",
    "\n",
    "Конверсия в группе A (контрольная): 27.59%\n",
    "\n",
    "Конверсия в группе B (тестовая): 29.18%\n",
    "\n",
    "Абсолютная разница: +1.59% в пользу тестовой группы.\n",
    "\n",
    "Наблюдается положительная динамика конверсии в тестовой группе\n",
    "\n",
    "Хотя конверсия в группе B выше на 1.59%, это увеличение:\n",
    "\n",
    "Не достигает минимально ожидаемого уровня в 3 п.п.\n",
    "\n",
    "Не является статистически значимым\n",
    "\n",
    "Т.к. разница в конверсии ниже ожидаемой рекомендуется рассмотреть возможность корректировки тестируемого решения."
   ]
  }
 ],
 "metadata": {
  "ExecuteTimeLog": [
   {
    "duration": 50,
    "start_time": "2025-08-06T09:25:37.009Z"
   },
   {
    "duration": 531,
    "start_time": "2025-08-06T09:25:44.770Z"
   },
   {
    "duration": 15,
    "start_time": "2025-08-06T09:25:46.037Z"
   },
   {
    "duration": 30,
    "start_time": "2025-08-06T09:54:11.807Z"
   },
   {
    "duration": 13,
    "start_time": "2025-08-06T10:06:44.920Z"
   },
   {
    "duration": 61,
    "start_time": "2025-08-06T10:08:52.242Z"
   },
   {
    "duration": 393,
    "start_time": "2025-08-07T05:41:00.708Z"
   },
   {
    "duration": 118,
    "start_time": "2025-08-07T05:41:03.248Z"
   },
   {
    "duration": 14,
    "start_time": "2025-08-07T05:41:05.508Z"
   },
   {
    "duration": 63,
    "start_time": "2025-08-07T05:41:07.536Z"
   },
   {
    "duration": 7,
    "start_time": "2025-08-07T05:41:35.975Z"
   },
   {
    "duration": 7,
    "start_time": "2025-08-07T05:41:40.857Z"
   },
   {
    "duration": 19,
    "start_time": "2025-08-07T05:41:54.805Z"
   },
   {
    "duration": 8,
    "start_time": "2025-08-07T05:42:33.274Z"
   },
   {
    "duration": 816,
    "start_time": "2025-08-07T05:50:29.123Z"
   },
   {
    "duration": 102,
    "start_time": "2025-08-07T05:50:30.791Z"
   },
   {
    "duration": 14,
    "start_time": "2025-08-07T05:50:33.397Z"
   },
   {
    "duration": 9,
    "start_time": "2025-08-07T05:50:34.811Z"
   },
   {
    "duration": 18,
    "start_time": "2025-08-07T05:50:36.089Z"
   },
   {
    "duration": 8,
    "start_time": "2025-08-07T05:50:38.250Z"
   },
   {
    "duration": 17,
    "start_time": "2025-08-07T05:51:47.308Z"
   },
   {
    "duration": 14,
    "start_time": "2025-08-07T05:52:33.114Z"
   },
   {
    "duration": 1421,
    "start_time": "2025-08-07T06:05:58.383Z"
   },
   {
    "duration": 5,
    "start_time": "2025-08-07T06:16:34.539Z"
   },
   {
    "duration": 5,
    "start_time": "2025-08-07T06:16:36.456Z"
   },
   {
    "duration": 13,
    "start_time": "2025-08-07T06:16:40.569Z"
   },
   {
    "duration": 92,
    "start_time": "2025-08-07T06:16:49.241Z"
   },
   {
    "duration": 10,
    "start_time": "2025-08-07T06:17:15.688Z"
   },
   {
    "duration": 7,
    "start_time": "2025-08-07T06:17:49.268Z"
   },
   {
    "duration": 4,
    "start_time": "2025-08-07T06:17:54.471Z"
   },
   {
    "duration": 11,
    "start_time": "2025-08-07T06:40:14.332Z"
   },
   {
    "duration": 9,
    "start_time": "2025-08-07T06:40:37.195Z"
   },
   {
    "duration": 4,
    "start_time": "2025-08-07T06:41:18.776Z"
   },
   {
    "duration": 5,
    "start_time": "2025-08-07T06:41:28.013Z"
   },
   {
    "duration": 852,
    "start_time": "2025-08-07T06:41:45.983Z"
   },
   {
    "duration": 108,
    "start_time": "2025-08-07T06:41:46.837Z"
   },
   {
    "duration": 14,
    "start_time": "2025-08-07T06:41:46.947Z"
   },
   {
    "duration": 63,
    "start_time": "2025-08-07T06:41:46.963Z"
   },
   {
    "duration": 54,
    "start_time": "2025-08-07T06:41:47.027Z"
   },
   {
    "duration": 87,
    "start_time": "2025-08-07T06:41:47.083Z"
   },
   {
    "duration": 31,
    "start_time": "2025-08-07T06:41:47.171Z"
   },
   {
    "duration": 1555,
    "start_time": "2025-08-07T06:41:47.204Z"
   },
   {
    "duration": 10,
    "start_time": "2025-08-07T06:41:48.761Z"
   },
   {
    "duration": 29,
    "start_time": "2025-08-07T06:41:48.774Z"
   },
   {
    "duration": 14,
    "start_time": "2025-08-07T06:41:48.804Z"
   },
   {
    "duration": 11,
    "start_time": "2025-08-07T06:41:48.820Z"
   },
   {
    "duration": 18,
    "start_time": "2025-08-07T06:41:48.833Z"
   },
   {
    "duration": 85,
    "start_time": "2025-08-07T06:41:48.853Z"
   },
   {
    "duration": 5,
    "start_time": "2025-08-07T06:42:24.385Z"
   },
   {
    "duration": 9,
    "start_time": "2025-08-07T06:51:55.931Z"
   },
   {
    "duration": 9,
    "start_time": "2025-08-07T06:52:01.393Z"
   },
   {
    "duration": 8,
    "start_time": "2025-08-07T06:52:14.083Z"
   },
   {
    "duration": 82,
    "start_time": "2025-08-07T06:52:23.498Z"
   },
   {
    "duration": 23,
    "start_time": "2025-08-07T06:52:25.675Z"
   },
   {
    "duration": 9,
    "start_time": "2025-08-07T06:54:04.469Z"
   },
   {
    "duration": 11,
    "start_time": "2025-08-07T07:03:59.993Z"
   },
   {
    "duration": 10,
    "start_time": "2025-08-07T07:04:09.119Z"
   },
   {
    "duration": 11,
    "start_time": "2025-08-07T07:04:26.342Z"
   },
   {
    "duration": 31,
    "start_time": "2025-08-07T07:11:49.295Z"
   },
   {
    "duration": 16,
    "start_time": "2025-08-07T07:11:50.876Z"
   },
   {
    "duration": 89,
    "start_time": "2025-08-07T07:11:52.090Z"
   },
   {
    "duration": 86,
    "start_time": "2025-08-07T07:12:12.070Z"
   },
   {
    "duration": 20,
    "start_time": "2025-08-07T07:12:29.372Z"
   },
   {
    "duration": 11,
    "start_time": "2025-08-07T07:37:57.390Z"
   },
   {
    "duration": 818,
    "start_time": "2025-08-07T07:38:07.111Z"
   },
   {
    "duration": 117,
    "start_time": "2025-08-07T07:38:07.931Z"
   },
   {
    "duration": 12,
    "start_time": "2025-08-07T07:38:08.050Z"
   },
   {
    "duration": 59,
    "start_time": "2025-08-07T07:38:08.064Z"
   },
   {
    "duration": 32,
    "start_time": "2025-08-07T07:38:08.125Z"
   },
   {
    "duration": 25,
    "start_time": "2025-08-07T07:38:08.159Z"
   },
   {
    "duration": 57,
    "start_time": "2025-08-07T07:38:08.186Z"
   },
   {
    "duration": 1571,
    "start_time": "2025-08-07T07:38:08.245Z"
   },
   {
    "duration": 6,
    "start_time": "2025-08-07T07:38:09.817Z"
   },
   {
    "duration": 28,
    "start_time": "2025-08-07T07:38:09.825Z"
   },
   {
    "duration": 45,
    "start_time": "2025-08-07T07:38:09.855Z"
   },
   {
    "duration": 12,
    "start_time": "2025-08-07T07:38:09.901Z"
   },
   {
    "duration": 30,
    "start_time": "2025-08-07T07:38:09.915Z"
   },
   {
    "duration": 13,
    "start_time": "2025-08-07T07:38:09.947Z"
   },
   {
    "duration": 27,
    "start_time": "2025-08-07T07:38:09.961Z"
   },
   {
    "duration": 95,
    "start_time": "2025-08-07T07:38:09.990Z"
   },
   {
    "duration": 22,
    "start_time": "2025-08-07T07:38:10.087Z"
   },
   {
    "duration": 9,
    "start_time": "2025-08-07T07:38:10.110Z"
   },
   {
    "duration": 51,
    "start_time": "2025-08-07T07:38:10.120Z"
   },
   {
    "duration": 14,
    "start_time": "2025-08-07T07:38:10.173Z"
   },
   {
    "duration": 19,
    "start_time": "2025-08-07T07:38:10.189Z"
   },
   {
    "duration": 106,
    "start_time": "2025-08-07T07:38:10.209Z"
   },
   {
    "duration": 0,
    "start_time": "2025-08-07T07:38:10.316Z"
   },
   {
    "duration": 840,
    "start_time": "2025-08-07T07:40:50.115Z"
   },
   {
    "duration": 82,
    "start_time": "2025-08-07T07:40:50.957Z"
   },
   {
    "duration": 17,
    "start_time": "2025-08-07T07:40:51.040Z"
   },
   {
    "duration": 6,
    "start_time": "2025-08-07T07:40:51.059Z"
   },
   {
    "duration": 35,
    "start_time": "2025-08-07T07:40:51.067Z"
   },
   {
    "duration": 8,
    "start_time": "2025-08-07T07:40:51.104Z"
   },
   {
    "duration": 101,
    "start_time": "2025-08-07T07:40:51.114Z"
   },
   {
    "duration": 0,
    "start_time": "2025-08-07T07:40:51.217Z"
   },
   {
    "duration": 0,
    "start_time": "2025-08-07T07:40:51.218Z"
   },
   {
    "duration": 0,
    "start_time": "2025-08-07T07:40:51.219Z"
   },
   {
    "duration": 0,
    "start_time": "2025-08-07T07:40:51.220Z"
   },
   {
    "duration": 0,
    "start_time": "2025-08-07T07:40:51.221Z"
   },
   {
    "duration": 0,
    "start_time": "2025-08-07T07:40:51.222Z"
   },
   {
    "duration": 0,
    "start_time": "2025-08-07T07:40:51.223Z"
   },
   {
    "duration": 0,
    "start_time": "2025-08-07T07:40:51.224Z"
   },
   {
    "duration": 0,
    "start_time": "2025-08-07T07:40:51.225Z"
   },
   {
    "duration": 0,
    "start_time": "2025-08-07T07:40:51.226Z"
   },
   {
    "duration": 0,
    "start_time": "2025-08-07T07:40:51.227Z"
   },
   {
    "duration": 0,
    "start_time": "2025-08-07T07:40:51.228Z"
   },
   {
    "duration": 0,
    "start_time": "2025-08-07T07:40:51.229Z"
   },
   {
    "duration": 0,
    "start_time": "2025-08-07T07:40:51.230Z"
   },
   {
    "duration": 0,
    "start_time": "2025-08-07T07:40:51.231Z"
   },
   {
    "duration": 0,
    "start_time": "2025-08-07T07:40:51.232Z"
   },
   {
    "duration": 899,
    "start_time": "2025-08-07T07:42:47.177Z"
   },
   {
    "duration": 116,
    "start_time": "2025-08-07T07:42:48.078Z"
   },
   {
    "duration": 16,
    "start_time": "2025-08-07T07:42:48.195Z"
   },
   {
    "duration": 24,
    "start_time": "2025-08-07T07:42:48.213Z"
   },
   {
    "duration": 33,
    "start_time": "2025-08-07T07:42:48.238Z"
   },
   {
    "duration": 42,
    "start_time": "2025-08-07T07:42:48.273Z"
   },
   {
    "duration": 18,
    "start_time": "2025-08-07T07:42:48.317Z"
   },
   {
    "duration": 1581,
    "start_time": "2025-08-07T07:42:48.337Z"
   },
   {
    "duration": 5,
    "start_time": "2025-08-07T07:42:49.920Z"
   },
   {
    "duration": 29,
    "start_time": "2025-08-07T07:42:49.927Z"
   },
   {
    "duration": 14,
    "start_time": "2025-08-07T07:42:49.957Z"
   },
   {
    "duration": 9,
    "start_time": "2025-08-07T07:42:49.973Z"
   },
   {
    "duration": 21,
    "start_time": "2025-08-07T07:42:49.983Z"
   },
   {
    "duration": 9,
    "start_time": "2025-08-07T07:42:50.006Z"
   },
   {
    "duration": 50,
    "start_time": "2025-08-07T07:42:50.016Z"
   },
   {
    "duration": 96,
    "start_time": "2025-08-07T07:42:50.067Z"
   },
   {
    "duration": 22,
    "start_time": "2025-08-07T07:42:50.165Z"
   },
   {
    "duration": 24,
    "start_time": "2025-08-07T07:42:50.190Z"
   },
   {
    "duration": 45,
    "start_time": "2025-08-07T07:42:50.216Z"
   },
   {
    "duration": 16,
    "start_time": "2025-08-07T07:42:50.262Z"
   },
   {
    "duration": 33,
    "start_time": "2025-08-07T07:42:50.280Z"
   },
   {
    "duration": 122,
    "start_time": "2025-08-07T07:42:50.315Z"
   },
   {
    "duration": 0,
    "start_time": "2025-08-07T07:42:50.438Z"
   },
   {
    "duration": 11,
    "start_time": "2025-08-07T07:44:08.773Z"
   },
   {
    "duration": 17,
    "start_time": "2025-08-07T07:45:31.783Z"
   },
   {
    "duration": 3,
    "start_time": "2025-08-07T07:45:45.931Z"
   },
   {
    "duration": 14,
    "start_time": "2025-08-07T08:08:51.078Z"
   },
   {
    "duration": 7,
    "start_time": "2025-08-07T08:12:41.401Z"
   },
   {
    "duration": 11,
    "start_time": "2025-08-07T08:12:42.402Z"
   },
   {
    "duration": 9,
    "start_time": "2025-08-07T08:12:43.331Z"
   },
   {
    "duration": 12,
    "start_time": "2025-08-07T08:22:37.321Z"
   },
   {
    "duration": 14,
    "start_time": "2025-08-07T08:23:09.802Z"
   },
   {
    "duration": 860,
    "start_time": "2025-08-07T08:25:20.782Z"
   },
   {
    "duration": 100,
    "start_time": "2025-08-07T08:25:21.644Z"
   },
   {
    "duration": 17,
    "start_time": "2025-08-07T08:25:21.746Z"
   },
   {
    "duration": 104,
    "start_time": "2025-08-07T08:25:21.766Z"
   },
   {
    "duration": 33,
    "start_time": "2025-08-07T08:25:21.872Z"
   },
   {
    "duration": 36,
    "start_time": "2025-08-07T08:25:21.906Z"
   },
   {
    "duration": 45,
    "start_time": "2025-08-07T08:25:21.943Z"
   },
   {
    "duration": 1596,
    "start_time": "2025-08-07T08:25:21.989Z"
   },
   {
    "duration": 6,
    "start_time": "2025-08-07T08:25:23.586Z"
   },
   {
    "duration": 48,
    "start_time": "2025-08-07T08:25:23.594Z"
   },
   {
    "duration": 58,
    "start_time": "2025-08-07T08:25:23.643Z"
   },
   {
    "duration": 24,
    "start_time": "2025-08-07T08:25:23.703Z"
   },
   {
    "duration": 138,
    "start_time": "2025-08-07T08:25:23.729Z"
   },
   {
    "duration": 19,
    "start_time": "2025-08-07T08:25:23.869Z"
   },
   {
    "duration": 45,
    "start_time": "2025-08-07T08:25:23.890Z"
   },
   {
    "duration": 82,
    "start_time": "2025-08-07T08:25:23.937Z"
   },
   {
    "duration": 42,
    "start_time": "2025-08-07T08:25:24.021Z"
   },
   {
    "duration": 9,
    "start_time": "2025-08-07T08:25:24.065Z"
   },
   {
    "duration": 54,
    "start_time": "2025-08-07T08:25:24.076Z"
   },
   {
    "duration": 21,
    "start_time": "2025-08-07T08:25:24.132Z"
   },
   {
    "duration": 21,
    "start_time": "2025-08-07T08:25:24.154Z"
   },
   {
    "duration": 15,
    "start_time": "2025-08-07T08:25:24.177Z"
   },
   {
    "duration": 3,
    "start_time": "2025-08-07T08:25:24.194Z"
   },
   {
    "duration": 31,
    "start_time": "2025-08-07T08:25:24.199Z"
   },
   {
    "duration": 11,
    "start_time": "2025-08-07T08:25:24.232Z"
   },
   {
    "duration": 17,
    "start_time": "2025-08-07T08:25:24.245Z"
   },
   {
    "duration": 15,
    "start_time": "2025-08-07T08:25:24.264Z"
   },
   {
    "duration": 10,
    "start_time": "2025-08-07T08:25:24.282Z"
   },
   {
    "duration": 105,
    "start_time": "2025-08-07T08:25:24.294Z"
   },
   {
    "duration": 8,
    "start_time": "2025-08-07T08:26:39.362Z"
   },
   {
    "duration": 833,
    "start_time": "2025-08-08T06:43:54.050Z"
   },
   {
    "duration": 112,
    "start_time": "2025-08-08T06:43:54.885Z"
   },
   {
    "duration": 92,
    "start_time": "2025-08-08T06:43:54.998Z"
   },
   {
    "duration": 7,
    "start_time": "2025-08-08T06:43:55.092Z"
   },
   {
    "duration": 22,
    "start_time": "2025-08-08T06:43:55.100Z"
   },
   {
    "duration": 7,
    "start_time": "2025-08-08T06:43:55.124Z"
   },
   {
    "duration": 12,
    "start_time": "2025-08-08T06:43:55.132Z"
   },
   {
    "duration": 1657,
    "start_time": "2025-08-08T06:43:55.145Z"
   },
   {
    "duration": 5,
    "start_time": "2025-08-08T06:43:56.803Z"
   },
   {
    "duration": 29,
    "start_time": "2025-08-08T06:43:56.811Z"
   },
   {
    "duration": 15,
    "start_time": "2025-08-08T06:43:56.842Z"
   },
   {
    "duration": 98,
    "start_time": "2025-08-08T06:43:56.859Z"
   },
   {
    "duration": 169,
    "start_time": "2025-08-08T06:43:56.959Z"
   },
   {
    "duration": 15,
    "start_time": "2025-08-08T06:43:57.130Z"
   },
   {
    "duration": 21,
    "start_time": "2025-08-08T06:43:57.146Z"
   },
   {
    "duration": 80,
    "start_time": "2025-08-08T06:43:57.169Z"
   },
   {
    "duration": 20,
    "start_time": "2025-08-08T06:43:57.251Z"
   },
   {
    "duration": 31,
    "start_time": "2025-08-08T06:43:57.272Z"
   },
   {
    "duration": 38,
    "start_time": "2025-08-08T06:43:57.305Z"
   },
   {
    "duration": 16,
    "start_time": "2025-08-08T06:43:57.344Z"
   },
   {
    "duration": 34,
    "start_time": "2025-08-08T06:43:57.362Z"
   },
   {
    "duration": 13,
    "start_time": "2025-08-08T06:43:57.398Z"
   },
   {
    "duration": 27,
    "start_time": "2025-08-08T06:43:57.413Z"
   },
   {
    "duration": 23,
    "start_time": "2025-08-08T06:43:57.442Z"
   },
   {
    "duration": 8,
    "start_time": "2025-08-08T06:43:57.467Z"
   },
   {
    "duration": 16,
    "start_time": "2025-08-08T06:43:57.477Z"
   },
   {
    "duration": 9,
    "start_time": "2025-08-08T06:43:57.494Z"
   },
   {
    "duration": 14,
    "start_time": "2025-08-08T06:43:57.508Z"
   },
   {
    "duration": 105,
    "start_time": "2025-08-08T06:43:57.534Z"
   },
   {
    "duration": 14,
    "start_time": "2025-08-08T06:44:54.191Z"
   },
   {
    "duration": 8,
    "start_time": "2025-08-08T06:45:27.219Z"
   },
   {
    "duration": 10,
    "start_time": "2025-08-08T06:54:15.499Z"
   },
   {
    "duration": 12,
    "start_time": "2025-08-08T06:55:13.996Z"
   },
   {
    "duration": 14,
    "start_time": "2025-08-08T06:55:23.200Z"
   },
   {
    "duration": 29,
    "start_time": "2025-08-08T07:21:53.434Z"
   },
   {
    "duration": 29,
    "start_time": "2025-08-08T07:23:35.283Z"
   },
   {
    "duration": 895,
    "start_time": "2025-08-08T07:28:39.801Z"
   },
   {
    "duration": 86,
    "start_time": "2025-08-08T07:28:40.698Z"
   },
   {
    "duration": 14,
    "start_time": "2025-08-08T07:28:40.785Z"
   },
   {
    "duration": 15,
    "start_time": "2025-08-08T07:28:40.801Z"
   },
   {
    "duration": 22,
    "start_time": "2025-08-08T07:28:40.817Z"
   },
   {
    "duration": 7,
    "start_time": "2025-08-08T07:28:40.841Z"
   },
   {
    "duration": 12,
    "start_time": "2025-08-08T07:28:40.850Z"
   },
   {
    "duration": 1737,
    "start_time": "2025-08-08T07:28:40.864Z"
   },
   {
    "duration": 5,
    "start_time": "2025-08-08T07:28:42.603Z"
   },
   {
    "duration": 99,
    "start_time": "2025-08-08T07:28:42.612Z"
   },
   {
    "duration": 20,
    "start_time": "2025-08-08T07:28:42.713Z"
   },
   {
    "duration": 8,
    "start_time": "2025-08-08T07:28:42.735Z"
   },
   {
    "duration": 16,
    "start_time": "2025-08-08T07:28:42.745Z"
   },
   {
    "duration": 6,
    "start_time": "2025-08-08T07:28:42.763Z"
   },
   {
    "duration": 19,
    "start_time": "2025-08-08T07:28:42.771Z"
   },
   {
    "duration": 81,
    "start_time": "2025-08-08T07:28:42.791Z"
   },
   {
    "duration": 23,
    "start_time": "2025-08-08T07:28:42.874Z"
   },
   {
    "duration": 97,
    "start_time": "2025-08-08T07:28:42.898Z"
   },
   {
    "duration": 31,
    "start_time": "2025-08-08T07:28:42.997Z"
   },
   {
    "duration": 18,
    "start_time": "2025-08-08T07:28:43.030Z"
   },
   {
    "duration": 43,
    "start_time": "2025-08-08T07:28:43.050Z"
   },
   {
    "duration": 89,
    "start_time": "2025-08-08T07:28:43.095Z"
   },
   {
    "duration": 11,
    "start_time": "2025-08-08T07:28:43.186Z"
   },
   {
    "duration": 30,
    "start_time": "2025-08-08T07:28:43.198Z"
   },
   {
    "duration": 7,
    "start_time": "2025-08-08T07:28:43.230Z"
   },
   {
    "duration": 12,
    "start_time": "2025-08-08T07:28:43.238Z"
   },
   {
    "duration": 7,
    "start_time": "2025-08-08T07:28:43.252Z"
   },
   {
    "duration": 23,
    "start_time": "2025-08-08T07:28:43.262Z"
   },
   {
    "duration": 78,
    "start_time": "2025-08-08T07:28:43.287Z"
   },
   {
    "duration": 0,
    "start_time": "2025-08-08T07:28:43.366Z"
   },
   {
    "duration": 82,
    "start_time": "2025-08-08T07:29:30.274Z"
   },
   {
    "duration": 27,
    "start_time": "2025-08-08T07:32:54.743Z"
   },
   {
    "duration": 8,
    "start_time": "2025-08-08T07:33:39.891Z"
   },
   {
    "duration": 811,
    "start_time": "2025-08-08T07:39:51.286Z"
   },
   {
    "duration": 78,
    "start_time": "2025-08-08T07:39:52.099Z"
   },
   {
    "duration": 14,
    "start_time": "2025-08-08T07:39:52.179Z"
   },
   {
    "duration": 13,
    "start_time": "2025-08-08T07:39:52.195Z"
   },
   {
    "duration": 65,
    "start_time": "2025-08-08T07:39:52.210Z"
   },
   {
    "duration": 22,
    "start_time": "2025-08-08T07:39:52.276Z"
   },
   {
    "duration": 25,
    "start_time": "2025-08-08T07:39:52.300Z"
   },
   {
    "duration": 1473,
    "start_time": "2025-08-08T07:39:52.327Z"
   },
   {
    "duration": 4,
    "start_time": "2025-08-08T07:39:53.802Z"
   },
   {
    "duration": 34,
    "start_time": "2025-08-08T07:39:53.809Z"
   },
   {
    "duration": 14,
    "start_time": "2025-08-08T07:39:53.845Z"
   },
   {
    "duration": 8,
    "start_time": "2025-08-08T07:39:53.860Z"
   },
   {
    "duration": 20,
    "start_time": "2025-08-08T07:39:53.870Z"
   },
   {
    "duration": 121,
    "start_time": "2025-08-08T07:39:53.892Z"
   },
   {
    "duration": 38,
    "start_time": "2025-08-08T07:39:54.015Z"
   },
   {
    "duration": 103,
    "start_time": "2025-08-08T07:39:54.055Z"
   },
   {
    "duration": 20,
    "start_time": "2025-08-08T07:39:54.160Z"
   },
   {
    "duration": 16,
    "start_time": "2025-08-08T07:39:54.181Z"
   },
   {
    "duration": 38,
    "start_time": "2025-08-08T07:39:54.198Z"
   },
   {
    "duration": 14,
    "start_time": "2025-08-08T07:39:54.238Z"
   },
   {
    "duration": 17,
    "start_time": "2025-08-08T07:39:54.254Z"
   },
   {
    "duration": 15,
    "start_time": "2025-08-08T07:39:54.273Z"
   },
   {
    "duration": 3,
    "start_time": "2025-08-08T07:39:54.290Z"
   },
   {
    "duration": 45,
    "start_time": "2025-08-08T07:39:54.294Z"
   },
   {
    "duration": 6,
    "start_time": "2025-08-08T07:39:54.341Z"
   },
   {
    "duration": 28,
    "start_time": "2025-08-08T07:39:54.349Z"
   },
   {
    "duration": 10,
    "start_time": "2025-08-08T07:39:54.379Z"
   },
   {
    "duration": 32,
    "start_time": "2025-08-08T07:39:54.392Z"
   },
   {
    "duration": 14,
    "start_time": "2025-08-08T07:39:54.426Z"
   },
   {
    "duration": 37,
    "start_time": "2025-08-08T11:36:59.625Z"
   },
   {
    "duration": 77,
    "start_time": "2025-08-08T11:36:59.664Z"
   },
   {
    "duration": 13,
    "start_time": "2025-08-08T11:36:59.742Z"
   },
   {
    "duration": 7,
    "start_time": "2025-08-08T11:36:59.757Z"
   },
   {
    "duration": 26,
    "start_time": "2025-08-08T11:36:59.765Z"
   },
   {
    "duration": 7,
    "start_time": "2025-08-08T11:36:59.792Z"
   },
   {
    "duration": 6,
    "start_time": "2025-08-08T11:36:59.800Z"
   },
   {
    "duration": 12,
    "start_time": "2025-08-08T11:36:59.808Z"
   },
   {
    "duration": 1559,
    "start_time": "2025-08-08T11:36:59.821Z"
   },
   {
    "duration": 6,
    "start_time": "2025-08-08T11:37:01.382Z"
   },
   {
    "duration": 24,
    "start_time": "2025-08-08T11:37:01.390Z"
   },
   {
    "duration": 22,
    "start_time": "2025-08-08T11:37:01.415Z"
   },
   {
    "duration": 9,
    "start_time": "2025-08-08T11:37:01.438Z"
   },
   {
    "duration": 41,
    "start_time": "2025-08-08T11:37:01.449Z"
   },
   {
    "duration": 17,
    "start_time": "2025-08-08T11:37:01.491Z"
   },
   {
    "duration": 10,
    "start_time": "2025-08-08T11:37:01.510Z"
   },
   {
    "duration": 95,
    "start_time": "2025-08-08T11:37:01.522Z"
   },
   {
    "duration": 22,
    "start_time": "2025-08-08T11:37:01.619Z"
   },
   {
    "duration": 21,
    "start_time": "2025-08-08T11:37:01.643Z"
   },
   {
    "duration": 48,
    "start_time": "2025-08-08T11:37:01.666Z"
   },
   {
    "duration": 17,
    "start_time": "2025-08-08T11:37:01.716Z"
   },
   {
    "duration": 34,
    "start_time": "2025-08-08T11:37:01.735Z"
   },
   {
    "duration": 54,
    "start_time": "2025-08-08T11:37:01.770Z"
   },
   {
    "duration": 3,
    "start_time": "2025-08-08T11:37:01.826Z"
   },
   {
    "duration": 32,
    "start_time": "2025-08-08T11:37:01.831Z"
   },
   {
    "duration": 7,
    "start_time": "2025-08-08T11:37:01.864Z"
   },
   {
    "duration": 47,
    "start_time": "2025-08-08T11:37:01.873Z"
   },
   {
    "duration": 20,
    "start_time": "2025-08-08T11:37:01.922Z"
   },
   {
    "duration": 25,
    "start_time": "2025-08-08T11:37:01.944Z"
   },
   {
    "duration": 46,
    "start_time": "2025-08-08T11:37:01.971Z"
   },
   {
    "duration": 3,
    "start_time": "2025-08-08T11:41:27.628Z"
   },
   {
    "duration": 4,
    "start_time": "2025-08-08T11:41:30.099Z"
   },
   {
    "duration": 8,
    "start_time": "2025-08-08T11:41:49.367Z"
   },
   {
    "duration": 4,
    "start_time": "2025-08-08T11:42:16.228Z"
   },
   {
    "duration": 49,
    "start_time": "2025-08-08T12:27:59.140Z"
   },
   {
    "duration": 858,
    "start_time": "2025-08-08T12:28:45.041Z"
   },
   {
    "duration": 68,
    "start_time": "2025-08-08T12:28:45.900Z"
   },
   {
    "duration": 112,
    "start_time": "2025-08-08T12:28:45.969Z"
   },
   {
    "duration": 42,
    "start_time": "2025-08-08T12:28:46.084Z"
   },
   {
    "duration": 43,
    "start_time": "2025-08-08T12:28:46.127Z"
   },
   {
    "duration": 19,
    "start_time": "2025-08-08T12:28:46.172Z"
   },
   {
    "duration": 6,
    "start_time": "2025-08-08T12:28:46.193Z"
   },
   {
    "duration": 17,
    "start_time": "2025-08-08T12:28:46.201Z"
   },
   {
    "duration": 1532,
    "start_time": "2025-08-08T12:28:46.220Z"
   },
   {
    "duration": 5,
    "start_time": "2025-08-08T12:28:47.754Z"
   },
   {
    "duration": 302,
    "start_time": "2025-08-08T12:28:47.761Z"
   },
   {
    "duration": 32,
    "start_time": "2025-08-08T12:28:48.065Z"
   },
   {
    "duration": 13,
    "start_time": "2025-08-08T12:28:48.098Z"
   },
   {
    "duration": 27,
    "start_time": "2025-08-08T12:28:48.112Z"
   },
   {
    "duration": 4,
    "start_time": "2025-08-08T12:28:48.141Z"
   },
   {
    "duration": 9,
    "start_time": "2025-08-08T12:28:48.147Z"
   },
   {
    "duration": 102,
    "start_time": "2025-08-08T12:28:48.157Z"
   },
   {
    "duration": 139,
    "start_time": "2025-08-08T12:28:48.261Z"
   },
   {
    "duration": 8,
    "start_time": "2025-08-08T12:28:48.402Z"
   },
   {
    "duration": 34,
    "start_time": "2025-08-08T12:28:48.411Z"
   },
   {
    "duration": 12,
    "start_time": "2025-08-08T12:28:48.446Z"
   },
   {
    "duration": 30,
    "start_time": "2025-08-08T12:28:48.460Z"
   },
   {
    "duration": 13,
    "start_time": "2025-08-08T12:28:48.492Z"
   },
   {
    "duration": 10,
    "start_time": "2025-08-08T12:28:48.506Z"
   },
   {
    "duration": 27,
    "start_time": "2025-08-08T12:28:48.517Z"
   },
   {
    "duration": 6,
    "start_time": "2025-08-08T12:28:48.546Z"
   },
   {
    "duration": 11,
    "start_time": "2025-08-08T12:28:48.554Z"
   },
   {
    "duration": 35,
    "start_time": "2025-08-08T12:28:48.568Z"
   },
   {
    "duration": 25,
    "start_time": "2025-08-08T12:28:48.605Z"
   },
   {
    "duration": 7,
    "start_time": "2025-08-08T12:28:48.632Z"
   },
   {
    "duration": 878,
    "start_time": "2025-08-08T12:39:39.309Z"
   },
   {
    "duration": 56,
    "start_time": "2025-08-08T12:39:40.189Z"
   },
   {
    "duration": 13,
    "start_time": "2025-08-08T12:39:40.247Z"
   },
   {
    "duration": 7,
    "start_time": "2025-08-08T12:39:40.261Z"
   },
   {
    "duration": 23,
    "start_time": "2025-08-08T12:39:40.269Z"
   },
   {
    "duration": 7,
    "start_time": "2025-08-08T12:39:40.293Z"
   },
   {
    "duration": 142,
    "start_time": "2025-08-08T12:39:40.302Z"
   },
   {
    "duration": 25,
    "start_time": "2025-08-08T12:39:40.445Z"
   },
   {
    "duration": 1472,
    "start_time": "2025-08-08T12:39:40.472Z"
   },
   {
    "duration": 5,
    "start_time": "2025-08-08T12:39:41.947Z"
   },
   {
    "duration": 175,
    "start_time": "2025-08-08T12:39:41.953Z"
   },
   {
    "duration": 86,
    "start_time": "2025-08-08T12:39:42.130Z"
   },
   {
    "duration": 15,
    "start_time": "2025-08-08T12:39:42.218Z"
   },
   {
    "duration": 16,
    "start_time": "2025-08-08T12:39:42.235Z"
   },
   {
    "duration": 4,
    "start_time": "2025-08-08T12:39:42.253Z"
   },
   {
    "duration": 14,
    "start_time": "2025-08-08T12:39:42.259Z"
   },
   {
    "duration": 75,
    "start_time": "2025-08-08T12:39:42.275Z"
   },
   {
    "duration": 78,
    "start_time": "2025-08-08T12:39:42.352Z"
   },
   {
    "duration": 8,
    "start_time": "2025-08-08T12:39:42.432Z"
   },
   {
    "duration": 31,
    "start_time": "2025-08-08T12:39:42.442Z"
   },
   {
    "duration": 16,
    "start_time": "2025-08-08T12:39:42.474Z"
   },
   {
    "duration": 23,
    "start_time": "2025-08-08T12:39:42.491Z"
   },
   {
    "duration": 35,
    "start_time": "2025-08-08T12:39:42.516Z"
   },
   {
    "duration": 7,
    "start_time": "2025-08-08T12:39:42.552Z"
   },
   {
    "duration": 18,
    "start_time": "2025-08-08T12:39:42.561Z"
   },
   {
    "duration": 7,
    "start_time": "2025-08-08T12:39:42.582Z"
   },
   {
    "duration": 10,
    "start_time": "2025-08-08T12:39:42.591Z"
   },
   {
    "duration": 36,
    "start_time": "2025-08-08T12:39:42.604Z"
   },
   {
    "duration": 28,
    "start_time": "2025-08-08T12:39:42.642Z"
   },
   {
    "duration": 7,
    "start_time": "2025-08-08T12:39:42.671Z"
   },
   {
    "duration": 909,
    "start_time": "2025-08-09T07:43:16.612Z"
   },
   {
    "duration": 60,
    "start_time": "2025-08-09T07:43:17.523Z"
   },
   {
    "duration": 16,
    "start_time": "2025-08-09T07:43:17.585Z"
   },
   {
    "duration": 21,
    "start_time": "2025-08-09T07:43:17.604Z"
   },
   {
    "duration": 30,
    "start_time": "2025-08-09T07:43:17.627Z"
   },
   {
    "duration": 9,
    "start_time": "2025-08-09T07:43:17.659Z"
   },
   {
    "duration": 8,
    "start_time": "2025-08-09T07:43:17.670Z"
   },
   {
    "duration": 16,
    "start_time": "2025-08-09T07:43:17.679Z"
   },
   {
    "duration": 1557,
    "start_time": "2025-08-09T07:43:17.696Z"
   },
   {
    "duration": 5,
    "start_time": "2025-08-09T07:43:19.256Z"
   },
   {
    "duration": 44,
    "start_time": "2025-08-09T07:43:19.262Z"
   },
   {
    "duration": 14,
    "start_time": "2025-08-09T07:43:19.307Z"
   },
   {
    "duration": 125,
    "start_time": "2025-08-09T07:43:19.323Z"
   },
   {
    "duration": 0,
    "start_time": "2025-08-09T07:43:19.450Z"
   },
   {
    "duration": 0,
    "start_time": "2025-08-09T07:43:19.451Z"
   },
   {
    "duration": 0,
    "start_time": "2025-08-09T07:43:19.452Z"
   },
   {
    "duration": 0,
    "start_time": "2025-08-09T07:43:19.453Z"
   },
   {
    "duration": 0,
    "start_time": "2025-08-09T07:43:19.454Z"
   },
   {
    "duration": 0,
    "start_time": "2025-08-09T07:43:19.455Z"
   },
   {
    "duration": 0,
    "start_time": "2025-08-09T07:43:19.456Z"
   },
   {
    "duration": 0,
    "start_time": "2025-08-09T07:43:19.458Z"
   },
   {
    "duration": 0,
    "start_time": "2025-08-09T07:43:19.459Z"
   },
   {
    "duration": 0,
    "start_time": "2025-08-09T07:43:19.460Z"
   },
   {
    "duration": 0,
    "start_time": "2025-08-09T07:43:19.461Z"
   },
   {
    "duration": 0,
    "start_time": "2025-08-09T07:43:19.462Z"
   },
   {
    "duration": 0,
    "start_time": "2025-08-09T07:43:19.464Z"
   },
   {
    "duration": 0,
    "start_time": "2025-08-09T07:43:19.465Z"
   },
   {
    "duration": 0,
    "start_time": "2025-08-09T07:43:19.466Z"
   },
   {
    "duration": 0,
    "start_time": "2025-08-09T07:43:19.467Z"
   },
   {
    "duration": 0,
    "start_time": "2025-08-09T07:43:19.469Z"
   },
   {
    "duration": 874,
    "start_time": "2025-08-09T07:43:58.248Z"
   },
   {
    "duration": 60,
    "start_time": "2025-08-09T07:43:59.124Z"
   },
   {
    "duration": 14,
    "start_time": "2025-08-09T07:43:59.185Z"
   },
   {
    "duration": 84,
    "start_time": "2025-08-09T07:43:59.201Z"
   },
   {
    "duration": 18,
    "start_time": "2025-08-09T07:43:59.287Z"
   },
   {
    "duration": 7,
    "start_time": "2025-08-09T07:43:59.306Z"
   },
   {
    "duration": 6,
    "start_time": "2025-08-09T07:43:59.315Z"
   },
   {
    "duration": 12,
    "start_time": "2025-08-09T07:43:59.323Z"
   },
   {
    "duration": 1428,
    "start_time": "2025-08-09T07:43:59.336Z"
   },
   {
    "duration": 5,
    "start_time": "2025-08-09T07:44:00.767Z"
   },
   {
    "duration": 254,
    "start_time": "2025-08-09T07:44:00.774Z"
   },
   {
    "duration": 29,
    "start_time": "2025-08-09T07:44:01.029Z"
   },
   {
    "duration": 40,
    "start_time": "2025-08-09T07:44:01.060Z"
   },
   {
    "duration": 52,
    "start_time": "2025-08-09T07:44:01.102Z"
   },
   {
    "duration": 17,
    "start_time": "2025-08-09T07:44:01.156Z"
   },
   {
    "duration": 110,
    "start_time": "2025-08-09T07:44:01.175Z"
   },
   {
    "duration": 113,
    "start_time": "2025-08-09T07:44:01.287Z"
   },
   {
    "duration": 48,
    "start_time": "2025-08-09T07:44:01.402Z"
   },
   {
    "duration": 21,
    "start_time": "2025-08-09T07:44:01.452Z"
   },
   {
    "duration": 52,
    "start_time": "2025-08-09T07:44:01.474Z"
   },
   {
    "duration": 14,
    "start_time": "2025-08-09T07:44:01.528Z"
   },
   {
    "duration": 19,
    "start_time": "2025-08-09T07:44:01.544Z"
   },
   {
    "duration": 25,
    "start_time": "2025-08-09T07:44:01.565Z"
   },
   {
    "duration": 40,
    "start_time": "2025-08-09T07:44:01.591Z"
   },
   {
    "duration": 42,
    "start_time": "2025-08-09T07:44:01.633Z"
   },
   {
    "duration": 21,
    "start_time": "2025-08-09T07:44:01.678Z"
   },
   {
    "duration": 143,
    "start_time": "2025-08-09T07:44:01.701Z"
   },
   {
    "duration": 28,
    "start_time": "2025-08-09T07:44:01.847Z"
   },
   {
    "duration": 56,
    "start_time": "2025-08-09T07:44:01.877Z"
   },
   {
    "duration": 27,
    "start_time": "2025-08-09T07:44:01.935Z"
   },
   {
    "duration": 877,
    "start_time": "2025-08-09T07:59:28.643Z"
   },
   {
    "duration": 66,
    "start_time": "2025-08-09T07:59:29.522Z"
   },
   {
    "duration": 14,
    "start_time": "2025-08-09T07:59:29.590Z"
   },
   {
    "duration": 8,
    "start_time": "2025-08-09T07:59:29.606Z"
   },
   {
    "duration": 20,
    "start_time": "2025-08-09T07:59:29.615Z"
   },
   {
    "duration": 20,
    "start_time": "2025-08-09T07:59:29.636Z"
   },
   {
    "duration": 7,
    "start_time": "2025-08-09T07:59:29.657Z"
   },
   {
    "duration": 13,
    "start_time": "2025-08-09T07:59:29.666Z"
   },
   {
    "duration": 1562,
    "start_time": "2025-08-09T07:59:29.681Z"
   },
   {
    "duration": 5,
    "start_time": "2025-08-09T07:59:31.246Z"
   },
   {
    "duration": 74,
    "start_time": "2025-08-09T07:59:31.253Z"
   },
   {
    "duration": 16,
    "start_time": "2025-08-09T07:59:31.328Z"
   },
   {
    "duration": 17,
    "start_time": "2025-08-09T07:59:31.346Z"
   },
   {
    "duration": 43,
    "start_time": "2025-08-09T07:59:31.365Z"
   },
   {
    "duration": 28,
    "start_time": "2025-08-09T07:59:31.410Z"
   },
   {
    "duration": 18,
    "start_time": "2025-08-09T07:59:31.440Z"
   },
   {
    "duration": 113,
    "start_time": "2025-08-09T07:59:31.459Z"
   },
   {
    "duration": 24,
    "start_time": "2025-08-09T07:59:31.574Z"
   },
   {
    "duration": 28,
    "start_time": "2025-08-09T07:59:31.600Z"
   },
   {
    "duration": 61,
    "start_time": "2025-08-09T07:59:31.629Z"
   },
   {
    "duration": 20,
    "start_time": "2025-08-09T07:59:31.692Z"
   },
   {
    "duration": 30,
    "start_time": "2025-08-09T07:59:31.714Z"
   },
   {
    "duration": 63,
    "start_time": "2025-08-09T07:59:31.745Z"
   },
   {
    "duration": 62,
    "start_time": "2025-08-09T07:59:31.810Z"
   },
   {
    "duration": 41,
    "start_time": "2025-08-09T07:59:31.874Z"
   },
   {
    "duration": 33,
    "start_time": "2025-08-09T07:59:31.917Z"
   },
   {
    "duration": 25,
    "start_time": "2025-08-09T07:59:31.952Z"
   },
   {
    "duration": 11,
    "start_time": "2025-08-09T07:59:31.981Z"
   },
   {
    "duration": 72,
    "start_time": "2025-08-09T07:59:31.994Z"
   },
   {
    "duration": 9,
    "start_time": "2025-08-09T07:59:32.069Z"
   },
   {
    "duration": 4,
    "start_time": "2025-08-09T10:02:14.704Z"
   },
   {
    "duration": 919,
    "start_time": "2025-08-09T10:56:50.550Z"
   },
   {
    "duration": 61,
    "start_time": "2025-08-09T10:56:51.471Z"
   },
   {
    "duration": 15,
    "start_time": "2025-08-09T10:56:51.534Z"
   },
   {
    "duration": 8,
    "start_time": "2025-08-09T10:56:51.551Z"
   },
   {
    "duration": 27,
    "start_time": "2025-08-09T10:56:51.561Z"
   },
   {
    "duration": 14,
    "start_time": "2025-08-09T10:56:51.590Z"
   },
   {
    "duration": 7,
    "start_time": "2025-08-09T10:56:51.606Z"
   },
   {
    "duration": 13,
    "start_time": "2025-08-09T10:56:51.614Z"
   },
   {
    "duration": 1573,
    "start_time": "2025-08-09T10:56:51.629Z"
   },
   {
    "duration": 5,
    "start_time": "2025-08-09T10:56:53.205Z"
   },
   {
    "duration": 97,
    "start_time": "2025-08-09T10:56:53.211Z"
   },
   {
    "duration": 16,
    "start_time": "2025-08-09T10:56:53.310Z"
   },
   {
    "duration": 15,
    "start_time": "2025-08-09T10:56:53.328Z"
   },
   {
    "duration": 14,
    "start_time": "2025-08-09T10:56:53.345Z"
   },
   {
    "duration": 4,
    "start_time": "2025-08-09T10:56:53.361Z"
   },
   {
    "duration": 12,
    "start_time": "2025-08-09T10:56:53.366Z"
   },
   {
    "duration": 101,
    "start_time": "2025-08-09T10:56:53.380Z"
   },
   {
    "duration": 23,
    "start_time": "2025-08-09T10:56:53.483Z"
   },
   {
    "duration": 65,
    "start_time": "2025-08-09T10:56:53.508Z"
   },
   {
    "duration": 50,
    "start_time": "2025-08-09T10:56:53.575Z"
   },
   {
    "duration": 13,
    "start_time": "2025-08-09T10:56:53.627Z"
   },
   {
    "duration": 32,
    "start_time": "2025-08-09T10:56:53.642Z"
   },
   {
    "duration": 16,
    "start_time": "2025-08-09T10:56:53.676Z"
   },
   {
    "duration": 165,
    "start_time": "2025-08-09T10:56:53.693Z"
   },
   {
    "duration": 114,
    "start_time": "2025-08-09T10:56:53.860Z"
   },
   {
    "duration": 0,
    "start_time": "2025-08-09T10:56:53.976Z"
   },
   {
    "duration": 0,
    "start_time": "2025-08-09T10:56:53.978Z"
   },
   {
    "duration": 0,
    "start_time": "2025-08-09T10:56:53.978Z"
   },
   {
    "duration": 0,
    "start_time": "2025-08-09T10:56:53.979Z"
   },
   {
    "duration": 0,
    "start_time": "2025-08-09T10:56:53.980Z"
   },
   {
    "duration": 898,
    "start_time": "2025-08-09T10:57:41.359Z"
   },
   {
    "duration": 59,
    "start_time": "2025-08-09T10:57:42.259Z"
   },
   {
    "duration": 15,
    "start_time": "2025-08-09T10:57:42.320Z"
   },
   {
    "duration": 72,
    "start_time": "2025-08-09T10:57:42.336Z"
   },
   {
    "duration": 75,
    "start_time": "2025-08-09T10:57:42.410Z"
   },
   {
    "duration": 7,
    "start_time": "2025-08-09T10:57:42.487Z"
   },
   {
    "duration": 53,
    "start_time": "2025-08-09T10:57:42.496Z"
   },
   {
    "duration": 17,
    "start_time": "2025-08-09T10:57:42.551Z"
   },
   {
    "duration": 1530,
    "start_time": "2025-08-09T10:57:42.570Z"
   },
   {
    "duration": 5,
    "start_time": "2025-08-09T10:57:44.103Z"
   },
   {
    "duration": 11,
    "start_time": "2025-08-09T10:57:44.110Z"
   },
   {
    "duration": 13,
    "start_time": "2025-08-09T10:57:44.122Z"
   },
   {
    "duration": 15,
    "start_time": "2025-08-09T10:57:44.137Z"
   },
   {
    "duration": 89,
    "start_time": "2025-08-09T10:57:44.153Z"
   },
   {
    "duration": 17,
    "start_time": "2025-08-09T10:57:44.244Z"
   },
   {
    "duration": 16,
    "start_time": "2025-08-09T10:57:44.263Z"
   },
   {
    "duration": 77,
    "start_time": "2025-08-09T10:57:44.281Z"
   },
   {
    "duration": 38,
    "start_time": "2025-08-09T10:57:44.360Z"
   },
   {
    "duration": 24,
    "start_time": "2025-08-09T10:57:44.399Z"
   },
   {
    "duration": 53,
    "start_time": "2025-08-09T10:57:44.425Z"
   },
   {
    "duration": 15,
    "start_time": "2025-08-09T10:57:44.479Z"
   },
   {
    "duration": 17,
    "start_time": "2025-08-09T10:57:44.495Z"
   },
   {
    "duration": 33,
    "start_time": "2025-08-09T10:57:44.514Z"
   },
   {
    "duration": 4,
    "start_time": "2025-08-09T10:57:44.549Z"
   },
   {
    "duration": 45,
    "start_time": "2025-08-09T10:57:44.554Z"
   },
   {
    "duration": 6,
    "start_time": "2025-08-09T10:57:44.601Z"
   },
   {
    "duration": 108,
    "start_time": "2025-08-09T10:57:44.609Z"
   },
   {
    "duration": 0,
    "start_time": "2025-08-09T10:57:44.718Z"
   },
   {
    "duration": 0,
    "start_time": "2025-08-09T10:57:44.720Z"
   },
   {
    "duration": 0,
    "start_time": "2025-08-09T10:57:44.721Z"
   },
   {
    "duration": 8,
    "start_time": "2025-08-09T11:00:06.501Z"
   },
   {
    "duration": 10,
    "start_time": "2025-08-09T11:00:09.887Z"
   },
   {
    "duration": 911,
    "start_time": "2025-08-09T11:05:53.565Z"
   },
   {
    "duration": 63,
    "start_time": "2025-08-09T11:05:54.479Z"
   },
   {
    "duration": 19,
    "start_time": "2025-08-09T11:05:54.544Z"
   },
   {
    "duration": 17,
    "start_time": "2025-08-09T11:05:54.565Z"
   },
   {
    "duration": 39,
    "start_time": "2025-08-09T11:05:54.584Z"
   },
   {
    "duration": 9,
    "start_time": "2025-08-09T11:05:54.626Z"
   },
   {
    "duration": 7,
    "start_time": "2025-08-09T11:05:54.637Z"
   },
   {
    "duration": 34,
    "start_time": "2025-08-09T11:05:54.646Z"
   },
   {
    "duration": 1642,
    "start_time": "2025-08-09T11:05:54.682Z"
   },
   {
    "duration": 5,
    "start_time": "2025-08-09T11:05:56.328Z"
   },
   {
    "duration": 23,
    "start_time": "2025-08-09T11:05:56.334Z"
   },
   {
    "duration": 22,
    "start_time": "2025-08-09T11:05:56.358Z"
   },
   {
    "duration": 91,
    "start_time": "2025-08-09T11:05:56.381Z"
   },
   {
    "duration": 129,
    "start_time": "2025-08-09T11:05:56.473Z"
   },
   {
    "duration": 17,
    "start_time": "2025-08-09T11:05:56.604Z"
   },
   {
    "duration": 36,
    "start_time": "2025-08-09T11:05:56.623Z"
   },
   {
    "duration": 97,
    "start_time": "2025-08-09T11:05:56.661Z"
   },
   {
    "duration": 25,
    "start_time": "2025-08-09T11:05:56.760Z"
   },
   {
    "duration": 39,
    "start_time": "2025-08-09T11:05:56.787Z"
   },
   {
    "duration": 69,
    "start_time": "2025-08-09T11:05:56.828Z"
   },
   {
    "duration": 15,
    "start_time": "2025-08-09T11:05:56.899Z"
   },
   {
    "duration": 36,
    "start_time": "2025-08-09T11:05:56.916Z"
   },
   {
    "duration": 41,
    "start_time": "2025-08-09T11:05:56.954Z"
   },
   {
    "duration": 38,
    "start_time": "2025-08-09T11:05:56.997Z"
   },
   {
    "duration": 55,
    "start_time": "2025-08-09T11:05:57.037Z"
   },
   {
    "duration": 24,
    "start_time": "2025-08-09T11:05:57.093Z"
   },
   {
    "duration": 65,
    "start_time": "2025-08-09T11:05:57.119Z"
   },
   {
    "duration": 92,
    "start_time": "2025-08-09T11:05:57.188Z"
   },
   {
    "duration": 44,
    "start_time": "2025-08-09T11:05:57.281Z"
   },
   {
    "duration": 8,
    "start_time": "2025-08-09T11:05:57.327Z"
   },
   {
    "duration": 28,
    "start_time": "2025-08-09T11:08:09.277Z"
   },
   {
    "duration": 8,
    "start_time": "2025-08-09T11:08:24.806Z"
   },
   {
    "duration": 848,
    "start_time": "2025-08-09T11:19:08.585Z"
   },
   {
    "duration": 59,
    "start_time": "2025-08-09T11:19:09.434Z"
   },
   {
    "duration": 14,
    "start_time": "2025-08-09T11:19:09.495Z"
   },
   {
    "duration": 11,
    "start_time": "2025-08-09T11:19:09.512Z"
   },
   {
    "duration": 18,
    "start_time": "2025-08-09T11:19:09.525Z"
   },
   {
    "duration": 35,
    "start_time": "2025-08-09T11:19:09.545Z"
   },
   {
    "duration": 7,
    "start_time": "2025-08-09T11:19:09.581Z"
   },
   {
    "duration": 19,
    "start_time": "2025-08-09T11:19:09.590Z"
   },
   {
    "duration": 1489,
    "start_time": "2025-08-09T11:19:09.610Z"
   },
   {
    "duration": 6,
    "start_time": "2025-08-09T11:19:11.101Z"
   },
   {
    "duration": 77,
    "start_time": "2025-08-09T11:19:11.109Z"
   },
   {
    "duration": 54,
    "start_time": "2025-08-09T11:19:11.188Z"
   },
   {
    "duration": 56,
    "start_time": "2025-08-09T11:19:11.244Z"
   },
   {
    "duration": 7,
    "start_time": "2025-08-09T11:19:11.302Z"
   },
   {
    "duration": 5,
    "start_time": "2025-08-09T11:19:11.311Z"
   },
   {
    "duration": 12,
    "start_time": "2025-08-09T11:19:11.318Z"
   },
   {
    "duration": 96,
    "start_time": "2025-08-09T11:19:11.332Z"
   },
   {
    "duration": 22,
    "start_time": "2025-08-09T11:19:11.429Z"
   },
   {
    "duration": 26,
    "start_time": "2025-08-09T11:19:11.453Z"
   },
   {
    "duration": 47,
    "start_time": "2025-08-09T11:19:11.480Z"
   },
   {
    "duration": 12,
    "start_time": "2025-08-09T11:19:11.528Z"
   },
   {
    "duration": 42,
    "start_time": "2025-08-09T11:19:11.542Z"
   },
   {
    "duration": 16,
    "start_time": "2025-08-09T11:19:11.586Z"
   },
   {
    "duration": 57,
    "start_time": "2025-08-09T11:19:11.604Z"
   },
   {
    "duration": 46,
    "start_time": "2025-08-09T11:19:11.663Z"
   },
   {
    "duration": 7,
    "start_time": "2025-08-09T11:19:11.711Z"
   },
   {
    "duration": 22,
    "start_time": "2025-08-09T11:19:11.720Z"
   },
   {
    "duration": 61,
    "start_time": "2025-08-09T11:19:11.745Z"
   },
   {
    "duration": 59,
    "start_time": "2025-08-09T11:19:11.808Z"
   },
   {
    "duration": 8,
    "start_time": "2025-08-09T11:19:11.869Z"
   }
  ],
  "colab": {
   "provenance": [],
   "toc_visible": true
  },
  "kernelspec": {
   "display_name": "Python 3 (ipykernel)",
   "language": "python",
   "name": "python3"
  },
  "language_info": {
   "codemirror_mode": {
    "name": "ipython",
    "version": 3
   },
   "file_extension": ".py",
   "mimetype": "text/x-python",
   "name": "python",
   "nbconvert_exporter": "python",
   "pygments_lexer": "ipython3",
   "version": "3.9.5"
  },
  "toc": {
   "base_numbering": 1,
   "nav_menu": {},
   "number_sections": true,
   "sideBar": true,
   "skip_h1_title": true,
   "title_cell": "Table of Contents",
   "title_sidebar": "Contents",
   "toc_cell": false,
   "toc_position": {},
   "toc_section_display": true,
   "toc_window_display": true
  }
 },
 "nbformat": 4,
 "nbformat_minor": 5
}
