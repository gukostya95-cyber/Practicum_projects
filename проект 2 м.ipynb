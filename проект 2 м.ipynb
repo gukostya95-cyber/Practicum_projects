{
 "cells": [
  {
   "cell_type": "markdown",
   "metadata": {},
   "source": [
    "<div class=\"alert alert-info\">\n",
    "<font size=\"5\"><b>Комментарий ревьюера</b></font>\n",
    "\n",
    "Привет Константин! Меня зовут Марат, и я буду твоим ревьюером. Спешу сообщить что все ключевые этапы в работе выполнены,  с задачей тебе удалось справиться. По поводу обращения - в IT сфере принято общаться на «ты» :) Но, если привычней на «вы», дай знать. Как ревьюера моя задача помочь тебе в развитии, дав хорошие советы. Я внимательно посмотрю твой код, ознакомлюсь с твоими выводами и оставлю комментарии. Где то могу предложить небольшие исправление в коде, но ненавязчиво. Где потребуются уточнения, я оставлю много наводящих вопросов. Они помогут тебя с поиском верного решения.\n",
    "\n",
    "Все мои комментарии размечены по цветам, для лучшего восприятия. \n",
    "    \n",
    "<div class=\"alert alert-success\">Зеленым цветом и словом «Успех» отмечены особо удачные и элегантные решения, которыми ты можешь гордиться. </div>\n",
    "        \n",
    "<div class=\"alert alert-warning\">Желтым и значком словом «Совет», помечены решения у которых есть альтернативные решения, более оптимальные. Ты можешь найти их сразу и доработать проект, или отложить это на потом, для будущих проектах. Проект будет принят и без их доработки. </div>\n",
    "        \n",
    "<div class=\"alert alert-danger\"> Красным цветом и значком словом «Ошибка» помечу твои решения, на которые стоит обратить внимание прежде всего. После их доработки проект будет принят. </div>\n",
    "        \n",
    "Залог успеха - работа сообща, взаимное уважение и работа в диалоге. Поэтому, помечай свои ответные комментарии на мои реплики заметным цветом или курсивом, так мне будет легче их отслеживать. Пожалуйста, не изменяй и не удаляй мои комментарии. Все это поможет выполнить повторную проверку быстрей.\n",
    "\n",
    "</div>\n",
    "\n",
    "\n",
    "\n",
    "---\n",
    "    \n",
    "Для лучшей коммуникации будет лучше если ты будешь оставлять ответные комментарий (cвои комментарии к исправлениям, вопросы), так результат будет лучше.  А чтобы ревьюры их не теряли, лучше их подсвечивать цветом (можешь выбрать свой, а можешь использовать   тот который я предложил ниже). И чтобы не возникло путаницы лучше оставлять указание на номер версии комментария по итерация:  \n",
    "\n",
    "1 итерация\n",
    "\n",
    "<div class=\"alert alert-info\"> <b>Комментарии студентаV1:</b> Привет Марат!.</div>\n",
    "\n",
    "\n",
    "2 итерация\n",
    "\n",
    "<div class=\"alert alert-info\"> <b>Комментарии студентаV2:</b> Исправлено.... </div>\n",
    "    \n",
    "    \n",
    "И лучше подсвечивать свои комментарии цветом, для этого достаточно в ячейку markdown добавить: \n",
    "\n",
    "```html\n",
    "<div class=\"alert alert-info\"> <b>Комментарии студентаV2:</b> Исправлено.... </div>    \n",
    "\n",
    "```    \n",
    "    \n",
    "Хорошая коммуникация залог успеха! )\n",
    "    \n",
    "---"
   ]
  },
  {
   "cell_type": "markdown",
   "metadata": {
    "id": "4mJbK1knrJgz"
   },
   "source": [
    "# Проект: Исследование стартапов"
   ]
  },
  {
   "cell_type": "markdown",
   "metadata": {},
   "source": [
    "- Автор: Гуреев Константин Викторович\n",
    "- Дата: 07.05.2025"
   ]
  },
  {
   "cell_type": "markdown",
   "metadata": {
    "id": "P6j0r3worJg0"
   },
   "source": [
    "## Введение"
   ]
  },
  {
   "cell_type": "markdown",
   "metadata": {
    "id": "8lQtbsIUyFG6"
   },
   "source": [
    "Финансовая компания, которая предоставляет льготные займы стартапам, хочет войти на инвестиционный рынок с прицелом на покупку, развитие и последующую перепродажу перспективных стартапов. Для разработки модели бизнеса нужна информация. Чтобы выработать общее понимание, какие данные могут быть полезны, проводится исследование на исторических данных.\n",
    "\n",
    "Цель проекта:  подготовить датасет и проверить, что данные в нём соответствуют здравому смыслу, а также ответить на вопросы заказчика как о предобработке, так и о значении данных для бизнеса.\n",
    "\n",
    "Для цели проекта нужно решить следующие задачи:\n",
    "- по каким столбцам можно объединять данные из разных таблиц;\n",
    "- можно ли доверять данным о сотрудниках стартапов и их образовании;\n",
    "- что означают покупки за 0 или за 1 доллар;\n",
    "- какая цена в зависимости от категории стартапов и количества раундов финансирования перед его покупкой;\n",
    "- как рассчитать и отобразить численные показатели и динамику."
   ]
  },
  {
   "cell_type": "markdown",
   "metadata": {
    "id": "xqr6uttCrJg0"
   },
   "source": [
    "\n",
    "## Шаг 1. Знакомство с данными: загрузка и первичная предобработка\n",
    "\n",
    "Названия файлов:\n",
    "* acquisition.csv\n",
    "* company_and_rounds.csv\n",
    "* people.csv\n",
    "* education.csv\n",
    "* degrees.csv\n",
    "\n",
    "Опциональные датасеты:\n",
    "* fund.csv\n",
    "* investment.csv\n",
    "\n",
    "\n",
    "Они находятся в папке datasets, если вы выполняете работу на платформе. В случае, если вы делаете работу локально, доступ к файлам в папке можно получить по адресу `https://code.s3.yandex.net/datasets/` + имя файла.\n",
    "\n",
    "### 1.1. Вывод общей информации, исправление названия столбцов\n",
    "\n",
    "- Загрузите все данные по проекту.\n",
    "- Проверьте названия столбцов.\n",
    "- Выведите информацию, которая необходима вам для принятия решений о предобработке, для каждого из датасетов."
   ]
  },
  {
   "cell_type": "markdown",
   "metadata": {},
   "source": [
    "Описание данных\n",
    "\n",
    "Таблица `acquisition`\n",
    "Содержит информацию о покупках одними компаниями других компаний:\n",
    "- `id` — идентификатор покупки.\n",
    "- `acquiring_company_id` — идентификатор покупающей компании.\n",
    "- `acquired_company_id` — идентификатор покупаемой компании.\n",
    "- `term_code` — варианты расчёта.\n",
    "- `price_amount` — сумма сделки.\n",
    "- `acquired_at` — дата сделки.\n",
    "\n",
    "Таблица `company_and_rounds`\n",
    "Содержит информацию о компаниях и раундах финансирования:\n",
    "- `company ID` — идентификатор компании.\n",
    "- `name` — название компании.\n",
    "- `category code` — категория области деятельности компании.\n",
    "- `status` — статус компании.\n",
    "- `founded at` — дата инвестирования.\n",
    "- `closed at` — дата закрытия компании.\n",
    "- `domain` — официальный сайт компании.\n",
    "- `network username` — ник компании в сети.\n",
    "- `country code` — код страны компании.\n",
    "- `investment rounds` — число инвестиционных раундов.\n",
    "- `funding rounds` — число раундов финансирования.\n",
    "- `funding total` — сумма финансирования.\n",
    "- `milestones` — вехи финансирования.\n",
    "- `funding round id` — идентификатор этапа финансирования.\n",
    "- `company id` — идентификатор компании.\n",
    "- `funded at` — дата финансирования.\n",
    "- `funding round type` — тип финансирования.\n",
    "- `raised amount` — сумма финансирования.\n",
    "- `pre money valuation` — предварительная денежная оценка.\n",
    "- `participants` — число участников.\n",
    "- `is first round` — является ли раунд первым.\n",
    "- `is last round` — является раунд последним.\n",
    "\n",
    "Таблица `education`\n",
    "Содержит информацию об образовании сотрудника:\n",
    "- `id` — идентификатор записи об образовании.\n",
    "- `person_id` — идентификатор работника.\n",
    "- `instituition` — название учебного заведения.\n",
    "- `graduated_at` — дата получения образования.\n",
    "\n",
    "Таблица `people`\n",
    "Содержит информацию о сотрудниках:\n",
    "- `id` — идентификатор сотрудника.\n",
    "- `first_name` — имя сотрудника.\n",
    "- `last_name` — фамилия сотрудника.\n",
    "- `company_id` — идентификатор компании.\n",
    "- `network_username` — ник в социальных сетях.\n",
    "\n",
    "Таблица `degrees`\n",
    "Содержит информацию о типе образования сотрудника:\n",
    "- `id` — идентификатор записи.\n",
    "- `object_id` — идентификатор сотрудника.\n",
    "- `degree_type` — тип образования.\n",
    "- `subject` — специальность.\n",
    "\n",
    "Таблица `fund`\n",
    "Содержит информацию о фондах:\n",
    "- `id` — идентификатор фонда.\n",
    "- `name` — название фонда.\n",
    "- `category_code` — категория области деятельности компании.\n",
    "- `founded_at` — дата создания фонда.\n",
    "- `domain` — сайт фонда.\n",
    "- `network_username` — ник фонда в сети.\n",
    "- `country_code` — код страны фонда.\n",
    "- `investment_rounds` — число инвестиционных раундов.\n",
    "- `invested_companies` — число профинансированных компаний.\n",
    "- `milestones` — вехи финансирования.\n",
    "\n",
    "Таблица `investment`\n",
    "Содержит информацию о раундах инвестирования:\n",
    "- `id` — идентификатор этапа инвестирования.\n",
    "- `funding_round_id` — идентификатор раунда инвестирования.\n",
    "- `company_id` — индентификатор компании.\n",
    "- `funding_round_type` — тип финансирования.\n",
    "- `fund_id` — идентификатор фонда."
   ]
  },
  {
   "cell_type": "code",
   "execution_count": 1,
   "metadata": {
    "colab": {
     "base_uri": "https://localhost:8080/"
    },
    "id": "W_W4jRazrJg0",
    "outputId": "d2409aad-233f-4bb4-ec71-7da96594f9df",
    "vscode": {
     "languageId": "plaintext"
    }
   },
   "outputs": [],
   "source": [
    "# Загрузим все библиотеки которые будут нужны для работы\n",
    "import pandas as pd\n",
    "# Загружаем библиотеки для визуализации данных\n",
    "!pip install matplotlib-venn -q\n",
    "from matplotlib_venn import venn2, venn3\n",
    "import matplotlib.pyplot as plt\n",
    "import seaborn as sns"
   ]
  },
  {
   "cell_type": "markdown",
   "metadata": {},
   "source": [
    "<div class=\"alert alert-warning\">\n",
    "<font size=\"5\"><b>Комментарий ревьюера</b></font>\n",
    "\n",
    "\n",
    "\n",
    "Совет 🤔:\n",
    "\n",
    "\n",
    " В этом проекте мы не используем phik_matrix"
   ]
  },
  {
   "cell_type": "markdown",
   "metadata": {},
   "source": [
    "<div class=\"alert alert-info\"> <b>Комментарии студентаV2:</b> Привет, Марат. Понял, уберу </div>"
   ]
  },
  {
   "cell_type": "markdown",
   "metadata": {},
   "source": [
    "<div class=\"alert alert-success\">\n",
    "<font size=\"5\"><b>Комментарий ревьюераV2</b></font>\n",
    "\n",
    "\n",
    "\n",
    "Успех 👍:\n",
    "\n",
    "\n",
    "\n",
    "👍\n",
    "\n",
    "\n",
    "Привет Константин "
   ]
  },
  {
   "cell_type": "code",
   "execution_count": 2,
   "metadata": {
    "id": "2Tm4Pk__Felf"
   },
   "outputs": [],
   "source": [
    "# Выгрузим данные в переменные\n",
    "PATH = \"https://code.s3.yandex.net/datasets/\"\n",
    "df_acquisition = pd.read_csv(PATH + 'acquisition.csv')\n",
    "df_company_and_rounds = pd.read_csv(PATH + 'company_and_rounds.csv')\n",
    "df_education = pd.read_csv(PATH + 'education.csv')\n",
    "df_people = pd.read_csv(PATH + 'people.csv')\n",
    "df_degrees = pd.read_csv(PATH + 'degrees.csv')\n",
    "df_fund = pd.read_csv(PATH + 'fund.csv')\n",
    "df_investment = pd.read_csv(PATH + 'investment.csv')"
   ]
  },
  {
   "cell_type": "markdown",
   "metadata": {},
   "source": [
    "<div class=\"alert alert-warning\">\n",
    "<font size=\"5\"><b>Комментарий ревьюера</b></font>\n",
    "\n",
    "\n",
    "\n",
    "Совет 🤔:\n",
    "\n",
    " \n",
    "- Можно заметить что у нас везде повторяется данный путь https://code.s3.yandex.net/datasets/ , его можно оформить как константу\n",
    "    \n",
    "        PATH = \"https://code.s3.yandex.net/datasets/\"\n",
    "        acquisition = pd.read_csv(PATH + 'acquisition.csv')\n",
    "        ....\n",
    "\n",
    "Так будет и более читабельно, и  будет проще подправить, если изменится url    \n",
    "    \n",
    "  "
   ]
  },
  {
   "cell_type": "code",
   "execution_count": 3,
   "metadata": {
    "id": "oNqJ2qpRFebv"
   },
   "outputs": [
    {
     "name": "stdout",
     "output_type": "stream",
     "text": [
      "<class 'pandas.core.frame.DataFrame'>\n",
      "RangeIndex: 9407 entries, 0 to 9406\n",
      "Data columns (total 6 columns):\n",
      " #   Column                Non-Null Count  Dtype \n",
      "---  ------                --------------  ----- \n",
      " 0   id                    9407 non-null   int64 \n",
      " 1   acquiring_company_id  9407 non-null   int64 \n",
      " 2   acquired_company_id   9407 non-null   int64 \n",
      " 3   term_code             1831 non-null   object\n",
      " 4   price_amount          9407 non-null   int64 \n",
      " 5   acquired_at           9378 non-null   object\n",
      "dtypes: int64(4), object(2)\n",
      "memory usage: 441.1+ KB\n"
     ]
    },
    {
     "data": {
      "text/html": [
       "<div>\n",
       "<style scoped>\n",
       "    .dataframe tbody tr th:only-of-type {\n",
       "        vertical-align: middle;\n",
       "    }\n",
       "\n",
       "    .dataframe tbody tr th {\n",
       "        vertical-align: top;\n",
       "    }\n",
       "\n",
       "    .dataframe thead th {\n",
       "        text-align: right;\n",
       "    }\n",
       "</style>\n",
       "<table border=\"1\" class=\"dataframe\">\n",
       "  <thead>\n",
       "    <tr style=\"text-align: right;\">\n",
       "      <th></th>\n",
       "      <th>id</th>\n",
       "      <th>acquiring_company_id</th>\n",
       "      <th>acquired_company_id</th>\n",
       "      <th>term_code</th>\n",
       "      <th>price_amount</th>\n",
       "      <th>acquired_at</th>\n",
       "    </tr>\n",
       "  </thead>\n",
       "  <tbody>\n",
       "    <tr>\n",
       "      <th>0</th>\n",
       "      <td>1</td>\n",
       "      <td>11</td>\n",
       "      <td>10</td>\n",
       "      <td>NaN</td>\n",
       "      <td>20000000</td>\n",
       "      <td>2007-05-30</td>\n",
       "    </tr>\n",
       "    <tr>\n",
       "      <th>1</th>\n",
       "      <td>7</td>\n",
       "      <td>59</td>\n",
       "      <td>72</td>\n",
       "      <td>cash</td>\n",
       "      <td>60000000</td>\n",
       "      <td>2007-07-01</td>\n",
       "    </tr>\n",
       "    <tr>\n",
       "      <th>2</th>\n",
       "      <td>8</td>\n",
       "      <td>24</td>\n",
       "      <td>132</td>\n",
       "      <td>cash</td>\n",
       "      <td>280000000</td>\n",
       "      <td>2007-05-01</td>\n",
       "    </tr>\n",
       "    <tr>\n",
       "      <th>3</th>\n",
       "      <td>9</td>\n",
       "      <td>59</td>\n",
       "      <td>155</td>\n",
       "      <td>cash</td>\n",
       "      <td>100000000</td>\n",
       "      <td>2007-06-01</td>\n",
       "    </tr>\n",
       "    <tr>\n",
       "      <th>4</th>\n",
       "      <td>10</td>\n",
       "      <td>212</td>\n",
       "      <td>215</td>\n",
       "      <td>cash</td>\n",
       "      <td>25000000</td>\n",
       "      <td>2007-07-01</td>\n",
       "    </tr>\n",
       "  </tbody>\n",
       "</table>\n",
       "</div>"
      ],
      "text/plain": [
       "   id  acquiring_company_id  acquired_company_id term_code  price_amount  \\\n",
       "0   1                    11                   10       NaN      20000000   \n",
       "1   7                    59                   72      cash      60000000   \n",
       "2   8                    24                  132      cash     280000000   \n",
       "3   9                    59                  155      cash     100000000   \n",
       "4  10                   212                  215      cash      25000000   \n",
       "\n",
       "  acquired_at  \n",
       "0  2007-05-30  \n",
       "1  2007-07-01  \n",
       "2  2007-05-01  \n",
       "3  2007-06-01  \n",
       "4  2007-07-01  "
      ]
     },
     "execution_count": 3,
     "metadata": {},
     "output_type": "execute_result"
    }
   ],
   "source": [
    "# Изучим данные методом info()\n",
    "df_acquisition.info()\n",
    "df_acquisition.head()"
   ]
  },
  {
   "cell_type": "markdown",
   "metadata": {},
   "source": [
    "Датасет `df_acquisition` содержит 9407 строк и 6 столбцов. Из них 4 столбца в формате `int64` и 2 в `object`. Пропуски есть в двух столбцах `acquired_at` - с датами сделок, `term_code` -  с вариантом расчета. Столбец `acquired_at` - необходимо перевести в формат `datetime` т.к. содержит информацию о дате в формате `YYYY-MM-DD`."
   ]
  },
  {
   "cell_type": "code",
   "execution_count": 4,
   "metadata": {},
   "outputs": [
    {
     "name": "stdout",
     "output_type": "stream",
     "text": [
      "<class 'pandas.core.frame.DataFrame'>\n",
      "RangeIndex: 217774 entries, 0 to 217773\n",
      "Data columns (total 22 columns):\n",
      " #   Column                 Non-Null Count   Dtype  \n",
      "---  ------                 --------------   -----  \n",
      " 0   company  ID            217472 non-null  float64\n",
      " 1   name                   217472 non-null  object \n",
      " 2   category  code         143886 non-null  object \n",
      " 3   status                 217472 non-null  object \n",
      " 4   founded  at            109956 non-null  object \n",
      " 5   closed  at             3449 non-null    object \n",
      " 6   domain                 147159 non-null  object \n",
      " 7   network  username      95534 non-null   object \n",
      " 8   country  code          108607 non-null  object \n",
      " 9   investment  rounds     217472 non-null  float64\n",
      " 10  funding  rounds        217472 non-null  float64\n",
      " 11  funding  total         217472 non-null  float64\n",
      " 12  milestones             217472 non-null  float64\n",
      " 13  funding  round  id     52928 non-null   float64\n",
      " 14  company  id            52928 non-null   float64\n",
      " 15  funded  at             52680 non-null   object \n",
      " 16  funding  round  type   52928 non-null   object \n",
      " 17  raised  amount         52928 non-null   float64\n",
      " 18  pre  money  valuation  52928 non-null   float64\n",
      " 19  participants           52928 non-null   float64\n",
      " 20  is  first  round       52928 non-null   float64\n",
      " 21  is  last  round        52928 non-null   float64\n",
      "dtypes: float64(12), object(10)\n",
      "memory usage: 36.6+ MB\n"
     ]
    },
    {
     "data": {
      "text/html": [
       "<div>\n",
       "<style scoped>\n",
       "    .dataframe tbody tr th:only-of-type {\n",
       "        vertical-align: middle;\n",
       "    }\n",
       "\n",
       "    .dataframe tbody tr th {\n",
       "        vertical-align: top;\n",
       "    }\n",
       "\n",
       "    .dataframe thead th {\n",
       "        text-align: right;\n",
       "    }\n",
       "</style>\n",
       "<table border=\"1\" class=\"dataframe\">\n",
       "  <thead>\n",
       "    <tr style=\"text-align: right;\">\n",
       "      <th></th>\n",
       "      <th>company  ID</th>\n",
       "      <th>name</th>\n",
       "      <th>category  code</th>\n",
       "      <th>status</th>\n",
       "      <th>founded  at</th>\n",
       "      <th>closed  at</th>\n",
       "      <th>domain</th>\n",
       "      <th>network  username</th>\n",
       "      <th>country  code</th>\n",
       "      <th>investment  rounds</th>\n",
       "      <th>...</th>\n",
       "      <th>milestones</th>\n",
       "      <th>funding  round  id</th>\n",
       "      <th>company  id</th>\n",
       "      <th>funded  at</th>\n",
       "      <th>funding  round  type</th>\n",
       "      <th>raised  amount</th>\n",
       "      <th>pre  money  valuation</th>\n",
       "      <th>participants</th>\n",
       "      <th>is  first  round</th>\n",
       "      <th>is  last  round</th>\n",
       "    </tr>\n",
       "  </thead>\n",
       "  <tbody>\n",
       "    <tr>\n",
       "      <th>0</th>\n",
       "      <td>1.0</td>\n",
       "      <td>Wetpaint</td>\n",
       "      <td>web</td>\n",
       "      <td>operating</td>\n",
       "      <td>2005-10-17</td>\n",
       "      <td>NaN</td>\n",
       "      <td>wetpaint-inc.com</td>\n",
       "      <td>BachelrWetpaint</td>\n",
       "      <td>USA</td>\n",
       "      <td>0.0</td>\n",
       "      <td>...</td>\n",
       "      <td>5.0</td>\n",
       "      <td>888.0</td>\n",
       "      <td>1.0</td>\n",
       "      <td>2005-10-01</td>\n",
       "      <td>series-a</td>\n",
       "      <td>5250000.0</td>\n",
       "      <td>0.0</td>\n",
       "      <td>2.0</td>\n",
       "      <td>0.0</td>\n",
       "      <td>1.0</td>\n",
       "    </tr>\n",
       "    <tr>\n",
       "      <th>1</th>\n",
       "      <td>1.0</td>\n",
       "      <td>Wetpaint</td>\n",
       "      <td>web</td>\n",
       "      <td>operating</td>\n",
       "      <td>2005-10-17</td>\n",
       "      <td>NaN</td>\n",
       "      <td>wetpaint-inc.com</td>\n",
       "      <td>BachelrWetpaint</td>\n",
       "      <td>USA</td>\n",
       "      <td>0.0</td>\n",
       "      <td>...</td>\n",
       "      <td>5.0</td>\n",
       "      <td>889.0</td>\n",
       "      <td>1.0</td>\n",
       "      <td>2007-01-01</td>\n",
       "      <td>series-b</td>\n",
       "      <td>9500000.0</td>\n",
       "      <td>0.0</td>\n",
       "      <td>3.0</td>\n",
       "      <td>0.0</td>\n",
       "      <td>0.0</td>\n",
       "    </tr>\n",
       "    <tr>\n",
       "      <th>2</th>\n",
       "      <td>1.0</td>\n",
       "      <td>Wetpaint</td>\n",
       "      <td>web</td>\n",
       "      <td>operating</td>\n",
       "      <td>2005-10-17</td>\n",
       "      <td>NaN</td>\n",
       "      <td>wetpaint-inc.com</td>\n",
       "      <td>BachelrWetpaint</td>\n",
       "      <td>USA</td>\n",
       "      <td>0.0</td>\n",
       "      <td>...</td>\n",
       "      <td>5.0</td>\n",
       "      <td>2312.0</td>\n",
       "      <td>1.0</td>\n",
       "      <td>2008-05-19</td>\n",
       "      <td>series-c+</td>\n",
       "      <td>25000000.0</td>\n",
       "      <td>0.0</td>\n",
       "      <td>4.0</td>\n",
       "      <td>1.0</td>\n",
       "      <td>0.0</td>\n",
       "    </tr>\n",
       "    <tr>\n",
       "      <th>3</th>\n",
       "      <td>10.0</td>\n",
       "      <td>Flektor</td>\n",
       "      <td>games_video</td>\n",
       "      <td>acquired</td>\n",
       "      <td>NaN</td>\n",
       "      <td>NaN</td>\n",
       "      <td>flektor.com</td>\n",
       "      <td>NaN</td>\n",
       "      <td>USA</td>\n",
       "      <td>0.0</td>\n",
       "      <td>...</td>\n",
       "      <td>0.0</td>\n",
       "      <td>NaN</td>\n",
       "      <td>NaN</td>\n",
       "      <td>NaN</td>\n",
       "      <td>NaN</td>\n",
       "      <td>NaN</td>\n",
       "      <td>NaN</td>\n",
       "      <td>NaN</td>\n",
       "      <td>NaN</td>\n",
       "      <td>NaN</td>\n",
       "    </tr>\n",
       "    <tr>\n",
       "      <th>4</th>\n",
       "      <td>100.0</td>\n",
       "      <td>There</td>\n",
       "      <td>games_video</td>\n",
       "      <td>acquired</td>\n",
       "      <td>NaN</td>\n",
       "      <td>NaN</td>\n",
       "      <td>there.com</td>\n",
       "      <td>NaN</td>\n",
       "      <td>USA</td>\n",
       "      <td>0.0</td>\n",
       "      <td>...</td>\n",
       "      <td>4.0</td>\n",
       "      <td>NaN</td>\n",
       "      <td>NaN</td>\n",
       "      <td>NaN</td>\n",
       "      <td>NaN</td>\n",
       "      <td>NaN</td>\n",
       "      <td>NaN</td>\n",
       "      <td>NaN</td>\n",
       "      <td>NaN</td>\n",
       "      <td>NaN</td>\n",
       "    </tr>\n",
       "  </tbody>\n",
       "</table>\n",
       "<p>5 rows × 22 columns</p>\n",
       "</div>"
      ],
      "text/plain": [
       "   company  ID      name category  code     status founded  at closed  at  \\\n",
       "0          1.0  Wetpaint            web  operating  2005-10-17        NaN   \n",
       "1          1.0  Wetpaint            web  operating  2005-10-17        NaN   \n",
       "2          1.0  Wetpaint            web  operating  2005-10-17        NaN   \n",
       "3         10.0   Flektor    games_video   acquired         NaN        NaN   \n",
       "4        100.0     There    games_video   acquired         NaN        NaN   \n",
       "\n",
       "             domain network  username country  code  investment  rounds  ...  \\\n",
       "0  wetpaint-inc.com   BachelrWetpaint           USA                 0.0  ...   \n",
       "1  wetpaint-inc.com   BachelrWetpaint           USA                 0.0  ...   \n",
       "2  wetpaint-inc.com   BachelrWetpaint           USA                 0.0  ...   \n",
       "3       flektor.com               NaN           USA                 0.0  ...   \n",
       "4         there.com               NaN           USA                 0.0  ...   \n",
       "\n",
       "   milestones  funding  round  id  company  id  funded  at  \\\n",
       "0         5.0               888.0          1.0  2005-10-01   \n",
       "1         5.0               889.0          1.0  2007-01-01   \n",
       "2         5.0              2312.0          1.0  2008-05-19   \n",
       "3         0.0                 NaN          NaN         NaN   \n",
       "4         4.0                 NaN          NaN         NaN   \n",
       "\n",
       "   funding  round  type raised  amount pre  money  valuation  participants  \\\n",
       "0              series-a      5250000.0                   0.0           2.0   \n",
       "1              series-b      9500000.0                   0.0           3.0   \n",
       "2             series-c+     25000000.0                   0.0           4.0   \n",
       "3                   NaN            NaN                   NaN           NaN   \n",
       "4                   NaN            NaN                   NaN           NaN   \n",
       "\n",
       "   is  first  round  is  last  round  \n",
       "0               0.0              1.0  \n",
       "1               0.0              0.0  \n",
       "2               1.0              0.0  \n",
       "3               NaN              NaN  \n",
       "4               NaN              NaN  \n",
       "\n",
       "[5 rows x 22 columns]"
      ]
     },
     "execution_count": 4,
     "metadata": {},
     "output_type": "execute_result"
    }
   ],
   "source": [
    "df_company_and_rounds.info()\n",
    "df_company_and_rounds.head()"
   ]
  },
  {
   "cell_type": "code",
   "execution_count": 5,
   "metadata": {},
   "outputs": [
    {
     "data": {
      "image/png": "[encoded data removed]",
      "text/plain": [
       "<Figure size 432x288 with 1 Axes>"
      ]
     },
     "metadata": {},
     "output_type": "display_data"
    }
   ],
   "source": [
    "# Изучим два столбца с одинаковым названием\n",
    "first_id = set(df_company_and_rounds['company  ID'].dropna().unique())\n",
    "second_id = set(df_company_and_rounds['company  id'].dropna().unique())\n",
    "# Строим диаграмму Венна\n",
    "venn2([first_id, second_id], set_labels=('company  ID', 'company  id'))\n",
    "\n",
    "# Отображаем график\n",
    "plt.title(\"Пересечение \")\n",
    "plt.show() "
   ]
  },
  {
   "cell_type": "markdown",
   "metadata": {},
   "source": [
    "<div class=\"alert alert-warning\">\n",
    "<font size=\"5\"><b>Комментарий ревьюераV2</b></font>\n",
    "\n",
    "\n",
    "\n",
    "Совет 🤔:\n",
    "\n",
    "\n",
    " Можно было сразу вывод написать.  В принципе мы видим что практически все значения из одного столбца входят в другой. В этом проекте это ничего не даст, но вообще можно было попробовать заполнить пропуски в одном за счёт другого после чего не нужный удалить"
   ]
  },
  {
   "cell_type": "markdown",
   "metadata": {},
   "source": [
    "Датасет `df_company_and_rounds` содержит 217774 строк и 22 столбца. Из них 12 столбцов в формате `float64` и 10 в `object`. В 15 столбах имеются пропуски. Столбца `founded  at`,`closed  at`,`funded  at` - необходимо перевести в формат `datetime`. Столбцы `is  first  round`,`is  last  round`  - следует перевести в формат `int64` т.к. содержит только 2 значения 1 или 0. Также названия столбцов следует привести к формату snake_case. Можно сделать вывод что данная таблица составлена из двух других. "
   ]
  },
  {
   "cell_type": "code",
   "execution_count": 6,
   "metadata": {},
   "outputs": [
    {
     "name": "stdout",
     "output_type": "stream",
     "text": [
      "<class 'pandas.core.frame.DataFrame'>\n",
      "RangeIndex: 109610 entries, 0 to 109609\n",
      "Data columns (total 4 columns):\n",
      " #   Column        Non-Null Count   Dtype \n",
      "---  ------        --------------   ----- \n",
      " 0   id            109610 non-null  int64 \n",
      " 1   person_id     109610 non-null  int64 \n",
      " 2   instituition  109555 non-null  object\n",
      " 3   graduated_at  58054 non-null   object\n",
      "dtypes: int64(2), object(2)\n",
      "memory usage: 3.3+ MB\n"
     ]
    },
    {
     "data": {
      "text/html": [
       "<div>\n",
       "<style scoped>\n",
       "    .dataframe tbody tr th:only-of-type {\n",
       "        vertical-align: middle;\n",
       "    }\n",
       "\n",
       "    .dataframe tbody tr th {\n",
       "        vertical-align: top;\n",
       "    }\n",
       "\n",
       "    .dataframe thead th {\n",
       "        text-align: right;\n",
       "    }\n",
       "</style>\n",
       "<table border=\"1\" class=\"dataframe\">\n",
       "  <thead>\n",
       "    <tr style=\"text-align: right;\">\n",
       "      <th></th>\n",
       "      <th>id</th>\n",
       "      <th>person_id</th>\n",
       "      <th>instituition</th>\n",
       "      <th>graduated_at</th>\n",
       "    </tr>\n",
       "  </thead>\n",
       "  <tbody>\n",
       "    <tr>\n",
       "      <th>0</th>\n",
       "      <td>1</td>\n",
       "      <td>6117</td>\n",
       "      <td>NaN</td>\n",
       "      <td>NaN</td>\n",
       "    </tr>\n",
       "    <tr>\n",
       "      <th>1</th>\n",
       "      <td>2</td>\n",
       "      <td>6136</td>\n",
       "      <td>Washington University, St. Louis</td>\n",
       "      <td>1990-01-01</td>\n",
       "    </tr>\n",
       "    <tr>\n",
       "      <th>2</th>\n",
       "      <td>3</td>\n",
       "      <td>6136</td>\n",
       "      <td>Boston University</td>\n",
       "      <td>1992-01-01</td>\n",
       "    </tr>\n",
       "    <tr>\n",
       "      <th>3</th>\n",
       "      <td>4</td>\n",
       "      <td>6005</td>\n",
       "      <td>University of Greenwich</td>\n",
       "      <td>2006-01-01</td>\n",
       "    </tr>\n",
       "    <tr>\n",
       "      <th>4</th>\n",
       "      <td>5</td>\n",
       "      <td>5832</td>\n",
       "      <td>Rice University</td>\n",
       "      <td>NaN</td>\n",
       "    </tr>\n",
       "  </tbody>\n",
       "</table>\n",
       "</div>"
      ],
      "text/plain": [
       "   id  person_id                      instituition graduated_at\n",
       "0   1       6117                               NaN          NaN\n",
       "1   2       6136  Washington University, St. Louis   1990-01-01\n",
       "2   3       6136                 Boston University   1992-01-01\n",
       "3   4       6005           University of Greenwich   2006-01-01\n",
       "4   5       5832                   Rice University          NaN"
      ]
     },
     "execution_count": 6,
     "metadata": {},
     "output_type": "execute_result"
    }
   ],
   "source": [
    "df_education.info()\n",
    "df_education.head()"
   ]
  },
  {
   "cell_type": "markdown",
   "metadata": {},
   "source": [
    "`df_education` содержит 109610 строк и 4 столбца. Из них 2 в формате `int64` и 2 `object`. Пропуски имеются в столбцах `instituition`, `graduated_at`. Столбец `graduated_at` следует перевести в формат `datetime` т.к. содержит информацию о дате."
   ]
  },
  {
   "cell_type": "code",
   "execution_count": 7,
   "metadata": {},
   "outputs": [
    {
     "name": "stdout",
     "output_type": "stream",
     "text": [
      "<class 'pandas.core.frame.DataFrame'>\n",
      "RangeIndex: 226709 entries, 0 to 226708\n",
      "Data columns (total 5 columns):\n",
      " #   Column            Non-Null Count   Dtype  \n",
      "---  ------            --------------   -----  \n",
      " 0   id                226709 non-null  int64  \n",
      " 1   first_name        226704 non-null  object \n",
      " 2   last_name         226708 non-null  object \n",
      " 3   company_id        34615 non-null   float64\n",
      " 4   network_username  38867 non-null   object \n",
      "dtypes: float64(1), int64(1), object(3)\n",
      "memory usage: 8.6+ MB\n"
     ]
    },
    {
     "data": {
      "text/html": [
       "<div>\n",
       "<style scoped>\n",
       "    .dataframe tbody tr th:only-of-type {\n",
       "        vertical-align: middle;\n",
       "    }\n",
       "\n",
       "    .dataframe tbody tr th {\n",
       "        vertical-align: top;\n",
       "    }\n",
       "\n",
       "    .dataframe thead th {\n",
       "        text-align: right;\n",
       "    }\n",
       "</style>\n",
       "<table border=\"1\" class=\"dataframe\">\n",
       "  <thead>\n",
       "    <tr style=\"text-align: right;\">\n",
       "      <th></th>\n",
       "      <th>id</th>\n",
       "      <th>first_name</th>\n",
       "      <th>last_name</th>\n",
       "      <th>company_id</th>\n",
       "      <th>network_username</th>\n",
       "    </tr>\n",
       "  </thead>\n",
       "  <tbody>\n",
       "    <tr>\n",
       "      <th>0</th>\n",
       "      <td>10</td>\n",
       "      <td>Mark</td>\n",
       "      <td>Zuckerberg</td>\n",
       "      <td>5.0</td>\n",
       "      <td>NaN</td>\n",
       "    </tr>\n",
       "    <tr>\n",
       "      <th>1</th>\n",
       "      <td>100</td>\n",
       "      <td>Peter</td>\n",
       "      <td>Lester</td>\n",
       "      <td>27.0</td>\n",
       "      <td>NaN</td>\n",
       "    </tr>\n",
       "    <tr>\n",
       "      <th>2</th>\n",
       "      <td>1000</td>\n",
       "      <td>Dr. Steven</td>\n",
       "      <td>E. Saunders</td>\n",
       "      <td>292.0</td>\n",
       "      <td>NaN</td>\n",
       "    </tr>\n",
       "    <tr>\n",
       "      <th>3</th>\n",
       "      <td>10000</td>\n",
       "      <td>Neil</td>\n",
       "      <td>Capel</td>\n",
       "      <td>2526.0</td>\n",
       "      <td>NaN</td>\n",
       "    </tr>\n",
       "    <tr>\n",
       "      <th>4</th>\n",
       "      <td>100000</td>\n",
       "      <td>Sue</td>\n",
       "      <td>Pilsch</td>\n",
       "      <td>NaN</td>\n",
       "      <td>NaN</td>\n",
       "    </tr>\n",
       "  </tbody>\n",
       "</table>\n",
       "</div>"
      ],
      "text/plain": [
       "       id  first_name    last_name  company_id network_username\n",
       "0      10        Mark   Zuckerberg         5.0              NaN\n",
       "1     100       Peter       Lester        27.0              NaN\n",
       "2    1000  Dr. Steven  E. Saunders       292.0              NaN\n",
       "3   10000        Neil        Capel      2526.0              NaN\n",
       "4  100000         Sue       Pilsch         NaN              NaN"
      ]
     },
     "execution_count": 7,
     "metadata": {},
     "output_type": "execute_result"
    }
   ],
   "source": [
    "df_people.info()\n",
    "df_people.head()"
   ]
  },
  {
   "cell_type": "markdown",
   "metadata": {},
   "source": [
    "`df_people` содержит 226709 строк и 5 столбцов. Из них 1 в формате `float64`, 1 `int64` и 3 `object`. Имеют пропуски столбцы `company_id`, `network_username`. Столбец `company_id` следует привести к формату `int64` т.к. id компании указано целым числом."
   ]
  },
  {
   "cell_type": "code",
   "execution_count": 8,
   "metadata": {},
   "outputs": [
    {
     "name": "stdout",
     "output_type": "stream",
     "text": [
      "<class 'pandas.core.frame.DataFrame'>\n",
      "RangeIndex: 109610 entries, 0 to 109609\n",
      "Data columns (total 4 columns):\n",
      " #   Column       Non-Null Count   Dtype \n",
      "---  ------       --------------   ----- \n",
      " 0   id           109610 non-null  int64 \n",
      " 1   object_id    109610 non-null  object\n",
      " 2   degree_type  98392 non-null   object\n",
      " 3   subject      81298 non-null   object\n",
      "dtypes: int64(1), object(3)\n",
      "memory usage: 3.3+ MB\n"
     ]
    },
    {
     "data": {
      "text/html": [
       "<div>\n",
       "<style scoped>\n",
       "    .dataframe tbody tr th:only-of-type {\n",
       "        vertical-align: middle;\n",
       "    }\n",
       "\n",
       "    .dataframe tbody tr th {\n",
       "        vertical-align: top;\n",
       "    }\n",
       "\n",
       "    .dataframe thead th {\n",
       "        text-align: right;\n",
       "    }\n",
       "</style>\n",
       "<table border=\"1\" class=\"dataframe\">\n",
       "  <thead>\n",
       "    <tr style=\"text-align: right;\">\n",
       "      <th></th>\n",
       "      <th>id</th>\n",
       "      <th>object_id</th>\n",
       "      <th>degree_type</th>\n",
       "      <th>subject</th>\n",
       "    </tr>\n",
       "  </thead>\n",
       "  <tbody>\n",
       "    <tr>\n",
       "      <th>0</th>\n",
       "      <td>1</td>\n",
       "      <td>p:6117</td>\n",
       "      <td>MBA</td>\n",
       "      <td>NaN</td>\n",
       "    </tr>\n",
       "    <tr>\n",
       "      <th>1</th>\n",
       "      <td>2</td>\n",
       "      <td>p:6136</td>\n",
       "      <td>BA</td>\n",
       "      <td>English, French</td>\n",
       "    </tr>\n",
       "    <tr>\n",
       "      <th>2</th>\n",
       "      <td>3</td>\n",
       "      <td>p:6136</td>\n",
       "      <td>MS</td>\n",
       "      <td>Mass Communication</td>\n",
       "    </tr>\n",
       "    <tr>\n",
       "      <th>3</th>\n",
       "      <td>4</td>\n",
       "      <td>p:6005</td>\n",
       "      <td>MS</td>\n",
       "      <td>Internet Technology</td>\n",
       "    </tr>\n",
       "    <tr>\n",
       "      <th>4</th>\n",
       "      <td>5</td>\n",
       "      <td>p:5832</td>\n",
       "      <td>BCS</td>\n",
       "      <td>Computer Science, Psychology</td>\n",
       "    </tr>\n",
       "  </tbody>\n",
       "</table>\n",
       "</div>"
      ],
      "text/plain": [
       "   id object_id degree_type                       subject\n",
       "0   1    p:6117         MBA                           NaN\n",
       "1   2    p:6136          BA               English, French\n",
       "2   3    p:6136          MS            Mass Communication\n",
       "3   4    p:6005          MS           Internet Technology\n",
       "4   5    p:5832         BCS  Computer Science, Psychology"
      ]
     },
     "execution_count": 8,
     "metadata": {},
     "output_type": "execute_result"
    }
   ],
   "source": [
    "df_degrees.info()\n",
    "df_degrees.head()"
   ]
  },
  {
   "cell_type": "markdown",
   "metadata": {},
   "source": [
    "`df_degrees` содержит 109610 строк и 4 столбца. Из них 1 `int64` и 3 `object`. Пропуски есть в столбцах `degree_type`, `subject`."
   ]
  },
  {
   "cell_type": "code",
   "execution_count": 9,
   "metadata": {},
   "outputs": [],
   "source": [
    "# Приведем названия столбцов в датафрейме df_company_and_rounds к snake_case\n",
    "df_company_and_rounds = df_company_and_rounds.rename(columns={'company  ID': 'company_id1',\n",
    "                                                              'name': 'name',\n",
    "                                                              'category  code': 'category_code',\n",
    "                                                              'status': 'status',\n",
    "                                                              'founded  at': 'founded_at',\n",
    "                                                              'closed  at': 'closed_at',\n",
    "                                                              'domain': 'domain',\n",
    "                                                              'network  username': 'network_username',\n",
    "                                                              'country  code': 'country_code',\n",
    "                                                              'investment  rounds': 'investment_rounds',\n",
    "                                                              'funding  rounds': 'funding_rounds',\n",
    "                                                              'funding  total': 'funding_total',\n",
    "                                                              'milestones': 'milestones',\n",
    "                                                              'funding  round  id': 'funding_round_id',\n",
    "                                                              'company  id': 'company_id',\n",
    "                                                              'funded  at': 'funded_at',\n",
    "                                                              'funding  round  type': 'funding_round_type',\n",
    "                                                              'raised  amount': 'raised_amount',\n",
    "                                                              'pre  money  valuation': 'pre_money_valuation',\n",
    "                                                              'participants': 'participants',\n",
    "                                                              'is  first  round': 'is_first_round',\n",
    "                                                              'is  last  round': 'is_last_round'})"
   ]
  },
  {
   "cell_type": "markdown",
   "metadata": {},
   "source": [
    "\n",
    "<div class=\"alert alert-warning\">\n",
    "<font size=\"5\"><b>Комментарий ревьюера</b></font>\n",
    "\n",
    "\n",
    "\n",
    "Совет 🤔:\n",
    "\n",
    "\n",
    " \n",
    "    \n",
    "- змеиный стиль предполагает все буквы маленькими\n",
    "    \n",
    "\n",
    "- лучше всего автоматизировать процесс приведения к змеиному стилю воспользовавшись  .lower, а с помощью регуляризации    (или .replace) избавиться от точек, % итп, а если надо организовать нижние подчёркивание (привезти название столбцов к змеиному коду) \n",
    "       \n",
    "   \n",
    "\n",
    "\n"
   ]
  },
  {
   "cell_type": "code",
   "execution_count": 10,
   "metadata": {},
   "outputs": [
    {
     "data": {
      "text/plain": [
       "Index(['company_id1', 'name', 'category_code', 'status', 'founded_at',\n",
       "       'closed_at', 'domain', 'network_username', 'country_code',\n",
       "       'investment_rounds', 'funding_rounds', 'funding_total', 'milestones',\n",
       "       'funding_round_id', 'company_id', 'funded_at', 'funding_round_type',\n",
       "       'raised_amount', 'pre_money_valuation', 'participants',\n",
       "       'is_first_round', 'is_last_round'],\n",
       "      dtype='object')"
      ]
     },
     "execution_count": 10,
     "metadata": {},
     "output_type": "execute_result"
    }
   ],
   "source": [
    "# проверим результат\n",
    "df_company_and_rounds.columns"
   ]
  },
  {
   "cell_type": "markdown",
   "metadata": {},
   "source": [
    "\n",
    "<div class=\"alert alert-success\">\n",
    "<font size=\"5\"><b>Комментарий ревьюера</b></font>\n",
    "\n",
    "Успех:\n",
    "\n",
    "\n",
    "- Предварительный обзор данных сделан\n",
    "\n",
    "\n",
    "- Выводы сделаны\n",
    "\n",
    "\n",
    "- План дальнейших действий составлен\n",
    "\n",
    " \n",
    "\n",
    "- Поработал со стилистикой  \n",
    "\n",
    "\n",
    "     \n",
    "<div class=\"alert alert-warning\">\n",
    "\n",
    "Совет 🤔:\n",
    "\n",
    "\n",
    " \n",
    "\n",
    "- Можно было найти опечатку \n",
    "\n",
    "\n",
    "- Можно было дополнительно сконцентрировать внимание на     company  ID и company  id. Почему такие одинаковые названия, что за этим стоит? Сделать проверку насколько они совпадают. Можно красиво это увидеть с помощью (схема) \n",
    "\n",
    "\n",
    "\tfirst_id = set(company_and_rounds_df['company  ID'].dropna().unique())\n",
    "\tsecond_id = set(company_and_rounds_df['company  id'].dropna().unique())\n",
    "\t# Строим диаграмму Венна\n",
    "\tvenn2([first_id, second_id], set_labels=('company  ID', 'company  id'))\n",
    "\n",
    "\t# Отображаем график\n",
    "\tplt.title(\"Пересечение \")\n",
    "\tplt.show() \n",
    "\t\n",
    "\t\n",
    "\t  \t"
   ]
  },
  {
   "cell_type": "markdown",
   "metadata": {
    "id": "mg2gEwh0rJg0"
   },
   "source": [
    "### 1.2. Смена типов и анализ пропусков\n",
    "\n",
    "- Обработайте типы данных в столбцах, которые хранят значения даты и времени, если это необходимо.\n",
    "- Оцените полноту данных — сделайте предварительный вывод, достаточно ли данных для решения задач проекта."
   ]
  },
  {
   "cell_type": "code",
   "execution_count": 11,
   "metadata": {
    "id": "FsL0A8RBrJg1",
    "vscode": {
     "languageId": "plaintext"
    }
   },
   "outputs": [
    {
     "name": "stdout",
     "output_type": "stream",
     "text": [
      "<class 'pandas.core.frame.DataFrame'>\n",
      "RangeIndex: 9407 entries, 0 to 9406\n",
      "Data columns (total 6 columns):\n",
      " #   Column                Non-Null Count  Dtype         \n",
      "---  ------                --------------  -----         \n",
      " 0   id                    9407 non-null   int64         \n",
      " 1   acquiring_company_id  9407 non-null   int64         \n",
      " 2   acquired_company_id   9407 non-null   int64         \n",
      " 3   term_code             1831 non-null   object        \n",
      " 4   price_amount          9407 non-null   int64         \n",
      " 5   acquired_at           9378 non-null   datetime64[ns]\n",
      "dtypes: datetime64[ns](1), int64(4), object(1)\n",
      "memory usage: 441.1+ KB\n"
     ]
    }
   ],
   "source": [
    "# проведем смену типов данных в датафреймах\n",
    "df_acquisition['acquired_at'] = pd.to_datetime(df_acquisition['acquired_at'])\n",
    "df_acquisition.info()"
   ]
  },
  {
   "cell_type": "code",
   "execution_count": 12,
   "metadata": {
    "id": "46VskrGyFeJ-"
   },
   "outputs": [
    {
     "name": "stdout",
     "output_type": "stream",
     "text": [
      "<class 'pandas.core.frame.DataFrame'>\n",
      "RangeIndex: 217774 entries, 0 to 217773\n",
      "Data columns (total 22 columns):\n",
      " #   Column               Non-Null Count   Dtype         \n",
      "---  ------               --------------   -----         \n",
      " 0   company_id1          217472 non-null  Int64         \n",
      " 1   name                 217472 non-null  object        \n",
      " 2   category_code        143886 non-null  object        \n",
      " 3   status               217472 non-null  object        \n",
      " 4   founded_at           109956 non-null  datetime64[ns]\n",
      " 5   closed_at            3449 non-null    datetime64[ns]\n",
      " 6   domain               147159 non-null  object        \n",
      " 7   network_username     95534 non-null   object        \n",
      " 8   country_code         108607 non-null  object        \n",
      " 9   investment_rounds    217472 non-null  Int64         \n",
      " 10  funding_rounds       217472 non-null  Int64         \n",
      " 11  funding_total        217472 non-null  float64       \n",
      " 12  milestones           217472 non-null  Int64         \n",
      " 13  funding_round_id     52928 non-null   Int64         \n",
      " 14  company_id           52928 non-null   Int64         \n",
      " 15  funded_at            52680 non-null   datetime64[ns]\n",
      " 16  funding_round_type   52928 non-null   object        \n",
      " 17  raised_amount        52928 non-null   float64       \n",
      " 18  pre_money_valuation  52928 non-null   float64       \n",
      " 19  participants         52928 non-null   Int64         \n",
      " 20  is_first_round       52928 non-null   Int64         \n",
      " 21  is_last_round        52928 non-null   Int64         \n",
      "dtypes: Int64(9), datetime64[ns](3), float64(3), object(7)\n",
      "memory usage: 38.4+ MB\n"
     ]
    }
   ],
   "source": [
    "df_company_and_rounds[['founded_at','closed_at', 'funded_at']]= df_company_and_rounds[['founded_at','closed_at', 'funded_at']].apply(pd.to_datetime, format='%Y-%m-%d')\n",
    "df_company_and_rounds[['company_id1','investment_rounds', 'funding_rounds', 'milestones','funding_round_id', 'company_id', 'participants','is_first_round', 'is_last_round']] = df_company_and_rounds[['company_id1','investment_rounds', 'funding_rounds', 'milestones','funding_round_id', 'company_id', 'participants','is_first_round', 'is_last_round']].astype('Int64')\n",
    "df_company_and_rounds.info()"
   ]
  },
  {
   "cell_type": "markdown",
   "metadata": {},
   "source": [
    "\n",
    "<div class=\"alert alert-success\">\n",
    "<font size=\"5\"><b>Комментарий ревьюера</b></font>\n",
    "\n",
    "\n",
    "\n",
    "Успех 👍:\n",
    "\n",
    "\n",
    "\n",
    "Поработал с типами данных, используешь современные методы, здорово что знаешь о Int64\n",
    "\n",
    "\n",
    " \n",
    "    \n",
    "<div class=\"alert alert-warning\">\n",
    "\n",
    "\n",
    "\n",
    "Совет 🤔:\n",
    "\n",
    " \n",
    "\n",
    "- Второй вариант поправить - при чтении файла добавить аргумент  parse_dates = ['Столбец содержащий дату', '', ....], и данные прочтутся корректно. Советовал бы заглядывать в туториал библиотек, чтобы получить информацию какие дополнительные аргументы могут принимать тот или иной метод\n",
    "    \n",
    "    \n",
    "- Ещё можно было хитро автоматизировать приведение к нужному типу,  заметив что все столбцы которые нужно привести к типу datetime содержат \"_at\". Реализовать это можно по-разному, например использовать функцию в функций. Одна функция - это двойной цикл (Пробегается по всем датсетам а в каждом датасете по всем столбцам),  а в качестве аргумента в ней подаём другую функцию, которая в отношении столбца делает нужную операцию (Одна функция приводит к верному типу данных, другая работает со стилистикой название столбцов итп). Если не очень знакома тема функций, то ниже написал шаблончик можешь поиграться, добавив к   process_to_datetime, какие-то другие функции, которые ты хочешь применить к каждому столбцу какждого датасета - например поискать столбец в котроом содержится network_username (У нас есть такое задание)\n",
    "\t\n",
    "\t\n",
    "\n",
    "\n",
    "\t\t# код ревьюера\n",
    "\n",
    "\n",
    "\t\t# Пример функции для обработки столбца\n",
    "\t\tdef process_to_datetime(column):\n",
    "\t\t\t\"\"\"\n",
    "\t\t\tФункция, которая выполняет действия над столбцом.\n",
    "\t\t\tНапример, преобразует столбцы с '_at' в datetime.\n",
    "\t\t\t\"\"\"\n",
    "\t\t\tif '_at' in column.name:  # Проверяем, содержит ли название столбца '_at'\n",
    "\t\t\t\treturn pd.to_datetime(column)  # Преобразуем в datetime\n",
    "\t\t\treturn column  # Возвращаем столбец без изменений\n",
    "\n",
    "\t\t# Основная функция для обработки датасетов\n",
    "\t\tdef process_datasets(dataset_dict, column_processor):\n",
    "\t\t\t\"\"\"\n",
    "\t\t\tФункция, которая проходит по каждому датасету в словаре и каждому столбцу,\n",
    "\t\t\tприменяя к ним функцию column_processor.\n",
    "\t\t\t\"\"\"\n",
    "\t\t\tfor dataset_name, dataset in dataset_dict.items():  # Проходим по каждому датасету в словаре\n",
    "\t\t\t\tfor column_name in dataset.columns:  # Проходим по каждому столбцу\n",
    "\t\t\t\t\tdataset[column_name] = column_processor(dataset[column_name])  # Применяем функцию\n",
    "\t\t\treturn dataset_dict\n",
    "\n",
    "\t\t# Пример данных (создаём несколько датасетов для демонстрации)\n",
    "\t\tdata1 = pd.DataFrame({\n",
    "\t\t\t'created_at': ['2023-01-01', '2023-02-01'],\n",
    "\t\t\t'updated_at': ['2023-01-02', '2023-02-02'],\n",
    "\t\t\t'value': [10, 20]\n",
    "\t\t})\n",
    "\n",
    "\t\tdata2 = pd.DataFrame({\n",
    "\t\t\t'start_at': ['2023-03-01', '2023-04-01'],\n",
    "\t\t\t'end_at': ['2023-03-02', '2023-04-02'],\n",
    "\t\t\t'price': [100, 200]\n",
    "\t\t})\n",
    "\n",
    "\t\t# Словарь датасетов\n",
    "\t\tdataset_dict = {\n",
    "\t\t\t'dataset1': data1,\n",
    "\t\t\t'dataset2': data2\n",
    "\t\t}\n",
    "\n",
    "\t\t# Обрабатываем датасеты\n",
    "\t\tprocessed_datasets = process_datasets(dataset_dict, process_to_datetime)\n",
    "\n",
    "\t\t# Выводим результат\n",
    "\t\tfor dataset_name, dataset in processed_datasets.items():\n",
    "\t\t\tdisplay(f\"Датасет '{dataset_name}':\")\n",
    "\t\t\tdisplay(dataset)\n",
    " "
   ]
  },
  {
   "cell_type": "code",
   "execution_count": 13,
   "metadata": {
    "id": "DEg1tl8DFeBn"
   },
   "outputs": [
    {
     "name": "stdout",
     "output_type": "stream",
     "text": [
      "<class 'pandas.core.frame.DataFrame'>\n",
      "RangeIndex: 109610 entries, 0 to 109609\n",
      "Data columns (total 4 columns):\n",
      " #   Column        Non-Null Count   Dtype         \n",
      "---  ------        --------------   -----         \n",
      " 0   id            109610 non-null  int64         \n",
      " 1   person_id     109610 non-null  int64         \n",
      " 2   instituition  109555 non-null  object        \n",
      " 3   graduated_at  58054 non-null   datetime64[ns]\n",
      "dtypes: datetime64[ns](1), int64(2), object(1)\n",
      "memory usage: 3.3+ MB\n"
     ]
    }
   ],
   "source": [
    "df_education['graduated_at'] = pd.to_datetime(df_education['graduated_at'])\n",
    "df_education.info()"
   ]
  },
  {
   "cell_type": "code",
   "execution_count": 14,
   "metadata": {},
   "outputs": [
    {
     "name": "stdout",
     "output_type": "stream",
     "text": [
      "<class 'pandas.core.frame.DataFrame'>\n",
      "RangeIndex: 226709 entries, 0 to 226708\n",
      "Data columns (total 5 columns):\n",
      " #   Column            Non-Null Count   Dtype \n",
      "---  ------            --------------   ----- \n",
      " 0   id                226709 non-null  int64 \n",
      " 1   first_name        226704 non-null  object\n",
      " 2   last_name         226708 non-null  object\n",
      " 3   company_id        34615 non-null   Int64 \n",
      " 4   network_username  38867 non-null   object\n",
      "dtypes: Int64(1), int64(1), object(3)\n",
      "memory usage: 8.9+ MB\n"
     ]
    }
   ],
   "source": [
    "df_people['company_id'] = df_people['company_id'].astype('Int64')\n",
    "df_people.info()"
   ]
  },
  {
   "cell_type": "code",
   "execution_count": 15,
   "metadata": {},
   "outputs": [
    {
     "data": {
      "text/plain": [
       "'Число пропусков в датафрейме df_acquisition:'"
      ]
     },
     "metadata": {},
     "output_type": "display_data"
    },
    {
     "data": {
      "text/plain": [
       "id                         0\n",
       "acquiring_company_id       0\n",
       "acquired_company_id        0\n",
       "term_code               7576\n",
       "price_amount               0\n",
       "acquired_at               29\n",
       "dtype: int64"
      ]
     },
     "metadata": {},
     "output_type": "display_data"
    },
    {
     "data": {
      "text/plain": [
       "'--------------------------------------------------'"
      ]
     },
     "metadata": {},
     "output_type": "display_data"
    },
    {
     "data": {
      "text/plain": [
       "'Число пропусков в датафрейме df_company_and_rounds:'"
      ]
     },
     "metadata": {},
     "output_type": "display_data"
    },
    {
     "data": {
      "text/plain": [
       "company_id1               302\n",
       "name                      302\n",
       "category_code           73888\n",
       "status                    302\n",
       "founded_at             107818\n",
       "closed_at              214325\n",
       "domain                  70615\n",
       "network_username       122240\n",
       "country_code           109167\n",
       "investment_rounds         302\n",
       "funding_rounds            302\n",
       "funding_total             302\n",
       "milestones                302\n",
       "funding_round_id       164846\n",
       "company_id             164846\n",
       "funded_at              165094\n",
       "funding_round_type     164846\n",
       "raised_amount          164846\n",
       "pre_money_valuation    164846\n",
       "participants           164846\n",
       "is_first_round         164846\n",
       "is_last_round          164846\n",
       "dtype: int64"
      ]
     },
     "metadata": {},
     "output_type": "display_data"
    },
    {
     "data": {
      "text/plain": [
       "'--------------------------------------------------'"
      ]
     },
     "metadata": {},
     "output_type": "display_data"
    },
    {
     "data": {
      "text/plain": [
       "'Число пропусков в датафрейме df_education:'"
      ]
     },
     "metadata": {},
     "output_type": "display_data"
    },
    {
     "data": {
      "text/plain": [
       "id                  0\n",
       "person_id           0\n",
       "instituition       55\n",
       "graduated_at    51556\n",
       "dtype: int64"
      ]
     },
     "metadata": {},
     "output_type": "display_data"
    },
    {
     "data": {
      "text/plain": [
       "'--------------------------------------------------'"
      ]
     },
     "metadata": {},
     "output_type": "display_data"
    },
    {
     "data": {
      "text/plain": [
       "'Число пропусков в датафрейме df_people:'"
      ]
     },
     "metadata": {},
     "output_type": "display_data"
    },
    {
     "data": {
      "text/plain": [
       "id                       0\n",
       "first_name               5\n",
       "last_name                1\n",
       "company_id          192094\n",
       "network_username    187842\n",
       "dtype: int64"
      ]
     },
     "metadata": {},
     "output_type": "display_data"
    },
    {
     "data": {
      "text/plain": [
       "'--------------------------------------------------'"
      ]
     },
     "metadata": {},
     "output_type": "display_data"
    },
    {
     "data": {
      "text/plain": [
       "'Число пропусков в датафрейме df_degrees:'"
      ]
     },
     "metadata": {},
     "output_type": "display_data"
    },
    {
     "data": {
      "text/plain": [
       "id                 0\n",
       "object_id          0\n",
       "degree_type    11218\n",
       "subject        28312\n",
       "dtype: int64"
      ]
     },
     "metadata": {},
     "output_type": "display_data"
    },
    {
     "data": {
      "text/plain": [
       "'--------------------------------------------------'"
      ]
     },
     "metadata": {},
     "output_type": "display_data"
    }
   ],
   "source": [
    "# Подсчитаем число пропусков данных\n",
    "for dataset in [df_acquisition, df_company_and_rounds, df_education, df_people, df_degrees]:\n",
    "    # Получаем название датафрейма через словарь locals()\n",
    "    df_name = [name for name, value in locals().items() if value is dataset][0]\n",
    "    display(f\"Число пропусков в датафрейме {df_name}:\")\n",
    "    display(dataset.isna().sum())\n",
    "    display(\"-\" * 50)  # Разделитель между датафреймами"
   ]
  },
  {
   "cell_type": "code",
   "execution_count": 16,
   "metadata": {
    "scrolled": true
   },
   "outputs": [
    {
     "data": {
      "text/plain": [
       "'Число пропусков в датафрейме df_acquisition:'"
      ]
     },
     "metadata": {},
     "output_type": "display_data"
    },
    {
     "data": {
      "text/plain": [
       "id                      0.000000\n",
       "acquiring_company_id    0.000000\n",
       "acquired_company_id     0.000000\n",
       "term_code               0.805358\n",
       "price_amount            0.000000\n",
       "acquired_at             0.003083\n",
       "dtype: float64"
      ]
     },
     "metadata": {},
     "output_type": "display_data"
    },
    {
     "data": {
      "text/plain": [
       "'--------------------------------------------------'"
      ]
     },
     "metadata": {},
     "output_type": "display_data"
    },
    {
     "data": {
      "text/plain": [
       "'Число пропусков в датафрейме df_company_and_rounds:'"
      ]
     },
     "metadata": {},
     "output_type": "display_data"
    },
    {
     "data": {
      "text/plain": [
       "company_id1            0.001387\n",
       "name                   0.001387\n",
       "category_code          0.339288\n",
       "status                 0.001387\n",
       "founded_at             0.495091\n",
       "closed_at              0.984162\n",
       "domain                 0.324258\n",
       "network_username       0.561316\n",
       "country_code           0.501286\n",
       "investment_rounds      0.001387\n",
       "funding_rounds         0.001387\n",
       "funding_total          0.001387\n",
       "milestones             0.001387\n",
       "funding_round_id       0.756959\n",
       "company_id             0.756959\n",
       "funded_at              0.758098\n",
       "funding_round_type     0.756959\n",
       "raised_amount          0.756959\n",
       "pre_money_valuation    0.756959\n",
       "participants           0.756959\n",
       "is_first_round         0.756959\n",
       "is_last_round          0.756959\n",
       "dtype: float64"
      ]
     },
     "metadata": {},
     "output_type": "display_data"
    },
    {
     "data": {
      "text/plain": [
       "'--------------------------------------------------'"
      ]
     },
     "metadata": {},
     "output_type": "display_data"
    },
    {
     "data": {
      "text/plain": [
       "'Число пропусков в датафрейме df_education:'"
      ]
     },
     "metadata": {},
     "output_type": "display_data"
    },
    {
     "data": {
      "text/plain": [
       "id              0.000000\n",
       "person_id       0.000000\n",
       "instituition    0.000502\n",
       "graduated_at    0.470359\n",
       "dtype: float64"
      ]
     },
     "metadata": {},
     "output_type": "display_data"
    },
    {
     "data": {
      "text/plain": [
       "'--------------------------------------------------'"
      ]
     },
     "metadata": {},
     "output_type": "display_data"
    },
    {
     "data": {
      "text/plain": [
       "'Число пропусков в датафрейме df_people:'"
      ]
     },
     "metadata": {},
     "output_type": "display_data"
    },
    {
     "data": {
      "text/plain": [
       "id                  0.000000\n",
       "first_name          0.000022\n",
       "last_name           0.000004\n",
       "company_id          0.847315\n",
       "network_username    0.828560\n",
       "dtype: float64"
      ]
     },
     "metadata": {},
     "output_type": "display_data"
    },
    {
     "data": {
      "text/plain": [
       "'--------------------------------------------------'"
      ]
     },
     "metadata": {},
     "output_type": "display_data"
    },
    {
     "data": {
      "text/plain": [
       "'Число пропусков в датафрейме df_degrees:'"
      ]
     },
     "metadata": {},
     "output_type": "display_data"
    },
    {
     "data": {
      "text/plain": [
       "id             0.000000\n",
       "object_id      0.000000\n",
       "degree_type    0.102345\n",
       "subject        0.258298\n",
       "dtype: float64"
      ]
     },
     "metadata": {},
     "output_type": "display_data"
    },
    {
     "data": {
      "text/plain": [
       "'--------------------------------------------------'"
      ]
     },
     "metadata": {},
     "output_type": "display_data"
    }
   ],
   "source": [
    "# В долях\n",
    "for dataset in [df_acquisition, df_company_and_rounds, df_education, df_people, df_degrees]:\n",
    "    # Получаем название датафрейма через словарь locals()\n",
    "    df_name = [name for name, value in locals().items() if value is dataset][0]\n",
    "    display(f\"Число пропусков в датафрейме {df_name}:\")\n",
    "    display(dataset.isna().sum() / dataset.shape[0])\n",
    "    display(\"-\" * 50)  # Разделитель между датафреймами"
   ]
  },
  {
   "cell_type": "code",
   "execution_count": 17,
   "metadata": {},
   "outputs": [
    {
     "data": {
      "text/plain": [
       "'Число пропусков в датафрейме df_acquisition:'"
      ]
     },
     "metadata": {},
     "output_type": "display_data"
    },
    {
     "data": {
      "text/plain": [
       "id                       0.000000\n",
       "acquiring_company_id     0.000000\n",
       "acquired_company_id      0.000000\n",
       "term_code               80.535771\n",
       "price_amount             0.000000\n",
       "acquired_at              0.308281\n",
       "dtype: float64"
      ]
     },
     "metadata": {},
     "output_type": "display_data"
    },
    {
     "data": {
      "text/plain": [
       "'--------------------------------------------------'"
      ]
     },
     "metadata": {},
     "output_type": "display_data"
    },
    {
     "data": {
      "text/plain": [
       "'Число пропусков в датафрейме df_company_and_rounds:'"
      ]
     },
     "metadata": {},
     "output_type": "display_data"
    },
    {
     "data": {
      "text/plain": [
       "company_id1             0.138676\n",
       "name                    0.138676\n",
       "category_code          33.928752\n",
       "status                  0.138676\n",
       "founded_at             49.509124\n",
       "closed_at              98.416248\n",
       "domain                 32.425818\n",
       "network_username       56.131586\n",
       "country_code           50.128574\n",
       "investment_rounds       0.138676\n",
       "funding_rounds          0.138676\n",
       "funding_total           0.138676\n",
       "milestones              0.138676\n",
       "funding_round_id       75.695905\n",
       "company_id             75.695905\n",
       "funded_at              75.809784\n",
       "funding_round_type     75.695905\n",
       "raised_amount          75.695905\n",
       "pre_money_valuation    75.695905\n",
       "participants           75.695905\n",
       "is_first_round         75.695905\n",
       "is_last_round          75.695905\n",
       "dtype: float64"
      ]
     },
     "metadata": {},
     "output_type": "display_data"
    },
    {
     "data": {
      "text/plain": [
       "'--------------------------------------------------'"
      ]
     },
     "metadata": {},
     "output_type": "display_data"
    },
    {
     "data": {
      "text/plain": [
       "'Число пропусков в датафрейме df_education:'"
      ]
     },
     "metadata": {},
     "output_type": "display_data"
    },
    {
     "data": {
      "text/plain": [
       "id               0.000000\n",
       "person_id        0.000000\n",
       "instituition     0.050178\n",
       "graduated_at    47.035854\n",
       "dtype: float64"
      ]
     },
     "metadata": {},
     "output_type": "display_data"
    },
    {
     "data": {
      "text/plain": [
       "'--------------------------------------------------'"
      ]
     },
     "metadata": {},
     "output_type": "display_data"
    },
    {
     "data": {
      "text/plain": [
       "'Число пропусков в датафрейме df_people:'"
      ]
     },
     "metadata": {},
     "output_type": "display_data"
    },
    {
     "data": {
      "text/plain": [
       "id                   0.000000\n",
       "first_name           0.002205\n",
       "last_name            0.000441\n",
       "company_id          84.731528\n",
       "network_username    82.855996\n",
       "dtype: float64"
      ]
     },
     "metadata": {},
     "output_type": "display_data"
    },
    {
     "data": {
      "text/plain": [
       "'--------------------------------------------------'"
      ]
     },
     "metadata": {},
     "output_type": "display_data"
    },
    {
     "data": {
      "text/plain": [
       "'Число пропусков в датафрейме df_degrees:'"
      ]
     },
     "metadata": {},
     "output_type": "display_data"
    },
    {
     "data": {
      "text/plain": [
       "id              0.000000\n",
       "object_id       0.000000\n",
       "degree_type    10.234468\n",
       "subject        25.829760\n",
       "dtype: float64"
      ]
     },
     "metadata": {},
     "output_type": "display_data"
    },
    {
     "data": {
      "text/plain": [
       "'--------------------------------------------------'"
      ]
     },
     "metadata": {},
     "output_type": "display_data"
    }
   ],
   "source": [
    "# В процентах\n",
    "for dataset in [df_acquisition, df_company_and_rounds, df_education, df_people, df_degrees]:\n",
    "    # Получаем название датафрейма через словарь locals()\n",
    "    df_name = [name for name, value in locals().items() if value is dataset][0]\n",
    "    display(f\"Число пропусков в датафрейме {df_name}:\")\n",
    "    display((dataset.isna().sum() / dataset.shape[0]) * 100)\n",
    "    display(\"-\" * 50)  # Разделитель между датафреймами"
   ]
  },
  {
   "cell_type": "markdown",
   "metadata": {},
   "source": [
    "Можно сделать вывод, что данных для анализа достаточно т.к. ключевые столбцы имеют малое число пропусков(например столбец `investment_rounds` - 0.14%). Тогда как такие столбцы `network_username`(56%) хоть и имееют много пропусков не являются важными для решения нашей задачи."
   ]
  },
  {
   "cell_type": "markdown",
   "metadata": {},
   "source": [
    "\n",
    "<div class=\"alert alert-success\">\n",
    "<font size=\"5\"><b>Комментарий ревьюера</b></font>\n",
    "\n",
    "\n",
    "\n",
    "Успех 👍:\n",
    "\n",
    "\n",
    "\n",
    "- Информация о пропусках в абсолютных и относительных значениях выведена, здорово что автоматизируешь с помощью цикла\n",
    "\n",
    " \n",
    "\n",
    "       \n",
    "    \n",
    "<div class=\"alert alert-warning\">\n",
    " \n",
    "\n",
    "Совет 🤔:\n",
    "    \n",
    "     \n",
    "- Можно визуализировать пропуски с помощью библиотеки [missingno](https://www.geeksforgeeks.org/python-visualize-missing-values-nan-values-using-missingno-library/), выглядит красиво\n",
    "    \n",
    "А главное мы поймём структуру пропусков в company_and_rounds, а это важно для последнего раздела первой части. Посоветовал бы использовать  msno.matrix(),  и там бы мы увидели кластеры пропусков.   Это   мощная подсказкой для  последнего раздела первой части    \n",
    "    \n",
    "    \n",
    "Также у missingno есть дополнительный функционал\n",
    "\n",
    "    msno.heatmap(df)\n",
    "\n",
    "Так можно посмотреть на корреляцию между пропусками в разных столбцах, это может подсказать как образовались многие наши пропуски\n",
    " "
   ]
  },
  {
   "cell_type": "markdown",
   "metadata": {
    "id": "u60cHsn6rJg1"
   },
   "source": [
    "## Шаг 2. Предобработка данных, предварительное исследование"
   ]
  },
  {
   "cell_type": "markdown",
   "metadata": {
    "id": "g2bHIIjcrJg1"
   },
   "source": [
    "\n",
    "### 2.1. Раунды финансирования по годам\n",
    "\n",
    "Задание необходимо выполнить без объединения и дополнительной предобработки на основе датасета `company_and_rounds.csv`.\n",
    "\n",
    "- Составьте сводную таблицу по годам, в которой на основании столбца `raised_amount` для каждого года указан:\n",
    "    - типичный размер средств, выделяемый в рамках одного раунда;\n",
    "    - общее количество раундов финансирования за этот год.\n",
    "    \n",
    "- Оставьте в таблице информацию только для тех лет, для которых есть информация о более чем 50 раундах финансирования.\n",
    "- На основе получившейся таблицы постройте график, который будет отражать динамику типичного размера средств, которые стартапы получали в рамках одного раунда финансирования.\n",
    "\n",
    "На основе полученных данных ответьте на вопросы:\n",
    "\n",
    "- В каком году типичный размер собранных в рамках одного раунда средств был максимален?\n",
    "- Какая тенденция по количеству раундов и выделяемых в рамках каждого раунда средств наблюдалась в 2013 году?"
   ]
  },
  {
   "cell_type": "code",
   "execution_count": 18,
   "metadata": {
    "id": "Cf5IjfOQrJg1",
    "vscode": {
     "languageId": "plaintext"
    }
   },
   "outputs": [],
   "source": [
    "# Создадим содную таблицу\n",
    "summary_table = pd.pivot_table(\n",
    "    df_company_and_rounds,\n",
    "    values='raised_amount',\n",
    "    index=df_company_and_rounds['funded_at'].dt.year,\n",
    "    aggfunc={'raised_amount': ['median', 'count']})\n",
    "\n",
    "# Переименовываем столбцы\n",
    "summary_table.columns = ['round_count', 'typical_amount']\n",
    "\n",
    "# Переименовываем индекс\n",
    "summary_table.index.name = 'Year'"
   ]
  },
  {
   "cell_type": "code",
   "execution_count": 19,
   "metadata": {
    "id": "8Fbz6KmzFdYP"
   },
   "outputs": [
    {
     "data": {
      "text/html": [
       "<div>\n",
       "<style scoped>\n",
       "    .dataframe tbody tr th:only-of-type {\n",
       "        vertical-align: middle;\n",
       "    }\n",
       "\n",
       "    .dataframe tbody tr th {\n",
       "        vertical-align: top;\n",
       "    }\n",
       "\n",
       "    .dataframe thead th {\n",
       "        text-align: right;\n",
       "    }\n",
       "</style>\n",
       "<table border=\"1\" class=\"dataframe\">\n",
       "  <thead>\n",
       "    <tr style=\"text-align: right;\">\n",
       "      <th></th>\n",
       "      <th>round_count</th>\n",
       "      <th>typical_amount</th>\n",
       "    </tr>\n",
       "    <tr>\n",
       "      <th>Year</th>\n",
       "      <th></th>\n",
       "      <th></th>\n",
       "    </tr>\n",
       "  </thead>\n",
       "  <tbody>\n",
       "    <tr>\n",
       "      <th>1999.0</th>\n",
       "      <td>76</td>\n",
       "      <td>2000000.0</td>\n",
       "    </tr>\n",
       "    <tr>\n",
       "      <th>2000.0</th>\n",
       "      <td>125</td>\n",
       "      <td>4200000.0</td>\n",
       "    </tr>\n",
       "    <tr>\n",
       "      <th>2001.0</th>\n",
       "      <td>96</td>\n",
       "      <td>3000000.0</td>\n",
       "    </tr>\n",
       "    <tr>\n",
       "      <th>2002.0</th>\n",
       "      <td>116</td>\n",
       "      <td>4200000.0</td>\n",
       "    </tr>\n",
       "    <tr>\n",
       "      <th>2003.0</th>\n",
       "      <td>159</td>\n",
       "      <td>3000000.0</td>\n",
       "    </tr>\n",
       "    <tr>\n",
       "      <th>2004.0</th>\n",
       "      <td>291</td>\n",
       "      <td>5000000.0</td>\n",
       "    </tr>\n",
       "    <tr>\n",
       "      <th>2005.0</th>\n",
       "      <td>1633</td>\n",
       "      <td>5500000.0</td>\n",
       "    </tr>\n",
       "    <tr>\n",
       "      <th>2006.0</th>\n",
       "      <td>2436</td>\n",
       "      <td>5000000.0</td>\n",
       "    </tr>\n",
       "    <tr>\n",
       "      <th>2007.0</th>\n",
       "      <td>3279</td>\n",
       "      <td>3973320.0</td>\n",
       "    </tr>\n",
       "    <tr>\n",
       "      <th>2008.0</th>\n",
       "      <td>3774</td>\n",
       "      <td>3110000.0</td>\n",
       "    </tr>\n",
       "    <tr>\n",
       "      <th>2009.0</th>\n",
       "      <td>4151</td>\n",
       "      <td>2000000.0</td>\n",
       "    </tr>\n",
       "    <tr>\n",
       "      <th>2010.0</th>\n",
       "      <td>6221</td>\n",
       "      <td>1602500.0</td>\n",
       "    </tr>\n",
       "    <tr>\n",
       "      <th>2011.0</th>\n",
       "      <td>9204</td>\n",
       "      <td>1200000.0</td>\n",
       "    </tr>\n",
       "    <tr>\n",
       "      <th>2012.0</th>\n",
       "      <td>9970</td>\n",
       "      <td>1000000.0</td>\n",
       "    </tr>\n",
       "    <tr>\n",
       "      <th>2013.0</th>\n",
       "      <td>11072</td>\n",
       "      <td>1200000.0</td>\n",
       "    </tr>\n",
       "  </tbody>\n",
       "</table>\n",
       "</div>"
      ],
      "text/plain": [
       "        round_count  typical_amount\n",
       "Year                               \n",
       "1999.0           76       2000000.0\n",
       "2000.0          125       4200000.0\n",
       "2001.0           96       3000000.0\n",
       "2002.0          116       4200000.0\n",
       "2003.0          159       3000000.0\n",
       "2004.0          291       5000000.0\n",
       "2005.0         1633       5500000.0\n",
       "2006.0         2436       5000000.0\n",
       "2007.0         3279       3973320.0\n",
       "2008.0         3774       3110000.0\n",
       "2009.0         4151       2000000.0\n",
       "2010.0         6221       1602500.0\n",
       "2011.0         9204       1200000.0\n",
       "2012.0         9970       1000000.0\n",
       "2013.0        11072       1200000.0"
      ]
     },
     "metadata": {},
     "output_type": "display_data"
    }
   ],
   "source": [
    "# проведем фильтрацию и изучим результат\n",
    "filtered_table = summary_table[summary_table['round_count'] > 50]\n",
    "display(filtered_table)"
   ]
  },
  {
   "cell_type": "code",
   "execution_count": 20,
   "metadata": {
    "id": "Z92DzKMMFdKW"
   },
   "outputs": [
    {
     "data": {
      "image/png": "[encoded data removed]",
      "text/plain": [
       "<Figure size 720x432 with 1 Axes>"
      ]
     },
     "metadata": {
      "needs_background": "light"
     },
     "output_type": "display_data"
    }
   ],
   "source": [
    "# построим график\n",
    "plt.figure(figsize=(10, 6))\n",
    "plt.plot(filtered_table.index, filtered_table['typical_amount']/ 1e6, marker='o')\n",
    "plt.title('Динамика типичного размера раунда финансирования')\n",
    "plt.xlabel('Год')\n",
    "plt.ylabel('Типичный размер раунда (млн $)')\n",
    "plt.grid()\n",
    "plt.xticks(filtered_table.index, rotation=45)\n",
    "plt.show()"
   ]
  },
  {
   "cell_type": "markdown",
   "metadata": {},
   "source": [
    "Типичный размер собранных в рамках одного раунда средств был максимален в 2005 году и составил 5,5 млн. долларов. В 2013 году наблюдается максимальное число раундов финансирования(11072) и небольшое увеличение типичного размера выделяемых средств(1,2 млн.), по сравнению с предыдущим годом(1 млн.) "
   ]
  },
  {
   "cell_type": "markdown",
   "metadata": {},
   "source": [
    "     \n",
    "    \n",
    "<div class=\"alert alert-success\">\n",
    "<font size=\"5\"><b>Комментарий ревьюера</b></font>\n",
    "\n",
    "\n",
    "\n",
    "Успех 👍:\n",
    "\n",
    "\n",
    "\n",
    "- Верно что использована медиана \n",
    "  \n",
    "    \n",
    "- График получен верный.  Оформление отличное - надписи по осям, заголовок - на месте\n",
    "  \n",
    "    \n",
    "- Выводы соответствуют графику \n",
    "    \n",
    "\n",
    "    \n",
    "<div class=\"alert alert-warning\">\n",
    "\n",
    "Совет 🤔:\n",
    "\n",
    "    \n",
    " \n",
    "    \n",
    "- Можно углубить анализ связав рост числа раундов со снижение финансирования за раунд    \n",
    "    \n",
    "    \n",
    "- Когда имеем дело с временными рядами, есть такой классический инструмент как скользящая средняя. Тенденции очевидны и так, но если хочешь можешь наложить, для сглаживания     \n",
    "    \n",
    "    \n",
    "    \n",
    "- Кстати тут можно добавить коэффициент дефляции,  ведь покупательная способность одного доллара в 2000 и 2013 года разная. Такой вот экономический аспектик     \n",
    "    \n",
    "     "
   ]
  },
  {
   "cell_type": "markdown",
   "metadata": {
    "id": "45if1en1rJg2"
   },
   "source": [
    "\n",
    "### 2.2. Люди и их образование\n",
    "\n",
    "Заказчик хочет понять, зависит ли полнота сведений о сотрудниках (например, об их образовании) от размера компаний.\n",
    "\n",
    "- Оцените, насколько информация об образовании сотрудников полна. Используя датасеты `people.csv` и `education.csv`, разделите все компании на несколько групп по количеству сотрудников и оцените среднюю долю сотрудников без информации об образовании в каждой из групп. Обоснуйте выбранные границы групп.\n",
    "- Оцените, возможно ли для выполнения задания присоединить к этим таблицам ещё и таблицу `degrees.csv`."
   ]
  },
  {
   "cell_type": "code",
   "execution_count": 21,
   "metadata": {
    "id": "psPO7C4MrJg2",
    "vscode": {
     "languageId": "plaintext"
    }
   },
   "outputs": [],
   "source": [
    "# объединим таблицы\n",
    "df_p = df_people.merge(df_education, left_on='id', right_on='person_id', how='left')"
   ]
  },
  {
   "cell_type": "markdown",
   "metadata": {},
   "source": [
    "<div class=\"alert alert-success\">\n",
    "<font size=\"5\"><b>Комментарий ревьюера</b></font>\n",
    "\n",
    "\n",
    "\n",
    "Успех 👍:\n",
    "\n",
    "\n",
    "\n",
    "👍Верно\n",
    "\n",
    "\n",
    " \n",
    "\n",
    "<div class=\"alert alert-warning\">\n",
    " \n",
    "\n",
    "Совет 🤔:\n",
    "\n",
    "\n",
    "- Можно добавить suffixes = ('_people','_education'), и будет чётче видно\n",
    "    \n",
    "    \n",
    "    id_x  ---- > id_people\n",
    "    id_y  ---- > id__education\n",
    "    \n",
    "    \n",
    " \n",
    "\n",
    "- Можешь посмотреть на сотрудников company_id' == 1,  и обнаружишь там несколько раз Kevin\tFlaherty,  получается ты одного и того же человека посчитала два раза.  И в стартапе в котором на самом деле два человека Alex Weinstein и Kevin Flaherty, у тебя 3. И в результате наши данные немножко исказятся\n",
    " \n",
    " \n",
    "    \n"
   ]
  },
  {
   "cell_type": "code",
   "execution_count": 22,
   "metadata": {},
   "outputs": [
    {
     "data": {
      "text/plain": [
       "1      14150\n",
       "2       4735\n",
       "3       1857\n",
       "4        831\n",
       "5        447\n",
       "6        259\n",
       "7        161\n",
       "8        115\n",
       "9         86\n",
       "11        52\n",
       "10        51\n",
       "13        26\n",
       "12        25\n",
       "18        16\n",
       "15        14\n",
       "14        12\n",
       "16        12\n",
       "19        10\n",
       "20         9\n",
       "17         8\n",
       "25         4\n",
       "27         3\n",
       "22         3\n",
       "44         2\n",
       "39         2\n",
       "24         2\n",
       "35         2\n",
       "30         2\n",
       "34         2\n",
       "26         2\n",
       "29         2\n",
       "28         1\n",
       "221        1\n",
       "59         1\n",
       "43         1\n",
       "46         1\n",
       "71         1\n",
       "42         1\n",
       "89         1\n",
       "73         1\n",
       "376        1\n",
       "64         1\n",
       "23         1\n",
       "70         1\n",
       "21         1\n",
       "84         1\n",
       "52         1\n",
       "66         1\n",
       "192        1\n",
       "80         1\n",
       "111        1\n",
       "Name: total_employees, dtype: int64"
      ]
     },
     "execution_count": 22,
     "metadata": {},
     "output_type": "execute_result"
    }
   ],
   "source": [
    "# Подсчет общего количества сотрудников по компаниям\n",
    "company_sizes = df_p.groupby('company_id').size().reset_index(name='total_employees')\n",
    "# Чтобы определить на какие группы разделить компании посмотри распределение значений total_employees\n",
    "company_sizes['total_employees'].value_counts()"
   ]
  },
  {
   "cell_type": "code",
   "execution_count": 23,
   "metadata": {
    "id": "BThTjpLqFcsm"
   },
   "outputs": [],
   "source": [
    "# Подсчет общего количества сотрудников по компаниям\n",
    "company_sizes = df_p.groupby('company_id').size().reset_index(name='total_employees')\n",
    "\n",
    "# Определение групп компаний\n",
    "company_sizes['company_size_group'] = pd.cut(\n",
    "    company_sizes['total_employees'],\n",
    "    bins=[0, 1, 2, 3, 5, 10, 25, float('inf')],\n",
    "    labels=['1', '2', '3', '4-5', '6-10', '11-25', '26+'])"
   ]
  },
  {
   "cell_type": "markdown",
   "metadata": {},
   "source": [
    "<div class=\"alert alert-danger\">\n",
    "<font size=\"5\"><b>Комментарий ревьюера</b></font>\n",
    "\n",
    "\n",
    "\n",
    "Ошибка ❌:\n",
    "\n",
    "\n",
    "\n",
    " \n",
    "- Стоит пересмотреть группировки/bins, а так у тебя получились  корзинки с числом примеров меньше 10. \n",
    "Всё-таки стоит ориентироваться не на круглые цифры,  а на то чтобы в каждой корзине было сопоставимое количество примеров (Что в данном случае невозможно, но стремится стоит) \n",
    "    \n",
    "    \n",
    "    \n",
    "    \n",
    "<div class=\"alert alert-warning\">\n",
    "\n",
    "\n",
    "\n",
    "Совет 🤔:\n",
    "\n",
    "\n",
    "- Я бы посоветовал  построить countplot (или   глянуть  .count_values),  на котором мы бы увидели большое количество компаний с одним сотрудником и небольшое количество крупных. На основе анализа графика можно выбрать более подходящие bins\n",
    "    \n",
    " \n",
    "- Например в отдельную корзинку поместить стартапы с одним сотрудником. Для стартапов это нормально, ведь это не крупные производства, и не нужно тут искать круглые цифры.  Предложил бы такой вариант \n",
    "    \n",
    "    \n",
    "    bins   = [0, 1, 2, 3, 5, 10, 25, float('inf')],\n",
    "    labels = ['1', '2', '3', '4-5', '6-10', '11-25', '26+']\n",
    "    pd.cut(df, bins=bins, labels=labels)\n",
    "    \n",
    "     \n",
    "        \n",
    "- В качестве самой правой границы стоит использовать float('inf'), это позволит включить все возможные значения,     "
   ]
  },
  {
   "cell_type": "code",
   "execution_count": 24,
   "metadata": {
    "id": "4FC98Pd-FcmG"
   },
   "outputs": [],
   "source": [
    "# Подсчет сотрудников с информацией об образовании\n",
    "education_count = df_p.groupby('company_id').agg(\n",
    "    employees_with_education=('instituition', lambda x: x.notna().sum())\n",
    ").reset_index()\n",
    "\n",
    "# Объединение данных\n",
    "analysis = company_sizes.merge(education_count, on='company_id', how='left')\n",
    "analysis['employees_with_education'] = analysis['employees_with_education'].fillna(0)\n",
    "\n",
    "# Расчет доли сотрудников без образования\n",
    "analysis['education_missing_ratio'] = 1 - (analysis['employees_with_education'] / analysis['total_employees'])"
   ]
  },
  {
   "cell_type": "code",
   "execution_count": 25,
   "metadata": {},
   "outputs": [
    {
     "data": {
      "text/plain": [
       "'Анализ полноты данных об образовании по группам компаний:'"
      ]
     },
     "metadata": {},
     "output_type": "display_data"
    },
    {
     "data": {
      "text/html": [
       "<div>\n",
       "<style scoped>\n",
       "    .dataframe tbody tr th:only-of-type {\n",
       "        vertical-align: middle;\n",
       "    }\n",
       "\n",
       "    .dataframe tbody tr th {\n",
       "        vertical-align: top;\n",
       "    }\n",
       "\n",
       "    .dataframe thead th {\n",
       "        text-align: right;\n",
       "    }\n",
       "</style>\n",
       "<table border=\"1\" class=\"dataframe\">\n",
       "  <thead>\n",
       "    <tr style=\"text-align: right;\">\n",
       "      <th></th>\n",
       "      <th>company_size_group</th>\n",
       "      <th>average_missing_ratio</th>\n",
       "      <th>company_count</th>\n",
       "    </tr>\n",
       "  </thead>\n",
       "  <tbody>\n",
       "    <tr>\n",
       "      <th>0</th>\n",
       "      <td>1</td>\n",
       "      <td>0.59</td>\n",
       "      <td>14150</td>\n",
       "    </tr>\n",
       "    <tr>\n",
       "      <th>1</th>\n",
       "      <td>2</td>\n",
       "      <td>0.23</td>\n",
       "      <td>4735</td>\n",
       "    </tr>\n",
       "    <tr>\n",
       "      <th>2</th>\n",
       "      <td>3</td>\n",
       "      <td>0.23</td>\n",
       "      <td>1857</td>\n",
       "    </tr>\n",
       "    <tr>\n",
       "      <th>3</th>\n",
       "      <td>4-5</td>\n",
       "      <td>0.28</td>\n",
       "      <td>1278</td>\n",
       "    </tr>\n",
       "    <tr>\n",
       "      <th>4</th>\n",
       "      <td>6-10</td>\n",
       "      <td>0.31</td>\n",
       "      <td>672</td>\n",
       "    </tr>\n",
       "    <tr>\n",
       "      <th>5</th>\n",
       "      <td>11-25</td>\n",
       "      <td>0.31</td>\n",
       "      <td>195</td>\n",
       "    </tr>\n",
       "    <tr>\n",
       "      <th>6</th>\n",
       "      <td>26+</td>\n",
       "      <td>0.20</td>\n",
       "      <td>35</td>\n",
       "    </tr>\n",
       "  </tbody>\n",
       "</table>\n",
       "</div>"
      ],
      "text/plain": [
       "  company_size_group  average_missing_ratio  company_count\n",
       "0                  1                   0.59          14150\n",
       "1                  2                   0.23           4735\n",
       "2                  3                   0.23           1857\n",
       "3                4-5                   0.28           1278\n",
       "4               6-10                   0.31            672\n",
       "5              11-25                   0.31            195\n",
       "6                26+                   0.20             35"
      ]
     },
     "metadata": {},
     "output_type": "display_data"
    }
   ],
   "source": [
    "# Расчет средних показателей по группам\n",
    "result = analysis.groupby('company_size_group').agg(\n",
    "    average_missing_ratio=('education_missing_ratio', 'mean'),\n",
    "    company_count=('company_id', 'nunique')\n",
    ").reset_index()\n",
    "\n",
    "# Округление результатов\n",
    "result['average_missing_ratio'] = result['average_missing_ratio'].round(2)\n",
    "\n",
    "# Вывод результатов\n",
    "display(\"Анализ полноты данных об образовании по группам компаний:\")\n",
    "display(result)"
   ]
  },
  {
   "cell_type": "markdown",
   "metadata": {},
   "source": [
    "Ввиду большого числа компаний с малым числом сотрудников(1-10), мы разделили компании на следующие категории в зависимости от числа сотрудников:\n",
    "\n",
    "'1', '2', '3', '4-5', '6-10', '11-25', '26' \n",
    "\n",
    "Исходя из результата анализа можно сделать вывод что меньше всего информации об образовании сотрудников в компаниях с 1 сотрудником(59%).(может быть связано с неформальным ведением бизнеса)  \n",
    "\n",
    "компании с 2-5 в среднем отсутствует информация о 23-28% сотрудников(может быть связано с неформальным ведением бизнеса, а так же с низкой осведомленностью владельца о необходимости сбора таких данных).\n",
    "\n",
    "Лучшая ситуация наблюдается в крупных компаниях '26+'(20%)(в связи с наличием в крупных компаниях определнной структуры хранения и обработки данных).\n",
    "Таблицы `degrees.csv` и  `education.csv` содержат одинаковое число строк (109610), что говорит о высокой вероятности дублирования значений при присоединении. `degrees.csv` содержит более подробную информацию об образовании тех же сотрудников, что не требуется для решения нашей задачи, поэтому присоединять данную таблицу не требуется. "
   ]
  },
  {
   "cell_type": "markdown",
   "metadata": {},
   "source": [
    "<div class=\"alert alert-success\">\n",
    "<font size=\"5\"><b>Комментарий ревьюераV2</b></font>\n",
    "\n",
    "\n",
    "\n",
    "Успех 👍:\n",
    "\n",
    "\n",
    "\n",
    "👍Исправление принято\n",
    "\n",
    "\n",
    " "
   ]
  },
  {
   "cell_type": "markdown",
   "metadata": {},
   "source": [
    "<div class=\"alert alert-success\">\n",
    "<font size=\"5\"><b>Комментарий ревьюера</b></font>\n",
    "\n",
    "\n",
    "\n",
    "Успех 👍:\n",
    "\n",
    "\n",
    "\n",
    "👍\n",
    "\n",
    "\n",
    "<div class=\"alert alert-warning\">\n",
    "\n",
    "\n",
    "Совет 🤔:\n",
    "\n",
    "\n",
    "    \n",
    "    Результаты в средних(18%) и больших компаниях(19%), однако сложно сделать однозначный вывод ввиду малого числа этих компаний 12 и 2 соответственно\n",
    "    \n",
    "    \n",
    "Верно, вот поэтому и советовал пересмотреть группировку \n",
    "    \n",
    "    \n",
    "    \n",
    "     Пропусков в таблице degrees.csv больше, чем в education.csv, таким образом мы приняли решение для данной задачи не присоединять degrees.csv, чтобы избежать искажений в результатах анализа.\n",
    "    \n",
    "    \n",
    "Скорее всего бесполезность degrees Связано с тем что она уточняет тип образования, а нам в этом разделе это уточнение не принципиально     "
   ]
  },
  {
   "cell_type": "markdown",
   "metadata": {
    "id": "Lz7qjM32xglW"
   },
   "source": [
    "### 2.3. Объединять или не объединять — вот в чём вопрос\n",
    "\n",
    "Некоторые названия столбцов встречаются в датасетах чаще других. В результате предварительной проверки датасетов было выяснено, что столбец `company_id` подходит для объединения данных.\n",
    "\n",
    "- Установите, подходит ли для объединения данных столбец `network_username`, который встречается в нескольких датасетах. Нам необходимо понимать, дублируется ли для разных датасетов информация в столбцах с таким названием, и если да — то насколько часто.\n",
    "- Оцените, можно ли использовать столбцы с именем `network_username` для объединения данных."
   ]
  },
  {
   "cell_type": "code",
   "execution_count": 26,
   "metadata": {
    "id": "zyI3rt0rxg1O"
   },
   "outputs": [],
   "source": [
    "# объединим столбцы датафреймов в серию\n",
    "all_usernames = pd.concat([\n",
    "    df_people['network_username'],\n",
    "    df_company_and_rounds['network_username'],\n",
    "    df_fund['network_username']])"
   ]
  },
  {
   "cell_type": "code",
   "execution_count": 27,
   "metadata": {
    "id": "RxOS5rwmFcNW"
   },
   "outputs": [],
   "source": [
    "# Подсчитаем уникальные значения\n",
    "username_stats = all_usernames.value_counts()\n",
    "duplicate_count = (username_stats > 1).sum()\n",
    "total_usernames = len(all_usernames)\n",
    "unique_usernames = len(all_usernames.unique())"
   ]
  },
  {
   "cell_type": "markdown",
   "metadata": {},
   "source": [
    " \n",
    "<div class=\"alert alert-warning\">\n",
    "<font size=\"5\"><b>Комментарий ревьюера</b></font>\n",
    "\n",
    "\n",
    "\n",
    "Совет:\n",
    "\n",
    " \n",
    "- Советую использовать set (чтобы получить только уникальные значения), а зачем с помощью  &/.intersection посмотреть пересечения (перед тем как использовать set для network_username, лучше убрать пропуски, потому что с точки зрения set, один пропуск не равен другому пропуску, а главное - это утяжелить расчёты)   \n",
    "    \n",
    "    \n",
    "- Было бы логично перед анализом пересечений нормализовать данные    "
   ]
  },
  {
   "cell_type": "code",
   "execution_count": 28,
   "metadata": {
    "id": "_7gjdrGOFcB2"
   },
   "outputs": [
    {
     "data": {
      "text/plain": [
       "'Процент дубликатов в столбцах `network_username` 2.4%'"
      ]
     },
     "metadata": {},
     "output_type": "display_data"
    },
    {
     "data": {
      "text/plain": [
       "'Кол-во пропусков 319585'"
      ]
     },
     "metadata": {},
     "output_type": "display_data"
    },
    {
     "data": {
      "text/plain": [
       "'Процент пропусков 70.06'"
      ]
     },
     "metadata": {},
     "output_type": "display_data"
    }
   ],
   "source": [
    "# Расчитаем процент дубликатов\n",
    "duplicate_percentage = (duplicate_count / total_usernames) * 100\n",
    "\n",
    "# Рассмотрим качество данных\n",
    "username_na_count = all_usernames.isna().sum()\n",
    "username_na_percentage = (username_na_count / total_usernames) * 100\n",
    "display(f'Процент дубликатов в столбцах `network_username` {round(duplicate_percentage,2)}%')\n",
    "display(f'Кол-во пропусков {username_na_count}')\n",
    "display(f'Процент пропусков {round(username_na_percentage,2)}')"
   ]
  },
  {
   "cell_type": "markdown",
   "metadata": {},
   "source": [
    "Дублирующих значений всего 2.4%(В разных таблицах столбец `network_username` имеет разные значения, в одних информация о нике компании в сети, в других нике сотрудника). По данным столбцам имеется много пропусков(70%). Можно сделать вывод, что ввиду разных значений столбца и большого числа пропусков  `network_username` не походит для объединения таблиц."
   ]
  },
  {
   "cell_type": "markdown",
   "metadata": {},
   "source": [
    "\n",
    "<div class=\"alert alert-success\">\n",
    "<font size=\"5\"><b>Комментарий ревьюера</b></font>\n",
    "\n",
    "\n",
    "\n",
    "Успех 👍:\n",
    "\n",
    "\n",
    "\n",
    "👍  согласен с анализом, здорово что сразу обратил внимание на разных контекст\n",
    "\n",
    "\n",
    " \n",
    "<div class=\"alert alert-warning\">\n",
    "\n",
    "\n",
    "\n",
    "Совет 🤔:\n",
    "\n",
    " \n",
    "\n",
    "- Можно добавить красивую визуализацию,  для демонстрации    пересечения данных. Это можно сделать с помощью диаграммы Венна   \n",
    "    \n",
    "    \n",
    "    !pip install matplotlib-venn -q\n",
    "    from matplotlib_venn import venn2, venn3 #(venn3 - Это если сразу три кругляшка построить)\n",
    "    import matplotlib.pyplot as plt\n",
    "\n",
    "    # Строим диаграмму Венна\n",
    "    venn2([set(['user1', 'user2', 'user3', 'user4', 'user5']), set(['user3', 'user4', 'user6', 'user7'])], set_labels=('Company Users', 'Fund Users'))\n",
    "\n",
    "    # Отображаем график\n",
    "    plt.title(\"Пересечение пользователей Company Users и Fund Users\")\n",
    "    plt.show()    \n",
    "     "
   ]
  },
  {
   "cell_type": "markdown",
   "metadata": {
    "id": "EHcODomVrJg1"
   },
   "source": [
    "\n",
    "### 2.4. Проблемный датасет и причина возникновения пропусков\n",
    "\n",
    "Во время собственного анализа данных у заказчика больше всего вопросов возникло к датасету `company_and_rounds.csv`. В нём много пропусков как раз в информации о раундах, которая заказчику важна.\n",
    "\n",
    "- Любым удобным способом приведите данные в вид, который позволит в дальнейшем проводить анализ в разрезе отдельных компаний. Обратите внимание на структуру датасета, порядок и названия столбцов, проанализируйте значения.\n",
    "\n",
    "По гипотезе заказчика данные по компаниям из этой таблицы раньше хранились иначе, более удобным для исследования образом.\n",
    "\n",
    "- Максимальным образом сохраняя данные, сохранив их связность и исключив возможные возникающие при этом ошибки, подготовьте данные так, чтобы удобно было отобрать компании по параметрам и рассчитать показатели из расчёта на одну компанию без промежуточных агрегаций."
   ]
  },
  {
   "cell_type": "code",
   "execution_count": 29,
   "metadata": {
    "id": "oSk7xqu_FbaN"
   },
   "outputs": [
    {
     "data": {
      "text/html": [
       "<style  type=\"text/css\" >\n",
       "#T_e9022_row0_col0,#T_e9022_row0_col1{\n",
       "            background-color:  #b40426;\n",
       "            color:  #f1f1f1;\n",
       "        }#T_e9022_row1_col0,#T_e9022_row1_col1{\n",
       "            background-color:  #f29072;\n",
       "            color:  #000000;\n",
       "        }#T_e9022_row2_col0,#T_e9022_row2_col1,#T_e9022_row3_col0,#T_e9022_row3_col1,#T_e9022_row4_col0,#T_e9022_row4_col1,#T_e9022_row5_col0,#T_e9022_row5_col1,#T_e9022_row6_col0,#T_e9022_row6_col1,#T_e9022_row7_col0,#T_e9022_row7_col1,#T_e9022_row8_col0,#T_e9022_row8_col1,#T_e9022_row9_col0,#T_e9022_row9_col1{\n",
       "            background-color:  #f29274;\n",
       "            color:  #000000;\n",
       "        }#T_e9022_row10_col0,#T_e9022_row10_col1{\n",
       "            background-color:  #edd2c3;\n",
       "            color:  #000000;\n",
       "        }#T_e9022_row11_col0,#T_e9022_row11_col1{\n",
       "            background-color:  #dfdbd9;\n",
       "            color:  #000000;\n",
       "        }#T_e9022_row12_col0,#T_e9022_row12_col1{\n",
       "            background-color:  #dddcdc;\n",
       "            color:  #000000;\n",
       "        }#T_e9022_row13_col0,#T_e9022_row13_col1{\n",
       "            background-color:  #aec9fc;\n",
       "            color:  #000000;\n",
       "        }#T_e9022_row14_col0,#T_e9022_row14_col1{\n",
       "            background-color:  #a9c6fd;\n",
       "            color:  #000000;\n",
       "        }#T_e9022_row15_col0,#T_e9022_row15_col1,#T_e9022_row16_col0,#T_e9022_row16_col1,#T_e9022_row17_col0,#T_e9022_row17_col1,#T_e9022_row18_col0,#T_e9022_row18_col1,#T_e9022_row19_col0,#T_e9022_row19_col1,#T_e9022_row20_col0,#T_e9022_row20_col1,#T_e9022_row21_col0,#T_e9022_row21_col1{\n",
       "            background-color:  #3b4cc0;\n",
       "            color:  #f1f1f1;\n",
       "        }</style><table id=\"T_e9022_\" ><thead>    <tr>        <th class=\"blank level0\" ></th>        <th class=\"col_heading level0 col0\" >Кол-во пропусков</th>        <th class=\"col_heading level0 col1\" >Доля пропусков</th>    </tr></thead><tbody>\n",
       "                <tr>\n",
       "                        <th id=\"T_e9022_level0_row0\" class=\"row_heading level0 row0\" >closed_at</th>\n",
       "                        <td id=\"T_e9022_row0_col0\" class=\"data row0 col0\" >214325</td>\n",
       "                        <td id=\"T_e9022_row0_col1\" class=\"data row0 col1\" >98.416248</td>\n",
       "            </tr>\n",
       "            <tr>\n",
       "                        <th id=\"T_e9022_level0_row1\" class=\"row_heading level0 row1\" >funded_at</th>\n",
       "                        <td id=\"T_e9022_row1_col0\" class=\"data row1 col0\" >165094</td>\n",
       "                        <td id=\"T_e9022_row1_col1\" class=\"data row1 col1\" >75.809784</td>\n",
       "            </tr>\n",
       "            <tr>\n",
       "                        <th id=\"T_e9022_level0_row2\" class=\"row_heading level0 row2\" >is_last_round</th>\n",
       "                        <td id=\"T_e9022_row2_col0\" class=\"data row2 col0\" >164846</td>\n",
       "                        <td id=\"T_e9022_row2_col1\" class=\"data row2 col1\" >75.695905</td>\n",
       "            </tr>\n",
       "            <tr>\n",
       "                        <th id=\"T_e9022_level0_row3\" class=\"row_heading level0 row3\" >is_first_round</th>\n",
       "                        <td id=\"T_e9022_row3_col0\" class=\"data row3 col0\" >164846</td>\n",
       "                        <td id=\"T_e9022_row3_col1\" class=\"data row3 col1\" >75.695905</td>\n",
       "            </tr>\n",
       "            <tr>\n",
       "                        <th id=\"T_e9022_level0_row4\" class=\"row_heading level0 row4\" >participants</th>\n",
       "                        <td id=\"T_e9022_row4_col0\" class=\"data row4 col0\" >164846</td>\n",
       "                        <td id=\"T_e9022_row4_col1\" class=\"data row4 col1\" >75.695905</td>\n",
       "            </tr>\n",
       "            <tr>\n",
       "                        <th id=\"T_e9022_level0_row5\" class=\"row_heading level0 row5\" >pre_money_valuation</th>\n",
       "                        <td id=\"T_e9022_row5_col0\" class=\"data row5 col0\" >164846</td>\n",
       "                        <td id=\"T_e9022_row5_col1\" class=\"data row5 col1\" >75.695905</td>\n",
       "            </tr>\n",
       "            <tr>\n",
       "                        <th id=\"T_e9022_level0_row6\" class=\"row_heading level0 row6\" >raised_amount</th>\n",
       "                        <td id=\"T_e9022_row6_col0\" class=\"data row6 col0\" >164846</td>\n",
       "                        <td id=\"T_e9022_row6_col1\" class=\"data row6 col1\" >75.695905</td>\n",
       "            </tr>\n",
       "            <tr>\n",
       "                        <th id=\"T_e9022_level0_row7\" class=\"row_heading level0 row7\" >funding_round_type</th>\n",
       "                        <td id=\"T_e9022_row7_col0\" class=\"data row7 col0\" >164846</td>\n",
       "                        <td id=\"T_e9022_row7_col1\" class=\"data row7 col1\" >75.695905</td>\n",
       "            </tr>\n",
       "            <tr>\n",
       "                        <th id=\"T_e9022_level0_row8\" class=\"row_heading level0 row8\" >funding_round_id</th>\n",
       "                        <td id=\"T_e9022_row8_col0\" class=\"data row8 col0\" >164846</td>\n",
       "                        <td id=\"T_e9022_row8_col1\" class=\"data row8 col1\" >75.695905</td>\n",
       "            </tr>\n",
       "            <tr>\n",
       "                        <th id=\"T_e9022_level0_row9\" class=\"row_heading level0 row9\" >company_id</th>\n",
       "                        <td id=\"T_e9022_row9_col0\" class=\"data row9 col0\" >164846</td>\n",
       "                        <td id=\"T_e9022_row9_col1\" class=\"data row9 col1\" >75.695905</td>\n",
       "            </tr>\n",
       "            <tr>\n",
       "                        <th id=\"T_e9022_level0_row10\" class=\"row_heading level0 row10\" >network_username</th>\n",
       "                        <td id=\"T_e9022_row10_col0\" class=\"data row10 col0\" >122240</td>\n",
       "                        <td id=\"T_e9022_row10_col1\" class=\"data row10 col1\" >56.131586</td>\n",
       "            </tr>\n",
       "            <tr>\n",
       "                        <th id=\"T_e9022_level0_row11\" class=\"row_heading level0 row11\" >country_code</th>\n",
       "                        <td id=\"T_e9022_row11_col0\" class=\"data row11 col0\" >109167</td>\n",
       "                        <td id=\"T_e9022_row11_col1\" class=\"data row11 col1\" >50.128574</td>\n",
       "            </tr>\n",
       "            <tr>\n",
       "                        <th id=\"T_e9022_level0_row12\" class=\"row_heading level0 row12\" >founded_at</th>\n",
       "                        <td id=\"T_e9022_row12_col0\" class=\"data row12 col0\" >107818</td>\n",
       "                        <td id=\"T_e9022_row12_col1\" class=\"data row12 col1\" >49.509124</td>\n",
       "            </tr>\n",
       "            <tr>\n",
       "                        <th id=\"T_e9022_level0_row13\" class=\"row_heading level0 row13\" >category_code</th>\n",
       "                        <td id=\"T_e9022_row13_col0\" class=\"data row13 col0\" >73888</td>\n",
       "                        <td id=\"T_e9022_row13_col1\" class=\"data row13 col1\" >33.928752</td>\n",
       "            </tr>\n",
       "            <tr>\n",
       "                        <th id=\"T_e9022_level0_row14\" class=\"row_heading level0 row14\" >domain</th>\n",
       "                        <td id=\"T_e9022_row14_col0\" class=\"data row14 col0\" >70615</td>\n",
       "                        <td id=\"T_e9022_row14_col1\" class=\"data row14 col1\" >32.425818</td>\n",
       "            </tr>\n",
       "            <tr>\n",
       "                        <th id=\"T_e9022_level0_row15\" class=\"row_heading level0 row15\" >company_id1</th>\n",
       "                        <td id=\"T_e9022_row15_col0\" class=\"data row15 col0\" >302</td>\n",
       "                        <td id=\"T_e9022_row15_col1\" class=\"data row15 col1\" >0.138676</td>\n",
       "            </tr>\n",
       "            <tr>\n",
       "                        <th id=\"T_e9022_level0_row16\" class=\"row_heading level0 row16\" >milestones</th>\n",
       "                        <td id=\"T_e9022_row16_col0\" class=\"data row16 col0\" >302</td>\n",
       "                        <td id=\"T_e9022_row16_col1\" class=\"data row16 col1\" >0.138676</td>\n",
       "            </tr>\n",
       "            <tr>\n",
       "                        <th id=\"T_e9022_level0_row17\" class=\"row_heading level0 row17\" >name</th>\n",
       "                        <td id=\"T_e9022_row17_col0\" class=\"data row17 col0\" >302</td>\n",
       "                        <td id=\"T_e9022_row17_col1\" class=\"data row17 col1\" >0.138676</td>\n",
       "            </tr>\n",
       "            <tr>\n",
       "                        <th id=\"T_e9022_level0_row18\" class=\"row_heading level0 row18\" >funding_rounds</th>\n",
       "                        <td id=\"T_e9022_row18_col0\" class=\"data row18 col0\" >302</td>\n",
       "                        <td id=\"T_e9022_row18_col1\" class=\"data row18 col1\" >0.138676</td>\n",
       "            </tr>\n",
       "            <tr>\n",
       "                        <th id=\"T_e9022_level0_row19\" class=\"row_heading level0 row19\" >investment_rounds</th>\n",
       "                        <td id=\"T_e9022_row19_col0\" class=\"data row19 col0\" >302</td>\n",
       "                        <td id=\"T_e9022_row19_col1\" class=\"data row19 col1\" >0.138676</td>\n",
       "            </tr>\n",
       "            <tr>\n",
       "                        <th id=\"T_e9022_level0_row20\" class=\"row_heading level0 row20\" >status</th>\n",
       "                        <td id=\"T_e9022_row20_col0\" class=\"data row20 col0\" >302</td>\n",
       "                        <td id=\"T_e9022_row20_col1\" class=\"data row20 col1\" >0.138676</td>\n",
       "            </tr>\n",
       "            <tr>\n",
       "                        <th id=\"T_e9022_level0_row21\" class=\"row_heading level0 row21\" >funding_total</th>\n",
       "                        <td id=\"T_e9022_row21_col0\" class=\"data row21 col0\" >302</td>\n",
       "                        <td id=\"T_e9022_row21_col1\" class=\"data row21 col1\" >0.138676</td>\n",
       "            </tr>\n",
       "    </tbody></table>"
      ],
      "text/plain": [
       "<pandas.io.formats.style.Styler at 0x7fb271d94c40>"
      ]
     },
     "execution_count": 29,
     "metadata": {},
     "output_type": "execute_result"
    }
   ],
   "source": [
    "# Изучим пропуски в датасете company_and_rounds\n",
    "(pd.DataFrame({'Кол-во пропусков': df_company_and_rounds.isnull().sum(), 'Доля пропусков': df_company_and_rounds.isnull().mean()*100})\n",
    "           .sort_values(by='Кол-во пропусков', ascending=False)\n",
    "           .style.background_gradient(cmap='coolwarm'))"
   ]
  },
  {
   "cell_type": "code",
   "execution_count": 30,
   "metadata": {},
   "outputs": [],
   "source": [
    "# создадим копию датафрейма\n",
    "df_company = df_company_and_rounds.copy()\n",
    "# удалим пропуски в столбце company_id1 \n",
    "df = df_company.dropna(subset=['company_id1'])"
   ]
  },
  {
   "cell_type": "code",
   "execution_count": 31,
   "metadata": {},
   "outputs": [
    {
     "name": "stdout",
     "output_type": "stream",
     "text": [
      "<class 'pandas.core.frame.DataFrame'>\n",
      "RangeIndex: 217774 entries, 0 to 217773\n",
      "Data columns (total 13 columns):\n",
      " #   Column             Non-Null Count   Dtype         \n",
      "---  ------             --------------   -----         \n",
      " 0   company_id1        217472 non-null  Int64         \n",
      " 1   name               217472 non-null  object        \n",
      " 2   category_code      143886 non-null  object        \n",
      " 3   status             217472 non-null  object        \n",
      " 4   founded_at         109956 non-null  datetime64[ns]\n",
      " 5   closed_at          3449 non-null    datetime64[ns]\n",
      " 6   domain             147159 non-null  object        \n",
      " 7   network_username   95534 non-null   object        \n",
      " 8   country_code       108607 non-null  object        \n",
      " 9   investment_rounds  217472 non-null  Int64         \n",
      " 10  funding_rounds     217472 non-null  Int64         \n",
      " 11  funding_total      217472 non-null  float64       \n",
      " 12  milestones         217472 non-null  Int64         \n",
      "dtypes: Int64(4), datetime64[ns](2), float64(1), object(6)\n",
      "memory usage: 22.4+ MB\n",
      "<class 'pandas.core.frame.DataFrame'>\n",
      "RangeIndex: 217774 entries, 0 to 217773\n",
      "Data columns (total 9 columns):\n",
      " #   Column               Non-Null Count  Dtype         \n",
      "---  ------               --------------  -----         \n",
      " 0   company_id           52928 non-null  Int64         \n",
      " 1   funding_round_id     52928 non-null  Int64         \n",
      " 2   funded_at            52680 non-null  datetime64[ns]\n",
      " 3   funding_round_type   52928 non-null  object        \n",
      " 4   raised_amount        52928 non-null  float64       \n",
      " 5   pre_money_valuation  52928 non-null  float64       \n",
      " 6   participants         52928 non-null  Int64         \n",
      " 7   is_first_round       52928 non-null  Int64         \n",
      " 8   is_last_round        52928 non-null  Int64         \n",
      "dtypes: Int64(5), datetime64[ns](1), float64(2), object(1)\n",
      "memory usage: 16.0+ MB\n"
     ]
    }
   ],
   "source": [
    "# для удобства работы разделим таблицы на две с данными о компаниях и раундах финансирования\n",
    "company_info = df_company[['company_id1', 'name', 'category_code', 'status', 'founded_at', 'closed_at', \n",
    "                  'domain', 'network_username', 'country_code', 'investment_rounds', \n",
    "                  'funding_rounds', 'funding_total', 'milestones']]\n",
    "funding_rounds = df_company[['company_id', 'funding_round_id', 'funded_at', 'funding_round_type', \n",
    "                    'raised_amount', 'pre_money_valuation', 'participants', \n",
    "                    'is_first_round', 'is_last_round']]\n",
    "# посмотрим результат\n",
    "company_info.info()\n",
    "funding_rounds.info()"
   ]
  },
  {
   "cell_type": "code",
   "execution_count": 32,
   "metadata": {
    "id": "9BY9lTUcFbJ-"
   },
   "outputs": [
    {
     "data": {
      "text/plain": [
       "21220"
      ]
     },
     "execution_count": 32,
     "metadata": {},
     "output_type": "execute_result"
    }
   ],
   "source": [
    "# проверим полные дубликаты в таблице company_info\n",
    "company_info.duplicated().sum()"
   ]
  },
  {
   "cell_type": "code",
   "execution_count": 33,
   "metadata": {
    "id": "tJ6Sl6MKrJg1",
    "vscode": {
     "languageId": "plaintext"
    }
   },
   "outputs": [
    {
     "data": {
      "text/plain": [
       "'строк до удаления 217774'"
      ]
     },
     "metadata": {},
     "output_type": "display_data"
    },
    {
     "data": {
      "text/plain": [
       "'строк после удаления 196554'"
      ]
     },
     "metadata": {},
     "output_type": "display_data"
    },
    {
     "data": {
      "text/plain": [
       "'удалено 21220'"
      ]
     },
     "metadata": {},
     "output_type": "display_data"
    }
   ],
   "source": [
    "# удалим полные дубликаты\n",
    "df_clean_company = company_info.copy()\n",
    "df_clean_company = df_clean_company.drop_duplicates()\n",
    "display(f'строк до удаления {company_info.shape[0]}')\n",
    "display(f'строк после удаления {df_clean_company.shape[0]}')\n",
    "display(f'удалено {company_info.shape[0] - df_clean_company.shape[0]}')"
   ]
  },
  {
   "cell_type": "code",
   "execution_count": 34,
   "metadata": {},
   "outputs": [
    {
     "data": {
      "text/html": [
       "<style  type=\"text/css\" >\n",
       "#T_c84a9_row0_col0,#T_c84a9_row0_col1{\n",
       "            background-color:  #b40426;\n",
       "            color:  #f1f1f1;\n",
       "        }#T_c84a9_row1_col0,#T_c84a9_row1_col1{\n",
       "            background-color:  #f2cbb7;\n",
       "            color:  #000000;\n",
       "        }#T_c84a9_row2_col0,#T_c84a9_row2_col1{\n",
       "            background-color:  #ebd3c6;\n",
       "            color:  #000000;\n",
       "        }#T_c84a9_row3_col0,#T_c84a9_row3_col1{\n",
       "            background-color:  #e8d6cc;\n",
       "            color:  #000000;\n",
       "        }#T_c84a9_row4_col0,#T_c84a9_row4_col1{\n",
       "            background-color:  #b9d0f9;\n",
       "            color:  #000000;\n",
       "        }#T_c84a9_row5_col0,#T_c84a9_row5_col1{\n",
       "            background-color:  #b3cdfb;\n",
       "            color:  #000000;\n",
       "        }#T_c84a9_row6_col0,#T_c84a9_row6_col1,#T_c84a9_row7_col0,#T_c84a9_row7_col1,#T_c84a9_row8_col0,#T_c84a9_row8_col1,#T_c84a9_row9_col0,#T_c84a9_row9_col1,#T_c84a9_row10_col0,#T_c84a9_row10_col1,#T_c84a9_row11_col0,#T_c84a9_row11_col1,#T_c84a9_row12_col0,#T_c84a9_row12_col1{\n",
       "            background-color:  #3b4cc0;\n",
       "            color:  #f1f1f1;\n",
       "        }</style><table id=\"T_c84a9_\" ><thead>    <tr>        <th class=\"blank level0\" ></th>        <th class=\"col_heading level0 col0\" >Кол-во пропусков</th>        <th class=\"col_heading level0 col1\" >Доля пропусков</th>    </tr></thead><tbody>\n",
       "                <tr>\n",
       "                        <th id=\"T_c84a9_level0_row0\" class=\"row_heading level0 row0\" >closed_at</th>\n",
       "                        <td id=\"T_c84a9_row0_col0\" class=\"data row0 col0\" >193934</td>\n",
       "                        <td id=\"T_c84a9_row0_col1\" class=\"data row0 col1\" >98.667033</td>\n",
       "            </tr>\n",
       "            <tr>\n",
       "                        <th id=\"T_c84a9_level0_row1\" class=\"row_heading level0 row1\" >network_username</th>\n",
       "                        <td id=\"T_c84a9_row1_col0\" class=\"data row1 col0\" >115963</td>\n",
       "                        <td id=\"T_c84a9_row1_col1\" class=\"data row1 col1\" >58.998036</td>\n",
       "            </tr>\n",
       "            <tr>\n",
       "                        <th id=\"T_c84a9_level0_row2\" class=\"row_heading level0 row2\" >country_code</th>\n",
       "                        <td id=\"T_c84a9_row2_col0\" class=\"data row2 col0\" >108564</td>\n",
       "                        <td id=\"T_c84a9_row2_col1\" class=\"data row2 col1\" >55.233676</td>\n",
       "            </tr>\n",
       "            <tr>\n",
       "                        <th id=\"T_c84a9_level0_row3\" class=\"row_heading level0 row3\" >founded_at</th>\n",
       "                        <td id=\"T_c84a9_row3_col0\" class=\"data row3 col0\" >105327</td>\n",
       "                        <td id=\"T_c84a9_row3_col1\" class=\"data row3 col1\" >53.586801</td>\n",
       "            </tr>\n",
       "            <tr>\n",
       "                        <th id=\"T_c84a9_level0_row4\" class=\"row_heading level0 row4\" >category_code</th>\n",
       "                        <td id=\"T_c84a9_row4_col0\" class=\"data row4 col0\" >73368</td>\n",
       "                        <td id=\"T_c84a9_row4_col1\" class=\"data row4 col1\" >37.327147</td>\n",
       "            </tr>\n",
       "            <tr>\n",
       "                        <th id=\"T_c84a9_level0_row5\" class=\"row_heading level0 row5\" >domain</th>\n",
       "                        <td id=\"T_c84a9_row5_col0\" class=\"data row5 col0\" >70009</td>\n",
       "                        <td id=\"T_c84a9_row5_col1\" class=\"data row5 col1\" >35.618202</td>\n",
       "            </tr>\n",
       "            <tr>\n",
       "                        <th id=\"T_c84a9_level0_row6\" class=\"row_heading level0 row6\" >company_id1</th>\n",
       "                        <td id=\"T_c84a9_row6_col0\" class=\"data row6 col0\" >1</td>\n",
       "                        <td id=\"T_c84a9_row6_col1\" class=\"data row6 col1\" >0.000509</td>\n",
       "            </tr>\n",
       "            <tr>\n",
       "                        <th id=\"T_c84a9_level0_row7\" class=\"row_heading level0 row7\" >name</th>\n",
       "                        <td id=\"T_c84a9_row7_col0\" class=\"data row7 col0\" >1</td>\n",
       "                        <td id=\"T_c84a9_row7_col1\" class=\"data row7 col1\" >0.000509</td>\n",
       "            </tr>\n",
       "            <tr>\n",
       "                        <th id=\"T_c84a9_level0_row8\" class=\"row_heading level0 row8\" >status</th>\n",
       "                        <td id=\"T_c84a9_row8_col0\" class=\"data row8 col0\" >1</td>\n",
       "                        <td id=\"T_c84a9_row8_col1\" class=\"data row8 col1\" >0.000509</td>\n",
       "            </tr>\n",
       "            <tr>\n",
       "                        <th id=\"T_c84a9_level0_row9\" class=\"row_heading level0 row9\" >investment_rounds</th>\n",
       "                        <td id=\"T_c84a9_row9_col0\" class=\"data row9 col0\" >1</td>\n",
       "                        <td id=\"T_c84a9_row9_col1\" class=\"data row9 col1\" >0.000509</td>\n",
       "            </tr>\n",
       "            <tr>\n",
       "                        <th id=\"T_c84a9_level0_row10\" class=\"row_heading level0 row10\" >funding_rounds</th>\n",
       "                        <td id=\"T_c84a9_row10_col0\" class=\"data row10 col0\" >1</td>\n",
       "                        <td id=\"T_c84a9_row10_col1\" class=\"data row10 col1\" >0.000509</td>\n",
       "            </tr>\n",
       "            <tr>\n",
       "                        <th id=\"T_c84a9_level0_row11\" class=\"row_heading level0 row11\" >funding_total</th>\n",
       "                        <td id=\"T_c84a9_row11_col0\" class=\"data row11 col0\" >1</td>\n",
       "                        <td id=\"T_c84a9_row11_col1\" class=\"data row11 col1\" >0.000509</td>\n",
       "            </tr>\n",
       "            <tr>\n",
       "                        <th id=\"T_c84a9_level0_row12\" class=\"row_heading level0 row12\" >milestones</th>\n",
       "                        <td id=\"T_c84a9_row12_col0\" class=\"data row12 col0\" >1</td>\n",
       "                        <td id=\"T_c84a9_row12_col1\" class=\"data row12 col1\" >0.000509</td>\n",
       "            </tr>\n",
       "    </tbody></table>"
      ],
      "text/plain": [
       "<pandas.io.formats.style.Styler at 0x7fb274c00d90>"
      ]
     },
     "execution_count": 34,
     "metadata": {},
     "output_type": "execute_result"
    }
   ],
   "source": [
    "# проверим результат обработки\n",
    "(pd.DataFrame({'Кол-во пропусков': df_clean_company.isnull().sum(), 'Доля пропусков': df_clean_company.isnull().mean()*100})\n",
    "           .sort_values(by='Кол-во пропусков', ascending=False)\n",
    "           .style.background_gradient(cmap='coolwarm'))"
   ]
  },
  {
   "cell_type": "markdown",
   "metadata": {},
   "source": [
    "Мы провели обработку данных. Для получения информации в разрезе компаний мы разделили исходную таблицу на две:\n",
    "- `company_info` - с информацией о компаниях\n",
    "- `funding_rounds` - с информацией о раундах финансирования.\n",
    "\n",
    "Далее  мы удалили дубликаты компаний в таблице `company_info`(20919 дубликатов) и получили таблицу `df_clean_company` которая содержит 196553 уникальных компаний. Данную таблицу мы будем использовать для решения наших задач."
   ]
  },
  {
   "cell_type": "markdown",
   "metadata": {},
   "source": [
    "<div class=\"alert alert-danger\">\n",
    "<font size=\"5\"><b>Комментарий ревьюера</b></font>\n",
    "\n",
    "\n",
    "\n",
    "Ошибка ❌:\n",
    "\n",
    "\n",
    "Давай проанализируем задание:\n",
    "    \n",
    "    \n",
    "    Любым удобным способом приведите данные в вид, который позволяет проводить анализ в разрезе отдельных компаний. Можно изменять форму данных, порядок их хранения. Обратите внимание на структуру датасета, порядок и названия столбцов, проанализируйте значения.\n",
    "    \n",
    "    \n",
    "- Это значит одна компания должна занимать одну строчку. Давай посмотрим первые три строчки, у тебя их занимает компания Wetpaint, а что мешает схлопнуть её в одну? Правильно, потому что некоторые столбцы содержат разную информацию по этой компании, например raised_amount, поэтому просто схлопнуть с помощью drop_duplicated не получится     \n",
    "    \n",
    "    \n",
    "    \n",
    "    Максимальным образом сохраняя данные, сохранив их связность и исключив возможные возникающие при этом ошибки, подготовьте данные так, чтобы удобно было отобрать компании по параметрам и рассчитать показатели из расчёта на одну компанию.\n",
    "\n",
    "    \n",
    "    \n",
    "- Подскажу, по итогу мы должны получить датасет с около 196К строк (примерно столько у нас уникальных id_company) \n",
    "    \n",
    "  \n",
    "    \n",
    "    \n",
    "<div class=\"alert alert-warning\">\n",
    " \n",
    "\n",
    "\n",
    "Совет:\n",
    "\n",
    "    \n",
    "Есть два решения    \n",
    "    \n",
    "    \n",
    "    \n",
    "- Можно заняться агрегированием и схлопнуть три разные строчки  у Wetpaint (Первый три точки срочки в исходном датасете занимает эта компания) в raised_amount в одну, по какому то агрегатору (sum, count, first, unique, min...).   Но для этого нужно разобраться что такое raised_amount. Так по каждому столбцу который не позволяет нам схлопнуть 3 строчки Wetpaint в одну. А может там вообще не нужен столбец  raised_amount?...И тут мы подходим ко второму решению  \n",
    "    \n",
    "\n",
    "- Но самом деле есть вариант проще, и в проекте у нас есть прямые подсказки на это решение (можешь их найти самостоятельно, их примерно 8-9). \n",
    "\n",
    "Эти подсказки указывают что company_rounds была получена в результате объединения двух меньших табличек.  До этого мы из двух и более табличек делали одну, а тут попробуем сделать наоборот. В одной  соберём информацию о компании, в другой о раундах (с учетом столбцов которые нам понадобятся ниже). А так как столбцов в табличках у нас станет меньше, то эта операция позволит   сократить количество строк, убрав полные дубликаты. И вот у нас готовые таблички для дальнейшего анализа - табличка размером в примерно 200К строк, где каждая строка это 1 компания, а столбцы содержат только нужныю информацию. Дальше мы сможем по company_id добавлять к этой табличке информацию из других тибличек. Видишь как будет удобно \n",
    "    \n",
    "    \n",
    "    \n",
    "    \n"
   ]
  },
  {
   "cell_type": "markdown",
   "metadata": {},
   "source": [
    "<div class=\"alert alert-info\">\n",
    "<font size=\"5\"><b>Комментарий ревьюера</b></font>\n",
    "\n",
    "    \n",
    "Константин, у тебя старательно выполненная работа, всё чётко, осмысленно. Выводы присутствуют, они чёткие и подробные, графики оформлены аккуратно  \n",
    "\n",
    "    \n",
    "Нет проблем с комментированием кода, тем, кто будет работать с твоим кодом, будет понятен ход твоих мыслей и логика  \n",
    " \n",
    "Использовал оптимальные методы  \n",
    " \n",
    "Помнишь о стилистике  \n",
    " \n",
    "    \n",
    "Я оставил небольшие советы и вопросы (если есть время и желание, можешь воспользоваться/ответить) \n",
    "    \n",
    "    \n",
    "**Обязательное к исправлению**:  \n",
    "\n",
    "     \n",
    "    \n",
    "    \n",
    "- Нет обоснования и контроля, насколько удачными оказались выбранные bins  \n",
    " \n",
    "\n",
    "    \n",
    "- Мы должны получить финальный датасет в котором одна строка - одна компания. Поэтому предлагаю сделать операцию, обратную объединению, — разбить одну таблицу на две, затем взять одну и, убрав полные дубликаты, получить удобную таблицу, где каждая компания будет занимать только одну строку (как нас и просят в задании). Вот с ней и будем работать (но если хочешь можешь конечно провести агрегацию, но это ненужное осложнение) \n",
    "\n",
    "    \n",
    " \n",
    "    \n",
    "Исправляем ошибки, и можешь приступать к исследовательскому анализу  \n",
    "\n",
    "<div class=\"alert alert-warning\">\n",
    "\n",
    "Совет 🤔:\n",
    "\n",
    "    \n",
    "    \n",
    "И так как многие студенты ошибаются в трактовке (и пишут анализ не по тому датасету), сразу хочу указать для 1 пункта во второй части на подсказку в брифе: результатом \"Объединение данных\" должна быть таблица с 40.000 примеров (``funding_rounds`` > 0 ИЛИ ``investment_rounds`` > 0 ИЛИ ``status`` == acquired)  \n",
    "\n",
    "    \n",
    "    \n",
    "А также обрати внимание в брифе: \"Далее работайте только с этими данными\".  \n",
    "\n",
    "    \n",
    "Это как раз об этом сорокатысячнике. Пишу, чтобы не оказалось, что будут сделаны выводы совсем по другому датасету"
   ]
  },
  {
   "cell_type": "markdown",
   "metadata": {
    "id": "bmVYhphNrJg2"
   },
   "source": [
    "\n",
    "## Шаг 3. Исследовательский анализ объединённых таблиц\n",
    "\n",
    "> Приступите к шагу 3 после проверки ревьюера.\n",
    "\n",
    "<big>Студентам нужно чётко сказать - проверять дальше или не проверять.</big>"
   ]
  },
  {
   "cell_type": "markdown",
   "metadata": {
    "id": "3Di6tCT3rJg2"
   },
   "source": [
    "\n",
    "### 3.1. Объединение данных\n",
    "\n",
    "Объедините данные для ответа на вопросы заказчика, которые касаются интересующих его компаний. Заказчика прежде всего интересуют те компании, которые меняли или готовы менять владельцев. Получение инвестиций или финансирования, по мнению заказчика, означает интерес к покупке или продаже компании.\n",
    "\n",
    "В качестве основы для объединённой таблицы возьмите данные из обработанного датасета `company_and_rounds.csv` — выберите только те компании, у которых указаны значения `funding_rounds` или `investment_rounds` больше нуля, или те, у которых в колонке `status` указано `acquired`. В результирующей таблице должно получиться порядка 40 тысяч компаний.\n",
    "\n",
    "Проверьте полноту и корректность получившейся таблицы. Далее работайте только с этими данными."
   ]
  },
  {
   "cell_type": "code",
   "execution_count": 35,
   "metadata": {
    "id": "kuV1b5MXFg3_"
   },
   "outputs": [],
   "source": [
    "# проведем фильтрацию таблицы о компания по заданным параметрам\n",
    "df_clean_company = df_clean_company[(df_clean_company['funding_rounds'] > 0) | \n",
    "                                    (df_clean_company['investment_rounds'] > 0) | \n",
    "                                    (df_clean_company['status'] == 'acquired')]"
   ]
  },
  {
   "cell_type": "code",
   "execution_count": 36,
   "metadata": {
    "id": "93v3fEX5FgtP"
   },
   "outputs": [
    {
     "name": "stdout",
     "output_type": "stream",
     "text": [
      "<class 'pandas.core.frame.DataFrame'>\n",
      "Int64Index: 40747 entries, 0 to 217469\n",
      "Data columns (total 13 columns):\n",
      " #   Column             Non-Null Count  Dtype         \n",
      "---  ------             --------------  -----         \n",
      " 0   company_id1        40747 non-null  Int64         \n",
      " 1   name               40747 non-null  object        \n",
      " 2   category_code      35315 non-null  object        \n",
      " 3   status             40747 non-null  object        \n",
      " 4   founded_at         27807 non-null  datetime64[ns]\n",
      " 5   closed_at          2128 non-null   datetime64[ns]\n",
      " 6   domain             35754 non-null  object        \n",
      " 7   network_username   20850 non-null  object        \n",
      " 8   country_code       34742 non-null  object        \n",
      " 9   investment_rounds  40747 non-null  Int64         \n",
      " 10  funding_rounds     40747 non-null  Int64         \n",
      " 11  funding_total      40747 non-null  float64       \n",
      " 12  milestones         40747 non-null  Int64         \n",
      "dtypes: Int64(4), datetime64[ns](2), float64(1), object(6)\n",
      "memory usage: 4.5+ MB\n"
     ]
    }
   ],
   "source": [
    "# проверим результат\n",
    "df_clean_company.info()"
   ]
  },
  {
   "cell_type": "markdown",
   "metadata": {},
   "source": [
    "Мы провели фильтацию данных о компаниях по заданным условиям. В итоговой таблице содержиться информация о 40747 компаниях. Ключевые столбец `funding_total` не содержит пропусков."
   ]
  },
  {
   "cell_type": "markdown",
   "metadata": {},
   "source": [
    "<div class=\"alert alert-success\">\n",
    "<font size=\"5\"><b>Комментарий ревьюераV2</b></font>\n",
    "\n",
    "\n",
    "\n",
    "Успех 👍:\n",
    "\n",
    "\n",
    "\n",
    "👍\n",
    "\n",
    "\n",
    " "
   ]
  },
  {
   "cell_type": "markdown",
   "metadata": {
    "id": "DFHINkV3rJg2"
   },
   "source": [
    "\n",
    "### 3.2. Анализ выбросов\n",
    "\n",
    "Заказчика интересует обычный для рассматриваемого периода размер средств, который предоставлялся компаниям.\n",
    "\n",
    "- По предобработанному столбцу `funding_total` графическим способом оцените, какой размер общего финансирования для одной компании будет типичным, а какой — выбивающимся.\n",
    "- В процессе расчёта значений обратите внимание, например, на показатели, возвращаемые методом `.describe()`, — объясните их. Применимы ли к таким данным обычные способы нахождения типичных значений?"
   ]
  },
  {
   "cell_type": "code",
   "execution_count": 37,
   "metadata": {
    "id": "8jm75fKXrJg2",
    "vscode": {
     "languageId": "plaintext"
    }
   },
   "outputs": [
    {
     "data": {
      "text/plain": [
       "count    4.074700e+04\n",
       "mean     1.013561e+07\n",
       "std      5.646436e+07\n",
       "min      0.000000e+00\n",
       "25%      0.000000e+00\n",
       "50%      6.000000e+05\n",
       "75%      5.650650e+06\n",
       "max      5.700000e+09\n",
       "Name: funding_total, dtype: float64"
      ]
     },
     "execution_count": 37,
     "metadata": {},
     "output_type": "execute_result"
    }
   ],
   "source": [
    "# изучим стандартную статистику стобца funding_total\n",
    "df_clean_company['funding_total'].describe()"
   ]
  },
  {
   "cell_type": "code",
   "execution_count": 38,
   "metadata": {},
   "outputs": [
    {
     "data": {
      "text/plain": [
       "0.0           12873\n",
       "1000000.0       698\n",
       "500000.0        523\n",
       "100000.0        480\n",
       "2000000.0       455\n",
       "              ...  \n",
       "11653200.0        1\n",
       "1918090.0         1\n",
       "1250200.0         1\n",
       "2101770.0         1\n",
       "3993020.0         1\n",
       "Name: funding_total, Length: 9483, dtype: int64"
      ]
     },
     "execution_count": 38,
     "metadata": {},
     "output_type": "execute_result"
    }
   ],
   "source": [
    "df_clean_company['funding_total'].value_counts()"
   ]
  },
  {
   "cell_type": "code",
   "execution_count": 39,
   "metadata": {
    "id": "S1jrfr7rFhcw"
   },
   "outputs": [
    {
     "data": {
      "image/png": "[encoded data removed]",
      "text/plain": [
       "<Figure size 864x432 with 1 Axes>"
      ]
     },
     "metadata": {
      "needs_background": "light"
     },
     "output_type": "display_data"
    }
   ],
   "source": [
    "# построим гистограмму распределения\n",
    "plt.figure(figsize=(12, 6))\n",
    "sns.histplot(df_clean_company['funding_total'], bins=30, kde=True)\n",
    "plt.title('Распределение сумм финансирования')\n",
    "plt.xlabel('Сумма финансирования в млдр')\n",
    "plt.ylabel('Количество компаний')\n",
    "plt.show()"
   ]
  },
  {
   "cell_type": "code",
   "execution_count": 40,
   "metadata": {},
   "outputs": [
    {
     "data": {
      "image/png": "[encoded data removed]",
      "text/plain": [
       "<Figure size 864x432 with 1 Axes>"
      ]
     },
     "metadata": {
      "needs_background": "light"
     },
     "output_type": "display_data"
    }
   ],
   "source": [
    "# построим ящик с усами для выявления выбросов\n",
    "plt.figure(figsize=(12, 6))\n",
    "sns.boxplot(y=df_clean_company['funding_total'])\n",
    "plt.title('Распределение сумм финансирования (boxplot)')\n",
    "plt.ylabel('Сумма финансирования')\n",
    "plt.show()"
   ]
  },
  {
   "cell_type": "code",
   "execution_count": 41,
   "metadata": {},
   "outputs": [
    {
     "data": {
      "image/png": "[encoded data removed]",
      "text/plain": [
       "<Figure size 864x432 with 1 Axes>"
      ]
     },
     "metadata": {
      "needs_background": "light"
     },
     "output_type": "display_data"
    }
   ],
   "source": [
    "# Построим еще один ящик с усами с отключенной демонстрацией выбросов\n",
    "plt.figure(figsize=(12, 6))\n",
    "sns.boxplot(y=df_clean_company['funding_total'], showfliers=False)\n",
    "plt.title('Распределение сумм финансирования (boxplot)')\n",
    "plt.ylabel('Сумма финансирования')\n",
    "plt.show()"
   ]
  },
  {
   "cell_type": "markdown",
   "metadata": {},
   "source": [
    "Данные показывают сильно перекошенное распределение:\n",
    "\n",
    "- Стандартное отклонение (56,464,360) значительно превышает среднее значение (10,135,610)\n",
    "- Минимум и 25-й процентиль равны 0\n",
    "- Медиана (600,000) намного ниже среднего\n",
    "- Максимум (5,700,000,000) в несколько раз превышает 75-й процентиль.\n",
    "\n",
    "Для определения типичных значений лучше использовать процентильный анализ\n",
    "Определение типичных значений:\n",
    "- Основной диапазон можно определить по медиане и 75-му процентилю:\n",
    "- Типичное минимальное значение ≈ 0 (так как 25% = 0)\n",
    "- Типичное среднее значение ≈ 600,000 (медиана)\n",
    "- Типичное максимальное значение ≈ 5.65 млн (75%)\n",
    "- Выбросами можно считать значения:\n",
    "- Значительно превышающие 75-й процентиль\n",
    "- Особенно те, что близки к максимальному значению (5.7 млрд)"
   ]
  },
  {
   "cell_type": "markdown",
   "metadata": {},
   "source": [
    "\n",
    "<div class=\"alert alert-success\">\n",
    "<font size=\"5\"><b>Комментарий ревьюераV2</b></font>\n",
    "\n",
    "\n",
    "Успех 👍:\n",
    "\n",
    "\n",
    "\n",
    "👍 Анализ describe верный\n",
    "\n",
    " \n",
    "    \n",
    "    \n",
    "\n",
    "<div class=\"alert alert-warning\">\n",
    " \n",
    "\n",
    "Совет 🤔:\n",
    "\n",
    " \n",
    " \n",
    " \n",
    "    \n",
    "- Обрати внимание что нас просят графическим способом уточнить информацию о типичных и выбросах. Поэтому стоило основной упор сделать на работу с графиками\n",
    "    \n",
    "\n",
    "-- Можно было   построить  boxplot и еще один boxplot, отключив демонстрацию выбросов (showfliers=False у seaborn),  так будет лучше графически видны медиана и квантили     \n",
    " \n",
    "        \n",
    "    \n",
    "-- Для определения зоны   начала выбросов, можно использовать гистограмму. Если данные имеют большой разброс, есть вариант добавить логарифмическую шкалу для гистограммы.  С логарифмической шкалой все значения (малые и большие) будут равномерно распределены на графике, что облегчит анализ, мы увидим данные которые могут быть скрыты из-за сильного перекоса,  и выбросы будут визуально лучше отделены от основной массы данных    \n",
    "    \n",
    " \n",
    "    # код ревьюера\n",
    "    (схема)    \n",
    "    plt.figure(figsize=(10, 6))\n",
    "    plt.hist(company_df['funding_total'], bins=50, color='skyblue', edgecolor='black', log=True)\n",
    "    plt.xscale('log')  # Логарифмическая шкала по оси X\n",
    "    plt.xlabel('Общее финансирование (логарифмическая шкала)')\n",
    "    plt.ylabel('Количество компаний')\n",
    "    plt.title('Распределение общего финансирования (логарифмическая шкала)')\n",
    "    plt.show()    \n",
    "    \n",
    "    \n",
    "     \n",
    "    \n",
    "    "
   ]
  },
  {
   "cell_type": "markdown",
   "metadata": {
    "id": "JqkRAQrIrJg2"
   },
   "source": [
    "\n",
    "### 3.3. Куплены забесплатно?\n",
    "\n",
    "- Исследуйте компании, которые были проданы за ноль или за один доллар, и при этом известно, что у них был ненулевой общий объём финансирования.\n",
    "\n",
    "- Рассчитайте аналитически верхнюю и нижнюю границу выбросов для столбца `funding_total` и укажите, каким процентилям границы соответствуют."
   ]
  },
  {
   "cell_type": "code",
   "execution_count": 42,
   "metadata": {
    "id": "wJHXCBwwrJg2",
    "vscode": {
     "languageId": "plaintext"
    }
   },
   "outputs": [],
   "source": [
    "# присоединим таблицу с информацией о покупках компании\n",
    "df = df_clean_company.merge(df_acquisition, left_on='company_id1', right_on='acquired_company_id', how='left' )"
   ]
  },
  {
   "cell_type": "markdown",
   "metadata": {},
   "source": [
    " \n",
    "<div class=\"alert alert-warning\">\n",
    "<font size=\"5\"><b>Комментарий ревьюераV2</b></font>\n",
    "\n",
    "\n",
    "\n",
    "Совет 🤔:\n",
    "\n",
    "\n",
    "Объединение проведено правильно (acquired_company_id)\n",
    "    \n",
    "Но посоветую сделать проверку на дубликаты по company_id, и дать объяснение откуда они   могли взяться,  и решить удалять нам их или нет\n",
    "\n",
    "\n",
    " "
   ]
  },
  {
   "cell_type": "code",
   "execution_count": 43,
   "metadata": {
    "id": "9IDTHfYQFhuX"
   },
   "outputs": [
    {
     "name": "stdout",
     "output_type": "stream",
     "text": [
      "<class 'pandas.core.frame.DataFrame'>\n",
      "Int64Index: 27918 entries, 0 to 40889\n",
      "Data columns (total 19 columns):\n",
      " #   Column                Non-Null Count  Dtype         \n",
      "---  ------                --------------  -----         \n",
      " 0   company_id1           27918 non-null  Int64         \n",
      " 1   name                  27918 non-null  object        \n",
      " 2   category_code         26900 non-null  object        \n",
      " 3   status                27918 non-null  object        \n",
      " 4   founded_at            21787 non-null  datetime64[ns]\n",
      " 5   closed_at             1770 non-null   datetime64[ns]\n",
      " 6   domain                26534 non-null  object        \n",
      " 7   network_username      16664 non-null  object        \n",
      " 8   country_code          26312 non-null  object        \n",
      " 9   investment_rounds     27918 non-null  Int64         \n",
      " 10  funding_rounds        27918 non-null  Int64         \n",
      " 11  funding_total         27918 non-null  float64       \n",
      " 12  milestones            27918 non-null  Int64         \n",
      " 13  id                    2349 non-null   float64       \n",
      " 14  acquiring_company_id  2349 non-null   float64       \n",
      " 15  acquired_company_id   2349 non-null   float64       \n",
      " 16  term_code             452 non-null    object        \n",
      " 17  price_amount          2349 non-null   float64       \n",
      " 18  acquired_at           2344 non-null   datetime64[ns]\n",
      "dtypes: Int64(4), datetime64[ns](3), float64(5), object(7)\n",
      "memory usage: 4.4+ MB\n"
     ]
    }
   ],
   "source": [
    "# профильтруем значения с ненулевым общим объемом финансирования\n",
    "df = df[(df['funding_total'] > 0)]\n",
    "# проверим результат\n",
    "df.info()"
   ]
  },
  {
   "cell_type": "code",
   "execution_count": 44,
   "metadata": {},
   "outputs": [],
   "source": [
    "# Фильтруем компании с нулевым или минимальным выкупом\n",
    "zero_sale_companies = df[(df['price_amount'] == 0) | (df['price_amount'] == 1)]"
   ]
  },
  {
   "cell_type": "code",
   "execution_count": 45,
   "metadata": {},
   "outputs": [
    {
     "data": {
      "text/plain": [
       "'Количество компаний:'"
      ]
     },
     "metadata": {},
     "output_type": "display_data"
    },
    {
     "data": {
      "text/plain": [
       "1618"
      ]
     },
     "metadata": {},
     "output_type": "display_data"
    },
    {
     "data": {
      "text/plain": [
       "'Средняя сумма финансирования:'"
      ]
     },
     "metadata": {},
     "output_type": "display_data"
    },
    {
     "data": {
      "text/plain": [
       "18152961.943757724"
      ]
     },
     "metadata": {},
     "output_type": "display_data"
    },
    {
     "data": {
      "text/plain": [
       "'Медиана финансирования:'"
      ]
     },
     "metadata": {},
     "output_type": "display_data"
    },
    {
     "data": {
      "text/plain": [
       "6000000.0"
      ]
     },
     "metadata": {},
     "output_type": "display_data"
    }
   ],
   "source": [
    "# Базовая статистика по этим компаниям\n",
    "display(\"Количество компаний:\", len(zero_sale_companies))\n",
    "display(\"Средняя сумма финансирования:\", zero_sale_companies['funding_total'].mean())\n",
    "display(\"Медиана финансирования:\", zero_sale_companies['funding_total'].median())"
   ]
  },
  {
   "cell_type": "code",
   "execution_count": 46,
   "metadata": {},
   "outputs": [
    {
     "data": {
      "image/png": "[encoded data removed]",
      "text/plain": [
       "<Figure size 864x432 with 1 Axes>"
      ]
     },
     "metadata": {
      "needs_background": "light"
     },
     "output_type": "display_data"
    }
   ],
   "source": [
    "# Гистограмма распределения сумм финансирования\n",
    "plt.figure(figsize=(12, 6))\n",
    "sns.histplot(zero_sale_companies['funding_total'], bins=30, kde=True)\n",
    "plt.title('Распределение сумм финансирования компаний с нулевым выкупом')\n",
    "plt.xlabel('Сумма финансирования')\n",
    "plt.ylabel('Количество компаний')\n",
    "plt.show()"
   ]
  },
  {
   "cell_type": "markdown",
   "metadata": {},
   "source": [
    "Компаний купленных за 0 или 1 доллар 1618. Медиана финансирования в этих компаниях 6 млн. долларов.(Такая сумма продажи может быть связана с формальностью для закрытия бизнеса, а так же в слиянии с материнской компанией)."
   ]
  },
  {
   "cell_type": "code",
   "execution_count": 47,
   "metadata": {},
   "outputs": [
    {
     "data": {
      "text/plain": [
       "'Нижняя граница выбросов: 0.0'"
      ]
     },
     "metadata": {},
     "output_type": "display_data"
    },
    {
     "data": {
      "text/plain": [
       "'Процентиль нижней границы: 0.00%'"
      ]
     },
     "metadata": {},
     "output_type": "display_data"
    },
    {
     "data": {
      "text/plain": [
       "'Верхняя граница выбросов: 14126625.0'"
      ]
     },
     "metadata": {},
     "output_type": "display_data"
    },
    {
     "data": {
      "text/plain": [
       "'Процентиль верхней границы: 85.62%'"
      ]
     },
     "metadata": {},
     "output_type": "display_data"
    }
   ],
   "source": [
    "# Рассчитываем квартили\n",
    "Q1 = df_clean_company['funding_total'].quantile(0.25)\n",
    "Q3 = df_clean_company['funding_total'].quantile(0.75)\n",
    "IQR = Q3 - Q1\n",
    "\n",
    "# Границы выбросов\n",
    "lower_bound = Q1 - 1.5 * IQR\n",
    "upper_bound = Q3 + 1.5 * IQR\n",
    "# чтобы избежать отрицательных значений границы выброса добавим условие\n",
    "if lower_bound < 0:\n",
    "    lower_bound = df_clean_company['funding_total'].min()\n",
    "# Рассчитываем процентили для границ\n",
    "# Создаем временную серию с добавлением границ\n",
    "temp_series = df_clean_company['funding_total'].append(pd.Series([lower_bound, upper_bound]))\n",
    "\n",
    "# Рассчитываем ранги\n",
    "ranks = temp_series.rank(method='min')\n",
    "\n",
    "# Находим ранги добавленных значений\n",
    "lower_rank = ranks.iloc[-2]  # ранг нижней границы\n",
    "upper_rank = ranks.iloc[-1]  # ранг верхней границы\n",
    "\n",
    "# Рассчитываем процентили\n",
    "lower_bound_percentile = (lower_rank - 1) / len(temp_series)\n",
    "upper_bound_percentile = (upper_rank - 1) / len(temp_series)\n",
    "\n",
    "# Выводим результаты\n",
    "display(f\"Нижняя граница выбросов: {lower_bound}\")\n",
    "display(f\"Процентиль нижней границы: {lower_bound_percentile:.2%}\")\n",
    "display(f\"Верхняя граница выбросов: {upper_bound}\")\n",
    "display(f\"Процентиль верхней границы: {upper_bound_percentile:.2%}\")"
   ]
  },
  {
   "cell_type": "markdown",
   "metadata": {},
   "source": [
    "Мы провели анализ компаний купленных за 0, 1 доллар:\n",
    "- Число таких компаний 1618\n",
    "- Медиана финансирования в этих компаниях 6 млн. долларов.(Такая сумма продажи может быть связана с формальностью для закрытия бизнеса, а так же в слиянии с материнской компанией).\n",
    "\n",
    "Также расчитали границы выбросов:\n",
    "- Нижняя граница: 0.0\n",
    "- Верхняя граница: 14126625.0\n",
    "- Нижняя граница соответствует 0 % процентилю\n",
    "- Верхняя граница соответствует 85.62 % процентилю"
   ]
  },
  {
   "cell_type": "markdown",
   "metadata": {},
   "source": [
    "<div class=\"alert alert-success\">\n",
    "<font size=\"5\"><b>Комментарий ревьюераV3</b></font>\n",
    "\n",
    "\n",
    "\n",
    "Успех 👍:\n",
    "\n",
    "\n",
    "\n",
    "👍\n",
    "\n",
    "\n",
    " "
   ]
  },
  {
   "cell_type": "markdown",
   "metadata": {},
   "source": [
    " \n",
    "\n",
    "\n",
    "<div class=\"alert alert-danger\">\n",
    "<font size=\"5\"><b>Комментарий ревьюераV2</b></font>\n",
    "\n",
    "\n",
    "\n",
    "Ошибка ❌:\n",
    "                 \n",
    "                                                                 \n",
    "- нижняя граница выбросов не может принимать отрицательное число для нашщих данных. Предлагаю решить задачу аналитически, решив на какое возможное число нам заменить  \n",
    "\n",
    "\n",
    "\n",
    "                                                               \n",
    "                                                                 \n",
    "     \n",
    "\n",
    "    \n",
    "<div class=\"alert alert-warning\">\n",
    "\n",
    "\n",
    "Совет 🤔:\n",
    "\n",
    "\n",
    "- И лучше это сразу прописать \n",
    "    \n",
    "    \n",
    "    lower_bound = max(Число, lower_bound)\n",
    "    \n",
    ", для универсальности     \n",
    "    \n",
    "    \n",
    " \n",
    "- может затронуть теоретический аспект насколько в нашем случае годится iqr    "
   ]
  },
  {
   "cell_type": "markdown",
   "metadata": {
    "id": "mEiWpROjrJg2"
   },
   "source": [
    "\n",
    "### 3.4. Цены стартапов по категориям\n",
    "\n",
    "Категории стартапов с типично высокими ценами покупки стартапов и значительным разбросом цен могут быть привлекательными для крупных инвесторов, которые готовы к высоким рискам ради потенциально больших доходов. Среди категорий стартапов выделите категории стартапов, характеризующиеся:\n",
    "\n",
    "- типично высокими ценами;\n",
    "- и наибольшим разбросом цен за стартап.\n",
    "\n",
    "Объясните, почему решили составить топ именно из такого числа категорий и почему рассчитывали именно так."
   ]
  },
  {
   "cell_type": "code",
   "execution_count": 48,
   "metadata": {
    "id": "jQ09dYUWrJg2",
    "vscode": {
     "languageId": "plaintext"
    }
   },
   "outputs": [],
   "source": [
    "# присоединим таблицу с информацией о покупках компании\n",
    "merged_df = df_clean_company.merge(df_acquisition, left_on='company_id1', right_on='acquired_company_id', how='left' )"
   ]
  },
  {
   "cell_type": "code",
   "execution_count": 49,
   "metadata": {
    "id": "eF1aULm5FjfY"
   },
   "outputs": [
    {
     "data": {
      "text/plain": [
       "'Категории стартапов с высокими ценами и значительным разбросом:'"
      ]
     },
     "metadata": {},
     "output_type": "display_data"
    },
    {
     "data": {
      "text/html": [
       "<div>\n",
       "<style scoped>\n",
       "    .dataframe tbody tr th:only-of-type {\n",
       "        vertical-align: middle;\n",
       "    }\n",
       "\n",
       "    .dataframe tbody tr th {\n",
       "        vertical-align: top;\n",
       "    }\n",
       "\n",
       "    .dataframe thead th {\n",
       "        text-align: right;\n",
       "    }\n",
       "</style>\n",
       "<table border=\"1\" class=\"dataframe\">\n",
       "  <thead>\n",
       "    <tr style=\"text-align: right;\">\n",
       "      <th></th>\n",
       "      <th>category_code</th>\n",
       "      <th>mean_price</th>\n",
       "      <th>max_price</th>\n",
       "      <th>price_std</th>\n",
       "      <th>deal_count</th>\n",
       "    </tr>\n",
       "  </thead>\n",
       "  <tbody>\n",
       "    <tr>\n",
       "      <th>13</th>\n",
       "      <td>health</td>\n",
       "      <td>6.287500e+07</td>\n",
       "      <td>100000000.0</td>\n",
       "      <td>4.521868e+07</td>\n",
       "      <td>4</td>\n",
       "    </tr>\n",
       "    <tr>\n",
       "      <th>18</th>\n",
       "      <td>messaging</td>\n",
       "      <td>5.475000e+07</td>\n",
       "      <td>102000000.0</td>\n",
       "      <td>5.367417e+07</td>\n",
       "      <td>4</td>\n",
       "    </tr>\n",
       "    <tr>\n",
       "      <th>4</th>\n",
       "      <td>cleantech</td>\n",
       "      <td>4.670214e+07</td>\n",
       "      <td>110000000.0</td>\n",
       "      <td>3.445464e+07</td>\n",
       "      <td>14</td>\n",
       "    </tr>\n",
       "    <tr>\n",
       "      <th>10</th>\n",
       "      <td>finance</td>\n",
       "      <td>4.511875e+07</td>\n",
       "      <td>113000000.0</td>\n",
       "      <td>3.756387e+07</td>\n",
       "      <td>8</td>\n",
       "    </tr>\n",
       "    <tr>\n",
       "      <th>27</th>\n",
       "      <td>search</td>\n",
       "      <td>4.001538e+07</td>\n",
       "      <td>115000000.0</td>\n",
       "      <td>4.669062e+07</td>\n",
       "      <td>13</td>\n",
       "    </tr>\n",
       "  </tbody>\n",
       "</table>\n",
       "</div>"
      ],
      "text/plain": [
       "   category_code    mean_price    max_price     price_std  deal_count\n",
       "13        health  6.287500e+07  100000000.0  4.521868e+07           4\n",
       "18     messaging  5.475000e+07  102000000.0  5.367417e+07           4\n",
       "4      cleantech  4.670214e+07  110000000.0  3.445464e+07          14\n",
       "10       finance  4.511875e+07  113000000.0  3.756387e+07           8\n",
       "27        search  4.001538e+07  115000000.0  4.669062e+07          13"
      ]
     },
     "metadata": {},
     "output_type": "display_data"
    }
   ],
   "source": [
    "# Фильтруем только успешные сделки с ненулевыми ценами, а также уберем выбросы \n",
    "filtered_df = merged_df[(merged_df['price_amount'] > 0) &\n",
    "                        (merged_df['price_amount'] < merged_df['price_amount'].quantile(0.90))]\n",
    "\n",
    "# Группируем данные по категориям\n",
    "category_stats = filtered_df.groupby('category_code').agg({\n",
    "    'price_amount': ['mean', 'max', 'std', 'count']\n",
    "}).reset_index()\n",
    "\n",
    "# Переименовываем столбцы\n",
    "category_stats.columns = ['category_code', 'mean_price', 'max_price', 'price_std', 'deal_count']\n",
    "\n",
    "# Фильтруем категории с достаточным количеством сделок\n",
    "significant_categories = category_stats[category_stats['deal_count'] >= 3]\n",
    "\n",
    "# Отбираем категории с высокими средними ценами и значительным разбросом\n",
    "high_value_categories = significant_categories[\n",
    "    (significant_categories['mean_price'] > significant_categories['mean_price'].quantile(0.75)) &\n",
    "    (significant_categories['price_std'] > significant_categories['price_std'].quantile(0.75))\n",
    "]\n",
    "\n",
    "# Сортируем по среднему значению цены\n",
    "high_value_categories = high_value_categories.sort_values('mean_price', ascending=False)\n",
    "\n",
    "# Выводим результат\n",
    "display(\"Категории стартапов с высокими ценами и значительным разбросом:\")\n",
    "display(high_value_categories[['category_code', 'mean_price', 'max_price', 'price_std', 'deal_count']])"
   ]
  },
  {
   "cell_type": "markdown",
   "metadata": {},
   "source": [
    "Мы составили топ категорий с типично высокими ценами и большим разбросом цен\n",
    "\n",
    "Категория Health:\n",
    "- Высокая средняя и максимальная цена\n",
    "- Очень высокая волатильность\n",
    "- Небольшое количество сделок (4)\n",
    "- Это может указывать на высокую ценность проектов в этой сфере\n",
    "\n",
    "Категория Cleantech:\n",
    "- Среднее значение цены\n",
    "- Стабильные показатели (низкое std)\n",
    "- Наибольшее количество сделок\n",
    "- Наиболее “зрелая” категория по количеству сделок\n",
    "\n",
    "Категория Finance:\n",
    "- Средняя цена и волатильность\n",
    "- Среднее количество сделок\n",
    "- Стабильные показатели\n",
    "\n",
    "Категория Search:\n",
    "- Самая низкая средняя цена\n",
    "- Высокая волатильность\n",
    "- Большое количество сделок\n",
    "- Может быть более конкурентной средой\n",
    "\n",
    "Категория Messaging:\n",
    "- Средняя цена\n",
    "- Очень высокая волатильность\n",
    "- Небольшое количество сделок\n",
    "- Высокая неопределенность в ценообразовании\n",
    "\n",
    " Расчет был сделан на основе слудующих критериев:\n",
    "- Среднее значение цены выше 75-го процентиля\n",
    "- Разброс цен (стандартное отклонение) выше 75-го процентиля\n",
    "- Минимальное количество сделок - 3"
   ]
  },
  {
   "cell_type": "markdown",
   "metadata": {},
   "source": [
    "<div class=\"alert alert-success\">\n",
    "<font size=\"5\"><b>Комментарий ревьюераV3</b></font>\n",
    "\n",
    "\n",
    "\n",
    "Успех 👍:\n",
    "\n",
    "\n",
    "\n",
    "👍Теперь у нас циферки одного порядка\n",
    "\n",
    "\n",
    " "
   ]
  },
  {
   "cell_type": "markdown",
   "metadata": {},
   "source": [
    " \n",
    "<div class=\"alert alert-danger\">\n",
    "<font size=\"5\"><b>Комментарий ревьюераV2</b></font>\n",
    "\n",
    "\n",
    "\n",
    "Ошибка ❌:\n",
    "\n",
    "\n",
    "     \n",
    "    \n",
    "- В  задание есть прямая подсказка\n",
    "    \n",
    "    \n",
    "      типичными ценами\n",
    "    \n",
    "\n",
    "Поэтому стоит использовать медиану, либо использовать среднюю но предварительно   убраем цены выше     90-го квантиля (убираем самые высокие значения из которых много выбросов, и даже присутствует явно фальшивая цифра в 2,4 триллиона). Ты квинтиль использовал Но после того как     \n",
    "    \n",
    "    \n",
    " \n",
    "\n",
    "- std также страдает от сильных выбросов (обрати внимание на enterprise), тоже лучше подстраховаться и убрать выбросы\n",
    "    \n",
    " \n",
    "    \n",
    "    \n",
    "    \n",
    "<div class=\"alert alert-warning\">\n",
    " \n",
    "\n",
    "\n",
    "Совет 🤔:\n",
    "\n",
    "    \n",
    "    \n",
    "    \n",
    "- Для наглядности посоветовал бы построить график scatter где в разбивке по категориям по одной оси показатель типичной цены,  по другой разброс показатель разброса цен, а еще можно размером кружочка указать сколько стартапов в кто\t или иной категории (Это можно задать с помощью аргумента s). И лучше нанести названия категорий прямо на точки\n",
    "\n",
    " \n",
    "\n",
    "\n",
    "\n",
    " "
   ]
  },
  {
   "cell_type": "markdown",
   "metadata": {
    "id": "ADOfyVY_rJg3"
   },
   "source": [
    "\n",
    "### 3.5. Сколько раундов продержится стартап перед покупкой\n",
    "\n",
    "- Необходимо проанализировать столбец `funding_rounds`. Исследуйте значения столбца. Заказчика интересует типичное значение количества раундов для каждого возможного статуса стартапа.\n",
    "- Постройте график, который отображает, сколько в среднем раундов финансирования проходило для стартапов из каждой группы. Сделайте выводы."
   ]
  },
  {
   "cell_type": "code",
   "execution_count": 50,
   "metadata": {
    "id": "hgXMPC4WrJg3",
    "vscode": {
     "languageId": "plaintext"
    }
   },
   "outputs": [
    {
     "data": {
      "text/html": [
       "<div>\n",
       "<style scoped>\n",
       "    .dataframe tbody tr th:only-of-type {\n",
       "        vertical-align: middle;\n",
       "    }\n",
       "\n",
       "    .dataframe tbody tr th {\n",
       "        vertical-align: top;\n",
       "    }\n",
       "\n",
       "    .dataframe thead th {\n",
       "        text-align: right;\n",
       "    }\n",
       "</style>\n",
       "<table border=\"1\" class=\"dataframe\">\n",
       "  <thead>\n",
       "    <tr style=\"text-align: right;\">\n",
       "      <th></th>\n",
       "      <th>status</th>\n",
       "      <th>funding_rounds</th>\n",
       "    </tr>\n",
       "  </thead>\n",
       "  <tbody>\n",
       "    <tr>\n",
       "      <th>0</th>\n",
       "      <td>acquired</td>\n",
       "      <td>0.523526</td>\n",
       "    </tr>\n",
       "    <tr>\n",
       "      <th>1</th>\n",
       "      <td>closed</td>\n",
       "      <td>1.381453</td>\n",
       "    </tr>\n",
       "    <tr>\n",
       "      <th>2</th>\n",
       "      <td>ipo</td>\n",
       "      <td>1.934375</td>\n",
       "    </tr>\n",
       "    <tr>\n",
       "      <th>3</th>\n",
       "      <td>operating</td>\n",
       "      <td>1.522658</td>\n",
       "    </tr>\n",
       "  </tbody>\n",
       "</table>\n",
       "</div>"
      ],
      "text/plain": [
       "      status  funding_rounds\n",
       "0   acquired        0.523526\n",
       "1     closed        1.381453\n",
       "2        ipo        1.934375\n",
       "3  operating        1.522658"
      ]
     },
     "metadata": {},
     "output_type": "display_data"
    }
   ],
   "source": [
    "# проведем группировку данных по столбцу status\n",
    "group_status = df_clean_company.groupby('status')['funding_rounds'].mean().reset_index()\n",
    "display(group_status)"
   ]
  },
  {
   "cell_type": "code",
   "execution_count": 51,
   "metadata": {
    "id": "pV3e7kw5Fj1Y"
   },
   "outputs": [
    {
     "data": {
      "image/png": "[encoded data removed]",
      "text/plain": [
       "<Figure size 720x432 with 1 Axes>"
      ]
     },
     "metadata": {
      "needs_background": "light"
     },
     "output_type": "display_data"
    }
   ],
   "source": [
    "# Построим диаграмму\n",
    "plt.figure(figsize=(10,6))\n",
    "df_clean_company.groupby('status')['funding_rounds'].mean().plot(kind='bar', rot=45)\n",
    "plt.title('Среднее кол-во раундов финансирования для стартапов разного статуса')\n",
    "plt.xlabel('Статус стартапа')\n",
    "plt.ylabel('Среднее кол-во раундов')\n",
    "plt.grid()\n",
    "plt.show()"
   ]
  },
  {
   "cell_type": "markdown",
   "metadata": {},
   "source": [
    "На основе полученных данных можно сделать вывод, что на 1м месте по среднему числу раундов показывают стартапы в статусе ipo - 1.9 (т.е. стартапы впервые выпустившие акции в публичный доступ). На 2м месте стартапы operating(дейстующие) - 1.5 раундов. на последнем месте acquired(приобретенные) - 0.5 раунда.\n",
    "- Чем более успешный выход (IPO), тем больше раундов финансирования.\n",
    "- Компании с неудачным развитием (Closed) имеют больше раундов(1,3), чем приобретенные.\n",
    "- Действующие компании находятся в промежуточном положении.\n"
   ]
  },
  {
   "cell_type": "markdown",
   "metadata": {},
   "source": [
    "\n",
    "<div class=\"alert alert-success\">\n",
    "<font size=\"5\"><b>Комментарий ревьюераV2</b></font>\n",
    "\n",
    "\n",
    "\n",
    "Успех 👍:\n",
    "\n",
    "\n",
    "\n",
    "логичный результат\n",
    "\n",
    "\n",
    " \n",
    "\n",
    "\n",
    "<div class=\"alert alert-warning\">\n",
    " \n",
    "\n",
    "\n",
    "Совет 🤔:\n",
    "\n",
    "\n",
    " \n",
    "    \n",
    "- Можно ещё построить  график, который иллюстрирует кумулятивную вероятность приобретения стартапа в зависимости от количества проведенных раундов финансирования. Анализ такого графика поможет   понять, как количество раундов финансирования связано с вероятностью того, что стартап будет приобретен. Например, если вероятность резко возрастает после 1-2 раундов, это может указывать, что большинство успешных стартапов покупаются на ранних стадиях\n",
    "    \n",
    "\n",
    "    \n",
    "     "
   ]
  },
  {
   "cell_type": "markdown",
   "metadata": {
    "id": "VAFEZ2HBrJg3"
   },
   "source": [
    "\n",
    "## Шаг 4. Итоговый вывод и рекомендации\n",
    "\n",
    "Опишите, что было сделано в проекте, какие были сделаны выводы, подкрепляют ли они друг друга или заставляют сомневаться в полученных результатах."
   ]
  },
  {
   "cell_type": "markdown",
   "metadata": {},
   "source": [
    "1. Мы ознакомились с представленными данными и сделали вывод:\n",
    "       \n",
    "   1.1 данных для анализа достаточно т.к. ключевые столбцы имеют малое число пропусков(например столбец `investment_rounds` - 0.14%). Тогда как такие столбцы `network_username`(56%) хоть и имееют много пропусков не являются важными для решения нашей задачи.\n",
    "2. Провели предварительное исследование\n",
    "    \n",
    "    2.1 Типичный размер собранных в рамках одного раунда средств был максимален в 2005 году и составил 5,5 млн. долларов. В 2013 году наблюдается максимальное число раундов финансирования(11072) и небольшое увеличение типичного размера выделяемых средств(1,2 млн.), по сравнению с предыдущим годом(1 млн.)\n",
    "    \n",
    "    2.2 разделили компании на следующие категории в зависимости от числа сотрудников:\n",
    "    '1', '2', '3', '4-5', '6-10', '11-25', '26+' \n",
    "    Исходя из результата анализа можно сделать вывод что меньше всего информации об образовании сотрудников в компаниях с 1 сотрудником(59%).(может быть связано с неформальным ведением бизнеса)  \n",
    "    компании с 2-5 в среднем отсутствует информация о 23-28% сотрудников(может быть связано с неформальным ведением бизнеса, а так же с низкой осведомленностью владельца о необходимости сбора таких данных).\n",
    "    Лучшая ситуация наблюдается в крупных компаниях '26+'(20%)(в связи с наличием в крупных компаниях определнной структуры хранения и обработки данных).\n",
    "    Таблицы `degrees.csv` и  `education.csv` содержат одинаковое число строк (109610), что говорит о высокой вероятности дублирования значений при присоединении. `degrees.csv` содержит более подробную информацию об образовании тех же сотрудников, что не требуется для решения нашей задачи, поэтому присоединять данную таблицу не требуется.\n",
    "    \n",
    "    2.3 Для получения информации в разрезе компаний мы разделили исходную таблицу на две:\n",
    "- `company_info` - с информацией о компаниях\n",
    "- `funding_rounds` - с информацией о раундах финансирования.\n",
    "    Далее  мы удалили дубликаты компаний в таблице `company_info`(20919 дубликатов) и получили таблицу `df_clean_company` которая содержит 196553 уникальных компаний.\n",
    "3. Исследовательский анализ объединённых таблиц\n",
    "    \n",
    "    3.1 Мы провели фильтацию данных о компаниях по заданным условиям. В итоговой таблице содержиться информация о 40747 компаниях. Ключевые столбец `funding_total` не содержит пропусков.\n",
    "    \n",
    "    3.2 Обычный для рассматриваемого периода размер средств, который предоставлялся компаниям.\n",
    "Данные показывают сильно перекошенное распределение:\n",
    "- Стандартное отклонение (56,464,360) значительно превышает среднее значение (10,135,610)\n",
    "- Минимум и 25-й процентиль равны 0\n",
    "- Медиана (600,000) намного ниже среднего\n",
    "- Максимум (5,700,000,000) в несколько раз превышает 75-й процентиль.\n",
    "\n",
    "Для определения типичных значений лучше использовать процентильный анализ\n",
    "Определение типичных значений:\n",
    "- Основной диапазон можно определить по медиане и 75-му процентилю:\n",
    "- Типичное минимальное значение ≈ 0 (так как 25% = 0)\n",
    "- Типичное среднее значение ≈ 600,000 (медиана)\n",
    "- Типичное максимальное значение ≈ 5.65 млн (75%)\n",
    "- Выбросами можно считать значения:\n",
    "- Значительно превышающие 75-й процентиль\n",
    "- Особенно те, что близки к максимальному значению (5.7 млрд)\n",
    "    \n",
    "    3.3 Мы провели анализ компаний купленных за 0, 1 доллар:\n",
    "- Число таких компаний 1618\n",
    "- Медиана финансирования в этих компаниях 6 млн. долларов.(Такая сумма продажи может быть связана с формальностью для закрытия бизнеса, а так же в слиянии с материнской компанией).\n",
    "\n",
    "Также расчитали границы выбросов:\n",
    "- Нижняя граница: 0.0\n",
    "- Верхняя граница: 14126625.0\n",
    "- Нижняя граница соответствует 0 % процентилю\n",
    "- Верхняя граница соответствует 85.62 % процентилю\n",
    "    \n",
    "    3.4 Мы составили топ категорий с типично высокими ценами и большим разбросом цен\n",
    "\n",
    "Категория Health:\n",
    "- Высокая средняя и максимальная цена\n",
    "- Очень высокая волатильность\n",
    "- Небольшое количество сделок (4)\n",
    "- Это может указывать на высокую ценность проектов в этой сфере\n",
    "\n",
    "Категория Cleantech:\n",
    "- Среднее значение цены\n",
    "- Стабильные показатели (низкое std)\n",
    "- Наибольшее количество сделок\n",
    "- Наиболее “зрелая” категория по количеству сделок\n",
    "\n",
    "Категория Finance:\n",
    "- Средняя цена и волатильность\n",
    "- Среднее количество сделок\n",
    "- Стабильные показатели\n",
    "\n",
    "Категория Search:\n",
    "- Самая низкая средняя цена\n",
    "- Высокая волатильность\n",
    "- Большое количество сделок\n",
    "- Может быть более конкурентной средой\n",
    "\n",
    "Категория Messaging:\n",
    "- Средняя цена\n",
    "- Очень высокая волатильность\n",
    "- Небольшое количество сделок\n",
    "- Высокая неопределенность в ценообразовании\n",
    "\n",
    " Расчет был сделан на основе слудующих критериев:\n",
    "- Среднее значение цены выше 75-го процентиля\n",
    "- Разброс цен (стандартное отклонение) выше 75-го процентиля\n",
    "- Минимальное количество сделок - 3\n",
    "\n",
    "    3.5 сделали вывод, что на 1м месте по среднему числу раундов показывают стартапы в статусе ipo - 1.9 (т.е. стартапы впервые выпустившие акции в публичный доступ). На 2м месте стартапы operating(дейстующие) - 1.5 раундов. на последнем месте acquired(приобретенные) - 0.5 раунда.\n",
    "- Чем более успешный выход (IPO), тем больше раундов финансирования.\n",
    "- Компании с неудачным развитием (Closed) имеют больше раундов(1,3), чем приобретенные.\n",
    "- Действующие компании находятся в промежуточном положении.\n",
    "\n",
    "В целом выводы подкрепляют друг друга(Исключение требуется дополнительный анализ сделок ценой 0-1 доллар т.к. они имеют в среднем инвестиции на 6 млн. долларов)"
   ]
  },
  {
   "cell_type": "markdown",
   "metadata": {},
   "source": [
    "<div class=\"alert alert-info\">\n",
    "<font size=\"5\"><b>Комментарий ревьюераV2</b></font>\n",
    "\n",
    "Спасибо за работу Константин!    \n",
    " \n",
    "    \n",
    "   \n",
    "     \n",
    "Небольшие советы:\n",
    " \n",
    "    \n",
    "    \n",
    "- После объединения данных у нас появляется дубликаты по индексу компаний.  Откуда они взялись? И что с ними делать?    \n",
    "    \n",
    "    \n",
    "- Предлагаю построить ``график три в одном``,  чтобы мы могли сразу оценить разброс, типичную цену и количество примеров для каждой категории    \n",
    "    \n",
    "    \n",
    "    \n",
    "    \n",
    "    \n",
    "**Что осталось доработать**:  \n",
    "    \n",
    "   \n",
    "- У нас не может быть отрицательной границы, ведь мы говорим о показателях, которые могут принимать только положительные значения \n",
    "    \n",
    "    \n",
    "- Раздел \"Цены стартапов по категориям\" -  тут стоит избежать влияния выбросов на оценку типичной цены и разброса\n",
    "    \n",
    "  \n",
    "    \n",
    " \n",
    "    \n",
    "    \n",
    "Жду исправления ошибок для принятия проекта   "
   ]
  },
  {
   "cell_type": "markdown",
   "metadata": {},
   "source": [
    "\n",
    "<div class=\"alert alert-info\">\n",
    "<font size=\"5\"><b>Комментарий ревьюераV3</b></font>\n",
    "\n",
    "Спасибо за работу!    \n",
    "\n",
    "    \n",
    "Красное исправлено,   желтые советы использованы (это все было по желанию), значит стремишься развиваться, а желание и интерес это главное. Надеюсь мои советы и вопросики были полезны и в копилочку знаний упало что то новое, а проект стал лучше, и симпатичней.\n",
    "\n",
    " \n",
    "  \n",
    "Отличная работа Константин. Желаю успехов в дальнейшей учебе!\n",
    "\n",
    " \n",
    "</div>"
   ]
  },
  {
   "cell_type": "code",
   "execution_count": null,
   "metadata": {},
   "outputs": [],
   "source": []
  }
 ],
 "metadata": {
  "ExecuteTimeLog": [
   {
    "duration": 5144,
    "start_time": "2025-06-02T08:33:48.620Z"
   },
   {
    "duration": 1455,
    "start_time": "2025-06-02T08:37:09.559Z"
   },
   {
    "duration": 2327,
    "start_time": "2025-06-02T08:40:31.235Z"
   },
   {
    "duration": 210,
    "start_time": "2025-06-02T08:47:20.505Z"
   },
   {
    "duration": 12,
    "start_time": "2025-06-02T08:48:35.256Z"
   },
   {
    "duration": 21,
    "start_time": "2025-06-02T08:49:35.304Z"
   },
   {
    "duration": 126,
    "start_time": "2025-06-02T09:02:51.176Z"
   },
   {
    "duration": 27,
    "start_time": "2025-06-02T09:24:13.152Z"
   },
   {
    "duration": 54,
    "start_time": "2025-06-02T09:28:13.587Z"
   },
   {
    "duration": 32,
    "start_time": "2025-06-02T09:33:52.140Z"
   },
   {
    "duration": 24,
    "start_time": "2025-06-02T11:31:17.335Z"
   },
   {
    "duration": 114,
    "start_time": "2025-06-02T11:31:55.422Z"
   },
   {
    "duration": 10,
    "start_time": "2025-06-02T11:32:03.806Z"
   },
   {
    "duration": 5,
    "start_time": "2025-06-02T11:32:20.493Z"
   },
   {
    "duration": 8,
    "start_time": "2025-06-02T11:39:03.918Z"
   },
   {
    "duration": 210,
    "start_time": "2025-06-02T12:02:27.603Z"
   },
   {
    "duration": 79,
    "start_time": "2025-06-02T12:04:30.095Z"
   },
   {
    "duration": 26,
    "start_time": "2025-06-02T12:05:03.232Z"
   },
   {
    "duration": 21,
    "start_time": "2025-06-02T12:05:12.529Z"
   },
   {
    "duration": 21,
    "start_time": "2025-06-02T12:05:23.008Z"
   },
   {
    "duration": 147,
    "start_time": "2025-06-02T12:05:57.751Z"
   },
   {
    "duration": 54,
    "start_time": "2025-06-02T12:08:10.933Z"
   },
   {
    "duration": 132,
    "start_time": "2025-06-02T12:08:20.429Z"
   },
   {
    "duration": 162,
    "start_time": "2025-06-02T12:12:52.664Z"
   },
   {
    "duration": 130,
    "start_time": "2025-06-02T12:15:34.851Z"
   },
   {
    "duration": 45,
    "start_time": "2025-06-02T12:18:26.609Z"
   },
   {
    "duration": 117,
    "start_time": "2025-06-02T12:19:14.680Z"
   },
   {
    "duration": 130,
    "start_time": "2025-06-02T12:19:31.776Z"
   },
   {
    "duration": 61,
    "start_time": "2025-06-02T12:20:01.671Z"
   },
   {
    "duration": 37,
    "start_time": "2025-06-02T12:20:28.872Z"
   },
   {
    "duration": 142,
    "start_time": "2025-06-02T12:49:11.559Z"
   },
   {
    "duration": 128,
    "start_time": "2025-06-02T12:49:50.047Z"
   },
   {
    "duration": 194,
    "start_time": "2025-06-02T12:53:37.538Z"
   },
   {
    "duration": 123,
    "start_time": "2025-06-02T12:55:57.360Z"
   },
   {
    "duration": 178,
    "start_time": "2025-06-02T12:58:51.901Z"
   },
   {
    "duration": 33,
    "start_time": "2025-06-02T13:01:39.425Z"
   },
   {
    "duration": 46,
    "start_time": "2025-06-02T13:03:08.584Z"
   },
   {
    "duration": 137,
    "start_time": "2025-06-02T13:09:27.873Z"
   },
   {
    "duration": 148,
    "start_time": "2025-06-02T13:10:34.232Z"
   },
   {
    "duration": 237,
    "start_time": "2025-06-02T13:16:03.850Z"
   },
   {
    "duration": 70,
    "start_time": "2025-06-02T13:17:15.377Z"
   },
   {
    "duration": 171,
    "start_time": "2025-06-02T13:19:17.951Z"
   },
   {
    "duration": 262,
    "start_time": "2025-06-02T13:19:47.445Z"
   },
   {
    "duration": 88,
    "start_time": "2025-06-02T13:20:13.454Z"
   },
   {
    "duration": 11,
    "start_time": "2025-06-02T13:20:18.989Z"
   },
   {
    "duration": 183,
    "start_time": "2025-06-02T13:20:34.093Z"
   },
   {
    "duration": 17,
    "start_time": "2025-06-02T13:23:55.739Z"
   },
   {
    "duration": 178,
    "start_time": "2025-06-02T13:24:01.521Z"
   },
   {
    "duration": 166,
    "start_time": "2025-06-02T13:25:17.336Z"
   },
   {
    "duration": 167,
    "start_time": "2025-06-02T13:25:45.319Z"
   },
   {
    "duration": 4613,
    "start_time": "2025-06-03T08:14:08.730Z"
   },
   {
    "duration": 6659,
    "start_time": "2025-06-03T08:14:13.345Z"
   },
   {
    "duration": 25,
    "start_time": "2025-06-03T08:14:20.006Z"
   },
   {
    "duration": 136,
    "start_time": "2025-06-03T08:14:20.034Z"
   },
   {
    "duration": 27,
    "start_time": "2025-06-03T08:14:20.172Z"
   },
   {
    "duration": 62,
    "start_time": "2025-06-03T08:14:20.201Z"
   },
   {
    "duration": 27,
    "start_time": "2025-06-03T08:14:20.265Z"
   },
   {
    "duration": 73,
    "start_time": "2025-06-03T08:14:20.294Z"
   },
   {
    "duration": 4,
    "start_time": "2025-06-03T08:14:20.368Z"
   },
   {
    "duration": 20,
    "start_time": "2025-06-03T08:14:20.375Z"
   },
   {
    "duration": 365,
    "start_time": "2025-06-03T08:14:20.397Z"
   },
   {
    "duration": 32,
    "start_time": "2025-06-03T08:14:20.765Z"
   },
   {
    "duration": 121,
    "start_time": "2025-06-03T08:14:20.799Z"
   },
   {
    "duration": 163,
    "start_time": "2025-06-03T08:14:20.922Z"
   },
   {
    "duration": 180,
    "start_time": "2025-06-03T08:14:21.087Z"
   },
   {
    "duration": 179,
    "start_time": "2025-06-03T08:14:21.269Z"
   },
   {
    "duration": 127,
    "start_time": "2025-06-03T08:42:21.417Z"
   },
   {
    "duration": 127,
    "start_time": "2025-06-03T08:43:54.869Z"
   },
   {
    "duration": 2169,
    "start_time": "2025-06-03T08:45:48.973Z"
   },
   {
    "duration": 26,
    "start_time": "2025-06-03T08:46:27.836Z"
   },
   {
    "duration": 7,
    "start_time": "2025-06-03T08:48:10.497Z"
   },
   {
    "duration": 11,
    "start_time": "2025-06-03T08:49:22.464Z"
   },
   {
    "duration": 26,
    "start_time": "2025-06-03T08:52:18.725Z"
   },
   {
    "duration": 10,
    "start_time": "2025-06-03T08:52:22.308Z"
   },
   {
    "duration": 25,
    "start_time": "2025-06-03T09:04:43.389Z"
   },
   {
    "duration": 2301,
    "start_time": "2025-06-03T09:05:13.941Z"
   },
   {
    "duration": 2026,
    "start_time": "2025-06-03T09:05:45.620Z"
   },
   {
    "duration": 180,
    "start_time": "2025-06-03T09:06:14.155Z"
   },
   {
    "duration": 173,
    "start_time": "2025-06-03T09:10:01.471Z"
   },
   {
    "duration": 16,
    "start_time": "2025-06-03T09:57:11.403Z"
   },
   {
    "duration": 82,
    "start_time": "2025-06-03T10:10:27.681Z"
   },
   {
    "duration": 31,
    "start_time": "2025-06-03T11:37:10.492Z"
   },
   {
    "duration": 13,
    "start_time": "2025-06-03T11:45:21.923Z"
   },
   {
    "duration": 3612,
    "start_time": "2025-06-03T11:45:35.992Z"
   },
   {
    "duration": 14,
    "start_time": "2025-06-03T11:46:32.569Z"
   },
   {
    "duration": 20,
    "start_time": "2025-06-03T11:49:23.719Z"
   },
   {
    "duration": 4692,
    "start_time": "2025-06-04T06:50:25.913Z"
   },
   {
    "duration": 2169,
    "start_time": "2025-06-04T06:50:30.606Z"
   },
   {
    "duration": 23,
    "start_time": "2025-06-04T06:50:32.777Z"
   },
   {
    "duration": 114,
    "start_time": "2025-06-04T06:50:32.802Z"
   },
   {
    "duration": 30,
    "start_time": "2025-06-04T06:50:32.917Z"
   },
   {
    "duration": 44,
    "start_time": "2025-06-04T06:50:32.949Z"
   },
   {
    "duration": 48,
    "start_time": "2025-06-04T06:50:32.995Z"
   },
   {
    "duration": 45,
    "start_time": "2025-06-04T06:50:33.045Z"
   },
   {
    "duration": 4,
    "start_time": "2025-06-04T06:50:33.091Z"
   },
   {
    "duration": 46,
    "start_time": "2025-06-04T06:50:33.098Z"
   },
   {
    "duration": 289,
    "start_time": "2025-06-04T06:50:33.146Z"
   },
   {
    "duration": 28,
    "start_time": "2025-06-04T06:50:33.437Z"
   },
   {
    "duration": 132,
    "start_time": "2025-06-04T06:50:33.466Z"
   },
   {
    "duration": 153,
    "start_time": "2025-06-04T06:50:33.600Z"
   },
   {
    "duration": 157,
    "start_time": "2025-06-04T06:50:33.755Z"
   },
   {
    "duration": 179,
    "start_time": "2025-06-04T06:50:33.914Z"
   },
   {
    "duration": 57,
    "start_time": "2025-06-04T06:50:34.094Z"
   },
   {
    "duration": 13,
    "start_time": "2025-06-04T06:50:34.153Z"
   },
   {
    "duration": 295,
    "start_time": "2025-06-04T06:50:34.169Z"
   },
   {
    "duration": 90,
    "start_time": "2025-06-04T06:50:34.465Z"
   },
   {
    "duration": 19,
    "start_time": "2025-06-04T06:50:34.557Z"
   },
   {
    "duration": 3526,
    "start_time": "2025-06-04T06:50:34.578Z"
   },
   {
    "duration": 29,
    "start_time": "2025-06-04T06:50:38.106Z"
   },
   {
    "duration": 6,
    "start_time": "2025-06-04T07:24:38.064Z"
   },
   {
    "duration": 133,
    "start_time": "2025-06-04T07:26:08.470Z"
   },
   {
    "duration": 24,
    "start_time": "2025-06-04T07:30:25.633Z"
   },
   {
    "duration": 98,
    "start_time": "2025-06-04T07:32:03.488Z"
   },
   {
    "duration": 23,
    "start_time": "2025-06-04T07:32:13.111Z"
   },
   {
    "duration": 22,
    "start_time": "2025-06-04T07:32:50.319Z"
   },
   {
    "duration": 23,
    "start_time": "2025-06-04T07:35:58.186Z"
   },
   {
    "duration": 179,
    "start_time": "2025-06-04T09:06:18.046Z"
   },
   {
    "duration": 97,
    "start_time": "2025-06-04T09:31:10.418Z"
   },
   {
    "duration": 93,
    "start_time": "2025-06-04T09:35:23.499Z"
   },
   {
    "duration": 3,
    "start_time": "2025-06-04T09:41:48.790Z"
   },
   {
    "duration": 102,
    "start_time": "2025-06-04T09:41:58.949Z"
   },
   {
    "duration": 51,
    "start_time": "2025-06-04T09:42:15.917Z"
   },
   {
    "duration": 137,
    "start_time": "2025-06-04T09:42:38.125Z"
   },
   {
    "duration": 3533,
    "start_time": "2025-06-04T09:44:14.764Z"
   },
   {
    "duration": 2024,
    "start_time": "2025-06-04T09:44:18.299Z"
   },
   {
    "duration": 23,
    "start_time": "2025-06-04T09:44:20.325Z"
   },
   {
    "duration": 124,
    "start_time": "2025-06-04T09:44:22.916Z"
   },
   {
    "duration": 23,
    "start_time": "2025-06-04T09:44:25.731Z"
   },
   {
    "duration": 50,
    "start_time": "2025-06-04T09:44:27.212Z"
   },
   {
    "duration": 27,
    "start_time": "2025-06-04T09:44:28.667Z"
   },
   {
    "duration": 45,
    "start_time": "2025-06-04T09:44:30.796Z"
   },
   {
    "duration": 4,
    "start_time": "2025-06-04T09:44:32.875Z"
   },
   {
    "duration": 15,
    "start_time": "2025-06-04T09:44:46.163Z"
   },
   {
    "duration": 253,
    "start_time": "2025-06-04T09:44:46.995Z"
   },
   {
    "duration": 72,
    "start_time": "2025-06-04T09:45:16.219Z"
   },
   {
    "duration": 3460,
    "start_time": "2025-06-04T09:55:25.089Z"
   },
   {
    "duration": 3250,
    "start_time": "2025-06-04T09:55:28.551Z"
   },
   {
    "duration": 21,
    "start_time": "2025-06-04T09:55:31.805Z"
   },
   {
    "duration": 110,
    "start_time": "2025-06-04T09:55:31.828Z"
   },
   {
    "duration": 22,
    "start_time": "2025-06-04T09:55:31.940Z"
   },
   {
    "duration": 100,
    "start_time": "2025-06-04T09:55:31.964Z"
   },
   {
    "duration": 28,
    "start_time": "2025-06-04T09:55:32.065Z"
   },
   {
    "duration": 58,
    "start_time": "2025-06-04T09:55:32.095Z"
   },
   {
    "duration": 4,
    "start_time": "2025-06-04T09:55:32.156Z"
   },
   {
    "duration": 112,
    "start_time": "2025-06-04T09:55:32.161Z"
   },
   {
    "duration": 272,
    "start_time": "2025-06-04T09:55:32.274Z"
   },
   {
    "duration": 28,
    "start_time": "2025-06-04T09:55:32.548Z"
   },
   {
    "duration": 57,
    "start_time": "2025-06-04T09:55:32.578Z"
   },
   {
    "duration": 150,
    "start_time": "2025-06-04T09:55:32.636Z"
   },
   {
    "duration": 167,
    "start_time": "2025-06-04T09:55:32.788Z"
   },
   {
    "duration": 155,
    "start_time": "2025-06-04T09:55:32.956Z"
   },
   {
    "duration": 42,
    "start_time": "2025-06-04T09:55:33.112Z"
   },
   {
    "duration": 10,
    "start_time": "2025-06-04T09:55:33.155Z"
   },
   {
    "duration": 189,
    "start_time": "2025-06-04T09:55:33.167Z"
   },
   {
    "duration": 98,
    "start_time": "2025-06-04T09:55:33.358Z"
   },
   {
    "duration": 23,
    "start_time": "2025-06-04T09:55:33.457Z"
   },
   {
    "duration": 3480,
    "start_time": "2025-06-04T09:55:33.482Z"
   },
   {
    "duration": 20,
    "start_time": "2025-06-04T09:55:36.964Z"
   },
   {
    "duration": 7,
    "start_time": "2025-06-04T09:55:36.986Z"
   },
   {
    "duration": 154,
    "start_time": "2025-06-04T09:55:36.994Z"
   },
   {
    "duration": 25,
    "start_time": "2025-06-04T09:55:37.150Z"
   },
   {
    "duration": 184,
    "start_time": "2025-06-04T09:55:37.177Z"
   },
   {
    "duration": 72,
    "start_time": "2025-06-04T09:55:37.363Z"
   },
   {
    "duration": 3475,
    "start_time": "2025-06-04T10:28:12.213Z"
   },
   {
    "duration": 1874,
    "start_time": "2025-06-04T10:28:15.690Z"
   },
   {
    "duration": 21,
    "start_time": "2025-06-04T10:28:17.566Z"
   },
   {
    "duration": 117,
    "start_time": "2025-06-04T10:28:17.589Z"
   },
   {
    "duration": 30,
    "start_time": "2025-06-04T10:28:17.708Z"
   },
   {
    "duration": 43,
    "start_time": "2025-06-04T10:28:17.740Z"
   },
   {
    "duration": 30,
    "start_time": "2025-06-04T10:28:17.784Z"
   },
   {
    "duration": 63,
    "start_time": "2025-06-04T10:28:17.815Z"
   },
   {
    "duration": 4,
    "start_time": "2025-06-04T10:28:17.879Z"
   },
   {
    "duration": 15,
    "start_time": "2025-06-04T10:28:17.885Z"
   },
   {
    "duration": 306,
    "start_time": "2025-06-04T10:28:17.901Z"
   },
   {
    "duration": 36,
    "start_time": "2025-06-04T10:28:18.208Z"
   },
   {
    "duration": 39,
    "start_time": "2025-06-04T10:28:18.246Z"
   },
   {
    "duration": 161,
    "start_time": "2025-06-04T10:28:18.288Z"
   },
   {
    "duration": 185,
    "start_time": "2025-06-04T10:28:18.451Z"
   },
   {
    "duration": 154,
    "start_time": "2025-06-04T10:28:18.638Z"
   },
   {
    "duration": 48,
    "start_time": "2025-06-04T10:28:18.794Z"
   },
   {
    "duration": 9,
    "start_time": "2025-06-04T10:28:18.843Z"
   },
   {
    "duration": 228,
    "start_time": "2025-06-04T10:28:18.854Z"
   },
   {
    "duration": 96,
    "start_time": "2025-06-04T10:28:19.084Z"
   },
   {
    "duration": 21,
    "start_time": "2025-06-04T10:28:19.181Z"
   },
   {
    "duration": 3481,
    "start_time": "2025-06-04T10:28:19.203Z"
   },
   {
    "duration": 21,
    "start_time": "2025-06-04T10:28:22.686Z"
   },
   {
    "duration": 7,
    "start_time": "2025-06-04T10:28:22.708Z"
   },
   {
    "duration": 142,
    "start_time": "2025-06-04T10:28:22.716Z"
   },
   {
    "duration": 50,
    "start_time": "2025-06-04T10:28:22.860Z"
   },
   {
    "duration": 173,
    "start_time": "2025-06-04T10:28:22.911Z"
   },
   {
    "duration": 150,
    "start_time": "2025-06-04T10:28:23.086Z"
   },
   {
    "duration": 0,
    "start_time": "2025-06-04T10:28:23.238Z"
   },
   {
    "duration": 0,
    "start_time": "2025-06-04T10:28:23.239Z"
   },
   {
    "duration": 0,
    "start_time": "2025-06-04T10:28:23.240Z"
   },
   {
    "duration": 42,
    "start_time": "2025-06-04T10:29:11.065Z"
   },
   {
    "duration": 65,
    "start_time": "2025-06-04T10:30:14.288Z"
   },
   {
    "duration": 79,
    "start_time": "2025-06-04T10:30:28.031Z"
   },
   {
    "duration": 61,
    "start_time": "2025-06-04T10:30:34.015Z"
   },
   {
    "duration": 21,
    "start_time": "2025-06-04T10:30:36.279Z"
   },
   {
    "duration": 142,
    "start_time": "2025-06-04T10:30:37.351Z"
   },
   {
    "duration": 5610,
    "start_time": "2025-06-04T11:16:19.585Z"
   },
   {
    "duration": 3175,
    "start_time": "2025-06-04T11:16:25.197Z"
   },
   {
    "duration": 24,
    "start_time": "2025-06-04T11:16:28.374Z"
   },
   {
    "duration": 134,
    "start_time": "2025-06-04T11:16:28.399Z"
   },
   {
    "duration": 35,
    "start_time": "2025-06-04T11:16:28.535Z"
   },
   {
    "duration": 47,
    "start_time": "2025-06-04T11:16:28.571Z"
   },
   {
    "duration": 52,
    "start_time": "2025-06-04T11:16:28.620Z"
   },
   {
    "duration": 60,
    "start_time": "2025-06-04T11:16:28.674Z"
   },
   {
    "duration": 4,
    "start_time": "2025-06-04T11:16:28.736Z"
   },
   {
    "duration": 23,
    "start_time": "2025-06-04T11:16:28.742Z"
   },
   {
    "duration": 299,
    "start_time": "2025-06-04T11:16:28.767Z"
   },
   {
    "duration": 31,
    "start_time": "2025-06-04T11:16:29.068Z"
   },
   {
    "duration": 61,
    "start_time": "2025-06-04T11:16:29.101Z"
   },
   {
    "duration": 161,
    "start_time": "2025-06-04T11:16:29.164Z"
   },
   {
    "duration": 188,
    "start_time": "2025-06-04T11:16:29.326Z"
   },
   {
    "duration": 179,
    "start_time": "2025-06-04T11:16:29.516Z"
   },
   {
    "duration": 29,
    "start_time": "2025-06-04T11:16:29.696Z"
   },
   {
    "duration": 10,
    "start_time": "2025-06-04T11:16:29.727Z"
   },
   {
    "duration": 211,
    "start_time": "2025-06-04T11:16:29.763Z"
   },
   {
    "duration": 109,
    "start_time": "2025-06-04T11:16:29.976Z"
   },
   {
    "duration": 24,
    "start_time": "2025-06-04T11:16:30.087Z"
   },
   {
    "duration": 3684,
    "start_time": "2025-06-04T11:16:30.112Z"
   },
   {
    "duration": 20,
    "start_time": "2025-06-04T11:16:33.798Z"
   },
   {
    "duration": 49,
    "start_time": "2025-06-04T11:16:33.820Z"
   },
   {
    "duration": 152,
    "start_time": "2025-06-04T11:16:33.871Z"
   },
   {
    "duration": 25,
    "start_time": "2025-06-04T11:16:34.025Z"
   },
   {
    "duration": 201,
    "start_time": "2025-06-04T11:16:34.063Z"
   },
   {
    "duration": 133,
    "start_time": "2025-06-04T11:16:34.267Z"
   },
   {
    "duration": 68,
    "start_time": "2025-06-04T11:16:34.402Z"
   },
   {
    "duration": 23,
    "start_time": "2025-06-04T11:16:34.472Z"
   },
   {
    "duration": 157,
    "start_time": "2025-06-04T11:16:34.497Z"
   },
   {
    "duration": 21,
    "start_time": "2025-06-04T11:17:02.779Z"
   },
   {
    "duration": 131,
    "start_time": "2025-06-04T11:21:20.571Z"
   },
   {
    "duration": 3,
    "start_time": "2025-06-04T13:44:33.377Z"
   },
   {
    "duration": 1968,
    "start_time": "2025-06-04T13:44:42.920Z"
   },
   {
    "duration": 1504,
    "start_time": "2025-06-05T12:30:02.540Z"
   },
   {
    "duration": 3638,
    "start_time": "2025-06-05T12:30:07.003Z"
   },
   {
    "duration": 25,
    "start_time": "2025-06-05T12:30:12.467Z"
   },
   {
    "duration": 133,
    "start_time": "2025-06-05T12:30:15.203Z"
   },
   {
    "duration": 106,
    "start_time": "2025-06-05T12:30:18.708Z"
   },
   {
    "duration": 52,
    "start_time": "2025-06-05T12:30:52.939Z"
   },
   {
    "duration": 9488,
    "start_time": "2025-06-05T12:32:06.474Z"
   },
   {
    "duration": 3969,
    "start_time": "2025-06-05T12:32:49.760Z"
   },
   {
    "duration": 2838,
    "start_time": "2025-06-05T12:32:55.912Z"
   },
   {
    "duration": 23,
    "start_time": "2025-06-05T12:33:00.561Z"
   },
   {
    "duration": 119,
    "start_time": "2025-06-05T12:33:02.680Z"
   },
   {
    "duration": 169,
    "start_time": "2025-06-05T12:33:04.712Z"
   },
   {
    "duration": 27,
    "start_time": "2025-06-05T12:37:29.283Z"
   },
   {
    "duration": 49,
    "start_time": "2025-06-05T12:37:31.108Z"
   },
   {
    "duration": 32,
    "start_time": "2025-06-05T12:37:35.356Z"
   },
   {
    "duration": 46,
    "start_time": "2025-06-05T12:37:39.115Z"
   },
   {
    "duration": 4,
    "start_time": "2025-06-05T12:37:40.998Z"
   },
   {
    "duration": 56,
    "start_time": "2025-06-05T12:38:06.717Z"
   },
   {
    "duration": 5,
    "start_time": "2025-06-05T12:38:09.690Z"
   },
   {
    "duration": 5,
    "start_time": "2025-06-05T12:38:20.322Z"
   },
   {
    "duration": 26,
    "start_time": "2025-06-05T12:38:26.395Z"
   },
   {
    "duration": 4,
    "start_time": "2025-06-05T12:38:28.162Z"
   },
   {
    "duration": 3824,
    "start_time": "2025-06-05T12:38:44.314Z"
   },
   {
    "duration": 6184,
    "start_time": "2025-06-05T12:38:51.754Z"
   },
   {
    "duration": 24,
    "start_time": "2025-06-05T12:39:00.098Z"
   },
   {
    "duration": 126,
    "start_time": "2025-06-05T12:39:03.178Z"
   },
   {
    "duration": 162,
    "start_time": "2025-06-05T12:39:05.082Z"
   },
   {
    "duration": 27,
    "start_time": "2025-06-05T12:39:07.281Z"
   },
   {
    "duration": 49,
    "start_time": "2025-06-05T12:39:08.970Z"
   },
   {
    "duration": 33,
    "start_time": "2025-06-05T12:39:10.817Z"
   },
   {
    "duration": 47,
    "start_time": "2025-06-05T12:39:16.513Z"
   },
   {
    "duration": 5,
    "start_time": "2025-06-05T12:39:19.217Z"
   },
   {
    "duration": 16,
    "start_time": "2025-06-05T12:40:11.874Z"
   },
   {
    "duration": 309,
    "start_time": "2025-06-05T12:40:34.248Z"
   },
   {
    "duration": 44,
    "start_time": "2025-06-05T12:40:48.031Z"
   },
   {
    "duration": 44,
    "start_time": "2025-06-05T12:40:49.144Z"
   },
   {
    "duration": 161,
    "start_time": "2025-06-05T12:40:54.568Z"
   },
   {
    "duration": 166,
    "start_time": "2025-06-05T12:40:57.560Z"
   },
   {
    "duration": 154,
    "start_time": "2025-06-05T12:40:59.583Z"
   },
   {
    "duration": 31,
    "start_time": "2025-06-05T12:41:17.887Z"
   },
   {
    "duration": 11,
    "start_time": "2025-06-05T12:41:18.583Z"
   },
   {
    "duration": 199,
    "start_time": "2025-06-05T12:41:20.647Z"
   },
   {
    "duration": 96,
    "start_time": "2025-06-05T12:41:29.103Z"
   },
   {
    "duration": 121,
    "start_time": "2025-06-05T12:41:36.271Z"
   },
   {
    "duration": 26,
    "start_time": "2025-06-05T12:42:11.719Z"
   },
   {
    "duration": 25,
    "start_time": "2025-06-05T12:43:34.229Z"
   },
   {
    "duration": 27,
    "start_time": "2025-06-05T12:44:59.460Z"
   },
   {
    "duration": 26,
    "start_time": "2025-06-05T12:45:05.243Z"
   },
   {
    "duration": 30,
    "start_time": "2025-06-05T12:45:15.403Z"
   },
   {
    "duration": 169,
    "start_time": "2025-06-05T12:48:47.472Z"
   },
   {
    "duration": 96,
    "start_time": "2025-06-05T12:50:21.534Z"
   },
   {
    "duration": 497,
    "start_time": "2025-06-05T12:50:31.638Z"
   },
   {
    "duration": 23,
    "start_time": "2025-06-05T12:53:43.553Z"
   },
   {
    "duration": 22,
    "start_time": "2025-06-05T12:54:48.503Z"
   },
   {
    "duration": 4146,
    "start_time": "2025-06-05T12:55:11.279Z"
   },
   {
    "duration": 24,
    "start_time": "2025-06-05T12:55:15.428Z"
   },
   {
    "duration": 24,
    "start_time": "2025-06-05T13:02:22.582Z"
   },
   {
    "duration": 7,
    "start_time": "2025-06-05T13:18:17.268Z"
   },
   {
    "duration": 164,
    "start_time": "2025-06-05T13:18:17.804Z"
   },
   {
    "duration": 27,
    "start_time": "2025-06-05T13:18:22.795Z"
   },
   {
    "duration": 194,
    "start_time": "2025-06-05T13:19:01.635Z"
   },
   {
    "duration": 13,
    "start_time": "2025-06-05T13:25:23.509Z"
   },
   {
    "duration": 111,
    "start_time": "2025-06-05T13:25:38.124Z"
   },
   {
    "duration": 103,
    "start_time": "2025-06-05T13:25:40.735Z"
   },
   {
    "duration": 65,
    "start_time": "2025-06-05T13:32:29.014Z"
   },
   {
    "duration": 62,
    "start_time": "2025-06-05T13:33:07.693Z"
   },
   {
    "duration": 63,
    "start_time": "2025-06-05T13:33:25.981Z"
   },
   {
    "duration": 329,
    "start_time": "2025-06-05T13:35:16.483Z"
   },
   {
    "duration": 201,
    "start_time": "2025-06-05T13:35:48.051Z"
   },
   {
    "duration": 249,
    "start_time": "2025-06-05T13:41:18.501Z"
   },
   {
    "duration": 247,
    "start_time": "2025-06-05T13:42:04.668Z"
   },
   {
    "duration": 133,
    "start_time": "2025-06-05T13:43:26.098Z"
   },
   {
    "duration": 3809,
    "start_time": "2025-06-05T13:51:08.237Z"
   },
   {
    "duration": 3441,
    "start_time": "2025-06-05T13:51:12.047Z"
   },
   {
    "duration": 24,
    "start_time": "2025-06-05T13:51:15.490Z"
   },
   {
    "duration": 141,
    "start_time": "2025-06-05T13:51:15.516Z"
   },
   {
    "duration": 174,
    "start_time": "2025-06-05T13:51:15.658Z"
   },
   {
    "duration": 37,
    "start_time": "2025-06-05T13:51:15.834Z"
   },
   {
    "duration": 49,
    "start_time": "2025-06-05T13:51:15.873Z"
   },
   {
    "duration": 54,
    "start_time": "2025-06-05T13:51:15.923Z"
   },
   {
    "duration": 49,
    "start_time": "2025-06-05T13:51:15.978Z"
   },
   {
    "duration": 5,
    "start_time": "2025-06-05T13:51:16.029Z"
   },
   {
    "duration": 38,
    "start_time": "2025-06-05T13:51:16.036Z"
   },
   {
    "duration": 345,
    "start_time": "2025-06-05T13:51:16.078Z"
   },
   {
    "duration": 32,
    "start_time": "2025-06-05T13:51:16.424Z"
   },
   {
    "duration": 61,
    "start_time": "2025-06-05T13:51:16.457Z"
   },
   {
    "duration": 182,
    "start_time": "2025-06-05T13:51:16.520Z"
   },
   {
    "duration": 192,
    "start_time": "2025-06-05T13:51:16.704Z"
   },
   {
    "duration": 193,
    "start_time": "2025-06-05T13:51:16.898Z"
   },
   {
    "duration": 30,
    "start_time": "2025-06-05T13:51:17.093Z"
   },
   {
    "duration": 10,
    "start_time": "2025-06-05T13:51:17.125Z"
   },
   {
    "duration": 219,
    "start_time": "2025-06-05T13:51:17.137Z"
   },
   {
    "duration": 105,
    "start_time": "2025-06-05T13:51:17.358Z"
   },
   {
    "duration": 26,
    "start_time": "2025-06-05T13:51:17.465Z"
   },
   {
    "duration": 31,
    "start_time": "2025-06-05T13:51:17.493Z"
   },
   {
    "duration": 3855,
    "start_time": "2025-06-05T13:51:17.525Z"
   },
   {
    "duration": 23,
    "start_time": "2025-06-05T13:51:21.382Z"
   },
   {
    "duration": 7,
    "start_time": "2025-06-05T13:51:21.407Z"
   },
   {
    "duration": 188,
    "start_time": "2025-06-05T13:51:21.415Z"
   },
   {
    "duration": 26,
    "start_time": "2025-06-05T13:51:21.605Z"
   },
   {
    "duration": 215,
    "start_time": "2025-06-05T13:51:21.633Z"
   },
   {
    "duration": 114,
    "start_time": "2025-06-05T13:51:21.850Z"
   },
   {
    "duration": 113,
    "start_time": "2025-06-05T13:51:21.966Z"
   },
   {
    "duration": 269,
    "start_time": "2025-06-05T13:51:22.081Z"
   },
   {
    "duration": 279,
    "start_time": "2025-06-05T13:51:22.353Z"
   },
   {
    "duration": 141,
    "start_time": "2025-06-05T13:51:22.634Z"
   },
   {
    "duration": 10321,
    "start_time": "2025-06-06T07:08:16.296Z"
   },
   {
    "duration": 2112,
    "start_time": "2025-06-06T07:08:26.619Z"
   },
   {
    "duration": 22,
    "start_time": "2025-06-06T07:08:28.733Z"
   },
   {
    "duration": 141,
    "start_time": "2025-06-06T07:08:28.758Z"
   },
   {
    "duration": 170,
    "start_time": "2025-06-06T07:08:28.901Z"
   },
   {
    "duration": 24,
    "start_time": "2025-06-06T07:08:29.073Z"
   },
   {
    "duration": 77,
    "start_time": "2025-06-06T07:08:29.099Z"
   },
   {
    "duration": 29,
    "start_time": "2025-06-06T07:08:29.178Z"
   },
   {
    "duration": 86,
    "start_time": "2025-06-06T07:08:29.209Z"
   },
   {
    "duration": 4,
    "start_time": "2025-06-06T07:08:29.298Z"
   },
   {
    "duration": 14,
    "start_time": "2025-06-06T07:08:29.304Z"
   },
   {
    "duration": 322,
    "start_time": "2025-06-06T07:08:29.319Z"
   },
   {
    "duration": 47,
    "start_time": "2025-06-06T07:08:29.643Z"
   },
   {
    "duration": 119,
    "start_time": "2025-06-06T07:08:29.691Z"
   },
   {
    "duration": 181,
    "start_time": "2025-06-06T07:08:29.811Z"
   },
   {
    "duration": 185,
    "start_time": "2025-06-06T07:08:29.994Z"
   },
   {
    "duration": 191,
    "start_time": "2025-06-06T07:08:30.181Z"
   },
   {
    "duration": 37,
    "start_time": "2025-06-06T07:08:30.374Z"
   },
   {
    "duration": 9,
    "start_time": "2025-06-06T07:08:30.412Z"
   },
   {
    "duration": 204,
    "start_time": "2025-06-06T07:08:30.423Z"
   },
   {
    "duration": 109,
    "start_time": "2025-06-06T07:08:30.628Z"
   },
   {
    "duration": 36,
    "start_time": "2025-06-06T07:08:30.739Z"
   },
   {
    "duration": 30,
    "start_time": "2025-06-06T07:08:30.777Z"
   },
   {
    "duration": 4092,
    "start_time": "2025-06-06T07:08:30.809Z"
   },
   {
    "duration": 20,
    "start_time": "2025-06-06T07:08:34.903Z"
   },
   {
    "duration": 39,
    "start_time": "2025-06-06T07:08:34.924Z"
   },
   {
    "duration": 164,
    "start_time": "2025-06-06T07:08:34.965Z"
   },
   {
    "duration": 32,
    "start_time": "2025-06-06T07:08:35.133Z"
   },
   {
    "duration": 303,
    "start_time": "2025-06-06T07:08:35.167Z"
   },
   {
    "duration": 103,
    "start_time": "2025-06-06T07:08:35.471Z"
   },
   {
    "duration": 113,
    "start_time": "2025-06-06T07:08:35.576Z"
   },
   {
    "duration": 239,
    "start_time": "2025-06-06T07:08:35.691Z"
   },
   {
    "duration": 281,
    "start_time": "2025-06-06T07:08:35.932Z"
   },
   {
    "duration": 128,
    "start_time": "2025-06-06T07:08:36.214Z"
   },
   {
    "duration": 114,
    "start_time": "2025-06-06T07:14:32.420Z"
   },
   {
    "duration": 18,
    "start_time": "2025-06-06T07:14:57.261Z"
   },
   {
    "duration": 13,
    "start_time": "2025-06-06T07:46:12.480Z"
   },
   {
    "duration": 4,
    "start_time": "2025-06-06T07:48:39.788Z"
   },
   {
    "duration": 29,
    "start_time": "2025-06-06T07:48:48.356Z"
   },
   {
    "duration": 27,
    "start_time": "2025-06-06T07:50:33.442Z"
   },
   {
    "duration": 11,
    "start_time": "2025-06-06T07:56:54.163Z"
   },
   {
    "duration": 12,
    "start_time": "2025-06-06T07:57:37.186Z"
   },
   {
    "duration": 138,
    "start_time": "2025-06-06T08:01:47.085Z"
   },
   {
    "duration": 1287,
    "start_time": "2025-06-06T08:02:18.085Z"
   },
   {
    "duration": 1222,
    "start_time": "2025-06-06T08:02:25.909Z"
   },
   {
    "duration": 1302,
    "start_time": "2025-06-06T08:02:44.316Z"
   },
   {
    "duration": 202,
    "start_time": "2025-06-06T08:05:17.226Z"
   },
   {
    "duration": 6,
    "start_time": "2025-06-06T08:10:53.523Z"
   },
   {
    "duration": 10,
    "start_time": "2025-06-06T08:13:42.807Z"
   },
   {
    "duration": 6,
    "start_time": "2025-06-06T08:24:29.588Z"
   },
   {
    "duration": 13,
    "start_time": "2025-06-06T08:24:58.988Z"
   },
   {
    "duration": 1045,
    "start_time": "2025-06-06T08:26:38.082Z"
   },
   {
    "duration": 555,
    "start_time": "2025-06-06T08:27:16.498Z"
   },
   {
    "duration": 130,
    "start_time": "2025-06-06T08:30:57.214Z"
   },
   {
    "duration": 516,
    "start_time": "2025-06-06T08:36:40.047Z"
   },
   {
    "duration": 483,
    "start_time": "2025-06-06T08:37:28.070Z"
   },
   {
    "duration": 7,
    "start_time": "2025-06-06T08:38:17.214Z"
   },
   {
    "duration": 28,
    "start_time": "2025-06-06T09:15:13.908Z"
   },
   {
    "duration": 42,
    "start_time": "2025-06-06T09:19:21.807Z"
   },
   {
    "duration": 7,
    "start_time": "2025-06-06T09:22:06.420Z"
   },
   {
    "duration": 73,
    "start_time": "2025-06-06T09:24:01.434Z"
   },
   {
    "duration": 17,
    "start_time": "2025-06-06T09:24:15.657Z"
   },
   {
    "duration": 242,
    "start_time": "2025-06-06T09:25:58.135Z"
   },
   {
    "duration": 8,
    "start_time": "2025-06-06T09:47:59.584Z"
   },
   {
    "duration": 13,
    "start_time": "2025-06-06T09:48:19.279Z"
   },
   {
    "duration": 14,
    "start_time": "2025-06-06T11:09:07.782Z"
   },
   {
    "duration": 30,
    "start_time": "2025-06-06T11:19:18.482Z"
   },
   {
    "duration": 41,
    "start_time": "2025-06-06T11:19:19.938Z"
   },
   {
    "duration": 40,
    "start_time": "2025-06-06T11:23:02.238Z"
   },
   {
    "duration": 50,
    "start_time": "2025-06-06T11:24:01.510Z"
   },
   {
    "duration": 37,
    "start_time": "2025-06-06T11:27:30.578Z"
   },
   {
    "duration": 37,
    "start_time": "2025-06-06T11:29:39.176Z"
   },
   {
    "duration": 14,
    "start_time": "2025-06-06T11:52:44.477Z"
   },
   {
    "duration": 8,
    "start_time": "2025-06-06T11:52:51.781Z"
   },
   {
    "duration": 12,
    "start_time": "2025-06-06T11:53:49.052Z"
   },
   {
    "duration": 11,
    "start_time": "2025-06-06T11:55:05.139Z"
   },
   {
    "duration": 11,
    "start_time": "2025-06-06T11:56:03.506Z"
   },
   {
    "duration": 12,
    "start_time": "2025-06-06T11:56:27.353Z"
   },
   {
    "duration": 169,
    "start_time": "2025-06-06T12:01:34.163Z"
   },
   {
    "duration": 79,
    "start_time": "2025-06-06T12:01:52.602Z"
   },
   {
    "duration": 121,
    "start_time": "2025-06-06T12:02:01.595Z"
   },
   {
    "duration": 135,
    "start_time": "2025-06-06T12:02:08.987Z"
   },
   {
    "duration": 129,
    "start_time": "2025-06-06T12:02:24.811Z"
   },
   {
    "duration": 158,
    "start_time": "2025-06-06T12:03:23.409Z"
   },
   {
    "duration": 163,
    "start_time": "2025-06-06T12:03:33.241Z"
   },
   {
    "duration": 12,
    "start_time": "2025-06-06T12:06:02.038Z"
   },
   {
    "duration": 9,
    "start_time": "2025-06-06T12:06:22.182Z"
   },
   {
    "duration": 11,
    "start_time": "2025-06-06T12:06:45.518Z"
   },
   {
    "duration": 3614,
    "start_time": "2025-06-06T13:05:13.870Z"
   },
   {
    "duration": 1977,
    "start_time": "2025-06-06T13:05:17.486Z"
   },
   {
    "duration": 22,
    "start_time": "2025-06-06T13:05:19.465Z"
   },
   {
    "duration": 129,
    "start_time": "2025-06-06T13:05:19.488Z"
   },
   {
    "duration": 151,
    "start_time": "2025-06-06T13:05:19.619Z"
   },
   {
    "duration": 24,
    "start_time": "2025-06-06T13:05:19.772Z"
   },
   {
    "duration": 45,
    "start_time": "2025-06-06T13:05:19.797Z"
   },
   {
    "duration": 28,
    "start_time": "2025-06-06T13:05:19.859Z"
   },
   {
    "duration": 45,
    "start_time": "2025-06-06T13:05:19.888Z"
   },
   {
    "duration": 22,
    "start_time": "2025-06-06T13:05:19.937Z"
   },
   {
    "duration": 50,
    "start_time": "2025-06-06T13:05:19.961Z"
   },
   {
    "duration": 298,
    "start_time": "2025-06-06T13:05:20.013Z"
   },
   {
    "duration": 29,
    "start_time": "2025-06-06T13:05:20.314Z"
   },
   {
    "duration": 50,
    "start_time": "2025-06-06T13:05:20.344Z"
   },
   {
    "duration": 181,
    "start_time": "2025-06-06T13:05:20.396Z"
   },
   {
    "duration": 179,
    "start_time": "2025-06-06T13:05:20.579Z"
   },
   {
    "duration": 159,
    "start_time": "2025-06-06T13:05:20.759Z"
   },
   {
    "duration": 44,
    "start_time": "2025-06-06T13:05:20.920Z"
   },
   {
    "duration": 9,
    "start_time": "2025-06-06T13:05:20.965Z"
   },
   {
    "duration": 196,
    "start_time": "2025-06-06T13:05:20.976Z"
   },
   {
    "duration": 97,
    "start_time": "2025-06-06T13:05:21.174Z"
   },
   {
    "duration": 21,
    "start_time": "2025-06-06T13:05:21.272Z"
   },
   {
    "duration": 20,
    "start_time": "2025-06-06T13:05:21.294Z"
   },
   {
    "duration": 3755,
    "start_time": "2025-06-06T13:05:21.315Z"
   },
   {
    "duration": 22,
    "start_time": "2025-06-06T13:05:25.071Z"
   },
   {
    "duration": 7,
    "start_time": "2025-06-06T13:05:25.094Z"
   },
   {
    "duration": 191,
    "start_time": "2025-06-06T13:05:25.102Z"
   },
   {
    "duration": 24,
    "start_time": "2025-06-06T13:05:25.296Z"
   },
   {
    "duration": 196,
    "start_time": "2025-06-06T13:05:25.322Z"
   },
   {
    "duration": 144,
    "start_time": "2025-06-06T13:05:25.519Z"
   },
   {
    "duration": 0,
    "start_time": "2025-06-06T13:05:25.665Z"
   },
   {
    "duration": 0,
    "start_time": "2025-06-06T13:05:25.666Z"
   },
   {
    "duration": 0,
    "start_time": "2025-06-06T13:05:25.667Z"
   },
   {
    "duration": 0,
    "start_time": "2025-06-06T13:05:25.668Z"
   },
   {
    "duration": 0,
    "start_time": "2025-06-06T13:05:25.669Z"
   },
   {
    "duration": 0,
    "start_time": "2025-06-06T13:05:25.670Z"
   },
   {
    "duration": 0,
    "start_time": "2025-06-06T13:05:25.671Z"
   },
   {
    "duration": 0,
    "start_time": "2025-06-06T13:05:25.672Z"
   },
   {
    "duration": 0,
    "start_time": "2025-06-06T13:05:25.673Z"
   },
   {
    "duration": 0,
    "start_time": "2025-06-06T13:05:25.675Z"
   },
   {
    "duration": 0,
    "start_time": "2025-06-06T13:05:25.676Z"
   },
   {
    "duration": 0,
    "start_time": "2025-06-06T13:05:25.677Z"
   },
   {
    "duration": 0,
    "start_time": "2025-06-06T13:05:25.678Z"
   },
   {
    "duration": 0,
    "start_time": "2025-06-06T13:05:25.679Z"
   },
   {
    "duration": 0,
    "start_time": "2025-06-06T13:05:25.680Z"
   },
   {
    "duration": 0,
    "start_time": "2025-06-06T13:05:25.681Z"
   },
   {
    "duration": 0,
    "start_time": "2025-06-06T13:05:25.683Z"
   },
   {
    "duration": 0,
    "start_time": "2025-06-06T13:05:25.684Z"
   },
   {
    "duration": 0,
    "start_time": "2025-06-06T13:05:25.685Z"
   },
   {
    "duration": 0,
    "start_time": "2025-06-06T13:05:25.686Z"
   },
   {
    "duration": 3656,
    "start_time": "2025-06-06T13:06:01.433Z"
   },
   {
    "duration": 1743,
    "start_time": "2025-06-06T13:06:05.091Z"
   },
   {
    "duration": 20,
    "start_time": "2025-06-06T13:06:06.835Z"
   },
   {
    "duration": 120,
    "start_time": "2025-06-06T13:06:06.857Z"
   },
   {
    "duration": 158,
    "start_time": "2025-06-06T13:06:06.978Z"
   },
   {
    "duration": 30,
    "start_time": "2025-06-06T13:06:07.138Z"
   },
   {
    "duration": 49,
    "start_time": "2025-06-06T13:06:07.170Z"
   },
   {
    "duration": 45,
    "start_time": "2025-06-06T13:06:07.221Z"
   },
   {
    "duration": 45,
    "start_time": "2025-06-06T13:06:07.268Z"
   },
   {
    "duration": 4,
    "start_time": "2025-06-06T13:06:07.316Z"
   },
   {
    "duration": 48,
    "start_time": "2025-06-06T13:06:07.321Z"
   },
   {
    "duration": 294,
    "start_time": "2025-06-06T13:06:07.370Z"
   },
   {
    "duration": 29,
    "start_time": "2025-06-06T13:06:07.665Z"
   },
   {
    "duration": 42,
    "start_time": "2025-06-06T13:06:07.695Z"
   },
   {
    "duration": 158,
    "start_time": "2025-06-06T13:06:07.757Z"
   },
   {
    "duration": 180,
    "start_time": "2025-06-06T13:06:07.917Z"
   },
   {
    "duration": 171,
    "start_time": "2025-06-06T13:06:08.098Z"
   },
   {
    "duration": 27,
    "start_time": "2025-06-06T13:06:08.271Z"
   },
   {
    "duration": 18,
    "start_time": "2025-06-06T13:06:08.300Z"
   },
   {
    "duration": 197,
    "start_time": "2025-06-06T13:06:08.320Z"
   },
   {
    "duration": 96,
    "start_time": "2025-06-06T13:06:08.519Z"
   },
   {
    "duration": 20,
    "start_time": "2025-06-06T13:06:08.617Z"
   },
   {
    "duration": 141,
    "start_time": "2025-06-06T13:06:08.639Z"
   },
   {
    "duration": 3764,
    "start_time": "2025-06-06T13:06:08.781Z"
   },
   {
    "duration": 27,
    "start_time": "2025-06-06T13:06:12.546Z"
   },
   {
    "duration": 6,
    "start_time": "2025-06-06T13:06:12.575Z"
   },
   {
    "duration": 304,
    "start_time": "2025-06-06T13:06:12.583Z"
   },
   {
    "duration": 24,
    "start_time": "2025-06-06T13:06:12.890Z"
   },
   {
    "duration": 191,
    "start_time": "2025-06-06T13:06:12.916Z"
   },
   {
    "duration": 100,
    "start_time": "2025-06-06T13:06:13.109Z"
   },
   {
    "duration": 116,
    "start_time": "2025-06-06T13:06:13.211Z"
   },
   {
    "duration": 283,
    "start_time": "2025-06-06T13:06:13.329Z"
   },
   {
    "duration": 320,
    "start_time": "2025-06-06T13:06:13.614Z"
   },
   {
    "duration": 130,
    "start_time": "2025-06-06T13:06:13.936Z"
   },
   {
    "duration": 29,
    "start_time": "2025-06-06T13:06:14.067Z"
   },
   {
    "duration": 77,
    "start_time": "2025-06-06T13:06:14.098Z"
   },
   {
    "duration": 10,
    "start_time": "2025-06-06T13:06:14.177Z"
   },
   {
    "duration": 14,
    "start_time": "2025-06-06T13:06:14.189Z"
   },
   {
    "duration": 546,
    "start_time": "2025-06-06T13:06:14.205Z"
   },
   {
    "duration": 128,
    "start_time": "2025-06-06T13:06:14.753Z"
   },
   {
    "duration": 37,
    "start_time": "2025-06-06T13:06:14.883Z"
   },
   {
    "duration": 53,
    "start_time": "2025-06-06T13:06:14.922Z"
   },
   {
    "duration": 5,
    "start_time": "2025-06-06T13:06:14.977Z"
   },
   {
    "duration": 22,
    "start_time": "2025-06-06T13:06:14.984Z"
   },
   {
    "duration": 241,
    "start_time": "2025-06-06T13:06:15.007Z"
   },
   {
    "duration": 22,
    "start_time": "2025-06-06T13:06:15.250Z"
   },
   {
    "duration": 40,
    "start_time": "2025-06-06T13:06:15.273Z"
   },
   {
    "duration": 59,
    "start_time": "2025-06-06T13:06:15.315Z"
   },
   {
    "duration": 12,
    "start_time": "2025-06-06T13:06:15.376Z"
   },
   {
    "duration": 183,
    "start_time": "2025-06-06T13:06:15.390Z"
   },
   {
    "duration": 10287,
    "start_time": "2025-06-07T06:43:06.407Z"
   },
   {
    "duration": 2028,
    "start_time": "2025-06-07T06:43:16.696Z"
   },
   {
    "duration": 23,
    "start_time": "2025-06-07T06:43:18.726Z"
   },
   {
    "duration": 154,
    "start_time": "2025-06-07T06:43:18.751Z"
   },
   {
    "duration": 176,
    "start_time": "2025-06-07T06:43:18.907Z"
   },
   {
    "duration": 24,
    "start_time": "2025-06-07T06:43:19.084Z"
   },
   {
    "duration": 58,
    "start_time": "2025-06-07T06:43:19.109Z"
   },
   {
    "duration": 29,
    "start_time": "2025-06-07T06:43:19.169Z"
   },
   {
    "duration": 216,
    "start_time": "2025-06-07T06:43:19.200Z"
   },
   {
    "duration": 4,
    "start_time": "2025-06-07T06:43:19.419Z"
   },
   {
    "duration": 48,
    "start_time": "2025-06-07T06:43:19.425Z"
   },
   {
    "duration": 312,
    "start_time": "2025-06-07T06:43:19.474Z"
   },
   {
    "duration": 29,
    "start_time": "2025-06-07T06:43:19.788Z"
   },
   {
    "duration": 59,
    "start_time": "2025-06-07T06:43:19.819Z"
   },
   {
    "duration": 168,
    "start_time": "2025-06-07T06:43:19.880Z"
   },
   {
    "duration": 189,
    "start_time": "2025-06-07T06:43:20.050Z"
   },
   {
    "duration": 162,
    "start_time": "2025-06-07T06:43:20.240Z"
   },
   {
    "duration": 53,
    "start_time": "2025-06-07T06:43:20.404Z"
   },
   {
    "duration": 10,
    "start_time": "2025-06-07T06:43:20.458Z"
   },
   {
    "duration": 273,
    "start_time": "2025-06-07T06:43:20.470Z"
   },
   {
    "duration": 98,
    "start_time": "2025-06-07T06:43:20.745Z"
   },
   {
    "duration": 21,
    "start_time": "2025-06-07T06:43:20.845Z"
   },
   {
    "duration": 19,
    "start_time": "2025-06-07T06:43:20.867Z"
   },
   {
    "duration": 3887,
    "start_time": "2025-06-07T06:43:20.888Z"
   },
   {
    "duration": 23,
    "start_time": "2025-06-07T06:43:24.777Z"
   },
   {
    "duration": 7,
    "start_time": "2025-06-07T06:43:24.801Z"
   },
   {
    "duration": 177,
    "start_time": "2025-06-07T06:43:24.809Z"
   },
   {
    "duration": 25,
    "start_time": "2025-06-07T06:43:24.989Z"
   },
   {
    "duration": 224,
    "start_time": "2025-06-07T06:43:25.016Z"
   },
   {
    "duration": 99,
    "start_time": "2025-06-07T06:43:25.242Z"
   },
   {
    "duration": 125,
    "start_time": "2025-06-07T06:43:25.343Z"
   },
   {
    "duration": 286,
    "start_time": "2025-06-07T06:43:25.469Z"
   },
   {
    "duration": 307,
    "start_time": "2025-06-07T06:43:25.757Z"
   },
   {
    "duration": 130,
    "start_time": "2025-06-07T06:43:26.066Z"
   },
   {
    "duration": 29,
    "start_time": "2025-06-07T06:43:26.198Z"
   },
   {
    "duration": 25,
    "start_time": "2025-06-07T06:43:26.236Z"
   },
   {
    "duration": 29,
    "start_time": "2025-06-07T06:43:26.263Z"
   },
   {
    "duration": 9,
    "start_time": "2025-06-07T06:43:26.294Z"
   },
   {
    "duration": 534,
    "start_time": "2025-06-07T06:43:26.305Z"
   },
   {
    "duration": 137,
    "start_time": "2025-06-07T06:43:26.841Z"
   },
   {
    "duration": 35,
    "start_time": "2025-06-07T06:43:26.979Z"
   },
   {
    "duration": 74,
    "start_time": "2025-06-07T06:43:27.015Z"
   },
   {
    "duration": 6,
    "start_time": "2025-06-07T06:43:27.090Z"
   },
   {
    "duration": 11,
    "start_time": "2025-06-07T06:43:27.097Z"
   },
   {
    "duration": 221,
    "start_time": "2025-06-07T06:43:27.110Z"
   },
   {
    "duration": 17,
    "start_time": "2025-06-07T06:43:27.335Z"
   },
   {
    "duration": 30,
    "start_time": "2025-06-07T06:43:27.354Z"
   },
   {
    "duration": 60,
    "start_time": "2025-06-07T06:43:27.386Z"
   },
   {
    "duration": 12,
    "start_time": "2025-06-07T06:43:27.447Z"
   },
   {
    "duration": 187,
    "start_time": "2025-06-07T06:43:27.461Z"
   },
   {
    "duration": 39,
    "start_time": "2025-06-07T06:52:05.219Z"
   },
   {
    "duration": 28,
    "start_time": "2025-06-07T06:55:36.007Z"
   },
   {
    "duration": 36,
    "start_time": "2025-06-07T06:55:45.929Z"
   },
   {
    "duration": 19,
    "start_time": "2025-06-07T07:03:12.216Z"
   },
   {
    "duration": 124,
    "start_time": "2025-06-07T07:08:48.269Z"
   },
   {
    "duration": 28,
    "start_time": "2025-06-07T07:13:17.309Z"
   },
   {
    "duration": 3899,
    "start_time": "2025-06-07T07:24:45.105Z"
   },
   {
    "duration": 2443,
    "start_time": "2025-06-07T07:24:49.007Z"
   },
   {
    "duration": 24,
    "start_time": "2025-06-07T07:24:51.452Z"
   },
   {
    "duration": 212,
    "start_time": "2025-06-07T07:24:51.479Z"
   },
   {
    "duration": 170,
    "start_time": "2025-06-07T07:24:51.692Z"
   },
   {
    "duration": 28,
    "start_time": "2025-06-07T07:24:51.864Z"
   },
   {
    "duration": 64,
    "start_time": "2025-06-07T07:24:51.893Z"
   },
   {
    "duration": 31,
    "start_time": "2025-06-07T07:24:51.958Z"
   },
   {
    "duration": 65,
    "start_time": "2025-06-07T07:24:51.991Z"
   },
   {
    "duration": 5,
    "start_time": "2025-06-07T07:24:52.059Z"
   },
   {
    "duration": 23,
    "start_time": "2025-06-07T07:24:52.066Z"
   },
   {
    "duration": 321,
    "start_time": "2025-06-07T07:24:52.091Z"
   },
   {
    "duration": 42,
    "start_time": "2025-06-07T07:24:52.414Z"
   },
   {
    "duration": 53,
    "start_time": "2025-06-07T07:24:52.458Z"
   },
   {
    "duration": 175,
    "start_time": "2025-06-07T07:24:52.513Z"
   },
   {
    "duration": 187,
    "start_time": "2025-06-07T07:24:52.690Z"
   },
   {
    "duration": 184,
    "start_time": "2025-06-07T07:24:52.879Z"
   },
   {
    "duration": 29,
    "start_time": "2025-06-07T07:24:53.065Z"
   },
   {
    "duration": 11,
    "start_time": "2025-06-07T07:24:53.096Z"
   },
   {
    "duration": 263,
    "start_time": "2025-06-07T07:24:53.109Z"
   },
   {
    "duration": 110,
    "start_time": "2025-06-07T07:24:53.374Z"
   },
   {
    "duration": 22,
    "start_time": "2025-06-07T07:24:53.485Z"
   },
   {
    "duration": 110,
    "start_time": "2025-06-07T07:24:53.509Z"
   },
   {
    "duration": 3918,
    "start_time": "2025-06-07T07:24:53.621Z"
   },
   {
    "duration": 22,
    "start_time": "2025-06-07T07:24:57.541Z"
   },
   {
    "duration": 18,
    "start_time": "2025-06-07T07:24:57.564Z"
   },
   {
    "duration": 175,
    "start_time": "2025-06-07T07:24:57.584Z"
   },
   {
    "duration": 88,
    "start_time": "2025-06-07T07:24:57.763Z"
   },
   {
    "duration": 220,
    "start_time": "2025-06-07T07:24:57.853Z"
   },
   {
    "duration": 108,
    "start_time": "2025-06-07T07:24:58.075Z"
   },
   {
    "duration": 118,
    "start_time": "2025-06-07T07:24:58.184Z"
   },
   {
    "duration": 306,
    "start_time": "2025-06-07T07:24:58.304Z"
   },
   {
    "duration": 348,
    "start_time": "2025-06-07T07:24:58.611Z"
   },
   {
    "duration": 183,
    "start_time": "2025-06-07T07:24:58.961Z"
   },
   {
    "duration": 30,
    "start_time": "2025-06-07T07:24:59.147Z"
   },
   {
    "duration": 28,
    "start_time": "2025-06-07T07:24:59.178Z"
   },
   {
    "duration": 36,
    "start_time": "2025-06-07T07:24:59.208Z"
   },
   {
    "duration": 10,
    "start_time": "2025-06-07T07:24:59.247Z"
   },
   {
    "duration": 589,
    "start_time": "2025-06-07T07:24:59.259Z"
   },
   {
    "duration": 146,
    "start_time": "2025-06-07T07:24:59.850Z"
   },
   {
    "duration": 145,
    "start_time": "2025-06-07T07:24:59.997Z"
   },
   {
    "duration": 51,
    "start_time": "2025-06-07T07:25:00.144Z"
   },
   {
    "duration": 81,
    "start_time": "2025-06-07T07:25:00.197Z"
   },
   {
    "duration": 79,
    "start_time": "2025-06-07T07:25:00.281Z"
   },
   {
    "duration": 55,
    "start_time": "2025-06-07T07:25:00.361Z"
   },
   {
    "duration": 269,
    "start_time": "2025-06-07T07:25:00.417Z"
   },
   {
    "duration": 20,
    "start_time": "2025-06-07T07:25:00.688Z"
   },
   {
    "duration": 144,
    "start_time": "2025-06-07T07:25:00.709Z"
   },
   {
    "duration": 41,
    "start_time": "2025-06-07T07:25:00.855Z"
   },
   {
    "duration": 118,
    "start_time": "2025-06-07T07:25:00.898Z"
   },
   {
    "duration": 184,
    "start_time": "2025-06-07T07:25:01.019Z"
   },
   {
    "duration": 9500,
    "start_time": "2025-06-09T07:46:33.626Z"
   },
   {
    "duration": 2695,
    "start_time": "2025-06-09T07:46:43.128Z"
   },
   {
    "duration": 20,
    "start_time": "2025-06-09T07:46:45.825Z"
   },
   {
    "duration": 125,
    "start_time": "2025-06-09T07:46:45.847Z"
   },
   {
    "duration": 172,
    "start_time": "2025-06-09T07:46:45.974Z"
   },
   {
    "duration": 32,
    "start_time": "2025-06-09T07:46:46.148Z"
   },
   {
    "duration": 52,
    "start_time": "2025-06-09T07:46:46.182Z"
   },
   {
    "duration": 49,
    "start_time": "2025-06-09T07:46:46.235Z"
   },
   {
    "duration": 47,
    "start_time": "2025-06-09T07:46:46.286Z"
   },
   {
    "duration": 5,
    "start_time": "2025-06-09T07:46:46.362Z"
   },
   {
    "duration": 30,
    "start_time": "2025-06-09T07:46:46.369Z"
   },
   {
    "duration": 308,
    "start_time": "2025-06-09T07:46:46.401Z"
   },
   {
    "duration": 34,
    "start_time": "2025-06-09T07:46:46.711Z"
   },
   {
    "duration": 55,
    "start_time": "2025-06-09T07:46:46.746Z"
   },
   {
    "duration": 174,
    "start_time": "2025-06-09T07:46:46.803Z"
   },
   {
    "duration": 148,
    "start_time": "2025-06-09T07:46:46.979Z"
   },
   {
    "duration": 179,
    "start_time": "2025-06-09T07:46:47.128Z"
   },
   {
    "duration": 30,
    "start_time": "2025-06-09T07:46:47.308Z"
   },
   {
    "duration": 11,
    "start_time": "2025-06-09T07:46:47.360Z"
   },
   {
    "duration": 239,
    "start_time": "2025-06-09T07:46:47.372Z"
   },
   {
    "duration": 100,
    "start_time": "2025-06-09T07:46:47.613Z"
   },
   {
    "duration": 22,
    "start_time": "2025-06-09T07:46:47.715Z"
   },
   {
    "duration": 38,
    "start_time": "2025-06-09T07:46:47.739Z"
   },
   {
    "duration": 3483,
    "start_time": "2025-06-09T07:46:47.779Z"
   },
   {
    "duration": 20,
    "start_time": "2025-06-09T07:46:51.263Z"
   },
   {
    "duration": 12,
    "start_time": "2025-06-09T07:46:51.284Z"
   },
   {
    "duration": 149,
    "start_time": "2025-06-09T07:46:51.297Z"
   },
   {
    "duration": 76,
    "start_time": "2025-06-09T07:46:51.449Z"
   },
   {
    "duration": 174,
    "start_time": "2025-06-09T07:46:51.526Z"
   },
   {
    "duration": 94,
    "start_time": "2025-06-09T07:46:51.701Z"
   },
   {
    "duration": 107,
    "start_time": "2025-06-09T07:46:51.797Z"
   },
   {
    "duration": 267,
    "start_time": "2025-06-09T07:46:51.906Z"
   },
   {
    "duration": 292,
    "start_time": "2025-06-09T07:46:52.175Z"
   },
   {
    "duration": 118,
    "start_time": "2025-06-09T07:46:52.468Z"
   },
   {
    "duration": 137,
    "start_time": "2025-06-09T07:46:52.587Z"
   },
   {
    "duration": 24,
    "start_time": "2025-06-09T07:46:52.725Z"
   },
   {
    "duration": 9,
    "start_time": "2025-06-09T07:46:52.751Z"
   },
   {
    "duration": 24,
    "start_time": "2025-06-09T07:46:52.761Z"
   },
   {
    "duration": 451,
    "start_time": "2025-06-09T07:46:52.787Z"
   },
   {
    "duration": 123,
    "start_time": "2025-06-09T07:46:53.240Z"
   },
   {
    "duration": 123,
    "start_time": "2025-06-09T07:46:53.365Z"
   },
   {
    "duration": 35,
    "start_time": "2025-06-09T07:46:53.489Z"
   },
   {
    "duration": 46,
    "start_time": "2025-06-09T07:46:53.525Z"
   },
   {
    "duration": 5,
    "start_time": "2025-06-09T07:46:53.573Z"
   },
   {
    "duration": 18,
    "start_time": "2025-06-09T07:46:53.580Z"
   },
   {
    "duration": 282,
    "start_time": "2025-06-09T07:46:53.599Z"
   },
   {
    "duration": 16,
    "start_time": "2025-06-09T07:46:53.883Z"
   },
   {
    "duration": 28,
    "start_time": "2025-06-09T07:46:53.901Z"
   },
   {
    "duration": 55,
    "start_time": "2025-06-09T07:46:53.930Z"
   },
   {
    "duration": 74,
    "start_time": "2025-06-09T07:46:53.986Z"
   },
   {
    "duration": 160,
    "start_time": "2025-06-09T07:46:54.061Z"
   },
   {
    "duration": 10170,
    "start_time": "2025-06-14T14:02:38.116Z"
   },
   {
    "duration": 2721,
    "start_time": "2025-06-14T14:02:48.288Z"
   },
   {
    "duration": 22,
    "start_time": "2025-06-14T14:02:51.010Z"
   },
   {
    "duration": 134,
    "start_time": "2025-06-14T14:02:51.034Z"
   },
   {
    "duration": 179,
    "start_time": "2025-06-14T14:02:51.170Z"
   },
   {
    "duration": 38,
    "start_time": "2025-06-14T14:02:51.351Z"
   },
   {
    "duration": 55,
    "start_time": "2025-06-14T14:02:51.393Z"
   },
   {
    "duration": 69,
    "start_time": "2025-06-14T14:02:51.450Z"
   },
   {
    "duration": 41,
    "start_time": "2025-06-14T14:02:51.521Z"
   },
   {
    "duration": 4,
    "start_time": "2025-06-14T14:02:51.565Z"
   },
   {
    "duration": 29,
    "start_time": "2025-06-14T14:02:51.570Z"
   },
   {
    "duration": 325,
    "start_time": "2025-06-14T14:02:51.601Z"
   },
   {
    "duration": 27,
    "start_time": "2025-06-14T14:02:51.928Z"
   },
   {
    "duration": 279,
    "start_time": "2025-06-14T14:02:51.957Z"
   },
   {
    "duration": 162,
    "start_time": "2025-06-14T14:02:52.237Z"
   },
   {
    "duration": 183,
    "start_time": "2025-06-14T14:02:52.401Z"
   },
   {
    "duration": 171,
    "start_time": "2025-06-14T14:02:52.586Z"
   },
   {
    "duration": 35,
    "start_time": "2025-06-14T14:02:52.776Z"
   },
   {
    "duration": 51,
    "start_time": "2025-06-14T14:02:52.813Z"
   },
   {
    "duration": 288,
    "start_time": "2025-06-14T14:02:52.865Z"
   },
   {
    "duration": 107,
    "start_time": "2025-06-14T14:02:53.155Z"
   },
   {
    "duration": 35,
    "start_time": "2025-06-14T14:02:53.264Z"
   },
   {
    "duration": 19,
    "start_time": "2025-06-14T14:02:53.301Z"
   },
   {
    "duration": 3936,
    "start_time": "2025-06-14T14:02:53.322Z"
   },
   {
    "duration": 40,
    "start_time": "2025-06-14T14:02:57.260Z"
   },
   {
    "duration": 283,
    "start_time": "2025-06-14T14:02:57.302Z"
   },
   {
    "duration": 148,
    "start_time": "2025-06-14T14:02:57.587Z"
   },
   {
    "duration": 23,
    "start_time": "2025-06-14T14:02:57.739Z"
   },
   {
    "duration": 199,
    "start_time": "2025-06-14T14:02:57.763Z"
   },
   {
    "duration": 99,
    "start_time": "2025-06-14T14:02:57.964Z"
   },
   {
    "duration": 132,
    "start_time": "2025-06-14T14:02:58.065Z"
   },
   {
    "duration": 301,
    "start_time": "2025-06-14T14:02:58.199Z"
   },
   {
    "duration": 342,
    "start_time": "2025-06-14T14:02:58.501Z"
   },
   {
    "duration": 134,
    "start_time": "2025-06-14T14:02:58.844Z"
   },
   {
    "duration": 51,
    "start_time": "2025-06-14T14:02:58.981Z"
   },
   {
    "duration": 24,
    "start_time": "2025-06-14T14:02:59.034Z"
   },
   {
    "duration": 30,
    "start_time": "2025-06-14T14:02:59.059Z"
   },
   {
    "duration": 23,
    "start_time": "2025-06-14T14:02:59.093Z"
   },
   {
    "duration": 572,
    "start_time": "2025-06-14T14:02:59.118Z"
   },
   {
    "duration": 128,
    "start_time": "2025-06-14T14:02:59.691Z"
   },
   {
    "duration": 138,
    "start_time": "2025-06-14T14:02:59.820Z"
   },
   {
    "duration": 49,
    "start_time": "2025-06-14T14:02:59.961Z"
   },
   {
    "duration": 38,
    "start_time": "2025-06-14T14:03:00.012Z"
   },
   {
    "duration": 106,
    "start_time": "2025-06-14T14:03:00.052Z"
   },
   {
    "duration": 50,
    "start_time": "2025-06-14T14:03:00.160Z"
   },
   {
    "duration": 245,
    "start_time": "2025-06-14T14:03:00.212Z"
   },
   {
    "duration": 120,
    "start_time": "2025-06-14T14:03:00.459Z"
   },
   {
    "duration": 34,
    "start_time": "2025-06-14T14:03:00.581Z"
   },
   {
    "duration": 32,
    "start_time": "2025-06-14T14:03:00.617Z"
   },
   {
    "duration": 45,
    "start_time": "2025-06-14T14:03:00.651Z"
   },
   {
    "duration": 194,
    "start_time": "2025-06-14T14:03:00.697Z"
   }
  ],
  "colab": {
   "provenance": []
  },
  "kernelspec": {
   "display_name": "Python 3 (ipykernel)",
   "language": "python",
   "name": "python3"
  },
  "language_info": {
   "codemirror_mode": {
    "name": "ipython",
    "version": 3
   },
   "file_extension": ".py",
   "mimetype": "text/x-python",
   "name": "python",
   "nbconvert_exporter": "python",
   "pygments_lexer": "ipython3",
   "version": "3.9.5"
  },
  "toc": {
   "base_numbering": 1,
   "nav_menu": {},
   "number_sections": true,
   "sideBar": true,
   "skip_h1_title": true,
   "title_cell": "Table of Contents",
   "title_sidebar": "Contents",
   "toc_cell": false,
   "toc_position": {},
   "toc_section_display": true,
   "toc_window_display": true
  }
 },
 "nbformat": 4,
 "nbformat_minor": 1
}
