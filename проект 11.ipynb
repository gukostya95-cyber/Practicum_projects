{
 "cells": [
  {
   "cell_type": "markdown",
   "metadata": {},
   "source": [
    "<span style=\"color:green\">**Поздравляю, твой проект принят!**</span>\n",
    "\n",
    "Константин, отличная работа, получился качественный аналитический отчет. Поставленные задачи были успешно выполнены! Недочёты исправлены! Надеюсь, ревью было полезным:) Желаю успехов в учебе и следующих проектах!\n",
    "\n",
    "Новые комментарии имеют метку `v2`.\n",
    "\n",
    "<span style=\"color:purple\">**Привет, Константин!**</span>\n",
    "\n",
    "Меня зовут **Василий** и я - ревьювер, буду проверять твой проект.\n",
    "\n",
    "Если не против, я буду обращаться к тебе на \"ТЫ\". Если это неприемлемо, обязательно напиши мне в комментариях – мы прейдем на \"ВЫ\".\n",
    "\n",
    "Спасибо, что прислал проект, вижу, что ты хорошо постарался над ним. В тетради ты сможешь найти мои комментарии. Пострайся учесть их в ходе исправления этого и выполнения дальнейших проектов.\n",
    "\n",
    "Обрати внимание, я буду выделять свои комментарии цветом, в зависимости от того, какие действия, важность и особенности тебя ждут в процессе проверки.\n",
    "\n",
    "<div class=\"alert alert-block alert-success\">\n",
    "\n",
    "**Комментарий ревьювера (все отлично)**\n",
    "    \n",
    "Такими комментариями я буду помечать хорошо проделаную работу, а так же хорошо проделаную работу над ошибками.\n",
    "</div>\n",
    "\n",
    "<div class=\"alert alert-block alert-warning\">\n",
    "\n",
    "**Комментарий ревьювера (что можно улучшить)**\n",
    "    \n",
    "После таких комментариев ничего исправлять не нужно, но я дам рекомендации на будущее и подскажу, что можно улучшить.\n",
    "</div>\n",
    "\n",
    "<div class=\"alert alert-block alert-danger\">\n",
    "    \n",
    "**Комментарий ревьювера (недочет, который нужно доработать)**\n",
    "    \n",
    "Если ты видишь такой комментарий, значит я указываю тебе на недочёт, его нужно исправить. Без такого исправления я не приму твою работу:)\n",
    "</div>\n",
    "\n",
    "**Пожалуста, не удаляй мои комментарии. При повторной проверке, я буду ориентироваться на них.**\n",
    "\n",
    "<span style=\"color:blue\"> Можешь под моими комментариями оставлять свои, в которых опиши свои исправления. Это облегчит процесс проверки и мне, и тебе:) Например, вот так:</span>\n",
    "\n",
    "<div class=\"alert alert-block alert-info\">\n",
    "<b>Комментарий студента:</b>\n",
    "</div>"
   ]
  },
  {
   "cell_type": "markdown",
   "metadata": {
    "id": "u98L9TgH0eMk"
   },
   "source": [
    "# Разработка A/B-тестирования и анализ результатов\n",
    "\n",
    "Вы работаете продуктовым аналитиком в компании, которая разрабатывает развлекательное приложение с функцией «бесконечной» ленты, как, например, в приложениях с короткими видео. В вашем приложении существует две модели монетизации: первая — ежемесячная платная подписка, которая позволяет пользователям смотреть ленту без рекламы, вторая — демонстрация рекламы для пользователей, которые ещё не оформили подписку.\n",
    "\n",
    "Команда разработчиков рекомендательных систем создала новый алгоритм рекомендаций, который, по их мнению, будет показывать более интересный контент для каждого пользователя. Вас, как аналитика, просят помочь рассчитать параметры A/B-теста, который позволит проверить эту гипотезу, и проанализировать его результаты."
   ]
  },
  {
   "cell_type": "markdown",
   "metadata": {
    "id": "LJBRALHs0eMf"
   },
   "source": [
    "## Описание данных\n",
    "\n",
    "Вы будете работать с тремя таблицами:\n",
    "\n",
    "- `sessions_project_history.csv` — таблица с историческими данными по сессиям пользователей на период с 2025-08-11 по 2025-09-23. Путь к файлу: `/datasets/sessions_project_history.csv`.\n",
    "\n",
    "- `sessions_project_test_part.csv` — таблица с данными за первый день проведения A/B-теста, то есть за 2025-10-14. Путь к файлу: `/datasets/sessions_project_test_part.csv`.\n",
    "\n",
    "- `sessions_project_test.csv` — таблица с данными за весь период проведения A/B-теста, то есть с 2025-10-14 по 2025-11-02. Путь к файлу: `/datasets/sessions_project_test.csv`.\n",
    "\n",
    "У этих таблиц почти совпадает структура и содержание колонок, различаются лишь периоды наблюдения.\n",
    "\n",
    "Поля таблиц `sessions_project_history.csv`, `sessions_project_test.csv`, `sessions_project_test_part.csv`:\n",
    "\n",
    "- `user_id` — идентификатор пользователя;\n",
    "\n",
    "- `session_id` — идентификатор сессии в приложении;\n",
    "\n",
    "- `session_date` — дата сессии;\n",
    "\n",
    "- `session_start_ts` — дата и время начала сессии;\n",
    "\n",
    "- `install_date` — дата установки приложения;\n",
    "\n",
    "- `session_number` — порядковый номер сессии для конкретного пользователя;\n",
    "\n",
    "- `registration_flag` — является ли пользователь зарегистрированным;\n",
    "\n",
    "- `page_counter` — количество просмотренных страниц во время сессии;\n",
    "\n",
    "- `region` — регион пользователя;\n",
    "\n",
    "- `device` — тип устройства пользователя;\n",
    "\n",
    "- `test_group` — тестовая группа (в таблице с историческими данными этого столбца нет).\n",
    "\n",
    "\n",
    "## Что нужно сделать\n",
    "Ваши задачи: рассчитать параметры теста, оценить корректность его проведения и проанализировать результаты эксперимента."
   ]
  },
  {
   "cell_type": "markdown",
   "metadata": {},
   "source": [
    "<div class=\"alert alert-block alert-success\">\n",
    "\n",
    "**Комментарий ревьювера (все отлично)**\n",
    "    \n",
    "Хорошее введение, понятно чему посвящен твой проект и какие этапы он содержит👍\n",
    "</div>"
   ]
  },
  {
   "cell_type": "markdown",
   "metadata": {
    "id": "UpOucjID0eMl"
   },
   "source": [
    "### 1. Работа с историческими данными (EDA)"
   ]
  },
  {
   "cell_type": "markdown",
   "metadata": {
    "id": "8iJMtL-30eMl"
   },
   "source": [
    "#### 1.1. Загрузка исторических данных\n",
    "На первом этапе поработайте с историческими данными приложения:\n",
    "\n",
    "- Импортируйте библиотеку pandas.\n",
    "\n",
    "- Считайте и сохраните в датафрейм `sessions_history` CSV-файл с историческими данными о сессиях пользователей `sessions_project_history.csv`.\n",
    "\n",
    "Выведите на экран первые пять строк полученного датафрейма."
   ]
  },
  {
   "cell_type": "code",
   "execution_count": 1,
   "metadata": {
    "id": "6TPR2-1RPboT"
   },
   "outputs": [],
   "source": [
    "# загружаем библиотеку пандас\n",
    "import pandas as pd\n",
    "# загрузим библиотеки для визуализаций\n",
    "import matplotlib.pyplot as plt\n",
    "import seaborn as sns\n",
    "# загружаем библиотеки для стат тестов\n",
    "from statsmodels.stats.power import NormalIndPower\n",
    "from statsmodels.stats.proportion import proportion_effectsize\n",
    "from math import ceil\n",
    "from scipy.stats import ttest_ind\n",
    "from statsmodels.stats.proportion import proportions_ztest"
   ]
  },
  {
   "cell_type": "markdown",
   "metadata": {},
   "source": [
    "<div class=\"alert alert-block alert-warning\">\n",
    "\n",
    "**Комментарий ревьювера (что можно улучшить)**\n",
    "    \n",
    "Все используемые библиотеки лучше импортировать в первой ячейке согласно PEP8. Так твой коллега, запускающий работу, будет в курсе используемых в ней библиотек и сможет настроить свое окружение при необходимости.\n",
    "</div>"
   ]
  },
  {
   "cell_type": "code",
   "execution_count": 2,
   "metadata": {},
   "outputs": [],
   "source": [
    "# загрузим датафрейм с историческими данными\n",
    "sessions_history = pd.read_csv('https://code.s3.yandex.net/datasets/sessions_project_history.csv')"
   ]
  },
  {
   "cell_type": "code",
   "execution_count": 3,
   "metadata": {},
   "outputs": [
    {
     "data": {
      "text/html": [
       "<div>\n",
       "<style scoped>\n",
       "    .dataframe tbody tr th:only-of-type {\n",
       "        vertical-align: middle;\n",
       "    }\n",
       "\n",
       "    .dataframe tbody tr th {\n",
       "        vertical-align: top;\n",
       "    }\n",
       "\n",
       "    .dataframe thead th {\n",
       "        text-align: right;\n",
       "    }\n",
       "</style>\n",
       "<table border=\"1\" class=\"dataframe\">\n",
       "  <thead>\n",
       "    <tr style=\"text-align: right;\">\n",
       "      <th></th>\n",
       "      <th>user_id</th>\n",
       "      <th>session_id</th>\n",
       "      <th>session_date</th>\n",
       "      <th>session_start_ts</th>\n",
       "      <th>install_date</th>\n",
       "      <th>session_number</th>\n",
       "      <th>registration_flag</th>\n",
       "      <th>page_counter</th>\n",
       "      <th>region</th>\n",
       "      <th>device</th>\n",
       "    </tr>\n",
       "  </thead>\n",
       "  <tbody>\n",
       "    <tr>\n",
       "      <th>0</th>\n",
       "      <td>E302123B7000BFE4</td>\n",
       "      <td>F9AF61A0C2023832</td>\n",
       "      <td>2025-08-15</td>\n",
       "      <td>2025-08-15 17:47:35</td>\n",
       "      <td>2025-08-15</td>\n",
       "      <td>1</td>\n",
       "      <td>0</td>\n",
       "      <td>3</td>\n",
       "      <td>CIS</td>\n",
       "      <td>iPhone</td>\n",
       "    </tr>\n",
       "    <tr>\n",
       "      <th>1</th>\n",
       "      <td>2530F72E221829FB</td>\n",
       "      <td>85003A206CBDAC6F</td>\n",
       "      <td>2025-08-15</td>\n",
       "      <td>2025-08-15 16:42:14</td>\n",
       "      <td>2025-08-15</td>\n",
       "      <td>1</td>\n",
       "      <td>0</td>\n",
       "      <td>4</td>\n",
       "      <td>MENA</td>\n",
       "      <td>Android</td>\n",
       "    </tr>\n",
       "    <tr>\n",
       "      <th>2</th>\n",
       "      <td>876E020A4FC512F5</td>\n",
       "      <td>3677423E49D72DEE</td>\n",
       "      <td>2025-08-15</td>\n",
       "      <td>2025-08-15 12:30:00</td>\n",
       "      <td>2025-08-15</td>\n",
       "      <td>1</td>\n",
       "      <td>0</td>\n",
       "      <td>4</td>\n",
       "      <td>EU</td>\n",
       "      <td>PC</td>\n",
       "    </tr>\n",
       "    <tr>\n",
       "      <th>3</th>\n",
       "      <td>2640B349E1D81584</td>\n",
       "      <td>956B45F5915CA225</td>\n",
       "      <td>2025-08-15</td>\n",
       "      <td>2025-08-15 15:31:31</td>\n",
       "      <td>2025-08-15</td>\n",
       "      <td>1</td>\n",
       "      <td>0</td>\n",
       "      <td>4</td>\n",
       "      <td>CIS</td>\n",
       "      <td>Android</td>\n",
       "    </tr>\n",
       "    <tr>\n",
       "      <th>4</th>\n",
       "      <td>94E1CBFAEF1F5EE9</td>\n",
       "      <td>83BF0DA35F9F1F40</td>\n",
       "      <td>2025-08-15</td>\n",
       "      <td>2025-08-15 21:33:53</td>\n",
       "      <td>2025-08-15</td>\n",
       "      <td>1</td>\n",
       "      <td>0</td>\n",
       "      <td>3</td>\n",
       "      <td>CIS</td>\n",
       "      <td>Android</td>\n",
       "    </tr>\n",
       "  </tbody>\n",
       "</table>\n",
       "</div>"
      ],
      "text/plain": [
       "            user_id        session_id session_date     session_start_ts  \\\n",
       "0  E302123B7000BFE4  F9AF61A0C2023832   2025-08-15  2025-08-15 17:47:35   \n",
       "1  2530F72E221829FB  85003A206CBDAC6F   2025-08-15  2025-08-15 16:42:14   \n",
       "2  876E020A4FC512F5  3677423E49D72DEE   2025-08-15  2025-08-15 12:30:00   \n",
       "3  2640B349E1D81584  956B45F5915CA225   2025-08-15  2025-08-15 15:31:31   \n",
       "4  94E1CBFAEF1F5EE9  83BF0DA35F9F1F40   2025-08-15  2025-08-15 21:33:53   \n",
       "\n",
       "  install_date  session_number  registration_flag  page_counter region  \\\n",
       "0   2025-08-15               1                  0             3    CIS   \n",
       "1   2025-08-15               1                  0             4   MENA   \n",
       "2   2025-08-15               1                  0             4     EU   \n",
       "3   2025-08-15               1                  0             4    CIS   \n",
       "4   2025-08-15               1                  0             3    CIS   \n",
       "\n",
       "    device  \n",
       "0   iPhone  \n",
       "1  Android  \n",
       "2       PC  \n",
       "3  Android  \n",
       "4  Android  "
      ]
     },
     "execution_count": 3,
     "metadata": {},
     "output_type": "execute_result"
    }
   ],
   "source": [
    "sessions_history.head()"
   ]
  },
  {
   "cell_type": "markdown",
   "metadata": {
    "id": "qTDoiODz0eMo"
   },
   "source": [
    "#### 1.2. Знакомство с данными\n",
    "- Для каждого уникального пользователя `user_id` рассчитайте количество уникальных сессий `session_id`.\n",
    "\n",
    "- Выведите на экран все данные из таблицы `sessions_history` для одного пользователя с наибольшим количеством сессий. Если таких пользователей несколько, выберите любого из них.\n",
    "\n",
    "- Изучите таблицу для одного пользователя, чтобы лучше понять логику формирования каждого столбца данных.\n",
    "\n"
   ]
  },
  {
   "cell_type": "code",
   "execution_count": 4,
   "metadata": {
    "id": "PWZO9vTIPbPN"
   },
   "outputs": [],
   "source": [
    "# проведем группировку по стоблцу user_id и посчитаем кол-во уникальных сессий для каждого пользователя\n",
    "groped = sessions_history.groupby('user_id')['session_id'].nunique().reset_index()"
   ]
  },
  {
   "cell_type": "code",
   "execution_count": 5,
   "metadata": {
    "scrolled": true
   },
   "outputs": [
    {
     "data": {
      "text/html": [
       "<div>\n",
       "<style scoped>\n",
       "    .dataframe tbody tr th:only-of-type {\n",
       "        vertical-align: middle;\n",
       "    }\n",
       "\n",
       "    .dataframe tbody tr th {\n",
       "        vertical-align: top;\n",
       "    }\n",
       "\n",
       "    .dataframe thead th {\n",
       "        text-align: right;\n",
       "    }\n",
       "</style>\n",
       "<table border=\"1\" class=\"dataframe\">\n",
       "  <thead>\n",
       "    <tr style=\"text-align: right;\">\n",
       "      <th></th>\n",
       "      <th>user_id</th>\n",
       "      <th>session_id</th>\n",
       "      <th>session_date</th>\n",
       "      <th>session_start_ts</th>\n",
       "      <th>install_date</th>\n",
       "      <th>session_number</th>\n",
       "      <th>registration_flag</th>\n",
       "      <th>page_counter</th>\n",
       "      <th>region</th>\n",
       "      <th>device</th>\n",
       "    </tr>\n",
       "  </thead>\n",
       "  <tbody>\n",
       "    <tr>\n",
       "      <th>115558</th>\n",
       "      <td>10E0DEFC1ABDBBE0</td>\n",
       "      <td>B8F0423BBFFCF5DC</td>\n",
       "      <td>2025-08-14</td>\n",
       "      <td>2025-08-14 13:57:39</td>\n",
       "      <td>2025-08-14</td>\n",
       "      <td>1</td>\n",
       "      <td>0</td>\n",
       "      <td>4</td>\n",
       "      <td>CIS</td>\n",
       "      <td>Android</td>\n",
       "    </tr>\n",
       "    <tr>\n",
       "      <th>191751</th>\n",
       "      <td>10E0DEFC1ABDBBE0</td>\n",
       "      <td>87CA2FA549473837</td>\n",
       "      <td>2025-08-15</td>\n",
       "      <td>2025-08-15 16:42:10</td>\n",
       "      <td>2025-08-14</td>\n",
       "      <td>2</td>\n",
       "      <td>0</td>\n",
       "      <td>3</td>\n",
       "      <td>CIS</td>\n",
       "      <td>Android</td>\n",
       "    </tr>\n",
       "    <tr>\n",
       "      <th>239370</th>\n",
       "      <td>10E0DEFC1ABDBBE0</td>\n",
       "      <td>4ADD8011DCDCE318</td>\n",
       "      <td>2025-08-16</td>\n",
       "      <td>2025-08-16 19:53:21</td>\n",
       "      <td>2025-08-14</td>\n",
       "      <td>3</td>\n",
       "      <td>0</td>\n",
       "      <td>3</td>\n",
       "      <td>CIS</td>\n",
       "      <td>Android</td>\n",
       "    </tr>\n",
       "    <tr>\n",
       "      <th>274629</th>\n",
       "      <td>10E0DEFC1ABDBBE0</td>\n",
       "      <td>DF0FD0E09BF1F3D7</td>\n",
       "      <td>2025-08-17</td>\n",
       "      <td>2025-08-17 15:03:43</td>\n",
       "      <td>2025-08-14</td>\n",
       "      <td>4</td>\n",
       "      <td>0</td>\n",
       "      <td>1</td>\n",
       "      <td>CIS</td>\n",
       "      <td>Android</td>\n",
       "    </tr>\n",
       "    <tr>\n",
       "      <th>302501</th>\n",
       "      <td>10E0DEFC1ABDBBE0</td>\n",
       "      <td>3C221774B4DE6885</td>\n",
       "      <td>2025-08-18</td>\n",
       "      <td>2025-08-18 17:29:14</td>\n",
       "      <td>2025-08-14</td>\n",
       "      <td>5</td>\n",
       "      <td>0</td>\n",
       "      <td>4</td>\n",
       "      <td>CIS</td>\n",
       "      <td>Android</td>\n",
       "    </tr>\n",
       "    <tr>\n",
       "      <th>325557</th>\n",
       "      <td>10E0DEFC1ABDBBE0</td>\n",
       "      <td>031BD7A67048105B</td>\n",
       "      <td>2025-08-19</td>\n",
       "      <td>2025-08-19 13:23:55</td>\n",
       "      <td>2025-08-14</td>\n",
       "      <td>6</td>\n",
       "      <td>0</td>\n",
       "      <td>2</td>\n",
       "      <td>CIS</td>\n",
       "      <td>Android</td>\n",
       "    </tr>\n",
       "    <tr>\n",
       "      <th>345336</th>\n",
       "      <td>10E0DEFC1ABDBBE0</td>\n",
       "      <td>FF4315CF4AD4B100</td>\n",
       "      <td>2025-08-20</td>\n",
       "      <td>2025-08-20 19:31:54</td>\n",
       "      <td>2025-08-14</td>\n",
       "      <td>7</td>\n",
       "      <td>0</td>\n",
       "      <td>2</td>\n",
       "      <td>CIS</td>\n",
       "      <td>Android</td>\n",
       "    </tr>\n",
       "    <tr>\n",
       "      <th>377532</th>\n",
       "      <td>10E0DEFC1ABDBBE0</td>\n",
       "      <td>4045FEA0747203B4</td>\n",
       "      <td>2025-08-22</td>\n",
       "      <td>2025-08-22 17:54:13</td>\n",
       "      <td>2025-08-14</td>\n",
       "      <td>8</td>\n",
       "      <td>0</td>\n",
       "      <td>2</td>\n",
       "      <td>CIS</td>\n",
       "      <td>Android</td>\n",
       "    </tr>\n",
       "    <tr>\n",
       "      <th>403538</th>\n",
       "      <td>10E0DEFC1ABDBBE0</td>\n",
       "      <td>344B086C421C7F37</td>\n",
       "      <td>2025-08-24</td>\n",
       "      <td>2025-08-24 14:46:13</td>\n",
       "      <td>2025-08-14</td>\n",
       "      <td>9</td>\n",
       "      <td>0</td>\n",
       "      <td>2</td>\n",
       "      <td>CIS</td>\n",
       "      <td>Android</td>\n",
       "    </tr>\n",
       "    <tr>\n",
       "      <th>414743</th>\n",
       "      <td>10E0DEFC1ABDBBE0</td>\n",
       "      <td>054F20BA371E4C9D</td>\n",
       "      <td>2025-08-25</td>\n",
       "      <td>2025-08-25 18:36:41</td>\n",
       "      <td>2025-08-14</td>\n",
       "      <td>10</td>\n",
       "      <td>0</td>\n",
       "      <td>3</td>\n",
       "      <td>CIS</td>\n",
       "      <td>Android</td>\n",
       "    </tr>\n",
       "  </tbody>\n",
       "</table>\n",
       "</div>"
      ],
      "text/plain": [
       "                 user_id        session_id session_date     session_start_ts  \\\n",
       "115558  10E0DEFC1ABDBBE0  B8F0423BBFFCF5DC   2025-08-14  2025-08-14 13:57:39   \n",
       "191751  10E0DEFC1ABDBBE0  87CA2FA549473837   2025-08-15  2025-08-15 16:42:10   \n",
       "239370  10E0DEFC1ABDBBE0  4ADD8011DCDCE318   2025-08-16  2025-08-16 19:53:21   \n",
       "274629  10E0DEFC1ABDBBE0  DF0FD0E09BF1F3D7   2025-08-17  2025-08-17 15:03:43   \n",
       "302501  10E0DEFC1ABDBBE0  3C221774B4DE6885   2025-08-18  2025-08-18 17:29:14   \n",
       "325557  10E0DEFC1ABDBBE0  031BD7A67048105B   2025-08-19  2025-08-19 13:23:55   \n",
       "345336  10E0DEFC1ABDBBE0  FF4315CF4AD4B100   2025-08-20  2025-08-20 19:31:54   \n",
       "377532  10E0DEFC1ABDBBE0  4045FEA0747203B4   2025-08-22  2025-08-22 17:54:13   \n",
       "403538  10E0DEFC1ABDBBE0  344B086C421C7F37   2025-08-24  2025-08-24 14:46:13   \n",
       "414743  10E0DEFC1ABDBBE0  054F20BA371E4C9D   2025-08-25  2025-08-25 18:36:41   \n",
       "\n",
       "       install_date  session_number  registration_flag  page_counter region  \\\n",
       "115558   2025-08-14               1                  0             4    CIS   \n",
       "191751   2025-08-14               2                  0             3    CIS   \n",
       "239370   2025-08-14               3                  0             3    CIS   \n",
       "274629   2025-08-14               4                  0             1    CIS   \n",
       "302501   2025-08-14               5                  0             4    CIS   \n",
       "325557   2025-08-14               6                  0             2    CIS   \n",
       "345336   2025-08-14               7                  0             2    CIS   \n",
       "377532   2025-08-14               8                  0             2    CIS   \n",
       "403538   2025-08-14               9                  0             2    CIS   \n",
       "414743   2025-08-14              10                  0             3    CIS   \n",
       "\n",
       "         device  \n",
       "115558  Android  \n",
       "191751  Android  \n",
       "239370  Android  \n",
       "274629  Android  \n",
       "302501  Android  \n",
       "325557  Android  \n",
       "345336  Android  \n",
       "377532  Android  \n",
       "403538  Android  \n",
       "414743  Android  "
      ]
     },
     "metadata": {},
     "output_type": "display_data"
    }
   ],
   "source": [
    "# найдем пользователя с наибольшим числом уникальных сессий и выдедем для него информацию из таблицы с историческими данными\n",
    "max_sessions = groped['session_id'].max()\n",
    "target_user = groped[groped['session_id'] == max_sessions].iloc[0]['user_id']\n",
    "display(sessions_history[sessions_history['user_id'] == target_user])"
   ]
  },
  {
   "cell_type": "markdown",
   "metadata": {},
   "source": [
    "<div class=\"alert alert-block alert-success\">\n",
    "\n",
    "**Комментарий ревьювера (все отлично)**\n",
    "    \n",
    "Пользователь с наибольшим количеством сессий определен корректно, все сессии этого пользователя выведены на экран👍\n",
    "</div>"
   ]
  },
  {
   "cell_type": "markdown",
   "metadata": {
    "id": "CmcGpJTP0eMq"
   },
   "source": [
    "#### 1.3. Анализ числа регистраций\n",
    "Одна из важнейших метрик продукта — число зарегистрированных пользователей. Используя исторические данные, визуализируйте, как менялось число регистраций в приложении за время его существования.\n",
    "\n",
    "- Агрегируйте исторические данные и рассчитайте число уникальных пользователей и число зарегистрированных пользователей для каждого дня наблюдения. Для простоты считайте, что у пользователя в течение дня бывает одна сессия максимум и статус регистрации в течение одного дня не может измениться.\n",
    "\n",
    "- Постройте линейные графики общего числа пользователей и общего числа зарегистрированных пользователей по дням. Отобразите их на одном графике.\n",
    "\n",
    "- Постройте отдельный линейный график доли зарегистрированных пользователей от всех пользователей по дням.\n",
    "\n",
    "- На обоих графиках должны быть заголовок, подписанные оси X и Y, сетка и легенда."
   ]
  },
  {
   "cell_type": "code",
   "execution_count": 6,
   "metadata": {},
   "outputs": [],
   "source": [
    "# Преобразуем дату в правильный формат\n",
    "sessions_history['session_date'] = pd.to_datetime(sessions_history['session_date'])"
   ]
  },
  {
   "cell_type": "code",
   "execution_count": 7,
   "metadata": {},
   "outputs": [],
   "source": [
    "# Агрегируем данные по дням\n",
    "daily_stats = sessions_history.groupby('session_date').agg(\n",
    "    total_users=('user_id', 'nunique'),  # Общее число уникальных пользователей\n",
    "    registered_users=('registration_flag', lambda x: (x == 1).sum())  # Число зарегистрированных\n",
    ").reset_index()\n",
    "\n",
    "# Рассчитываем долю зарегистрированных пользователей\n",
    "daily_stats['registration_rate'] = daily_stats['registered_users'] / daily_stats['total_users']"
   ]
  },
  {
   "cell_type": "markdown",
   "metadata": {},
   "source": [
    "<div class=\"alert alert-block alert-success\">\n",
    "\n",
    "**Комментарий ревьювера (все отлично)**\n",
    "    \n",
    "Данные для графиков собраны оптимальным способом👍\n",
    "</div>"
   ]
  },
  {
   "cell_type": "code",
   "execution_count": 8,
   "metadata": {},
   "outputs": [
    {
     "data": {
      "image/png": "[encoded data removed]",
      "text/plain": [
       "<Figure size 1008x504 with 1 Axes>"
      ]
     },
     "metadata": {
      "needs_background": "light"
     },
     "output_type": "display_data"
    }
   ],
   "source": [
    "# График 1: Общее число пользователей и зарегистрированных\n",
    "plt.figure(figsize=(14, 7))\n",
    "plt.plot(daily_stats['session_date'], daily_stats['total_users'], label='Общее число пользователей', color='blue')\n",
    "plt.plot(daily_stats['session_date'], daily_stats['registered_users'], label='Зарегистрированные пользователи', color='orange')\n",
    "\n",
    "plt.title('Динамика числа пользователей по дням')\n",
    "plt.xlabel('Дата')\n",
    "plt.ylabel('Количество пользователей')\n",
    "plt.grid(True)\n",
    "plt.legend()\n",
    "plt.xticks(rotation=45)\n",
    "plt.tight_layout()\n",
    "plt.show()"
   ]
  },
  {
   "cell_type": "code",
   "execution_count": 9,
   "metadata": {},
   "outputs": [
    {
     "data": {
      "image/png": "[encoded data removed]",
      "text/plain": [
       "<Figure size 1008x504 with 1 Axes>"
      ]
     },
     "metadata": {
      "needs_background": "light"
     },
     "output_type": "display_data"
    }
   ],
   "source": [
    "# График 2: Доля зарегистрированных пользователей\n",
    "plt.figure(figsize=(14, 7))\n",
    "plt.plot(daily_stats['session_date'], daily_stats['registration_rate'] * 100, color='green')\n",
    "\n",
    "plt.title('Доля зарегистрированных пользователей от общего числа')\n",
    "plt.xlabel('Дата')\n",
    "plt.ylabel('Доля зарегистрированных (%)')\n",
    "plt.grid(True)\n",
    "plt.ylim(0, 100)  # Ограничиваем ось Y от 0 до 100%\n",
    "plt.xticks(rotation=45)\n",
    "plt.tight_layout()\n",
    "plt.show()"
   ]
  },
  {
   "cell_type": "markdown",
   "metadata": {},
   "source": [
    "<div class=\"alert alert-block alert-success\">\n",
    "\n",
    "**Комментарий ревьювера (все отлично)**\n",
    "    \n",
    "Графики построены корректно👍\n",
    "</div>"
   ]
  },
  {
   "cell_type": "markdown",
   "metadata": {
    "id": "UR7D7RhF0eMr"
   },
   "source": [
    "#### 1.4. Анализ числа просмотренных страниц\n",
    "Другая важная метрика продукта — число просмотренных страниц в приложении. Чем больше страниц просмотрено, тем сильнее пользователь увлечён контентом, а значит, выше шансы, что он зарегистрируется и оплатит подписку.\n",
    "\n",
    "- Найдите количество сессий для каждого значения количества просмотренных страниц. Например: одну страницу просмотрели в 29 160 сессиях, две страницы — в 105 536 сессиях и так далее.\n",
    "\n",
    "- Постройте столбчатую диаграмму, где по оси X будет число просмотренных страниц, по оси Y — количество сессий.\n",
    "\n",
    "- На диаграмме должны быть заголовок, подписанные оси X и Y."
   ]
  },
  {
   "cell_type": "code",
   "execution_count": 10,
   "metadata": {
    "id": "cb6hPlVzPaSf"
   },
   "outputs": [
    {
     "data": {
      "text/html": [
       "<div>\n",
       "<style scoped>\n",
       "    .dataframe tbody tr th:only-of-type {\n",
       "        vertical-align: middle;\n",
       "    }\n",
       "\n",
       "    .dataframe tbody tr th {\n",
       "        vertical-align: top;\n",
       "    }\n",
       "\n",
       "    .dataframe thead th {\n",
       "        text-align: right;\n",
       "    }\n",
       "</style>\n",
       "<table border=\"1\" class=\"dataframe\">\n",
       "  <thead>\n",
       "    <tr style=\"text-align: right;\">\n",
       "      <th></th>\n",
       "      <th>page_counter</th>\n",
       "      <th>session_count</th>\n",
       "    </tr>\n",
       "  </thead>\n",
       "  <tbody>\n",
       "    <tr>\n",
       "      <th>0</th>\n",
       "      <td>1</td>\n",
       "      <td>29160</td>\n",
       "    </tr>\n",
       "    <tr>\n",
       "      <th>1</th>\n",
       "      <td>2</td>\n",
       "      <td>105536</td>\n",
       "    </tr>\n",
       "    <tr>\n",
       "      <th>2</th>\n",
       "      <td>3</td>\n",
       "      <td>166690</td>\n",
       "    </tr>\n",
       "    <tr>\n",
       "      <th>3</th>\n",
       "      <td>4</td>\n",
       "      <td>105569</td>\n",
       "    </tr>\n",
       "    <tr>\n",
       "      <th>4</th>\n",
       "      <td>5</td>\n",
       "      <td>26288</td>\n",
       "    </tr>\n",
       "    <tr>\n",
       "      <th>5</th>\n",
       "      <td>6</td>\n",
       "      <td>2589</td>\n",
       "    </tr>\n",
       "    <tr>\n",
       "      <th>6</th>\n",
       "      <td>7</td>\n",
       "      <td>92</td>\n",
       "    </tr>\n",
       "  </tbody>\n",
       "</table>\n",
       "</div>"
      ],
      "text/plain": [
       "   page_counter  session_count\n",
       "0             1          29160\n",
       "1             2         105536\n",
       "2             3         166690\n",
       "3             4         105569\n",
       "4             5          26288\n",
       "5             6           2589\n",
       "6             7             92"
      ]
     },
     "metadata": {},
     "output_type": "display_data"
    }
   ],
   "source": [
    "# сгруппируем данные по кол-ву просмотренных страниц и посчитаем кол-во уникальных сессий\n",
    "page_sessions = sessions_history.groupby('page_counter').agg(\n",
    "    session_count=('session_id', 'nunique')\n",
    ").reset_index()\n",
    "# Сортируем по количеству просмотренных страниц\n",
    "page_sessions = page_sessions.sort_values('page_counter')\n",
    "# посмотрим полученный результат\n",
    "display(page_sessions)"
   ]
  },
  {
   "cell_type": "code",
   "execution_count": 11,
   "metadata": {},
   "outputs": [
    {
     "data": {
      "image/png": "[encoded data removed]",
      "text/plain": [
       "<Figure size 1008x504 with 1 Axes>"
      ]
     },
     "metadata": {
      "needs_background": "light"
     },
     "output_type": "display_data"
    }
   ],
   "source": [
    "# Строим столбчатую диаграмму\n",
    "plt.figure(figsize=(14, 7))\n",
    "plt.bar(\n",
    "    page_sessions['page_counter'],\n",
    "    page_sessions['session_count'],\n",
    "    color='skyblue',\n",
    "    edgecolor='black'\n",
    ")\n",
    "\n",
    "# Оформляем график\n",
    "plt.title('Количество сессий по числу просмотренных страниц', fontsize=16)\n",
    "plt.xlabel('Количество просмотренных страниц', fontsize=14)\n",
    "plt.ylabel('Количество сессий', fontsize=14)\n",
    "plt.xticks(fontsize=12)\n",
    "plt.yticks(fontsize=12)\n",
    "plt.grid(axis='y', linestyle='--', alpha=0.7)\n",
    "plt.xlim(left=0)  # Устанавливаем начало оси X в 0\n",
    "plt.ylim(bottom=0)  # Устанавливаем начало оси Y в 0\n",
    "plt.show()"
   ]
  },
  {
   "cell_type": "markdown",
   "metadata": {},
   "source": [
    "<div class=\"alert alert-block alert-success\">\n",
    "\n",
    "**Комментарий ревьювера (все отлично)**\n",
    "    \n",
    "Данные собраны оптимальным способом, график наглядно демонстрирует распределение сессий в порядке количества просмотренных страниц👍\n",
    "    \n",
    "Здорово, что уделяешь внимание оформлению графиков.\n",
    "    \n",
    "Предлагаю изучить интересные методы по визуализации. Прикрепляю несколько интересных ссылок:\n",
    "   \n",
    "https://coderlessons.com/tutorials/python-technologies/izuchai-siborna/siborn-kratkoe-rukovodstvo\n",
    "\n",
    "https://tproger.ru/translations/python-data-vizualization/\n",
    "</div>\n",
    "</div>"
   ]
  },
  {
   "cell_type": "markdown",
   "metadata": {},
   "source": [
    "Для 3х страниц было проведено наибольшее кол-во сессий(166690). Для 7ми наменьшее число сессий всего 92 "
   ]
  },
  {
   "cell_type": "markdown",
   "metadata": {
    "id": "xDltSpVP0eMr"
   },
   "source": [
    "#### 1.5. Доля пользователей, просмотревших более четырёх страниц\n",
    "Продуктовая команда продукта считает, что сессии, в рамках которых пользователь просмотрел 4 и более страниц, говорят об удовлетворённости контентом и алгоритмами рекомендаций. Этот показатель является важной прокси-метрикой для продукта.\n",
    "\n",
    "- В датафрейме `sessions_history` создайте дополнительный столбец `good_session`. В него войдёт значение `1`, если за одну сессию было просмотрено 4 и более страниц, и значение `0`, если было просмотрено меньше.\n",
    "\n",
    "- Постройте график со средним значением доли успешных сессий от всех сессий по дням за весь период наблюдения."
   ]
  },
  {
   "cell_type": "code",
   "execution_count": 12,
   "metadata": {
    "id": "iygaPfixPYMW"
   },
   "outputs": [],
   "source": [
    "# Создаем новый столбец good_session\n",
    "sessions_history['good_session'] = sessions_history.apply(\n",
    "    lambda row: 1 if row['page_counter'] >= 4 else 0, axis=1)"
   ]
  },
  {
   "cell_type": "code",
   "execution_count": 13,
   "metadata": {},
   "outputs": [],
   "source": [
    "# Агрегируем данные по дням\n",
    "daily_good_sessions = sessions_history.groupby('session_date').agg(\n",
    "    total_sessions=('session_id', 'nunique'),  # Общее число сессий\n",
    "    good_sessions=('good_session', 'sum')      # Число успешных сессий\n",
    ").reset_index()\n",
    "\n",
    "# Рассчитываем долю успешных сессий\n",
    "daily_good_sessions['success_rate'] = daily_good_sessions['good_sessions'] / daily_good_sessions['total_sessions']"
   ]
  },
  {
   "cell_type": "code",
   "execution_count": 14,
   "metadata": {},
   "outputs": [
    {
     "data": {
      "image/png": "[encoded data removed]",
      "text/plain": [
       "<Figure size 1008x504 with 1 Axes>"
      ]
     },
     "metadata": {
      "needs_background": "light"
     },
     "output_type": "display_data"
    }
   ],
   "source": [
    "# Строим график\n",
    "plt.figure(figsize=(14, 7))\n",
    "plt.plot(\n",
    "    daily_good_sessions['session_date'],\n",
    "    daily_good_sessions['success_rate'] * 100,\n",
    "    marker='o',\n",
    "    linestyle='-',\n",
    "    color='purple'\n",
    ")\n",
    "\n",
    "# Оформляем график\n",
    "plt.title('Доля успешных сессий (4+ страниц) от общего числа по дням', fontsize=16)\n",
    "plt.xlabel('Дата', fontsize=14)\n",
    "plt.ylabel('Доля успешных сессий (%)', fontsize=14)\n",
    "plt.grid(True, linestyle='--', alpha=0.7)\n",
    "plt.ylim(0, 100)  # Ограничиваем ось Y от 0 до 100%\n",
    "plt.xticks(rotation=45, fontsize=12)\n",
    "plt.yticks(fontsize=12)\n",
    "\n",
    "plt.tight_layout()\n",
    "plt.show()"
   ]
  },
  {
   "cell_type": "markdown",
   "metadata": {},
   "source": [
    "<div class=\"alert alert-block alert-success\">\n",
    "\n",
    "**Комментарий ревьювера (все отлично)**\n",
    "    \n",
    "Всё верно👍\n",
    "</div>"
   ]
  },
  {
   "cell_type": "markdown",
   "metadata": {
    "id": "21JcG77Y0eMt"
   },
   "source": [
    "### 2. Подготовка к тесту\n",
    "При планировании теста необходимо проделать несколько важных шагов:\n",
    "\n",
    "- Сформулировать нулевую и альтернативную гипотезы\n",
    "\n",
    "- Определиться с целевой метрикой.\n",
    "\n",
    "- Рассчитать необходимый размер выборки.\n",
    "\n",
    "- Исходя из текущих значений трафика рассчитать необходимую длительность проведения теста."
   ]
  },
  {
   "cell_type": "markdown",
   "metadata": {
    "id": "kXdcwkjf859k"
   },
   "source": [
    "#### 2.1 Формулировка нулевой и альтернативной гипотез\n",
    "\n",
    "Перед тем как проводить А/B-тест, необходимо сформулировать нулевую и альтернативную гипотезы. Напомним изначальное условие: команда разработчиков рекомендательных систем создала новый алгоритм, который, по их мнению, будет показывать более интересный контент для каждого пользователя.\n",
    "\n",
    "О какой метрике идёт речь? Как она будет учтена в формулировке гипотез?"
   ]
  },
  {
   "cell_type": "markdown",
   "metadata": {
    "id": "RiKI8eT49h3F"
   },
   "source": [
    "Сформулируйте нулевую и альтернативную гипотезы:\n",
    "\n",
    "\n",
    "\n",
    "\n"
   ]
  },
  {
   "cell_type": "markdown",
   "metadata": {},
   "source": [
    "В данном случае наиболее подходящей метрикой будет показатель вовлеченности пользователей, который мы будем измеряться через:\n",
    "- долю успешных сессий - 4 и более просмотренных страниц за сессию(Чем более интересный контент тем больше пользователь будет смотреть страниц)\n",
    "\n",
    "H₀: доля успешных сессий в тестовой группе не превышает долю в контрольной группе.\n",
    "\n",
    "H₁: доля успешных сессий в тестовой группе статистически значимо выше, чем в контрольной группе.\n"
   ]
  },
  {
   "cell_type": "markdown",
   "metadata": {},
   "source": [
    "<div class=\"alert alert-block alert-success\">\n",
    "\n",
    "**Комментарий ревьювера (все отлично)**\n",
    "    \n",
    "Гипотезы верно сформулированы👍\n",
    "</div>"
   ]
  },
  {
   "cell_type": "markdown",
   "metadata": {
    "id": "uzaeln270eMt"
   },
   "source": [
    "#### 2.2. Расчёт размера выборки\n",
    "В рамках курса вы уже рассчитывали размеры выборки и  использовали для этого онлайн-калькулятор. В этом задании предлагаем воспользоваться готовым кодом и рассчитать необходимое для вашего эксперимента количество пользователей.\n",
    "\n",
    "Для этого установите в коде ниже следующие параметры:\n",
    "\n",
    "- Уровень значимости — 0.05.\n",
    "\n",
    "- Вероятность ошибки второго рода — 0.2.\n",
    "\n",
    "- Мощность теста.\n",
    "\n",
    "- Минимальный детектируемый эффект, или MDE, — 3%. Обратите внимание, что здесь нужно указать десятичную дробь, а не процент.\n",
    "\n",
    "При расчёте размера выборки используйте метод `solve_power()` из класса `power.NormalIndPower` модуля `statsmodels.stats`.\n",
    "\n",
    "Запустите ячейку и изучите полученное значение."
   ]
  },
  {
   "cell_type": "code",
   "execution_count": 15,
   "metadata": {
    "id": "zSxJyPGPNdaI"
   },
   "outputs": [
    {
     "name": "stdout",
     "output_type": "stream",
     "text": [
      "Необходимый размер выборки для каждой группы: 41040\n"
     ]
    }
   ],
   "source": [
    "\n",
    "# Задаём параметры\n",
    "alpha = 0.05  # Уровень значимости\n",
    "beta = 0.2  # Ошибка второго рода, часто 1 - мощность\n",
    "power = 0.8  # Мощность теста\n",
    "p = 0.3 # Базовый уровень доли\n",
    "mde = 0.009  # Минимальный детектируемый эффект\n",
    "effect_size = proportion_effectsize(p, p + mde)\n",
    "\n",
    "# Инициализируем класс NormalIndPower\n",
    "power_analysis = NormalIndPower()\n",
    "\n",
    "# Рассчитываем размер выборки\n",
    "sample_size = power_analysis.solve_power(\n",
    "    effect_size = effect_size,\n",
    "    power = power,\n",
    "    alpha = alpha,\n",
    "    ratio = 1 # Равномерное распределение выборок\n",
    ")\n",
    "\n",
    "print(f\"Необходимый размер выборки для каждой группы: {int(sample_size)}\")"
   ]
  },
  {
   "cell_type": "markdown",
   "metadata": {},
   "source": [
    "<div class=\"alert alert-block alert-danger\">\n",
    "    \n",
    "**Комментарий ревьювера (недочет, который нужно доработать)**\n",
    "  \n",
    "mde равен 3% относительного базового уровня доли. \n",
    "</div>"
   ]
  },
  {
   "cell_type": "markdown",
   "metadata": {},
   "source": [
    "<div class=\"alert alert-block alert-success\">\n",
    "\n",
    "**Комментарий ревьювера v2 (все отлично)**\n",
    "    \n",
    "Принято👍\n",
    "</div>"
   ]
  },
  {
   "cell_type": "markdown",
   "metadata": {},
   "source": [
    "Общий размер групп для проведения теста составляет 82080"
   ]
  },
  {
   "cell_type": "markdown",
   "metadata": {
    "id": "qLEv4RoV0eMu"
   },
   "source": [
    "#### 2.3. Расчёт длительности A/B-теста\n",
    "\n",
    "Используйте данные о количестве пользователей в каждой выборке и среднем количестве пользователей приложения. Рассчитайте длительность теста, разделив одно на другое.\n",
    "\n",
    "- Рассчитайте среднее количество уникальных пользователей приложения в день.\n",
    "\n",
    "- Определите длительность теста исходя из рассчитанного значения размера выборок и среднего дневного трафика приложения. Количество дней округлите в большую сторону."
   ]
  },
  {
   "cell_type": "code",
   "execution_count": 16,
   "metadata": {
    "id": "KZDRbryDOGHa"
   },
   "outputs": [
    {
     "name": "stdout",
     "output_type": "stream",
     "text": [
      "Рассчитанная длительность A/B-теста при текущем уровене трафика в 12161.5 пользователей в день составит 7 дней\n"
     ]
    }
   ],
   "source": [
    "total_size = 2*sample_size\n",
    "# Среднее количество пользователей приложения в день по историческим данным\n",
    "avg_daily_users = daily_stats['total_users'].median() # используем данные из предыдущих задач\n",
    "\n",
    "# Рассчитываем длительность теста в днях как отношение размера выборки к среднему числу пользователей\n",
    "test_duration = ceil(total_size / avg_daily_users)\n",
    "\n",
    "print(f\"Рассчитанная длительность A/B-теста при текущем уровене трафика в {avg_daily_users} пользователей в день составит {test_duration} дней\")"
   ]
  },
  {
   "cell_type": "markdown",
   "metadata": {},
   "source": [
    "<div class=\"alert alert-block alert-danger\">\n",
    "    \n",
    "**Комментарий ревьювера (недочет, который нужно доработать)**\n",
    "\n",
    "`test_duration = ceil(7552 / avg_daily_users)`    \n",
    "    \n",
    "Ручной ввод значений нужно исключить. Такой код неустойчив к ошибочным расчётам.\n",
    "</div>"
   ]
  },
  {
   "cell_type": "markdown",
   "metadata": {},
   "source": [
    "<div class=\"alert alert-block alert-success\">\n",
    "\n",
    "**Комментарий ревьювера v2 (все отлично)**\n",
    "    \n",
    "Принято👍\n",
    "</div>"
   ]
  },
  {
   "cell_type": "markdown",
   "metadata": {
    "id": "ZuvtAdha0eMv"
   },
   "source": [
    "### 3. Мониторинг А/В-теста"
   ]
  },
  {
   "cell_type": "markdown",
   "metadata": {
    "id": "jq5sE3Ya0eMv"
   },
   "source": [
    "#### 3.1. Проверка распределения пользователей\n",
    "\n",
    "A/B-тест успешно запущен, и уже доступны данные за первые три дня. На этом этапе нужно убедиться, что всё идёт хорошо: пользователи разделены правильным образом, а интересующие вас метрики корректно считаются.\n",
    "\n",
    "- Считайте и сохраните в датафрейм `sessions_test_part` CSV-файл с историческими данными о сессиях пользователей `sessions_project_test_part.csv`.\n",
    "\n",
    "- Рассчитайте количество уникальных пользователей в каждой из экспериментальных групп для одного дня наблюдения.\n",
    "\n",
    "- Рассчитайте и выведите на экран процентную разницу в количестве пользователей в группах A и B. Постройте любую удобную визуализацию, на которой будет видно возможное различие двух групп.\n",
    "\n",
    "Для расчёта процентной разницы воспользуйтесь формулой:\n",
    "$$P = 100 \\cdot  \\frac{|A − B|}{A}$$"
   ]
  },
  {
   "cell_type": "code",
   "execution_count": 17,
   "metadata": {
    "id": "G1bqIzDJOUiz"
   },
   "outputs": [],
   "source": [
    "sessions_test_part = pd.read_csv('https://code.s3.yandex.net/datasets/sessions_project_test_part.csv')"
   ]
  },
  {
   "cell_type": "code",
   "execution_count": 18,
   "metadata": {},
   "outputs": [
    {
     "data": {
      "text/html": [
       "<div>\n",
       "<style scoped>\n",
       "    .dataframe tbody tr th:only-of-type {\n",
       "        vertical-align: middle;\n",
       "    }\n",
       "\n",
       "    .dataframe tbody tr th {\n",
       "        vertical-align: top;\n",
       "    }\n",
       "\n",
       "    .dataframe thead th {\n",
       "        text-align: right;\n",
       "    }\n",
       "</style>\n",
       "<table border=\"1\" class=\"dataframe\">\n",
       "  <thead>\n",
       "    <tr style=\"text-align: right;\">\n",
       "      <th></th>\n",
       "      <th>user_id</th>\n",
       "      <th>session_id</th>\n",
       "      <th>session_date</th>\n",
       "      <th>session_start_ts</th>\n",
       "      <th>install_date</th>\n",
       "      <th>session_number</th>\n",
       "      <th>registration_flag</th>\n",
       "      <th>page_counter</th>\n",
       "      <th>region</th>\n",
       "      <th>device</th>\n",
       "      <th>test_group</th>\n",
       "    </tr>\n",
       "  </thead>\n",
       "  <tbody>\n",
       "    <tr>\n",
       "      <th>0</th>\n",
       "      <td>3404844B53442747</td>\n",
       "      <td>B4901323BD537E45</td>\n",
       "      <td>2025-10-14</td>\n",
       "      <td>2025-10-14 19:28:49</td>\n",
       "      <td>2025-10-14</td>\n",
       "      <td>1</td>\n",
       "      <td>0</td>\n",
       "      <td>3</td>\n",
       "      <td>CIS</td>\n",
       "      <td>Android</td>\n",
       "      <td>B</td>\n",
       "    </tr>\n",
       "    <tr>\n",
       "      <th>1</th>\n",
       "      <td>3A2BF4D364E62D89</td>\n",
       "      <td>216FC619308F8788</td>\n",
       "      <td>2025-10-14</td>\n",
       "      <td>2025-10-14 21:11:04</td>\n",
       "      <td>2025-10-14</td>\n",
       "      <td>1</td>\n",
       "      <td>0</td>\n",
       "      <td>3</td>\n",
       "      <td>MENA</td>\n",
       "      <td>iPhone</td>\n",
       "      <td>A</td>\n",
       "    </tr>\n",
       "    <tr>\n",
       "      <th>2</th>\n",
       "      <td>79CDAE11E32B1597</td>\n",
       "      <td>EDFCE4AC1A504074</td>\n",
       "      <td>2025-10-14</td>\n",
       "      <td>2025-10-14 21:44:03</td>\n",
       "      <td>2025-10-14</td>\n",
       "      <td>1</td>\n",
       "      <td>0</td>\n",
       "      <td>3</td>\n",
       "      <td>CIS</td>\n",
       "      <td>iPhone</td>\n",
       "      <td>A</td>\n",
       "    </tr>\n",
       "    <tr>\n",
       "      <th>3</th>\n",
       "      <td>D6AF8D78297A931F</td>\n",
       "      <td>CF0AC0EEDE92C690</td>\n",
       "      <td>2025-10-14</td>\n",
       "      <td>2025-10-14 19:07:55</td>\n",
       "      <td>2025-10-14</td>\n",
       "      <td>1</td>\n",
       "      <td>0</td>\n",
       "      <td>4</td>\n",
       "      <td>CIS</td>\n",
       "      <td>PC</td>\n",
       "      <td>A</td>\n",
       "    </tr>\n",
       "    <tr>\n",
       "      <th>4</th>\n",
       "      <td>37E0CE723AE568E0</td>\n",
       "      <td>2E6ED45E8C86C4E9</td>\n",
       "      <td>2025-10-14</td>\n",
       "      <td>2025-10-14 15:39:44</td>\n",
       "      <td>2025-10-14</td>\n",
       "      <td>1</td>\n",
       "      <td>0</td>\n",
       "      <td>3</td>\n",
       "      <td>CIS</td>\n",
       "      <td>Mac</td>\n",
       "      <td>B</td>\n",
       "    </tr>\n",
       "  </tbody>\n",
       "</table>\n",
       "</div>"
      ],
      "text/plain": [
       "            user_id        session_id session_date     session_start_ts  \\\n",
       "0  3404844B53442747  B4901323BD537E45   2025-10-14  2025-10-14 19:28:49   \n",
       "1  3A2BF4D364E62D89  216FC619308F8788   2025-10-14  2025-10-14 21:11:04   \n",
       "2  79CDAE11E32B1597  EDFCE4AC1A504074   2025-10-14  2025-10-14 21:44:03   \n",
       "3  D6AF8D78297A931F  CF0AC0EEDE92C690   2025-10-14  2025-10-14 19:07:55   \n",
       "4  37E0CE723AE568E0  2E6ED45E8C86C4E9   2025-10-14  2025-10-14 15:39:44   \n",
       "\n",
       "  install_date  session_number  registration_flag  page_counter region  \\\n",
       "0   2025-10-14               1                  0             3    CIS   \n",
       "1   2025-10-14               1                  0             3   MENA   \n",
       "2   2025-10-14               1                  0             3    CIS   \n",
       "3   2025-10-14               1                  0             4    CIS   \n",
       "4   2025-10-14               1                  0             3    CIS   \n",
       "\n",
       "    device test_group  \n",
       "0  Android          B  \n",
       "1   iPhone          A  \n",
       "2   iPhone          A  \n",
       "3       PC          A  \n",
       "4      Mac          B  "
      ]
     },
     "execution_count": 18,
     "metadata": {},
     "output_type": "execute_result"
    }
   ],
   "source": [
    "# изучим первые строки таблицы\n",
    "sessions_test_part.head()"
   ]
  },
  {
   "cell_type": "code",
   "execution_count": 19,
   "metadata": {},
   "outputs": [],
   "source": [
    "# В данной таблице представлены данные за 1 день наблюдений таким образом доп. фильтрация для одного дня не требуется проведем подсчет кол-ва уникальных пользователей для двух групп\n",
    "unique_users_A = sessions_test_part[sessions_test_part['test_group'] == 'A']['user_id'].nunique()\n",
    "unique_users_B = sessions_test_part[sessions_test_part['test_group'] == 'B']['user_id'].nunique()"
   ]
  },
  {
   "cell_type": "code",
   "execution_count": 20,
   "metadata": {},
   "outputs": [
    {
     "data": {
      "text/plain": [
       "'Количество уникальных пользователей в группе A: 1477'"
      ]
     },
     "metadata": {},
     "output_type": "display_data"
    },
    {
     "data": {
      "text/plain": [
       "'Количество уникальных пользователей в группе B: 1466'"
      ]
     },
     "metadata": {},
     "output_type": "display_data"
    },
    {
     "data": {
      "text/plain": [
       "'Процентная разница между группами: 0.74%'"
      ]
     },
     "metadata": {},
     "output_type": "display_data"
    }
   ],
   "source": [
    "# подсчитаем процентную разницу по формуле\n",
    "percentage_diff = 100 * abs(unique_users_A - unique_users_B) / unique_users_A\n",
    "\n",
    "# Выводим результаты\n",
    "display(f\"Количество уникальных пользователей в группе A: {unique_users_A}\")\n",
    "display(f\"Количество уникальных пользователей в группе B: {unique_users_B}\")\n",
    "display(f\"Процентная разница между группами: {percentage_diff:.2f}%\")"
   ]
  },
  {
   "cell_type": "code",
   "execution_count": 21,
   "metadata": {},
   "outputs": [
    {
     "data": {
      "image/png": "[encoded data removed]",
      "text/plain": [
       "<Figure size 720x432 with 1 Axes>"
      ]
     },
     "metadata": {
      "needs_background": "light"
     },
     "output_type": "display_data"
    }
   ],
   "source": [
    "# Создаем сводную таблицу для визуализации\n",
    "group_stats = pd.DataFrame({\n",
    "    'Группа': ['A', 'B'],\n",
    "    'Уникальные пользователи': [unique_users_A, unique_users_B]\n",
    "})\n",
    "\n",
    "# Визуализация\n",
    "plt.figure(figsize=(10, 6))\n",
    "sns.barplot(\n",
    "    x='Группа',\n",
    "    y='Уникальные пользователи',\n",
    "    data=group_stats,\n",
    "    palette='viridis')\n",
    "plt.title(f'Сравнение количества уникальных пользователей по группам\\nДата: 2025-10-14')\n",
    "plt.xlabel('Тестовая группа')\n",
    "plt.ylabel('Количество уникальных пользователей')\n",
    "plt.grid(axis='y', linestyle='--', alpha=0.7)\n",
    "plt.ylim(0, max(group_stats['Уникальные пользователи']) * 1.1)\n",
    "plt.tight_layout()\n",
    "\n",
    "# Добавляем линию разницы\n",
    "plt.axhline(y=unique_users_A, color='gray', linestyle='--', label=f'Группа A: {unique_users_A}')\n",
    "plt.axhline(y=unique_users_B, color='gray', linestyle=':', label=f'Группа B: {unique_users_B}')\n",
    "plt.legend()\n",
    "\n",
    "plt.show()"
   ]
  },
  {
   "cell_type": "markdown",
   "metadata": {},
   "source": [
    "<div class=\"alert alert-block alert-success\">\n",
    "\n",
    "**Комментарий ревьювера (все отлично)**\n",
    "    \n",
    "Расчёт верный👍\n",
    "\n",
    "</div>"
   ]
  },
  {
   "cell_type": "markdown",
   "metadata": {
    "id": "sgpNY5bv0eM0"
   },
   "source": [
    "#### 3.2. Проверка пересечений пользователей\n",
    "Помимо проверки равенства количества пользователей в группах, полезно убедиться в том, что группы независимы. Для этого нужно убедиться, что никто из пользователей случайно не попал в обе группы одновременно.\n",
    "\n",
    "- Рассчитайте количество пользователей, которые встречаются одновременно в группах A и B, или убедитесь, что таких нет."
   ]
  },
  {
   "cell_type": "code",
   "execution_count": 22,
   "metadata": {
    "id": "E72ozN9FOX1u"
   },
   "outputs": [
    {
     "name": "stdout",
     "output_type": "stream",
     "text": [
      "Пересечения пользователей между группами A и B не обнаружено.\n",
      "\n",
      "Общее количество уникальных пользователей в группе A: 1477\n",
      "Общее количество уникальных пользователей в группе B: 1466\n",
      "\n",
      "Процент пересечения групп: 0.00%\n"
     ]
    }
   ],
   "source": [
    "# Создаем отдельные множества пользователей для каждой группы\n",
    "users_A = set(sessions_test_part[sessions_test_part['test_group'] == 'A']['user_id'])\n",
    "users_B = set(sessions_test_part[sessions_test_part['test_group'] == 'B']['user_id'])\n",
    "\n",
    "# Находим пересечение множеств (пользователей, которые есть в обеих группах)\n",
    "common_users = users_A.intersection(users_B)\n",
    "\n",
    "# Выводим результаты\n",
    "if common_users:\n",
    "    print(f\"Найдено {len(common_users)} пользователей, которые присутствуют в обеих группах:\")\n",
    "    print(common_users)\n",
    "    \n",
    "    # Дополнительно можно вывести статистику по этим пользователям\n",
    "    common_df = df[df['user_id'].isin(common_users)]\n",
    "    print(\"\\nСтатистика по общим пользователям:\")\n",
    "    print(common_df.groupby(['user_id', 'test_group']).size().reset_index(name='count'))\n",
    "else:\n",
    "    print(\"Пересечения пользователей между группами A и B не обнаружено.\")\n",
    "\n",
    "# Проверяем общее количество уникальных пользователей в каждой группе\n",
    "total_unique_A = len(users_A)\n",
    "total_unique_B = len(users_B)\n",
    "\n",
    "print(f\"\\nОбщее количество уникальных пользователей в группе A: {total_unique_A}\")\n",
    "print(f\"Общее количество уникальных пользователей в группе B: {total_unique_B}\")\n",
    "\n",
    "# Рассчитываем процент пересечения (если есть)\n",
    "if total_unique_A > 0 and total_unique_B > 0:\n",
    "    intersection_percentage = (len(common_users) / min(total_unique_A, total_unique_B)) * 100\n",
    "    print(f\"\\nПроцент пересечения групп: {intersection_percentage:.2f}%\")\n",
    "else:\n",
    "    print(\"\\nПроцент пересечения групп: 0%\")"
   ]
  },
  {
   "cell_type": "markdown",
   "metadata": {},
   "source": [
    "<div class=\"alert alert-block alert-success\">\n",
    "\n",
    "**Комментарий ревьювера (все отлично)**\n",
    "    \n",
    "Здорово, что проверил пересечение групп. Такая проверка была необходима, так как могут быть ошибки при логировании пользователей по группам. \n",
    "\n",
    "</div>"
   ]
  },
  {
   "cell_type": "markdown",
   "metadata": {
    "id": "6RvkNLrg0eM1"
   },
   "source": [
    "#### 3.3. Равномерность разделения пользователей по устройствам\n",
    "Полезно также убедиться в том, что пользователи равномерно распределены по всем доступным категориальным переменным — типам устройств и регионам.\n",
    "\n",
    "Постройте две диаграммы:\n",
    "\n",
    "- доля каждого типа устройства для пользователей из группы A,\n",
    "\n",
    "- доля каждого типа устройства для пользователей из группы B.\n",
    "\n",
    "Постарайтесь добавить на диаграммы все необходимые подписи, пояснения и заголовки, которые позволят сделать вывод о том, совпадает ли распределение устройств в группах A и B.\n"
   ]
  },
  {
   "cell_type": "code",
   "execution_count": 23,
   "metadata": {
    "id": "x_IP6PUNPWHC"
   },
   "outputs": [
    {
     "data": {
      "image/png": "[encoded data removed]",
      "text/plain": [
       "<Figure size 1008x504 with 2 Axes>"
      ]
     },
     "metadata": {},
     "output_type": "display_data"
    },
    {
     "name": "stdout",
     "output_type": "stream",
     "text": [
      "Распределение устройств в группе A (по уникальным пользователям):\n",
      "    device  user_count  device_percentage\n",
      "0  Android   44.414353          44.414353\n",
      "1       PC   24.983074          24.983074\n",
      "2   iPhone   20.040623          20.040623\n",
      "3      Mac   10.561950          10.561950\n",
      "\n",
      "Распределение устройств в группе B (по уникальным пользователям):\n",
      "    device  user_count  device_percentage\n",
      "0  Android   45.566166          45.566166\n",
      "1       PC   25.989086          25.989086\n",
      "2   iPhone   18.349250          18.349250\n",
      "3      Mac   10.095498          10.095498\n"
     ]
    }
   ],
   "source": [
    "group_A = sessions_test_part[sessions_test_part['test_group'] == 'A']\n",
    "group_B = sessions_test_part[sessions_test_part['test_group'] == 'B']\n",
    "# Группируем по пользователям и устройствам для корректного подсчета\n",
    "device_A = group_A.groupby('user_id').agg(\n",
    "    device=('device', 'first')  # Берем первое значение устройства для пользователя\n",
    ").reset_index()\n",
    "\n",
    "device_B = group_B.groupby('user_id').agg(\n",
    "    device=('device', 'first')\n",
    ").reset_index()\n",
    "\n",
    "# Считаем долю устройств для уникальных пользователей\n",
    "device_counts_A = device_A['device'].value_counts(normalize=True) * 100\n",
    "device_counts_B = device_B['device'].value_counts(normalize=True) * 100\n",
    "\n",
    "# Создаем DataFrame с результатами\n",
    "device_stats_A = pd.DataFrame({\n",
    "    'device': device_counts_A.index,\n",
    "    'user_count': device_counts_A.values,\n",
    "    'device_percentage': device_counts_A.values\n",
    "}).reset_index(drop=True)\n",
    "\n",
    "device_stats_B = pd.DataFrame({\n",
    "    'device': device_counts_B.index,\n",
    "    'user_count': device_counts_B.values,\n",
    "    'device_percentage': device_counts_B.values\n",
    "}).reset_index(drop=True)\n",
    "\n",
    "# Визуализация\n",
    "plt.figure(figsize=(14, 7))\n",
    "\n",
    "# Группа A\n",
    "plt.subplot(1, 2, 1)\n",
    "plt.pie(\n",
    "    device_stats_A['device_percentage'],\n",
    "    labels=device_stats_A['device'],\n",
    "    autopct='%1.1f%%',\n",
    "    startangle=90,\n",
    "    colors=sns.color_palette('pastel')\n",
    ")\n",
    "plt.title('Распределение устройств в группе A', fontsize=14)\n",
    "plt.axis('equal')\n",
    "\n",
    "# Группа B\n",
    "plt.subplot(1, 2, 2)\n",
    "plt.pie(\n",
    "    device_stats_B['device_percentage'],\n",
    "    labels=device_stats_B['device'],\n",
    "    autopct='%1.1f%%',\n",
    "    startangle=90,\n",
    "    colors=sns.color_palette('pastel')\n",
    ")\n",
    "plt.title('Распределение устройств в группе B', fontsize=14)\n",
    "plt.axis('equal')\n",
    "\n",
    "plt.suptitle('Сравнение распределения устройств между группами A и B', fontsize=16, y=1.05)\n",
    "plt.tight_layout()\n",
    "plt.show()\n",
    "\n",
    "# Выводим табличные данные\n",
    "print(\"Распределение устройств в группе A (по уникальным пользователям):\")\n",
    "print(device_stats_A)\n",
    "print(\"\\nРаспределение устройств в группе B (по уникальным пользователям):\")\n",
    "print(device_stats_B)"
   ]
  },
  {
   "cell_type": "markdown",
   "metadata": {},
   "source": [
    "<div class=\"alert alert-block alert-danger\">\n",
    "    \n",
    "**Комментарий ревьювера (недочет, который нужно доработать)**\n",
    "    \n",
    "Расчёт долей распределения устройств по группам выполнен по сессиям, то есть по каждой строке, а не по уникальным пользователям, что требуется по заданию. Исправь расчёты.\n",
    "\n",
    "\n",
    "</div>"
   ]
  },
  {
   "cell_type": "markdown",
   "metadata": {},
   "source": [
    "<div class=\"alert alert-block alert-success\">\n",
    "\n",
    "**Комментарий ревьювера v2 (все отлично)**\n",
    "    \n",
    "Верно👍\n",
    "</div>"
   ]
  },
  {
   "cell_type": "markdown",
   "metadata": {},
   "source": [
    "можно сделать вывод что распределение по устройствам в группах приверно одинаковое"
   ]
  },
  {
   "cell_type": "markdown",
   "metadata": {
    "id": "gAgmP6vo0eM1"
   },
   "source": [
    "#### 3.4. Равномерность распределения пользователей по регионам\n",
    "Теперь убедитесь, что пользователи равномерно распределены по регионам.\n",
    "\n",
    "Постройте две диаграммы:\n",
    "\n",
    "- доля каждого региона для пользователей из группы A,\n",
    "\n",
    "- доля каждого региона для пользователей из группы B.\n",
    "\n",
    "Постарайтесь добавить на диаграммы все необходимые подписи, пояснения и заголовки, которые позволят сделать вывод о том, совпадает ли распределение регионов в группах A и B. Постарайтесь использовать другой тип диаграммы, не тот, что в прошлом задании.\n"
   ]
  },
  {
   "cell_type": "code",
   "execution_count": 24,
   "metadata": {
    "id": "3hAq-FG4OdYM"
   },
   "outputs": [
    {
     "data": {
      "image/png": "[encoded data removed]",
      "text/plain": [
       "<Figure size 1152x576 with 2 Axes>"
      ]
     },
     "metadata": {
      "needs_background": "light"
     },
     "output_type": "display_data"
    },
    {
     "name": "stdout",
     "output_type": "stream",
     "text": [
      "Распределение регионов в группе A (по уникальным пользователям):\n",
      "  region  user_count  region_percentage\n",
      "0    CIS   43.601896          43.601896\n",
      "1   MENA   41.232227          41.232227\n",
      "2     EU   15.165877          15.165877\n",
      "\n",
      "Распределение регионов в группе B (по уникальным пользователям):\n",
      "  region  user_count  region_percentage\n",
      "0    CIS   43.997271          43.997271\n",
      "1   MENA   41.200546          41.200546\n",
      "2     EU   14.802183          14.802183\n"
     ]
    }
   ],
   "source": [
    "# Группируем по пользователям и регионам для корректного подсчета\n",
    "region_A = group_A.groupby('user_id').agg(\n",
    "    region=('region', 'first')  # Берем первое значение региона для пользователя\n",
    ").reset_index()\n",
    "\n",
    "region_B = group_B.groupby('user_id').agg(\n",
    "    region=('region', 'first')\n",
    ").reset_index()\n",
    "\n",
    "# Считаем долю регионов для уникальных пользователей\n",
    "region_counts_A = region_A['region'].value_counts(normalize=True) * 100\n",
    "region_counts_B = region_B['region'].value_counts(normalize=True) * 100\n",
    "\n",
    "# Создаем DataFrame с результатами\n",
    "region_stats_A = pd.DataFrame({\n",
    "    'region': region_counts_A.index,\n",
    "    'user_count': region_counts_A.values,\n",
    "    'region_percentage': region_counts_A.values\n",
    "}).reset_index(drop=True)\n",
    "\n",
    "region_stats_B = pd.DataFrame({\n",
    "    'region': region_counts_B.index,\n",
    "    'user_count': region_counts_B.values,\n",
    "    'region_percentage': region_counts_B.values\n",
    "}).reset_index(drop=True)\n",
    "\n",
    "# Сортируем регионы по убыванию доли\n",
    "region_stats_A = region_stats_A.sort_values('region_percentage', ascending=False)\n",
    "region_stats_B = region_stats_B.sort_values('region_percentage', ascending=False)\n",
    "\n",
    "# Визуализация\n",
    "plt.figure(figsize=(16, 8))\n",
    "\n",
    "# Группа A\n",
    "plt.subplot(1, 2, 1)\n",
    "sns.barplot(\n",
    "    x='region_percentage',\n",
    "    y='region',\n",
    "    data=region_stats_A,\n",
    "    palette='magma',\n",
    "    order=region_stats_A['region']\n",
    ")\n",
    "plt.title('Распределение регионов в группе A (по уникальным пользователям)', fontsize=14)\n",
    "plt.xlabel('Доля пользователей (%)', fontsize=12)\n",
    "plt.ylabel('Регион', fontsize=12)\n",
    "plt.xlim(0, max(region_stats_A['region_percentage'].max() * 1.1, 100))\n",
    "plt.grid(axis='x', linestyle='--', alpha=0.7)\n",
    "\n",
    "# Добавляем значения над столбцами\n",
    "for i, value in enumerate(region_stats_A['region_percentage']):\n",
    "    plt.text(value, i, f'{value:.1f}%', va='center', ha='left', fontsize=10)\n",
    "\n",
    "# Группа B\n",
    "plt.subplot(1, 2, 2)\n",
    "sns.barplot(\n",
    "    x='region_percentage',\n",
    "    y='region',\n",
    "    data=region_stats_B,\n",
    "    palette='magma',\n",
    "    order=region_stats_B['region']\n",
    ")\n",
    "plt.title('Распределение регионов в группе B (по уникальным пользователям)', fontsize=14)\n",
    "plt.xlabel('Доля пользователей (%)', fontsize=12)\n",
    "plt.ylabel('Регион', fontsize=12)\n",
    "plt.xlim(0, max(region_stats_B['region_percentage'].max() * 1.1, 100))\n",
    "plt.grid(axis='x', linestyle='--', alpha=0.7)\n",
    "\n",
    "# Добавляем значения над столбцами\n",
    "for i, value in enumerate(region_stats_B['region_percentage']):\n",
    "    plt.text(value, i, f'{value:.1f}%', va='center', ha='left', fontsize=10)\n",
    "\n",
    "# Общие настройки\n",
    "plt.suptitle('Сравнение распределения регионов между группами A и B', fontsize=16, y=1.05)\n",
    "plt.tight_layout(rect=[0, 0, 1, 0.95])\n",
    "plt.show()\n",
    "\n",
    "# Выводим табличные данные\n",
    "print(\"Распределение регионов в группе A (по уникальным пользователям):\")\n",
    "print(region_stats_A)\n",
    "print(\"\\nРаспределение регионов в группе B (по уникальным пользователям):\")\n",
    "print(region_stats_B)"
   ]
  },
  {
   "cell_type": "markdown",
   "metadata": {},
   "source": [
    "<div class=\"alert alert-block alert-danger\">\n",
    "    \n",
    "**Комментарий ревьювера (недочет, который нужно доработать)**\n",
    "    \n",
    "Аналогично предыдущему недочёту, расчёт долей пользователей по регионам выполнен по сессиям, а не по уникальным пользователям. Исправь расчёты.\n",
    "</div>"
   ]
  },
  {
   "cell_type": "markdown",
   "metadata": {},
   "source": [
    "<div class=\"alert alert-block alert-success\">\n",
    "\n",
    "**Комментарий ревьювера v2 (все отлично)**\n",
    "    \n",
    "Задание выполнено👍\n",
    "</div>"
   ]
  },
  {
   "cell_type": "markdown",
   "metadata": {
    "id": "X2WSZ-sDrSUi"
   },
   "source": [
    "#### 3.5. Вывод после проверки A/B-теста\n",
    "\n",
    "На основе проведённого анализа A/B-теста сформулируйте и запишите свои выводы. В выводе обязательно укажите:\n",
    "\n",
    "- Было ли обнаружено различие в количестве пользователей в двух группах.\n",
    "\n",
    "- Являются ли выборки независимыми. Было ли обнаружено пересечение пользователей из тестовой и контрольной групп.\n",
    "\n",
    "- Сохраняется ли равномерное распределение пользователей тестовой и контрольной групп по категориальным переменным: устройствам и регионам.\n",
    "\n",
    "Сделайте заключение: корректно ли проходит A/B-тест, или наблюдаются какие-либо нарушения."
   ]
  },
  {
   "cell_type": "markdown",
   "metadata": {
    "id": "dDELHlAcOi8d"
   },
   "source": [
    "- разница в кол-ве двух групп не значительна и состаляет состаляет - 0.74% в группе А - 1477 в группе В - 1466\n",
    "- пересечений между группами не обнаружено.\n",
    "- распределение пользователей в группах по категориальным переменным в целом равномерное.\n",
    "\n",
    "На основе проведенного анализа можно сделать вывод: А/В-тест проходит корректно."
   ]
  },
  {
   "cell_type": "markdown",
   "metadata": {},
   "source": [
    "<div class=\"alert alert-block alert-success\">\n",
    "\n",
    "**Комментарий ревьювера (все отлично)**\n",
    "    \n",
    "Оснонвые результаты раздела отражены👍\n",
    "\n",
    "</div>"
   ]
  },
  {
   "cell_type": "markdown",
   "metadata": {},
   "source": [
    "<div class=\"alert alert-block alert-danger\">\n",
    "    \n",
    "**Комментарий ревьювера (недочет, который нужно доработать)**\n",
    "    \n",
    "Проверь выводы после исправления недочётов\n",
    "    \n",
    "\n",
    "</div>"
   ]
  },
  {
   "cell_type": "markdown",
   "metadata": {},
   "source": [
    "<div class=\"alert alert-block alert-success\">\n",
    "\n",
    "**Комментарий ревьювера v2 (все отлично)**\n",
    "    \n",
    "Согласен с выводом👍\n",
    "</div>"
   ]
  },
  {
   "cell_type": "markdown",
   "metadata": {
    "id": "nudRr_BQ0eM2"
   },
   "source": [
    "### 4. Проверка результатов A/B-теста\n",
    "\n",
    "A/B-тест завершён, и у вас есть результаты за все дни проведения эксперимента. Необходимо убедиться в корректности теста и верно интерпретировать результаты."
   ]
  },
  {
   "cell_type": "markdown",
   "metadata": {
    "id": "JVve-YBB0eM2"
   },
   "source": [
    "#### 4.1. Получение результатов теста и подсчёт основной метрики\n",
    "\n",
    "- Считайте и сохраните в датафрейм `sessions_test` CSV-файл с историческими данными о сессиях пользователей `sessions_project_test.csv`.\n",
    "\n",
    "- В датафрейме `sessions_test` создайте дополнительный столбец `good_session`. В него войдёт значение `1`, если за одну сессию было просмотрено 4 и более страниц, и значение `0`, если просмотрено меньше."
   ]
  },
  {
   "cell_type": "code",
   "execution_count": 25,
   "metadata": {
    "id": "EqRlwMtKPTir"
   },
   "outputs": [],
   "source": [
    "sessions_test = pd.read_csv('https://code.s3.yandex.net/datasets/sessions_project_test.csv')"
   ]
  },
  {
   "cell_type": "code",
   "execution_count": 26,
   "metadata": {},
   "outputs": [],
   "source": [
    "# создадим новый столбец с успешными сессиями\n",
    "sessions_test['good_session'] = sessions_test.apply(\n",
    "    lambda row: 1 if row['page_counter'] >= 4 else 0, axis=1)"
   ]
  },
  {
   "cell_type": "markdown",
   "metadata": {
    "id": "aeYhrMYy0eM2"
   },
   "source": [
    "#### 4.2. Проверка корректности результатов теста\n",
    "\n",
    "Прежде чем приступать к анализу ключевых продуктовых метрик, необходимо убедиться, что тест проведён корректно и вы будете сравнивать две сопоставимые группы.\n",
    "\n",
    "- Рассчитайте количество уникальных сессий для каждого дня и обеих тестовых групп, используя группировку.\n",
    "\n",
    "- Проверьте, что количество уникальных дневных сессий в двух выборках не различается или различия не статистически значимыми. Используйте статистический тест, который позволит сделать вывод о равенстве средних двух выборок.\n",
    "\n",
    "- В качестве ответа выведите на экран полученное значение p-value и интерпретируйте его."
   ]
  },
  {
   "cell_type": "code",
   "execution_count": 27,
   "metadata": {
    "id": "5NUlcltkTTSU"
   },
   "outputs": [],
   "source": [
    "# Преобразуем дату в правильный формат\n",
    "sessions_test['session_date'] = pd.to_datetime(sessions_test['session_date'])"
   ]
  },
  {
   "cell_type": "code",
   "execution_count": 28,
   "metadata": {},
   "outputs": [],
   "source": [
    "# Группируем данные по дате и группе, считаем уникальные сессии\n",
    "daily_sessions = sessions_test.groupby(['session_date', 'test_group']).agg(\n",
    "    unique_sessions=('session_id', 'nunique')\n",
    ").reset_index()\n",
    "\n",
    "# Разделяем данные по группам\n",
    "group_A = daily_sessions[daily_sessions['test_group'] == 'A']['unique_sessions']\n",
    "group_B = daily_sessions[daily_sessions['test_group'] == 'B']['unique_sessions']"
   ]
  },
  {
   "cell_type": "code",
   "execution_count": 29,
   "metadata": {},
   "outputs": [
    {
     "data": {
      "text/plain": [
       "'Результаты t-теста:'"
      ]
     },
     "metadata": {},
     "output_type": "display_data"
    },
    {
     "data": {
      "text/plain": [
       "'t-статистика: -0.0780'"
      ]
     },
     "metadata": {},
     "output_type": "display_data"
    },
    {
     "data": {
      "text/plain": [
       "'p-value: 0.9382'"
      ]
     },
     "metadata": {},
     "output_type": "display_data"
    },
    {
     "name": "stdout",
     "output_type": "stream",
     "text": [
      "\n",
      "P-value больше уровня значимости (0.05)\n",
      "Нет статистически значимых различий между группами\n"
     ]
    }
   ],
   "source": [
    "\n",
    "# Проводим t-тест для проверки равенства средних\n",
    "t_stat, p_value = ttest_ind(group_A, group_B, equal_var=False)\n",
    "# Выводим результаты теста\n",
    "display(\"Результаты t-теста:\")\n",
    "display(f\"t-статистика: {t_stat:.4f}\")\n",
    "display(f\"p-value: {p_value:.4f}\")\n",
    "\n",
    "# Интерпретация p-value\n",
    "if p_value < alpha:\n",
    "    print(\"\\nP-value меньше уровня значимости (0.05)\")\n",
    "    print(\"Есть статистически значимые различия между группами\")\n",
    "else:\n",
    "    print(\"\\nP-value больше уровня значимости (0.05)\")\n",
    "    print(\"Нет статистически значимых различий между группами\")"
   ]
  },
  {
   "cell_type": "markdown",
   "metadata": {},
   "source": [
    "<div class=\"alert alert-block alert-success\">\n",
    "\n",
    "**Комментарий ревьювера (все отлично)**\n",
    "    \n",
    "Проверка выполнена корректно👍\n",
    "</div>"
   ]
  },
  {
   "cell_type": "markdown",
   "metadata": {},
   "source": [
    "по результатам теста делаем вывод об отсутствии статистических различий в кол-ве сессий между группами"
   ]
  },
  {
   "cell_type": "markdown",
   "metadata": {
    "id": "7kwRxzg70eM3"
   },
   "source": [
    "#### 4.3. Сравнение доли успешных сессий\n",
    "\n",
    "Когда вы убедились, что количество сессий в обеих выборках не различалось, можно переходить к анализу ключевой метрики — доли успешных сессий.\n",
    "\n",
    "Используйте созданный на первом шаге задания столбец `good_session` и рассчитайте долю успешных сессий для выборок A и B, а также разницу в этом показателе. Полученный вывод отобразите на экране."
   ]
  },
  {
   "cell_type": "code",
   "execution_count": 30,
   "metadata": {
    "id": "Uku-V1CpPRCz"
   },
   "outputs": [
    {
     "data": {
      "text/plain": [
       "'доля успешних сессий в группе В'"
      ]
     },
     "metadata": {},
     "output_type": "display_data"
    },
    {
     "data": {
      "text/plain": [
       "31.83"
      ]
     },
     "metadata": {},
     "output_type": "display_data"
    },
    {
     "data": {
      "text/plain": [
       "'доля успешних сессий в группе А'"
      ]
     },
     "metadata": {},
     "output_type": "display_data"
    },
    {
     "data": {
      "text/plain": [
       "30.77"
      ]
     },
     "metadata": {},
     "output_type": "display_data"
    },
    {
     "data": {
      "text/plain": [
       "' Разница между группой В и А составляет: 1.06 процентных пунктов'"
      ]
     },
     "metadata": {},
     "output_type": "display_data"
    }
   ],
   "source": [
    "# Группируем данные по группе и рассчитываем долю успешных сессий\n",
    "session_success = sessions_test.groupby('test_group').agg(\n",
    "    total_sessions=('session_id', 'nunique'),\n",
    "    successful_sessions=('good_session', 'sum'),\n",
    "    success_rate=('good_session', 'mean')\n",
    ").reset_index()\n",
    "\n",
    "# Рассчитываем разницу в показателях\n",
    "difference = session_success.loc[session_success['test_group'] == 'B', 'success_rate'].values[0] - \\\n",
    "             session_success.loc[session_success['test_group'] == 'A', 'success_rate'].values[0]\n",
    "display(f'доля успешних сессий в группе В')\n",
    "display(round(100*session_success.loc[session_success['test_group'] == 'B', 'success_rate'].values[0],2))\n",
    "display(f'доля успешних сессий в группе А')\n",
    "display(round(100*session_success.loc[session_success['test_group'] == 'A', 'success_rate'].values[0],2))\n",
    "display(f' Разница между группой В и А составляет: {round(100* difference, 2)} процентных пунктов')"
   ]
  },
  {
   "cell_type": "markdown",
   "metadata": {},
   "source": [
    "<div class=\"alert alert-block alert-warning\">\n",
    "\n",
    "**Комментарий ревьювера (что можно улучшить)**\n",
    "    \n",
    "   \n",
    "Разница двух значений, выраженных в %, считается в процентных пунктах (не в %).\n",
    "</div>"
   ]
  },
  {
   "cell_type": "markdown",
   "metadata": {
    "id": "9fMFuja10eM4"
   },
   "source": [
    "#### 4.4. Насколько статистически значимо изменение ключевой метрики\n",
    "\n",
    "На предыдущем шаге вы убедились, что количество успешных сессий в тестовой выборке примерно на 1.1% выше, чем в контрольной, но делать выводы только на основе этого значения будет некорректно. Для принятия решения всегда необходимо отвечать на вопрос: является ли это изменение статистически значимым.\n",
    "\n",
    "- Используя статистический тест, рассчитайте, является ли изменение в метрике доли успешных сессий статистически значимым.\n",
    "\n",
    "- Выведите на экран полученное значение p-value и свои выводы о статистической значимости. Напомним, что уровень значимости в эксперименте был выбран на уровне 0.05."
   ]
  },
  {
   "cell_type": "code",
   "execution_count": 31,
   "metadata": {
    "id": "gFvhRGwlPLS0"
   },
   "outputs": [],
   "source": [
    "# Фильтруем данные по группам\n",
    "group_A = sessions_test[sessions_test['test_group'] == 'A']\n",
    "group_B = sessions_test[sessions_test['test_group'] == 'B']\n",
    "\n",
    "# Подготавливаем данные для теста\n",
    "success_A = group_A['good_session'].sum()\n",
    "success_B = group_B['good_session'].sum()\n",
    "total_A = len(group_A)\n",
    "total_B = len(group_B)"
   ]
  },
  {
   "cell_type": "code",
   "execution_count": 32,
   "metadata": {},
   "outputs": [
    {
     "name": "stdout",
     "output_type": "stream",
     "text": [
      "Результаты статистического теста:\n",
      "Разница в доле успешных сессий: 1.06%\n",
      "Z-статистика: -3.6027\n",
      "P-value: 0.0003\n",
      "\n",
      "P-value меньше уровня значимости (0.05)\n",
      "Изменение доли успешных сессий статистически значимо\n"
     ]
    }
   ],
   "source": [
    "\n",
    "# Проводим z-тест для пропорций\n",
    "z_stat, p_value = proportions_ztest(\n",
    "    count=[success_A, success_B],  # количество успешных сессий\n",
    "    nobs=[total_A, total_B],      # общее количество сессий\n",
    "    alternative='two-sided'       # двусторонний тест\n",
    ")\n",
    "\n",
    "# Выводим результаты теста\n",
    "print(\"Результаты статистического теста:\")\n",
    "print(f\"Разница в доле успешных сессий: {difference*100:.2f}%\")\n",
    "print(f\"Z-статистика: {z_stat:.4f}\")\n",
    "print(f\"P-value: {p_value:.4f}\")\n",
    "\n",
    "# Интерпретация p-value\n",
    "if p_value < alpha:\n",
    "    print(\"\\nP-value меньше уровня значимости (0.05)\")\n",
    "    print(\"Изменение доли успешных сессий статистически значимо\")\n",
    "else:\n",
    "    print(\"\\nP-value больше уровня значимости (0.05)\")\n",
    "    print(\"Изменение доли успешных сессий статистически незначимо\")"
   ]
  },
  {
   "cell_type": "markdown",
   "metadata": {},
   "source": [
    "<div class=\"alert alert-block alert-success\">\n",
    "\n",
    "**Комментарий ревьювера (все отлично)**\n",
    "    \n",
    "Проверка выполнена корректно👍\n",
    "</div>"
   ]
  },
  {
   "cell_type": "markdown",
   "metadata": {},
   "source": [
    "<div class=\"alert alert-block alert-warning\">\n",
    "\n",
    "**Комментарий ревьювера (что можно улучшить)**\n",
    "    \n",
    "Альтернативно можно выполнить односторонний тест, указав параметр alternative='smaller' или alternative='larger'.\n",
    "    \n",
    "*Если параметр `alternative='larger'`, то первыми в списках count и nobs следовало бы передать значения группы В*\n",
    "</div>"
   ]
  },
  {
   "cell_type": "markdown",
   "metadata": {
    "id": "GnJrkY9Q63zS"
   },
   "source": [
    "#### 4.5. Вывод по результатам A/B-эксперимента\n",
    "\n",
    "На основе проведённого анализа результатов теста сформулируйте и запишите свои выводы для команды разработки приложения. В выводе обязательно укажите:\n",
    "\n",
    "- Характеристики проведённого эксперимента, количество задействованных пользователей и длительность эксперимента.\n",
    "\n",
    "- Повлияло ли внедрение нового алгоритма рекомендаций на рост ключевой метрики и как.\n",
    "\n",
    "- Каким получилось значение p-value для оценки статистической значимости выявленного эффекта.\n",
    "\n",
    "- Стоит ли внедрять нововведение в приложение."
   ]
  },
  {
   "cell_type": "code",
   "execution_count": 33,
   "metadata": {},
   "outputs": [
    {
     "data": {
      "text/plain": [
       "'всего приняло участие 30579 пользователей'"
      ]
     },
     "metadata": {},
     "output_type": "display_data"
    },
    {
     "data": {
      "text/plain": [
       "'В группе А'"
      ]
     },
     "metadata": {},
     "output_type": "display_data"
    },
    {
     "data": {
      "text/plain": [
       "15163"
      ]
     },
     "metadata": {},
     "output_type": "display_data"
    },
    {
     "data": {
      "text/plain": [
       "'В группе В'"
      ]
     },
     "metadata": {},
     "output_type": "display_data"
    },
    {
     "data": {
      "text/plain": [
       "15416"
      ]
     },
     "metadata": {},
     "output_type": "display_data"
    }
   ],
   "source": [
    "# подсчитаем характеристики эксперимента за все дни наблюдений\n",
    "total_users = sessions_test[sessions_test['test_group'] == 'A']['user_id'].nunique() + sessions_test[sessions_test['test_group'] == 'B']['user_id'].nunique()\n",
    "display(f'всего приняло участие {total_users} пользователей')\n",
    "display('В группе А')\n",
    "display(sessions_test[sessions_test['test_group'] == 'A']['user_id'].nunique())\n",
    "display('В группе В')\n",
    "display(sessions_test[sessions_test['test_group'] == 'B']['user_id'].nunique())"
   ]
  },
  {
   "cell_type": "markdown",
   "metadata": {
    "id": "rri8KRIgPMrW"
   },
   "source": [
    "Всего приняло участие 30579 пользователей Длительность - 19 дней\n",
    "\n",
    "Количество групп: 2 (контрольная A и тестовая B)\n",
    "\n",
    "Тип эксперимента: A/B-тест\n",
    "\n",
    "Ключевые метрики: доля успешных сессий\n",
    "\n",
    "Статистический критерий: z-тест для пропорций\n",
    "\n",
    "Уровень значимости: 0.05\n",
    "\n",
    "Новый алгоритм увеличил долю успешных сессий на 1,06 процентный пункт\n",
    "\n",
    "P-value: 0.0003 < 0.05 таким образом Изменение доли успешных сессий статистически значимо\n",
    "\n",
    "На основе данного теста можно сделать вывод об эффективности нововедения\n",
    "\n",
    "Рекомендуется рассмотреть внедрение нововведения для всех пользователей."
   ]
  },
  {
   "cell_type": "markdown",
   "metadata": {},
   "source": [
    "<div class=\"alert alert-block alert-success\">\n",
    "\n",
    "**Комментарий ревьювера (все отлично)**\n",
    "    \n",
    "Молодец, что отразил все требуемые пункты в выводе, результаты статистического теста верно интерпретированы👍\n",
    "</div>"
   ]
  },
  {
   "cell_type": "markdown",
   "metadata": {},
   "source": [
    "<div class=\"alert alert-block alert-warning\">\n",
    "\n",
    "**Общий комментарий ревьювера**\n",
    "    \n",
    "Константин, хорошая работа! Выводы структурированы и достаточно четко отражают результаты исследования, качественная визуализация данных, есть навыки проверки статистических гипотез. Спасибо за четкие комментарии по результатам исследования и аккуратный код, это упростило проверку. Для принятия работы надо исправить критические недочеты:\n",
    "\n",
    "* исправить расчёт размера выборки;\n",
    "* исключить ручной ввод значений, где требуется;\n",
    "* исправить расчёты распределения пользователей по устройствам и регионам;\n",
    "* проверить выводы после исправлений.\n",
    "    \n",
    "    \n",
    "Еще есть несколько рекомендаций, которые помогут тебе с будущими проектами. Жду твою работу!\n",
    "    \n",
    "В дополнении прикрепляю полезные материалы по A/B-тесту: \n",
    "    \n",
    "* https://your-scorpion.ru/ab-tests-check-mathematics/\n",
    "\n",
    "</div>"
   ]
  },
  {
   "cell_type": "code",
   "execution_count": null,
   "metadata": {},
   "outputs": [],
   "source": []
  }
 ],
 "metadata": {
  "ExecuteTimeLog": [
   {
    "duration": 383,
    "start_time": "2025-07-27T12:39:38.678Z"
   },
   {
    "duration": 2058,
    "start_time": "2025-07-27T12:46:43.400Z"
   },
   {
    "duration": 19,
    "start_time": "2025-07-27T12:47:03.644Z"
   },
   {
    "duration": 629,
    "start_time": "2025-07-27T12:50:30.804Z"
   },
   {
    "duration": 66,
    "start_time": "2025-07-27T12:51:55.616Z"
   },
   {
    "duration": 12,
    "start_time": "2025-07-27T12:52:20.629Z"
   },
   {
    "duration": 18,
    "start_time": "2025-07-27T12:53:38.038Z"
   },
   {
    "duration": 30,
    "start_time": "2025-07-27T12:54:19.027Z"
   },
   {
    "duration": 12,
    "start_time": "2025-07-27T13:05:11.557Z"
   },
   {
    "duration": 42,
    "start_time": "2025-07-27T13:05:18.164Z"
   },
   {
    "duration": 434,
    "start_time": "2025-07-28T06:34:12.021Z"
   },
   {
    "duration": 1982,
    "start_time": "2025-07-28T06:34:13.259Z"
   },
   {
    "duration": 18,
    "start_time": "2025-07-28T06:34:16.684Z"
   },
   {
    "duration": 586,
    "start_time": "2025-07-28T06:34:18.875Z"
   },
   {
    "duration": 41,
    "start_time": "2025-07-28T06:34:20.300Z"
   },
   {
    "duration": 1055,
    "start_time": "2025-07-28T06:37:58.919Z"
   },
   {
    "duration": 177,
    "start_time": "2025-07-28T06:39:00.463Z"
   },
   {
    "duration": 112,
    "start_time": "2025-07-28T06:41:56.985Z"
   },
   {
    "duration": 201,
    "start_time": "2025-07-28T06:42:33.034Z"
   },
   {
    "duration": 509,
    "start_time": "2025-07-28T06:44:34.305Z"
   },
   {
    "duration": 329,
    "start_time": "2025-07-28T06:45:36.535Z"
   },
   {
    "duration": 267,
    "start_time": "2025-07-28T06:53:26.198Z"
   },
   {
    "duration": 202,
    "start_time": "2025-07-28T06:56:02.715Z"
   },
   {
    "duration": 4092,
    "start_time": "2025-07-28T07:02:25.684Z"
   },
   {
    "duration": 219,
    "start_time": "2025-07-28T07:02:55.163Z"
   },
   {
    "duration": 436,
    "start_time": "2025-07-28T07:03:44.435Z"
   },
   {
    "duration": 316,
    "start_time": "2025-07-28T07:07:08.143Z"
   },
   {
    "duration": 124,
    "start_time": "2025-07-28T07:22:10.886Z"
   },
   {
    "duration": 14,
    "start_time": "2025-07-28T07:24:08.605Z"
   },
   {
    "duration": 4,
    "start_time": "2025-07-28T07:33:20.482Z"
   },
   {
    "duration": 64,
    "start_time": "2025-07-28T07:47:47.698Z"
   },
   {
    "duration": 13,
    "start_time": "2025-07-28T07:51:58.365Z"
   },
   {
    "duration": 7,
    "start_time": "2025-07-28T07:55:07.226Z"
   },
   {
    "duration": 6,
    "start_time": "2025-07-28T08:00:26.676Z"
   },
   {
    "duration": 320,
    "start_time": "2025-07-28T08:07:37.339Z"
   },
   {
    "duration": 15,
    "start_time": "2025-07-28T08:25:15.584Z"
   },
   {
    "duration": 11,
    "start_time": "2025-07-28T08:25:25.880Z"
   },
   {
    "duration": 8,
    "start_time": "2025-07-28T08:29:05.212Z"
   },
   {
    "duration": 401,
    "start_time": "2025-07-28T08:29:23.380Z"
   },
   {
    "duration": 1396,
    "start_time": "2025-07-28T08:34:58.573Z"
   },
   {
    "duration": 132,
    "start_time": "2025-07-28T08:35:35.717Z"
   },
   {
    "duration": 373,
    "start_time": "2025-07-28T08:35:48.005Z"
   },
   {
    "duration": 454,
    "start_time": "2025-07-28T08:38:14.354Z"
   },
   {
    "duration": 479,
    "start_time": "2025-07-28T11:28:20.014Z"
   },
   {
    "duration": 613,
    "start_time": "2025-07-28T11:30:55.051Z"
   },
   {
    "duration": 24,
    "start_time": "2025-07-28T11:34:38.838Z"
   },
   {
    "duration": 10,
    "start_time": "2025-07-28T11:35:07.510Z"
   },
   {
    "duration": 46,
    "start_time": "2025-07-28T11:35:24.678Z"
   },
   {
    "duration": 11,
    "start_time": "2025-07-28T11:43:17.780Z"
   },
   {
    "duration": 43,
    "start_time": "2025-07-28T11:49:46.805Z"
   },
   {
    "duration": 46,
    "start_time": "2025-07-28T11:51:17.051Z"
   },
   {
    "duration": 44,
    "start_time": "2025-07-28T11:51:50.251Z"
   },
   {
    "duration": 42,
    "start_time": "2025-07-28T11:51:59.938Z"
   },
   {
    "duration": 392,
    "start_time": "2025-07-29T06:31:44.391Z"
   },
   {
    "duration": 1993,
    "start_time": "2025-07-29T06:31:44.785Z"
   },
   {
    "duration": 19,
    "start_time": "2025-07-29T06:31:46.780Z"
   },
   {
    "duration": 602,
    "start_time": "2025-07-29T06:31:46.800Z"
   },
   {
    "duration": 51,
    "start_time": "2025-07-29T06:31:47.404Z"
   },
   {
    "duration": 1047,
    "start_time": "2025-07-29T06:31:47.456Z"
   },
   {
    "duration": 153,
    "start_time": "2025-07-29T06:31:48.505Z"
   },
   {
    "duration": 196,
    "start_time": "2025-07-29T06:31:48.660Z"
   },
   {
    "duration": 479,
    "start_time": "2025-07-29T06:31:48.858Z"
   },
   {
    "duration": 317,
    "start_time": "2025-07-29T06:31:49.339Z"
   },
   {
    "duration": 267,
    "start_time": "2025-07-29T06:31:49.657Z"
   },
   {
    "duration": 194,
    "start_time": "2025-07-29T06:31:49.926Z"
   },
   {
    "duration": 4187,
    "start_time": "2025-07-29T06:31:50.122Z"
   },
   {
    "duration": 230,
    "start_time": "2025-07-29T06:31:54.312Z"
   },
   {
    "duration": 328,
    "start_time": "2025-07-29T06:31:54.544Z"
   },
   {
    "duration": 29,
    "start_time": "2025-07-29T06:31:54.875Z"
   },
   {
    "duration": 44,
    "start_time": "2025-07-29T06:31:54.906Z"
   },
   {
    "duration": 71,
    "start_time": "2025-07-29T06:31:54.952Z"
   },
   {
    "duration": 12,
    "start_time": "2025-07-29T06:31:55.024Z"
   },
   {
    "duration": 8,
    "start_time": "2025-07-29T06:31:55.039Z"
   },
   {
    "duration": 65,
    "start_time": "2025-07-29T06:31:55.049Z"
   },
   {
    "duration": 356,
    "start_time": "2025-07-29T06:31:55.117Z"
   },
   {
    "duration": 12,
    "start_time": "2025-07-29T06:31:55.476Z"
   },
   {
    "duration": 438,
    "start_time": "2025-07-29T06:31:55.489Z"
   },
   {
    "duration": 542,
    "start_time": "2025-07-29T06:31:55.929Z"
   },
   {
    "duration": 492,
    "start_time": "2025-07-29T06:31:56.473Z"
   },
   {
    "duration": 605,
    "start_time": "2025-07-29T06:31:56.967Z"
   },
   {
    "duration": 25,
    "start_time": "2025-07-29T06:31:57.573Z"
   },
   {
    "duration": 57,
    "start_time": "2025-07-29T06:31:57.599Z"
   },
   {
    "duration": 8,
    "start_time": "2025-07-29T06:31:57.657Z"
   },
   {
    "duration": 42,
    "start_time": "2025-07-29T06:31:57.667Z"
   },
   {
    "duration": 4,
    "start_time": "2025-07-29T06:31:57.711Z"
   },
   {
    "duration": 45,
    "start_time": "2025-07-29T06:41:47.510Z"
   },
   {
    "duration": 141,
    "start_time": "2025-07-29T06:44:38.842Z"
   },
   {
    "duration": 132,
    "start_time": "2025-07-29T06:53:30.632Z"
   },
   {
    "duration": 93,
    "start_time": "2025-07-29T06:54:57.335Z"
   },
   {
    "duration": 108,
    "start_time": "2025-07-29T06:55:05.166Z"
   },
   {
    "duration": 86,
    "start_time": "2025-07-29T06:55:24.766Z"
   },
   {
    "duration": 133,
    "start_time": "2025-07-29T06:56:05.253Z"
   },
   {
    "duration": 92,
    "start_time": "2025-07-29T06:56:34.013Z"
   },
   {
    "duration": 113,
    "start_time": "2025-07-29T06:57:06.356Z"
   },
   {
    "duration": 401,
    "start_time": "2025-07-29T07:06:37.873Z"
   },
   {
    "duration": 2019,
    "start_time": "2025-07-29T07:06:38.276Z"
   },
   {
    "duration": 17,
    "start_time": "2025-07-29T07:06:40.297Z"
   },
   {
    "duration": 591,
    "start_time": "2025-07-29T07:06:40.316Z"
   },
   {
    "duration": 51,
    "start_time": "2025-07-29T07:06:40.909Z"
   },
   {
    "duration": 811,
    "start_time": "2025-07-29T07:06:40.962Z"
   },
   {
    "duration": 119,
    "start_time": "2025-07-29T07:06:41.775Z"
   },
   {
    "duration": 203,
    "start_time": "2025-07-29T07:06:41.896Z"
   },
   {
    "duration": 480,
    "start_time": "2025-07-29T07:06:42.101Z"
   },
   {
    "duration": 351,
    "start_time": "2025-07-29T07:06:42.583Z"
   },
   {
    "duration": 281,
    "start_time": "2025-07-29T07:06:42.937Z"
   },
   {
    "duration": 203,
    "start_time": "2025-07-29T07:06:43.220Z"
   },
   {
    "duration": 4096,
    "start_time": "2025-07-29T07:06:43.425Z"
   },
   {
    "duration": 232,
    "start_time": "2025-07-29T07:06:47.524Z"
   },
   {
    "duration": 312,
    "start_time": "2025-07-29T07:06:47.758Z"
   },
   {
    "duration": 33,
    "start_time": "2025-07-29T07:06:48.072Z"
   },
   {
    "duration": 6,
    "start_time": "2025-07-29T07:06:48.107Z"
   },
   {
    "duration": 137,
    "start_time": "2025-07-29T07:06:48.115Z"
   },
   {
    "duration": 12,
    "start_time": "2025-07-29T07:06:48.253Z"
   },
   {
    "duration": 13,
    "start_time": "2025-07-29T07:06:48.266Z"
   },
   {
    "duration": 105,
    "start_time": "2025-07-29T07:06:48.280Z"
   },
   {
    "duration": 328,
    "start_time": "2025-07-29T07:06:48.386Z"
   },
   {
    "duration": 11,
    "start_time": "2025-07-29T07:06:48.715Z"
   },
   {
    "duration": 553,
    "start_time": "2025-07-29T07:06:48.728Z"
   },
   {
    "duration": 455,
    "start_time": "2025-07-29T07:06:49.282Z"
   },
   {
    "duration": 485,
    "start_time": "2025-07-29T07:06:49.738Z"
   },
   {
    "duration": 619,
    "start_time": "2025-07-29T07:06:50.225Z"
   },
   {
    "duration": 26,
    "start_time": "2025-07-29T07:06:50.848Z"
   },
   {
    "duration": 87,
    "start_time": "2025-07-29T07:06:50.875Z"
   },
   {
    "duration": 9,
    "start_time": "2025-07-29T07:06:50.964Z"
   },
   {
    "duration": 133,
    "start_time": "2025-07-29T07:06:50.974Z"
   },
   {
    "duration": 34,
    "start_time": "2025-07-29T07:06:51.109Z"
   },
   {
    "duration": 6,
    "start_time": "2025-07-29T07:06:51.145Z"
   },
   {
    "duration": 47,
    "start_time": "2025-07-29T07:08:35.075Z"
   },
   {
    "duration": 82,
    "start_time": "2025-07-29T07:09:58.994Z"
   },
   {
    "duration": 49,
    "start_time": "2025-07-29T07:12:05.248Z"
   },
   {
    "duration": 51,
    "start_time": "2025-07-29T07:12:17.175Z"
   },
   {
    "duration": 46,
    "start_time": "2025-07-29T07:12:40.495Z"
   },
   {
    "duration": 65,
    "start_time": "2025-07-29T07:13:28.086Z"
   },
   {
    "duration": 390,
    "start_time": "2025-07-29T07:15:08.383Z"
   },
   {
    "duration": 1851,
    "start_time": "2025-07-29T07:15:08.775Z"
   },
   {
    "duration": 21,
    "start_time": "2025-07-29T07:15:10.630Z"
   },
   {
    "duration": 581,
    "start_time": "2025-07-29T07:15:10.654Z"
   },
   {
    "duration": 48,
    "start_time": "2025-07-29T07:15:11.237Z"
   },
   {
    "duration": 780,
    "start_time": "2025-07-29T07:15:11.287Z"
   },
   {
    "duration": 110,
    "start_time": "2025-07-29T07:15:12.068Z"
   },
   {
    "duration": 196,
    "start_time": "2025-07-29T07:15:12.180Z"
   },
   {
    "duration": 453,
    "start_time": "2025-07-29T07:15:12.378Z"
   },
   {
    "duration": 336,
    "start_time": "2025-07-29T07:15:12.833Z"
   },
   {
    "duration": 272,
    "start_time": "2025-07-29T07:15:13.172Z"
   },
   {
    "duration": 191,
    "start_time": "2025-07-29T07:15:13.448Z"
   },
   {
    "duration": 3982,
    "start_time": "2025-07-29T07:15:13.642Z"
   },
   {
    "duration": 229,
    "start_time": "2025-07-29T07:15:17.625Z"
   },
   {
    "duration": 323,
    "start_time": "2025-07-29T07:15:17.856Z"
   },
   {
    "duration": 20,
    "start_time": "2025-07-29T07:15:18.180Z"
   },
   {
    "duration": 160,
    "start_time": "2025-07-29T07:15:18.202Z"
   },
   {
    "duration": 81,
    "start_time": "2025-07-29T07:15:18.364Z"
   },
   {
    "duration": 11,
    "start_time": "2025-07-29T07:15:18.447Z"
   },
   {
    "duration": 8,
    "start_time": "2025-07-29T07:15:18.460Z"
   },
   {
    "duration": 7,
    "start_time": "2025-07-29T07:15:18.469Z"
   },
   {
    "duration": 349,
    "start_time": "2025-07-29T07:15:18.478Z"
   },
   {
    "duration": 22,
    "start_time": "2025-07-29T07:15:18.829Z"
   },
   {
    "duration": 444,
    "start_time": "2025-07-29T07:15:18.853Z"
   },
   {
    "duration": 443,
    "start_time": "2025-07-29T07:15:19.299Z"
   },
   {
    "duration": 538,
    "start_time": "2025-07-29T07:15:19.750Z"
   },
   {
    "duration": 590,
    "start_time": "2025-07-29T07:15:20.290Z"
   },
   {
    "duration": 23,
    "start_time": "2025-07-29T07:15:20.882Z"
   },
   {
    "duration": 110,
    "start_time": "2025-07-29T07:15:20.907Z"
   },
   {
    "duration": 58,
    "start_time": "2025-07-29T07:15:21.019Z"
   },
   {
    "duration": 90,
    "start_time": "2025-07-29T07:15:21.079Z"
   },
   {
    "duration": 30,
    "start_time": "2025-07-29T07:15:21.170Z"
   },
   {
    "duration": 22,
    "start_time": "2025-07-29T07:15:21.202Z"
   },
   {
    "duration": 318,
    "start_time": "2025-07-29T07:35:09.845Z"
   },
   {
    "duration": 99,
    "start_time": "2025-07-29T07:36:13.036Z"
   },
   {
    "duration": 392,
    "start_time": "2025-07-29T07:52:54.074Z"
   },
   {
    "duration": 1981,
    "start_time": "2025-07-29T07:52:54.468Z"
   },
   {
    "duration": 18,
    "start_time": "2025-07-29T07:52:56.451Z"
   },
   {
    "duration": 661,
    "start_time": "2025-07-29T07:52:56.471Z"
   },
   {
    "duration": 50,
    "start_time": "2025-07-29T07:52:57.134Z"
   },
   {
    "duration": 792,
    "start_time": "2025-07-29T07:52:57.186Z"
   },
   {
    "duration": 118,
    "start_time": "2025-07-29T07:52:57.979Z"
   },
   {
    "duration": 206,
    "start_time": "2025-07-29T07:52:58.099Z"
   },
   {
    "duration": 476,
    "start_time": "2025-07-29T07:52:58.307Z"
   },
   {
    "duration": 347,
    "start_time": "2025-07-29T07:52:58.785Z"
   },
   {
    "duration": 275,
    "start_time": "2025-07-29T07:52:59.134Z"
   },
   {
    "duration": 203,
    "start_time": "2025-07-29T07:52:59.411Z"
   },
   {
    "duration": 4069,
    "start_time": "2025-07-29T07:52:59.617Z"
   },
   {
    "duration": 239,
    "start_time": "2025-07-29T07:53:03.690Z"
   },
   {
    "duration": 323,
    "start_time": "2025-07-29T07:53:03.931Z"
   },
   {
    "duration": 22,
    "start_time": "2025-07-29T07:53:04.256Z"
   },
   {
    "duration": 6,
    "start_time": "2025-07-29T07:53:04.280Z"
   },
   {
    "duration": 82,
    "start_time": "2025-07-29T07:53:04.288Z"
   },
   {
    "duration": 98,
    "start_time": "2025-07-29T07:53:04.371Z"
   },
   {
    "duration": 56,
    "start_time": "2025-07-29T07:53:04.471Z"
   },
   {
    "duration": 23,
    "start_time": "2025-07-29T07:53:04.529Z"
   },
   {
    "duration": 318,
    "start_time": "2025-07-29T07:53:04.554Z"
   },
   {
    "duration": 12,
    "start_time": "2025-07-29T07:53:04.874Z"
   },
   {
    "duration": 699,
    "start_time": "2025-07-29T07:53:04.888Z"
   },
   {
    "duration": 462,
    "start_time": "2025-07-29T07:53:05.589Z"
   },
   {
    "duration": 535,
    "start_time": "2025-07-29T07:53:06.053Z"
   },
   {
    "duration": 639,
    "start_time": "2025-07-29T07:53:06.590Z"
   },
   {
    "duration": 36,
    "start_time": "2025-07-29T07:53:07.231Z"
   },
   {
    "duration": 47,
    "start_time": "2025-07-29T07:53:07.269Z"
   },
   {
    "duration": 9,
    "start_time": "2025-07-29T07:53:07.318Z"
   },
   {
    "duration": 68,
    "start_time": "2025-07-29T07:53:07.328Z"
   },
   {
    "duration": 51,
    "start_time": "2025-07-29T07:53:07.398Z"
   },
   {
    "duration": 7,
    "start_time": "2025-07-29T07:53:07.451Z"
   },
   {
    "duration": 123,
    "start_time": "2025-07-29T07:53:07.459Z"
   },
   {
    "duration": 53,
    "start_time": "2025-07-29T13:17:52.273Z"
   },
   {
    "duration": 456,
    "start_time": "2025-07-29T13:17:58.716Z"
   },
   {
    "duration": 2484,
    "start_time": "2025-07-29T13:17:59.175Z"
   },
   {
    "duration": 19,
    "start_time": "2025-07-29T13:18:01.661Z"
   },
   {
    "duration": 634,
    "start_time": "2025-07-29T13:18:01.682Z"
   },
   {
    "duration": 60,
    "start_time": "2025-07-29T13:18:02.318Z"
   },
   {
    "duration": 1017,
    "start_time": "2025-07-29T13:18:02.380Z"
   },
   {
    "duration": 163,
    "start_time": "2025-07-29T13:18:03.399Z"
   },
   {
    "duration": 226,
    "start_time": "2025-07-29T13:18:03.564Z"
   },
   {
    "duration": 536,
    "start_time": "2025-07-29T13:18:03.792Z"
   },
   {
    "duration": 352,
    "start_time": "2025-07-29T13:18:04.330Z"
   },
   {
    "duration": 381,
    "start_time": "2025-07-29T13:18:04.684Z"
   },
   {
    "duration": 224,
    "start_time": "2025-07-29T13:18:05.066Z"
   },
   {
    "duration": 4684,
    "start_time": "2025-07-29T13:18:05.292Z"
   },
   {
    "duration": 219,
    "start_time": "2025-07-29T13:18:09.979Z"
   },
   {
    "duration": 381,
    "start_time": "2025-07-29T13:18:10.200Z"
   },
   {
    "duration": 29,
    "start_time": "2025-07-29T13:18:10.583Z"
   },
   {
    "duration": 6,
    "start_time": "2025-07-29T13:18:10.613Z"
   },
   {
    "duration": 55,
    "start_time": "2025-07-29T13:18:10.621Z"
   },
   {
    "duration": 12,
    "start_time": "2025-07-29T13:18:10.678Z"
   },
   {
    "duration": 58,
    "start_time": "2025-07-29T13:18:10.692Z"
   },
   {
    "duration": 26,
    "start_time": "2025-07-29T13:18:10.751Z"
   },
   {
    "duration": 368,
    "start_time": "2025-07-29T13:18:10.779Z"
   },
   {
    "duration": 15,
    "start_time": "2025-07-29T13:18:11.149Z"
   },
   {
    "duration": 450,
    "start_time": "2025-07-29T13:18:11.166Z"
   },
   {
    "duration": 539,
    "start_time": "2025-07-29T13:18:11.619Z"
   },
   {
    "duration": 598,
    "start_time": "2025-07-29T13:18:12.162Z"
   },
   {
    "duration": 709,
    "start_time": "2025-07-29T13:18:12.763Z"
   },
   {
    "duration": 24,
    "start_time": "2025-07-29T13:18:13.474Z"
   },
   {
    "duration": 75,
    "start_time": "2025-07-29T13:18:13.500Z"
   },
   {
    "duration": 11,
    "start_time": "2025-07-29T13:18:13.577Z"
   },
   {
    "duration": 82,
    "start_time": "2025-07-29T13:18:13.590Z"
   },
   {
    "duration": 30,
    "start_time": "2025-07-29T13:18:13.674Z"
   },
   {
    "duration": 6,
    "start_time": "2025-07-29T13:18:13.706Z"
   },
   {
    "duration": 184,
    "start_time": "2025-07-29T13:18:13.714Z"
   },
   {
    "duration": 453,
    "start_time": "2025-07-29T13:22:25.214Z"
   },
   {
    "duration": 1877,
    "start_time": "2025-07-29T13:22:25.669Z"
   },
   {
    "duration": 28,
    "start_time": "2025-07-29T13:22:27.554Z"
   },
   {
    "duration": 652,
    "start_time": "2025-07-29T13:22:27.585Z"
   },
   {
    "duration": 53,
    "start_time": "2025-07-29T13:22:28.240Z"
   },
   {
    "duration": 826,
    "start_time": "2025-07-29T13:22:28.295Z"
   },
   {
    "duration": 123,
    "start_time": "2025-07-29T13:22:29.123Z"
   },
   {
    "duration": 212,
    "start_time": "2025-07-29T13:22:29.248Z"
   },
   {
    "duration": 485,
    "start_time": "2025-07-29T13:22:29.462Z"
   },
   {
    "duration": 343,
    "start_time": "2025-07-29T13:22:29.949Z"
   },
   {
    "duration": 262,
    "start_time": "2025-07-29T13:22:30.294Z"
   },
   {
    "duration": 232,
    "start_time": "2025-07-29T13:22:30.558Z"
   },
   {
    "duration": 4537,
    "start_time": "2025-07-29T13:22:30.793Z"
   },
   {
    "duration": 237,
    "start_time": "2025-07-29T13:22:35.333Z"
   },
   {
    "duration": 385,
    "start_time": "2025-07-29T13:22:35.572Z"
   },
   {
    "duration": 22,
    "start_time": "2025-07-29T13:22:35.959Z"
   },
   {
    "duration": 64,
    "start_time": "2025-07-29T13:22:35.983Z"
   },
   {
    "duration": 81,
    "start_time": "2025-07-29T13:22:36.049Z"
   },
   {
    "duration": 17,
    "start_time": "2025-07-29T13:22:36.133Z"
   },
   {
    "duration": 52,
    "start_time": "2025-07-29T13:22:36.152Z"
   },
   {
    "duration": 62,
    "start_time": "2025-07-29T13:22:36.205Z"
   },
   {
    "duration": 384,
    "start_time": "2025-07-29T13:22:36.269Z"
   },
   {
    "duration": 13,
    "start_time": "2025-07-29T13:22:36.656Z"
   },
   {
    "duration": 432,
    "start_time": "2025-07-29T13:22:36.671Z"
   },
   {
    "duration": 563,
    "start_time": "2025-07-29T13:22:37.105Z"
   },
   {
    "duration": 541,
    "start_time": "2025-07-29T13:22:37.670Z"
   },
   {
    "duration": 687,
    "start_time": "2025-07-29T13:22:38.212Z"
   },
   {
    "duration": 25,
    "start_time": "2025-07-29T13:22:38.901Z"
   },
   {
    "duration": 109,
    "start_time": "2025-07-29T13:22:38.939Z"
   },
   {
    "duration": 11,
    "start_time": "2025-07-29T13:22:39.050Z"
   },
   {
    "duration": 94,
    "start_time": "2025-07-29T13:22:39.063Z"
   },
   {
    "duration": 32,
    "start_time": "2025-07-29T13:22:39.159Z"
   },
   {
    "duration": 32,
    "start_time": "2025-07-29T13:22:39.193Z"
   },
   {
    "duration": 146,
    "start_time": "2025-07-29T13:22:39.227Z"
   },
   {
    "duration": 1448,
    "start_time": "2025-07-29T14:00:22.104Z"
   },
   {
    "duration": 2135,
    "start_time": "2025-07-29T14:00:23.554Z"
   },
   {
    "duration": 15,
    "start_time": "2025-07-29T14:00:25.691Z"
   },
   {
    "duration": 785,
    "start_time": "2025-07-29T14:00:25.708Z"
   },
   {
    "duration": 44,
    "start_time": "2025-07-29T14:00:26.495Z"
   },
   {
    "duration": 147,
    "start_time": "2025-07-29T14:00:26.540Z"
   },
   {
    "duration": 188,
    "start_time": "2025-07-29T14:00:26.689Z"
   },
   {
    "duration": 505,
    "start_time": "2025-07-29T14:00:26.879Z"
   },
   {
    "duration": 322,
    "start_time": "2025-07-29T14:00:27.386Z"
   },
   {
    "duration": 282,
    "start_time": "2025-07-29T14:00:27.711Z"
   },
   {
    "duration": 215,
    "start_time": "2025-07-29T14:00:27.995Z"
   },
   {
    "duration": 4411,
    "start_time": "2025-07-29T14:00:28.211Z"
   },
   {
    "duration": 237,
    "start_time": "2025-07-29T14:00:32.624Z"
   },
   {
    "duration": 348,
    "start_time": "2025-07-29T14:00:32.863Z"
   },
   {
    "duration": 15,
    "start_time": "2025-07-29T14:00:33.213Z"
   },
   {
    "duration": 30,
    "start_time": "2025-07-29T14:00:33.230Z"
   },
   {
    "duration": 142,
    "start_time": "2025-07-29T14:00:33.262Z"
   },
   {
    "duration": 12,
    "start_time": "2025-07-29T14:00:33.406Z"
   },
   {
    "duration": 439,
    "start_time": "2025-07-29T14:00:33.419Z"
   },
   {
    "duration": 129,
    "start_time": "2025-07-29T14:00:33.860Z"
   },
   {
    "duration": 401,
    "start_time": "2025-07-29T14:00:33.990Z"
   },
   {
    "duration": 11,
    "start_time": "2025-07-29T14:00:34.393Z"
   },
   {
    "duration": 448,
    "start_time": "2025-07-29T14:00:34.406Z"
   },
   {
    "duration": 487,
    "start_time": "2025-07-29T14:00:34.856Z"
   },
   {
    "duration": 508,
    "start_time": "2025-07-29T14:00:35.345Z"
   },
   {
    "duration": 678,
    "start_time": "2025-07-29T14:00:35.855Z"
   },
   {
    "duration": 27,
    "start_time": "2025-07-29T14:00:36.535Z"
   },
   {
    "duration": 318,
    "start_time": "2025-07-29T14:00:36.565Z"
   },
   {
    "duration": 8,
    "start_time": "2025-07-29T14:00:36.885Z"
   },
   {
    "duration": 101,
    "start_time": "2025-07-29T14:00:36.895Z"
   },
   {
    "duration": 44,
    "start_time": "2025-07-29T14:00:36.998Z"
   },
   {
    "duration": 33,
    "start_time": "2025-07-29T14:00:37.043Z"
   },
   {
    "duration": 162,
    "start_time": "2025-07-29T14:00:37.078Z"
   },
   {
    "duration": 1279,
    "start_time": "2025-07-29T14:07:31.986Z"
   },
   {
    "duration": 2036,
    "start_time": "2025-07-29T14:07:33.268Z"
   },
   {
    "duration": 16,
    "start_time": "2025-07-29T14:07:35.306Z"
   },
   {
    "duration": 618,
    "start_time": "2025-07-29T14:07:35.324Z"
   },
   {
    "duration": 52,
    "start_time": "2025-07-29T14:07:35.944Z"
   },
   {
    "duration": 122,
    "start_time": "2025-07-29T14:07:35.998Z"
   },
   {
    "duration": 200,
    "start_time": "2025-07-29T14:07:36.121Z"
   },
   {
    "duration": 519,
    "start_time": "2025-07-29T14:07:36.323Z"
   },
   {
    "duration": 373,
    "start_time": "2025-07-29T14:07:36.843Z"
   },
   {
    "duration": 276,
    "start_time": "2025-07-29T14:07:37.218Z"
   },
   {
    "duration": 208,
    "start_time": "2025-07-29T14:07:37.495Z"
   },
   {
    "duration": 4335,
    "start_time": "2025-07-29T14:07:37.705Z"
   },
   {
    "duration": 224,
    "start_time": "2025-07-29T14:07:42.042Z"
   },
   {
    "duration": 336,
    "start_time": "2025-07-29T14:07:42.268Z"
   },
   {
    "duration": 16,
    "start_time": "2025-07-29T14:07:42.605Z"
   },
   {
    "duration": 33,
    "start_time": "2025-07-29T14:07:42.623Z"
   },
   {
    "duration": 239,
    "start_time": "2025-07-29T14:07:42.658Z"
   },
   {
    "duration": 12,
    "start_time": "2025-07-29T14:07:42.899Z"
   },
   {
    "duration": 28,
    "start_time": "2025-07-29T14:07:42.912Z"
   },
   {
    "duration": 13,
    "start_time": "2025-07-29T14:07:42.942Z"
   },
   {
    "duration": 354,
    "start_time": "2025-07-29T14:07:42.957Z"
   },
   {
    "duration": 12,
    "start_time": "2025-07-29T14:07:43.313Z"
   },
   {
    "duration": 436,
    "start_time": "2025-07-29T14:07:43.326Z"
   },
   {
    "duration": 481,
    "start_time": "2025-07-29T14:07:43.764Z"
   },
   {
    "duration": 477,
    "start_time": "2025-07-29T14:07:44.247Z"
   },
   {
    "duration": 704,
    "start_time": "2025-07-29T14:07:44.727Z"
   },
   {
    "duration": 26,
    "start_time": "2025-07-29T14:07:45.433Z"
   },
   {
    "duration": 78,
    "start_time": "2025-07-29T14:07:45.462Z"
   },
   {
    "duration": 9,
    "start_time": "2025-07-29T14:07:45.541Z"
   },
   {
    "duration": 371,
    "start_time": "2025-07-29T14:07:45.551Z"
   },
   {
    "duration": 34,
    "start_time": "2025-07-29T14:07:45.924Z"
   },
   {
    "duration": 16,
    "start_time": "2025-07-29T14:07:45.959Z"
   },
   {
    "duration": 158,
    "start_time": "2025-07-29T14:07:45.976Z"
   },
   {
    "duration": 5,
    "start_time": "2025-07-29T14:08:32.079Z"
   },
   {
    "duration": 5,
    "start_time": "2025-07-29T14:09:02.958Z"
   },
   {
    "duration": 454,
    "start_time": "2025-07-29T14:19:04.195Z"
   },
   {
    "duration": 485,
    "start_time": "2025-07-29T14:20:56.898Z"
   },
   {
    "duration": 418,
    "start_time": "2025-07-29T14:22:40.111Z"
   },
   {
    "duration": 381,
    "start_time": "2025-07-29T14:25:03.956Z"
   },
   {
    "duration": 400,
    "start_time": "2025-07-29T14:25:21.612Z"
   },
   {
    "duration": 1484,
    "start_time": "2025-07-30T06:34:49.143Z"
   },
   {
    "duration": 2111,
    "start_time": "2025-07-30T06:34:50.629Z"
   },
   {
    "duration": 20,
    "start_time": "2025-07-30T06:34:52.742Z"
   },
   {
    "duration": 662,
    "start_time": "2025-07-30T06:34:52.763Z"
   },
   {
    "duration": 47,
    "start_time": "2025-07-30T06:34:53.426Z"
   },
   {
    "duration": 117,
    "start_time": "2025-07-30T06:34:53.475Z"
   },
   {
    "duration": 210,
    "start_time": "2025-07-30T06:34:53.594Z"
   },
   {
    "duration": 547,
    "start_time": "2025-07-30T06:34:53.806Z"
   },
   {
    "duration": 319,
    "start_time": "2025-07-30T06:34:54.354Z"
   },
   {
    "duration": 280,
    "start_time": "2025-07-30T06:34:54.675Z"
   },
   {
    "duration": 215,
    "start_time": "2025-07-30T06:34:54.959Z"
   },
   {
    "duration": 4377,
    "start_time": "2025-07-30T06:34:55.176Z"
   },
   {
    "duration": 243,
    "start_time": "2025-07-30T06:34:59.555Z"
   },
   {
    "duration": 382,
    "start_time": "2025-07-30T06:34:59.799Z"
   },
   {
    "duration": 20,
    "start_time": "2025-07-30T06:35:00.183Z"
   },
   {
    "duration": 27,
    "start_time": "2025-07-30T06:35:00.204Z"
   },
   {
    "duration": 282,
    "start_time": "2025-07-30T06:35:00.232Z"
   },
   {
    "duration": 12,
    "start_time": "2025-07-30T06:35:00.516Z"
   },
   {
    "duration": 49,
    "start_time": "2025-07-30T06:35:00.530Z"
   },
   {
    "duration": 12,
    "start_time": "2025-07-30T06:35:00.581Z"
   },
   {
    "duration": 376,
    "start_time": "2025-07-30T06:35:00.596Z"
   },
   {
    "duration": 10,
    "start_time": "2025-07-30T06:35:00.975Z"
   },
   {
    "duration": 423,
    "start_time": "2025-07-30T06:35:00.987Z"
   },
   {
    "duration": 524,
    "start_time": "2025-07-30T06:35:01.412Z"
   },
   {
    "duration": 528,
    "start_time": "2025-07-30T06:35:01.938Z"
   },
   {
    "duration": 641,
    "start_time": "2025-07-30T06:35:02.468Z"
   },
   {
    "duration": 25,
    "start_time": "2025-07-30T06:35:03.111Z"
   },
   {
    "duration": 75,
    "start_time": "2025-07-30T06:35:03.140Z"
   },
   {
    "duration": 171,
    "start_time": "2025-07-30T06:35:03.217Z"
   },
   {
    "duration": 52,
    "start_time": "2025-07-30T06:35:03.390Z"
   },
   {
    "duration": 51,
    "start_time": "2025-07-30T06:35:03.444Z"
   },
   {
    "duration": 7,
    "start_time": "2025-07-30T06:35:03.496Z"
   },
   {
    "duration": 140,
    "start_time": "2025-07-30T06:35:03.504Z"
   },
   {
    "duration": 55,
    "start_time": "2025-07-30T23:19:12.343Z"
   },
   {
    "duration": 1443,
    "start_time": "2025-07-30T23:19:17.492Z"
   },
   {
    "duration": 2030,
    "start_time": "2025-07-30T23:19:18.937Z"
   },
   {
    "duration": 19,
    "start_time": "2025-07-30T23:19:20.969Z"
   },
   {
    "duration": 654,
    "start_time": "2025-07-30T23:19:20.990Z"
   },
   {
    "duration": 45,
    "start_time": "2025-07-30T23:19:21.645Z"
   },
   {
    "duration": 118,
    "start_time": "2025-07-30T23:19:21.692Z"
   },
   {
    "duration": 235,
    "start_time": "2025-07-30T23:19:21.812Z"
   },
   {
    "duration": 502,
    "start_time": "2025-07-30T23:19:22.049Z"
   },
   {
    "duration": 323,
    "start_time": "2025-07-30T23:19:22.553Z"
   },
   {
    "duration": 285,
    "start_time": "2025-07-30T23:19:22.880Z"
   },
   {
    "duration": 197,
    "start_time": "2025-07-30T23:19:23.167Z"
   },
   {
    "duration": 4193,
    "start_time": "2025-07-30T23:19:23.365Z"
   },
   {
    "duration": 248,
    "start_time": "2025-07-30T23:19:27.560Z"
   },
   {
    "duration": 317,
    "start_time": "2025-07-30T23:19:27.809Z"
   },
   {
    "duration": 17,
    "start_time": "2025-07-30T23:19:28.128Z"
   },
   {
    "duration": 4,
    "start_time": "2025-07-30T23:19:28.146Z"
   },
   {
    "duration": 68,
    "start_time": "2025-07-30T23:19:28.152Z"
   },
   {
    "duration": 11,
    "start_time": "2025-07-30T23:19:28.221Z"
   },
   {
    "duration": 35,
    "start_time": "2025-07-30T23:19:28.233Z"
   },
   {
    "duration": 6,
    "start_time": "2025-07-30T23:19:28.269Z"
   },
   {
    "duration": 304,
    "start_time": "2025-07-30T23:19:28.277Z"
   },
   {
    "duration": 11,
    "start_time": "2025-07-30T23:19:28.583Z"
   },
   {
    "duration": 412,
    "start_time": "2025-07-30T23:19:28.597Z"
   },
   {
    "duration": 473,
    "start_time": "2025-07-30T23:19:29.011Z"
   },
   {
    "duration": 600,
    "start_time": "2025-07-30T23:19:29.486Z"
   },
   {
    "duration": 584,
    "start_time": "2025-07-30T23:19:30.088Z"
   },
   {
    "duration": 34,
    "start_time": "2025-07-30T23:19:30.673Z"
   },
   {
    "duration": 46,
    "start_time": "2025-07-30T23:19:30.710Z"
   },
   {
    "duration": 14,
    "start_time": "2025-07-30T23:19:30.781Z"
   },
   {
    "duration": 53,
    "start_time": "2025-07-30T23:19:30.797Z"
   },
   {
    "duration": 58,
    "start_time": "2025-07-30T23:19:30.851Z"
   },
   {
    "duration": 6,
    "start_time": "2025-07-30T23:19:30.911Z"
   },
   {
    "duration": 217,
    "start_time": "2025-07-30T23:19:30.918Z"
   },
   {
    "duration": 1196,
    "start_time": "2025-07-30T23:20:42.712Z"
   },
   {
    "duration": 1850,
    "start_time": "2025-07-30T23:20:43.910Z"
   },
   {
    "duration": 25,
    "start_time": "2025-07-30T23:20:45.761Z"
   },
   {
    "duration": 678,
    "start_time": "2025-07-30T23:20:45.789Z"
   },
   {
    "duration": 56,
    "start_time": "2025-07-30T23:20:46.469Z"
   },
   {
    "duration": 118,
    "start_time": "2025-07-30T23:20:46.526Z"
   },
   {
    "duration": 210,
    "start_time": "2025-07-30T23:20:46.646Z"
   },
   {
    "duration": 462,
    "start_time": "2025-07-30T23:20:46.857Z"
   },
   {
    "duration": 366,
    "start_time": "2025-07-30T23:20:47.320Z"
   },
   {
    "duration": 336,
    "start_time": "2025-07-30T23:20:47.690Z"
   },
   {
    "duration": 244,
    "start_time": "2025-07-30T23:20:48.027Z"
   },
   {
    "duration": 4294,
    "start_time": "2025-07-30T23:20:48.276Z"
   },
   {
    "duration": 241,
    "start_time": "2025-07-30T23:20:52.572Z"
   },
   {
    "duration": 341,
    "start_time": "2025-07-30T23:20:52.814Z"
   },
   {
    "duration": 20,
    "start_time": "2025-07-30T23:20:53.157Z"
   },
   {
    "duration": 12,
    "start_time": "2025-07-30T23:20:53.179Z"
   },
   {
    "duration": 47,
    "start_time": "2025-07-30T23:20:53.193Z"
   },
   {
    "duration": 12,
    "start_time": "2025-07-30T23:20:53.242Z"
   },
   {
    "duration": 30,
    "start_time": "2025-07-30T23:20:53.256Z"
   },
   {
    "duration": 19,
    "start_time": "2025-07-30T23:20:53.289Z"
   },
   {
    "duration": 359,
    "start_time": "2025-07-30T23:20:53.309Z"
   },
   {
    "duration": 19,
    "start_time": "2025-07-30T23:20:53.669Z"
   },
   {
    "duration": 418,
    "start_time": "2025-07-30T23:20:53.690Z"
   },
   {
    "duration": 480,
    "start_time": "2025-07-30T23:20:54.110Z"
   },
   {
    "duration": 516,
    "start_time": "2025-07-30T23:20:54.592Z"
   },
   {
    "duration": 645,
    "start_time": "2025-07-30T23:20:55.109Z"
   },
   {
    "duration": 37,
    "start_time": "2025-07-30T23:20:55.755Z"
   },
   {
    "duration": 66,
    "start_time": "2025-07-30T23:20:55.795Z"
   },
   {
    "duration": 16,
    "start_time": "2025-07-30T23:20:55.863Z"
   },
   {
    "duration": 74,
    "start_time": "2025-07-30T23:20:55.881Z"
   },
   {
    "duration": 43,
    "start_time": "2025-07-30T23:20:55.957Z"
   },
   {
    "duration": 7,
    "start_time": "2025-07-30T23:20:56.001Z"
   },
   {
    "duration": 127,
    "start_time": "2025-07-30T23:20:56.010Z"
   }
  ],
  "colab": {
   "provenance": []
  },
  "kernelspec": {
   "display_name": "Python 3 (ipykernel)",
   "language": "python",
   "name": "python3"
  },
  "language_info": {
   "codemirror_mode": {
    "name": "ipython",
    "version": 3
   },
   "file_extension": ".py",
   "mimetype": "text/x-python",
   "name": "python",
   "nbconvert_exporter": "python",
   "pygments_lexer": "ipython3",
   "version": "3.9.5"
  },
  "toc": {
   "base_numbering": 1,
   "nav_menu": {},
   "number_sections": true,
   "sideBar": true,
   "skip_h1_title": true,
   "title_cell": "Table of Contents",
   "title_sidebar": "Contents",
   "toc_cell": false,
   "toc_position": {},
   "toc_section_display": true,
   "toc_window_display": false
  }
 },
 "nbformat": 4,
 "nbformat_minor": 1
}
