{
 "cells": [
  {
   "cell_type": "markdown",
   "id": "e69ee995",
   "metadata": {},
   "source": [
    "<div class=\"alert alert-success\">\n",
    "<b> Комментарий от ревьюера 2</b>\n",
    "\n",
    "Привет еще раз. Спасибо, что доделал работу. Оформление комментариев по работе сохраняется. Только обозначим, что это вторая итерация. \n",
    "\n",
    "</div>"
   ]
  },
  {
   "cell_type": "markdown",
   "id": "5aecafaa",
   "metadata": {},
   "source": [
    "<div style=\"border: 2px solid black; padding: 10px; border-radius: 5px; background-color: #f0f0f0;\">\n",
    "    \n",
    "Привет, Константин.\n",
    "\n",
    "Меня зовут Людмила, и я буду проводить ревью твоего проекта. \n",
    "\n",
    "Предлагаю перейти на «ты», если не против.\n",
    "\n",
    "Но если это не удобно — дай знать, и мы перейдем на «вы». Моя главная задача — не находить сделанные тобою ошибки, а передать свой опыт и помочь тебе стать аналитиком данных.\n",
    "\n",
    "Мои комментарии будут в ячейках «Комментарий от ревьюера».\n",
    "\n",
    "---    \n",
    "<div class=\"alert alert-block alert-danger\">\n",
    "    \n",
    "Критическое замечание, которое следует исправить.\n",
    "</div> \n",
    "    \n",
    "<div class=\"alert alert-block alert-warning\">\n",
    "    \n",
    "Замечание\\совет на будущее.\n",
    "</div>\n",
    "    \n",
    "<div class=\"alert alert-block alert-success\">\n",
    "    \n",
    "Когда всё сделано правильно.\n",
    "</div>\n",
    "    \n",
    "---        \n",
    "    \n",
    "Если ты вносишь изменения в проект по моим рекомендациям, указывай, пожалуйста, это в своих комментариях. Будет удобно, если обозначишь свои комментарии заметным цветом или поместишь \n",
    "\n",
    "<div class=\"alert alert-info\">\n",
    "    \n",
    "в такую ячейку\n",
    "</div>\n",
    "\n",
    "Давай при работе с проектом мы будем общаться с тобой в диалоге, поэтому не удаляй и не перемещай мои комментарии, это поможет мне сделать повторную  проверку проекта быстрее.\n",
    "___"
   ]
  },
  {
   "cell_type": "markdown",
   "id": "e06910dd",
   "metadata": {
    "id": "e06910dd"
   },
   "source": [
    "# Напишите заголовок проекта здесь\n",
    "\n",
    "- Автор: Гуреев Константин\n",
    "- Дата: 07.05.2025"
   ]
  },
  {
   "cell_type": "markdown",
   "id": "4149134c",
   "metadata": {
    "id": "4149134c"
   },
   "source": [
    "### Цели и задачи проекта\n",
    "\n",
    "<font color='#777778'>Наш цель помочь коллегам \"Секретов темнолесья\" изучить развитие игровой индустрии. Наша задача предобработать исторические данные, которые коллеги собрали из открытых источников. В них есть информация о продажах игр, сделанных в разных жанрах и выпущенных на разных платформах, а также пользовательские и экспертные оценки игр. </font>"
   ]
  },
  {
   "cell_type": "markdown",
   "id": "728986ea",
   "metadata": {
    "id": "728986ea"
   },
   "source": [
    "### Описание данных\n",
    "\n",
    "<font color='#777778'>Данные `/datasets/new_games.csv` содержат информацию о продажах игр разных жанров и платформ, а также пользовательские и экспертные оценки игр:\n",
    "- `Name` — название игры.\n",
    "- `Platform` — название платформы.\n",
    "- `Year of Release` — год выпуска игры.\n",
    "- `Genre` — жанр игры.\n",
    "- `NA sales` — продажи в Северной Америке (в миллионах проданных копий).\n",
    "- `EU sales` — продажи в Европе (в миллионах проданных копий).\n",
    "- `JP sales` — продажи в Японии (в миллионах проданных копий).\n",
    "- `Other sales` — продажи в других странах (в миллионах проданных копий).\n",
    "- `Critic Score` — оценка критиков (от 0 до 100).\n",
    "- `User Score` — оценка пользователей (от 0 до 10).\n",
    "- `Rating` — рейтинг организации ESRB (англ. Entertainment Software Rating Board). Эта ассоциация определяет рейтинг компьютерных игр и присваивает им подходящую возрастную категорию.</font>"
   ]
  },
  {
   "cell_type": "markdown",
   "id": "4fecaf95",
   "metadata": {
    "id": "4fecaf95"
   },
   "source": [
    "### Содержимое проекта\n",
    "\n",
    "<font color='#777778'>   \n",
    "\n",
    "- Загрузка и знакомство с данными.\n",
    "- Проверка ошибок в данных и их предобработка.\n",
    "- Фильтрация данных.\n",
    "- Категоризация данных.</font>\n",
    "\n",
    "---"
   ]
  },
  {
   "cell_type": "markdown",
   "id": "694eddc5",
   "metadata": {},
   "source": [
    "<div class=\"alert alert-block alert-success\">\n",
    "    \n",
    "<b>Комментарий ревьюера:</b> \n",
    "\n",
    "Описание проекта составлено хорошо, чувствуется внимательный подход к постановке целей и задач. Здорово, что есть чёткая формулировка цели, описание датасета и основных шагов проекта.\n",
    "</div>"
   ]
  },
  {
   "cell_type": "markdown",
   "id": "6f7d21d6",
   "metadata": {
    "id": "6f7d21d6"
   },
   "source": [
    "## 1. Загрузка данных и знакомство с ними\n",
    "\n",
    "- Загрузите необходимые библиотеки Python и данные датасета `/datasets/new_games.csv`.\n"
   ]
  },
  {
   "cell_type": "code",
   "execution_count": 1,
   "id": "ebb66dc5",
   "metadata": {
    "id": "ebb66dc5"
   },
   "outputs": [],
   "source": [
    "# загружаем библиотеку pandas\n",
    "import pandas as pd"
   ]
  },
  {
   "cell_type": "code",
   "execution_count": 2,
   "id": "ce87c1db",
   "metadata": {
    "id": "ce87c1db"
   },
   "outputs": [],
   "source": [
    "# загружаем данные датасета\n",
    "df = pd.read_csv('/datasets/new_games.csv')"
   ]
  },
  {
   "cell_type": "markdown",
   "id": "e0a8705f",
   "metadata": {
    "id": "e0a8705f"
   },
   "source": [
    "- Познакомьтесь с данными: выведите первые строки и результат метода `info()`.\n"
   ]
  },
  {
   "cell_type": "code",
   "execution_count": 3,
   "id": "3937acf7",
   "metadata": {
    "id": "3937acf7"
   },
   "outputs": [
    {
     "name": "stdout",
     "output_type": "stream",
     "text": [
      "<class 'pandas.core.frame.DataFrame'>\n",
      "RangeIndex: 16956 entries, 0 to 16955\n",
      "Data columns (total 11 columns):\n",
      " #   Column           Non-Null Count  Dtype  \n",
      "---  ------           --------------  -----  \n",
      " 0   Name             16954 non-null  object \n",
      " 1   Platform         16956 non-null  object \n",
      " 2   Year of Release  16681 non-null  float64\n",
      " 3   Genre            16954 non-null  object \n",
      " 4   NA sales         16956 non-null  float64\n",
      " 5   EU sales         16956 non-null  object \n",
      " 6   JP sales         16956 non-null  object \n",
      " 7   Other sales      16956 non-null  float64\n",
      " 8   Critic Score     8242 non-null   float64\n",
      " 9   User Score       10152 non-null  object \n",
      " 10  Rating           10085 non-null  object \n",
      "dtypes: float64(4), object(7)\n",
      "memory usage: 1.4+ MB\n"
     ]
    }
   ],
   "source": [
    "df.info()"
   ]
  },
  {
   "cell_type": "code",
   "execution_count": 4,
   "id": "d7c8eb4b",
   "metadata": {
    "id": "d7c8eb4b"
   },
   "outputs": [
    {
     "data": {
      "text/html": [
       "<div>\n",
       "<style scoped>\n",
       "    .dataframe tbody tr th:only-of-type {\n",
       "        vertical-align: middle;\n",
       "    }\n",
       "\n",
       "    .dataframe tbody tr th {\n",
       "        vertical-align: top;\n",
       "    }\n",
       "\n",
       "    .dataframe thead th {\n",
       "        text-align: right;\n",
       "    }\n",
       "</style>\n",
       "<table border=\"1\" class=\"dataframe\">\n",
       "  <thead>\n",
       "    <tr style=\"text-align: right;\">\n",
       "      <th></th>\n",
       "      <th>Name</th>\n",
       "      <th>Platform</th>\n",
       "      <th>Year of Release</th>\n",
       "      <th>Genre</th>\n",
       "      <th>NA sales</th>\n",
       "      <th>EU sales</th>\n",
       "      <th>JP sales</th>\n",
       "      <th>Other sales</th>\n",
       "      <th>Critic Score</th>\n",
       "      <th>User Score</th>\n",
       "      <th>Rating</th>\n",
       "    </tr>\n",
       "  </thead>\n",
       "  <tbody>\n",
       "    <tr>\n",
       "      <th>0</th>\n",
       "      <td>Wii Sports</td>\n",
       "      <td>Wii</td>\n",
       "      <td>2006.0</td>\n",
       "      <td>Sports</td>\n",
       "      <td>41.36</td>\n",
       "      <td>28.96</td>\n",
       "      <td>3.77</td>\n",
       "      <td>8.45</td>\n",
       "      <td>76.0</td>\n",
       "      <td>8</td>\n",
       "      <td>E</td>\n",
       "    </tr>\n",
       "    <tr>\n",
       "      <th>1</th>\n",
       "      <td>Super Mario Bros.</td>\n",
       "      <td>NES</td>\n",
       "      <td>1985.0</td>\n",
       "      <td>Platform</td>\n",
       "      <td>29.08</td>\n",
       "      <td>3.58</td>\n",
       "      <td>6.81</td>\n",
       "      <td>0.77</td>\n",
       "      <td>NaN</td>\n",
       "      <td>NaN</td>\n",
       "      <td>NaN</td>\n",
       "    </tr>\n",
       "    <tr>\n",
       "      <th>2</th>\n",
       "      <td>Mario Kart Wii</td>\n",
       "      <td>Wii</td>\n",
       "      <td>2008.0</td>\n",
       "      <td>Racing</td>\n",
       "      <td>15.68</td>\n",
       "      <td>12.76</td>\n",
       "      <td>3.79</td>\n",
       "      <td>3.29</td>\n",
       "      <td>82.0</td>\n",
       "      <td>8.3</td>\n",
       "      <td>E</td>\n",
       "    </tr>\n",
       "    <tr>\n",
       "      <th>3</th>\n",
       "      <td>Wii Sports Resort</td>\n",
       "      <td>Wii</td>\n",
       "      <td>2009.0</td>\n",
       "      <td>Sports</td>\n",
       "      <td>15.61</td>\n",
       "      <td>10.93</td>\n",
       "      <td>3.28</td>\n",
       "      <td>2.95</td>\n",
       "      <td>80.0</td>\n",
       "      <td>8</td>\n",
       "      <td>E</td>\n",
       "    </tr>\n",
       "    <tr>\n",
       "      <th>4</th>\n",
       "      <td>Pokemon Red/Pokemon Blue</td>\n",
       "      <td>GB</td>\n",
       "      <td>1996.0</td>\n",
       "      <td>Role-Playing</td>\n",
       "      <td>11.27</td>\n",
       "      <td>8.89</td>\n",
       "      <td>10.22</td>\n",
       "      <td>1.00</td>\n",
       "      <td>NaN</td>\n",
       "      <td>NaN</td>\n",
       "      <td>NaN</td>\n",
       "    </tr>\n",
       "  </tbody>\n",
       "</table>\n",
       "</div>"
      ],
      "text/plain": [
       "                       Name Platform  Year of Release         Genre  NA sales  \\\n",
       "0                Wii Sports      Wii           2006.0        Sports     41.36   \n",
       "1         Super Mario Bros.      NES           1985.0      Platform     29.08   \n",
       "2            Mario Kart Wii      Wii           2008.0        Racing     15.68   \n",
       "3         Wii Sports Resort      Wii           2009.0        Sports     15.61   \n",
       "4  Pokemon Red/Pokemon Blue       GB           1996.0  Role-Playing     11.27   \n",
       "\n",
       "  EU sales JP sales  Other sales  Critic Score User Score Rating  \n",
       "0    28.96     3.77         8.45          76.0          8      E  \n",
       "1     3.58     6.81         0.77           NaN        NaN    NaN  \n",
       "2    12.76     3.79         3.29          82.0        8.3      E  \n",
       "3    10.93     3.28         2.95          80.0          8      E  \n",
       "4     8.89    10.22         1.00           NaN        NaN    NaN  "
      ]
     },
     "execution_count": 4,
     "metadata": {},
     "output_type": "execute_result"
    }
   ],
   "source": [
    "df.head()"
   ]
  },
  {
   "cell_type": "markdown",
   "id": "eb3495f4",
   "metadata": {},
   "source": [
    "<div class=\"alert alert-block alert-success\">\n",
    "    \n",
    "<b>Комментарий ревьюера:</b> \n",
    "\n",
    "Основная информация о таблице выведена, супер.\n",
    "</div>"
   ]
  },
  {
   "cell_type": "markdown",
   "id": "26267bc0",
   "metadata": {
    "id": "26267bc0"
   },
   "source": [
    "- Сделайте вывод о полученных данных: данные какого объёма вам предоставили, соответствуют ли они описанию, встречаются ли в них пропуски, используются ли верные типы данных.\n",
    "- Отметьте другие особенности данных, которые вы обнаружили и на которые стоит обратить внимание при предобработке. Например, вы можете проверить названия столбцов: все ли названия отражают содержимое данных и прописаны в удобном для работы виде."
   ]
  },
  {
   "cell_type": "markdown",
   "id": "05f55eb6",
   "metadata": {
    "id": "05f55eb6"
   },
   "source": [
    "<font color='#777778'>Используйте ячейки типа Markdown для промежуточных выводов и расширенных комментариев к действиям с данными. </font>"
   ]
  },
  {
   "cell_type": "markdown",
   "id": "1f50ec5c",
   "metadata": {
    "id": "81651b8d"
   },
   "source": [
    "<div class=\"alert alert-info\">Данные содержат 11 столбцов и 16956 строк. Из 11 столбцов: 4 содержат данные типа `float64` и 7 `object`.\n",
    "`Year of Release` стоит перевести в формат `int64` т.к. столбец содержит год(целое число) выпуска игры. `EU sales`, `JP sales`, `User Score`  стоит перевести в формат `float64` т.к. столбцы содержат числа. Названия столбцов необходимо переименовать, приведя названия к snake_case"
   ]
  },
  {
   "cell_type": "markdown",
   "id": "0d29d8cb",
   "metadata": {},
   "source": [
    "<div class=\"alert alert-block alert-warning\">\n",
    "    \n",
    "<b>Комментарий ревьюера:</b> \n",
    "\n",
    "Можно еще указать, что столбцы необходимо переименовать, приведя названия к snake_case.\n",
    "    \n",
    "</div>"
   ]
  },
  {
   "cell_type": "markdown",
   "id": "774bf76e",
   "metadata": {
    "id": "774bf76e"
   },
   "source": [
    "---\n",
    "\n",
    "## 2.  Проверка ошибок в данных и их предобработка\n",
    "\n",
    "\n",
    "### 2.1. Названия, или метки, столбцов датафрейма\n",
    "\n",
    "- Выведите на экран названия всех столбцов датафрейма и проверьте их стиль написания.\n",
    "- Приведите все столбцы к стилю snake case. Названия должны быть в нижнем регистре, а вместо пробелов — подчёркивания."
   ]
  },
  {
   "cell_type": "code",
   "execution_count": 5,
   "id": "b9276a2b",
   "metadata": {
    "id": "b9276a2b"
   },
   "outputs": [
    {
     "data": {
      "text/plain": [
       "Index(['Name', 'Platform', 'Year of Release', 'Genre', 'NA sales', 'EU sales',\n",
       "       'JP sales', 'Other sales', 'Critic Score', 'User Score', 'Rating'],\n",
       "      dtype='object')"
      ]
     },
     "execution_count": 5,
     "metadata": {},
     "output_type": "execute_result"
    }
   ],
   "source": [
    "df.columns"
   ]
  },
  {
   "cell_type": "code",
   "execution_count": 6,
   "id": "d554563c",
   "metadata": {
    "id": "d554563c"
   },
   "outputs": [],
   "source": [
    "# Переведем названия столбцов в нижний регистр\n",
    "df.columns = df.columns.str.lower()"
   ]
  },
  {
   "cell_type": "code",
   "execution_count": 7,
   "id": "87b573dd",
   "metadata": {
    "id": "87b573dd"
   },
   "outputs": [
    {
     "data": {
      "text/plain": [
       "Index(['name', 'platform', 'year_of_release', 'genre', 'na_sales', 'eu_sales',\n",
       "       'jp_sales', 'other_sales', 'critic_score', 'user_score', 'rating'],\n",
       "      dtype='object')"
      ]
     },
     "execution_count": 7,
     "metadata": {},
     "output_type": "execute_result"
    }
   ],
   "source": [
    "# Заменим пробелы в названиях столбцов на подчеркивание\n",
    "df.columns = df.columns.str.replace(' ', '_')\n",
    "# выведем результат изменений\n",
    "df.columns"
   ]
  },
  {
   "cell_type": "markdown",
   "id": "90f708ab",
   "metadata": {},
   "source": [
    "<div class=\"alert alert-block alert-success\">\n",
    "    \n",
    "<b>Комментарий ревьюера:</b> \n",
    "    \n",
    "Отлично, столбцы выведены на экран и переименованы.\n",
    "</div>"
   ]
  },
  {
   "cell_type": "markdown",
   "id": "41bc6bf8",
   "metadata": {
    "id": "41bc6bf8"
   },
   "source": [
    "### 2.2. Типы данных\n",
    "\n",
    "- Если встречаются некорректные типы данных, предположите их причины.\n",
    "- При необходимости проведите преобразование типов данных. Помните, что столбцы с числовыми данными и пропусками нельзя преобразовать к типу `int64`. Сначала вам понадобится обработать пропуски, а затем преобразовать типы данных."
   ]
  },
  {
   "cell_type": "markdown",
   "id": "b04f5b78",
   "metadata": {
    "id": "8adaac81"
   },
   "source": [
    "Из 11 столбцов: 4 содержат данные типа `float64` и 7 `object`.\n",
    "`Year of Release` стоит перевести в формат `int64` т.к. столбец содержит год(целое число) выпуска игры. `EU sales`, `JP sales`, `User Score`  стоит перевести в формат `float64` т.к. столбцы содержат числа."
   ]
  },
  {
   "cell_type": "markdown",
   "id": "63378edf",
   "metadata": {
    "id": "63378edf"
   },
   "source": [
    "- В числовых столбцах могут встретиться строковые значения, например `unknown` или другие. Приводите такие столбцы к числовому типу данных, заменив строковые значения на пропуски."
   ]
  },
  {
   "cell_type": "markdown",
   "id": "b4980364",
   "metadata": {},
   "source": [
    "<div class=\"alert alert-block alert-danger\">\n",
    "    \n",
    "<b>Комментарий ревьюера:</b> \n",
    "    \n",
    "Перед преобразованием типов данных стоит вывести уникальные значения в столбцах. Так мы сможем увидеть текстовые значения, из-за которых столбец не распознается как числовой, что сделает наше преобразование более обоснованным.\n",
    "    \n",
    "</div>"
   ]
  },
  {
   "cell_type": "markdown",
   "id": "abbec40f",
   "metadata": {},
   "source": [
    "<div class=\"alert alert-info\">\n",
    "    \n",
    "Проверим уникальные значения. А также преобразуем столбец `user_score`\n",
    "</div>"
   ]
  },
  {
   "cell_type": "markdown",
   "id": "e00b7170",
   "metadata": {},
   "source": [
    "<div class=\"alert alert-success\">\n",
    "<b> Комментарий от ревьюера 2</b>\n",
    "\n",
    "Отлично, видны причины неверного распознавания данных.\n",
    "\n",
    "</div>"
   ]
  },
  {
   "cell_type": "code",
   "execution_count": 8,
   "id": "f7ad6795",
   "metadata": {},
   "outputs": [
    {
     "data": {
      "text/plain": [
       "array(['28.96', '3.58', '12.76', '10.93', '8.89', '2.26', '9.14', '9.18',\n",
       "       '6.94', '0.63', '10.95', '7.47', '6.18', '8.03', '4.89', '8.49',\n",
       "       '9.09', '0.4', '3.75', '9.2', '4.46', '2.71', '3.44', '5.14',\n",
       "       '5.49', '3.9', '5.35', '3.17', '5.09', '4.24', '5.04', '5.86',\n",
       "       '3.68', '4.19', '5.73', '3.59', '4.51', '2.55', '4.02', '4.37',\n",
       "       '6.31', '3.45', '2.81', '2.85', '3.49', '0.01', '3.35', '2.04',\n",
       "       '3.07', '3.87', '3.0', '4.82', '3.64', '2.15', '3.69', '2.65',\n",
       "       '2.56', '3.11', '3.14', '1.94', '1.95', '2.47', '2.28', '3.42',\n",
       "       '3.63', '2.36', '1.71', '1.85', '2.79', '1.24', '6.12', '1.53',\n",
       "       '3.47', '2.24', '5.01', '2.01', '1.72', '2.07', '6.42', '3.86',\n",
       "       '0.45', '3.48', '1.89', '5.75', '2.17', '1.37', '2.35', '1.18',\n",
       "       '2.11', '1.88', '2.83', '2.99', '2.89', '3.27', '2.22', '2.14',\n",
       "       '1.45', '1.75', '1.04', '1.77', '3.02', '2.75', '2.16', '1.9',\n",
       "       '2.59', '2.2', '4.3', '0.93', '2.53', '2.52', '1.79', '1.3', '2.6',\n",
       "       '1.58', '1.2', '1.56', '1.34', '1.26', '0.83', '6.21', '2.8',\n",
       "       '1.59', '1.73', '4.33', '1.83', '0.0', '2.18', '1.98', '1.47',\n",
       "       '0.67', '1.55', '1.91', '0.69', '0.6', '1.93', '1.64', '0.55',\n",
       "       '2.19', '1.11', '2.29', '2.5', '0.96', '1.21', '1.12', '0.77',\n",
       "       '1.69', '1.08', '0.79', '2.37', '2.46', '0.26', '0.75', '1.25',\n",
       "       '2.43', '0.98', '0.74', '2.23', '0.61', '2.45', '1.41', '1.8',\n",
       "       '3.28', '1.16', '1.99', '1.38', '1.36', '1.17', '1.19', '0.99',\n",
       "       '1.68', '2.0', '1.33', '1.57', '1.48', '2.1', '1.27', '1.97',\n",
       "       '0.91', '1.39', '1.96', '0.24', '1.51', '0.14', '1.29', '2.39',\n",
       "       '1.03', '0.5', '0.58', '1.31', '2.02', '1.32', '1.01', '2.27',\n",
       "       '2.3', '1.82', '2.78', '0.44', '0.48', '0.27', '0.21', '2.48',\n",
       "       '0.51', '1.52', '0.04', '0.28', '1.35', '0.87', '2.13', '1.13',\n",
       "       '1.76', '0.76', '2.12', '0.66', '1.6', '1.44', '1.43', '1.7',\n",
       "       '0.47', '1.87', '0.86', '0.73', '1.28', '0.81', '1.09', '0.68',\n",
       "       '1.22', '1.4', '1.02', '1.49', '1.14', '0.49', '0.9', '0.38',\n",
       "       '1.42', '0.95', '1.62', '0.71', '1.05', '0.92', '0.33', '0.3',\n",
       "       '1.67', '1.0', '0.89', '0.1', '0.72', '0.59', '0.56', '0.16',\n",
       "       '0.97', '0.62', 'unknown', '0.85', '0.94', '0.88', '0.84', '1.06',\n",
       "       '0.2', '1.15', '0.8', '1.1', '0.7', '1.92', '0.32', '0.15', '0.53',\n",
       "       '0.09', '1.46', '0.29', '0.22', '1.23', '0.07', '0.17', '0.54',\n",
       "       '0.36', '0.31', '1.84', '0.52', '0.11', '0.64', '0.12', '2.05',\n",
       "       '1.63', '0.82', '0.08', '0.57', '1.65', '0.19', '0.02', '0.43',\n",
       "       '0.25', '1.5', '0.18', '0.39', '0.13', '1.07', '0.46', '0.41',\n",
       "       '0.06', '0.03', '0.37', '0.05', '0.23', '0.65', '0.42', '0.34',\n",
       "       '0.35', '0.78'], dtype=object)"
      ]
     },
     "metadata": {},
     "output_type": "display_data"
    },
    {
     "data": {
      "text/plain": [
       "array(['3.77', '6.81', '3.79', '3.28', '10.22', '4.22', '6.5', '2.93',\n",
       "       '4.7', '0.28', '1.93', '4.13', '7.2', '3.6', '0.24', '2.53',\n",
       "       '0.98', '0.41', '3.54', '4.16', '6.04', '4.18', '3.84', '0.06',\n",
       "       '0.47', '5.38', '5.32', '5.65', '1.87', '0.13', '3.12', '0.36',\n",
       "       '0.11', '4.35', '0.65', '0.07', '0.08', '0.49', '0.3', '2.66',\n",
       "       '2.69', '0.48', '0.38', '5.33', '1.91', '3.96', '3.1', '1.1',\n",
       "       '1.2', '0.14', '2.54', '2.14', '0.81', '2.12', '0.44', '3.15',\n",
       "       '1.25', '0.04', '0.0', '2.47', '2.23', '1.69', '0.01', '3.0',\n",
       "       '0.02', '4.39', '1.98', '0.1', '3.81', '0.05', '2.49', '1.58',\n",
       "       '3.14', '2.73', '0.66', '0.22', '3.63', '1.45', '1.31', '2.43',\n",
       "       '0.7', '0.35', '1.4', '0.6', '2.26', '1.42', '1.28', '1.39',\n",
       "       '0.87', '0.17', '0.94', '0.19', '0.21', '1.6', '0.16', '1.03',\n",
       "       '0.25', '2.06', '1.49', '1.29', '0.09', '2.87', '0.03', '0.78',\n",
       "       '0.83', '2.33', '2.02', '1.36', '1.81', '1.97', '0.91', '0.99',\n",
       "       '0.95', '2.0', '1.01', '2.78', '2.11', '1.09', '0.2', '1.9',\n",
       "       '1.27', '3.61', '1.57', '2.2', '1.7', '1.08', '0.15', '1.11',\n",
       "       '0.29', '1.54', '0.12', '0.89', '4.87', '1.52', '1.32', '1.15',\n",
       "       '4.1', '1.46', '0.46', '1.05', '1.61', '0.26', '1.38', '0.62',\n",
       "       '0.73', '0.57', '0.31', '0.58', '1.76', '2.1', '0.9', '0.51',\n",
       "       '0.64', '2.46', '0.23', '0.37', '0.92', '1.07', '2.62', '1.12',\n",
       "       '0.54', '0.27', '0.59', '3.67', '0.55', '1.75', '3.44', '0.33',\n",
       "       '2.55', '2.32', '2.79', '0.74', '3.18', '0.82', '0.77', '0.4',\n",
       "       '2.35', '3.19', '0.8', '0.76', '3.03', '0.88', 'unknown', '0.45',\n",
       "       '1.16', '0.34', '1.19', '1.13', '2.13', '1.96', '0.71', '1.04',\n",
       "       '2.68', '0.68', '2.65', '0.96', '2.41', '0.52', '0.18', '1.34',\n",
       "       '1.48', '2.34', '1.06', '1.21', '2.29', '1.63', '2.05', '2.17',\n",
       "       '1.56', '1.35', '1.33', '0.63', '0.79', '0.75', '0.53', '1.53',\n",
       "       '1.3', '0.39', '0.69', '0.42', '0.93', '0.56', '0.84', '0.72',\n",
       "       '0.32', '1.71', '1.65', '0.61', '1.51', '1.5', '1.44', '1.24',\n",
       "       '1.18', '1.37', '1.0', '1.26', '0.85', '0.43', '0.67', '1.14',\n",
       "       '0.86', '1.17', '0.5', '1.02', '0.97'], dtype=object)"
      ]
     },
     "metadata": {},
     "output_type": "display_data"
    },
    {
     "data": {
      "text/plain": [
       "array(['8', nan, '8.3', '8.5', '6.6', '8.4', '8.6', '7.7', '6.3', '7.4',\n",
       "       '8.2', '9', '7.9', '8.1', '8.7', '7.1', '3.4', '5.3', '4.8', '3.2',\n",
       "       '8.9', '6.4', '7.8', '7.5', '2.6', '7.2', '9.2', '7', '7.3', '4.3',\n",
       "       '7.6', '5.7', '5', '9.1', '6.5', 'tbd', '8.8', '6.9', '9.4', '6.8',\n",
       "       '6.1', '6.7', '5.4', '4', '4.9', '4.5', '9.3', '6.2', '4.2', '6',\n",
       "       '3.7', '4.1', '5.8', '5.6', '5.5', '4.4', '4.6', '5.9', '3.9',\n",
       "       '3.1', '2.9', '5.2', '3.3', '4.7', '5.1', '3.5', '2.5', '1.9', '3',\n",
       "       '2.7', '2.2', '2', '9.5', '2.1', '3.6', '2.8', '1.8', '3.8', '0',\n",
       "       '1.6', '9.6', '2.4', '1.7', '1.1', '0.3', '1.5', '0.7', '1.2',\n",
       "       '2.3', '0.5', '1.3', '0.2', '0.6', '1.4', '0.9', '1', '9.7'],\n",
       "      dtype=object)"
      ]
     },
     "metadata": {},
     "output_type": "display_data"
    }
   ],
   "source": [
    "# Проверим уникальные значения в столбцах `eu_sales` ,`jp_sales`, `user_score`\n",
    "unique_eu_sales = df['eu_sales'].unique()\n",
    "unique_jp_sales = df['jp_sales'].unique()\n",
    "unique_user_score = df['user_score'].unique()\n",
    "display(unique_eu_sales, unique_jp_sales, unique_user_score)"
   ]
  },
  {
   "cell_type": "code",
   "execution_count": 9,
   "id": "262753f9",
   "metadata": {
    "id": "5033ee32"
   },
   "outputs": [],
   "source": [
    "# `EU sales`, `JP sales` преобразуем во float64 т.к. они не содержат пропуски(ипользуем метод to_numeric т.к. столбци содержат строковые значения)\n",
    "df['eu_sales'] = pd.to_numeric(df['eu_sales'],errors='coerce')\n",
    "df['jp_sales'] = pd.to_numeric(df['jp_sales'],errors='coerce')\n",
    "df['user_score'] = pd.to_numeric(df['user_score'], errors='coerce')"
   ]
  },
  {
   "cell_type": "code",
   "execution_count": 10,
   "id": "3a26fb26",
   "metadata": {
    "id": "3a26fb26"
   },
   "outputs": [
    {
     "name": "stdout",
     "output_type": "stream",
     "text": [
      "<class 'pandas.core.frame.DataFrame'>\n",
      "RangeIndex: 16956 entries, 0 to 16955\n",
      "Data columns (total 11 columns):\n",
      " #   Column           Non-Null Count  Dtype  \n",
      "---  ------           --------------  -----  \n",
      " 0   name             16954 non-null  object \n",
      " 1   platform         16956 non-null  object \n",
      " 2   year_of_release  16681 non-null  float64\n",
      " 3   genre            16954 non-null  object \n",
      " 4   na_sales         16956 non-null  float64\n",
      " 5   eu_sales         16950 non-null  float64\n",
      " 6   jp_sales         16952 non-null  float64\n",
      " 7   other_sales      16956 non-null  float64\n",
      " 8   critic_score     8242 non-null   float64\n",
      " 9   user_score       7688 non-null   float64\n",
      " 10  rating           10085 non-null  object \n",
      "dtypes: float64(7), object(4)\n",
      "memory usage: 1.4+ MB\n"
     ]
    }
   ],
   "source": [
    "# проверем внесенные изменения\n",
    "df.info()"
   ]
  },
  {
   "cell_type": "markdown",
   "id": "bafa6528",
   "metadata": {},
   "source": [
    "<div class=\"alert alert-block alert-warning\">\n",
    "    \n",
    "<b>Комментарий ревьюера:</b> \n",
    "    \n",
    "Изменение формата данных в столбце с оценками пользователей также стоит перенести сюда, чтобы в следующем пункте верно посчиталось количество пропусков.\n",
    "    \n",
    "</div>"
   ]
  },
  {
   "cell_type": "markdown",
   "id": "b39893cb",
   "metadata": {
    "id": "b39893cb"
   },
   "source": [
    "### 2.3. Наличие пропусков в данных\n",
    "\n",
    "- Посчитайте количество пропусков в каждом столбце в абсолютных и относительных значениях.\n"
   ]
  },
  {
   "cell_type": "code",
   "execution_count": 11,
   "id": "0f1c91a8",
   "metadata": {
    "id": "0f1c91a8"
   },
   "outputs": [
    {
     "data": {
      "text/plain": [
       "name                  2\n",
       "platform              0\n",
       "year_of_release     275\n",
       "genre                 2\n",
       "na_sales              0\n",
       "eu_sales              6\n",
       "jp_sales              4\n",
       "other_sales           0\n",
       "critic_score       8714\n",
       "user_score         9268\n",
       "rating             6871\n",
       "dtype: int64"
      ]
     },
     "execution_count": 11,
     "metadata": {},
     "output_type": "execute_result"
    }
   ],
   "source": [
    "#посчитаем пропуски по каждому столбцу\n",
    "df.isna().sum()"
   ]
  },
  {
   "cell_type": "code",
   "execution_count": 12,
   "id": "86cd1cc1",
   "metadata": {
    "id": "86cd1cc1"
   },
   "outputs": [
    {
     "data": {
      "text/plain": [
       "name               0.000118\n",
       "platform           0.000000\n",
       "year_of_release    0.016218\n",
       "genre              0.000118\n",
       "na_sales           0.000000\n",
       "eu_sales           0.000354\n",
       "jp_sales           0.000236\n",
       "other_sales        0.000000\n",
       "critic_score       0.513918\n",
       "user_score         0.546591\n",
       "rating             0.405225\n",
       "dtype: float64"
      ]
     },
     "execution_count": 12,
     "metadata": {},
     "output_type": "execute_result"
    }
   ],
   "source": [
    "# опредлелим пропуски в долях\n",
    "df.isna().sum() / len(df)"
   ]
  },
  {
   "cell_type": "code",
   "execution_count": 13,
   "id": "247a6cf7",
   "metadata": {
    "id": "247a6cf7"
   },
   "outputs": [
    {
     "data": {
      "text/plain": [
       "name                0.011795\n",
       "platform            0.000000\n",
       "year_of_release     1.621845\n",
       "genre               0.011795\n",
       "na_sales            0.000000\n",
       "eu_sales            0.035386\n",
       "jp_sales            0.023590\n",
       "other_sales         0.000000\n",
       "critic_score       51.391838\n",
       "user_score         54.659118\n",
       "rating             40.522529\n",
       "dtype: float64"
      ]
     },
     "execution_count": 13,
     "metadata": {},
     "output_type": "execute_result"
    }
   ],
   "source": [
    "# в процентах:\n",
    "df.isna().sum() / len(df) * 100"
   ]
  },
  {
   "cell_type": "markdown",
   "id": "b5d67f46",
   "metadata": {},
   "source": [
    "<div class=\"alert alert-block alert-success\">\n",
    "    \n",
    "<b>Комментарий ревьюера:</b> \n",
    "    \n",
    "Количество и доля пропусков рассчитаны корректно. \n",
    "</div>"
   ]
  },
  {
   "cell_type": "markdown",
   "id": "71389c3d",
   "metadata": {},
   "source": [
    "<div class=\"alert alert-block alert-warning\">\n",
    "    \n",
    "<b>Комментарий ревьюера:</b> \n",
    "    \n",
    "Для большей наглядности можно еще отсортировать результаты расчета.\n",
    "</div>"
   ]
  },
  {
   "cell_type": "markdown",
   "id": "cf796f51",
   "metadata": {
    "id": "cf796f51"
   },
   "source": [
    "- Изучите данные с пропущенными значениями. Напишите промежуточный вывод: для каких столбцов характерны пропуски и сколько их. Предположите, почему пропуски могли возникнуть. Укажите, какие действия с этими данными можно сделать и почему.\n"
   ]
  },
  {
   "cell_type": "markdown",
   "id": "2a7278ab",
   "metadata": {
    "id": "bd69e642"
   },
   "source": [
    "В столбцах             \n",
    "- `critic_score`       51% пропусков\n",
    "- `user_score`         54% пропусков\n",
    "- `rating`             40% пропусков\n",
    "\n",
    "Большое число пропусков в рейтигах игр может быть связано с годом выпуска (до 2000). Пропуски в данных столбцах необходимо обработать."
   ]
  },
  {
   "cell_type": "markdown",
   "id": "16610d3f",
   "metadata": {
    "id": "b6965b19"
   },
   "source": [
    "В остальных столбцах пропусков не значительное кол-во (менее 5%). Данные пропуски можно удалить т.к. они не сильно повлияют на анализ."
   ]
  },
  {
   "cell_type": "markdown",
   "id": "bbbe3bda",
   "metadata": {
    "id": "bbbe3bda"
   },
   "source": [
    "- Обработайте пропущенные значения. Для каждого случая вы можете выбрать оптимальный, на ваш взгляд, вариант: заменить на определённое значение, оставить как есть или удалить.\n",
    "- Если вы решите заменить пропуски на значение-индикатор, то убедитесь, что предложенное значение не может быть использовано в данных.\n",
    "- Если вы нашли пропуски в данных с количеством проданных копий игры в том или ином регионе, их можно заменить на среднее значение в зависимости от названия платформы и года выхода игры."
   ]
  },
  {
   "cell_type": "markdown",
   "id": "eee50118",
   "metadata": {
    "id": "154be65d"
   },
   "source": [
    "<div class=\"alert alert-info\">\n",
    "столбцы `name`, `genre` можем оставить без изменений т.к. имеют незначительное число пропусков.\n",
    "\n",
    "в столбце `year_of_release` пропуски можно удалить т.к. они не попадут в срез по этому столбцу.\n",
    "\n",
    "столбцы `eu_sales` и `jp_sales` заполним средним значением в зависимости от платформы и года выхода игры без изменений т.к. имеют незначительное число пропусков.\n",
    "</div>"
   ]
  },
  {
   "cell_type": "code",
   "execution_count": 14,
   "id": "f43d3c3d",
   "metadata": {},
   "outputs": [
    {
     "data": {
      "text/plain": [
       "name                  2\n",
       "platform              0\n",
       "year_of_release       0\n",
       "genre                 2\n",
       "na_sales              0\n",
       "eu_sales              0\n",
       "jp_sales              0\n",
       "other_sales           0\n",
       "critic_score       8596\n",
       "user_score         9123\n",
       "rating             6780\n",
       "dtype: int64"
      ]
     },
     "execution_count": 14,
     "metadata": {},
     "output_type": "execute_result"
    }
   ],
   "source": [
    "# Сохраним кол-во строк до удаления\n",
    "df_original_rows = df.shape[0]\n",
    "# Заполним пропуски в столбцах `eu_sales` и `jp_sales` с помощью apply\n",
    "# Заполнение пропусков средними значениями по группе (платформа + год)\n",
    "\n",
    "def fill_missing(group):\n",
    "    group['eu_sales'] = group['eu_sales'].fillna(group['eu_sales'].mean())\n",
    "    group['jp_sales'] = group['jp_sales'].fillna(group['jp_sales'].mean())\n",
    "    return group\n",
    "# Применяем группировку\n",
    "df = df.groupby(['platform', 'year_of_release']).apply(fill_missing)\n",
    "# Кол-во строк после удаления\n",
    "df_no_null = df.shape[0]\n",
    "# Проверим результаты\n",
    "df.isna().sum()"
   ]
  },
  {
   "cell_type": "markdown",
   "id": "339d55cb",
   "metadata": {},
   "source": [
    "<div class=\"alert alert-info\">\n",
    "    После группировки по году пропуски в столбце `year_of_release` (275 пропусков) были автоматически удалены "
   ]
  },
  {
   "cell_type": "markdown",
   "id": "d06c39fc",
   "metadata": {},
   "source": [
    "<div class=\"alert alert-block alert-danger\">\n",
    "    \n",
    "<b>Комментарий ревьюера:</b> \n",
    "    \n",
    "В задании нас просят заменить пропуски в столбцах с продажами jp_sales и eu_sales на среднее значение в зависимости от названия платформы и года выхода игры. Заполнение средним по группам позволяет сохранить данные ближе к их исходной структуре. Это особенно важно для последующего анализа, например, если нужно исследовать динамику продаж по годам или платформам.\n",
    "\n",
    "</div>"
   ]
  },
  {
   "cell_type": "markdown",
   "id": "bf7a7422",
   "metadata": {},
   "source": [
    "<div class=\"alert alert-success\">\n",
    "<b> Комментарий от ревьюера 2</b>\n",
    "\n",
    "Отлично, это заполнение, которое нас просят сделать в задании.\n",
    "\n",
    "</div>"
   ]
  },
  {
   "cell_type": "markdown",
   "id": "72296dc9",
   "metadata": {
    "id": "3f42817b"
   },
   "source": [
    "В столбцах `critic_score`, `user_score`, необходимо заменить пропуски на  определенное значение т.к. они будут использоваться для категоризации.\n",
    "\n",
    "`rating` оставим без изменений т.к. эти данные не нужны для анализа"
   ]
  },
  {
   "cell_type": "markdown",
   "id": "201878cb",
   "metadata": {},
   "source": [
    "<div class=\"alert alert-block alert-warning\">\n",
    "    \n",
    "<b>Комментарий ревьюера:</b> \n",
    "    \n",
    "Столбец с рейтингом тоже можно заполнить, так как предполагается, что мы делаем только предобработку, а анализ будет дальше.\n",
    "    \n",
    "</div>"
   ]
  },
  {
   "cell_type": "code",
   "execution_count": 15,
   "id": "b48307d9",
   "metadata": {},
   "outputs": [],
   "source": [
    "# Для user_score\n",
    "df['user_score'] = df['user_score'].fillna(-1)\n",
    "df['user_score'] = df['user_score'].astype('float64')\n",
    "# Для critic_score\n",
    "df['critic_score'] = df['critic_score'].fillna(-1)\n",
    "df['critic_score'] = df['critic_score'].astype('int64')"
   ]
  },
  {
   "cell_type": "markdown",
   "id": "fe387b72",
   "metadata": {},
   "source": [
    "<div class=\"alert alert-block alert-success\">\n",
    "    \n",
    "<b>Комментарий ревьюера:</b> \n",
    "    \n",
    "Да, эти пропуски можно заполнить значениями-индикаторами.\n",
    "</div>"
   ]
  },
  {
   "cell_type": "code",
   "execution_count": 16,
   "id": "e771ef51",
   "metadata": {},
   "outputs": [],
   "source": [
    "# переведем столбец в формат int64\n",
    "df['year_of_release'] = df['year_of_release'].astype('int64')"
   ]
  },
  {
   "cell_type": "markdown",
   "id": "a0e029bc",
   "metadata": {},
   "source": [
    "<div class=\"alert alert-block alert-success\">\n",
    "    \n",
    "<b>Комментарий ревьюера:</b> \n",
    "    \n",
    "Да, тут процент пропусков небольшой, поэтому можно просто удалить данные строки.\n",
    "</div>"
   ]
  },
  {
   "cell_type": "code",
   "execution_count": 17,
   "id": "695a2251",
   "metadata": {},
   "outputs": [
    {
     "name": "stdout",
     "output_type": "stream",
     "text": [
      "<class 'pandas.core.frame.DataFrame'>\n",
      "Int64Index: 16681 entries, 0 to 16955\n",
      "Data columns (total 11 columns):\n",
      " #   Column           Non-Null Count  Dtype  \n",
      "---  ------           --------------  -----  \n",
      " 0   name             16679 non-null  object \n",
      " 1   platform         16681 non-null  object \n",
      " 2   year_of_release  16681 non-null  int64  \n",
      " 3   genre            16679 non-null  object \n",
      " 4   na_sales         16681 non-null  float64\n",
      " 5   eu_sales         16681 non-null  float64\n",
      " 6   jp_sales         16681 non-null  float64\n",
      " 7   other_sales      16681 non-null  float64\n",
      " 8   critic_score     16681 non-null  int64  \n",
      " 9   user_score       16681 non-null  float64\n",
      " 10  rating           9901 non-null   object \n",
      "dtypes: float64(5), int64(2), object(4)\n",
      "memory usage: 2.0+ MB\n"
     ]
    }
   ],
   "source": [
    "# проверим результат\n",
    "df.info()"
   ]
  },
  {
   "cell_type": "markdown",
   "id": "cb9c35d0",
   "metadata": {},
   "source": [
    "<div class=\"alert alert-block alert-success\">\n",
    "    \n",
    "<b>Комментарий ревьюера:</b> \n",
    "    \n",
    "Молодец, что проверяешь данные после преобразования.\n",
    "\n",
    "</div>"
   ]
  },
  {
   "cell_type": "markdown",
   "id": "a63363fd",
   "metadata": {
    "id": "a63363fd"
   },
   "source": [
    "### 2.4. Явные и неявные дубликаты в данных\n",
    "\n",
    "- Изучите уникальные значения в категориальных данных, например с названиями жанра игры, платформы, рейтинга и года выпуска. Проверьте, встречаются ли среди данных неявные дубликаты, связанные с опечатками или разным способом написания.\n",
    "- При необходимости проведите нормализацию данных с текстовыми значениями. Названия или жанры игр можно привести к нижнему регистру, а названия рейтинга — к верхнему."
   ]
  },
  {
   "cell_type": "code",
   "execution_count": 18,
   "id": "2784c760",
   "metadata": {
    "id": "2784c760"
   },
   "outputs": [
    {
     "data": {
      "text/plain": [
       "array(['Wii', 'NES', 'GB', 'DS', 'X360', 'PS3', 'PS2', 'SNES', 'GBA',\n",
       "       'PS4', '3DS', 'N64', 'PS', 'XB', 'PC', '2600', 'PSP', 'XOne',\n",
       "       'WiiU', 'GC', 'GEN', 'DC', 'PSV', 'SAT', 'SCD', 'WS', 'NG', 'TG16',\n",
       "       '3DO', 'GG', 'PCFX'], dtype=object)"
      ]
     },
     "metadata": {},
     "output_type": "display_data"
    }
   ],
   "source": [
    "# проверим уникальные значения платформ\n",
    "unique_plaform = df['platform'].unique()\n",
    "display(unique_plaform)"
   ]
  },
  {
   "cell_type": "code",
   "execution_count": 19,
   "id": "491c9c39",
   "metadata": {
    "id": "491c9c39"
   },
   "outputs": [
    {
     "data": {
      "text/plain": [
       "array(['Sports', 'Platform', 'Racing', 'Role-Playing', 'Puzzle', 'Misc',\n",
       "       'Shooter', 'Simulation', 'Action', 'Fighting', 'Adventure',\n",
       "       'Strategy', nan, 'MISC', 'ROLE-PLAYING', 'RACING', 'ACTION',\n",
       "       'SHOOTER', 'FIGHTING', 'SPORTS', 'PLATFORM', 'ADVENTURE',\n",
       "       'SIMULATION', 'PUZZLE', 'STRATEGY'], dtype=object)"
      ]
     },
     "metadata": {},
     "output_type": "display_data"
    }
   ],
   "source": [
    "# проверим уникальные значения жанра игры\n",
    "unique_genre = df['genre'].unique()\n",
    "display(unique_genre)"
   ]
  },
  {
   "cell_type": "code",
   "execution_count": 20,
   "id": "f1627198",
   "metadata": {
    "id": "f1627198"
   },
   "outputs": [
    {
     "data": {
      "text/plain": [
       "array(['E', nan, 'M', 'T', 'E10+', 'K-A', 'AO', 'EC', 'RP'], dtype=object)"
      ]
     },
     "metadata": {},
     "output_type": "display_data"
    }
   ],
   "source": [
    "# проверим уникальные заначения рейтинга\n",
    "unique_rating = df['rating'].unique()\n",
    "display(unique_rating)"
   ]
  },
  {
   "cell_type": "markdown",
   "id": "bc33b25c",
   "metadata": {
    "id": "a0cac80c"
   },
   "source": [
    "Мы наблюдаем наличие неявных дубликатов в столбце с жанрами игры в связи с написание названий в разных регистрах."
   ]
  },
  {
   "cell_type": "code",
   "execution_count": 21,
   "id": "d8112479",
   "metadata": {},
   "outputs": [
    {
     "data": {
      "text/plain": [
       "array(['sports', 'platform', 'racing', 'role-playing', 'puzzle', 'misc',\n",
       "       'shooter', 'simulation', 'action', 'fighting', 'adventure',\n",
       "       'strategy', nan], dtype=object)"
      ]
     },
     "metadata": {},
     "output_type": "display_data"
    }
   ],
   "source": [
    "# приведем значения жанров игры к нижнему регистру\n",
    "df['genre'] = df['genre'].str.lower()\n",
    "# проверим результат\n",
    "unique_genre = df['genre'].unique()\n",
    "display(unique_genre)"
   ]
  },
  {
   "cell_type": "markdown",
   "id": "15d12a87",
   "metadata": {},
   "source": [
    "<div class=\"alert alert-block alert-success\">\n",
    "    \n",
    "<b>Комментарий ревьюера:</b> \n",
    "    \n",
    "Хороший подход с приведением к одному регистру, что позволяет избежать неявных дубликатов.\n",
    "</div>"
   ]
  },
  {
   "cell_type": "markdown",
   "id": "fc3d3db4",
   "metadata": {
    "id": "fc3d3db4"
   },
   "source": [
    "- После того как нормализуете данные и устраните неявные дубликаты, проверьте наличие явных дубликатов в данных."
   ]
  },
  {
   "cell_type": "code",
   "execution_count": 22,
   "id": "fc5c91b5",
   "metadata": {
    "id": "fc5c91b5"
   },
   "outputs": [
    {
     "data": {
      "text/plain": [
       "'кол-во строк до удаления дубликатов 16681, после удаления 16446 удалено 235'"
      ]
     },
     "metadata": {},
     "output_type": "display_data"
    }
   ],
   "source": [
    "# Сохраняем количество строк до удаления дубликатов\n",
    "initial_row_count = df.shape[0]\n",
    "\n",
    "# Сортируем датафрем по всем столбцам\n",
    "df_sorted = df.sort_values(by=list(df.columns))\n",
    "\n",
    "# Удаляем дубликаты\n",
    "df_no_duplicates = df_sorted.drop_duplicates()\n",
    "\n",
    "# Сохраняем количество строк после удаления дубликатов\n",
    "final_row_count = df_no_duplicates.shape[0]\n",
    "df_duplicates = initial_row_count - final_row_count\n",
    "display(f'кол-во строк до удаления дубликатов {initial_row_count}, после удаления {final_row_count} удалено {df_duplicates}')\n"
   ]
  },
  {
   "cell_type": "markdown",
   "id": "54616bae",
   "metadata": {
    "id": "54616bae"
   },
   "source": [
    "- Напишите промежуточный вывод: укажите количество найденных дубликатов и действия по их обработке."
   ]
  },
  {
   "cell_type": "markdown",
   "id": "aaf48da2",
   "metadata": {
    "id": "8548f894"
   },
   "source": [
    "После обработки неявных дубликатов в столбце `genre`, было выявлено 235 явных дубликатов, после выявления они были удалены. "
   ]
  },
  {
   "cell_type": "markdown",
   "id": "72645ae9",
   "metadata": {
    "id": "72645ae9"
   },
   "source": [
    "- В процессе подготовки данных вы могли что-либо удалять, например строки с пропусками или ошибками, дубликаты и прочее. В этом случае посчитайте количество удалённых строк в абсолютном и относительном значениях."
   ]
  },
  {
   "cell_type": "code",
   "execution_count": 23,
   "id": "f9d8ee19",
   "metadata": {
    "id": "f9d8ee19"
   },
   "outputs": [
    {
     "data": {
      "text/plain": [
       "'Удалено 510 строк из 16956. Доля удаленнных строк 0.030077848549186128'"
      ]
     },
     "metadata": {},
     "output_type": "display_data"
    }
   ],
   "source": [
    "# Кол-вл строк удаленных при обработке пропусков\n",
    "df_delet_row = 275\n",
    "# всего удалено строк \n",
    "total_row = df_duplicates + df_delet_row\n",
    "# Доля удаленных строк\n",
    "share_row_delet = total_row / df_original_rows\n",
    "display(f'Удалено {total_row} строк из {df_original_rows}. Доля удаленнных строк {share_row_delet}')"
   ]
  },
  {
   "cell_type": "markdown",
   "id": "d774ab11",
   "metadata": {},
   "source": [
    "<div class=\"alert alert-block alert-success\">\n",
    "    \n",
    "<b>Комментарий ревьюера:</b> \n",
    "    \n",
    "Здорово, что ты посчитал количество и долю удаленных строк.\n",
    "</div>"
   ]
  },
  {
   "cell_type": "markdown",
   "id": "47613d75",
   "metadata": {
    "id": "47613d75"
   },
   "source": [
    "- После проведения предобработки данных напишите общий промежуточный вывод."
   ]
  },
  {
   "cell_type": "markdown",
   "id": "0db8ca49",
   "metadata": {
    "id": "5166fdf8"
   },
   "source": [
    "Мы провели преобработку данных были обработаны пропуски и дубликаты в данных. Всего при обработке было удалено 510 строк. Неявные дубликаты в стобце `genre` были обработаны путем приведения строков данных в нижний регистр. Также названия столбцов были приведены к формату snake_case, изменены типы данных в столбцах: \n",
    " - `year_of_release`, `critic_score` на `int64` \n",
    " - `eu_sales`, `jp_sales`, `user_score` на `float64`\n"
   ]
  },
  {
   "cell_type": "markdown",
   "id": "1e3cfeff",
   "metadata": {},
   "source": [
    "<div class=\"alert alert-block alert-warning\">\n",
    "    \n",
    "<b>Комментарий ревьюера:</b> \n",
    "    \n",
    "Вывод стоит дополнить, указав не только количество удаленных данных, но и результаты изменения формата, обработки пропусков и неявных дубликатов, а также то, что были скорректированы названия столбцов.\n",
    "</div>"
   ]
  },
  {
   "cell_type": "markdown",
   "id": "613f0eb0",
   "metadata": {
    "id": "613f0eb0"
   },
   "source": [
    "---\n",
    "\n",
    "## 3. Фильтрация данных\n",
    "\n",
    "Коллеги хотят изучить историю продаж игр в начале XXI века, и их интересует период с 2000 по 2013 год включительно. Отберите данные по этому показателю. Сохраните новый срез данных в отдельном датафрейме, например `df_actual`."
   ]
  },
  {
   "cell_type": "code",
   "execution_count": 24,
   "id": "2344916d",
   "metadata": {
    "id": "2344916d"
   },
   "outputs": [
    {
     "name": "stdout",
     "output_type": "stream",
     "text": [
      "<class 'pandas.core.frame.DataFrame'>\n",
      "Int64Index: 12980 entries, 0 to 16954\n",
      "Data columns (total 11 columns):\n",
      " #   Column           Non-Null Count  Dtype  \n",
      "---  ------           --------------  -----  \n",
      " 0   name             12980 non-null  object \n",
      " 1   platform         12980 non-null  object \n",
      " 2   year_of_release  12980 non-null  int64  \n",
      " 3   genre            12980 non-null  object \n",
      " 4   na_sales         12980 non-null  float64\n",
      " 5   eu_sales         12980 non-null  float64\n",
      " 6   jp_sales         12980 non-null  float64\n",
      " 7   other_sales      12980 non-null  float64\n",
      " 8   critic_score     12980 non-null  int64  \n",
      " 9   user_score       12980 non-null  float64\n",
      " 10  rating           8847 non-null   object \n",
      "dtypes: float64(5), int64(2), object(4)\n",
      "memory usage: 1.2+ MB\n"
     ]
    },
    {
     "data": {
      "text/html": [
       "<div>\n",
       "<style scoped>\n",
       "    .dataframe tbody tr th:only-of-type {\n",
       "        vertical-align: middle;\n",
       "    }\n",
       "\n",
       "    .dataframe tbody tr th {\n",
       "        vertical-align: top;\n",
       "    }\n",
       "\n",
       "    .dataframe thead th {\n",
       "        text-align: right;\n",
       "    }\n",
       "</style>\n",
       "<table border=\"1\" class=\"dataframe\">\n",
       "  <thead>\n",
       "    <tr style=\"text-align: right;\">\n",
       "      <th></th>\n",
       "      <th>name</th>\n",
       "      <th>platform</th>\n",
       "      <th>year_of_release</th>\n",
       "      <th>genre</th>\n",
       "      <th>na_sales</th>\n",
       "      <th>eu_sales</th>\n",
       "      <th>jp_sales</th>\n",
       "      <th>other_sales</th>\n",
       "      <th>critic_score</th>\n",
       "      <th>user_score</th>\n",
       "      <th>rating</th>\n",
       "    </tr>\n",
       "  </thead>\n",
       "  <tbody>\n",
       "    <tr>\n",
       "      <th>0</th>\n",
       "      <td>Wii Sports</td>\n",
       "      <td>Wii</td>\n",
       "      <td>2006</td>\n",
       "      <td>sports</td>\n",
       "      <td>41.36</td>\n",
       "      <td>28.96</td>\n",
       "      <td>3.77</td>\n",
       "      <td>8.45</td>\n",
       "      <td>76</td>\n",
       "      <td>8.0</td>\n",
       "      <td>E</td>\n",
       "    </tr>\n",
       "    <tr>\n",
       "      <th>2</th>\n",
       "      <td>Mario Kart Wii</td>\n",
       "      <td>Wii</td>\n",
       "      <td>2008</td>\n",
       "      <td>racing</td>\n",
       "      <td>15.68</td>\n",
       "      <td>12.76</td>\n",
       "      <td>3.79</td>\n",
       "      <td>3.29</td>\n",
       "      <td>82</td>\n",
       "      <td>8.3</td>\n",
       "      <td>E</td>\n",
       "    </tr>\n",
       "    <tr>\n",
       "      <th>3</th>\n",
       "      <td>Wii Sports Resort</td>\n",
       "      <td>Wii</td>\n",
       "      <td>2009</td>\n",
       "      <td>sports</td>\n",
       "      <td>15.61</td>\n",
       "      <td>10.93</td>\n",
       "      <td>3.28</td>\n",
       "      <td>2.95</td>\n",
       "      <td>80</td>\n",
       "      <td>8.0</td>\n",
       "      <td>E</td>\n",
       "    </tr>\n",
       "    <tr>\n",
       "      <th>6</th>\n",
       "      <td>New Super Mario Bros.</td>\n",
       "      <td>DS</td>\n",
       "      <td>2006</td>\n",
       "      <td>platform</td>\n",
       "      <td>11.28</td>\n",
       "      <td>9.14</td>\n",
       "      <td>6.50</td>\n",
       "      <td>2.88</td>\n",
       "      <td>89</td>\n",
       "      <td>8.5</td>\n",
       "      <td>E</td>\n",
       "    </tr>\n",
       "    <tr>\n",
       "      <th>7</th>\n",
       "      <td>Wii Play</td>\n",
       "      <td>Wii</td>\n",
       "      <td>2006</td>\n",
       "      <td>misc</td>\n",
       "      <td>13.96</td>\n",
       "      <td>9.18</td>\n",
       "      <td>2.93</td>\n",
       "      <td>2.84</td>\n",
       "      <td>58</td>\n",
       "      <td>6.6</td>\n",
       "      <td>E</td>\n",
       "    </tr>\n",
       "  </tbody>\n",
       "</table>\n",
       "</div>"
      ],
      "text/plain": [
       "                    name platform  year_of_release     genre  na_sales  \\\n",
       "0             Wii Sports      Wii             2006    sports     41.36   \n",
       "2         Mario Kart Wii      Wii             2008    racing     15.68   \n",
       "3      Wii Sports Resort      Wii             2009    sports     15.61   \n",
       "6  New Super Mario Bros.       DS             2006  platform     11.28   \n",
       "7               Wii Play      Wii             2006      misc     13.96   \n",
       "\n",
       "   eu_sales  jp_sales  other_sales  critic_score  user_score rating  \n",
       "0     28.96      3.77         8.45            76         8.0      E  \n",
       "2     12.76      3.79         3.29            82         8.3      E  \n",
       "3     10.93      3.28         2.95            80         8.0      E  \n",
       "6      9.14      6.50         2.88            89         8.5      E  \n",
       "7      9.18      2.93         2.84            58         6.6      E  "
      ]
     },
     "execution_count": 24,
     "metadata": {},
     "output_type": "execute_result"
    }
   ],
   "source": [
    "# созданим срез данных по столбцу `year_of_release` в новом датафрейме df_actual.\n",
    "df_actual = df[(df['year_of_release'] >= 2000) & (df['year_of_release'] <= 2013)].copy()\n",
    "# Выводим информацию о новом срезе\n",
    "df_actual.info()\n",
    "df_actual.head()"
   ]
  },
  {
   "cell_type": "markdown",
   "id": "9abc72b3",
   "metadata": {},
   "source": [
    "<div class=\"alert alert-block alert-success\">\n",
    "    \n",
    "<b>Комментарий ревьюера:</b> \n",
    "    \n",
    "Отлично, фильтрация соответствует требованиям задания.\n",
    "</div>"
   ]
  },
  {
   "cell_type": "markdown",
   "id": "3ca10b4e",
   "metadata": {},
   "source": [
    "<div class=\"alert alert-block alert-warning\">\n",
    "    \n",
    "<b>Комментарий ревьюера:</b> \n",
    "    \n",
    "Здесь можно дополнительно подсчитать количество игр по годам. Это позволит выявить тенденции в объёме выпускаемых игр: были ли годы с пиками или спадами в количестве выпущенных игр, поможет понять, насколько данные сбалансированы и можно ли делать обобщения для всего периода.\n",
    "</div>"
   ]
  },
  {
   "cell_type": "code",
   "execution_count": 25,
   "id": "07bc66db",
   "metadata": {},
   "outputs": [
    {
     "data": {
      "text/plain": [
       "year_of_release\n",
       "2000     357\n",
       "2001     491\n",
       "2002     839\n",
       "2003     789\n",
       "2004     771\n",
       "2005     950\n",
       "2006    1020\n",
       "2007    1218\n",
       "2008    1445\n",
       "2009    1450\n",
       "2010    1279\n",
       "2011    1149\n",
       "2012     670\n",
       "2013     552\n",
       "Name: name, dtype: int64"
      ]
     },
     "execution_count": 25,
     "metadata": {},
     "output_type": "execute_result"
    }
   ],
   "source": [
    "# Подсчитаем кол-во игр по годам\n",
    "df_actual.groupby('year_of_release')['name'].count()"
   ]
  },
  {
   "cell_type": "markdown",
   "id": "a42a06b1",
   "metadata": {},
   "source": [
    "<div class=\"alert alert-info\">\n",
    "    Наиболее приятный год для игроков был 2009 было выпущено 1450 игр"
   ]
  },
  {
   "cell_type": "markdown",
   "id": "a6f10b01",
   "metadata": {
    "id": "a6f10b01"
   },
   "source": [
    "---\n",
    "\n",
    "## 4. Категоризация данных\n",
    "    \n",
    "Проведите категоризацию данных:\n",
    "- Разделите все игры по оценкам пользователей и выделите такие категории: высокая оценка (от 8 до 10 включительно), средняя оценка (от 3 до 8, не включая правую границу интервала) и низкая оценка (от 0 до 3, не включая правую границу интервала)."
   ]
  },
  {
   "cell_type": "code",
   "execution_count": 26,
   "id": "3db87229",
   "metadata": {
    "id": "3db87229"
   },
   "outputs": [],
   "source": [
    "# Созданим новый столец с категориями по оценкам пользователей\n",
    "df_actual['category_user_score'] = pd.cut(df['user_score'], bins=[0,3,8,10], labels=['низкая оценка','средняя оценка','высокая оценка'], right=False)"
   ]
  },
  {
   "cell_type": "code",
   "execution_count": 27,
   "id": "9b0ca0f2",
   "metadata": {
    "id": "9b0ca0f2"
   },
   "outputs": [
    {
     "data": {
      "text/html": [
       "<div>\n",
       "<style scoped>\n",
       "    .dataframe tbody tr th:only-of-type {\n",
       "        vertical-align: middle;\n",
       "    }\n",
       "\n",
       "    .dataframe tbody tr th {\n",
       "        vertical-align: top;\n",
       "    }\n",
       "\n",
       "    .dataframe thead th {\n",
       "        text-align: right;\n",
       "    }\n",
       "</style>\n",
       "<table border=\"1\" class=\"dataframe\">\n",
       "  <thead>\n",
       "    <tr style=\"text-align: right;\">\n",
       "      <th></th>\n",
       "      <th>name</th>\n",
       "      <th>platform</th>\n",
       "      <th>year_of_release</th>\n",
       "      <th>genre</th>\n",
       "      <th>na_sales</th>\n",
       "      <th>eu_sales</th>\n",
       "      <th>jp_sales</th>\n",
       "      <th>other_sales</th>\n",
       "      <th>critic_score</th>\n",
       "      <th>user_score</th>\n",
       "      <th>rating</th>\n",
       "      <th>category_user_score</th>\n",
       "    </tr>\n",
       "  </thead>\n",
       "  <tbody>\n",
       "    <tr>\n",
       "      <th>0</th>\n",
       "      <td>Wii Sports</td>\n",
       "      <td>Wii</td>\n",
       "      <td>2006</td>\n",
       "      <td>sports</td>\n",
       "      <td>41.36</td>\n",
       "      <td>28.96</td>\n",
       "      <td>3.77</td>\n",
       "      <td>8.45</td>\n",
       "      <td>76</td>\n",
       "      <td>8.0</td>\n",
       "      <td>E</td>\n",
       "      <td>высокая оценка</td>\n",
       "    </tr>\n",
       "    <tr>\n",
       "      <th>2</th>\n",
       "      <td>Mario Kart Wii</td>\n",
       "      <td>Wii</td>\n",
       "      <td>2008</td>\n",
       "      <td>racing</td>\n",
       "      <td>15.68</td>\n",
       "      <td>12.76</td>\n",
       "      <td>3.79</td>\n",
       "      <td>3.29</td>\n",
       "      <td>82</td>\n",
       "      <td>8.3</td>\n",
       "      <td>E</td>\n",
       "      <td>высокая оценка</td>\n",
       "    </tr>\n",
       "    <tr>\n",
       "      <th>3</th>\n",
       "      <td>Wii Sports Resort</td>\n",
       "      <td>Wii</td>\n",
       "      <td>2009</td>\n",
       "      <td>sports</td>\n",
       "      <td>15.61</td>\n",
       "      <td>10.93</td>\n",
       "      <td>3.28</td>\n",
       "      <td>2.95</td>\n",
       "      <td>80</td>\n",
       "      <td>8.0</td>\n",
       "      <td>E</td>\n",
       "      <td>высокая оценка</td>\n",
       "    </tr>\n",
       "    <tr>\n",
       "      <th>6</th>\n",
       "      <td>New Super Mario Bros.</td>\n",
       "      <td>DS</td>\n",
       "      <td>2006</td>\n",
       "      <td>platform</td>\n",
       "      <td>11.28</td>\n",
       "      <td>9.14</td>\n",
       "      <td>6.50</td>\n",
       "      <td>2.88</td>\n",
       "      <td>89</td>\n",
       "      <td>8.5</td>\n",
       "      <td>E</td>\n",
       "      <td>высокая оценка</td>\n",
       "    </tr>\n",
       "    <tr>\n",
       "      <th>7</th>\n",
       "      <td>Wii Play</td>\n",
       "      <td>Wii</td>\n",
       "      <td>2006</td>\n",
       "      <td>misc</td>\n",
       "      <td>13.96</td>\n",
       "      <td>9.18</td>\n",
       "      <td>2.93</td>\n",
       "      <td>2.84</td>\n",
       "      <td>58</td>\n",
       "      <td>6.6</td>\n",
       "      <td>E</td>\n",
       "      <td>средняя оценка</td>\n",
       "    </tr>\n",
       "  </tbody>\n",
       "</table>\n",
       "</div>"
      ],
      "text/plain": [
       "                    name platform  year_of_release     genre  na_sales  \\\n",
       "0             Wii Sports      Wii             2006    sports     41.36   \n",
       "2         Mario Kart Wii      Wii             2008    racing     15.68   \n",
       "3      Wii Sports Resort      Wii             2009    sports     15.61   \n",
       "6  New Super Mario Bros.       DS             2006  platform     11.28   \n",
       "7               Wii Play      Wii             2006      misc     13.96   \n",
       "\n",
       "   eu_sales  jp_sales  other_sales  critic_score  user_score rating  \\\n",
       "0     28.96      3.77         8.45            76         8.0      E   \n",
       "2     12.76      3.79         3.29            82         8.3      E   \n",
       "3     10.93      3.28         2.95            80         8.0      E   \n",
       "6      9.14      6.50         2.88            89         8.5      E   \n",
       "7      9.18      2.93         2.84            58         6.6      E   \n",
       "\n",
       "  category_user_score  \n",
       "0      высокая оценка  \n",
       "2      высокая оценка  \n",
       "3      высокая оценка  \n",
       "6      высокая оценка  \n",
       "7      средняя оценка  "
      ]
     },
     "execution_count": 27,
     "metadata": {},
     "output_type": "execute_result"
    }
   ],
   "source": [
    "# Проверим результат\n",
    "df_actual.head()"
   ]
  },
  {
   "cell_type": "markdown",
   "id": "3137fb99",
   "metadata": {},
   "source": [
    "<div class=\"alert alert-block alert-success\">\n",
    "    \n",
    "<b>Комментарий ревьюера:</b> \n",
    "    \n",
    "Отличная работа! Ты использовал метод pd.cut(), что позволило упростить код. Это демонстрирует твоё хорошее знание библиотеки Pandas и умение применять встроенные функции для оптимизации работы с данными.\n",
    "    \n",
    "</div>"
   ]
  },
  {
   "cell_type": "markdown",
   "id": "18c6c6c8",
   "metadata": {},
   "source": [
    "<div class=\"alert alert-block alert-warning\">\n",
    "    \n",
    "<b>Комментарий ревьюера:</b> \n",
    "    \n",
    "Также стоит добавить категорию \"без оценки\", так как в данных столбцах встречаются пропуски, заполненные значением -1.\n",
    "</div>"
   ]
  },
  {
   "cell_type": "markdown",
   "id": "f8f34b40",
   "metadata": {
    "id": "f8f34b40"
   },
   "source": [
    "- Разделите все игры по оценкам критиков и выделите такие категории: высокая оценка (от 80 до 100 включительно), средняя оценка (от 30 до 80, не включая правую границу интервала) и низкая оценка (от 0 до 30, не включая правую границу интервала)."
   ]
  },
  {
   "cell_type": "code",
   "execution_count": 28,
   "id": "e3f7acb0",
   "metadata": {
    "id": "e3f7acb0"
   },
   "outputs": [],
   "source": [
    "# Созданим новый столец с категориями по оценкам критиков\n",
    "df_actual['category_critic_score'] = pd.cut(df['critic_score'], bins=[0,30,80,100], labels=['низкая оценка','средняя оценка','высокая оценка'], right=False)"
   ]
  },
  {
   "cell_type": "code",
   "execution_count": 29,
   "id": "548fde17",
   "metadata": {
    "id": "548fde17"
   },
   "outputs": [
    {
     "data": {
      "text/html": [
       "<div>\n",
       "<style scoped>\n",
       "    .dataframe tbody tr th:only-of-type {\n",
       "        vertical-align: middle;\n",
       "    }\n",
       "\n",
       "    .dataframe tbody tr th {\n",
       "        vertical-align: top;\n",
       "    }\n",
       "\n",
       "    .dataframe thead th {\n",
       "        text-align: right;\n",
       "    }\n",
       "</style>\n",
       "<table border=\"1\" class=\"dataframe\">\n",
       "  <thead>\n",
       "    <tr style=\"text-align: right;\">\n",
       "      <th></th>\n",
       "      <th>name</th>\n",
       "      <th>platform</th>\n",
       "      <th>year_of_release</th>\n",
       "      <th>genre</th>\n",
       "      <th>na_sales</th>\n",
       "      <th>eu_sales</th>\n",
       "      <th>jp_sales</th>\n",
       "      <th>other_sales</th>\n",
       "      <th>critic_score</th>\n",
       "      <th>user_score</th>\n",
       "      <th>rating</th>\n",
       "      <th>category_user_score</th>\n",
       "      <th>category_critic_score</th>\n",
       "    </tr>\n",
       "  </thead>\n",
       "  <tbody>\n",
       "    <tr>\n",
       "      <th>0</th>\n",
       "      <td>Wii Sports</td>\n",
       "      <td>Wii</td>\n",
       "      <td>2006</td>\n",
       "      <td>sports</td>\n",
       "      <td>41.36</td>\n",
       "      <td>28.96</td>\n",
       "      <td>3.77</td>\n",
       "      <td>8.45</td>\n",
       "      <td>76</td>\n",
       "      <td>8.0</td>\n",
       "      <td>E</td>\n",
       "      <td>высокая оценка</td>\n",
       "      <td>средняя оценка</td>\n",
       "    </tr>\n",
       "    <tr>\n",
       "      <th>2</th>\n",
       "      <td>Mario Kart Wii</td>\n",
       "      <td>Wii</td>\n",
       "      <td>2008</td>\n",
       "      <td>racing</td>\n",
       "      <td>15.68</td>\n",
       "      <td>12.76</td>\n",
       "      <td>3.79</td>\n",
       "      <td>3.29</td>\n",
       "      <td>82</td>\n",
       "      <td>8.3</td>\n",
       "      <td>E</td>\n",
       "      <td>высокая оценка</td>\n",
       "      <td>высокая оценка</td>\n",
       "    </tr>\n",
       "    <tr>\n",
       "      <th>3</th>\n",
       "      <td>Wii Sports Resort</td>\n",
       "      <td>Wii</td>\n",
       "      <td>2009</td>\n",
       "      <td>sports</td>\n",
       "      <td>15.61</td>\n",
       "      <td>10.93</td>\n",
       "      <td>3.28</td>\n",
       "      <td>2.95</td>\n",
       "      <td>80</td>\n",
       "      <td>8.0</td>\n",
       "      <td>E</td>\n",
       "      <td>высокая оценка</td>\n",
       "      <td>высокая оценка</td>\n",
       "    </tr>\n",
       "    <tr>\n",
       "      <th>6</th>\n",
       "      <td>New Super Mario Bros.</td>\n",
       "      <td>DS</td>\n",
       "      <td>2006</td>\n",
       "      <td>platform</td>\n",
       "      <td>11.28</td>\n",
       "      <td>9.14</td>\n",
       "      <td>6.50</td>\n",
       "      <td>2.88</td>\n",
       "      <td>89</td>\n",
       "      <td>8.5</td>\n",
       "      <td>E</td>\n",
       "      <td>высокая оценка</td>\n",
       "      <td>высокая оценка</td>\n",
       "    </tr>\n",
       "    <tr>\n",
       "      <th>7</th>\n",
       "      <td>Wii Play</td>\n",
       "      <td>Wii</td>\n",
       "      <td>2006</td>\n",
       "      <td>misc</td>\n",
       "      <td>13.96</td>\n",
       "      <td>9.18</td>\n",
       "      <td>2.93</td>\n",
       "      <td>2.84</td>\n",
       "      <td>58</td>\n",
       "      <td>6.6</td>\n",
       "      <td>E</td>\n",
       "      <td>средняя оценка</td>\n",
       "      <td>средняя оценка</td>\n",
       "    </tr>\n",
       "  </tbody>\n",
       "</table>\n",
       "</div>"
      ],
      "text/plain": [
       "                    name platform  year_of_release     genre  na_sales  \\\n",
       "0             Wii Sports      Wii             2006    sports     41.36   \n",
       "2         Mario Kart Wii      Wii             2008    racing     15.68   \n",
       "3      Wii Sports Resort      Wii             2009    sports     15.61   \n",
       "6  New Super Mario Bros.       DS             2006  platform     11.28   \n",
       "7               Wii Play      Wii             2006      misc     13.96   \n",
       "\n",
       "   eu_sales  jp_sales  other_sales  critic_score  user_score rating  \\\n",
       "0     28.96      3.77         8.45            76         8.0      E   \n",
       "2     12.76      3.79         3.29            82         8.3      E   \n",
       "3     10.93      3.28         2.95            80         8.0      E   \n",
       "6      9.14      6.50         2.88            89         8.5      E   \n",
       "7      9.18      2.93         2.84            58         6.6      E   \n",
       "\n",
       "  category_user_score category_critic_score  \n",
       "0      высокая оценка        средняя оценка  \n",
       "2      высокая оценка        высокая оценка  \n",
       "3      высокая оценка        высокая оценка  \n",
       "6      высокая оценка        высокая оценка  \n",
       "7      средняя оценка        средняя оценка  "
      ]
     },
     "execution_count": 29,
     "metadata": {},
     "output_type": "execute_result"
    }
   ],
   "source": [
    "# Проверим результат\n",
    "df_actual.head()"
   ]
  },
  {
   "cell_type": "markdown",
   "id": "olkTlTlAUDR9",
   "metadata": {
    "id": "olkTlTlAUDR9"
   },
   "source": [
    "- После категоризации данных проверьте результат: сгруппируйте данные по выделенным категориям и посчитайте количество игр в каждой категории."
   ]
  },
  {
   "cell_type": "code",
   "execution_count": 30,
   "id": "HW0Nsp-4UMSL",
   "metadata": {
    "id": "HW0Nsp-4UMSL"
   },
   "outputs": [
    {
     "data": {
      "text/plain": [
       "category_user_score\n",
       "низкая оценка      117\n",
       "средняя оценка    4148\n",
       "высокая оценка    2307\n",
       "Name: name, dtype: int64"
      ]
     },
     "execution_count": 30,
     "metadata": {},
     "output_type": "execute_result"
    }
   ],
   "source": [
    "# Посчитаем кол-во игр по категориям оценки пользователей\n",
    "df_actual.groupby('category_user_score')['name'].count()"
   ]
  },
  {
   "cell_type": "code",
   "execution_count": 31,
   "id": "x2ne0HIpUMMD",
   "metadata": {
    "id": "x2ne0HIpUMMD"
   },
   "outputs": [
    {
     "data": {
      "text/plain": [
       "category_critic_score\n",
       "низкая оценка       55\n",
       "средняя оценка    5500\n",
       "высокая оценка    1712\n",
       "Name: name, dtype: int64"
      ]
     },
     "execution_count": 31,
     "metadata": {},
     "output_type": "execute_result"
    }
   ],
   "source": [
    "# Посчитаем кол-во игр по категориям оценки критиков \n",
    "df_actual.groupby('category_critic_score')['name'].count()"
   ]
  },
  {
   "cell_type": "markdown",
   "id": "64a8bcd8",
   "metadata": {},
   "source": [
    "<div class=\"alert alert-block alert-success\">\n",
    "    \n",
    "<b>Комментарий ревьюера:</b> \n",
    "    \n",
    "Отлично, у нас есть игры во всех категориях.\n",
    "</div>"
   ]
  },
  {
   "cell_type": "code",
   "execution_count": 32,
   "id": "U6kiXU3JUMCc",
   "metadata": {
    "id": "U6kiXU3JUMCc"
   },
   "outputs": [
    {
     "data": {
      "text/plain": [
       "category_user_score  category_critic_score\n",
       "низкая оценка        низкая оценка              17\n",
       "                     средняя оценка             78\n",
       "                     высокая оценка              1\n",
       "средняя оценка       низкая оценка              30\n",
       "                     средняя оценка           3210\n",
       "                     высокая оценка            649\n",
       "высокая оценка       низкая оценка               1\n",
       "                     средняя оценка           1175\n",
       "                     высокая оценка           1028\n",
       "Name: name, dtype: int64"
      ]
     },
     "execution_count": 32,
     "metadata": {},
     "output_type": "execute_result"
    }
   ],
   "source": [
    "# Проведем группировку по обеим категориям\n",
    "df_actual.groupby(['category_user_score','category_critic_score'])['name'].count()"
   ]
  },
  {
   "cell_type": "markdown",
   "id": "6a98444c",
   "metadata": {
    "id": "6a98444c"
   },
   "source": [
    "- Выделите топ-7 платформ по количеству игр, выпущенных за весь актуальный период."
   ]
  },
  {
   "cell_type": "code",
   "execution_count": 33,
   "id": "003caa2c",
   "metadata": {
    "id": "003caa2c"
   },
   "outputs": [],
   "source": [
    "# Проведем группировку данных по платформам\n",
    "group_platform = df_actual.groupby('platform').agg({'name':'count'})"
   ]
  },
  {
   "cell_type": "code",
   "execution_count": 34,
   "id": "f240904a",
   "metadata": {
    "id": "f240904a"
   },
   "outputs": [
    {
     "data": {
      "text/html": [
       "<div>\n",
       "<style scoped>\n",
       "    .dataframe tbody tr th:only-of-type {\n",
       "        vertical-align: middle;\n",
       "    }\n",
       "\n",
       "    .dataframe tbody tr th {\n",
       "        vertical-align: top;\n",
       "    }\n",
       "\n",
       "    .dataframe thead th {\n",
       "        text-align: right;\n",
       "    }\n",
       "</style>\n",
       "<table border=\"1\" class=\"dataframe\">\n",
       "  <thead>\n",
       "    <tr style=\"text-align: right;\">\n",
       "      <th></th>\n",
       "      <th>name</th>\n",
       "    </tr>\n",
       "    <tr>\n",
       "      <th>platform</th>\n",
       "      <th></th>\n",
       "    </tr>\n",
       "  </thead>\n",
       "  <tbody>\n",
       "    <tr>\n",
       "      <th>PS2</th>\n",
       "      <td>2154</td>\n",
       "    </tr>\n",
       "    <tr>\n",
       "      <th>DS</th>\n",
       "      <td>2146</td>\n",
       "    </tr>\n",
       "    <tr>\n",
       "      <th>Wii</th>\n",
       "      <td>1294</td>\n",
       "    </tr>\n",
       "    <tr>\n",
       "      <th>PSP</th>\n",
       "      <td>1199</td>\n",
       "    </tr>\n",
       "    <tr>\n",
       "      <th>X360</th>\n",
       "      <td>1138</td>\n",
       "    </tr>\n",
       "    <tr>\n",
       "      <th>PS3</th>\n",
       "      <td>1107</td>\n",
       "    </tr>\n",
       "    <tr>\n",
       "      <th>GBA</th>\n",
       "      <td>826</td>\n",
       "    </tr>\n",
       "  </tbody>\n",
       "</table>\n",
       "</div>"
      ],
      "text/plain": [
       "          name\n",
       "platform      \n",
       "PS2       2154\n",
       "DS        2146\n",
       "Wii       1294\n",
       "PSP       1199\n",
       "X360      1138\n",
       "PS3       1107\n",
       "GBA        826"
      ]
     },
     "execution_count": 34,
     "metadata": {},
     "output_type": "execute_result"
    }
   ],
   "source": [
    "# проведем сортировку результата и выведем топ-7 платформ по кол-во игр\n",
    "top_platform = group_platform.sort_values('name', ascending=False)\n",
    "top_platform.head(7)"
   ]
  },
  {
   "cell_type": "markdown",
   "id": "260b911f",
   "metadata": {},
   "source": [
    "<div class=\"alert alert-block alert-success\">\n",
    "    \n",
    "<b>Комментарий ревьюера:</b> \n",
    "    \n",
    "Топ-7 платформ определены верно.\n",
    "</div>"
   ]
  },
  {
   "cell_type": "markdown",
   "id": "c0158881",
   "metadata": {
    "id": "c0158881"
   },
   "source": [
    "---\n",
    "\n",
    "## 5. Итоговый вывод\n",
    "\n",
    "В конце напишите основной вывод и отразите, какую работу проделали. Не забудьте указать описание среза данных и новых полей, которые добавили в исходный датасет."
   ]
  },
  {
   "cell_type": "markdown",
   "id": "9f007926",
   "metadata": {
    "id": "20175f5b"
   },
   "source": [
    "Мы провели преобработку данных были обработаны пропуски и дубликаты в данных. Всего при обработке было удалено 510 строк. Неявные дубликаты в стобце `genre` были обработаны путем приведения строков данных в нижний регистр.\n",
    "\n",
    "Для анализа выпущенных игр за первую половину 21 века мы создали срез данных по столбцу `year_of_release` c 2000 по 2013 года и сохранили в новый датасет `df_actual`.\n",
    "- `name` — название игры.\n",
    "- `platform` — название платформы.\n",
    "- `year_of_release` — год выпуска игры.\n",
    "- `genre` — жанр игры.\n",
    "- `na_sales` — продажи в Северной Америке (в миллионах проданных копий).\n",
    "- `eu_sales` — продажи в Европе (в миллионах проданных копий).\n",
    "- `jp_sales` — продажи в Японии (в миллионах проданных копий).\n",
    "- `other_sales` — продажи в других странах (в миллионах проданных копий).\n",
    "- `critic_score` — оценка критиков (от 0 до 100).\n",
    "- `user_score` — оценка пользователей (от 0 до 10).\n",
    "- `rating` — рейтинг организации ESRB (англ. Entertainment Software Rating Board). Эта ассоциация определяет рейтинг компьютерных игр и присваивает им подходящую возрастную категорию.\n",
    "- `category_user_score` - категория по оценкам пользователей\n",
    "- `category_critic_score` - категория по оценкам критиков\n",
    "\n",
    "В новом датасете мы добавили новые столбцы с категориями `category_user_score` и `category_critic_score` по оценкам пользователей и критиком соответственно. Далее мы провели группировку данных по данным столбцам и подсчитали для каждой группы ('низкая оценка','средняя оценка','высокая оценка') кол-во выпущенных игр.\n",
    "\n",
    "category_user_score  кол-во игр                    \n",
    "\n",
    "низкая оценка      -      55                        \n",
    "\n",
    "средняя оценка      -    5500                       \n",
    "\n",
    "высокая оценка      -    1712                       \n",
    "                       \n",
    "category_critic_score    кол-во игр\n",
    "\n",
    "низкая оценка        -       117\n",
    "\n",
    "средняя оценка       -       4148\n",
    "\n",
    "высокая оценка       -       2307\n",
    "\n",
    "А также вывели Топ-7 платформ по кол-ву выпущенных игр за период 2000-2013г.\n",
    "\n",
    "платформа     кол-во игр\n",
    " \n",
    " PS2\t        - 2154\n",
    "  \n",
    "  DS\t        - 2146\n",
    "  \n",
    "  Wii\t        - 1294\n",
    "  \n",
    "  PSP\t        - 1199\n",
    "  \n",
    "  X360\t        - 1138\n",
    "  \n",
    "  PS3\t        - 1107\n",
    "  \n",
    "  GBA\t        - 826"
   ]
  },
  {
   "cell_type": "markdown",
   "id": "30b8a5e6",
   "metadata": {},
   "source": [
    "<div class=\"alert alert-block alert-warning\">\n",
    "    \n",
    "<b>Комментарий ревьюера:</b>  \n",
    "    \n",
    "Здесь можно еще добавить обновлённое описание полей итогового датафрейма. Это хороший способ показать, что данные были полностью подготовлены и какие изменения внесены в структуру. \n",
    "</div>"
   ]
  },
  {
   "cell_type": "markdown",
   "id": "c7a25239",
   "metadata": {},
   "source": [
    "<div style=\"border:solid Chocolate 2px; padding: 40px\">\n",
    "\n",
    "# <b>Итоговый комментарий ревьюера:</b>\n",
    "    \n",
    "<div class=\"alert alert-success\">\n",
    "\n",
    "Благодарю тебя за выполнение проекта. Видно, что ты постарался, когда работал над ним. Однако есть несколько моментов, которые необходимо дополнить:\n",
    "    \n",
    "* вывести уникальные значения в столбцах перед заменой;\n",
    "* дополнить обработку пропусков.\n",
    "\n",
    "Жду проект после доработки. Уверена, ты справишься. 💪\n",
    "</div>"
   ]
  },
  {
   "cell_type": "markdown",
   "id": "d7d7a4eb",
   "metadata": {},
   "source": [
    "<div class=\"alert alert-success\">\n",
    "<b> Комментарий от ревьюера 2</b>\n",
    "\n",
    "Спасибо за внимательное отношение к комментариям. Проект принят, и желаю успехов в дальнейшем обучении на курсе!\n",
    "    \n",
    "</div>"
   ]
  },
  {
   "cell_type": "code",
   "execution_count": null,
   "id": "c9e4de8b",
   "metadata": {},
   "outputs": [],
   "source": []
  }
 ],
 "metadata": {
  "ExecuteTimeLog": [
   {
    "duration": 446,
    "start_time": "2025-05-05T05:46:31.601Z"
   },
   {
    "duration": 183,
    "start_time": "2025-05-05T05:48:48.022Z"
   },
   {
    "duration": 27,
    "start_time": "2025-05-05T05:56:17.671Z"
   },
   {
    "duration": 32,
    "start_time": "2025-05-05T05:56:58.306Z"
   },
   {
    "duration": 5,
    "start_time": "2025-05-05T06:17:09.548Z"
   },
   {
    "duration": 4,
    "start_time": "2025-05-05T06:21:47.237Z"
   },
   {
    "duration": 5,
    "start_time": "2025-05-05T06:23:50.095Z"
   },
   {
    "duration": 7,
    "start_time": "2025-05-05T06:24:46.019Z"
   },
   {
    "duration": 83,
    "start_time": "2025-05-05T06:55:50.843Z"
   },
   {
    "duration": 107,
    "start_time": "2025-05-05T06:57:45.522Z"
   },
   {
    "duration": 16,
    "start_time": "2025-05-05T07:03:42.464Z"
   },
   {
    "duration": 5,
    "start_time": "2025-05-05T07:05:09.582Z"
   },
   {
    "duration": 5,
    "start_time": "2025-05-05T07:05:47.529Z"
   },
   {
    "duration": 5,
    "start_time": "2025-05-05T07:05:54.789Z"
   },
   {
    "duration": 16,
    "start_time": "2025-05-05T07:07:01.041Z"
   },
   {
    "duration": 11,
    "start_time": "2025-05-05T07:08:51.841Z"
   },
   {
    "duration": 21,
    "start_time": "2025-05-05T07:12:32.541Z"
   },
   {
    "duration": 18,
    "start_time": "2025-05-05T07:13:34.781Z"
   },
   {
    "duration": 46,
    "start_time": "2025-05-06T06:24:33.589Z"
   },
   {
    "duration": 7,
    "start_time": "2025-05-06T06:25:24.929Z"
   },
   {
    "duration": 415,
    "start_time": "2025-05-06T06:25:36.550Z"
   },
   {
    "duration": 46,
    "start_time": "2025-05-06T06:25:37.070Z"
   },
   {
    "duration": 17,
    "start_time": "2025-05-06T06:25:40.309Z"
   },
   {
    "duration": 19,
    "start_time": "2025-05-06T06:25:42.749Z"
   },
   {
    "duration": 4,
    "start_time": "2025-05-06T06:25:47.009Z"
   },
   {
    "duration": 3,
    "start_time": "2025-05-06T06:25:47.897Z"
   },
   {
    "duration": 5,
    "start_time": "2025-05-06T06:25:48.909Z"
   },
   {
    "duration": 14,
    "start_time": "2025-05-06T06:25:53.272Z"
   },
   {
    "duration": 14,
    "start_time": "2025-05-06T06:25:55.737Z"
   },
   {
    "duration": 10,
    "start_time": "2025-05-06T06:26:01.370Z"
   },
   {
    "duration": 11,
    "start_time": "2025-05-06T06:26:03.502Z"
   },
   {
    "duration": 11,
    "start_time": "2025-05-06T06:26:05.049Z"
   },
   {
    "duration": 11,
    "start_time": "2025-05-06T06:26:11.929Z"
   },
   {
    "duration": 6,
    "start_time": "2025-05-06T06:26:13.101Z"
   },
   {
    "duration": 15,
    "start_time": "2025-05-06T06:26:48.581Z"
   },
   {
    "duration": 6,
    "start_time": "2025-05-06T06:28:59.308Z"
   },
   {
    "duration": 13,
    "start_time": "2025-05-06T06:29:00.729Z"
   },
   {
    "duration": 4,
    "start_time": "2025-05-06T06:34:41.389Z"
   },
   {
    "duration": 5,
    "start_time": "2025-05-06T06:35:18.297Z"
   },
   {
    "duration": 29,
    "start_time": "2025-05-06T06:39:48.028Z"
   },
   {
    "duration": 4,
    "start_time": "2025-05-06T06:40:05.609Z"
   },
   {
    "duration": 4,
    "start_time": "2025-05-06T06:43:46.817Z"
   },
   {
    "duration": 2,
    "start_time": "2025-05-06T06:48:47.002Z"
   },
   {
    "duration": 9,
    "start_time": "2025-05-06T06:52:37.571Z"
   },
   {
    "duration": 12,
    "start_time": "2025-05-06T06:53:34.399Z"
   },
   {
    "duration": 47,
    "start_time": "2025-05-06T06:57:37.419Z"
   },
   {
    "duration": 96,
    "start_time": "2025-05-06T07:01:27.041Z"
   },
   {
    "duration": 47,
    "start_time": "2025-05-06T07:01:43.149Z"
   },
   {
    "duration": 46,
    "start_time": "2025-05-06T07:02:03.309Z"
   },
   {
    "duration": 7,
    "start_time": "2025-05-06T07:18:59.614Z"
   },
   {
    "duration": 4,
    "start_time": "2025-05-06T07:29:54.465Z"
   },
   {
    "duration": 447,
    "start_time": "2025-05-06T07:36:27.017Z"
   },
   {
    "duration": 54,
    "start_time": "2025-05-06T07:36:27.660Z"
   },
   {
    "duration": 17,
    "start_time": "2025-05-06T07:36:29.401Z"
   },
   {
    "duration": 19,
    "start_time": "2025-05-06T07:36:30.797Z"
   },
   {
    "duration": 4,
    "start_time": "2025-05-06T07:36:34.428Z"
   },
   {
    "duration": 3,
    "start_time": "2025-05-06T07:36:34.949Z"
   },
   {
    "duration": 4,
    "start_time": "2025-05-06T07:36:35.477Z"
   },
   {
    "duration": 14,
    "start_time": "2025-05-06T07:36:40.217Z"
   },
   {
    "duration": 14,
    "start_time": "2025-05-06T07:36:41.764Z"
   },
   {
    "duration": 10,
    "start_time": "2025-05-06T07:36:44.796Z"
   },
   {
    "duration": 11,
    "start_time": "2025-05-06T07:36:45.786Z"
   },
   {
    "duration": 10,
    "start_time": "2025-05-06T07:36:46.797Z"
   },
   {
    "duration": 11,
    "start_time": "2025-05-06T07:36:52.488Z"
   },
   {
    "duration": 8,
    "start_time": "2025-05-06T07:36:53.697Z"
   },
   {
    "duration": 12,
    "start_time": "2025-05-06T07:36:58.249Z"
   },
   {
    "duration": 5,
    "start_time": "2025-05-06T07:37:05.328Z"
   },
   {
    "duration": 5,
    "start_time": "2025-05-06T07:37:06.216Z"
   },
   {
    "duration": 4,
    "start_time": "2025-05-06T07:37:06.957Z"
   },
   {
    "duration": 11,
    "start_time": "2025-05-06T07:37:08.368Z"
   },
   {
    "duration": 54,
    "start_time": "2025-05-06T07:37:09.789Z"
   },
   {
    "duration": 4,
    "start_time": "2025-05-06T07:37:22.376Z"
   },
   {
    "duration": 25,
    "start_time": "2025-05-06T07:52:16.690Z"
   },
   {
    "duration": 6,
    "start_time": "2025-05-06T08:09:09.124Z"
   },
   {
    "duration": 7,
    "start_time": "2025-05-06T08:11:52.632Z"
   },
   {
    "duration": 7,
    "start_time": "2025-05-06T08:16:06.463Z"
   },
   {
    "duration": 27,
    "start_time": "2025-05-06T08:17:46.283Z"
   },
   {
    "duration": 7,
    "start_time": "2025-05-06T08:18:00.903Z"
   },
   {
    "duration": 14,
    "start_time": "2025-05-06T08:19:15.163Z"
   },
   {
    "duration": 7,
    "start_time": "2025-05-06T08:20:56.751Z"
   },
   {
    "duration": 14,
    "start_time": "2025-05-06T08:23:17.467Z"
   },
   {
    "duration": 7,
    "start_time": "2025-05-06T08:29:02.184Z"
   },
   {
    "duration": 7,
    "start_time": "2025-05-06T08:30:46.425Z"
   },
   {
    "duration": 10,
    "start_time": "2025-05-06T08:34:58.148Z"
   },
   {
    "duration": 3,
    "start_time": "2025-05-06T08:44:48.158Z"
   },
   {
    "duration": 66,
    "start_time": "2025-05-06T08:48:04.551Z"
   },
   {
    "duration": 3,
    "start_time": "2025-05-06T08:48:29.592Z"
   },
   {
    "duration": 5,
    "start_time": "2025-05-06T08:48:30.740Z"
   },
   {
    "duration": 6,
    "start_time": "2025-05-06T08:49:19.712Z"
   },
   {
    "duration": 12,
    "start_time": "2025-05-06T08:55:25.193Z"
   },
   {
    "duration": 95,
    "start_time": "2025-05-06T08:56:15.112Z"
   },
   {
    "duration": 148,
    "start_time": "2025-05-06T08:57:00.001Z"
   },
   {
    "duration": 6,
    "start_time": "2025-05-06T08:57:10.329Z"
   },
   {
    "duration": 9,
    "start_time": "2025-05-06T08:57:23.692Z"
   },
   {
    "duration": 3,
    "start_time": "2025-05-06T08:57:32.772Z"
   },
   {
    "duration": 8,
    "start_time": "2025-05-06T08:58:10.632Z"
   },
   {
    "duration": 7,
    "start_time": "2025-05-06T08:59:30.773Z"
   },
   {
    "duration": 14,
    "start_time": "2025-05-06T09:00:03.132Z"
   },
   {
    "duration": 6,
    "start_time": "2025-05-06T09:00:12.533Z"
   },
   {
    "duration": 428,
    "start_time": "2025-05-06T15:32:35.282Z"
   },
   {
    "duration": 199,
    "start_time": "2025-05-06T15:32:35.712Z"
   },
   {
    "duration": 18,
    "start_time": "2025-05-06T15:32:35.913Z"
   },
   {
    "duration": 22,
    "start_time": "2025-05-06T15:32:35.932Z"
   },
   {
    "duration": 4,
    "start_time": "2025-05-06T15:32:35.957Z"
   },
   {
    "duration": 4,
    "start_time": "2025-05-06T15:32:35.963Z"
   },
   {
    "duration": 5,
    "start_time": "2025-05-06T15:32:35.969Z"
   },
   {
    "duration": 26,
    "start_time": "2025-05-06T15:32:35.976Z"
   },
   {
    "duration": 17,
    "start_time": "2025-05-06T15:32:36.004Z"
   },
   {
    "duration": 18,
    "start_time": "2025-05-06T15:32:36.024Z"
   },
   {
    "duration": 16,
    "start_time": "2025-05-06T15:32:36.061Z"
   },
   {
    "duration": 13,
    "start_time": "2025-05-06T15:32:36.079Z"
   },
   {
    "duration": 13,
    "start_time": "2025-05-06T15:32:36.094Z"
   },
   {
    "duration": 23,
    "start_time": "2025-05-06T15:32:36.111Z"
   },
   {
    "duration": 38,
    "start_time": "2025-05-06T15:32:36.135Z"
   },
   {
    "duration": 6,
    "start_time": "2025-05-06T15:32:36.175Z"
   },
   {
    "duration": 7,
    "start_time": "2025-05-06T15:32:36.183Z"
   },
   {
    "duration": 6,
    "start_time": "2025-05-06T15:32:36.193Z"
   },
   {
    "duration": 14,
    "start_time": "2025-05-06T15:32:36.201Z"
   },
   {
    "duration": 57,
    "start_time": "2025-05-06T15:32:36.260Z"
   },
   {
    "duration": 5,
    "start_time": "2025-05-06T15:32:36.319Z"
   },
   {
    "duration": 50,
    "start_time": "2025-05-06T15:32:36.326Z"
   },
   {
    "duration": 8,
    "start_time": "2025-05-06T15:32:36.378Z"
   },
   {
    "duration": 15,
    "start_time": "2025-05-06T15:32:36.388Z"
   },
   {
    "duration": 9,
    "start_time": "2025-05-06T15:32:36.405Z"
   },
   {
    "duration": 54,
    "start_time": "2025-05-06T15:32:36.415Z"
   },
   {
    "duration": 9,
    "start_time": "2025-05-06T15:32:36.472Z"
   },
   {
    "duration": 8,
    "start_time": "2025-05-06T15:32:36.483Z"
   },
   {
    "duration": 12,
    "start_time": "2025-05-06T15:32:36.493Z"
   },
   {
    "duration": 8,
    "start_time": "2025-05-06T15:32:36.507Z"
   },
   {
    "duration": 48,
    "start_time": "2025-05-06T15:32:36.517Z"
   },
   {
    "duration": 434,
    "start_time": "2025-05-07T04:01:06.269Z"
   },
   {
    "duration": 58,
    "start_time": "2025-05-07T04:01:06.759Z"
   },
   {
    "duration": 16,
    "start_time": "2025-05-07T04:01:08.586Z"
   },
   {
    "duration": 31,
    "start_time": "2025-05-07T04:01:09.821Z"
   },
   {
    "duration": 5,
    "start_time": "2025-05-07T04:01:19.009Z"
   },
   {
    "duration": 4,
    "start_time": "2025-05-07T04:01:19.848Z"
   },
   {
    "duration": 7,
    "start_time": "2025-05-07T04:01:22.243Z"
   },
   {
    "duration": 11,
    "start_time": "2025-05-07T04:56:52.767Z"
   },
   {
    "duration": 19,
    "start_time": "2025-05-07T04:58:27.271Z"
   },
   {
    "duration": 28,
    "start_time": "2025-05-07T04:58:47.048Z"
   },
   {
    "duration": 27,
    "start_time": "2025-05-07T05:01:45.749Z"
   },
   {
    "duration": 10,
    "start_time": "2025-05-07T05:01:48.995Z"
   },
   {
    "duration": 14,
    "start_time": "2025-05-07T05:01:54.283Z"
   },
   {
    "duration": 11,
    "start_time": "2025-05-07T05:01:57.287Z"
   },
   {
    "duration": 402,
    "start_time": "2025-05-07T05:27:14.552Z"
   },
   {
    "duration": 354,
    "start_time": "2025-05-07T05:28:46.849Z"
   },
   {
    "duration": 9,
    "start_time": "2025-05-07T05:29:29.528Z"
   },
   {
    "duration": 8,
    "start_time": "2025-05-07T05:29:36.989Z"
   },
   {
    "duration": 39,
    "start_time": "2025-05-07T05:29:39.627Z"
   },
   {
    "duration": 7,
    "start_time": "2025-05-07T05:29:54.407Z"
   },
   {
    "duration": 8,
    "start_time": "2025-05-07T05:29:55.089Z"
   },
   {
    "duration": 8,
    "start_time": "2025-05-07T05:29:57.187Z"
   },
   {
    "duration": 19,
    "start_time": "2025-05-07T05:29:59.588Z"
   },
   {
    "duration": 74,
    "start_time": "2025-05-07T05:30:05.496Z"
   },
   {
    "duration": 6,
    "start_time": "2025-05-07T05:30:22.907Z"
   },
   {
    "duration": 455,
    "start_time": "2025-05-07T05:31:41.107Z"
   },
   {
    "duration": 76,
    "start_time": "2025-05-07T05:31:42.146Z"
   },
   {
    "duration": 17,
    "start_time": "2025-05-07T05:31:43.999Z"
   },
   {
    "duration": 25,
    "start_time": "2025-05-07T05:31:47.015Z"
   },
   {
    "duration": 8,
    "start_time": "2025-05-07T05:32:57.242Z"
   },
   {
    "duration": 4,
    "start_time": "2025-05-07T05:32:58.249Z"
   },
   {
    "duration": 6,
    "start_time": "2025-05-07T05:32:58.967Z"
   },
   {
    "duration": 18,
    "start_time": "2025-05-07T05:33:14.667Z"
   },
   {
    "duration": 32,
    "start_time": "2025-05-07T05:33:17.927Z"
   },
   {
    "duration": 21,
    "start_time": "2025-05-07T05:33:18.679Z"
   },
   {
    "duration": 18,
    "start_time": "2025-05-07T05:33:28.968Z"
   },
   {
    "duration": 12,
    "start_time": "2025-05-07T05:33:30.319Z"
   },
   {
    "duration": 15,
    "start_time": "2025-05-07T05:33:32.627Z"
   },
   {
    "duration": 419,
    "start_time": "2025-05-07T05:33:42.549Z"
   },
   {
    "duration": 6,
    "start_time": "2025-05-07T05:33:53.108Z"
   },
   {
    "duration": 7,
    "start_time": "2025-05-07T05:33:57.107Z"
   },
   {
    "duration": 22,
    "start_time": "2025-05-07T05:34:00.956Z"
   },
   {
    "duration": 9,
    "start_time": "2025-05-07T05:34:09.866Z"
   },
   {
    "duration": 6,
    "start_time": "2025-05-07T05:34:10.387Z"
   },
   {
    "duration": 6,
    "start_time": "2025-05-07T05:34:11.168Z"
   },
   {
    "duration": 14,
    "start_time": "2025-05-07T05:34:12.388Z"
   },
   {
    "duration": 58,
    "start_time": "2025-05-07T05:34:20.049Z"
   },
   {
    "duration": 5,
    "start_time": "2025-05-07T05:34:25.389Z"
   },
   {
    "duration": 5,
    "start_time": "2025-05-07T05:40:33.427Z"
   },
   {
    "duration": 10,
    "start_time": "2025-05-07T05:41:21.410Z"
   },
   {
    "duration": 10,
    "start_time": "2025-05-07T05:41:45.473Z"
   },
   {
    "duration": 488,
    "start_time": "2025-05-07T05:43:09.288Z"
   },
   {
    "duration": 63,
    "start_time": "2025-05-07T05:43:11.704Z"
   },
   {
    "duration": 30,
    "start_time": "2025-05-07T05:43:13.875Z"
   },
   {
    "duration": 32,
    "start_time": "2025-05-07T05:43:17.084Z"
   },
   {
    "duration": 6,
    "start_time": "2025-05-07T05:43:23.583Z"
   },
   {
    "duration": 15,
    "start_time": "2025-05-07T05:43:24.166Z"
   },
   {
    "duration": 11,
    "start_time": "2025-05-07T05:43:24.668Z"
   },
   {
    "duration": 16,
    "start_time": "2025-05-07T05:43:31.185Z"
   },
   {
    "duration": 33,
    "start_time": "2025-05-07T05:43:39.463Z"
   },
   {
    "duration": 27,
    "start_time": "2025-05-07T05:43:41.064Z"
   },
   {
    "duration": 16,
    "start_time": "2025-05-07T05:43:47.670Z"
   },
   {
    "duration": 23,
    "start_time": "2025-05-07T05:43:49.543Z"
   },
   {
    "duration": 19,
    "start_time": "2025-05-07T05:43:50.775Z"
   },
   {
    "duration": 457,
    "start_time": "2025-05-07T05:43:58.746Z"
   },
   {
    "duration": 74,
    "start_time": "2025-05-07T05:49:40.745Z"
   },
   {
    "duration": 74,
    "start_time": "2025-05-07T05:49:56.311Z"
   },
   {
    "duration": 83,
    "start_time": "2025-05-07T05:50:21.602Z"
   },
   {
    "duration": 2,
    "start_time": "2025-05-07T05:50:35.372Z"
   },
   {
    "duration": 76,
    "start_time": "2025-05-07T05:50:35.727Z"
   },
   {
    "duration": 482,
    "start_time": "2025-05-07T05:50:45.122Z"
   },
   {
    "duration": 54,
    "start_time": "2025-05-07T05:50:45.606Z"
   },
   {
    "duration": 24,
    "start_time": "2025-05-07T05:50:46.559Z"
   },
   {
    "duration": 37,
    "start_time": "2025-05-07T05:50:48.531Z"
   },
   {
    "duration": 5,
    "start_time": "2025-05-07T05:50:52.226Z"
   },
   {
    "duration": 4,
    "start_time": "2025-05-07T05:50:53.774Z"
   },
   {
    "duration": 6,
    "start_time": "2025-05-07T05:50:54.077Z"
   },
   {
    "duration": 19,
    "start_time": "2025-05-07T05:50:57.562Z"
   },
   {
    "duration": 20,
    "start_time": "2025-05-07T05:51:00.085Z"
   },
   {
    "duration": 23,
    "start_time": "2025-05-07T05:51:00.569Z"
   },
   {
    "duration": 18,
    "start_time": "2025-05-07T05:51:03.452Z"
   },
   {
    "duration": 29,
    "start_time": "2025-05-07T05:51:04.733Z"
   },
   {
    "duration": 15,
    "start_time": "2025-05-07T05:51:05.399Z"
   },
   {
    "duration": 100,
    "start_time": "2025-05-07T05:51:09.644Z"
   },
   {
    "duration": 72,
    "start_time": "2025-05-07T05:51:20.436Z"
   },
   {
    "duration": 157,
    "start_time": "2025-05-07T05:51:27.006Z"
   },
   {
    "duration": 73,
    "start_time": "2025-05-07T05:51:32.586Z"
   },
   {
    "duration": 92,
    "start_time": "2025-05-07T06:00:28.773Z"
   },
   {
    "duration": 355,
    "start_time": "2025-05-07T06:00:51.983Z"
   },
   {
    "duration": 360,
    "start_time": "2025-05-07T06:01:47.502Z"
   },
   {
    "duration": 371,
    "start_time": "2025-05-07T06:05:47.266Z"
   },
   {
    "duration": 8,
    "start_time": "2025-05-07T06:05:52.486Z"
   },
   {
    "duration": 20,
    "start_time": "2025-05-07T06:06:01.623Z"
   },
   {
    "duration": 5,
    "start_time": "2025-05-07T06:06:09.406Z"
   },
   {
    "duration": 6,
    "start_time": "2025-05-07T06:06:09.782Z"
   },
   {
    "duration": 6,
    "start_time": "2025-05-07T06:06:10.066Z"
   },
   {
    "duration": 11,
    "start_time": "2025-05-07T06:06:11.206Z"
   },
   {
    "duration": 54,
    "start_time": "2025-05-07T06:06:15.487Z"
   },
   {
    "duration": 5,
    "start_time": "2025-05-07T06:06:19.867Z"
   },
   {
    "duration": 4,
    "start_time": "2025-05-07T06:07:41.025Z"
   },
   {
    "duration": 303,
    "start_time": "2025-05-07T06:11:07.475Z"
   },
   {
    "duration": 329,
    "start_time": "2025-05-07T06:11:46.735Z"
   },
   {
    "duration": 318,
    "start_time": "2025-05-07T06:12:13.815Z"
   },
   {
    "duration": 439,
    "start_time": "2025-05-07T06:12:49.754Z"
   },
   {
    "duration": 48,
    "start_time": "2025-05-07T06:12:50.836Z"
   },
   {
    "duration": 26,
    "start_time": "2025-05-07T06:12:52.054Z"
   },
   {
    "duration": 24,
    "start_time": "2025-05-07T06:12:53.902Z"
   },
   {
    "duration": 4,
    "start_time": "2025-05-07T06:12:56.783Z"
   },
   {
    "duration": 4,
    "start_time": "2025-05-07T06:12:57.643Z"
   },
   {
    "duration": 5,
    "start_time": "2025-05-07T06:12:58.022Z"
   },
   {
    "duration": 11,
    "start_time": "2025-05-07T06:13:01.383Z"
   },
   {
    "duration": 31,
    "start_time": "2025-05-07T06:13:03.747Z"
   },
   {
    "duration": 28,
    "start_time": "2025-05-07T06:13:05.735Z"
   },
   {
    "duration": 14,
    "start_time": "2025-05-07T06:13:13.163Z"
   },
   {
    "duration": 11,
    "start_time": "2025-05-07T06:13:13.794Z"
   },
   {
    "duration": 11,
    "start_time": "2025-05-07T06:13:14.994Z"
   },
   {
    "duration": 339,
    "start_time": "2025-05-07T06:13:20.063Z"
   },
   {
    "duration": 285,
    "start_time": "2025-05-07T06:13:38.772Z"
   },
   {
    "duration": 6,
    "start_time": "2025-05-07T06:13:43.783Z"
   },
   {
    "duration": 4,
    "start_time": "2025-05-07T06:13:46.403Z"
   },
   {
    "duration": 15,
    "start_time": "2025-05-07T06:13:47.822Z"
   },
   {
    "duration": 6,
    "start_time": "2025-05-07T06:13:56.063Z"
   },
   {
    "duration": 7,
    "start_time": "2025-05-07T06:13:56.343Z"
   },
   {
    "duration": 12,
    "start_time": "2025-05-07T06:13:56.642Z"
   },
   {
    "duration": 11,
    "start_time": "2025-05-07T06:13:57.223Z"
   },
   {
    "duration": 66,
    "start_time": "2025-05-07T06:13:59.863Z"
   },
   {
    "duration": 7,
    "start_time": "2025-05-07T06:14:03.123Z"
   },
   {
    "duration": 5,
    "start_time": "2025-05-07T06:14:56.143Z"
   },
   {
    "duration": 10,
    "start_time": "2025-05-07T06:15:07.263Z"
   },
   {
    "duration": 329,
    "start_time": "2025-05-07T06:16:15.183Z"
   },
   {
    "duration": 8,
    "start_time": "2025-05-07T06:18:49.675Z"
   },
   {
    "duration": 323,
    "start_time": "2025-05-07T06:19:20.983Z"
   },
   {
    "duration": 417,
    "start_time": "2025-05-07T06:19:35.947Z"
   },
   {
    "duration": 69,
    "start_time": "2025-05-07T06:19:37.060Z"
   },
   {
    "duration": 17,
    "start_time": "2025-05-07T06:19:38.947Z"
   },
   {
    "duration": 21,
    "start_time": "2025-05-07T06:19:40.148Z"
   },
   {
    "duration": 4,
    "start_time": "2025-05-07T06:19:43.576Z"
   },
   {
    "duration": 3,
    "start_time": "2025-05-07T06:19:44.108Z"
   },
   {
    "duration": 6,
    "start_time": "2025-05-07T06:19:44.587Z"
   },
   {
    "duration": 11,
    "start_time": "2025-05-07T06:19:48.188Z"
   },
   {
    "duration": 20,
    "start_time": "2025-05-07T06:19:49.975Z"
   },
   {
    "duration": 14,
    "start_time": "2025-05-07T06:19:50.968Z"
   },
   {
    "duration": 14,
    "start_time": "2025-05-07T06:19:54.356Z"
   },
   {
    "duration": 18,
    "start_time": "2025-05-07T06:19:54.969Z"
   },
   {
    "duration": 12,
    "start_time": "2025-05-07T06:19:56.435Z"
   },
   {
    "duration": 324,
    "start_time": "2025-05-07T06:20:03.296Z"
   },
   {
    "duration": 281,
    "start_time": "2025-05-07T06:21:01.447Z"
   },
   {
    "duration": 6,
    "start_time": "2025-05-07T06:21:04.907Z"
   },
   {
    "duration": 4,
    "start_time": "2025-05-07T06:21:11.987Z"
   },
   {
    "duration": 13,
    "start_time": "2025-05-07T06:21:14.296Z"
   },
   {
    "duration": 5,
    "start_time": "2025-05-07T06:21:30.035Z"
   },
   {
    "duration": 7,
    "start_time": "2025-05-07T06:21:31.540Z"
   },
   {
    "duration": 5,
    "start_time": "2025-05-07T06:21:31.867Z"
   },
   {
    "duration": 11,
    "start_time": "2025-05-07T06:21:32.828Z"
   },
   {
    "duration": 45,
    "start_time": "2025-05-07T06:21:35.444Z"
   },
   {
    "duration": 5,
    "start_time": "2025-05-07T06:21:42.495Z"
   },
   {
    "duration": 27,
    "start_time": "2025-05-07T06:27:27.267Z"
   },
   {
    "duration": 7,
    "start_time": "2025-05-07T06:30:17.127Z"
   },
   {
    "duration": 10,
    "start_time": "2025-05-07T06:32:42.675Z"
   },
   {
    "duration": 15,
    "start_time": "2025-05-07T06:32:43.255Z"
   },
   {
    "duration": 10,
    "start_time": "2025-05-07T06:32:49.067Z"
   },
   {
    "duration": 16,
    "start_time": "2025-05-07T06:32:50.140Z"
   },
   {
    "duration": 7,
    "start_time": "2025-05-07T06:32:52.215Z"
   },
   {
    "duration": 9,
    "start_time": "2025-05-07T06:32:52.839Z"
   },
   {
    "duration": 10,
    "start_time": "2025-05-07T06:32:55.187Z"
   },
   {
    "duration": 9,
    "start_time": "2025-05-07T06:32:56.768Z"
   },
   {
    "duration": 11,
    "start_time": "2025-05-07T06:32:57.056Z"
   },
   {
    "duration": 439,
    "start_time": "2025-05-07T07:22:49.120Z"
   },
   {
    "duration": 57,
    "start_time": "2025-05-07T07:22:49.561Z"
   },
   {
    "duration": 17,
    "start_time": "2025-05-07T07:22:49.619Z"
   },
   {
    "duration": 21,
    "start_time": "2025-05-07T07:22:49.638Z"
   },
   {
    "duration": 4,
    "start_time": "2025-05-07T07:22:49.661Z"
   },
   {
    "duration": 15,
    "start_time": "2025-05-07T07:22:49.667Z"
   },
   {
    "duration": 8,
    "start_time": "2025-05-07T07:22:49.683Z"
   },
   {
    "duration": 25,
    "start_time": "2025-05-07T07:22:49.693Z"
   },
   {
    "duration": 27,
    "start_time": "2025-05-07T07:22:49.720Z"
   },
   {
    "duration": 13,
    "start_time": "2025-05-07T07:22:49.749Z"
   },
   {
    "duration": 11,
    "start_time": "2025-05-07T07:22:49.763Z"
   },
   {
    "duration": 12,
    "start_time": "2025-05-07T07:22:49.775Z"
   },
   {
    "duration": 10,
    "start_time": "2025-05-07T07:22:49.788Z"
   },
   {
    "duration": 335,
    "start_time": "2025-05-07T07:22:49.799Z"
   },
   {
    "duration": 6,
    "start_time": "2025-05-07T07:22:50.139Z"
   },
   {
    "duration": 3,
    "start_time": "2025-05-07T07:22:50.147Z"
   },
   {
    "duration": 12,
    "start_time": "2025-05-07T07:22:50.152Z"
   },
   {
    "duration": 5,
    "start_time": "2025-05-07T07:22:50.166Z"
   },
   {
    "duration": 4,
    "start_time": "2025-05-07T07:22:50.173Z"
   },
   {
    "duration": 5,
    "start_time": "2025-05-07T07:22:50.179Z"
   },
   {
    "duration": 16,
    "start_time": "2025-05-07T07:22:50.185Z"
   },
   {
    "duration": 80,
    "start_time": "2025-05-07T07:22:50.203Z"
   },
   {
    "duration": 28,
    "start_time": "2025-05-07T07:22:50.285Z"
   },
   {
    "duration": 29,
    "start_time": "2025-05-07T07:22:50.315Z"
   },
   {
    "duration": 6,
    "start_time": "2025-05-07T07:22:50.346Z"
   },
   {
    "duration": 11,
    "start_time": "2025-05-07T07:22:50.353Z"
   },
   {
    "duration": 18,
    "start_time": "2025-05-07T07:22:50.366Z"
   },
   {
    "duration": 9,
    "start_time": "2025-05-07T07:22:50.388Z"
   },
   {
    "duration": 32,
    "start_time": "2025-05-07T07:22:50.398Z"
   },
   {
    "duration": 9,
    "start_time": "2025-05-07T07:22:50.439Z"
   },
   {
    "duration": 11,
    "start_time": "2025-05-07T07:22:50.450Z"
   },
   {
    "duration": 12,
    "start_time": "2025-05-07T07:22:50.462Z"
   },
   {
    "duration": 6,
    "start_time": "2025-05-07T07:22:50.476Z"
   },
   {
    "duration": 19,
    "start_time": "2025-05-07T07:22:50.483Z"
   }
  ],
  "colab": {
   "provenance": []
  },
  "kernelspec": {
   "display_name": "Python 3 (ipykernel)",
   "language": "python",
   "name": "python3"
  },
  "language_info": {
   "codemirror_mode": {
    "name": "ipython",
    "version": 3
   },
   "file_extension": ".py",
   "mimetype": "text/x-python",
   "name": "python",
   "nbconvert_exporter": "python",
   "pygments_lexer": "ipython3",
   "version": "3.9.5"
  },
  "toc": {
   "base_numbering": 1,
   "nav_menu": {},
   "number_sections": true,
   "sideBar": true,
   "skip_h1_title": true,
   "title_cell": "Table of Contents",
   "title_sidebar": "Contents",
   "toc_cell": false,
   "toc_position": {},
   "toc_section_display": true,
   "toc_window_display": false
  }
 },
 "nbformat": 4,
 "nbformat_minor": 5
}
